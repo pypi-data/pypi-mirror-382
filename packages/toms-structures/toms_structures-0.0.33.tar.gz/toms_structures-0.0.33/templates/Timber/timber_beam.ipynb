{
 "cells": [
  {
   "cell_type": "markdown",
   "id": "6c79d8d2",
   "metadata": {},
   "source": [
    "# Timber Beam Design"
   ]
  },
  {
   "cell_type": "markdown",
   "id": "75db04cf",
   "metadata": {},
   "source": [
    "[Screenshot showing Location of Beam]"
   ]
  }
 ],
 "metadata": {
  "language_info": {
   "name": "python"
  }
 },
 "nbformat": 4,
 "nbformat_minor": 5
}
