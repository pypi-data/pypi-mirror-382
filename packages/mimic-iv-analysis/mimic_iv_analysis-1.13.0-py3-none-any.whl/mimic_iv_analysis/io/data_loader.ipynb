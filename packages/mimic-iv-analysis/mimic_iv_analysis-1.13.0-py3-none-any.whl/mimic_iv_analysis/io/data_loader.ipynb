{
 "cells": [
  {
   "cell_type": "code",
   "execution_count": 6,
   "id": "3b47f7ec",
   "metadata": {},
   "outputs": [],
   "source": [
    "%load_ext autoreload\n",
    "%autoreload 2\n",
    "\n",
    "from mimic_iv_analysis.io import DataLoader, TableNames\n",
    "import pandas as pd\n",
    "import dask.dataframe as dd"
   ]
  },
  {
   "cell_type": "code",
   "execution_count": 5,
   "id": "47f1fd00",
   "metadata": {},
   "outputs": [],
   "source": [
    "# loader = DataLoader(apply_filtering=True)\n",
    "# study_tables = loader.fetch_complete_study_tables()"
   ]
  },
  {
   "cell_type": "code",
   "execution_count": 3,
   "id": "a9b2174a",
   "metadata": {},
   "outputs": [],
   "source": [
    "# admissions_df = study_tables[TableNames.ADMISSIONS.value]\n",
    "# labevents_df = study_tables[TableNames.LABEVENTS.value]\n",
    "\n",
    "# unique_subject_ids = loader.get_unique_subject_ids()\n",
    "\n",
    "\n",
    "# from mimic_iv_analysis.configurations.params import ColumnNames\n",
    "\n",
    "\n",
    "# # Cast merge columns to consistent data types to avoid warnings\n",
    "# merge_columns = [ColumnNames.SUBJECT_ID.value, ColumnNames.HADM_ID.value]\n",
    "# for col in merge_columns:\n",
    "#     if col in admissions_df.columns:\n",
    "#         admissions_df[col] = admissions_df[col].astype('Int64')\n",
    "#     if col in labevents_df.columns:\n",
    "#         labevents_df[col] = labevents_df[col].astype('nt64')\n",
    "\n",
    "# # For Dask, use map_partitions for efficiency\n",
    "# def filter_temporal(partition):\n",
    "#     return partition[\n",
    "#         (partition[ColumnNames.CHARTTIME.value] >= partition[ColumnNames.ADMITTIME.value] - buffer) &\n",
    "#         (partition[ColumnNames.CHARTTIME.value] <= partition[ColumnNames.DISCHTIME.value] + buffer)\n",
    "#     ]\n",
    "# result = merged.map_partitions(filter_temporal)\n",
    "# # admis_lab = admissions_df.merge(labevents_df, on=merge_columns, how='inner')\n",
    "\n",
    "# print (f\"admissions_df shape: {admissions_df.shape[0].compute()}\")\n",
    "# print (f\"labevents_df shape: {labevents_df.shape[0].compute()}\")\n",
    "# print (f\"admis_lab shape: {admis_lab.shape[0].compute()}\")\n"
   ]
  },
  {
   "cell_type": "code",
   "execution_count": 7,
   "id": "d441f852",
   "metadata": {},
   "outputs": [
    {
     "data": {
      "text/html": [
       "<pre style=\"white-space:pre;overflow-x:auto;line-height:normal;font-family:Menlo,'DejaVu Sans Mono',consolas,'Courier New',monospace\"><span style=\"color: #7fbfbf; text-decoration-color: #7fbfbf\">[18:42:22] </span><span style=\"color: #000080; text-decoration-color: #000080\">INFO    </span> Using dask operations for hadm_id2 assignment                               <span style=\"color: #7f7f7f; text-decoration-color: #7f7f7f\">data_loader.py:1113</span>\n",
       "</pre>\n"
      ],
      "text/plain": [
       "\u001b[2;36m[18:42:22]\u001b[0m\u001b[2;36m \u001b[0m\u001b[34mINFO    \u001b[0m Using dask operations for hadm_id2 assignment                               \u001b[2mdata_loader.py:1113\u001b[0m\n"
      ]
     },
     "metadata": {},
     "output_type": "display_data"
    }
   ],
   "source": [
    "labevents2 = DataLoader.fix_labevents_hadm_id()"
   ]
  },
  {
   "cell_type": "code",
   "execution_count": 9,
   "id": "97f75ee0",
   "metadata": {},
   "outputs": [
    {
     "ename": "KeyError",
     "evalue": "'charttime'",
     "output_type": "error",
     "traceback": [
      "\u001b[31m---------------------------------------------------------------------------\u001b[39m",
      "\u001b[31mKeyError\u001b[39m                                  Traceback (most recent call last)",
      "\u001b[36mFile \u001b[39m\u001b[32m~/Documents/GitHubs/RAP/mimic__pankaj/mimic_iv_code/.venv/lib/python3.12/site-packages/pandas/core/indexes/base.py:3805\u001b[39m, in \u001b[36mIndex.get_loc\u001b[39m\u001b[34m(self, key)\u001b[39m\n\u001b[32m   3804\u001b[39m \u001b[38;5;28;01mtry\u001b[39;00m:\n\u001b[32m-> \u001b[39m\u001b[32m3805\u001b[39m     \u001b[38;5;28;01mreturn\u001b[39;00m \u001b[38;5;28;43mself\u001b[39;49m\u001b[43m.\u001b[49m\u001b[43m_engine\u001b[49m\u001b[43m.\u001b[49m\u001b[43mget_loc\u001b[49m\u001b[43m(\u001b[49m\u001b[43mcasted_key\u001b[49m\u001b[43m)\u001b[49m\n\u001b[32m   3806\u001b[39m \u001b[38;5;28;01mexcept\u001b[39;00m \u001b[38;5;167;01mKeyError\u001b[39;00m \u001b[38;5;28;01mas\u001b[39;00m err:\n",
      "\u001b[36mFile \u001b[39m\u001b[32mindex.pyx:167\u001b[39m, in \u001b[36mpandas._libs.index.IndexEngine.get_loc\u001b[39m\u001b[34m()\u001b[39m\n",
      "\u001b[36mFile \u001b[39m\u001b[32mindex.pyx:196\u001b[39m, in \u001b[36mpandas._libs.index.IndexEngine.get_loc\u001b[39m\u001b[34m()\u001b[39m\n",
      "\u001b[36mFile \u001b[39m\u001b[32mpandas/_libs/hashtable_class_helper.pxi:7081\u001b[39m, in \u001b[36mpandas._libs.hashtable.PyObjectHashTable.get_item\u001b[39m\u001b[34m()\u001b[39m\n",
      "\u001b[36mFile \u001b[39m\u001b[32mpandas/_libs/hashtable_class_helper.pxi:7089\u001b[39m, in \u001b[36mpandas._libs.hashtable.PyObjectHashTable.get_item\u001b[39m\u001b[34m()\u001b[39m\n",
      "\u001b[31mKeyError\u001b[39m: 'charttime'",
      "\nThe above exception was the direct cause of the following exception:\n",
      "\u001b[31mKeyError\u001b[39m                                  Traceback (most recent call last)",
      "\u001b[36mCell\u001b[39m\u001b[36m \u001b[39m\u001b[32mIn[9]\u001b[39m\u001b[32m, line 1\u001b[39m\n\u001b[32m----> \u001b[39m\u001b[32m1\u001b[39m \u001b[43mlabevents2\u001b[49m\u001b[43m.\u001b[49m\u001b[43mshape\u001b[49m\u001b[43m[\u001b[49m\u001b[32;43m0\u001b[39;49m\u001b[43m]\u001b[49m\u001b[43m.\u001b[49m\u001b[43mcompute\u001b[49m\u001b[43m(\u001b[49m\u001b[43m)\u001b[49m\n",
      "\u001b[36mFile \u001b[39m\u001b[32m~/Documents/GitHubs/RAP/mimic__pankaj/mimic_iv_code/.venv/lib/python3.12/site-packages/dask/base.py:373\u001b[39m, in \u001b[36mDaskMethodsMixin.compute\u001b[39m\u001b[34m(self, **kwargs)\u001b[39m\n\u001b[32m    349\u001b[39m \u001b[38;5;28;01mdef\u001b[39;00m\u001b[38;5;250m \u001b[39m\u001b[34mcompute\u001b[39m(\u001b[38;5;28mself\u001b[39m, **kwargs):\n\u001b[32m    350\u001b[39m \u001b[38;5;250m    \u001b[39m\u001b[33;03m\"\"\"Compute this dask collection\u001b[39;00m\n\u001b[32m    351\u001b[39m \n\u001b[32m    352\u001b[39m \u001b[33;03m    This turns a lazy Dask collection into its in-memory equivalent.\u001b[39;00m\n\u001b[32m   (...)\u001b[39m\u001b[32m    371\u001b[39m \u001b[33;03m    dask.compute\u001b[39;00m\n\u001b[32m    372\u001b[39m \u001b[33;03m    \"\"\"\u001b[39;00m\n\u001b[32m--> \u001b[39m\u001b[32m373\u001b[39m     (result,) = \u001b[43mcompute\u001b[49m\u001b[43m(\u001b[49m\u001b[38;5;28;43mself\u001b[39;49m\u001b[43m,\u001b[49m\u001b[43m \u001b[49m\u001b[43mtraverse\u001b[49m\u001b[43m=\u001b[49m\u001b[38;5;28;43;01mFalse\u001b[39;49;00m\u001b[43m,\u001b[49m\u001b[43m \u001b[49m\u001b[43m*\u001b[49m\u001b[43m*\u001b[49m\u001b[43mkwargs\u001b[49m\u001b[43m)\u001b[49m\n\u001b[32m    374\u001b[39m     \u001b[38;5;28;01mreturn\u001b[39;00m result\n",
      "\u001b[36mFile \u001b[39m\u001b[32m~/Documents/GitHubs/RAP/mimic__pankaj/mimic_iv_code/.venv/lib/python3.12/site-packages/dask/base.py:681\u001b[39m, in \u001b[36mcompute\u001b[39m\u001b[34m(traverse, optimize_graph, scheduler, get, *args, **kwargs)\u001b[39m\n\u001b[32m    678\u001b[39m     expr = expr.optimize()\n\u001b[32m    679\u001b[39m     keys = \u001b[38;5;28mlist\u001b[39m(flatten(expr.__dask_keys__()))\n\u001b[32m--> \u001b[39m\u001b[32m681\u001b[39m     results = \u001b[43mschedule\u001b[49m\u001b[43m(\u001b[49m\u001b[43mexpr\u001b[49m\u001b[43m,\u001b[49m\u001b[43m \u001b[49m\u001b[43mkeys\u001b[49m\u001b[43m,\u001b[49m\u001b[43m \u001b[49m\u001b[43m*\u001b[49m\u001b[43m*\u001b[49m\u001b[43mkwargs\u001b[49m\u001b[43m)\u001b[49m\n\u001b[32m    683\u001b[39m \u001b[38;5;28;01mreturn\u001b[39;00m repack(results)\n",
      "\u001b[36mFile \u001b[39m\u001b[32m~/Documents/GitHubs/RAP/mimic__pankaj/mimic_iv_code/mimic_iv_analysis/io/data_loader.py:1073\u001b[39m, in \u001b[36mDataLoader.fix_labevents_hadm_id.<locals>.assign_hadm_id2_map_partitions.<locals>.process_partition\u001b[39m\u001b[34m(labevents_partition, admissions_full)\u001b[39m\n\u001b[32m   1064\u001b[39m subject_cross_join = subject_labevents.merge(\n\u001b[32m   1065\u001b[39m \tsubject_admissions,\n\u001b[32m   1066\u001b[39m \ton=ColumnNames.SUBJECT_ID.value,\n\u001b[32m   1067\u001b[39m \thow=\u001b[33m'\u001b[39m\u001b[33minner\u001b[39m\u001b[33m'\u001b[39m,\n\u001b[32m   1068\u001b[39m \tsuffixes=(\u001b[33m'\u001b[39m\u001b[33m_lab\u001b[39m\u001b[33m'\u001b[39m, \u001b[33m'\u001b[39m\u001b[33m_adm\u001b[39m\u001b[33m'\u001b[39m)\n\u001b[32m   1069\u001b[39m )\n\u001b[32m   1071\u001b[39m \u001b[38;5;66;03m# Filter by time window (with buffer)\u001b[39;00m\n\u001b[32m   1072\u001b[39m time_mask = (\n\u001b[32m-> \u001b[39m\u001b[32m1073\u001b[39m \t(\u001b[43msubject_cross_join\u001b[49m\u001b[43m[\u001b[49m\u001b[43mColumnNames\u001b[49m\u001b[43m.\u001b[49m\u001b[43mCHARTTIME\u001b[49m\u001b[43m.\u001b[49m\u001b[43mvalue\u001b[49m\u001b[43m]\u001b[49m >= subject_cross_join[ColumnNames.ADMITTIME.value] - buffer) &\n\u001b[32m   1074\u001b[39m \t(subject_cross_join[ColumnNames.CHARTTIME.value] <= subject_cross_join[ColumnNames.DISCHTIME.value] + buffer)\n\u001b[32m   1075\u001b[39m )\n\u001b[32m   1077\u001b[39m valid_matches = subject_cross_join[time_mask]\n\u001b[32m   1079\u001b[39m \u001b[38;5;28;01mif\u001b[39;00m valid_matches.empty:\n",
      "\u001b[36mFile \u001b[39m\u001b[32m~/Documents/GitHubs/RAP/mimic__pankaj/mimic_iv_code/.venv/lib/python3.12/site-packages/pandas/core/indexes/base.py:3812\u001b[39m, in \u001b[36mIndex.get_loc\u001b[39m\u001b[34m(self, key)\u001b[39m\n\u001b[32m   3807\u001b[39m     \u001b[38;5;28;01mif\u001b[39;00m \u001b[38;5;28misinstance\u001b[39m(casted_key, \u001b[38;5;28mslice\u001b[39m) \u001b[38;5;129;01mor\u001b[39;00m (\n\u001b[32m   3808\u001b[39m         \u001b[38;5;28misinstance\u001b[39m(casted_key, abc.Iterable)\n\u001b[32m   3809\u001b[39m         \u001b[38;5;129;01mand\u001b[39;00m \u001b[38;5;28many\u001b[39m(\u001b[38;5;28misinstance\u001b[39m(x, \u001b[38;5;28mslice\u001b[39m) \u001b[38;5;28;01mfor\u001b[39;00m x \u001b[38;5;129;01min\u001b[39;00m casted_key)\n\u001b[32m   3810\u001b[39m     ):\n\u001b[32m   3811\u001b[39m         \u001b[38;5;28;01mraise\u001b[39;00m InvalidIndexError(key)\n\u001b[32m-> \u001b[39m\u001b[32m3812\u001b[39m     \u001b[38;5;28;01mraise\u001b[39;00m \u001b[38;5;167;01mKeyError\u001b[39;00m(key) \u001b[38;5;28;01mfrom\u001b[39;00m\u001b[38;5;250m \u001b[39m\u001b[34;01merr\u001b[39;00m\n\u001b[32m   3813\u001b[39m \u001b[38;5;28;01mexcept\u001b[39;00m \u001b[38;5;167;01mTypeError\u001b[39;00m:\n\u001b[32m   3814\u001b[39m     \u001b[38;5;66;03m# If we have a listlike key, _check_indexing_error will raise\u001b[39;00m\n\u001b[32m   3815\u001b[39m     \u001b[38;5;66;03m#  InvalidIndexError. Otherwise we fall through and re-raise\u001b[39;00m\n\u001b[32m   3816\u001b[39m     \u001b[38;5;66;03m#  the TypeError.\u001b[39;00m\n\u001b[32m   3817\u001b[39m     \u001b[38;5;28mself\u001b[39m._check_indexing_error(key)\n",
      "\u001b[31mKeyError\u001b[39m: 'charttime'"
     ]
    }
   ],
   "source": [
    "labevents2.shape[0].compute()"
   ]
  },
  {
   "cell_type": "code",
   "execution_count": null,
   "id": "6e55c6bd",
   "metadata": {},
   "outputs": [],
   "source": []
  }
 ],
 "metadata": {
  "kernelspec": {
   "display_name": ".venv",
   "language": "python",
   "name": "python3"
  },
  "language_info": {
   "codemirror_mode": {
    "name": "ipython",
    "version": 3
   },
   "file_extension": ".py",
   "mimetype": "text/x-python",
   "name": "python",
   "nbconvert_exporter": "python",
   "pygments_lexer": "ipython3",
   "version": "3.12.11"
  }
 },
 "nbformat": 4,
 "nbformat_minor": 5
}
