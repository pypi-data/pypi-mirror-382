{
 "cells": [
  {
   "cell_type": "markdown",
   "id": "c19c6aa8",
   "metadata": {},
   "source": [
    "# Backport a single catalog into a collection\n",
    "\n",
    "In this notebook, we show a method for taking a directory containg a catalog and some supplemental tables, and turn that into a catalog collection.\n",
    "\n",
    "NB: This does **not** modify the original catalog, or the supplemental tables.\n",
    "\n",
    "The first case is for an existing directory in the expected format, while the second gives instructions for moving directories around to get to the desired format."
   ]
  },
  {
   "cell_type": "markdown",
   "id": "09381e6e",
   "metadata": {},
   "source": [
    "## 1. Existing directory in the expected format.\n",
    "\n",
    "If your existing data follows the following convention, use this section to create the `catalog/collection.properties` file within the existing directory structure.\n",
    "\n",
    "```\n",
    "/path/to/catalog/                  # collection_path\n",
    "├── main_catalog/                  # catalog_subdir\n",
    "│   ├── dataset/\n",
    "│   ├── partition_info.csv\n",
    "│   ├── point_map.fits\n",
    "│   └── properties\n",
    "├── id_index/                      # value of index_paths[\"id\"]\n",
    "│   ├── dataset/\n",
    "│   └── properties\n",
    "├── margin_1deg/                   # in margin_paths\n",
    "│   ├── dataset/\n",
    "│   ├── partition_info.csv\n",
    "│   └── properties\n",
    "└── margin_20deg/                  # in margin_paths\n",
    "    ├── dataset/\n",
    "    ├── partition_info.csv\n",
    "    └── properties\n",
    "```\n"
   ]
  },
  {
   "cell_type": "code",
   "execution_count": 1,
   "id": "1d525d16",
   "metadata": {},
   "outputs": [],
   "source": [
    "## Set these values based on the paths / subdirectory names shown above\n",
    "## Or SET TO NONE if there's nothing relevant.\n",
    "\n",
    "collection_path = \"/data3/epyc/data3/hats/catalogs/\"\n",
    "catalog_subdir = \"main_catalog\"\n",
    "margin_paths = [\"margin_1deg\", \"margin_20deg\"]\n",
    "default_margin = \"margin_1deg\"\n",
    "index_paths = {\"id\": \"id_index\"}\n",
    "\n",
    "## This is a human-readable name of the collection, often the survey or data release.\n",
    "collection_name = \"survey_drK\""
   ]
  },
  {
   "cell_type": "code",
   "execution_count": 2,
   "id": "29115e46",
   "metadata": {},
   "outputs": [],
   "source": [
    "from hats.catalog.dataset.collection_properties import CollectionProperties\n",
    "\n",
    "info = {\"obs_collection\": collection_name}\n",
    "info[\"hats_primary_table_url\"] = catalog_subdir\n",
    "if margin_paths:\n",
    "    info[\"all_margins\"] = margin_paths\n",
    "if default_margin:\n",
    "    info[\"default_margin\"] = default_margin\n",
    "\n",
    "if index_paths:\n",
    "    info[\"all_indexes\"] = index_paths\n",
    "\n",
    "properties = CollectionProperties(**info)\n",
    "properties.to_properties_file(collection_path)"
   ]
  },
  {
   "cell_type": "markdown",
   "id": "f5f61c41",
   "metadata": {},
   "source": [
    "## 2. Inserting collection in place of catalog\n",
    "\n",
    "This is a slightly different case.\n",
    "\n",
    "Here, you have a single catalog, but would like that same URI to point to a catalog collection instead. Once the collection has been inserted, the same URI can be used to either access the catalog, or the single individual object catalog it contains.\n",
    "\n",
    "**Step 2.1.** Starting condition:\n",
    "```\n",
    "catalog/\n",
    "├── dataset/\n",
    "├── partition_info.csv\n",
    "├── point_map.fits\n",
    "└── properties\n",
    "```\n",
    "**Step 2.2.** Insert a placeholder directory for the catalog:\n",
    "```bash\n",
    "> mkdir catalog\n",
    "```\n",
    "\n",
    "```\n",
    "catalog/\n",
    "├── catalog/\n",
    "├── dataset/\n",
    "├── partition_info.csv\n",
    "├── point_map.fits\n",
    "└── properties\n",
    "```\n",
    "**Step 2.3.** Move the full contents of the catalog into the new placeholder:\n",
    "```bash\n",
    "> mv * catalog/\n",
    "```\n",
    "Noting that the above will not move the `catalog` subdirectory, and you'll get an error like `cannot move ‘catalog’ to a subdirectory of itself, ‘./catalog/catalog’`, but that's ok\n",
    "\n",
    "```\n",
    "catalog/\n",
    "└── catalog/\n",
    "    ├── dataset\n",
    "    ├── partition_info.csv\n",
    "    ├── point_map.fits\n",
    "    └── properties\n",
    "```\n",
    "**Step 2.4.** Create `collection.properties`:\n",
    "\n",
    "Use the next two cells to create the file with minimal contents.\n",
    "```\n",
    "catalog/\n",
    "├── collection.properties\n",
    "└── catalog/\n",
    "    ├── dataset\n",
    "    ├── partition_info.csv\n",
    "    ├── point_map.fits\n",
    "    └── properties\n",
    "```"
   ]
  },
  {
   "cell_type": "code",
   "execution_count": 3,
   "id": "57465675",
   "metadata": {},
   "outputs": [],
   "source": [
    "collection_path = \"/data3/epyc/data3/hats/catalogs/skymapper/sky_mapper_dr4\"\n",
    "catalog_subdir = \"catalog\"\n",
    "\n",
    "## This is a human-readable name of the collection, often the survey or data release.\n",
    "collection_name = \"sky_mapper_dr4\""
   ]
  },
  {
   "cell_type": "code",
   "execution_count": 4,
   "id": "dd790481",
   "metadata": {},
   "outputs": [],
   "source": [
    "from hats.catalog.dataset.collection_properties import CollectionProperties\n",
    "\n",
    "properties = CollectionProperties(obs_collection=collection_name, hats_primary_table_url=catalog_subdir)\n",
    "properties.to_properties_file(collection_path)"
   ]
  },
  {
   "cell_type": "markdown",
   "id": "8eee37f2",
   "metadata": {},
   "source": [
    "## 3. Check your collection\n",
    "\n",
    "Regardless of how you get here, it's a good idea to check that your catalog collection can be loaded just like any other catalog via LSDB."
   ]
  },
  {
   "cell_type": "code",
   "execution_count": 5,
   "id": "5259e0cd",
   "metadata": {},
   "outputs": [],
   "source": [
    "import lsdb\n",
    "\n",
    "new_collection = lsdb.read_hats(collection_path)\n",
    "assert new_collection.hc_collection"
   ]
  },
  {
   "cell_type": "code",
   "execution_count": 6,
   "id": "4c781997",
   "metadata": {},
   "outputs": [],
   "source": [
    "## if you added any margins, this will be the list of all margins\n",
    "new_collection.hc_collection.all_margins"
   ]
  },
  {
   "cell_type": "code",
   "execution_count": 7,
   "id": "692463cd",
   "metadata": {},
   "outputs": [],
   "source": [
    "## if you added any indexes, this will be the map of field -> index table\n",
    "new_collection.hc_collection.all_indexes"
   ]
  }
 ],
 "metadata": {
  "kernelspec": {
   "display_name": "DeLucchi HATS",
   "language": "python",
   "name": "hatsenv"
  },
  "language_info": {
   "codemirror_mode": {
    "name": "ipython",
    "version": 3
   },
   "file_extension": ".py",
   "mimetype": "text/x-python",
   "name": "python",
   "nbconvert_exporter": "python",
   "pygments_lexer": "ipython3",
   "version": "3.12.9"
  }
 },
 "nbformat": 4,
 "nbformat_minor": 5
}
