{
 "cells": [
  {
   "metadata": {},
   "cell_type": "markdown",
   "source": [
    "# Overview\n",
    "\n",
    "Welcome to the world of `braincell`!\n",
    "\n",
    "This section provides a brief introduction to some of the key concepts and modeling features of the `braincell` framework.\n",
    "\n",
    "`braincell` is a high-performance computing framework specifically designed for neuron modeling, built on top of [JAX](https://github.com/jax-ml/jax) and [brainstate](https://brainstate.readthedocs.io/). It offers a comprehensive toolchain for neuroscientists, computational neuroscientists, and neuromorphic computing engineers to construct, simulate, and optimize electrophysiologically precise models ranging from ion channels to multi-scale neural networks. The framework integrates advanced features such as modern hardware acceleration and automatic differentiation. The following tutorials will walk you through its layered architecture and core functionalities, helping you quickly understand the design logic behind `braincell`."
   ],
   "id": "e571568bcb9e1b01"
  },
  {
   "metadata": {
    "jupyter": {
     "is_executing": true
    }
   },
   "cell_type": "code",
   "source": [
    "import brainunit as u\n",
    "import braincell\n",
    "import brainstate\n",
    "import matplotlib.pyplot as plt"
   ],
   "id": "87d352fb92e4aeb6",
   "outputs": [],
   "execution_count": null
  },
  {
   "metadata": {},
   "cell_type": "markdown",
   "source": [
    "## Hierarchical Architecture\n",
    "\n",
    "In neuron modeling, models are typically divided into the following major levels based on structural complexity and functional hierarchy:\n",
    "\n",
    "- `Channel`\n",
    "- `Ion`\n",
    "- `Cell`\n",
    "\n",
    "`braincell` focuses on precise neuronal dynamics modeling at these three levels.\n",
    "- `Channel`: Ion channels on the membrane, controlling the permeability of specific ions and determining the flow of ionic currents.\n",
    "- `Ion`: The fundamental charged particles, such as Na⁺, K⁺, and Ca²⁺, that drive changes in membrane potential.\n",
    "- `Cell`: The basic modeling unit of a single neuron, integrating multiple channels to produce membrane potential dynamics.\n",
    "\n",
    "Taking the Hodgkin–Huxley (HH) neuron as an example, the relationship among these three levels can be illustrated as follows:\n",
    "\n",
    "![Hierarchical Structure](../_static/structure-en.png)\n",
    "\n",
    "From this diagram, it is clear that `Channel`, `Ion`, and `Cell` are tightly interconnected. Biologically, these three levels form the fundamental mechanisms underlying neuronal electrical activity:\n",
    "- A neuron `Cell` is surrounded by a cell membrane populated with various ion `Channel`s.\n",
    "- Ion `Channel`s regulate the flow of different `Ion`s across the membrane.\n",
    "- The movement of `Ion`s changes the potential difference across the membrane, thereby driving neuronal electrical activity.\n",
    "\n",
    "Together, these levels provide a complete modeling pathway from microscopic mechanisms to macroscopic dynamics of neurons.\n",
    "\n",
    "## Core Features\n",
    "\n",
    "The main features of `braincell` include:\n",
    "- Ion channel modeling: Support for constructing electrophysiologically precise ion channel models using modular components.\n",
    "- Ion modeling: Support for modular construction of ion dynamics models.\n",
    "- Neuron modeling: Support for single-compartment and multi-compartment neuron models based on the HH framework.\n",
    "- Differential equation solvers: High-performance solvers built on [JAX](https://github.com/jax-ml/jax).\n",
    "\n",
    "In the following sections, we will explore how to use and optimize these features, helping you build models ranging from complete neurons down to fine-grained ion mechanisms, and fully leverage the modeling capabilities of `braincell`.\n",
    "\n",
    "## Single-Compartment Neuron Modeling\n",
    "\n",
    "We now turn to how `braincell` can be used to construct neuron models.\n",
    "\n",
    "Below is an example of building an HH neuron using `braincell`:"
   ],
   "id": "142813589187e43f"
  },
  {
   "metadata": {},
   "cell_type": "code",
   "outputs": [],
   "execution_count": null,
   "source": [
    "class HH(braincell.SingleCompartment):\n",
    "    def __init__(self, in_size):\n",
    "        super().__init__(in_size, C=Cm, solver='ind_exp_euler')\n",
    "\n",
    "        self.na = braincell.ion.SodiumFixed(in_size, E=50. * u.mV)\n",
    "        self.na.add(\n",
    "            INa=braincell.channel.INa_TM1991(in_size, g_max=(100. * u.mS * u.cm **-2) * area, V_sh=-63. * u.mV)\n",
    "        )\n",
    "\n",
    "        self.k = braincell.ion.PotassiumFixed(in_size, E=-90 * u.mV)\n",
    "        self.k.add(\n",
    "            IK=braincell.channel.IK_TM1991(in_size, g_max=(30. * u.mS * u.cm** -2) * area, V_sh=-63. * u.mV)\n",
    "        )\n",
    "\n",
    "        self.IL = braincell.channel.IL(\n",
    "            in_size,\n",
    "            E=-60. * u.mV,\n",
    "            g_max=(5. * u.nS * u.cm **-2) * area\n",
    "        )"
   ],
   "id": "53b36fddde644d3d"
  },
  {
   "metadata": {},
   "cell_type": "markdown",
   "source": [
    "We construct the `HH` neuron model by inheriting from `SingleCompartment`, which represents a single-compartment neuron.\n",
    "`SingleCompartment` itself is the base class for all single-compartment neurons and is derived from `HHTypedNeuron`.\n",
    "Through `HHTypedNeuron`, both single-compartment neurons (`SingleCompartment`) and multi-compartment neurons (`MultiCompartment`) can be modeled.\n",
    "\n",
    "`SingleCompartment` provides built-in interfaces for membrane potential while supporting the integration of multiple `Channel`s.\n",
    "For example, `INa_TM1991`, `IK_TM1991`, and `IL` are concrete subclasses of the `Channel` class.\n",
    "Taking `INa_TM1991` as an example, it inherits from the sodium channel base class `SodiumChannel`, and thus provides the relevant interfaces.\n",
    "\n",
    "From this example, we can see that modeling a neuron with `braincell` requires only the composition of the relevant classes at the three levels: `Cell`, `Channel`, and `Ion`.\n",
    "The inheritance relationships within these three levels are deliberately kept simple in `braincell`.\n",
    "\n",
    "The neuron `Cell` regulates the flow of different `Ion`s, and each `Ion` is controlled by its corresponding `Channel`.\n",
    "In the `HH` neuron model above:\n",
    "- The neuron includes sodium ions (implemented as `SodiumFixed`) and potassium ions (implemented as `PotassiumFixed`).\n",
    "- Sodium ions determine the behavior of the sodium channel `INa_TM1991`.\n",
    "- Potassium ions determine the behavior of the potassium channel `IK_TM1991`.\n",
    "- In addition, `IL` represents a leakage channel, which is not associated with any ion.\n",
    "\n",
    "This design makes neuron model construction both flexible and modular, facilitating extension and modification.\n",
    "\n",
    "## Neural Network Modeling\n",
    "\n",
    "Building upon single-neuron modeling in `braincell`, we can further construct neural network models, seamlessly integrating with the network modeling capabilities of [BrainState](https://brainstate.readthedocs.io/).\n",
    "\n",
    "Returning to our example, we can use the constructed HH neuron model to build networks for practical applications, such as an excitatory–inhibitory (E–I) network:\n"
   ],
   "id": "43cae7b266df0eb2"
  },
  {
   "metadata": {},
   "cell_type": "code",
   "outputs": [],
   "execution_count": null,
   "source": [
    "V_th = -20. * u.mV\n",
    "area = 20000 * u.um ** 2\n",
    "area = area.in_unit(u.cm ** 2)\n",
    "Cm = (1 * u.uF * u.cm ** -2) * area  # Membrane Capacitance [pF]\n",
    "\n",
    "class EINet(brainstate.nn.DynamicsGroup):\n",
    "    def __init__(self):\n",
    "        super().__init__()\n",
    "        self.n_exc = 3200\n",
    "        self.n_inh = 800\n",
    "        self.num = self.n_exc + self.n_inh\n",
    "        self.N = HH(self.num)\n",
    "\n",
    "        self.E = brainstate.nn.AlignPostProj(\n",
    "            comm=brainstate.nn.EventFixedProb(self.n_exc, self.num, conn_num=0.02, conn_weight=6. * u.nS),\n",
    "            syn=brainstate.nn.Expon(self.num, tau=5. * u.ms),\n",
    "            out=brainstate.nn.COBA(E=0. * u.mV),\n",
    "            post=self.N\n",
    "        )\n",
    "        self.I = brainstate.nn.AlignPostProj(\n",
    "            comm=brainstate.nn.EventFixedProb(self.n_inh, self.num, conn_num=0.02, conn_weight=67. * u.nS),\n",
    "            syn=brainstate.nn.Expon(self.num, tau=10. * u.ms),\n",
    "            out=brainstate.nn.COBA(E=-80. * u.mV),\n",
    "            post=self.N\n",
    "        )\n",
    "\n",
    "    def update(self, t):\n",
    "        with brainstate.environ.context(t=t):\n",
    "            spk = self.N.spike.value\n",
    "            self.E(spk[:self.n_exc])\n",
    "            self.I(spk[self.n_exc:])\n",
    "            spk = self.N(0. * u.nA)\n",
    "            return spk"
   ],
   "id": "dfbc478f9a7c516f"
  },
  {
   "metadata": {},
   "cell_type": "code",
   "outputs": [],
   "execution_count": null,
   "source": [
    "# network\n",
    "net = EINet()\n",
    "_ = brainstate.nn.init_all_states(net)"
   ],
   "id": "d023c88e6c96bbaf"
  },
  {
   "metadata": {},
   "cell_type": "code",
   "outputs": [],
   "execution_count": null,
   "source": [
    "# simulation\n",
    "with brainstate.environ.context(dt=0.1 * u.ms):\n",
    "    times = u.math.arange(0. * u.ms, 100. * u.ms, brainstate.environ.get_dt())\n",
    "    spikes = brainstate.compile.for_loop(net.update, times, pbar=brainstate.compile.ProgressBar(10))"
   ],
   "id": "84ec536e1f3b4544"
  },
  {
   "metadata": {},
   "cell_type": "code",
   "outputs": [],
   "execution_count": null,
   "source": [
    "# visualization\n",
    "t_indices, n_indices = u.math.where(spikes)\n",
    "plt.scatter(times[t_indices], n_indices, s=1)\n",
    "plt.xlabel('Time (ms)')\n",
    "plt.ylabel('Neuron index')\n",
    "plt.show()"
   ],
   "id": "ae366911755b05bc"
  },
  {
   "metadata": {},
   "cell_type": "markdown",
   "source": "In this way, we have used `braincell` to model the HH neuron and implemented a complete E–I network!",
   "id": "d9ab009f271530ea"
  }
 ],
 "metadata": {
  "kernelspec": {
   "display_name": "Python 3",
   "language": "python",
   "name": "python3"
  },
  "language_info": {
   "codemirror_mode": {
    "name": "ipython",
    "version": 2
   },
   "file_extension": ".py",
   "mimetype": "text/x-python",
   "name": "python",
   "nbconvert_exporter": "python",
   "pygments_lexer": "ipython2",
   "version": "2.7.6"
  }
 },
 "nbformat": 4,
 "nbformat_minor": 5
}
