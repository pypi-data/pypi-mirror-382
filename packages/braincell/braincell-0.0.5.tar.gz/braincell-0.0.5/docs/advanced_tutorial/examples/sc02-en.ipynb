{
 "cells": [
  {
   "metadata": {},
   "cell_type": "raw",
   "source": [
    "# Comparison of Gating Properties of Low-Threshold and High-Threshold Calcium Channels\n",
    "\n",
    "This example demonstrates how to use the `braincell` library to analyze the steady-state properties of gating variables for low-threshold T-type calcium channels and high-threshold calcium channels. By comparing their gating curves, you will understand the functional differences of different calcium channels in neuronal electrical activity.\n",
    "\n",
    "## Preparation\n",
    "\n",
    "First, ensure that the necessary libraries (`braincell`, `brainunit`, `braintools`, `matplotlib`) are installed, and import the required modules:"
   ],
   "id": "11fab9ff781e91dd"
  },
  {
   "metadata": {},
   "cell_type": "markdown",
   "source": "",
   "id": "79ad127b46878e9b"
  },
  {
   "metadata": {},
   "cell_type": "code",
   "outputs": [],
   "execution_count": null,
   "source": [
    "import braintools\n",
    "import brainunit as u\n",
    "import matplotlib.pyplot as plt\n",
    "import braincell"
   ],
   "id": "6e0b739b25395649"
  },
  {
   "metadata": {},
   "cell_type": "markdown",
   "source": [
    "## Code Explanation\n",
    "\n",
    "### Creating Calcium Channel Models\n",
    "\n",
    "`braincell` provides various ion channel models based on classical literature, named in the format `ChannelType_LiteratureID`, for example, `ICaT_HP1992` represents a T-type calcium channel based on Huguenard & Prince 1992.\n",
    "If you want to learn more about ion channel models, you can refer to our [Ion Channel Model Library](https://braincell.readthedocs.io/latest/apis/braincell.channel.html).\n"
   ],
   "id": "9565ec89c36cdcf6"
  },
  {
   "metadata": {},
   "cell_type": "code",
   "outputs": [],
   "execution_count": null,
   "source": [
    "# Create Low-Threshold T-Type Calcium Channel (ICaT)\n",
    "cat = braincell.channel.ICaT_HP1992(1)\n",
    "\n",
    "# Create High-Threshold Calcium Channel (ICaHT)\n",
    "caht = braincell.channel.ICaHT_HM1992(1)\n"
   ],
   "id": "318d6844ce18da5a"
  },
  {
   "metadata": {},
   "cell_type": "markdown",
   "source": [
    "### Generate Voltage Sequence\n",
    "\n",
    "To analyze how channel gating properties change with membrane potential, we generate a continuous voltage sequence from -100 mV to 0 mV:\n"
   ],
   "id": "2bca175f485d43b1"
  },
  {
   "metadata": {},
   "cell_type": "markdown",
   "source": [
    "# Generate Voltage Sequence\n",
    "vs = u.math.arange(-100 * u.mV, 0 * u.mV, 0.1 * u.mV)\n"
   ],
   "id": "1a9e9a98cb22ea86"
  },
  {
   "metadata": {},
   "cell_type": "markdown",
   "source": [
    "### Calculate Steady-State Gating Variables and Plot\n",
    "\n",
    "The steady-state values of ion channel gating variables describe the probability that the channel gates are open at a given membrane potential. We calculate these values using the channel's `f_q_inf` and `f_p_inf` methods and visualize the comparison:\n"
   ],
   "id": "903f53c8ccbecc75"
  },
  {
   "metadata": {},
   "cell_type": "code",
   "outputs": [],
   "execution_count": null,
   "source": [
    "# Create Figure and Subplot Layout\n",
    "fig, gs = braintools.visualize.get_figure(1, 2, 3., 4.5)\n",
    "\n",
    "# Compute steady-state values of activation and inactivation gates for low-threshold channel\n",
    "q_inf = cat.f_q_inf(vs)\n",
    "p_inf = cat.f_p_inf(vs)\n",
    "\n",
    "# Add subplot 1\n",
    "fig.add_subplot(gs[0, 0])\n",
    "plt.plot(vs / u.mV, q_inf, label='q_inf (activation gate)')  # Convert x-axis to mV for readability\n",
    "plt.plot(vs / u.mV, p_inf, label='p_inf (inactivation gate)')\n",
    "plt.legend()  # Show legend\n",
    "plt.fill_between([-80, -60], 1., alpha=0.2)  # Highlight typical activation range for low-threshold channel\n",
    "plt.title('Low-Threshold Calcium Channel (ICaT)')\n",
    "plt.xlabel('Membrane Potential (mV)')\n",
    "\n",
    "# Compute q_inf and p_inf for high-threshold channel\n",
    "q_inf = caht.f_q_inf(vs)\n",
    "p_inf = caht.f_p_inf(vs)\n",
    "\n",
    "# Add subplot 2\n",
    "fig.add_subplot(gs[0, 1])\n",
    "plt.plot(vs / u.mV, q_inf, label='q_inf (activation gate)')\n",
    "plt.plot(vs / u.mV, p_inf, label='p_inf (inactivation gate)')\n",
    "plt.fill_between([-60, -40], 1., alpha=0.2)  # Highlight typical activation range for high-threshold channel\n",
    "plt.legend()\n",
    "plt.xlabel('Membrane Potential (mV)')\n",
    "plt.title('High-Threshold Calcium Channel (ICaHT)')\n",
    "\n",
    "# Display figure\n",
    "plt.show()\n"
   ],
   "id": "6f249daa8ece8649"
  },
  {
   "metadata": {},
   "cell_type": "markdown",
   "source": [
    "## Result Interpretation\n",
    "\n",
    "After running the code, you will see two plots of the gating characteristics.\n",
    "\n",
    "Analyzing the two gating characteristic plots, the key conclusions are as follows:\n",
    "\n",
    "Low-threshold calcium channel (ICaT):\n",
    "   - `q_inf` rises significantly at membrane potentials around -80 ~ -60 mV, indicating that the channel is easily activated within this range.\n",
    "   - This matches the shaded region, showing that the channel can be activated near the neuron's resting potential.\n",
    "\n",
    "High-threshold calcium channel (ICaHT):\n",
    "   - `q_inf` only rises significantly at membrane potentials around -60 ~ -40 mV, indicating a higher activation threshold.\n",
    "   - The shaded area corresponds to its typical activation range, requiring stronger depolarization to activate.\n",
    "\n",
    "## Extended Exercises\n",
    "\n",
    "- Try modifying the channel's conductance density parameter and observe whether the gating curves change.\n",
    "- Compare the gating characteristics of other ion channels to understand how different channels cooperate during action potentials.\n",
    "\n",
    "With these tools, you can quickly build channel models that align with electrophysiological properties, laying the foundation for complex neural dynamics simulations.\n"
   ],
   "id": "e85ded496cf19afd"
  }
 ],
 "metadata": {
  "kernelspec": {
   "display_name": "Python 3",
   "language": "python",
   "name": "python3"
  },
  "language_info": {
   "codemirror_mode": {
    "name": "ipython",
    "version": 2
   },
   "file_extension": ".py",
   "mimetype": "text/x-python",
   "name": "python",
   "nbconvert_exporter": "python",
   "pygments_lexer": "ipython2",
   "version": "2.7.6"
  }
 },
 "nbformat": 4,
 "nbformat_minor": 5
}
