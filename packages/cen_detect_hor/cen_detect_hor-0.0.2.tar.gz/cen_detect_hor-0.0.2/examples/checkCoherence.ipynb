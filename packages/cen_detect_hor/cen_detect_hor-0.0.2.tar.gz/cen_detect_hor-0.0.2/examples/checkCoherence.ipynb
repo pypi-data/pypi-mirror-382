{
 "cells": [
  {
   "cell_type": "code",
   "execution_count": 1,
   "metadata": {},
   "outputs": [],
   "source": [
    "from cen_detect_hor.featureUtils import BED_file_to_features, feature_to_seq\n",
    "from Bio.Phylo.PhyloXML import Phyloxml\n",
    "from Bio.Phylo import PhyloXMLIO\n",
    "from Bio import SeqIO\n",
    "from cen_detect_hor.hor_coherence import checkHORTreeCoherence"
   ]
  },
  {
   "cell_type": "code",
   "execution_count": 2,
   "metadata": {},
   "outputs": [],
   "source": [
    "# # inputs\n",
    "# references_file = \"./data/monomers/chr2_centromere_plus2Mb.fasta\"\n",
    "# features_file = \"./data/monomers/chr2_StringDecMon2extr_noMorgante.bed\"\n",
    "# phyloXml_file = './data/monomers/chr2_monomer_phylogeny_and_HORs.xml'\n",
    "\n",
    "# #outputs\n",
    "# seqs_file = \"./data/monomers/chr2_StringDecMon2extr_noMorgante.fasta\"\n",
    "# newick_file = './data/monomers/chr2_monomer_tree.nw'"
   ]
  },
  {
   "cell_type": "code",
   "execution_count": 3,
   "metadata": {},
   "outputs": [],
   "source": [
    "# inputs\n",
    "references_file = \"./data/fileschr4chimp/chimpH2.chr4.fasta\"\n",
    "features_file = \"./data/fileschr4chimp/final_decomposition.bed\"\n",
    "# phyloXml_file = './data/fileschr4chimp/chimpH2.4.tree.xml'\n",
    "phyloXml_file = './data/fileschr4chimp/monomer_phylogeny_and_HORs.xml'\n",
    "\n",
    "#outputs\n",
    "seqs_file = \"./data/fileschr4chimp/final_decomposition.fasta\"\n",
    "newick_file = './data/fileschr4chimp/monomer_tree.nw'"
   ]
  },
  {
   "cell_type": "code",
   "execution_count": 4,
   "metadata": {},
   "outputs": [],
   "source": [
    "references = {seq.id : seq for seq in SeqIO.parse(references_file, \"fasta\")}"
   ]
  },
  {
   "cell_type": "code",
   "execution_count": 5,
   "metadata": {},
   "outputs": [],
   "source": [
    "monomers_as_features = BED_file_to_features(features_file)"
   ]
  },
  {
   "cell_type": "code",
   "execution_count": 6,
   "metadata": {},
   "outputs": [],
   "source": [
    "monomers_as_seqs = [feature_to_seq(feature, references) for feature in monomers_as_features]"
   ]
  },
  {
   "cell_type": "code",
   "execution_count": 7,
   "metadata": {},
   "outputs": [],
   "source": [
    "with open(seqs_file, \"w\") as f:\n",
    "    SeqIO.write(monomers_as_seqs, f, \"fasta\")"
   ]
  },
  {
   "cell_type": "code",
   "execution_count": 8,
   "metadata": {},
   "outputs": [
    {
     "name": "stdout",
     "output_type": "stream",
     "text": [
      "Found overlap between chr4_hap2_hsa5:64806450-67061718[80169:80343](+) and chr4_hap2_hsa5:64806450-67061718[80042:80179](+)\n",
      "Found overlap between chr4_hap2_hsa5:64806450-67061718[345135:345304](+) and chr4_hap2_hsa5:64806450-67061718[345034:345185](+)\n",
      "Found overlap between chr4_hap2_hsa5:64806450-67061718[2150195:2150277](+) and chr4_hap2_hsa5:64806450-67061718[2150026:2150198](+)\n"
     ]
    },
    {
     "name": "stderr",
     "output_type": "stream",
     "text": [
      "/Users/miguel/git/CENdetectHOR_lib/env/lib/python3.9/site-packages/Bio/SeqFeature.py:260: BiopythonDeprecationWarning: Please use .location.ref rather than .ref\n",
      "  warnings.warn(\n"
     ]
    }
   ],
   "source": [
    "sorted_monomers_as_features = sorted(monomers_as_features, key=lambda ref: (ref.ref, ref.location.start))\n",
    "prev_feature = None\n",
    "for curr_feature in sorted_monomers_as_features:\n",
    "    if prev_feature is not None and curr_feature.ref == prev_feature.ref and curr_feature.location.start < prev_feature.location.end:\n",
    "        print(f\"Found overlap between {curr_feature.location} and {prev_feature.location}\")\n",
    "    prev_feature = curr_feature"
   ]
  },
  {
   "cell_type": "code",
   "execution_count": 9,
   "metadata": {},
   "outputs": [
    {
     "name": "stderr",
     "output_type": "stream",
     "text": [
      "/Users/miguel/git/CENdetectHOR_lib/env/lib/python3.9/site-packages/Bio/Phylo/PhyloXML.py:985: PhyloXMLWarning: String monomer_clade_seq doesn't match the given regexp\n",
      "  _check_str(ref, self.re_ref.match)\n"
     ]
    }
   ],
   "source": [
    "phyloXml: Phyloxml = PhyloXMLIO.read(phyloXml_file)"
   ]
  },
  {
   "cell_type": "code",
   "execution_count": 10,
   "metadata": {},
   "outputs": [],
   "source": [
    "monomers_tree = phyloXml['monomers']"
   ]
  },
  {
   "cell_type": "code",
   "execution_count": 11,
   "metadata": {},
   "outputs": [],
   "source": [
    "hor_tree = phyloXml['hors']"
   ]
  },
  {
   "cell_type": "code",
   "execution_count": 12,
   "metadata": {},
   "outputs": [
    {
     "name": "stdout",
     "output_type": "stream",
     "text": [
      "In clade H (path: []) found self overlap between chr4:44699037-59858846[10559880:10565122](+) and chr4:44699037-59858846[10500748:10603933](-)\n",
      "In clade H2 found sibling overlap between chr4:44699037-59858846[10500748:10603933](-) and chr4:44699037-59858846[10559880:10565122](+)\n"
     ]
    }
   ],
   "source": [
    "checkHORTreeCoherence(horTree=hor_tree)"
   ]
  }
 ],
 "metadata": {
  "kernelspec": {
   "display_name": "Python 3",
   "language": "python",
   "name": "python3"
  },
  "language_info": {
   "codemirror_mode": {
    "name": "ipython",
    "version": 3
   },
   "file_extension": ".py",
   "mimetype": "text/x-python",
   "name": "python",
   "nbconvert_exporter": "python",
   "pygments_lexer": "ipython3",
   "version": "3.9.21"
  },
  "orig_nbformat": 4
 },
 "nbformat": 4,
 "nbformat_minor": 2
}
