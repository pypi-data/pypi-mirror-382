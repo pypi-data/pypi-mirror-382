{
 "cells": [
  {
   "cell_type": "code",
   "execution_count": 1,
   "metadata": {},
   "outputs": [],
   "source": [
    "from Bio.Phylo import PhyloXMLIO\n",
    "from cen_detect_hor.filter_phylogeny import split_phyloxml_by_chromosomes"
   ]
  },
  {
   "cell_type": "code",
   "execution_count": 2,
   "metadata": {},
   "outputs": [
    {
     "name": "stderr",
     "output_type": "stream",
     "text": [
      "/Users/miguel/git/CENdetectHOR_lib/env/lib/python3.9/site-packages/Bio/Phylo/PhyloXML.py:985: PhyloXMLWarning: String monomer_clade_seq doesn't match the given regexp\n",
      "  _check_str(ref, self.re_ref.match)\n"
     ]
    }
   ],
   "source": [
    "phyloXml = PhyloXMLIO.read('data/debug/monomer_phylogeny_and_HORs.xml')"
   ]
  },
  {
   "cell_type": "code",
   "execution_count": 3,
   "metadata": {},
   "outputs": [
    {
     "name": "stdout",
     "output_type": "stream",
     "text": [
      "Clade label clash collapsing parent F1_1_1_1_2_1_1_1_1_3_1_1#4 and child F1_1_1_1_2_1_1_1_1_3_6_1_6_1_1_1_1#3\n",
      "Clade label clash collapsing parent F1_1_1_1_2_1_2 and child F1_1_1_1_2_1_2_2\n"
     ]
    }
   ],
   "source": [
    "phyloXml_by_chr = split_phyloxml_by_chromosomes(phyloXml)"
   ]
  },
  {
   "cell_type": "code",
   "execution_count": 4,
   "metadata": {},
   "outputs": [],
   "source": [
    "for chromosome, phyloxml in phyloXml_by_chr.items():\n",
    "    PhyloXMLIO.write(phyloxml, f\"data/debug/phylo_with_hors_{chromosome}.xml\")"
   ]
  }
 ],
 "metadata": {
  "kernelspec": {
   "display_name": "Python 3",
   "language": "python",
   "name": "python3"
  },
  "language_info": {
   "codemirror_mode": {
    "name": "ipython",
    "version": 3
   },
   "file_extension": ".py",
   "mimetype": "text/x-python",
   "name": "python",
   "nbconvert_exporter": "python",
   "pygments_lexer": "ipython3",
   "version": "3.9.21"
  }
 },
 "nbformat": 4,
 "nbformat_minor": 2
}
