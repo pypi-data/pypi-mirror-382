{
 "cells": [
  {
   "cell_type": "code",
   "execution_count": null,
   "id": "6a2dcbf0-2a40-4f60-bee3-b4c213095fb9",
   "metadata": {
    "tags": [
     "parameters"
    ]
   },
   "outputs": [],
   "source": [
    "uid = None"
   ]
  },
  {
   "cell_type": "code",
   "execution_count": 1,
   "id": "573546cd",
   "metadata": {},
   "outputs": [],
   "source": [
    "from PIL import Image\n",
    "import random\n",
    "import time\n",
    "\n",
    "def _rgb_tuple():\n",
    "    def _r():\n",
    "        return random.randint(0, 255)\n",
    "    return _r(), _r(), _r()\n",
    "\n",
    "for i in range(3):\n",
    "    img = Image.new(\"RGB\", (800, 1280), _rgb_tuple())\n",
    "    img.save(f'image_({i}).png', \"PNG\")\n",
    "    time.sleep(3)\n",
    "    \n",
    "print('the notebook has finished running')"
   ]
  }
 ],
 "metadata": {
  "kernelspec": {
   "display_name": "Python 3",
   "language": "python",
   "name": "py3"
  },
  "language_info": {
   "codemirror_mode": {
    "name": "ipython",
    "version": 3
   },
   "file_extension": ".py",
   "mimetype": "text/x-python",
   "name": "python",
   "nbconvert_exporter": "python",
   "pygments_lexer": "ipython3",
   "version": "3.7.2"
  }
 },
 "nbformat": 4,
 "nbformat_minor": 5
}
