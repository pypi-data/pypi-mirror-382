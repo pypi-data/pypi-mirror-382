{
 "cells": [
  {
   "cell_type": "markdown",
   "metadata": {},
   "source": [
    "This notebook is based on https://nbviewer.ipython.org/github/cknoll/beispiele/blob/master/polynommatrix-1-form.ipynb (an example from my PhD-thesis).\n",
    "\n",
    "To run it the following packages need to be installed:\n",
    "\n",
    "- `pip install symbtools`\n",
    "- `pip install ipydex`"
   ]
  },
  {
   "cell_type": "code",
   "execution_count": 1,
   "metadata": {},
   "outputs": [
    {
     "name": "stdout",
     "output_type": "stream",
     "text": [
      "Tue May  4 21:21:06 2021\n"
     ]
    }
   ],
   "source": [
    "import time\n",
    "print(time.ctime())\n",
    "%load_ext ipydex.displaytools"
   ]
  },
  {
   "cell_type": "code",
   "execution_count": 2,
   "metadata": {},
   "outputs": [],
   "source": [
    "import sympy as sp\n",
    "from sympy import sin, cos\n",
    "import symbtools as st\n",
    "import symbtools.noncommutativetools as nct\n",
    "sp.interactive.printing.init_printing(1)"
   ]
  },
  {
   "cell_type": "code",
   "execution_count": 3,
   "metadata": {},
   "outputs": [],
   "source": [
    "x1, x2, x3, s, t = sp.symbols('x1, x2, x3, s, t', commutative=False)\n",
    "xx = sp.Matrix([x1, x2, x3])\n",
    "xxdot = st.time_deriv(xx, xx)\n",
    "xxddot = st.time_deriv(xx, xx, order=2)\n",
    "st.make_global(xx, xxdot, xxddot)"
   ]
  },
  {
   "cell_type": "markdown",
   "metadata": {},
   "source": [
    "\n",
    "\n",
    "Note:\n",
    "- $s:=\\frac{d}{dt}$ for abbreviation\n",
    "- $x_1, ..., x_3$ are regarded as time implicitly dependent if used as argument `func_symbols`"
   ]
  },
  {
   "cell_type": "markdown",
   "metadata": {},
   "source": [
    "Scalar demo. Applying derivative operator $\\hat =$ shift it to the right according to some rules."
   ]
  },
  {
   "cell_type": "code",
   "execution_count": 4,
   "metadata": {},
   "outputs": [
    {
     "data": {
      "image/png": "[encoded data removed]",
      "text/latex": [
       "r := $\\displaystyle x_{1} s + \\dot{x}_{1}$"
      ],
      "text/plain": [
       "r := x₁⋅s + ẋ₁"
      ]
     },
     "metadata": {},
     "output_type": "display_data"
    },
    {
     "data": {
      "text/plain": [
       "---"
      ]
     },
     "metadata": {},
     "output_type": "display_data"
    }
   ],
   "source": [
    "r = nct.right_shift_all(s*x1, func_symbols=xx) ##:"
   ]
  },
  {
   "cell_type": "code",
   "execution_count": 5,
   "metadata": {},
   "outputs": [
    {
     "data": {
      "image/png": "[encoded data removed]",
      "text/latex": [
       "$\\displaystyle x_{1} s^{2} + \\ddot{x}_{1} + 2 \\dot{x}_{1} s$"
      ],
      "text/plain": [
       "    2              \n",
       "x₁⋅s  + ẍ₁ + 2⋅ẋ₁⋅s"
      ]
     },
     "execution_count": 5,
     "metadata": {},
     "output_type": "execute_result"
    }
   ],
   "source": [
    "nct.right_shift_all(s*r, func_symbols=xx)"
   ]
  },
  {
   "cell_type": "code",
   "execution_count": 6,
   "metadata": {},
   "outputs": [
    {
     "data": {
      "image/png": "[encoded data removed]",
      "text/latex": [
       "$\\displaystyle x_{1} s^{2} + \\ddot{x}_{1} + 2 \\dot{x}_{1} s$"
      ],
      "text/plain": [
       "    2              \n",
       "x₁⋅s  + ẍ₁ + 2⋅ẋ₁⋅s"
      ]
     },
     "execution_count": 6,
     "metadata": {},
     "output_type": "execute_result"
    }
   ],
   "source": [
    "nct.right_shift_all(s**2 *x1, func_symbols=xx)"
   ]
  },
  {
   "cell_type": "code",
   "execution_count": 7,
   "metadata": {},
   "outputs": [
    {
     "data": {
      "image/png": "[encoded data removed]",
      "text/latex": [
       "$\\displaystyle - x_{1} s + 5 x_{1} s^{2} + 5 \\ddot{x}_{1} - \\dot{x}_{1} + 10 \\dot{x}_{1} s$"
      ],
      "text/plain": [
       "              2                      \n",
       "-x₁⋅s + 5⋅x₁⋅s  + 5⋅ẍ₁ - ẋ₁ + 10⋅ẋ₁⋅s"
      ]
     },
     "execution_count": 7,
     "metadata": {},
     "output_type": "execute_result"
    }
   ],
   "source": [
    "nct.right_shift_all((5*s**2 - s)*x1, func_symbols=xx)"
   ]
  },
  {
   "cell_type": "markdown",
   "metadata": {},
   "source": [
    "Matrix demo. Goal: $L\\Big(\\frac{d}{dt}\\Big)\\circ A(t)$"
   ]
  },
  {
   "cell_type": "code",
   "execution_count": 8,
   "metadata": {},
   "outputs": [
    {
     "data": {
      "image/png": "[encoded data removed]",
      "text/latex": [
       "L := $\\displaystyle \\left[\\begin{matrix}0 & \\dot{x}_{3} & x_{2} s\\\\s & 0 & s^{2}\\end{matrix}\\right]$"
      ],
      "text/plain": [
       "L := ⎡0  ẋ₃  x₂⋅s⎤\n",
       "⎢           ⎥\n",
       "⎢         2 ⎥\n",
       "⎣s  0    s  ⎦"
      ]
     },
     "metadata": {},
     "output_type": "display_data"
    },
    {
     "data": {
      "text/plain": [
       "---"
      ]
     },
     "metadata": {},
     "output_type": "display_data"
    }
   ],
   "source": [
    "L = sp.Matrix([[0, xdot3, x2*s], [s, 0, s**2]]) ##:"
   ]
  },
  {
   "cell_type": "code",
   "execution_count": 9,
   "metadata": {},
   "outputs": [
    {
     "data": {
      "image/png": "[encoded data removed]",
      "text/latex": [
       "A := $\\displaystyle \\left[\\begin{matrix}1 & x_{3} & \\cos{\\left(7 t \\right)}\\\\\\sin{\\left(x_{3} \\right)} & 0 & 0\\\\0 & 0 & t\\end{matrix}\\right]$"
      ],
      "text/plain": [
       "A := ⎡   1     x₃  cos(7⋅t)⎤\n",
       "⎢                     ⎥\n",
       "⎢sin(x₃)  0      0    ⎥\n",
       "⎢                     ⎥\n",
       "⎣   0     0      t    ⎦"
      ]
     },
     "metadata": {},
     "output_type": "display_data"
    },
    {
     "data": {
      "text/plain": [
       "---"
      ]
     },
     "metadata": {},
     "output_type": "display_data"
    }
   ],
   "source": [
    "A = sp.Matrix([[1, x3, sp.cos(7*t)], [sin(x3), 0, 0], [0, 0, t]]) ##:"
   ]
  },
  {
   "cell_type": "markdown",
   "metadata": {},
   "source": [
    "Perform matrix multiplication while respecting operator order"
   ]
  },
  {
   "cell_type": "code",
   "execution_count": 10,
   "metadata": {},
   "outputs": [
    {
     "data": {
      "image/png": "[encoded data removed]",
      "text/latex": [
       "res := $\\displaystyle \\left[\\begin{matrix}\\dot{x}_{3} \\sin{\\left(x_{3} \\right)} & 0 & x_{2} s t\\\\s & s x_{3} & s \\cos{\\left(7 t \\right)} + s^{2} t\\end{matrix}\\right]$"
      ],
      "text/plain": [
       "res := ⎡ẋ₃⋅sin(x₃)   0         x₂⋅s⋅t      ⎤\n",
       "⎢                                   ⎥\n",
       "⎢                                2  ⎥\n",
       "⎣    s       s⋅x₃  s⋅cos(7⋅t) + s ⋅t⎦"
      ]
     },
     "metadata": {},
     "output_type": "display_data"
    },
    {
     "data": {
      "text/plain": [
       "---"
      ]
     },
     "metadata": {},
     "output_type": "display_data"
    }
   ],
   "source": [
    "res = nct.nc_mul(L, A) ##:"
   ]
  },
  {
   "cell_type": "markdown",
   "metadata": {},
   "source": [
    "Apply derivative operator (shift to the right)"
   ]
  },
  {
   "cell_type": "code",
   "execution_count": 11,
   "metadata": {},
   "outputs": [
    {
     "data": {
      "image/png": "[encoded data removed]",
      "text/latex": [
       "$\\displaystyle \\left[\\begin{matrix}\\dot{x}_{3} \\sin{\\left(x_{3} \\right)} & 0 & x_{2} + x_{2} t s\\\\s & x_{3} s + \\dot{x}_{3} & 2 s + t s^{2} - 7 \\sin{\\left(7 t \\right)} + \\cos{\\left(7 t \\right)} s\\end{matrix}\\right]$"
      ],
      "text/plain": [
       "⎡ẋ₃⋅sin(x₃)      0                  x₂ + x₂⋅t⋅s             ⎤\n",
       "⎢                                                           ⎥\n",
       "⎢                                2                          ⎥\n",
       "⎣    s       x₃⋅s + ẋ₃  2⋅s + t⋅s  - 7⋅sin(7⋅t) + cos(7⋅t)⋅s⎦"
      ]
     },
     "execution_count": 11,
     "metadata": {},
     "output_type": "execute_result"
    }
   ],
   "source": [
    "nct.right_shift_all(res, func_symbols=xx)"
   ]
  }
 ],
 "metadata": {
  "kernelspec": {
   "display_name": "Python 3",
   "language": "python",
   "name": "python3"
  },
  "language_info": {
   "codemirror_mode": {
    "name": "ipython",
    "version": 3
   },
   "file_extension": ".py",
   "mimetype": "text/x-python",
   "name": "python",
   "nbconvert_exporter": "python",
   "pygments_lexer": "ipython3",
   "version": "3.8.6"
  }
 },
 "nbformat": 4,
 "nbformat_minor": 4
}
