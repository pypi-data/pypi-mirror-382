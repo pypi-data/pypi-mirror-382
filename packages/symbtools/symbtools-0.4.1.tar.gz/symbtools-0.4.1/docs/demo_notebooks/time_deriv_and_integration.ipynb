{
 "cells": [
  {
   "cell_type": "code",
   "execution_count": 1,
   "metadata": {},
   "outputs": [],
   "source": [
    "import sympy as sp\n",
    "from sympy.interactive import printing\n",
    "printing.init_printing()\n",
    "\n",
    "import symbtools as st\n"
   ]
  },
  {
   "cell_type": "code",
   "execution_count": 2,
   "metadata": {},
   "outputs": [],
   "source": [
    "%load_ext ipydex.displaytools"
   ]
  },
  {
   "cell_type": "code",
   "execution_count": 3,
   "metadata": {},
   "outputs": [
    {
     "data": {
      "image/png": "[encoded data removed]",
      "text/latex": [
       "$$\\verb|xx| := \\left[\\begin{matrix}x_{1}\\\\x_{2}\\end{matrix}\\right]$$"
      ],
      "text/plain": [
       "xx := ⎡x₁⎤\n",
       "⎢  ⎥\n",
       "⎣x₂⎦"
      ]
     },
     "metadata": {},
     "output_type": "display_data"
    },
    {
     "name": "stdout",
     "output_type": "stream",
     "text": [
      "---\n"
     ]
    },
    {
     "data": {
      "image/png": "[encoded data removed]",
      "text/latex": [
       "$$\\verb|xxd| := \\left[\\begin{matrix}\\dot{x}_{1}\\\\\\dot{x}_{2}\\end{matrix}\\right]$$"
      ],
      "text/plain": [
       "xxd := ⎡ẋ₁⎤\n",
       "⎢   ⎥\n",
       "⎣ẋ₂⎦"
      ]
     },
     "metadata": {},
     "output_type": "display_data"
    },
    {
     "name": "stdout",
     "output_type": "stream",
     "text": [
      "---\n"
     ]
    },
    {
     "data": {
      "image/png": "[encoded data removed]",
      "text/latex": [
       "$$\\verb|xxdd| := \\left[\\begin{matrix}\\ddot{x}_{1}\\\\\\ddot{x}_{2}\\end{matrix}\\right]$$"
      ],
      "text/plain": [
       "xxdd := ⎡ẍ₁⎤\n",
       "⎢   ⎥\n",
       "⎣ẍ₂⎦"
      ]
     },
     "metadata": {},
     "output_type": "display_data"
    },
    {
     "name": "stdout",
     "output_type": "stream",
     "text": [
      "---\n"
     ]
    }
   ],
   "source": [
    "xx = st.symb_vector(\"x1, x2\") ##:\n",
    "\n",
    "xxd = st.time_deriv(xx, xx) ##:\n",
    "xxdd = st.time_deriv(xx, xx, order=2) ##:\n",
    "\n",
    "\n",
    "st.make_global(xx, xxd, xxdd)"
   ]
  },
  {
   "cell_type": "code",
   "execution_count": 4,
   "metadata": {},
   "outputs": [
    {
     "data": {
      "image/png": "[encoded data removed]",
      "text/latex": [
       "$$\\verb|(sp.integrate(xdot1, st.t))| := t \\dot{x}_{1}$$"
      ],
      "text/plain": [
       "(sp.integrate(xdot1, st.t)) := t⋅ẋ₁"
      ]
     },
     "metadata": {},
     "output_type": "display_data"
    },
    {
     "name": "stdout",
     "output_type": "stream",
     "text": [
      "---\n"
     ]
    },
    {
     "data": {
      "image/png": "[encoded data removed]",
      "text/latex": [
       "$$\\verb|(st.smart_integrate(xdot1, st.t))| := x_{1}$$"
      ],
      "text/plain": [
       "(st.smart_integrate(xdot1, st.t)) := x₁"
      ]
     },
     "metadata": {},
     "output_type": "display_data"
    },
    {
     "name": "stdout",
     "output_type": "stream",
     "text": [
      "---\n"
     ]
    }
   ],
   "source": [
    "sp.integrate(xdot1, st.t) ##:\n",
    "\n",
    "st.smart_integrate(xdot1, st.t) ##:"
   ]
  },
  {
   "cell_type": "code",
   "execution_count": 5,
   "metadata": {},
   "outputs": [
    {
     "data": {
      "image/png": "[encoded data removed]",
      "text/latex": [
       "$$\\verb|res| := 3 x_{1} + 10 \\dot{x}_{2} + \\int \\operatorname{x_{2}}{\\left (t \\right )}\\, dt$$"
      ],
      "text/plain": [
       "res :=                 ⌠         \n",
       "3⋅x₁ + 10⋅ẋ₂ + ⎮ x₂(t) dt\n",
       "                ⌡         "
      ]
     },
     "metadata": {},
     "output_type": "display_data"
    },
    {
     "name": "stdout",
     "output_type": "stream",
     "text": [
      "---\n"
     ]
    }
   ],
   "source": [
    "# nonrivial case\n",
    "res = st.smart_integrate(x2 + 3*xdot1 + 10*xddot2, st.t) ##:"
   ]
  }
 ],
 "metadata": {
  "kernelspec": {
   "display_name": "Python 3",
   "language": "python",
   "name": "python3"
  },
  "language_info": {
   "codemirror_mode": {
    "name": "ipython",
    "version": 3
   },
   "file_extension": ".py",
   "mimetype": "text/x-python",
   "name": "python",
   "nbconvert_exporter": "python",
   "pygments_lexer": "ipython3",
   "version": "3.6.3"
  }
 },
 "nbformat": 4,
 "nbformat_minor": 2
}
