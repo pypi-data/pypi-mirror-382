{
 "cells": [
  {
   "cell_type": "markdown",
   "metadata": {
    "collapsed": true,
    "slideshow": {
     "slide_type": "slide"
    }
   },
   "source": [
    "# Introduction\n",
    "\n",
    "This notebook demonstrates\n",
    "\n",
    "- how to derive the equations of motion for the cart-mounted triple plendulum,\n",
    "- how to interactively check the kinematics and\n",
    "- how to simulate and animate the final system."
   ]
  },
  {
   "cell_type": "code",
   "execution_count": 1,
   "metadata": {
    "slideshow": {
     "slide_type": "skip"
    }
   },
   "outputs": [
    {
     "data": {
      "text/plain": [
       "'Fri May  8 14:58:10 2020'"
      ]
     },
     "execution_count": 1,
     "metadata": {},
     "output_type": "execute_result"
    }
   ],
   "source": [
    "import time\n",
    "time.ctime()"
   ]
  },
  {
   "cell_type": "code",
   "execution_count": 2,
   "metadata": {
    "slideshow": {
     "slide_type": "slide"
    }
   },
   "outputs": [],
   "source": [
    "%load_ext ipydex.displaytools\n",
    "\n",
    "import sys\n",
    "import os\n",
    "import pickle\n",
    "import numpy as np\n",
    "from scipy.integrate import odeint\n",
    "\n",
    "\n",
    "import sympy as sp\n",
    "from sympy import sin, cos, Function\n",
    "from sympy.interactive import printing\n",
    "from matplotlib import pyplot as plt\n",
    "\n",
    "import symbtools as st\n",
    "from symbtools import modeltools as mt\n",
    "import symbtools.visualisation as vt\n",
    "\n",
    "printing.init_printing()\n",
    "np.set_printoptions(precision=3, suppress=True)\n"
   ]
  },
  {
   "cell_type": "markdown",
   "metadata": {
    "slideshow": {
     "slide_type": "slide"
    }
   },
   "source": [
    "Bild: \n",
    "\n",
    "<img src=\"images/model_triple.png\">"
   ]
  },
  {
   "cell_type": "code",
   "execution_count": 3,
   "metadata": {
    "slideshow": {
     "slide_type": "slide"
    }
   },
   "outputs": [
    {
     "data": {
      "image/png": "[encoded data removed]",
      "text/latex": [
       "ttheta.T := $\\displaystyle \\left[\\begin{matrix}p_{1} & p_{2} & p_{3} & q_{1}\\end{matrix}\\right]$"
      ],
      "text/plain": [
       "ttheta.T := [p₁  p₂  p₃  q₁]"
      ]
     },
     "metadata": {},
     "output_type": "display_data"
    },
    {
     "data": {
      "text/plain": [
       "---"
      ]
     },
     "metadata": {},
     "output_type": "display_data"
    },
    {
     "data": {
      "image/png": "[encoded data removed]",
      "text/latex": [
       "tthetad.T := $\\displaystyle \\left[\\begin{matrix}\\dot{p}_{1} & \\dot{p}_{2} & \\dot{p}_{3} & \\dot{q}_{1}\\end{matrix}\\right]$"
      ],
      "text/plain": [
       "tthetad.T := [ṗ₁  ṗ₂  ṗ₃  q̇₁]"
      ]
     },
     "metadata": {},
     "output_type": "display_data"
    },
    {
     "data": {
      "text/plain": [
       "---"
      ]
     },
     "metadata": {},
     "output_type": "display_data"
    },
    {
     "data": {
      "image/png": "[encoded data removed]",
      "text/latex": [
       "tthetadd.T := $\\displaystyle \\left[\\begin{matrix}\\ddot{p}_{1} & \\ddot{p}_{2} & \\ddot{p}_{3} & \\ddot{q}_{1}\\end{matrix}\\right]$"
      ],
      "text/plain": [
       "tthetadd.T := [p̈₁  p̈₂  p̈₃  q̈₁]"
      ]
     },
     "metadata": {},
     "output_type": "display_data"
    },
    {
     "data": {
      "text/plain": [
       "---"
      ]
     },
     "metadata": {},
     "output_type": "display_data"
    }
   ],
   "source": [
    "# system parameters\n",
    "params = sp.symbols('m0, m1, m2, m3, J1, J2, J3, l1, l2, l3, a1, a2, a3, g, d1, d2, d3')\n",
    "st.make_global(params)\n",
    "\n",
    "params_values = [(m0, 3.34), (m1, 0.8512), (m2, 0.8973), (m3, 0.5519), \n",
    "                 (J1, 0.01980194), (J2, 0.02105375), (J3, 0.01818537), \n",
    "                 (l1, 0.32), (l2, 0.419), (l3, 0.485), \n",
    "                 (a1, 0.20001517), (a2, 0.26890449), (a3, 0.21666087), (g, 9.81),\n",
    "                 (d1, 0.00715294), (d2, 1.9497e-06), (d3, 0.00164642)]\n",
    "\n",
    "F = sp.Symbol('F')  # Force  on the cart\n",
    "\n",
    "Np = 3  # number of passive coordinates\n",
    "Nq = 1  # number of active coordinates\n",
    "n = Np + Nq\n",
    "pp = st.symb_vector(\"p1:{0}\".format(Np+1))  # passive coordinates\n",
    "qq = st.symb_vector(\"q1:{0}\".format(Nq+1))  # active coordinates\n",
    "\n",
    "aa = st.symb_vector(\"a1:{0}\".format(Nq+1))  # accelerations\n",
    "\n",
    "ttheta = st.row_stack(pp, qq) ##:T   # all coordinates together\n",
    "tthetad = st.time_deriv(ttheta, ttheta) ##:T\n",
    "tthetadd = st.time_deriv(ttheta, ttheta, order=2) ##:T\n",
    "st.make_global(ttheta, tthetad)\n"
   ]
  },
  {
   "cell_type": "markdown",
   "metadata": {},
   "source": [
    "Bedeutung der Variablen\n",
    "\n",
    "$[p_1, p_2, p_3, q_1] = [\\varphi_1, \\varphi_2, \\varphi_3, x_0]$"
   ]
  },
  {
   "cell_type": "markdown",
   "metadata": {
    "slideshow": {
     "slide_type": "slide"
    }
   },
   "source": [
    "### Definition of the geometric relations of the system\n"
   ]
  },
  {
   "cell_type": "code",
   "execution_count": 4,
   "metadata": {
    "slideshow": {
     "slide_type": "fragment"
    }
   },
   "outputs": [
    {
     "data": {
      "image/png": "[encoded data removed]",
      "text/latex": [
       "(Rz(p1)) := $\\displaystyle \\left[\\begin{matrix}\\cos{\\left(p_{1} \\right)} & - \\sin{\\left(p_{1} \\right)}\\\\\\sin{\\left(p_{1} \\right)} & \\cos{\\left(p_{1} \\right)}\\end{matrix}\\right]$"
      ],
      "text/plain": [
       "(Rz(p1)) := ⎡cos(p₁)  -sin(p₁)⎤\n",
       "⎢                 ⎥\n",
       "⎣sin(p₁)  cos(p₁) ⎦"
      ]
     },
     "metadata": {},
     "output_type": "display_data"
    },
    {
     "data": {
      "text/plain": [
       "---"
      ]
     },
     "metadata": {},
     "output_type": "display_data"
    }
   ],
   "source": [
    "# unit vectors\n",
    "ex = sp.Matrix([1, 0])\n",
    "ey = sp.Matrix([0, 1])\n",
    "\n",
    "# rotation matrix\n",
    "Rz = mt.Rz\n",
    "Rz(p1)  ##:"
   ]
  },
  {
   "cell_type": "code",
   "execution_count": 5,
   "metadata": {
    "slideshow": {
     "slide_type": "slide"
    }
   },
   "outputs": [
    {
     "data": {
      "image/png": "[encoded data removed]",
      "text/latex": [
       "G0 := $\\displaystyle \\left[\\begin{matrix}q_{1}\\\\0\\end{matrix}\\right]$"
      ],
      "text/plain": [
       "G0 := ⎡q₁⎤\n",
       "⎢  ⎥\n",
       "⎣0 ⎦"
      ]
     },
     "metadata": {},
     "output_type": "display_data"
    },
    {
     "data": {
      "text/plain": [
       "---"
      ]
     },
     "metadata": {},
     "output_type": "display_data"
    },
    {
     "data": {
      "image/png": "[encoded data removed]",
      "text/latex": [
       "G1 := $\\displaystyle \\left[\\begin{matrix}- l_{1} \\sin{\\left(p_{1} \\right)} + q_{1}\\\\l_{1} \\cos{\\left(p_{1} \\right)}\\end{matrix}\\right]$"
      ],
      "text/plain": [
       "G1 := ⎡-l₁⋅sin(p₁) + q₁⎤\n",
       "⎢                ⎥\n",
       "⎣   l₁⋅cos(p₁)   ⎦"
      ]
     },
     "metadata": {},
     "output_type": "display_data"
    },
    {
     "data": {
      "text/plain": [
       "---"
      ]
     },
     "metadata": {},
     "output_type": "display_data"
    },
    {
     "data": {
      "image/png": "[encoded data removed]",
      "text/latex": [
       "S1 := $\\displaystyle \\left[\\begin{matrix}- a_{1} \\sin{\\left(p_{1} \\right)} + q_{1}\\\\a_{1} \\cos{\\left(p_{1} \\right)}\\end{matrix}\\right]$"
      ],
      "text/plain": [
       "S1 := ⎡-a₁⋅sin(p₁) + q₁⎤\n",
       "⎢                ⎥\n",
       "⎣   a₁⋅cos(p₁)   ⎦"
      ]
     },
     "metadata": {},
     "output_type": "display_data"
    },
    {
     "data": {
      "text/plain": [
       "---"
      ]
     },
     "metadata": {},
     "output_type": "display_data"
    },
    {
     "data": {
      "image/png": "[encoded data removed]",
      "text/latex": [
       "G2 := $\\displaystyle \\left[\\begin{matrix}- l_{1} \\sin{\\left(p_{1} \\right)} - l_{2} \\sin{\\left(p_{2} \\right)} + q_{1}\\\\l_{1} \\cos{\\left(p_{1} \\right)} + l_{2} \\cos{\\left(p_{2} \\right)}\\end{matrix}\\right]$"
      ],
      "text/plain": [
       "G2 := ⎡-l₁⋅sin(p₁) - l₂⋅sin(p₂) + q₁⎤\n",
       "⎢                             ⎥\n",
       "⎣   l₁⋅cos(p₁) + l₂⋅cos(p₂)   ⎦"
      ]
     },
     "metadata": {},
     "output_type": "display_data"
    },
    {
     "data": {
      "text/plain": [
       "---"
      ]
     },
     "metadata": {},
     "output_type": "display_data"
    },
    {
     "data": {
      "image/png": "[encoded data removed]",
      "text/latex": [
       "S2 := $\\displaystyle \\left[\\begin{matrix}- a_{2} \\sin{\\left(p_{2} \\right)} - l_{1} \\sin{\\left(p_{1} \\right)} + q_{1}\\\\a_{2} \\cos{\\left(p_{2} \\right)} + l_{1} \\cos{\\left(p_{1} \\right)}\\end{matrix}\\right]$"
      ],
      "text/plain": [
       "S2 := ⎡-a₂⋅sin(p₂) - l₁⋅sin(p₁) + q₁⎤\n",
       "⎢                             ⎥\n",
       "⎣   a₂⋅cos(p₂) + l₁⋅cos(p₁)   ⎦"
      ]
     },
     "metadata": {},
     "output_type": "display_data"
    },
    {
     "data": {
      "text/plain": [
       "---"
      ]
     },
     "metadata": {},
     "output_type": "display_data"
    },
    {
     "data": {
      "image/png": "[encoded data removed]",
      "text/latex": [
       "G3 := $\\displaystyle \\left[\\begin{matrix}- l_{1} \\sin{\\left(p_{1} \\right)} - l_{2} \\sin{\\left(p_{2} \\right)} - l_{3} \\sin{\\left(p_{3} \\right)} + q_{1}\\\\l_{1} \\cos{\\left(p_{1} \\right)} + l_{2} \\cos{\\left(p_{2} \\right)} + l_{3} \\cos{\\left(p_{3} \\right)}\\end{matrix}\\right]$"
      ],
      "text/plain": [
       "G3 := ⎡-l₁⋅sin(p₁) - l₂⋅sin(p₂) - l₃⋅sin(p₃) + q₁⎤\n",
       "⎢                                          ⎥\n",
       "⎣   l₁⋅cos(p₁) + l₂⋅cos(p₂) + l₃⋅cos(p₃)   ⎦"
      ]
     },
     "metadata": {},
     "output_type": "display_data"
    },
    {
     "data": {
      "text/plain": [
       "---"
      ]
     },
     "metadata": {},
     "output_type": "display_data"
    },
    {
     "data": {
      "image/png": "[encoded data removed]",
      "text/latex": [
       "S3 := $\\displaystyle \\left[\\begin{matrix}- a_{2} \\sin{\\left(p_{3} \\right)} - l_{1} \\sin{\\left(p_{1} \\right)} - l_{2} \\sin{\\left(p_{2} \\right)} + q_{1}\\\\a_{2} \\cos{\\left(p_{3} \\right)} + l_{1} \\cos{\\left(p_{1} \\right)} + l_{2} \\cos{\\left(p_{2} \\right)}\\end{matrix}\\right]$"
      ],
      "text/plain": [
       "S3 := ⎡-a₂⋅sin(p₃) - l₁⋅sin(p₁) - l₂⋅sin(p₂) + q₁⎤\n",
       "⎢                                          ⎥\n",
       "⎣   a₂⋅cos(p₃) + l₁⋅cos(p₁) + l₂⋅cos(p₂)   ⎦"
      ]
     },
     "metadata": {},
     "output_type": "display_data"
    },
    {
     "data": {
      "text/plain": [
       "---"
      ]
     },
     "metadata": {},
     "output_type": "display_data"
    }
   ],
   "source": [
    "# centers of masses (Si) and joints (Gi)\n",
    "\n",
    "S0 = G0 = ex*q1 ##:\n",
    "\n",
    "G1 = G0 + Rz(p1)*ey*l1 ##:\n",
    "S1 = G0 + Rz(p1)*ey*a1 ##:\n",
    "\n",
    "G2 = G1 + Rz(p2)*ey*l2 ##:\n",
    "S2 = G1 + Rz(p2)*ey*a2 ##:\n",
    "\n",
    "G3 = G2 + Rz(p3)*ey*l3 ##:\n",
    "S3 = G2 + Rz(p3)*ey*a2 ##:\n"
   ]
  },
  {
   "cell_type": "code",
   "execution_count": 7,
   "metadata": {
    "slideshow": {
     "slide_type": "slide"
    }
   },
   "outputs": [
    {
     "data": {
      "image/png": "[encoded data removed]",
      "text/latex": [
       "(S0dt, S1dt, S2dt, S3dt) := $\\displaystyle \\left( \\left[\\begin{matrix}\\dot{q}_{1}\\\\0\\end{matrix}\\right], \\  \\left[\\begin{matrix}- a_{1} \\dot{p}_{1} \\cos{\\left(p_{1} \\right)} + \\dot{q}_{1}\\\\- a_{1} \\dot{p}_{1} \\sin{\\left(p_{1} \\right)}\\end{matrix}\\right], \\  \\left[\\begin{matrix}- a_{2} \\dot{p}_{2} \\cos{\\left(p_{2} \\right)} - l_{1} \\dot{p}_{1} \\cos{\\left(p_{1} \\right)} + \\dot{q}_{1}\\\\- a_{2} \\dot{p}_{2} \\sin{\\left(p_{2} \\right)} - l_{1} \\dot{p}_{1} \\sin{\\left(p_{1} \\right)}\\end{matrix}\\right], \\  \\left[\\begin{matrix}- a_{2} \\dot{p}_{3} \\cos{\\left(p_{3} \\right)} - l_{1} \\dot{p}_{1} \\cos{\\left(p_{1} \\right)} - l_{2} \\dot{p}_{2} \\cos{\\left(p_{2} \\right)} + \\dot{q}_{1}\\\\- a_{2} \\dot{p}_{3} \\sin{\\left(p_{3} \\right)} - l_{1} \\dot{p}_{1} \\sin{\\left(p_{1} \\right)} - l_{2} \\dot{p}_{2} \\sin{\\left(p_{2} \\right)}\\end{matrix}\\right]\\right)$"
      ],
      "text/plain": [
       "(S0dt, S1dt, S2dt, S3dt) := ⎛⎡q̇₁⎤  ⎡-a₁⋅ṗ₁⋅cos(p₁) + q̇₁⎤  ⎡-a₂⋅ṗ₂⋅cos(p₂) - l₁⋅ṗ₁⋅cos(p₁) + q̇₁⎤  ⎡-a\n",
       "⎜⎢   ⎥, ⎢                     ⎥, ⎢                                      ⎥, ⎢  \n",
       "⎝⎣ 0 ⎦  ⎣   -a₁⋅ṗ₁⋅sin(p₁)   ⎦  ⎣   -a₂⋅ṗ₂⋅sin(p₂) - l₁⋅ṗ₁⋅sin(p₁)   ⎦  ⎣  \n",
       "\n",
       "₂⋅ṗ₃⋅cos(p₃) - l₁⋅ṗ₁⋅cos(p₁) - l₂⋅ṗ₂⋅cos(p₂) + q̇₁⎤⎞\n",
       "                                                     ⎥⎟\n",
       " -a₂⋅ṗ₃⋅sin(p₃) - l₁⋅ṗ₁⋅sin(p₁) - l₂⋅ṗ₂⋅sin(p₂)   ⎦⎠"
      ]
     },
     "metadata": {},
     "output_type": "display_data"
    },
    {
     "data": {
      "text/plain": [
       "---"
      ]
     },
     "metadata": {},
     "output_type": "display_data"
    }
   ],
   "source": [
    "# time derivatives of the coordinates of the centers of masses\n",
    "S0dt, S1dt, S2dt, S3dt = st.col_split(st.time_deriv(st.col_stack(S0, S1, S2, S3), ttheta)) ##:"
   ]
  },
  {
   "cell_type": "code",
   "execution_count": 8,
   "metadata": {
    "slideshow": {
     "slide_type": "slide"
    }
   },
   "outputs": [],
   "source": [
    "# kinetic energy of the cart\n",
    "T0 = 0.5 * m0 * qdot1**2\n",
    "# kinetic energy of pendulum1\n",
    "T1 = 0.5 * m1 * (S1dt.T * S1dt)[0] + 0.5 * J1 * pdot1**2\n",
    "# kinetic energy of pendulum2\n",
    "T2 = 0.5 * m2 * (S2dt.T * S2dt)[0] + 0.5 * J2 * pdot2**2\n",
    "# kinetic energy of pendulum3\n",
    "T3 = 0.5 * m3 * (S3dt.T * S3dt)[0] + 0.5 * J3 * pdot3**2\n",
    "\n",
    "# total kinetic energy\n",
    "T = T0 + T1 + T2 + T3\n",
    "\n",
    "# total potential energy\n",
    "V = g * (m1 * S1[1] + m2 * S2[1] + m3 * S3[1])\n",
    "\n",
    "# velocity dependent friction\n",
    "R = 0.5 * d1 * pdot1**2 + 0.5 * d2 * (pdot2 - pdot1)**2 + 0.5 * d3 * (pdot3 - pdot2)**2"
   ]
  },
  {
   "cell_type": "markdown",
   "metadata": {
    "slideshow": {
     "slide_type": "slide"
    }
   },
   "source": [
    "### Interactive visualization of kinematics"
   ]
  },
  {
   "cell_type": "code",
   "execution_count": 9,
   "metadata": {
    "slideshow": {
     "slide_type": "slide"
    }
   },
   "outputs": [
    {
     "data": {
      "application/vnd.jupyter.widget-view+json": {
       "model_id": "0d6d78768f4c4987ad5c44c8f84b864e",
       "version_major": 2,
       "version_minor": 0
      },
      "text/plain": [
       "interactive(children=(FloatSlider(value=0.0, description='p1', max=5.0, min=-5.0), FloatSlider(value=0.0, desc…"
      ]
     },
     "metadata": {},
     "output_type": "display_data"
    }
   ],
   "source": [
    "vis = vt.Visualiser(ttheta, xlim=(-4, 4), ylim=(-2, 2))\n",
    "vis.add_linkage(st.col_stack(G0, G1, G2, G3).subs(params_values))\n",
    "vis.interact(theta2=(-3.14, 3.14, 0.01))"
   ]
  },
  {
   "cell_type": "code",
   "execution_count": 9,
   "metadata": {
    "slideshow": {
     "slide_type": "slide"
    }
   },
   "outputs": [
    {
     "data": {
      "image/png": "[encoded data removed]",
      "text/latex": [
       "external_forces := $\\displaystyle \\left[ 0, \\  0, \\  0, \\  F\\right]$"
      ],
      "text/plain": [
       "external_forces := [0, 0, 0, F]"
      ]
     },
     "metadata": {},
     "output_type": "display_data"
    },
    {
     "name": "stdout",
     "output_type": "stream",
     "text": [
      "---\n"
     ]
    }
   ],
   "source": [
    "external_forces = [0, 0, 0, F] ##:"
   ]
  },
  {
   "cell_type": "code",
   "execution_count": 12,
   "metadata": {
    "slideshow": {
     "slide_type": "skip"
    }
   },
   "outputs": [
    {
     "name": "stdout",
     "output_type": "stream",
     "text": [
      "CPU times: user 28.8 s, sys: 16 ms, total: 28.8 s\n",
      "Wall time: 28.9 s\n"
     ]
    }
   ],
   "source": [
    "if 1:\n",
    "    %time mod = mt.generate_symbolic_model(T, V, ttheta, external_forces)\n",
    "    # %time mod.calc_coll_part_lin_state_eq()\n",
    "else:\n",
    "    # save some time\n",
    "    with open(\"model_triple_pendulum.pcl\", \"rb\") as pfile:\n",
    "        mod = pickle.load(pfile)"
   ]
  },
  {
   "cell_type": "code",
   "execution_count": 13,
   "metadata": {},
   "outputs": [
    {
     "name": "stdout",
     "output_type": "stream",
     "text": [
      "CPU times: user 1.09 s, sys: 4 ms, total: 1.09 s\n",
      "Wall time: 1.09 s\n"
     ]
    },
    {
     "data": {
      "image/png": "[encoded data removed]",
      "text/latex": [
       "(mod.f.co).T := $\\displaystyle \\left[\\begin{matrix}1 & 1 & 1 & 1 & 5214 & 5262 & 5346 & 5225\\end{matrix}\\right]$"
      ],
      "text/plain": [
       "(mod.f.co).T := [1  1  1  1  5214  5262  5346  5225]"
      ]
     },
     "metadata": {},
     "output_type": "display_data"
    },
    {
     "name": "stdout",
     "output_type": "stream",
     "text": [
      "---\n"
     ]
    }
   ],
   "source": [
    "%time mod.calc_state_eq(simplify=False)\n",
    "\n",
    "mod.f.co ##:T"
   ]
  },
  {
   "cell_type": "code",
   "execution_count": 14,
   "metadata": {
    "slideshow": {
     "slide_type": "slide"
    }
   },
   "outputs": [
    {
     "name": "stdout",
     "output_type": "stream",
     "text": [
      "gcc -c -fPIC -lm /media/workcard/workstickdir/projekte/rst_python/symbtools-TUD-RST-Account/symbtools/vf_f.c -o /media/workcard/workstickdir/projekte/rst_python/symbtools-TUD-RST-Account/symbtools/vf_f.o\n",
      "\n",
      "gcc -shared /media/workcard/workstickdir/projekte/rst_python/symbtools-TUD-RST-Account/symbtools/vf_f.o -o /media/workcard/workstickdir/projekte/rst_python/symbtools-TUD-RST-Account/symbtools/vf_f.so\n",
      "\n",
      "loading  /media/workcard/workstickdir/projekte/rst_python/symbtools-TUD-RST-Account/symbtools/vf_f.so\n",
      "gcc -c -fPIC -lm /media/workcard/workstickdir/projekte/rst_python/symbtools-TUD-RST-Account/symbtools/matrix_G.c -o /media/workcard/workstickdir/projekte/rst_python/symbtools-TUD-RST-Account/symbtools/matrix_G.o\n",
      "\n",
      "gcc -shared /media/workcard/workstickdir/projekte/rst_python/symbtools-TUD-RST-Account/symbtools/matrix_G.o -o /media/workcard/workstickdir/projekte/rst_python/symbtools-TUD-RST-Account/symbtools/matrix_G.so\n",
      "\n",
      "loading  /media/workcard/workstickdir/projekte/rst_python/symbtools-TUD-RST-Account/symbtools/matrix_G.so\n",
      "CPU times: user 8.09 s, sys: 68 ms, total: 8.16 s\n",
      "Wall time: 9.18 s\n"
     ]
    }
   ],
   "source": [
    "simmod = st.SimulationModel(mod.f, mod.g, mod.xx, model_parameters=params_values)\n",
    "\n",
    "%time rhs = simmod.create_simfunction(use_sp2c=True)"
   ]
  },
  {
   "cell_type": "code",
   "execution_count": 15,
   "metadata": {
    "slideshow": {
     "slide_type": "fragment"
    }
   },
   "outputs": [
    {
     "data": {
      "image/png": "[encoded data removed]",
      "text/latex": [
       "res.shape := $\\displaystyle \\left( 1000, \\  8\\right)$"
      ],
      "text/plain": [
       "res.shape := (1000, 8)"
      ]
     },
     "metadata": {},
     "output_type": "display_data"
    },
    {
     "name": "stdout",
     "output_type": "stream",
     "text": [
      "---\n",
      "CPU times: user 596 ms, sys: 4 ms, total: 600 ms\n",
      "Wall time: 849 ms\n"
     ]
    }
   ],
   "source": [
    "%%time\n",
    "\n",
    "xx0 = np.array([1, 2, 3, -3,  0, 0, 0, 1])\n",
    "\n",
    "# Simulate 5s\n",
    "tt = np.linspace(0, 5, 1000)\n",
    "res = odeint(rhs, xx0, tt)  ##:S"
   ]
  },
  {
   "cell_type": "code",
   "execution_count": 16,
   "metadata": {},
   "outputs": [
    {
     "data": {
      "text/plain": [
       "[<matplotlib.lines.Line2D at 0x7f248b3c4320>,\n",
       " <matplotlib.lines.Line2D at 0x7f248b3c4470>,\n",
       " <matplotlib.lines.Line2D at 0x7f248b3c45c0>,\n",
       " <matplotlib.lines.Line2D at 0x7f248b3c4710>,\n",
       " <matplotlib.lines.Line2D at 0x7f248b3c4860>,\n",
       " <matplotlib.lines.Line2D at 0x7f248b3c49b0>,\n",
       " <matplotlib.lines.Line2D at 0x7f248b3c4b00>,\n",
       " <matplotlib.lines.Line2D at 0x7f248b3c4c50>]"
      ]
     },
     "execution_count": 16,
     "metadata": {},
     "output_type": "execute_result"
    },
    {
     "data": {
      "image/png": "[encoded data removed]",
      "text/plain": [
       "<Figure size 432x288 with 1 Axes>"
      ]
     },
     "metadata": {
      "needs_background": "light"
     },
     "output_type": "display_data"
    }
   ],
   "source": [
    "plt.plot(tt, res)"
   ]
  },
  {
   "cell_type": "code",
   "execution_count": 18,
   "metadata": {},
   "outputs": [
    {
     "data": {
      "image/png": "[encoded data removed]",
      "text/plain": [
       "<Figure size 1008x504 with 1 Axes>"
      ]
     },
     "execution_count": 18,
     "metadata": {},
     "output_type": "execute_result"
    }
   ],
   "source": [
    "# Create object for Animation\n",
    "\n",
    "simanim = vt.SimAnimation(mod.xx[:4], tt, res[:, :4], figsize=(14, 7))\n",
    "simanim.add_visualiser(vis)\n",
    "\n",
    "# plot first frame\n",
    "simanim.plot_frame(0)"
   ]
  },
  {
   "cell_type": "code",
   "execution_count": 19,
   "metadata": {},
   "outputs": [],
   "source": [
    "# this is probably platform dependent:\n",
    "\n",
    "plt.rcParams[\"animation.codec\"] = \"libvpx-vp9\"  # codec for webm\n",
    "plt.rcParams['animation.ffmpeg_path'] = os.path.join(os.getenv(\"CONDA_PREFIX\"), \"bin\", \"ffmpeg\")\n",
    "# plt.rcParams['animation.ffmpeg_path'] = '/usr/bin/ffmpeg'\n",
    "\n"
   ]
  },
  {
   "cell_type": "code",
   "execution_count": 20,
   "metadata": {},
   "outputs": [],
   "source": [
    "# render animation to video file\n",
    "\n",
    "fname = 'triple_pendulum_animation_c.mp4'\n",
    "# simanim.save(fname, dpi=50)  "
   ]
  },
  {
   "cell_type": "code",
   "execution_count": 22,
   "metadata": {},
   "outputs": [
    {
     "data": {
      "text/html": [
       "\n",
       "    <video width=800  controls loop=\"loop\">\n",
       "        <source src=\"triple_pendulum_animation_c.mp4\" type=\"video/mp4\">\n",
       "    </video>\n",
       "    "
      ],
      "text/plain": [
       "<IPython.core.display.HTML object>"
      ]
     },
     "metadata": {},
     "output_type": "display_data"
    }
   ],
   "source": [
    "vt.display_video_file(fname, width=800)"
   ]
  }
 ],
 "metadata": {
  "kernelspec": {
   "display_name": "Python 3",
   "language": "python",
   "name": "python3"
  },
  "language_info": {
   "codemirror_mode": {
    "name": "ipython",
    "version": 3
   },
   "file_extension": ".py",
   "mimetype": "text/x-python",
   "name": "python",
   "nbconvert_exporter": "python",
   "pygments_lexer": "ipython3",
   "version": "3.7.3"
  }
 },
 "nbformat": 4,
 "nbformat_minor": 1
}
