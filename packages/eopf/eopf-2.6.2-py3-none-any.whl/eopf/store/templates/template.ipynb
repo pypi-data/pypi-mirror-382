{
    "cells": [
        {
            "cell_type": "markdown",
            "id": "1fd99199",
            "metadata": {},
            "source": [
                "### Gettings all imports"
            ]
        },
        {
            "cell_type": "code",
            "execution_count": null,
            "id": "396e4322-a3e9-4984-bc93-305b7b2ad984",
            "metadata": {},
            "outputs": [],
            "source": [
                "from eopf.product.template_factory import EOPFTemplateFactory"
            ]
        },
        {
            "cell_type": "markdown",
            "id": "97079563",
            "metadata": {},
            "source": [
                "### Gettings template factory object"
            ]
        },
        {
            "cell_type": "code",
            "execution_count": null,
            "id": "5aa72689-1509-4519-9130-cf4b29788e44",
            "metadata": {},
            "outputs": [],
            "source": [
                "template_factory = EOPFTemplateFactory()"
            ]
        },
        {
            "cell_type": "markdown",
            "id": "3957e91b",
            "metadata": {},
            "source": [
                "### Getting a template"
            ]
        },
        {
            "cell_type": "code",
            "execution_count": null,
            "id": "173baf23-ac7e-46a2-929a-1bc049558e55",
            "metadata": {},
            "outputs": [],
            "source": [
                "template = template_factory.get_template(product_type=\"S03SYNVG1\")"
            ]
        },
        {
            "cell_type": "code",
            "execution_count": null,
            "id": "66a38d85",
            "metadata": {},
            "outputs": [],
            "source": [
                "template_dt = template_factory.create_from_tempate(template)"
            ]
        },
        {
            "cell_type": "code",
            "execution_count": null,
            "id": "ca746ce1-86af-4cde-afc8-eb143b4fd472",
            "metadata": {},
            "outputs": [],
            "source": [
                "print(template_dt)"
            ]
        },
        {
            "cell_type": "markdown",
            "id": "0328d997",
            "metadata": {},
            "source": [
                "### Getting another template with context overload"
            ]
        },
        {
            "cell_type": "code",
            "execution_count": null,
            "id": "dfeb0f0a-813b-43c2-83ff-9dcc9febcb69",
            "metadata": {},
            "outputs": [],
            "source": [
                "template = template_factory.get_template(\n",
                "    product_type=\"S03SYNVG1\", \n",
                "    context_overcharge={\n",
                "        \"context\":{\n",
                "            \"_quality\": {\n",
                "            \"latitude\": 4000,\n",
                "            \"vertices\": 5,\n",
                "            \"longitude\": 8000\n",
                "            }\n",
                "        }\n",
                "    }\n",
                ")\n",
                "template_dt = template_factory.create_from_tempate(template)\n"
            ]
        },
        {
            "cell_type": "code",
            "execution_count": null,
            "id": "6cf6379f-8d55-4c30-a76f-e61bdf05b73b",
            "metadata": {},
            "outputs": [],
            "source": [
                "print(template_dt)"
            ]
        },
        {
            "cell_type": "markdown",
            "id": "3280476d",
            "metadata": {},
            "source": [
                "### Gettings attributes by short name"
            ]
        },
        {
            "cell_type": "code",
            "execution_count": null,
            "id": "e0518a49-2eca-44ac-9f45-6fab95b8d4bd",
            "metadata": {},
            "outputs": [],
            "source": [
                "template = template_factory.get_template(product_type=\"S03OLCEFR\")\n",
                "template_dt = template_factory.create_from_tempate(template)"
            ]
        },
        {
            "cell_type": "code",
            "execution_count": null,
            "id": "40a02113",
            "metadata": {},
            "outputs": [],
            "source": [
                "print(template_dt.conditions.geometry[\"oaa\"])"
            ]
        },
        {
            "cell_type": "code",
            "execution_count": null,
            "id": "3257b11a",
            "metadata": {},
            "outputs": [],
            "source": [
                "short_name_attrs = template_factory.get_attrs_by_short_name(template, \"oaa\")"
            ]
        },
        {
            "cell_type": "code",
            "execution_count": null,
            "id": "d3cb1e39",
            "metadata": {},
            "outputs": [],
            "source": [
                "print(short_name_attrs)"
            ]
        }
    ],
    "metadata": {
        "kernelspec": {
            "display_name": "Python 3 (ipykernel)",
            "language": "python",
            "name": "python3"
        },
        "language_info": {
            "codemirror_mode": {
                "name": "ipython",
                "version": 3
            },
            "file_extension": ".py",
            "mimetype": "text/x-python",
            "name": "python",
            "nbconvert_exporter": "python",
            "pygments_lexer": "ipython3",
            "version": "3.11.9"
        }
    },
    "nbformat": 4,
    "nbformat_minor": 5
}
