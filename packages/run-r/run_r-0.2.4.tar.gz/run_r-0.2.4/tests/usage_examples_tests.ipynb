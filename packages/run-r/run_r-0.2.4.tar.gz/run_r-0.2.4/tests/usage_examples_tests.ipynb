{
 "cells": [
  {
   "cell_type": "markdown",
   "id": "d542adb2",
   "metadata": {},
   "source": [
    "# run_r usage examples as tests\n",
    "\n",
    "Each code cell below mirrors a usage example from `usage_examples.py`, using separate R scripts under `r_scripts/`."
   ]
  },
  {
   "cell_type": "code",
   "execution_count": 1,
   "id": "58f0e08e",
   "metadata": {},
   "outputs": [
    {
     "name": "stdout",
     "output_type": "stream",
     "text": [
      "Environment ready.\n"
     ]
    }
   ],
   "source": [
    "import os, sys\n",
    "# add .. to path to allow imports from parent directory\n",
    "sys.path.insert(0, os.path.abspath(os.path.join(os.getcwd(), '..')))\n",
    "from run_r import run_r_script, RScriptRunner\n",
    "\n",
    "try:\n",
    "    import pandas as pd\n",
    "    import numpy as np\n",
    "except ImportError as e:\n",
    "    print(\"Optional dependencies missing:\", e)\n",
    "\n",
    "print(\"Environment ready.\")"
   ]
  },
  {
   "cell_type": "markdown",
   "id": "bd6b0199",
   "metadata": {},
   "source": [
    "Test 1: Basic usage (no input data) – runs `example.R`."
   ]
  },
  {
   "cell_type": "code",
   "execution_count": 2,
   "id": "54adb0af",
   "metadata": {},
   "outputs": [
    {
     "name": "stdout",
     "output_type": "stream",
     "text": [
      "Using R executable: C:\\Users\\garciaba\\AppData\\Local\\Programs\\R\\R-4.5.1\\bin\\Rscript.exe\n",
      "Example 1 passed. ['colors', 'data', 'is_active', 'my_list', 'my_matrix', 'name', 'numbers', 'pi_value', 'result', 'x']\n"
     ]
    }
   ],
   "source": [
    "variables = run_r_script(\"r_scripts/example.R\", verbose=False)\n",
    "assert isinstance(variables, dict)\n",
    "assert 'x' in variables\n",
    "assert 'result' in variables\n",
    "print(\"Example 1 passed.\", list(variables.keys()))"
   ]
  },
  {
   "cell_type": "markdown",
   "id": "6f9294b7",
   "metadata": {},
   "source": [
    "Test 2: Basic Python types to R – uses `r_scripts/basic_types.R`."
   ]
  },
  {
   "cell_type": "code",
   "execution_count": 3,
   "id": "003c6edc",
   "metadata": {},
   "outputs": [
    {
     "name": "stdout",
     "output_type": "stream",
     "text": [
      "Using R executable: C:\\Users\\garciaba\\AppData\\Local\\Programs\\R\\R-4.5.1\\bin\\Rscript.exe\n",
      "Example 2 passed. Hello Alice - average score: 88.75\n"
     ]
    }
   ],
   "source": [
    "input_data = {\n",
    "    \"name\": \"Alice\",\n",
    "    \"age\": 25,\n",
    "    \"is_student\": True,\n",
    "    \"scores\": [85, 90, 92, 88]\n",
    "}\n",
    "vars2 = run_r_script(\"r_scripts/basic_types.R\", input_data=input_data, verbose=False)\n",
    "assert 'result' in vars2\n",
    "assert 'message' in vars2\n",
    "print(\"Example 2 passed.\", vars2['message'])"
   ]
  },
  {
   "cell_type": "markdown",
   "id": "451f0657",
   "metadata": {},
   "source": [
    "Test 3: Pandas DataFrame to R – uses `r_scripts/dataframe.R`."
   ]
  },
  {
   "cell_type": "code",
   "execution_count": 4,
   "id": "e8519aac",
   "metadata": {},
   "outputs": [
    {
     "name": "stdout",
     "output_type": "stream",
     "text": [
      "Using R executable: C:\\Users\\garciaba\\AppData\\Local\\Programs\\R\\R-4.5.1\\bin\\Rscript.exe\n",
      "Example 3 passed.\n"
     ]
    },
    {
     "data": {
      "application/vnd.microsoft.datawrangler.viewer.v0+json": {
       "columns": [
        {
         "name": "index",
         "rawType": "object",
         "type": "string"
        },
        {
         "name": "metric",
         "rawType": "object",
         "type": "string"
        },
        {
         "name": "value",
         "rawType": "object",
         "type": "string"
        }
       ],
       "ref": "86fa949e-6bd5-421c-a754-593add5158c2",
       "rows": [
        [
         "1",
         "Total Revenue",
         "977"
        ],
        [
         "2",
         "Average Amount",
         "195.4"
        ],
        [
         "3",
         "Top Product",
         "Widget A"
        ]
       ],
       "shape": {
        "columns": 2,
        "rows": 3
       }
      },
      "text/html": [
       "<div>\n",
       "<style scoped>\n",
       "    .dataframe tbody tr th:only-of-type {\n",
       "        vertical-align: middle;\n",
       "    }\n",
       "\n",
       "    .dataframe tbody tr th {\n",
       "        vertical-align: top;\n",
       "    }\n",
       "\n",
       "    .dataframe thead th {\n",
       "        text-align: right;\n",
       "    }\n",
       "</style>\n",
       "<table border=\"1\" class=\"dataframe\">\n",
       "  <thead>\n",
       "    <tr style=\"text-align: right;\">\n",
       "      <th></th>\n",
       "      <th>metric</th>\n",
       "      <th>value</th>\n",
       "    </tr>\n",
       "  </thead>\n",
       "  <tbody>\n",
       "    <tr>\n",
       "      <th>1</th>\n",
       "      <td>Total Revenue</td>\n",
       "      <td>977</td>\n",
       "    </tr>\n",
       "    <tr>\n",
       "      <th>2</th>\n",
       "      <td>Average Amount</td>\n",
       "      <td>195.4</td>\n",
       "    </tr>\n",
       "    <tr>\n",
       "      <th>3</th>\n",
       "      <td>Top Product</td>\n",
       "      <td>Widget A</td>\n",
       "    </tr>\n",
       "  </tbody>\n",
       "</table>\n",
       "</div>"
      ],
      "text/plain": [
       "           metric     value\n",
       "1   Total Revenue       977\n",
       "2  Average Amount     195.4\n",
       "3     Top Product  Widget A"
      ]
     },
     "execution_count": 4,
     "metadata": {},
     "output_type": "execute_result"
    }
   ],
   "source": [
    "df = pd.DataFrame({\n",
    "    'product': ['Widget A', 'Widget B', 'Widget C', 'Widget A', 'Widget B'],\n",
    "    'amount': [100.50, 250.75, 150.25, 300.00, 175.50],\n",
    "    'quantity': [2, 5, 3, 6, 4]\n",
    "})\n",
    "vars3 = run_r_script(\"r_scripts/dataframe.R\", input_data={\"sales_data\": df}, verbose=False)\n",
    "assert 'total_revenue' in vars3\n",
    "assert 'avg_amount' in vars3\n",
    "assert 'top_product' in vars3\n",
    "assert 'summary_stats' in vars3\n",
    "print(\"Example 3 passed.\")\n",
    "\n",
    "# display the dataframe summary statistic\n",
    "vars3['summary_stats']"
   ]
  },
  {
   "cell_type": "markdown",
   "id": "2a418196",
   "metadata": {},
   "source": [
    "Test 4: Multiple inputs (DataFrame + parameters) – uses `r_scripts/multiple_inputs.R`."
   ]
  },
  {
   "cell_type": "code",
   "execution_count": 5,
   "id": "65d2476f",
   "metadata": {},
   "outputs": [
    {
     "name": "stdout",
     "output_type": "stream",
     "text": [
      "Using R executable: C:\\Users\\garciaba\\AppData\\Local\\Programs\\R\\R-4.5.1\\bin\\Rscript.exe\n",
      "Example 4 passed. 47.5 142.5\n"
     ]
    }
   ],
   "source": [
    "df = pd.DataFrame({\n",
    "    'id': [1, 2, 3, 4, 5, 6],\n",
    "    'value': [10, 25, 30, 15, 40, 5],\n",
    "    'category': ['A', 'B', 'A', 'C', 'B', 'A']\n",
    "})\n",
    "input_data = {\"data\": df, \"threshold\": 20, \"multiplier\": 1.5}\n",
    "vars4 = run_r_script(\"r_scripts/multiple_inputs.R\", input_data=input_data, verbose=False)\n",
    "assert 'mean_adjusted' in vars4\n",
    "assert 'total_adjusted' in vars4\n",
    "assert 'result_df' in vars4 and vars4['result_df'] is not None\n",
    "print(\"Example 4 passed.\", vars4['mean_adjusted'], vars4['total_adjusted'])"
   ]
  },
  {
   "cell_type": "markdown",
   "id": "c09844a4",
   "metadata": {},
   "source": [
    "Test 5: Reusable RScriptRunner – uses `r_scripts/sum_script.R` and `r_scripts/product_script.R`."
   ]
  },
  {
   "cell_type": "code",
   "execution_count": 6,
   "id": "1098ebdf",
   "metadata": {},
   "outputs": [
    {
     "name": "stdout",
     "output_type": "stream",
     "text": [
      "Using R executable: C:\\Users\\garciaba\\AppData\\Local\\Programs\\R\\R-4.5.1\\bin\\Rscript.exe\n",
      "Example 5 passed. 30 15\n"
     ]
    }
   ],
   "source": [
    "runner = RScriptRunner()\n",
    "res1 = runner.run_script(\"r_scripts/sum_script.R\", verbose=False, debug=False)\n",
    "res2 = runner.run_script(\"r_scripts/product_script.R\", verbose=False, debug=False)\n",
    "assert 'sum_result' in res1\n",
    "assert 'product_result' in res2\n",
    "print(\"Example 5 passed.\", res1['sum_result'], res2['product_result'])"
   ]
  },
  {
   "cell_type": "markdown",
   "id": "04580f3d",
   "metadata": {},
   "source": [
    "Test 6: Numpy arrays to R – uses `r_scripts/numpy_arrays.R`."
   ]
  },
  {
   "cell_type": "code",
   "execution_count": 7,
   "id": "c1b485ec",
   "metadata": {},
   "outputs": [
    {
     "name": "stdout",
     "output_type": "stream",
     "text": [
      "Using R executable: C:\\Users\\garciaba\\AppData\\Local\\Programs\\R\\R-4.5.1\\bin\\Rscript.exe\n",
      "Example 6 passed. 3.675 17 5.1\n"
     ]
    }
   ],
   "source": [
    "import numpy as np\n",
    "vector = np.array([1.5, np.nan, 3.9, 4.2, 5.1])\n",
    "matrix = np.array([[1, 2, 3], [np.nan, 5, 6]])\n",
    "vars6 = run_r_script(\"r_scripts/numpy_arrays.R\", input_data={\"vector\": vector, \"matrix\": matrix}, verbose=False)\n",
    "assert 'mean_vector' in vars6\n",
    "assert 'sum_matrix' in vars6\n",
    "assert 'max_vector' in vars6\n",
    "assert 'squared' in vars6\n",
    "print(\"Example 6 passed.\", vars6['mean_vector'], vars6['sum_matrix'], vars6['max_vector'])"
   ]
  },
  {
   "cell_type": "markdown",
   "id": "2a0e7415",
   "metadata": {},
   "source": [
    "Test 7: Statistical models with lme4 – uses `r_scripts/models_glmer.R` (may install packages and take longer)."
   ]
  },
  {
   "cell_type": "code",
   "execution_count": 8,
   "id": "5b11474b",
   "metadata": {},
   "outputs": [
    {
     "name": "stdout",
     "output_type": "stream",
     "text": [
      "Using R executable: C:\\Users\\garciaba\\AppData\\Local\\Programs\\R\\R-4.5.1\\bin\\Rscript.exe\n",
      "Example 7 passed. ['fit_stats', 'fixed_effects', 'model', 'random_effects', 'study_data']\n"
     ]
    }
   ],
   "source": [
    "import numpy as np\n",
    "import pandas as pd\n",
    "np.random.seed(42)\n",
    "n_subjects = 20\n",
    "n_obs_per_subject = 30\n",
    "subject_ids = np.repeat(range(n_subjects), n_obs_per_subject)\n",
    "subject_effects = np.random.randn(n_subjects) * 0.5\n",
    "predictor = np.random.randn(n_subjects * n_obs_per_subject)\n",
    "linear_pred = 0.5 * predictor + subject_effects[subject_ids]\n",
    "prob = 1 / (1 + np.exp(-linear_pred))\n",
    "response = (np.random.rand(len(prob)) < prob).astype(int)\n",
    "df = pd.DataFrame({\n",
    "    'subject_id': subject_ids,\n",
    "    'predictor': predictor,\n",
    "    'response': response\n",
    "})\n",
    "try:\n",
    "    vars7 = run_r_script(\"r_scripts/models_glmer.R\", input_data={\"study_data\": df}, verbose=False, debug=False)\n",
    "    assert 'model' in vars7 or 'fixed_effects' in vars7 or 'fit_stats' in vars7\n",
    "    print(\"Example 7 passed.\", list(vars7.keys()))\n",
    "except Exception as e:\n",
    "    print(\"Example 7 skipped due to error:\", e)\n",
    "\n"
   ]
  }
 ],
 "metadata": {
  "kernelspec": {
   "display_name": "3.9.12",
   "language": "python",
   "name": "python3"
  },
  "language_info": {
   "codemirror_mode": {
    "name": "ipython",
    "version": 3
   },
   "file_extension": ".py",
   "mimetype": "text/x-python",
   "name": "python",
   "nbconvert_exporter": "python",
   "pygments_lexer": "ipython3",
   "version": "3.9.12"
  }
 },
 "nbformat": 4,
 "nbformat_minor": 5
}
