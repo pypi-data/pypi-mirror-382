{
 "cells": [
  {
   "cell_type": "markdown",
   "id": "b34804ad",
   "metadata": {},
   "source": [
    "# Data sharing - iRODS permissions"
   ]
  },
  {
   "cell_type": "markdown",
   "id": "ea97cc95",
   "metadata": {},
   "source": [
    "In this tutorial we will show you how to share your data with other users in the iRODS system. To see the effects it is helpful to team up with a colleague!!!"
   ]
  },
  {
   "cell_type": "markdown",
   "id": "d81b1269",
   "metadata": {},
   "source": [
    "## What are permissions"
   ]
  },
  {
   "cell_type": "markdown",
   "id": "48815ec5",
   "metadata": {},
   "source": [
    "Permissions in iRODS are part of the data objects and collections. They give information and they allow other users of the same iRODS system to read and edit your data.\n",
    "\n",
    "<img src=\"img/DataObject6.png\" width=\"400\">\n",
    "\n",
    "In iRODS there are four types of permissions:\n",
    "\n",
    "| Access | Meaning|\n",
    "|:---:|:---|\n",
    "|read| The user or the group can **read and download** the data.|\n",
    "|write| The user or group can **modify data objects and upload data to collections**, but can not delete the data or collection.|\n",
    "|own| The user or group can **share and delete** the data.|"
   ]
  },
  {
   "cell_type": "markdown",
   "id": "dee1520f",
   "metadata": {},
   "source": [
    "## Give access to data objects and collections"
   ]
  },
  {
   "cell_type": "code",
   "execution_count": null,
   "id": "ed6a8a46",
   "metadata": {},
   "outputs": [],
   "source": [
    "from ibridges.interactive import interactive_auth\n",
    "session = interactive_auth()"
   ]
  },
  {
   "cell_type": "markdown",
   "id": "76f3ab74",
   "metadata": {},
   "source": [
    "Let us have a look at the permissions of our demo data:"
   ]
  },
  {
   "cell_type": "code",
   "execution_count": null,
   "id": "df8697e4",
   "metadata": {},
   "outputs": [],
   "source": [
    "from ibridges.path import IrodsPath\n",
    "\n",
    "irods_coll_path = IrodsPath(session, '~').joinpath('demo')\n",
    "coll = irods_coll_path.collection\n",
    "obj = irods_coll_path.joinpath('demofile.txt').dataobject"
   ]
  },
  {
   "cell_type": "markdown",
   "id": "785383c9",
   "metadata": {},
   "source": [
    "Like for the metadata we need to load the permissions."
   ]
  },
  {
   "cell_type": "code",
   "execution_count": null,
   "id": "3b3fc2d5",
   "metadata": {},
   "outputs": [],
   "source": [
    "from ibridges.permissions import Permissions\n",
    "coll_perm = Permissions(session, coll)\n",
    "print(coll_perm)"
   ]
  },
  {
   "cell_type": "markdown",
   "id": "43e1409b",
   "metadata": {},
   "source": [
    "In a native iRODS instance you will see your own username who is labeled with `own`. In Yoda you will see three groups: *research-\\<group\\>*, *read-\\<group\\>* and the *\\<datamanager\\>* group. Every user in these groups has the respective permissions on the data.\n",
    "\n",
    "Now we will give your colleague explicit access. **Note that if your colleague is also in one of the respective Yoda groups, the highest permission (the most powerful) will apply.**"
   ]
  },
  {
   "cell_type": "code",
   "execution_count": null,
   "id": "c70d6b13",
   "metadata": {},
   "outputs": [],
   "source": [
    "coll_perm.set('write', '<username>')\n",
    "print(coll_perm)"
   ]
  },
  {
   "cell_type": "markdown",
   "id": "3d1dd8d4",
   "metadata": {},
   "source": [
    "You will see a new entry with your colleague's iRODS name and *modify object*. We can get the default permission names like that:"
   ]
  },
  {
   "cell_type": "code",
   "execution_count": null,
   "id": "795dea7b",
   "metadata": {},
   "outputs": [],
   "source": [
    "coll_perm.available_permissions"
   ]
  },
  {
   "cell_type": "markdown",
   "id": "bbebfaca",
   "metadata": {},
   "source": [
    "Note that some permission-types have synonyms:\n",
    "\n",
    "+ read object: 'read', 'read object', 'read_object'\n",
    "+ modify object: 'write', 'modify object', 'modify_object'"
   ]
  },
  {
   "cell_type": "markdown",
   "id": "63a89479",
   "metadata": {},
   "source": [
    "## Remove access"
   ]
  },
  {
   "cell_type": "markdown",
   "id": "b8713621",
   "metadata": {},
   "source": [
    "To remove any permissions, we use the keyword *null*. Again, please note, if your colleague is still part of a group that has access to your data, this will have no effect."
   ]
  },
  {
   "cell_type": "code",
   "execution_count": null,
   "id": "7c804ff3",
   "metadata": {},
   "outputs": [],
   "source": [
    "coll_perm.set('null', '<username>')\n",
    "print(coll_perm)"
   ]
  },
  {
   "cell_type": "markdown",
   "id": "0e3f3562",
   "metadata": {},
   "source": [
    "iBridges also prohibits that you lock yourself out of your data:"
   ]
  },
  {
   "cell_type": "code",
   "execution_count": null,
   "id": "144c2d96",
   "metadata": {},
   "outputs": [],
   "source": [
    "coll_perm.set('write', session.username)"
   ]
  },
  {
   "cell_type": "markdown",
   "id": "f167ffae",
   "metadata": {},
   "source": [
    "All the above functionality can also be used for objects"
   ]
  },
  {
   "cell_type": "code",
   "execution_count": null,
   "id": "b322bdb9",
   "metadata": {},
   "outputs": [],
   "source": [
    "obj_perm = Permissions(session, obj)\n",
    "print(obj_perm)"
   ]
  },
  {
   "cell_type": "markdown",
   "id": "b4cff4b3",
   "metadata": {},
   "source": [
    "## Collections: Inheritance"
   ]
  },
  {
   "cell_type": "markdown",
   "id": "6a4e0119",
   "metadata": {},
   "source": [
    "You might have noticed that collections carry a special permissions keyword *inheritance* which can be `True` or `False`. If inheritance is switched on all new data objects and subcollections will receive the same permissions as the parent collection.\n",
    "\n",
    "Below we create a new collection, ans give access to your colleague and switch the inheritance on:"
   ]
  },
  {
   "cell_type": "code",
   "execution_count": null,
   "id": "2073f3b5",
   "metadata": {},
   "outputs": [],
   "source": [
    "new_coll_path = IrodsPath(session, '~').joinpath('demo1')\n",
    "coll = IrodsPath.create_collection(session, new_coll_path)\n",
    "coll_perm = Permissions(session, coll)\n",
    "coll_perm.set('write', '<username>')\n",
    "coll_perm.set('inherit')\n",
    "print(coll_perm)"
   ]
  },
  {
   "cell_type": "markdown",
   "id": "8c462e8d",
   "metadata": {},
   "source": [
    "Now we create a new subcollection:"
   ]
  },
  {
   "cell_type": "code",
   "execution_count": null,
   "id": "88b5fbd2",
   "metadata": {},
   "outputs": [],
   "source": [
    "subcoll = IrodsPath.create_collection(session, new_coll_path.joinpath('subcoll'))"
   ]
  },
  {
   "cell_type": "markdown",
   "id": "7e00c83f",
   "metadata": {},
   "source": [
    "And inspect the permissions. They should be the same as the ones above."
   ]
  },
  {
   "cell_type": "code",
   "execution_count": null,
   "id": "e38a779c",
   "metadata": {},
   "outputs": [],
   "source": [
    "subcoll_perm = Permissions(session, subcoll)\n",
    "print(subcoll_perm)"
   ]
  },
  {
   "cell_type": "markdown",
   "id": "896e5f3d",
   "metadata": {},
   "source": [
    "Now we will switch off the inheritance of the parent collection and create another subcollection:"
   ]
  },
  {
   "cell_type": "code",
   "execution_count": null,
   "id": "f588a39c",
   "metadata": {},
   "outputs": [],
   "source": [
    "coll_perm.set('noinherit')\n",
    "print(coll_perm)"
   ]
  },
  {
   "cell_type": "code",
   "execution_count": null,
   "id": "5af70cf0",
   "metadata": {},
   "outputs": [],
   "source": [
    "subcoll = IrodsPath.create_collection(session, new_coll_path.joinpath('subcoll1'))\n",
    "subcoll_perm = Permissions(session, subcoll)\n",
    "print(subcoll_perm)"
   ]
  },
  {
   "cell_type": "markdown",
   "id": "8838c6bd",
   "metadata": {},
   "source": [
    "You will see now that you `own` *subcoll1*, that the inheritance of this collection is also `False` and that you colleague has no permissions on the new subcollection."
   ]
  },
  {
   "cell_type": "code",
   "execution_count": null,
   "id": "39fecb18",
   "metadata": {},
   "outputs": [],
   "source": []
  }
 ],
 "metadata": {
  "kernelspec": {
   "display_name": "Python 3 (ipykernel)",
   "language": "python",
   "name": "python3"
  },
  "language_info": {
   "codemirror_mode": {
    "name": "ipython",
    "version": 3
   },
   "file_extension": ".py",
   "mimetype": "text/x-python",
   "name": "python",
   "nbconvert_exporter": "python",
   "pygments_lexer": "ipython3",
   "version": "3.9.18"
  }
 },
 "nbformat": 4,
 "nbformat_minor": 5
}
