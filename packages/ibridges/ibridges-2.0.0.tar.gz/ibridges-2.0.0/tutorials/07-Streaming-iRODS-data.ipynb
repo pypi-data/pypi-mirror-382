{
 "cells": [
  {
   "cell_type": "markdown",
   "id": "d0ee0ad1",
   "metadata": {},
   "source": [
    "# iBridges in compute tasks"
   ]
  },
  {
   "cell_type": "markdown",
   "id": "c74d7aca",
   "metadata": {},
   "source": [
    "In this notebook we show how to employ iBridges to find data by its metadata in iRODS and employ this data in a compute workflow.\n",
    "\n",
    "We do not store data on local disk in this example, we rather stream the content of the data objects into memory, i.e. a variable which we use in the compute workflow. Similarly we do not save the results in a file but directly stream them into a new data object on the iRODS server."
   ]
  },
  {
   "cell_type": "markdown",
   "id": "d07fa233",
   "metadata": {},
   "source": [
    "## Prerequisites"
   ]
  },
  {
   "cell_type": "markdown",
   "id": "d514427e",
   "metadata": {},
   "source": [
    "- Access to an iRODS instance\n",
    "- Some textual data files labeled with the metadata key `author` and metadata value `Lewis Carroll`."
   ]
  },
  {
   "cell_type": "code",
   "execution_count": null,
   "id": "9f19a37e",
   "metadata": {},
   "outputs": [],
   "source": [
    "!ibridges list irods:my_books"
   ]
  },
  {
   "cell_type": "markdown",
   "id": "999c2e2d",
   "metadata": {},
   "source": [
    "## 1. Find the data in iRODS"
   ]
  },
  {
   "cell_type": "code",
   "execution_count": null,
   "id": "013aed4f",
   "metadata": {},
   "outputs": [],
   "source": [
    "from pprint import pprint\n",
    "from ibridges.interactive import interactive_auth\n",
    "from ibridges.search import search_data, MetaSearch"
   ]
  },
  {
   "cell_type": "code",
   "execution_count": null,
   "id": "e4529a29",
   "metadata": {},
   "outputs": [],
   "source": [
    "session = interactive_auth()"
   ]
  },
  {
   "cell_type": "code",
   "execution_count": null,
   "id": "f8b2ee62",
   "metadata": {},
   "outputs": [],
   "source": [
    "KEY = 'author'\n",
    "VALUE = 'Lewis Carroll'"
   ]
  },
  {
   "cell_type": "code",
   "execution_count": null,
   "id": "5b9f8974",
   "metadata": {},
   "outputs": [],
   "source": [
    "data = search_data(session, metadata=MetaSearch(key=KEY, value=VALUE))\n",
    "pprint(data)"
   ]
  },
  {
   "cell_type": "markdown",
   "id": "2c494e33",
   "metadata": {},
   "source": [
    "## 2. Stream content into a variable"
   ]
  },
  {
   "cell_type": "code",
   "execution_count": null,
   "id": "1e41e3e7",
   "metadata": {},
   "outputs": [],
   "source": [
    "from ibridges import IrodsPath"
   ]
  },
  {
   "cell_type": "code",
   "execution_count": null,
   "id": "20ce2810",
   "metadata": {},
   "outputs": [],
   "source": [
    "text = \"\""
   ]
  },
  {
   "cell_type": "code",
   "execution_count": null,
   "id": "4277143f",
   "metadata": {},
   "outputs": [],
   "source": [
    "for irods_path in data:\n",
    "    with irods_path.open('r') as handle:\n",
    "        text = text + handle.read().decode()"
   ]
  },
  {
   "cell_type": "code",
   "execution_count": null,
   "id": "7937bc29",
   "metadata": {},
   "outputs": [],
   "source": [
    "print(text[1700:1900])"
   ]
  },
  {
   "cell_type": "markdown",
   "id": "e5571656",
   "metadata": {},
   "source": [
    "## 3. Do your analysis"
   ]
  },
  {
   "cell_type": "code",
   "execution_count": null,
   "id": "188b78d4",
   "metadata": {},
   "outputs": [],
   "source": [
    "from collections import Counter\n",
    "import string\n",
    "\n",
    "def wordcount(text):\n",
    "    # Convert to list of words, without punctuation\n",
    "    words = [''.join(char for char in word\n",
    "             if char not in string.punctuation) for word in text.split()]\n",
    "    print(\"Number of words:\", len(words))\n",
    "    unique_words_count = Counter(words)\n",
    "    return unique_words_count"
   ]
  },
  {
   "cell_type": "code",
   "execution_count": null,
   "id": "8d851666",
   "metadata": {},
   "outputs": [],
   "source": [
    "result = wordcount(text)\n",
    "print(f\"Alice: {result['Alice']}\")"
   ]
  },
  {
   "cell_type": "markdown",
   "id": "986587e3",
   "metadata": {},
   "source": [
    "## 4. Write the results directly to iRODS"
   ]
  },
  {
   "cell_type": "markdown",
   "id": "861f5936",
   "metadata": {},
   "source": [
    "### Create a new empty data object"
   ]
  },
  {
   "cell_type": "code",
   "execution_count": null,
   "id": "16acf514",
   "metadata": {},
   "outputs": [],
   "source": [
    "import json\n",
    "irods_path = IrodsPath(session, \"wordcount_result.json\")\n",
    "with irods_path.open('w') as obj_write:\n",
    "    obj_write.write(json.dumps(result).encode())"
   ]
  },
  {
   "cell_type": "code",
   "execution_count": null,
   "id": "421e2446",
   "metadata": {},
   "outputs": [],
   "source": [
    "print(f\"New object of size {irods_path.size}\")"
   ]
  },
  {
   "cell_type": "markdown",
   "id": "90e6e21c",
   "metadata": {},
   "source": [
    "### Add some descriptive metadata"
   ]
  },
  {
   "cell_type": "code",
   "execution_count": null,
   "id": "1780c671",
   "metadata": {},
   "outputs": [],
   "source": [
    "from datetime import datetime"
   ]
  },
  {
   "cell_type": "code",
   "execution_count": null,
   "id": "c127da96",
   "metadata": {},
   "outputs": [],
   "source": [
    "datetime.today()"
   ]
  },
  {
   "cell_type": "code",
   "execution_count": null,
   "id": "00c8076e",
   "metadata": {},
   "outputs": [],
   "source": [
    "irods_path.meta.add('ISEARCH', KEY + '==' + VALUE)\n",
    "irods_path.meta.add('prov:SoftwareAgent', 'wordcount.py')\n",
    "irods_path.meta.add('prov:wasDerivedFrom', str(data))\n",
    "irods_path.meta.add('prov:actedOnBehalfOf', 'Christine')\n",
    "irods_path.meta.add('prov:generatedAtTime', datetime.now().strftime(\"%m/%d/%Y, %H:%M\"))"
   ]
  },
  {
   "cell_type": "code",
   "execution_count": null,
   "id": "16129b59",
   "metadata": {},
   "outputs": [],
   "source": [
    "print(irods_path.meta)"
   ]
  },
  {
   "cell_type": "code",
   "execution_count": null,
   "id": "9dc02c64",
   "metadata": {},
   "outputs": [],
   "source": []
  }
 ],
 "metadata": {
  "kernelspec": {
   "display_name": "Python 3 (ipykernel)",
   "language": "python",
   "name": "python3"
  },
  "language_info": {
   "codemirror_mode": {
    "name": "ipython",
    "version": 3
   },
   "file_extension": ".py",
   "mimetype": "text/x-python",
   "name": "python",
   "nbconvert_exporter": "python",
   "pygments_lexer": "ipython3",
   "version": "3.9.18"
  }
 },
 "nbformat": 4,
 "nbformat_minor": 5
}
