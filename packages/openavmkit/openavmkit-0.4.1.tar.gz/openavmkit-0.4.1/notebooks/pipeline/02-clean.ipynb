{
 "cells": [
  {
   "cell_type": "markdown",
   "id": "70472390-e9ca-4ae6-bf44-ea173ecd6ea3",
   "metadata": {},
   "source": [
    "# Clean\n",
    "\n",
    "This notebook loads your assembled data and prepares it for modeling.\n",
    "\n",
    "The final output is a `sup` that is fully ready for modeling and analysis.\n",
    "\n",
    "Here's what happens in this notebook:\n",
    "- We fill gaps in the data using reasonable assumptions\n",
    "- We prepare the data for further analysis by marking clusters\n",
    "- We process sales validity information\n",
    "- We run our own sales scrutiny heuristic to make sure we only use trustworthy sales that reflect market value\n",
    "\n",
    "These operations are necessary for modeling, but nevertheless inject a certain amount of subjectivity into the model, which is why we keep the results of the **Clean** notebook separate from those produced in the **Assemble** notebook."
   ]
  },
  {
   "cell_type": "code",
   "execution_count": null,
   "id": "f52848e147c86a3c",
   "metadata": {},
   "outputs": [],
   "source": [
    "# Change these as desired\n",
    "\n",
    "# The slug of the locality you are currently working on\n",
    "locality = \"us-pa-philadelphia\"\n",
    "\n",
    "# Whether to print out a lot of stuff (can help with debugging) or stay mostly quiet\n",
    "verbose = True\n",
    "\n",
    "# Clear previous state for this notebook and start fresh\n",
    "clear_checkpoints = True\n",
    "\n",
    "# Set to true to have sales scrutiny drop sales rather than just flagging them\n",
    "sales_scrutiny_drop_outliers = False    # Drop outlier sales in sales clusters\n",
    "sales_scrutiny_drop_heuristics = True  # Drop sales that match suspicious metadata patterns"
   ]
  },
  {
   "cell_type": "markdown",
   "id": "94e2b17504a799e4",
   "metadata": {},
   "source": [
    "# 1. Basic setup"
   ]
  },
  {
   "cell_type": "code",
   "execution_count": null,
   "id": "5091e3d7-3524-4d8a-b74f-e300e63b146f",
   "metadata": {},
   "outputs": [],
   "source": [
    "import init_notebooks\n",
    "init_notebooks.setup_environment()"
   ]
  },
  {
   "cell_type": "code",
   "execution_count": null,
   "id": "initial_id",
   "metadata": {},
   "outputs": [],
   "source": [
    "# import a bunch of stuff\n",
    "from openavmkit.pipeline import (\n",
    "    init_notebook,\n",
    "    from_checkpoint,\n",
    "    delete_checkpoints,\n",
    "    write_checkpoint,\n",
    "    read_pickle,\n",
    "    load_settings,\n",
    "    examine_sup,\n",
    "    fill_unknown_values_sup,\n",
    "    process_sales,\n",
    "    mark_ss_ids_per_model_group_sup,\n",
    "    mark_horizontal_equity_clusters_per_model_group_sup,\n",
    "    run_sales_scrutiny,\n",
    "    write_notebook_output_sup\n",
    ")"
   ]
  },
  {
   "cell_type": "code",
   "execution_count": null,
   "id": "bac878e081b1c36f",
   "metadata": {},
   "outputs": [],
   "source": [
    "init_notebook(locality)"
   ]
  },
  {
   "cell_type": "code",
   "execution_count": null,
   "id": "6c9e992b-bc8e-4571-b31c-10e787af2e06",
   "metadata": {},
   "outputs": [],
   "source": [
    "if clear_checkpoints:\n",
    "    delete_checkpoints(\"2-clean\")"
   ]
  },
  {
   "cell_type": "markdown",
   "id": "be1bd860-b07c-46cf-a362-e0e74eb0eb2a",
   "metadata": {},
   "source": [
    "# 2. Load data"
   ]
  },
  {
   "cell_type": "code",
   "execution_count": null,
   "id": "17f058f7-20b3-4a09-a5ff-519559ae6fe1",
   "metadata": {},
   "outputs": [],
   "source": [
    "settings = load_settings()"
   ]
  },
  {
   "cell_type": "code",
   "execution_count": null,
   "id": "9ac4ae929de30695",
   "metadata": {},
   "outputs": [],
   "source": [
    "# load the data\n",
    "sales_univ_pair = read_pickle(\"out/1-assemble-sup\")"
   ]
  },
  {
   "cell_type": "code",
   "execution_count": null,
   "id": "5ac7f077-104c-43ba-99b6-f29e60179f94",
   "metadata": {},
   "outputs": [],
   "source": [
    "examine_sup(sales_univ_pair, settings)"
   ]
  },
  {
   "cell_type": "markdown",
   "id": "cebf2f4c-16ec-4be4-a5d4-f50b36d5fde6",
   "metadata": {},
   "source": [
    "# 3. Fill unknowns\n",
    "\n",
    "Modeling functions are unable to process null data, so you need to fill them in somehow.   \n",
    "The goal is to **eliminate all gaps in your data,** at least for fields you intend to turn into modeling variables.\n",
    "\n",
    "Consult the documentation for more details and best practices on filling unknown values."
   ]
  },
  {
   "cell_type": "code",
   "execution_count": null,
   "id": "b3f6c117-2685-4cb6-970e-9dd21fa3c37c",
   "metadata": {},
   "outputs": [],
   "source": [
    "# Fill holes in the data with sensible defaults\n",
    "sales_univ_pair = fill_unknown_values_sup(sales_univ_pair, settings)"
   ]
  },
  {
   "cell_type": "markdown",
   "id": "89c2d9c6-bfea-4bbd-ae74-078e54732f5b",
   "metadata": {},
   "source": [
    "# 4. Clustering\n",
    "\n",
    "We cluster all similar properties and give each cluster a unique ID.  \n",
    "Later, we'll use these ID's whenever we want to run a horizontal equity study.\n"
   ]
  },
  {
   "cell_type": "code",
   "execution_count": null,
   "id": "a9e16813-3e0c-4177-b9b9-1f65e059f6af",
   "metadata": {},
   "outputs": [],
   "source": [
    "settings = load_settings()\n",
    "sales_univ_pair = from_checkpoint(\"2-clean-00-horizontal-equity\", mark_horizontal_equity_clusters_per_model_group_sup,\n",
    "    {\n",
    "        \"sup\": sales_univ_pair,\n",
    "        \"settings\": settings,\n",
    "        \"verbose\": verbose,\n",
    "        \"do_land_clusters\": True,\n",
    "        \"do_impr_clusters\": True\n",
    "    }\n",
    ")"
   ]
  },
  {
   "cell_type": "markdown",
   "id": "67036e5e-468f-4ccd-a784-940d86c0c13a",
   "metadata": {},
   "source": [
    "## 5. Process sales\n",
    "\n",
    "We process sales validity information to set all the right codes for later use.  \n",
    "We calculate time trends for sales over time to generate time-adjusted sale prices."
   ]
  },
  {
   "cell_type": "code",
   "execution_count": null,
   "id": "139bd8e6-38bd-499f-b68b-412febf914dc",
   "metadata": {},
   "outputs": [],
   "source": [
    "sales_univ_pair = from_checkpoint(\"2-clean-01-process_sales\", process_sales,\n",
    "    {\n",
    "        \"sup\": sales_univ_pair,\n",
    "        \"settings\": load_settings(),\n",
    "        \"verbose\": verbose\n",
    "    }\n",
    ")"
   ]
  },
  {
   "cell_type": "markdown",
   "id": "6c331f62-f35b-47b4-8a2e-19149f95a2c5",
   "metadata": {},
   "source": [
    "## 6. Scrutinize sales\n",
    "\n",
    "We cluster all sales of similar properties in similar locations.  \n",
    "We flag individual sales that are anomalously high or low for their local cluster.  \n",
    "This helps us catch potentially invalid sales that slipped by the assessor's notice.  "
   ]
  },
  {
   "cell_type": "code",
   "execution_count": null,
   "id": "d1bedf35-32b7-4a9a-bf30-46950c270483",
   "metadata": {},
   "outputs": [],
   "source": [
    "sales_univ_pair = from_checkpoint(\"2-clean-02-sales-scrutiny\", run_sales_scrutiny,\n",
    "    {\n",
    "        \"sup\": sales_univ_pair, \n",
    "        \"settings\": load_settings(), \n",
    "        \"drop_cluster_outliers\": sales_scrutiny_drop_outliers, \n",
    "        \"drop_heuristic_outliers\": sales_scrutiny_drop_heuristics, \n",
    "        \"verbose\": verbose\n",
    "    }\n",
    ")"
   ]
  },
  {
   "cell_type": "markdown",
   "id": "563e780e-8475-41c7-955e-2688c0837da0",
   "metadata": {},
   "source": [
    "# 7. Write out results"
   ]
  },
  {
   "cell_type": "code",
   "execution_count": null,
   "id": "b0e5e1eb-b1bd-4b77-9e49-2a5e8e75c3fc",
   "metadata": {},
   "outputs": [],
   "source": [
    "write_notebook_output_sup(sales_univ_pair, \"2-clean\")"
   ]
  },
  {
   "cell_type": "markdown",
   "id": "b7977159-a81f-4de2-b27e-1605f871ae6d",
   "metadata": {},
   "source": [
    "# 8. Look at it on a map!\n",
    "- Take the files output in the previous step and put them in a map viewer like QGIS, ArcGIS, or Felt\n",
    "- Look at them with your eyeballs\n",
    "- Make sure the data looks correct\n",
    "- If not, go back and fix it!\n",
    "- Don't proceed to the next step until everything looks right"
   ]
  },
  {
   "cell_type": "code",
   "execution_count": null,
   "id": "8576dff4-3dd0-401b-b880-fcaffbc9cb46",
   "metadata": {},
   "outputs": [],
   "source": []
  }
 ],
 "metadata": {
  "kernelspec": {
   "display_name": "Python (my_library_env)",
   "language": "python",
   "name": "my_library_env"
  },
  "language_info": {
   "codemirror_mode": {
    "name": "ipython",
    "version": 3
   },
   "file_extension": ".py",
   "mimetype": "text/x-python",
   "name": "python",
   "nbconvert_exporter": "python",
   "pygments_lexer": "ipython3",
   "version": "3.10.6"
  }
 },
 "nbformat": 4,
 "nbformat_minor": 5
}
