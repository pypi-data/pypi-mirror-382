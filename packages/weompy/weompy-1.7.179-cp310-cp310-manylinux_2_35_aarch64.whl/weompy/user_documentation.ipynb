{
 "cells": [
  {
   "cell_type": "markdown",
   "metadata": {},
   "source": [
    "# Python interface for WEOM"
   ]
  },
  {
   "cell_type": "markdown",
   "metadata": {},
   "source": [
    "## Prerequisites\n",
    "\n",
    "- Python version 3.8 to 3.12"
   ]
  },
  {
   "cell_type": "markdown",
   "metadata": {},
   "source": [
    "## Importing the module\n",
    "- First step is importing the module into your python environment:"
   ]
  },
  {
   "cell_type": "code",
   "execution_count": null,
   "metadata": {},
   "outputs": [],
   "source": [
    "import weompy"
   ]
  },
  {
   "cell_type": "markdown",
   "metadata": {},
   "source": [
    "The module's base class, `CoreManager`, provides functionality to connect, communicate, and control WEOM.\n",
    "> 💡 **Hint:** for methods and functions you can use `help()`. Autocomplete is also available."
   ]
  },
  {
   "cell_type": "code",
   "execution_count": null,
   "metadata": {},
   "outputs": [],
   "source": [
    "help(weompy.CoreManager)"
   ]
  },
  {
   "cell_type": "markdown",
   "metadata": {},
   "source": [
    "## Connecting to WEOM\n",
    "\n",
    "* The `CoreManager` class exposes these methods for connection to WEOM:\n",
    "    * `connectUart(port, baudrate)`\n",
    "    * `connectUart(port)` - will try to connect to the port with all available baudrates\n",
    "    * `connectUartAuto()` - will try to connect to all ports with all available baudrates\n",
    "    * `connectGigeWithID(connectionID)` - will connect to a GigE plugin based on the given connectionID\n",
    "    * `connectGigeWithDevice(gigeDevice)` - will connect to a GigE plugin based on the given gigeDevice \n",
    "> 📝 **Note:** Select the appropriate method based on your plugin\n",
    "* to disconnect:\n",
    "    * `disconnect()`"
   ]
  },
  {
   "cell_type": "code",
   "execution_count": null,
   "metadata": {},
   "outputs": [],
   "source": [
    "core = weompy.CoreManager()\n",
    "try:\n",
    "    core.connectUartAuto()\n",
    "    print(f'Connected to port {core.getPortName()}')\n",
    "except Exception as e:\n",
    "    print(str(e))"
   ]
  },
  {
   "cell_type": "markdown",
   "metadata": {},
   "source": [
    "### Methods for controlling WEOM\n",
    "\n",
    "These methods are used to control the device\n",
    "\n",
    "* `runMotorFocusCalibration` is used to manually trigger the calibration of the motor focus\n",
    "* `runNucOffsetUpdate` is used for manually triggering a NUC update\n",
    "* `resetCore` will restart the device. It will boot into the same mode (MAIN/LOADER) it was restarted from\n",
    "* `resetToFactoryDefault` will reset the device to default factory settings\n"
   ]
  },
  {
   "cell_type": "code",
   "execution_count": null,
   "metadata": {},
   "outputs": [],
   "source": [
    "core.runNucOffsetUpdate()"
   ]
  },
  {
   "cell_type": "markdown",
   "metadata": {},
   "source": [
    "## Property\n",
    "* to access each individual parameter of WEOM, you can use the so called `Property`\n",
    "* each property has its own unique identifier (string), with which you can address it\n",
    "* because the properties are changing based on the connected device, the `CoreManager` class has the following methods to manipulate them:\n",
    "    * `getPropertyIds()` - returns a list of identifiers for all available properties\n",
    "    * `isPropertyReadable(property)` - returns `True`, if the property is readable\n",
    "    * `isPropertyWritable(property)` - returns `True`, if the property is writable\n",
    "    * `hasProperty(property)` - returns `True`, if the property is readable or writable\n",
    "    * `getPropertyDescription(property)` - returns the property description\n",
    "> ⚠️ **Warning:** The methods above can be called without an active connection to the device. The read/write permissions change based on the connected device.\n",
    "* use these methods for getting/setting property values:\n",
    "    * `getPropertyValue(property)` - returns the property value, will throw an exception if the property cannot be read from WEOM, or if it failed to validate\n",
    "    * `setPropertyValue(property, value)` - will try to set `property` to `value`, will throw an exception if it fails\n"
   ]
  },
  {
   "cell_type": "code",
   "execution_count": null,
   "metadata": {},
   "outputs": [],
   "source": [
    "core.getPropertyIds()"
   ]
  },
  {
   "cell_type": "code",
   "execution_count": null,
   "metadata": {},
   "outputs": [],
   "source": [
    "propertyId = 'NUC_ADAPTIVE_THRESHOLD_CURRENT'\n",
    "print(core.getPropertyDescription(propertyId))\n",
    "if core.isPropertyReadable(propertyId):\n",
    "    try:\n",
    "        value = core.getPropertyValue(propertyId)\n",
    "        print(value)\n",
    "    except Exception as e:\n",
    "        print(str(e))"
   ]
  },
  {
   "cell_type": "code",
   "execution_count": null,
   "metadata": {},
   "outputs": [],
   "source": [
    "propertyId = 'NUC_ADAPTIVE_THRESHOLD_CURRENT'\n",
    "if core.isPropertyWritable(propertyId):\n",
    "    try:\n",
    "        core.setPropertyValue(propertyId, 2.3)\n",
    "        print('OK')\n",
    "    except Exception as e:\n",
    "        print(str(e))"
   ]
  },
  {
   "cell_type": "markdown",
   "metadata": {},
   "source": [
    "### Dead pixels (property)\n",
    "* `DeadPixels` - set of dead pixels and their replacements\n",
    "* `DeadPixel` - specific dead pixel and its replacement\n",
    "* `PixelCoordinates` - pixel coordinates [x (1-640), y (1-480)]\n",
    "> ⚠️ **Warning:**  an attempt to create `PixelCoordinates` with invalid values will throw an exception"
   ]
  },
  {
   "cell_type": "code",
   "execution_count": null,
   "metadata": {},
   "outputs": [],
   "source": [
    "propertyId = 'DEAD_PIXELS_IN_FLASH'\n",
    "print(core.getPropertyDescription(propertyId))\n",
    "if core.isPropertyReadable(propertyId):\n",
    "    try:\n",
    "        value = core.getPropertyValue(propertyId)\n",
    "        print(value)\n",
    "        for dp in value.getDeadPixelsList():\n",
    "            print(dp)\n",
    "    except Exception as e:\n",
    "        print(str(e))"
   ]
  },
  {
   "cell_type": "code",
   "execution_count": null,
   "metadata": {},
   "outputs": [],
   "source": [
    "deadPixels = weompy.DeadPixels()\n",
    "\n",
    "dp1 = weompy.DeadPixel(1, 5)\n",
    "deadPixels.insertDeadPixel(dp1)\n",
    "\n",
    "deadPixels.recomputeReplacements() # create automatic replacements\n",
    "\n",
    "dp2 = weompy.DeadPixel(23, 12)\n",
    "dp2.addReplacement(weompy.PixelCoordinates(23, 11)) # manual replacement 1\n",
    "dp2.addReplacement(weompy.PixelCoordinates(24, 12)) # manual replacement 2\n",
    "\n",
    "try:\n",
    "    deadPixels.insertDeadPixel(dp2) # insert pixel with manual replacements\n",
    "except Exception as e:\n",
    "    print(str(e))\n",
    "\n",
    "print(deadPixels)\n",
    "for dp in deadPixels.getDeadPixelsList():\n",
    "    print(dp)\n",
    "\n",
    "propertyId = 'DEAD_PIXELS_CURRENT'\n",
    "if core.isPropertyWritable(propertyId):\n",
    "    try:\n",
    "        core.setPropertyValue(propertyId, deadPixels) # trigger for dead pixel removal is called automatically\n",
    "        print('OK')\n",
    "    except Exception as e:\n",
    "        print(str(e))"
   ]
  },
  {
   "cell_type": "markdown",
   "metadata": {},
   "source": [
    "## Triggers"
   ]
  },
  {
   "cell_type": "markdown",
   "metadata": {},
   "source": [
    "They are divided into two types of triggers `common` and `reset`, common triggers work with the properties of the device and reset works with its operation\n",
    "\n",
    "* `activateCommonTrigger(trigger)`\n",
    "    * `NUC_OFFSET_UPDATE` - for main, triggers nuc offset update\n",
    "    * `CLEAN_DP` - for main, clears dead pixels including internal registers (must be called before loading a new set of dead pixels!)\n",
    "    * `SET_SELECTED_PRESET` - for main, starts setting the selected preset\n",
    "    * `MOTORFOCUS_CALIBRATION` - for main, starts motorfocus calibration\n",
    "    * `FRAME_CAPTURE_START` - for main, starts image capture\n",
    "\n",
    "* `activateResetTriggerAndReconnect(trigger)`\n",
    "    * `SOFTWARE_RESET` - for main, triggers soft restart and disconnects\n",
    "    * `RESET_TO_LOADER` - for main, trigger a reboot to loader and disconnect\n",
    "    * `RESET_TO_FACTORY_DEFAULT` - for main, triggers reset to factory defaults and disconnects"
   ]
  },
  {
   "cell_type": "markdown",
   "metadata": {},
   "source": [
    "## Image capture\n",
    "\n",
    "* to get images from WEOM, the `CoreManager` class has these methods:\n",
    "    * `captureImage()` - returns `Image`\n",
    "    * `captureImages(count)` - returns `List[Image]`\n",
    "* frames are represented by the `Image` class with the following methods:\n",
    "    * `getData()` - returns `List[int]` (specifically `uint16`) with raw image data\n",
    "    * `save(path)` - saves image to path\n",
    "    * `load(path)` - static method, loads image from path\n",
    "    * `getWidth()` - return image width\n",
    "    * `getHeight()` - returns image height\n",
    "    * `getPixelValue(pixelCoordinates)` - returns value representation of a pixel, specified by `PixelCoordinates` class"
   ]
  },
  {
   "cell_type": "code",
   "execution_count": null,
   "metadata": {},
   "outputs": [],
   "source": [
    "try:\n",
    "    image = core.captureImage()\n",
    "    print(image)\n",
    "    image.save('image.wti')\n",
    "    image2 = weompy.Image.load('image.wti')\n",
    "    print(image.getPixelValue(weompy.PixelCoordinates(1, 1)))\n",
    "except Exception as e:\n",
    "    print(str(e))"
   ]
  },
  {
   "cell_type": "code",
   "execution_count": null,
   "metadata": {},
   "outputs": [],
   "source": [
    "try:\n",
    "    images = core.captureImages(2)\n",
    "    print(images)\n",
    "except Exception as e:\n",
    "    print(str(e))"
   ]
  },
  {
   "cell_type": "markdown",
   "metadata": {},
   "source": [
    "## Firmware update\n",
    "\n",
    "* to update WEOM firmware use method `updateFirmare(firmwarePath)` of class `CoreManager`\n",
    "    * argument `firmwarePath` is used to give the path to the .uwtc firmware file"
   ]
  },
  {
   "cell_type": "code",
   "execution_count": null,
   "metadata": {},
   "outputs": [],
   "source": [
    "try:\n",
    "    core.updateFirmware('HDMI_0_4_67.uwtc')\n",
    "    print(\"OK\")\n",
    "except Exception as e:\n",
    "    print(str(e))"
   ]
  },
  {
   "cell_type": "markdown",
   "metadata": {},
   "source": [
    "## Find gigeDevices\n",
    "\n",
    "* to find GigE devices that you can connect to: use method `findGigeDevices()` of the `CoreManager` class\n",
    "    * method returns `list[gigeDevice]`, you can use these methods to access info about `gigeDevice`:\n",
    "        * `getType` returns `USB`, `Network` or `Unknown` based on device type\n",
    "        * `getMac` returns the MAC address of device if type is `Network`, otherwise \"\"\n",
    "        * `getGateway` returns the gateway of device if type is `Network`, otherwise \"\"\n",
    "        * `getSubnet` returns the subnet of device if type is `Network`, otherwise \"\"\n",
    "        * `getIp` returns the IP address of device if type is `Network`, otherwise \"\"\n",
    "        * `getName` returns the name of the device\n",
    "        * `getSerialNumber` returns the serial number of device\n",
    "        * `getConnectionID` returns connectionID string, used to connect to device"
   ]
  },
  {
   "cell_type": "markdown",
   "metadata": {},
   "source": [
    "## Sample to colorize video with our colorization logic\n",
    "- `colorizeImageDataToArgb(Palette palette, ImageData imageData)` - returns a list in format [A, R, G, B, A, R, G, B, ...], where alpha is 255\n",
    "- `colorizeImageDataToBgra(Palette palette, ImageData imageData)` - returns a list in format [B, G, R, A, B, G, R, A, ...], where alpha is 255\n",
    "- `colorizeImageDataToArgb(Palette palette, ImageData imageData, int alpha)` - returns a list in format [A, R, G, B, A, R, G, B, ...], where alpha is configurable\n",
    "- `colorizeImageDataToBgra(Palette palette, ImageData imageData, int alpha)` - returns a list in format [B, G, R, A, B, G, R, A, ...], where alpha is configurable"
   ]
  },
  {
   "cell_type": "code",
   "execution_count": null,
   "metadata": {},
   "outputs": [],
   "source": [
    "import numpy as np\n",
    "import cv2\n",
    "import time\n",
    "\n",
    "core.startStream(weompy.VideoFormat.POST_COLORING)\n",
    "palette = core.getPropertyValue(\"PALETTE_FACTORY_1_CURRENT\")\n",
    "\n",
    "width = 640\n",
    "height = 480\n",
    "\n",
    "while True:\n",
    "    # Capture image and colorize\n",
    "    image_array = core.getImageDataFromStream()\n",
    "    colorized = core.colorizeImageDataToBgra(palette, image_array, 255)\n",
    "    arr = np.frombuffer(colorized, dtype=np.uint8).reshape((height, width, 4))\n",
    "    cv2.imshow(\"Colorized Frame\", arr)\n",
    "\n",
    "    # Exit on ESC\n",
    "    if cv2.waitKey(1) & 0xFF == 27:\n",
    "        break\n",
    "\n",
    "cv2.destroyAllWindows()"
   ]
  },
  {
   "cell_type": "markdown",
   "metadata": {},
   "source": [
    "## Parsing status of device\n",
    "- `isNucActive()` - returns if camera is running NUC\n",
    "- `isCameraNotReady()` - returns if camera is ready to respond to commands\n",
    "- `isCameraInMain()` - returns if camera is in main programme\n",
    "- `isCameraInLoader()` - returns if camera is in loader\n",
    "- `isAnyTriggerActive()` - returns if any trigger is currently running on camera"
   ]
  },
  {
   "cell_type": "code",
   "execution_count": null,
   "metadata": {},
   "outputs": [],
   "source": [
    "print(core.isNucActive())\n",
    "print(core.isCameraNotReady())\n",
    "print(core.isCameraInMain())\n",
    "print(core.isCameraInLoader())\n",
    "print(core.isAnyTriggerActive())"
   ]
  },
  {
   "cell_type": "markdown",
   "metadata": {},
   "source": [
    "## Reticle\n",
    "You can change the reticle display mode and position. The display mode has next values: `DISABLED`, `DARK`, `BRIGHT`, `AUTO`, `INVERTED`.\n",
    "- `DISABLED` - Turns off the reticle display. No aiming cross will be visible.\n",
    "- `DARK` - Displays the reticle using the lowest color index in the palette, suitable for bright backgrounds.\n",
    "- `BRIGHT` - Displays the reticle using the highest color index in the palette, suitable for dark backgrounds.\n",
    "- `AUTO` - Automatically adjusts the reticle color for maximum contrast against the background.\n",
    "- `INVERTED` - Shows the reticle in the opposite color or intensity to the background for enhanced visibility.\n",
    "\n",
    "The horizontal range is [-200 : 200]. The vertical range is [-100 : 100]. The code below shows how to set display mode and position for the reticle."
   ]
  },
  {
   "cell_type": "code",
   "execution_count": null,
   "metadata": {},
   "outputs": [],
   "source": [
    "try:\n",
    "    core.setPropertyValue('RETICLE_MODE_CURRENT', \"BRIGHT\")\n",
    "    core.setPropertyValue('RETICLE_SHIFT_X_AXIS_CURRENT', 100)\n",
    "    core.setPropertyValue('RETICLE_SHIFT_Y_AXIS_CURRENT', -50)\n",
    "    print('OK')\n",
    "except Exception as e:\n",
    "    print(str(e))"
   ]
  }
 ],
 "metadata": {
  "kernelspec": {
   "display_name": "Python 3 (ipykernel)",
   "language": "python",
   "name": "python3"
  },
  "language_info": {
   "codemirror_mode": {
    "name": "ipython",
    "version": 3
   },
   "file_extension": ".py",
   "mimetype": "text/x-python",
   "name": "python",
   "nbconvert_exporter": "python",
   "pygments_lexer": "ipython3",
   "version": "3.10.3"
  }
 },
 "nbformat": 4,
 "nbformat_minor": 4
}
