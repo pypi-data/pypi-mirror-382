{
 "cells": [
  {
   "cell_type": "code",
   "execution_count": null,
   "metadata": {},
   "outputs": [],
   "source": [
    "%load_ext nb_unittest\n",
    "from jinja2 import DictLoader, Environment \n",
    "from nb_unittest.templ import templ\n",
    "\n",
    "loader = DictLoader({\n",
    "    \"assertion.html\": \"{{ error }}\",\n",
    "    \"missing.html\": \"This attribute is missing: {{ missing }}\",\n",
    "    \"wait.html\": \"Please wait. Beep. Boop.\",\n",
    "    \"result.html\": \"\"\"{% for item in result.failures + result.errors %}{{ item[1] }}{% endfor %}\n",
    "\"\"\"\n",
    "})\n",
    "templ.env = Environment(loader=loader)"
   ]
  },
  {
   "cell_type": "code",
   "execution_count": null,
   "metadata": {
    "tags": [
     "student"
    ]
   },
   "outputs": [],
   "source": []
  },
  {
   "cell_type": "code",
   "execution_count": null,
   "metadata": {
    "tags": [
     "testbank"
    ]
   },
   "outputs": [],
   "source": [
    "%%testing\n",
    "from nbquiz.testbank import bank"
   ]
  },
  {
   "cell_type": "code",
   "execution_count": null,
   "metadata": {
    "tags": [
     "runner"
    ]
   },
   "outputs": [],
   "source": [
    "%%testing\n",
    "import nb_unittest \n",
    "nbtest_cases = bank.match(nb_unittest.tags())"
   ]
  },
  {
   "cell_type": "code",
   "execution_count": null,
   "metadata": {
    "tags": [
     "checker"
    ]
   },
   "outputs": [],
   "source": [
    "import nb_unittest\n",
    "nb_unittest.assert_ok()"
   ]
  }
 ],
 "metadata": {
  "kernelspec": {
   "display_name": "venv-p4e",
   "language": "python",
   "name": "python3"
  },
  "language_info": {
   "codemirror_mode": {
    "name": "ipython",
    "version": 3
   },
   "file_extension": ".py",
   "mimetype": "text/x-python",
   "name": "python",
   "nbconvert_exporter": "python",
   "pygments_lexer": "ipython3",
   "version": "3.10.12"
  }
 },
 "nbformat": 4,
 "nbformat_minor": 2
}
