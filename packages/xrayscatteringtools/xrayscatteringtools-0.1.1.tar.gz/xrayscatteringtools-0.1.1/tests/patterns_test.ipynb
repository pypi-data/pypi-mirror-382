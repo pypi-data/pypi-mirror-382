{
 "cells": [
  {
   "cell_type": "code",
   "execution_count": null,
   "id": "d81afe27",
   "metadata": {},
   "outputs": [],
   "source": [
    "from xrayscatteringtools.theory.patterns import SF6_MP2_aug_cc_pVDZ as MP2\n",
    "from xrayscatteringtools.theory.patterns import SF6_CCSD_aug_cc_pVDZ as CCSD\n",
    "from xrayscatteringtools.theory.patterns import SF6_HF_aug_cc_pVDZ as HF\n",
    "from xrayscatteringtools.theory import iam_total_pattern, iam_inelastic_pattern, iam_elastic_pattern\n",
    "import matplotlib.pyplot as plt"
   ]
  },
  {
   "cell_type": "markdown",
   "id": "606f14ea",
   "metadata": {},
   "source": [
    "### Total Comparisons"
   ]
  },
  {
   "cell_type": "code",
   "execution_count": null,
   "id": "150c2e48",
   "metadata": {},
   "outputs": [],
   "source": [
    "plt.figure(figsize=(15, 6))\n",
    "plt.subplot(1, 2, 1)\n",
    "plt.plot(MP2.q, MP2.I_q*MP2.q, label=\"MP2 Total\")\n",
    "plt.plot(HF.q, HF.I_q*HF.q, label=\"HF Total\")\n",
    "plt.plot(MP2.q, iam_total_pattern('sf6_ground.xyz', MP2.q)*MP2.q, label=\"IAM Total\")\n",
    "plt.plot(CCSD.q, CCSD.I_q*CCSD.q, label=\"CCSD Total\")\n",
    "plt.xlabel(\"Momentum Transfer q (Å⁻¹)\")\n",
    "plt.ylabel(\"q * I(q) (arb. units)\")\n",
    "plt.title(\"Total Scattering Intensity Comparison\")\n",
    "plt.legend()\n",
    "plt.subplot(1, 2, 2)\n",
    "# Difference Plots\n",
    "plt.plot(MP2.q, (MP2.I_q - CCSD.I_q), label=\"MP2 - CCSD\")\n",
    "plt.plot(MP2.q, (MP2.I_q - iam_total_pattern('sf6_ground.xyz', MP2.q)), label=\"MP2 - IAM\")\n",
    "plt.plot(CCSD.q, (CCSD.I_q - iam_total_pattern('sf6_ground.xyz', CCSD.q)), label=\"CCSD - IAM\")\n",
    "plt.plot(HF.q, (HF.I_q - iam_total_pattern('sf6_ground.xyz', HF.q)), label=\"HF - IAM\")\n",
    "plt.xlabel(\"Momentum Transfer q (Å⁻¹)\")\n",
    "plt.ylabel(\"q * ΔI(q) (arb. units)\")\n",
    "plt.title(\"Total Scattering Intensity Differences\")\n",
    "plt.legend()\n",
    "plt.show()"
   ]
  },
  {
   "cell_type": "markdown",
   "id": "c7faa771",
   "metadata": {},
   "source": [
    "### Elastic Differences"
   ]
  },
  {
   "cell_type": "code",
   "execution_count": null,
   "id": "76115cac",
   "metadata": {},
   "outputs": [],
   "source": [
    "plt.figure(figsize=(15, 6))\n",
    "plt.subplot(1, 2, 1)\n",
    "plt.plot(MP2.q, MP2.I_q_elastic*MP2.q, label=\"MP2 Elastic\")\n",
    "plt.plot(CCSD.q, CCSD.I_q_elastic*CCSD.q, label=\"CCSD Elastic\")\n",
    "plt.plot(HF.q, HF.I_q_elastic*HF.q, label=\"HF Elastic\")\n",
    "plt.plot(MP2.q, iam_elastic_pattern('sf6_ground.xyz', MP2.q)*MP2.q, label=\"IAM Elastic\")\n",
    "plt.xlabel(\"Momentum Transfer q (Å⁻¹)\")\n",
    "plt.ylabel(\"q * I(q) (arb. units)\")\n",
    "plt.title(\"Elastic Scattering Intensity Comparison\")\n",
    "plt.legend()\n",
    "plt.subplot(1, 2, 2)\n",
    "# Difference Plots\n",
    "plt.plot(MP2.q, (MP2.I_q_elastic - CCSD.I_q_elastic), label=\"MP2 - CCSD\")\n",
    "plt.plot(MP2.q, (MP2.I_q_elastic - iam_elastic_pattern('sf6_ground.xyz', MP2.q)), label=\"MP2 - IAM\")\n",
    "plt.plot(CCSD.q, (CCSD.I_q_elastic - iam_elastic_pattern('sf6_ground.xyz', CCSD.q)), label=\"CCSD - IAM\")\n",
    "plt.xlabel(\"Momentum Transfer q (Å⁻¹)\")\n",
    "plt.ylabel(\"q * ΔI(q) (arb. units)\")\n",
    "plt.title(\"Elastic Scattering Intensity Differences\")\n",
    "plt.legend()\n",
    "plt.show()"
   ]
  },
  {
   "cell_type": "markdown",
   "id": "93b4bca2",
   "metadata": {},
   "source": [
    "### Inelastic differences"
   ]
  },
  {
   "cell_type": "code",
   "execution_count": null,
   "id": "804b1765",
   "metadata": {},
   "outputs": [],
   "source": [
    "plt.figure(figsize=(15, 6))\n",
    "plt.subplot(1, 2, 1)\n",
    "plt.plot(MP2.q, MP2.I_q_inelastic, label=\"MP2 Inelastic\")\n",
    "plt.plot(CCSD.q, CCSD.I_q_inelastic, label=\"CCSD Inelastic\")\n",
    "plt.plot(HF.q, HF.I_q_inelastic, label=\"HF Inelastic\", linestyle='dashed')\n",
    "plt.plot(MP2.q, iam_inelastic_pattern('sf6_ground.xyz', MP2.q), label=\"IAM Inelastic\")\n",
    "plt.xlabel(\"Momentum Transfer q (Å⁻¹)\")\n",
    "plt.ylabel(\"I(q) (arb. units)\")\n",
    "plt.title(\"Inelastic Scattering Intensity Comparison\")\n",
    "plt.legend()\n",
    "plt.xlim(0,4.5)\n",
    "plt.subplot(1, 2, 2)\n",
    "# Difference Plots\n",
    "plt.plot(MP2.q, (MP2.I_q_inelastic - CCSD.I_q_inelastic), label=\"MP2 - CCSD\")\n",
    "plt.plot(MP2.q, (MP2.I_q_inelastic - iam_inelastic_pattern('sf6_ground.xyz', MP2.q)), label=\"MP2 - IAM\")\n",
    "plt.plot(CCSD.q, (CCSD.I_q_inelastic - iam_inelastic_pattern('sf6_ground.xyz', CCSD.q)), label=\"CCSD - IAM\")\n",
    "plt.xlabel(\"Momentum Transfer q (Å⁻¹)\")\n",
    "plt.ylabel(\"q * ΔI(q) (arb. units)\")\n",
    "plt.title(\"Inelastic Scattering Intensity Differences\")\n",
    "plt.legend()\n",
    "plt.show()"
   ]
  },
  {
   "cell_type": "code",
   "execution_count": null,
   "id": "7583c9a4",
   "metadata": {},
   "outputs": [],
   "source": [
    "# plt.plot(MP2.q, MP2.I_q_elastic/MP2.I_q, label=\"MP2 Elastic Ratio\")\n",
    "plt.plot(CCSD.q, (CCSD.I_q_elastic)/CCSD.I_q, label=\"CCSD Elastic Ratio\")\n",
    "plt.plot(CCSD.q, (CCSD.I_q-(CCSD.I_q_inelastic-5))/CCSD.I_q, label=\"CCSD Elastic Ratio Offset\")\n",
    "# plt.plot(HF.q, HF.I_q_elastic/HF.I_q, label=\"HF Elastic Ratio\")\n",
    "# plt.plot(MP2.q, iam_elastic_pattern('sf6_ground.xyz', MP2.q)/iam_total_pattern('sf6_ground.xyz', MP2.q), label=\"IAM Elastic Ratio\")\n",
    "plt.axhline(1, color='black', linestyle='dashed')\n",
    "plt.xlim(0,4.2)\n",
    "plt.legend()"
   ]
  },
  {
   "cell_type": "code",
   "execution_count": null,
   "id": "8fe1c3a6",
   "metadata": {},
   "outputs": [],
   "source": []
  }
 ],
 "metadata": {
  "kernelspec": {
   "display_name": "Python 3",
   "language": "python",
   "name": "python3"
  },
  "language_info": {
   "codemirror_mode": {
    "name": "ipython",
    "version": 3
   },
   "file_extension": ".py",
   "mimetype": "text/x-python",
   "name": "python",
   "nbconvert_exporter": "python",
   "pygments_lexer": "ipython3",
   "version": "3.10.0"
  }
 },
 "nbformat": 4,
 "nbformat_minor": 5
}
