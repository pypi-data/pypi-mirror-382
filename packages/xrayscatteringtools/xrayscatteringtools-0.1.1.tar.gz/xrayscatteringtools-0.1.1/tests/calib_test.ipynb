{
 "cells": [
  {
   "cell_type": "code",
   "execution_count": null,
   "id": "33279c70",
   "metadata": {},
   "outputs": [],
   "source": [
    "import sys\n",
    "sys.path.append('../src') # If the module is not installed.\n",
    "import xrayscatteringtools.calib.scattering_corrections\n",
    "import matplotlib.pyplot as plt\n",
    "import numpy as np\n",
    "\n",
    "keV = 15.155\n",
    "\n",
    "q = np.linspace(0.1, 4, 1000)\n",
    "\n",
    "cell_factor = xrayscatteringtools.calib.scattering_corrections.cell_correction(q, keV)\n",
    "Be_factor = xrayscatteringtools.calib.scattering_corrections.Be_correction(q, keV)\n",
    "Al_factor = xrayscatteringtools.calib.scattering_corrections.Al_correction(q, keV)\n",
    "Kapton_factor = xrayscatteringtools.calib.scattering_corrections.KaptonHN_correction(q, keV)\n",
    "Si_factor = xrayscatteringtools.calib.scattering_corrections.Si_correction(q, keV)\n",
    "total_factor = xrayscatteringtools.calib.scattering_corrections.correction_factor(q, keV)\n",
    "\n",
    "plt.figure(figsize=(18,10))\n",
    "plt.subplot(2,3,1)\n",
    "plt.plot(q, cell_factor, label='Cell Correction Factor')\n",
    "plt.xlabel('q (1/Angstrom)')\n",
    "plt.ylabel('Correction Factor')\n",
    "plt.title('Cell Correction Factor')\n",
    "plt.subplot(2,3,2)\n",
    "plt.plot(q, Be_factor, label='Be Correction Factor')\n",
    "plt.xlabel('q (1/Angstrom)')\n",
    "plt.ylabel('Correction Factor')\n",
    "plt.title('Be Correction Factor')\n",
    "plt.subplot(2,3,3)\n",
    "plt.plot(q, Al_factor, label='Al Correction Factor')\n",
    "plt.xlabel('q (1/Angstrom)')\n",
    "plt.ylabel('Correction Factor')\n",
    "plt.title('Al Correction Factor')\n",
    "plt.subplot(2,3,4)\n",
    "plt.plot(q, Kapton_factor, label='Kapton Correction Factor')\n",
    "plt.xlabel('q (1/Angstrom)')\n",
    "plt.ylabel('Correction Factor')\n",
    "plt.title('Kapton Correction Factor')\n",
    "plt.subplot(2,3,5)\n",
    "plt.plot(q, Si_factor, label='Si Correction Factor')\n",
    "plt.xlabel('q (1/Angstrom)')\n",
    "plt.ylabel('Correction Factor')\n",
    "plt.title('Si Correction Factor')\n",
    "plt.subplot(2,3,6)\n",
    "plt.plot(q, total_factor, label='Total Correction Factor')\n",
    "plt.xlabel('q (1/Angstrom)')\n",
    "plt.ylabel('Correction Factor')\n",
    "plt.title('Total Correction Factor')"
   ]
  },
  {
   "cell_type": "code",
   "execution_count": null,
   "id": "2ae44bf5",
   "metadata": {},
   "outputs": [],
   "source": [
    "# Cross reference these with henke and Ma et al. (2024)\n",
    "print(xrayscatteringtools.calib.scattering_corrections.Be_attenuation_length(15.155)*1e6)\n",
    "print(xrayscatteringtools.calib.scattering_corrections.Al_attenuation_length(15.155)*1e6)\n",
    "print(xrayscatteringtools.calib.scattering_corrections.Si_attenuation_length(15.155)*1e6)\n",
    "print(xrayscatteringtools.calib.scattering_corrections.KaptonHN_attenuation_length(15.155)*1e6)\n"
   ]
  },
  {
   "cell_type": "code",
   "execution_count": null,
   "id": "7713650c",
   "metadata": {},
   "outputs": [],
   "source": [
    "plt.figure(figsize=(6,4))\n",
    "keV = 10\n",
    "q = np.linspace(0.1, 4, 1000)\n",
    "total_factor = xrayscatteringtools.calib.scattering_corrections.correction_factor(q, keV)\n",
    "plt.plot(q, total_factor, label='10 keV')\n",
    "keV = 15\n",
    "q = np.linspace(0.1, 6.7, 1000)\n",
    "total_factor = xrayscatteringtools.calib.scattering_corrections.correction_factor(q, keV)\n",
    "plt.plot(q, total_factor, label='15 keV')\n",
    "keV = 18\n",
    "q = np.linspace(0.1, 8.9, 1000)\n",
    "total_factor = xrayscatteringtools.calib.scattering_corrections.correction_factor(q, keV)\n",
    "plt.plot(q, total_factor, label='18 keV')\n",
    "keV = 20\n",
    "q = np.linspace(0.1, 10, 1000)\n",
    "total_factor = xrayscatteringtools.calib.scattering_corrections.correction_factor(q, keV)\n",
    "plt.plot(q, total_factor, label='20 keV')\n",
    "plt.legend()\n",
    "plt.title('Recreated figure from Ma et al (2024).')\n",
    "plt.xlabel('q ($\\mathrm{Å^{-1}}$)')\n",
    "plt.ylabel('$\\eta_{AoS}(2\\theta)$')\n",
    "plt.show()"
   ]
  }
 ],
 "metadata": {
  "kernelspec": {
   "display_name": "Python 3",
   "language": "python",
   "name": "python3"
  },
  "language_info": {
   "codemirror_mode": {
    "name": "ipython",
    "version": 3
   },
   "file_extension": ".py",
   "mimetype": "text/x-python",
   "name": "python",
   "nbconvert_exporter": "python",
   "pygments_lexer": "ipython3",
   "version": "3.10.0"
  }
 },
 "nbformat": 4,
 "nbformat_minor": 5
}
