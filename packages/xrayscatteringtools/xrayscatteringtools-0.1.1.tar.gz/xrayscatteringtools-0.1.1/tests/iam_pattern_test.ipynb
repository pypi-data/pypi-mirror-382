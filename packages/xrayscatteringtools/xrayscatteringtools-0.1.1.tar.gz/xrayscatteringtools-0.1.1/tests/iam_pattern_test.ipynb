{
 "cells": [
  {
   "cell_type": "code",
   "execution_count": null,
   "id": "c8f003c7",
   "metadata": {},
   "outputs": [],
   "source": [
    "import sys\n",
    "sys.path.append('../src') # If the module is not installed.\n",
    "from xrayscatteringtools.theory.iam import iam_total_pattern, iam_inelastic_pattern, iam_elastic_pattern, iam_compton_spectrum\n",
    "import matplotlib.pyplot as plt\n",
    "import numpy as np\n",
    "\n",
    "q_arr = np.linspace(0, 10, 1000)  # Example q values\n",
    "total_pattern = iam_total_pattern('sf6_ground.xyz', q_arr)\n",
    "elastic_pattern = iam_elastic_pattern('sf6_ground.xyz', q_arr)\n",
    "inelastic_pattern = iam_inelastic_pattern('sf6_ground.xyz', q_arr)\n",
    "\n",
    "plt.figure(figsize=(10, 6))\n",
    "plt.plot(q_arr, total_pattern, label='Total Pattern')\n",
    "plt.plot(q_arr, inelastic_pattern, label='Inelastic Pattern')\n",
    "plt.plot(q_arr, elastic_pattern, label='Elastic Pattern')\n",
    "plt.xlabel('Q (1/Å)')\n",
    "plt.ylabel('Intensity (a.u.)')\n",
    "plt.title('X-ray Scattering Patterns')\n",
    "plt.legend()\n",
    "plt.grid()\n",
    "plt.show()\n"
   ]
  },
  {
   "cell_type": "code",
   "execution_count": null,
   "id": "7a71b931",
   "metadata": {},
   "outputs": [],
   "source": [
    "import sys\n",
    "sys.path.append('../src') # If the module is not installed.\n",
    "from xrayscatteringtools.theory.iam import iam_total_pattern, iam_inelastic_pattern, iam_elastic_pattern\n",
    "import matplotlib.pyplot as plt\n",
    "import numpy as np\n",
    "\n",
    "q_arr = np.linspace(0, 10, 1000)  # Example q values\n",
    "DMP_ground = iam_total_pattern('DMP_ground.xyz', q_arr)\n",
    "DMP_L1 = iam_total_pattern('DMP_L1.xyz', q_arr)\n",
    "DMP_L2 = iam_total_pattern('DMP_L2.xyz', q_arr)\n",
    "DMP_D = iam_total_pattern('DMP_D.xyz', q_arr)\n",
    "\n",
    "plt.figure(figsize=(10, 6))\n",
    "plt.plot(q_arr, DMP_ground*q_arr, label='DMP Ground')\n",
    "plt.plot(q_arr, DMP_L1*q_arr, label='DMP L1')\n",
    "plt.plot(q_arr, DMP_L2*q_arr, label='DMP L2')\n",
    "plt.plot(q_arr, DMP_D*q_arr, label='DMP D')\n",
    "plt.xlabel('q (1/Å)')\n",
    "plt.ylabel('Intensity (a.u.)')\n",
    "plt.legend()\n",
    "plt.grid()"
   ]
  },
  {
   "cell_type": "code",
   "execution_count": null,
   "id": "12ee982f",
   "metadata": {},
   "outputs": [],
   "source": [
    "pdiff_DMP_L1 = (DMP_L1 - DMP_ground) / DMP_ground\n",
    "pdiff_DMP_L2 = (DMP_L2 - DMP_ground) / DMP_ground\n",
    "pdiff_DMP_D = (DMP_D - DMP_ground) / DMP_ground\n",
    "\n",
    "plt.figure(figsize=(10, 6))\n",
    "plt.plot(q_arr, pdiff_DMP_L1, label='DMP L1')\n",
    "plt.plot(q_arr, pdiff_DMP_L2, label='DMP L2')\n",
    "plt.plot(q_arr, pdiff_DMP_D, label='DMP D')\n",
    "plt.xlabel('q (1/Å)')\n",
    "plt.ylabel('% Difference')\n",
    "plt.legend()\n",
    "plt.grid()\n",
    "plt.xlim(0,4)\n",
    "plt.show()"
   ]
  },
  {
   "cell_type": "code",
   "execution_count": null,
   "id": "6faf597c",
   "metadata": {},
   "outputs": [],
   "source": [
    "import sys\n",
    "sys.path.append('../src') # If the module is not installed.\n",
    "from xrayscatteringtools.theory.iam import iam_compton_spectrum\n",
    "import matplotlib.pyplot as plt\n",
    "import numpy as np\n",
    "\n",
    "energy_values = np.linspace(8, 9.666, 1000)\n",
    "compton_spectrum = iam_compton_spectrum('SF6', 30, 9.666, energy_values)\n",
    "plt.plot(energy_values, compton_spectrum)\n",
    "plt.show()"
   ]
  },
  {
   "cell_type": "code",
   "execution_count": null,
   "id": "945e6219",
   "metadata": {},
   "outputs": [],
   "source": [
    "import sys\n",
    "sys.path.append('../src') # If the module is not installed.\n",
    "from xrayscatteringtools.theory.iam import iam_compton_spectrum\n",
    "import matplotlib.pyplot as plt\n",
    "import numpy as np\n",
    "\n",
    "theta = np.linspace(0, np.pi, 1000)\n",
    "energy_values = np.linspace(8.8, 9.666, 1000)\n",
    "compton_spectrum = iam_compton_spectrum('SF6', theta, 9.666, energy_values)\n",
    "plt.pcolormesh(energy_values, theta*180/np.pi, compton_spectrum, shading='auto')\n",
    "plt.xlabel('Scattered Photon Energy (keV)', fontsize=12)\n",
    "plt.ylabel(r'Scattering angle $\\theta$', fontsize=12)\n",
    "plt.show()"
   ]
  }
 ],
 "metadata": {
  "kernelspec": {
   "display_name": "Python 3",
   "language": "python",
   "name": "python3"
  },
  "language_info": {
   "codemirror_mode": {
    "name": "ipython",
    "version": 3
   },
   "file_extension": ".py",
   "mimetype": "text/x-python",
   "name": "python",
   "nbconvert_exporter": "python",
   "pygments_lexer": "ipython3",
   "version": "3.10.0"
  }
 },
 "nbformat": 4,
 "nbformat_minor": 5
}
