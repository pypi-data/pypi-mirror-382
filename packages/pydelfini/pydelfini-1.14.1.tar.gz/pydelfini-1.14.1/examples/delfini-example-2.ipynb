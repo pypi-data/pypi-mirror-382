{
 "cells": [
  {
   "cell_type": "code",
   "execution_count": 1,
   "metadata": {},
   "outputs": [
    {
     "name": "stdout",
     "output_type": "stream",
     "text": [
      "Requirement already satisfied: httpx in /Users/wisdomakpan/Projects/delfini/venv/lib/python3.12/site-packages (0.25.2)\n",
      "Requirement already satisfied: attrs in /Users/wisdomakpan/Projects/delfini/venv/lib/python3.12/site-packages (23.1.0)\n",
      "Requirement already satisfied: python-dateutil in /Users/wisdomakpan/Projects/delfini/venv/lib/python3.12/site-packages (2.8.2)\n",
      "Requirement already satisfied: pyarrow in /Users/wisdomakpan/Projects/delfini/venv/lib/python3.12/site-packages (14.0.1)\n",
      "Requirement already satisfied: pandas in /Users/wisdomakpan/Projects/delfini/venv/lib/python3.12/site-packages (2.1.4)\n",
      "Requirement already satisfied: tqdm in /Users/wisdomakpan/Projects/delfini/venv/lib/python3.12/site-packages (4.66.1)\n",
      "Requirement already satisfied: plotnine in /Users/wisdomakpan/Projects/delfini/venv/lib/python3.12/site-packages (0.12.4)\n",
      "Requirement already satisfied: anyio in /Users/wisdomakpan/Projects/delfini/venv/lib/python3.12/site-packages (from httpx) (4.1.0)\n",
      "Requirement already satisfied: certifi in /Users/wisdomakpan/Projects/delfini/venv/lib/python3.12/site-packages (from httpx) (2023.11.17)\n",
      "Requirement already satisfied: httpcore==1.* in /Users/wisdomakpan/Projects/delfini/venv/lib/python3.12/site-packages (from httpx) (1.0.2)\n",
      "Requirement already satisfied: idna in /Users/wisdomakpan/Projects/delfini/venv/lib/python3.12/site-packages (from httpx) (3.6)\n",
      "Requirement already satisfied: sniffio in /Users/wisdomakpan/Projects/delfini/venv/lib/python3.12/site-packages (from httpx) (1.3.0)\n",
      "Requirement already satisfied: h11<0.15,>=0.13 in /Users/wisdomakpan/Projects/delfini/venv/lib/python3.12/site-packages (from httpcore==1.*->httpx) (0.14.0)\n",
      "Requirement already satisfied: six>=1.5 in /Users/wisdomakpan/Projects/delfini/venv/lib/python3.12/site-packages (from python-dateutil) (1.16.0)\n",
      "Requirement already satisfied: numpy>=1.16.6 in /Users/wisdomakpan/Projects/delfini/venv/lib/python3.12/site-packages (from pyarrow) (1.26.2)\n",
      "Requirement already satisfied: pytz>=2020.1 in /Users/wisdomakpan/Projects/delfini/venv/lib/python3.12/site-packages (from pandas) (2023.3.post1)\n",
      "Requirement already satisfied: tzdata>=2022.1 in /Users/wisdomakpan/Projects/delfini/venv/lib/python3.12/site-packages (from pandas) (2023.3)\n",
      "Requirement already satisfied: matplotlib>=3.6.0 in /Users/wisdomakpan/Projects/delfini/venv/lib/python3.12/site-packages (from plotnine) (3.8.2)\n",
      "Requirement already satisfied: mizani<0.10.0,>0.9.0 in /Users/wisdomakpan/Projects/delfini/venv/lib/python3.12/site-packages (from plotnine) (0.9.3)\n",
      "Requirement already satisfied: patsy>=0.5.1 in /Users/wisdomakpan/Projects/delfini/venv/lib/python3.12/site-packages (from plotnine) (0.5.4)\n",
      "Requirement already satisfied: scipy>=1.5.0 in /Users/wisdomakpan/Projects/delfini/venv/lib/python3.12/site-packages (from plotnine) (1.11.4)\n",
      "Requirement already satisfied: statsmodels>=0.14.0 in /Users/wisdomakpan/Projects/delfini/venv/lib/python3.12/site-packages (from plotnine) (0.14.0)\n",
      "Requirement already satisfied: contourpy>=1.0.1 in /Users/wisdomakpan/Projects/delfini/venv/lib/python3.12/site-packages (from matplotlib>=3.6.0->plotnine) (1.2.0)\n",
      "Requirement already satisfied: cycler>=0.10 in /Users/wisdomakpan/Projects/delfini/venv/lib/python3.12/site-packages (from matplotlib>=3.6.0->plotnine) (0.12.1)\n",
      "Requirement already satisfied: fonttools>=4.22.0 in /Users/wisdomakpan/Projects/delfini/venv/lib/python3.12/site-packages (from matplotlib>=3.6.0->plotnine) (4.46.0)\n",
      "Requirement already satisfied: kiwisolver>=1.3.1 in /Users/wisdomakpan/Projects/delfini/venv/lib/python3.12/site-packages (from matplotlib>=3.6.0->plotnine) (1.4.5)\n",
      "Requirement already satisfied: packaging>=20.0 in /Users/wisdomakpan/Projects/delfini/venv/lib/python3.12/site-packages (from matplotlib>=3.6.0->plotnine) (23.2)\n",
      "Requirement already satisfied: pillow>=8 in /Users/wisdomakpan/Projects/delfini/venv/lib/python3.12/site-packages (from matplotlib>=3.6.0->plotnine) (10.1.0)\n",
      "Requirement already satisfied: pyparsing>=2.3.1 in /Users/wisdomakpan/Projects/delfini/venv/lib/python3.12/site-packages (from matplotlib>=3.6.0->plotnine) (3.1.1)\n",
      "\n",
      "\u001b[1m[\u001b[0m\u001b[34;49mnotice\u001b[0m\u001b[1;39;49m]\u001b[0m\u001b[39;49m A new release of pip is available: \u001b[0m\u001b[31;49m23.2.1\u001b[0m\u001b[39;49m -> \u001b[0m\u001b[32;49m23.3.1\u001b[0m\n",
      "\u001b[1m[\u001b[0m\u001b[34;49mnotice\u001b[0m\u001b[1;39;49m]\u001b[0m\u001b[39;49m To update, run: \u001b[0m\u001b[32;49mpip install --upgrade pip\u001b[0m\n",
      "Requirement already satisfied: pydelfini in /Users/wisdomakpan/Projects/delfini/venv/lib/python3.12/site-packages (0.2.2.1)\n",
      "Requirement already satisfied: httpx<0.26.0,>=0.20.0 in /Users/wisdomakpan/Projects/delfini/venv/lib/python3.12/site-packages (from pydelfini) (0.25.2)\n",
      "Requirement already satisfied: attrs>=21.3.0 in /Users/wisdomakpan/Projects/delfini/venv/lib/python3.12/site-packages (from pydelfini) (23.1.0)\n",
      "Requirement already satisfied: python-dateutil in /Users/wisdomakpan/Projects/delfini/venv/lib/python3.12/site-packages (from pydelfini) (2.8.2)\n",
      "Requirement already satisfied: pyarrow in /Users/wisdomakpan/Projects/delfini/venv/lib/python3.12/site-packages (from pydelfini) (14.0.1)\n",
      "Requirement already satisfied: pandas in /Users/wisdomakpan/Projects/delfini/venv/lib/python3.12/site-packages (from pydelfini) (2.1.4)\n",
      "Requirement already satisfied: tqdm in /Users/wisdomakpan/Projects/delfini/venv/lib/python3.12/site-packages (from pydelfini) (4.66.1)\n",
      "Requirement already satisfied: anyio in /Users/wisdomakpan/Projects/delfini/venv/lib/python3.12/site-packages (from httpx<0.26.0,>=0.20.0->pydelfini) (4.1.0)\n",
      "Requirement already satisfied: certifi in /Users/wisdomakpan/Projects/delfini/venv/lib/python3.12/site-packages (from httpx<0.26.0,>=0.20.0->pydelfini) (2023.11.17)\n",
      "Requirement already satisfied: httpcore==1.* in /Users/wisdomakpan/Projects/delfini/venv/lib/python3.12/site-packages (from httpx<0.26.0,>=0.20.0->pydelfini) (1.0.2)\n",
      "Requirement already satisfied: idna in /Users/wisdomakpan/Projects/delfini/venv/lib/python3.12/site-packages (from httpx<0.26.0,>=0.20.0->pydelfini) (3.6)\n",
      "Requirement already satisfied: sniffio in /Users/wisdomakpan/Projects/delfini/venv/lib/python3.12/site-packages (from httpx<0.26.0,>=0.20.0->pydelfini) (1.3.0)\n",
      "Requirement already satisfied: h11<0.15,>=0.13 in /Users/wisdomakpan/Projects/delfini/venv/lib/python3.12/site-packages (from httpcore==1.*->httpx<0.26.0,>=0.20.0->pydelfini) (0.14.0)\n",
      "Requirement already satisfied: numpy<2,>=1.26.0 in /Users/wisdomakpan/Projects/delfini/venv/lib/python3.12/site-packages (from pandas->pydelfini) (1.26.2)\n",
      "Requirement already satisfied: pytz>=2020.1 in /Users/wisdomakpan/Projects/delfini/venv/lib/python3.12/site-packages (from pandas->pydelfini) (2023.3.post1)\n",
      "Requirement already satisfied: tzdata>=2022.1 in /Users/wisdomakpan/Projects/delfini/venv/lib/python3.12/site-packages (from pandas->pydelfini) (2023.3)\n",
      "Requirement already satisfied: six>=1.5 in /Users/wisdomakpan/Projects/delfini/venv/lib/python3.12/site-packages (from python-dateutil->pydelfini) (1.16.0)\n",
      "\n",
      "\u001b[1m[\u001b[0m\u001b[34;49mnotice\u001b[0m\u001b[1;39;49m]\u001b[0m\u001b[39;49m A new release of pip is available: \u001b[0m\u001b[31;49m23.2.1\u001b[0m\u001b[39;49m -> \u001b[0m\u001b[32;49m23.3.1\u001b[0m\n",
      "\u001b[1m[\u001b[0m\u001b[34;49mnotice\u001b[0m\u001b[1;39;49m]\u001b[0m\u001b[39;49m To update, run: \u001b[0m\u001b[32;49mpip install --upgrade pip\u001b[0m\n"
     ]
    }
   ],
   "source": [
    "import sys\n",
    "!{sys.executable} -m pip install httpx attrs python-dateutil pyarrow pandas tqdm plotnine\n",
    "!{sys.executable} -m pip install pydelfini"
   ]
  },
  {
   "cell_type": "code",
   "execution_count": 2,
   "metadata": {},
   "outputs": [
    {
     "name": "stderr",
     "output_type": "stream",
     "text": [
      "/Users/wisdomakpan/Projects/delfini/venv/lib/python3.12/site-packages/tqdm/auto.py:21: TqdmWarning: IProgress not found. Please update jupyter and ipywidgets. See https://ipywidgets.readthedocs.io/en/stable/user_install.html\n",
      "  from .autonotebook import tqdm as notebook_tqdm\n"
     ]
    },
    {
     "name": "stdout",
     "output_type": "stream",
     "text": [
      "To activate your session, visit the URL below:\n",
      "   https://delfini.bioteam.net/login/activate/HjUpOFeqr0aX4zhpt7rynQ.e2ynvrouF89dBeBl5NC2U9DId3M\n",
      "\n",
      "Waiting for session activation...\n"
     ]
    }
   ],
   "source": [
    "from pydelfini import login\n",
    "client = login('delfini.bioteam.net')"
   ]
  },
  {
   "cell_type": "code",
   "execution_count": 3,
   "metadata": {},
   "outputs": [],
   "source": [
    "# import pandas, a popular Python package for data manipulation\n",
    "import pandas\n",
    "# import numpy, a library for supporting large, multi-dimensional arrays and matrices, and other high-level mathematical functions \n",
    "import numpy"
   ]
  },
  {
   "cell_type": "code",
   "execution_count": 4,
   "metadata": {},
   "outputs": [],
   "source": [
    "\n",
    "health_behaviors = client.get_collection_by_name('Health Behaviors')"
   ]
  },
  {
   "cell_type": "code",
   "execution_count": null,
   "metadata": {},
   "outputs": [],
   "source": []
  },
  {
   "cell_type": "code",
   "execution_count": 5,
   "metadata": {},
   "outputs": [
    {
     "name": "stderr",
     "output_type": "stream",
     "text": [
      "Loading BRFSS2021.csv: 100%|██████████| 438693/438693 [19:28<00:00, 375.57it/s]\n"
     ]
    }
   ],
   "source": [
    "\n",
    "BRFSS_table = health_behaviors['BRFSS2021.csv'].table()"
   ]
  },
  {
   "cell_type": "code",
   "execution_count": 6,
   "metadata": {},
   "outputs": [
    {
     "data": {
      "text/html": [
       "<div>\n",
       "<style scoped>\n",
       "    .dataframe tbody tr th:only-of-type {\n",
       "        vertical-align: middle;\n",
       "    }\n",
       "\n",
       "    .dataframe tbody tr th {\n",
       "        vertical-align: top;\n",
       "    }\n",
       "\n",
       "    .dataframe thead th {\n",
       "        text-align: right;\n",
       "    }\n",
       "</style>\n",
       "<table border=\"1\" class=\"dataframe\">\n",
       "  <thead>\n",
       "    <tr style=\"text-align: right;\">\n",
       "      <th></th>\n",
       "      <th>_state</th>\n",
       "      <th>fmonth</th>\n",
       "      <th>idate</th>\n",
       "      <th>imonth</th>\n",
       "      <th>iday</th>\n",
       "      <th>iyear</th>\n",
       "      <th>dispcode</th>\n",
       "      <th>seqno</th>\n",
       "      <th>_psu</th>\n",
       "      <th>ctelenm1</th>\n",
       "      <th>...</th>\n",
       "      <th>_frtres1</th>\n",
       "      <th>_vegres1</th>\n",
       "      <th>_frutsu1</th>\n",
       "      <th>_vegesu1</th>\n",
       "      <th>_frtlt1a</th>\n",
       "      <th>_veglt1a</th>\n",
       "      <th>_frt16a</th>\n",
       "      <th>_veg23a</th>\n",
       "      <th>_fruite1</th>\n",
       "      <th>_vegete1</th>\n",
       "    </tr>\n",
       "  </thead>\n",
       "  <tbody>\n",
       "    <tr>\n",
       "      <th>0</th>\n",
       "      <td>1</td>\n",
       "      <td>1</td>\n",
       "      <td>1192021</td>\n",
       "      <td>1</td>\n",
       "      <td>19</td>\n",
       "      <td>2021</td>\n",
       "      <td>1100</td>\n",
       "      <td>2021000001</td>\n",
       "      <td>2021000001</td>\n",
       "      <td>1.0</td>\n",
       "      <td>...</td>\n",
       "      <td>1</td>\n",
       "      <td>1</td>\n",
       "      <td>100.0</td>\n",
       "      <td>214.0</td>\n",
       "      <td>1</td>\n",
       "      <td>1</td>\n",
       "      <td>1</td>\n",
       "      <td>1</td>\n",
       "      <td>0</td>\n",
       "      <td>0</td>\n",
       "    </tr>\n",
       "    <tr>\n",
       "      <th>1</th>\n",
       "      <td>1</td>\n",
       "      <td>1</td>\n",
       "      <td>1212021</td>\n",
       "      <td>1</td>\n",
       "      <td>21</td>\n",
       "      <td>2021</td>\n",
       "      <td>1100</td>\n",
       "      <td>2021000002</td>\n",
       "      <td>2021000002</td>\n",
       "      <td>1.0</td>\n",
       "      <td>...</td>\n",
       "      <td>1</td>\n",
       "      <td>1</td>\n",
       "      <td>100.0</td>\n",
       "      <td>128.0</td>\n",
       "      <td>1</td>\n",
       "      <td>1</td>\n",
       "      <td>1</td>\n",
       "      <td>1</td>\n",
       "      <td>0</td>\n",
       "      <td>0</td>\n",
       "    </tr>\n",
       "    <tr>\n",
       "      <th>2</th>\n",
       "      <td>1</td>\n",
       "      <td>1</td>\n",
       "      <td>1212021</td>\n",
       "      <td>1</td>\n",
       "      <td>21</td>\n",
       "      <td>2021</td>\n",
       "      <td>1100</td>\n",
       "      <td>2021000003</td>\n",
       "      <td>2021000003</td>\n",
       "      <td>1.0</td>\n",
       "      <td>...</td>\n",
       "      <td>1</td>\n",
       "      <td>1</td>\n",
       "      <td>100.0</td>\n",
       "      <td>71.0</td>\n",
       "      <td>1</td>\n",
       "      <td>2</td>\n",
       "      <td>1</td>\n",
       "      <td>1</td>\n",
       "      <td>0</td>\n",
       "      <td>0</td>\n",
       "    </tr>\n",
       "    <tr>\n",
       "      <th>3</th>\n",
       "      <td>1</td>\n",
       "      <td>1</td>\n",
       "      <td>1172021</td>\n",
       "      <td>1</td>\n",
       "      <td>17</td>\n",
       "      <td>2021</td>\n",
       "      <td>1100</td>\n",
       "      <td>2021000004</td>\n",
       "      <td>2021000004</td>\n",
       "      <td>1.0</td>\n",
       "      <td>...</td>\n",
       "      <td>1</td>\n",
       "      <td>1</td>\n",
       "      <td>114.0</td>\n",
       "      <td>165.0</td>\n",
       "      <td>1</td>\n",
       "      <td>1</td>\n",
       "      <td>1</td>\n",
       "      <td>1</td>\n",
       "      <td>0</td>\n",
       "      <td>0</td>\n",
       "    </tr>\n",
       "    <tr>\n",
       "      <th>4</th>\n",
       "      <td>1</td>\n",
       "      <td>1</td>\n",
       "      <td>1152021</td>\n",
       "      <td>1</td>\n",
       "      <td>15</td>\n",
       "      <td>2021</td>\n",
       "      <td>1100</td>\n",
       "      <td>2021000005</td>\n",
       "      <td>2021000005</td>\n",
       "      <td>1.0</td>\n",
       "      <td>...</td>\n",
       "      <td>1</td>\n",
       "      <td>1</td>\n",
       "      <td>100.0</td>\n",
       "      <td>258.0</td>\n",
       "      <td>1</td>\n",
       "      <td>1</td>\n",
       "      <td>1</td>\n",
       "      <td>1</td>\n",
       "      <td>0</td>\n",
       "      <td>0</td>\n",
       "    </tr>\n",
       "  </tbody>\n",
       "</table>\n",
       "<p>5 rows × 303 columns</p>\n",
       "</div>"
      ],
      "text/plain": [
       "   _state  fmonth    idate  imonth  iday  iyear  dispcode       seqno  \\\n",
       "0       1       1  1192021       1    19   2021      1100  2021000001   \n",
       "1       1       1  1212021       1    21   2021      1100  2021000002   \n",
       "2       1       1  1212021       1    21   2021      1100  2021000003   \n",
       "3       1       1  1172021       1    17   2021      1100  2021000004   \n",
       "4       1       1  1152021       1    15   2021      1100  2021000005   \n",
       "\n",
       "         _psu  ctelenm1  ...  _frtres1 _vegres1  _frutsu1  _vegesu1  _frtlt1a  \\\n",
       "0  2021000001       1.0  ...         1        1     100.0     214.0         1   \n",
       "1  2021000002       1.0  ...         1        1     100.0     128.0         1   \n",
       "2  2021000003       1.0  ...         1        1     100.0      71.0         1   \n",
       "3  2021000004       1.0  ...         1        1     114.0     165.0         1   \n",
       "4  2021000005       1.0  ...         1        1     100.0     258.0         1   \n",
       "\n",
       "  _veglt1a  _frt16a  _veg23a  _fruite1  _vegete1  \n",
       "0        1        1        1         0         0  \n",
       "1        1        1        1         0         0  \n",
       "2        2        1        1         0         0  \n",
       "3        1        1        1         0         0  \n",
       "4        1        1        1         0         0  \n",
       "\n",
       "[5 rows x 303 columns]"
      ]
     },
     "execution_count": 6,
     "metadata": {},
     "output_type": "execute_result"
    }
   ],
   "source": [
    "\n",
    "BRFSS_table.head()"
   ]
  },
  {
   "cell_type": "code",
   "execution_count": 7,
   "metadata": {},
   "outputs": [],
   "source": [
    "#Let's see how a column can be renamed based on our needs:\n",
    "BRFSS_table.rename(columns = {'OID_':'entity:OID__id'}, inplace = True)"
   ]
  },
  {
   "cell_type": "code",
   "execution_count": 8,
   "metadata": {},
   "outputs": [
    {
     "data": {
      "text/html": [
       "<div>\n",
       "<style scoped>\n",
       "    .dataframe tbody tr th:only-of-type {\n",
       "        vertical-align: middle;\n",
       "    }\n",
       "\n",
       "    .dataframe tbody tr th {\n",
       "        vertical-align: top;\n",
       "    }\n",
       "\n",
       "    .dataframe thead th {\n",
       "        text-align: right;\n",
       "    }\n",
       "</style>\n",
       "<table border=\"1\" class=\"dataframe\">\n",
       "  <thead>\n",
       "    <tr style=\"text-align: right;\">\n",
       "      <th></th>\n",
       "      <th>idate</th>\n",
       "      <th>_state</th>\n",
       "      <th>acedrink</th>\n",
       "      <th>acedrugs</th>\n",
       "      <th>aceprisn</th>\n",
       "    </tr>\n",
       "  </thead>\n",
       "  <tbody>\n",
       "    <tr>\n",
       "      <th>0</th>\n",
       "      <td>1192021</td>\n",
       "      <td>1</td>\n",
       "      <td>2.0</td>\n",
       "      <td>2.0</td>\n",
       "      <td>2.0</td>\n",
       "    </tr>\n",
       "    <tr>\n",
       "      <th>1</th>\n",
       "      <td>1212021</td>\n",
       "      <td>1</td>\n",
       "      <td>2.0</td>\n",
       "      <td>2.0</td>\n",
       "      <td>2.0</td>\n",
       "    </tr>\n",
       "    <tr>\n",
       "      <th>2</th>\n",
       "      <td>1212021</td>\n",
       "      <td>1</td>\n",
       "      <td>2.0</td>\n",
       "      <td>2.0</td>\n",
       "      <td>2.0</td>\n",
       "    </tr>\n",
       "    <tr>\n",
       "      <th>3</th>\n",
       "      <td>1172021</td>\n",
       "      <td>1</td>\n",
       "      <td>2.0</td>\n",
       "      <td>2.0</td>\n",
       "      <td>2.0</td>\n",
       "    </tr>\n",
       "    <tr>\n",
       "      <th>4</th>\n",
       "      <td>1152021</td>\n",
       "      <td>1</td>\n",
       "      <td>2.0</td>\n",
       "      <td>2.0</td>\n",
       "      <td>2.0</td>\n",
       "    </tr>\n",
       "  </tbody>\n",
       "</table>\n",
       "</div>"
      ],
      "text/plain": [
       "     idate  _state  acedrink  acedrugs  aceprisn\n",
       "0  1192021       1       2.0       2.0       2.0\n",
       "1  1212021       1       2.0       2.0       2.0\n",
       "2  1212021       1       2.0       2.0       2.0\n",
       "3  1172021       1       2.0       2.0       2.0\n",
       "4  1152021       1       2.0       2.0       2.0"
      ]
     },
     "execution_count": 8,
     "metadata": {},
     "output_type": "execute_result"
    }
   ],
   "source": [
    "# This query selects a subset of parameters from the dataset (`_state`, `ACEDRINK``ACEDRUGS`,`ACEPRISN`):\n",
    "\n",
    "REDUCED_table = BRFSS_table[[\"idate\", \"_state\", \"acedrink\", \"acedrugs\", \"aceprisn\"]]\n",
    "# Let's see the first rows of our new table:\n",
    "\n",
    "REDUCED_table.head()"
   ]
  },
  {
   "cell_type": "code",
   "execution_count": 9,
   "metadata": {},
   "outputs": [
    {
     "name": "stdout",
     "output_type": "stream",
     "text": [
      "<class 'pandas.core.frame.DataFrame'>\n",
      "RangeIndex: 438693 entries, 0 to 438692\n",
      "Data columns (total 5 columns):\n",
      " #   Column    Non-Null Count   Dtype  \n",
      "---  ------    --------------   -----  \n",
      " 0   idate     438693 non-null  int64  \n",
      " 1   _state    438693 non-null  int64  \n",
      " 2   acedrink  58647 non-null   float64\n",
      " 3   acedrugs  58617 non-null   float64\n",
      " 4   aceprisn  58579 non-null   float64\n",
      "dtypes: float64(3), int64(2)\n",
      "memory usage: 16.7 MB\n"
     ]
    }
   ],
   "source": [
    "# Let's see some information about the table\n",
    "REDUCED_table.info()"
   ]
  },
  {
   "cell_type": "code",
   "execution_count": 10,
   "metadata": {},
   "outputs": [
    {
     "data": {
      "text/html": [
       "<div>\n",
       "<style scoped>\n",
       "    .dataframe tbody tr th:only-of-type {\n",
       "        vertical-align: middle;\n",
       "    }\n",
       "\n",
       "    .dataframe tbody tr th {\n",
       "        vertical-align: top;\n",
       "    }\n",
       "\n",
       "    .dataframe thead th {\n",
       "        text-align: right;\n",
       "    }\n",
       "</style>\n",
       "<table border=\"1\" class=\"dataframe\">\n",
       "  <thead>\n",
       "    <tr style=\"text-align: right;\">\n",
       "      <th></th>\n",
       "      <th>idate</th>\n",
       "      <th>_state</th>\n",
       "      <th>acedrink</th>\n",
       "      <th>acedrugs</th>\n",
       "      <th>aceprisn</th>\n",
       "      <th>_stateID</th>\n",
       "    </tr>\n",
       "  </thead>\n",
       "  <tbody>\n",
       "    <tr>\n",
       "      <th>0</th>\n",
       "      <td>1192021</td>\n",
       "      <td>1</td>\n",
       "      <td>2.0</td>\n",
       "      <td>2.0</td>\n",
       "      <td>2.0</td>\n",
       "      <td>1</td>\n",
       "    </tr>\n",
       "    <tr>\n",
       "      <th>1</th>\n",
       "      <td>1212021</td>\n",
       "      <td>1</td>\n",
       "      <td>2.0</td>\n",
       "      <td>2.0</td>\n",
       "      <td>2.0</td>\n",
       "      <td>1</td>\n",
       "    </tr>\n",
       "    <tr>\n",
       "      <th>2</th>\n",
       "      <td>1212021</td>\n",
       "      <td>1</td>\n",
       "      <td>2.0</td>\n",
       "      <td>2.0</td>\n",
       "      <td>2.0</td>\n",
       "      <td>1</td>\n",
       "    </tr>\n",
       "    <tr>\n",
       "      <th>3</th>\n",
       "      <td>1172021</td>\n",
       "      <td>1</td>\n",
       "      <td>2.0</td>\n",
       "      <td>2.0</td>\n",
       "      <td>2.0</td>\n",
       "      <td>1</td>\n",
       "    </tr>\n",
       "    <tr>\n",
       "      <th>4</th>\n",
       "      <td>1152021</td>\n",
       "      <td>1</td>\n",
       "      <td>2.0</td>\n",
       "      <td>2.0</td>\n",
       "      <td>2.0</td>\n",
       "      <td>1</td>\n",
       "    </tr>\n",
       "  </tbody>\n",
       "</table>\n",
       "</div>"
      ],
      "text/plain": [
       "     idate  _state  acedrink  acedrugs  aceprisn  _stateID\n",
       "0  1192021       1       2.0       2.0       2.0         1\n",
       "1  1212021       1       2.0       2.0       2.0         1\n",
       "2  1212021       1       2.0       2.0       2.0         1\n",
       "3  1172021       1       2.0       2.0       2.0         1\n",
       "4  1152021       1       2.0       2.0       2.0         1"
      ]
     },
     "execution_count": 10,
     "metadata": {},
     "output_type": "execute_result"
    }
   ],
   "source": [
    "# There are some null values. For pure exercise sake, let's drop the rows with null values:\n",
    "\n",
    "REDUCED_table = REDUCED_table.dropna(how='any',axis=0)\n",
    "# States are indicated by numbers. To assign IDs to the state names, let's duplicate the _state column:\n",
    "\n",
    "REDUCED_table['_stateID'] = REDUCED_table.loc[:, '_state']\n",
    "# Let's see the updated first rows of our table:\n",
    "\n",
    "REDUCED_table.head()"
   ]
  },
  {
   "cell_type": "code",
   "execution_count": 11,
   "metadata": {},
   "outputs": [
    {
     "name": "stdout",
     "output_type": "stream",
     "text": [
      "<class 'pandas.core.frame.DataFrame'>\n",
      "Index: 11 entries, 1 to 55\n",
      "Data columns (total 3 columns):\n",
      " #   Column            Non-Null Count  Dtype  \n",
      "---  ------            --------------  -----  \n",
      " 0   AVERAGE_acedrink  11 non-null     float64\n",
      " 1   AVERAGE_acedrugs  11 non-null     float64\n",
      " 2   AVERAGE_aceprisn  11 non-null     float64\n",
      "dtypes: float64(3)\n",
      "memory usage: 352.0 bytes\n"
     ]
    },
    {
     "name": "stderr",
     "output_type": "stream",
     "text": [
      "/var/folders/xq/1bs1cntn223cs4_3nfdcv6q40000gp/T/ipykernel_446/1225473089.py:7: FutureWarning: The provided callable <function mean at 0x10a7c7740> is currently using SeriesGroupBy.mean. In a future version of pandas, the provided callable will be used directly. To keep current behavior pass the string \"mean\" instead.\n",
      "  GROUPED_REDUCED_table = REDUCED_table.groupby(\"_state\").agg(\n"
     ]
    }
   ],
   "source": [
    "#More information on how to replace variable values in a dataframe can be found here:   \n",
    "#https://pandas.pydata.org/docs/reference/api/pandas.DataFrame.replace.html#\n",
    "\n",
    "\n",
    "# Let's now group the values by State and calculate the average percentage of persons having experienced each condition:\n",
    "\n",
    "GROUPED_REDUCED_table = REDUCED_table.groupby(\"_state\").agg(\n",
    "    AVERAGE_acedrink=pandas.NamedAgg(column=\"acedrink\", aggfunc=numpy.mean),\n",
    "    AVERAGE_acedrugs=pandas.NamedAgg(column=\"acedrugs\", aggfunc=numpy.mean),\n",
    "    AVERAGE_aceprisn=pandas.NamedAgg(column=\"aceprisn\", aggfunc=numpy.mean),\n",
    ")\n",
    "# Let's display some information about the table\n",
    "GROUPED_REDUCED_table.info()"
   ]
  },
  {
   "cell_type": "code",
   "execution_count": 12,
   "metadata": {},
   "outputs": [
    {
     "data": {
      "text/html": [
       "<div>\n",
       "<style scoped>\n",
       "    .dataframe tbody tr th:only-of-type {\n",
       "        vertical-align: middle;\n",
       "    }\n",
       "\n",
       "    .dataframe tbody tr th {\n",
       "        vertical-align: top;\n",
       "    }\n",
       "\n",
       "    .dataframe thead th {\n",
       "        text-align: right;\n",
       "    }\n",
       "</style>\n",
       "<table border=\"1\" class=\"dataframe\">\n",
       "  <thead>\n",
       "    <tr style=\"text-align: right;\">\n",
       "      <th></th>\n",
       "      <th>AVERAGE_acedrink</th>\n",
       "      <th>AVERAGE_acedrugs</th>\n",
       "      <th>AVERAGE_aceprisn</th>\n",
       "    </tr>\n",
       "  </thead>\n",
       "  <tbody>\n",
       "    <tr>\n",
       "      <th>count</th>\n",
       "      <td>11.000000</td>\n",
       "      <td>11.000000</td>\n",
       "      <td>11.000000</td>\n",
       "    </tr>\n",
       "    <tr>\n",
       "      <th>mean</th>\n",
       "      <td>1.921226</td>\n",
       "      <td>2.063628</td>\n",
       "      <td>2.075312</td>\n",
       "    </tr>\n",
       "    <tr>\n",
       "      <th>std</th>\n",
       "      <td>0.131650</td>\n",
       "      <td>0.138617</td>\n",
       "      <td>0.140487</td>\n",
       "    </tr>\n",
       "    <tr>\n",
       "      <th>min</th>\n",
       "      <td>1.818429</td>\n",
       "      <td>1.970312</td>\n",
       "      <td>1.973489</td>\n",
       "    </tr>\n",
       "    <tr>\n",
       "      <th>25%</th>\n",
       "      <td>1.853652</td>\n",
       "      <td>1.991314</td>\n",
       "      <td>1.996375</td>\n",
       "    </tr>\n",
       "    <tr>\n",
       "      <th>50%</th>\n",
       "      <td>1.884780</td>\n",
       "      <td>2.017806</td>\n",
       "      <td>2.025028</td>\n",
       "    </tr>\n",
       "    <tr>\n",
       "      <th>75%</th>\n",
       "      <td>1.933126</td>\n",
       "      <td>2.078315</td>\n",
       "      <td>2.085663</td>\n",
       "    </tr>\n",
       "    <tr>\n",
       "      <th>max</th>\n",
       "      <td>2.295830</td>\n",
       "      <td>2.458297</td>\n",
       "      <td>2.470026</td>\n",
       "    </tr>\n",
       "  </tbody>\n",
       "</table>\n",
       "</div>"
      ],
      "text/plain": [
       "       AVERAGE_acedrink  AVERAGE_acedrugs  AVERAGE_aceprisn\n",
       "count         11.000000         11.000000         11.000000\n",
       "mean           1.921226          2.063628          2.075312\n",
       "std            0.131650          0.138617          0.140487\n",
       "min            1.818429          1.970312          1.973489\n",
       "25%            1.853652          1.991314          1.996375\n",
       "50%            1.884780          2.017806          2.025028\n",
       "75%            1.933126          2.078315          2.085663\n",
       "max            2.295830          2.458297          2.470026"
      ]
     },
     "execution_count": 12,
     "metadata": {},
     "output_type": "execute_result"
    }
   ],
   "source": [
    "GROUPED_REDUCED_table.describe()"
   ]
  },
  {
   "cell_type": "code",
   "execution_count": 13,
   "metadata": {},
   "outputs": [
    {
     "data": {
      "text/html": [
       "<div>\n",
       "<style scoped>\n",
       "    .dataframe tbody tr th:only-of-type {\n",
       "        vertical-align: middle;\n",
       "    }\n",
       "\n",
       "    .dataframe tbody tr th {\n",
       "        vertical-align: top;\n",
       "    }\n",
       "\n",
       "    .dataframe thead th {\n",
       "        text-align: right;\n",
       "    }\n",
       "</style>\n",
       "<table border=\"1\" class=\"dataframe\">\n",
       "  <thead>\n",
       "    <tr style=\"text-align: right;\">\n",
       "      <th></th>\n",
       "      <th>AVERAGE_acedrink</th>\n",
       "      <th>AVERAGE_acedrugs</th>\n",
       "      <th>AVERAGE_aceprisn</th>\n",
       "    </tr>\n",
       "    <tr>\n",
       "      <th>_state</th>\n",
       "      <th></th>\n",
       "      <th></th>\n",
       "      <th></th>\n",
       "    </tr>\n",
       "  </thead>\n",
       "  <tbody>\n",
       "    <tr>\n",
       "      <th>1</th>\n",
       "      <td>1.894539</td>\n",
       "      <td>2.015531</td>\n",
       "      <td>2.024299</td>\n",
       "    </tr>\n",
       "    <tr>\n",
       "      <th>5</th>\n",
       "      <td>1.884780</td>\n",
       "      <td>2.006539</td>\n",
       "      <td>2.025028</td>\n",
       "    </tr>\n",
       "    <tr>\n",
       "      <th>19</th>\n",
       "      <td>1.838826</td>\n",
       "      <td>1.972869</td>\n",
       "      <td>1.973489</td>\n",
       "    </tr>\n",
       "    <tr>\n",
       "      <th>28</th>\n",
       "      <td>1.854527</td>\n",
       "      <td>1.970312</td>\n",
       "      <td>1.987135</td>\n",
       "    </tr>\n",
       "    <tr>\n",
       "      <th>32</th>\n",
       "      <td>2.295830</td>\n",
       "      <td>2.458297</td>\n",
       "      <td>2.470026</td>\n",
       "    </tr>\n",
       "    <tr>\n",
       "      <th>33</th>\n",
       "      <td>1.852776</td>\n",
       "      <td>2.023693</td>\n",
       "      <td>2.049376</td>\n",
       "    </tr>\n",
       "    <tr>\n",
       "      <th>38</th>\n",
       "      <td>1.947723</td>\n",
       "      <td>2.095559</td>\n",
       "      <td>2.105865</td>\n",
       "    </tr>\n",
       "    <tr>\n",
       "      <th>41</th>\n",
       "      <td>1.956410</td>\n",
       "      <td>2.102137</td>\n",
       "      <td>2.136325</td>\n",
       "    </tr>\n",
       "    <tr>\n",
       "      <th>45</th>\n",
       "      <td>1.871114</td>\n",
       "      <td>2.017806</td>\n",
       "      <td>2.005616</td>\n",
       "    </tr>\n",
       "    <tr>\n",
       "      <th>51</th>\n",
       "      <td>1.918528</td>\n",
       "      <td>2.061072</td>\n",
       "      <td>2.065462</td>\n",
       "    </tr>\n",
       "    <tr>\n",
       "      <th>55</th>\n",
       "      <td>1.818429</td>\n",
       "      <td>1.976089</td>\n",
       "      <td>1.985809</td>\n",
       "    </tr>\n",
       "  </tbody>\n",
       "</table>\n",
       "</div>"
      ],
      "text/plain": [
       "        AVERAGE_acedrink  AVERAGE_acedrugs  AVERAGE_aceprisn\n",
       "_state                                                      \n",
       "1               1.894539          2.015531          2.024299\n",
       "5               1.884780          2.006539          2.025028\n",
       "19              1.838826          1.972869          1.973489\n",
       "28              1.854527          1.970312          1.987135\n",
       "32              2.295830          2.458297          2.470026\n",
       "33              1.852776          2.023693          2.049376\n",
       "38              1.947723          2.095559          2.105865\n",
       "41              1.956410          2.102137          2.136325\n",
       "45              1.871114          2.017806          2.005616\n",
       "51              1.918528          2.061072          2.065462\n",
       "55              1.818429          1.976089          1.985809"
      ]
     },
     "execution_count": 13,
     "metadata": {},
     "output_type": "execute_result"
    }
   ],
   "source": [
    "# Let's display the entire table:\n",
    "\n",
    "GROUPED_REDUCED_table"
   ]
  },
  {
   "cell_type": "markdown",
   "metadata": {},
   "source": [
    "### Average percentage of U.S. children living with a problem drinker:"
   ]
  },
  {
   "cell_type": "code",
   "execution_count": 14,
   "metadata": {},
   "outputs": [
    {
     "data": {
      "text/plain": [
       "<Axes: xlabel='_state'>"
      ]
     },
     "execution_count": 14,
     "metadata": {},
     "output_type": "execute_result"
    },
    {
     "data": {
      "image/png": "[encoded data removed]",
      "text/plain": [
       "<Figure size 640x480 with 1 Axes>"
      ]
     },
     "metadata": {},
     "output_type": "display_data"
    }
   ],
   "source": [
    "GROUPED_REDUCED_table.plot(y='AVERAGE_acedrink', use_index=True)"
   ]
  },
  {
   "cell_type": "markdown",
   "metadata": {},
   "source": [
    "### Average percentage of U.S. children living with anyone who used illegal drugs or abused prescriptions:"
   ]
  },
  {
   "cell_type": "code",
   "execution_count": 15,
   "metadata": {},
   "outputs": [
    {
     "data": {
      "text/plain": [
       "<Axes: xlabel='_state'>"
      ]
     },
     "execution_count": 15,
     "metadata": {},
     "output_type": "execute_result"
    },
    {
     "data": {
      "image/png": "[encoded data removed]",
      "text/plain": [
       "<Figure size 640x480 with 1 Axes>"
      ]
     },
     "metadata": {},
     "output_type": "display_data"
    }
   ],
   "source": [
    "GROUPED_REDUCED_table.plot(y='AVERAGE_acedrugs', use_index=True)"
   ]
  },
  {
   "cell_type": "markdown",
   "metadata": {},
   "source": [
    "### Average percentage of U.S. children living with anyone who served time in prison or jail:"
   ]
  },
  {
   "cell_type": "code",
   "execution_count": 16,
   "metadata": {},
   "outputs": [
    {
     "data": {
      "text/plain": [
       "<Axes: xlabel='_state'>"
      ]
     },
     "execution_count": 16,
     "metadata": {},
     "output_type": "execute_result"
    },
    {
     "data": {
      "image/png": "[encoded data removed]",
      "text/plain": [
       "<Figure size 640x480 with 1 Axes>"
      ]
     },
     "metadata": {},
     "output_type": "display_data"
    }
   ],
   "source": [
    "GROUPED_REDUCED_table.plot(y='AVERAGE_aceprisn', use_index=True)"
   ]
  }
 ],
 "metadata": {
  "kernelspec": {
   "display_name": "venv",
   "language": "python",
   "name": "python3"
  },
  "language_info": {
   "codemirror_mode": {
    "name": "ipython",
    "version": 3
   },
   "file_extension": ".py",
   "mimetype": "text/x-python",
   "name": "python",
   "nbconvert_exporter": "python",
   "pygments_lexer": "ipython3",
   "version": "3.12.0"
  }
 },
 "nbformat": 4,
 "nbformat_minor": 2
}
