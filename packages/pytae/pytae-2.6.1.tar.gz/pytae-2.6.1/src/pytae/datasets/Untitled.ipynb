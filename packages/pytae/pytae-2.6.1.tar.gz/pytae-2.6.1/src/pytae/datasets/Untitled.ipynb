{
 "cells": [
  {
   "cell_type": "code",
   "execution_count": 3,
   "id": "173dec14-7176-410a-b6bd-848abe47d78e",
   "metadata": {},
   "outputs": [
    {
     "name": "stdout",
     "output_type": "stream",
     "text": [
      "anagrams\n",
      "anscombe\n",
      "attention\n",
      "brain_networks\n",
      "car_crashes\n",
      "diamonds\n",
      "dots\n",
      "dowjones\n",
      "exercise\n",
      "flights\n",
      "fmri\n",
      "geyser\n",
      "glue\n",
      "healthexp\n",
      "iris\n",
      "mpg\n",
      "penguins\n",
      "planets\n",
      "seaice\n",
      "taxis\n",
      "tips\n",
      "titanic\n"
     ]
    }
   ],
   "source": [
    "import pandas as pd\n",
    "import seaborn as sns\n",
    "\n",
    "# List of all seaborn datasets\n",
    "dataset_names = sns.get_dataset_names()\n",
    "\n",
    "# Dictionary to store datasets\n",
    "datasets = {name: sns.load_dataset(name) for name in dataset_names}\n",
    "\n",
    "for k,v in datasets.items():\n",
    "    print(k)\n",
    "    datasets[k].to_parquet(k+'.parquet')\n"
   ]
  },
  {
   "cell_type": "code",
   "execution_count": null,
   "id": "0659d470-e6e5-4cdf-8166-bf4058567733",
   "metadata": {},
   "outputs": [],
   "source": []
  }
 ],
 "metadata": {
  "kernelspec": {
   "display_name": "py_env",
   "language": "python",
   "name": "py_env"
  },
  "language_info": {
   "codemirror_mode": {
    "name": "ipython",
    "version": 3
   },
   "file_extension": ".py",
   "mimetype": "text/x-python",
   "name": "python",
   "nbconvert_exporter": "python",
   "pygments_lexer": "ipython3",
   "version": "3.9.6"
  }
 },
 "nbformat": 4,
 "nbformat_minor": 5
}
