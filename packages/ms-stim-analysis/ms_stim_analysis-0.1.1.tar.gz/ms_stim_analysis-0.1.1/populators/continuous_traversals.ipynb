{
 "cells": [
  {
   "cell_type": "code",
   "execution_count": null,
   "id": "a517c1e5",
   "metadata": {},
   "outputs": [],
   "source": [
    "%load_ext autoreload\n",
    "%autoreload 2\n",
    "import matplotlib.pyplot as plt\n",
    "import numpy as np\n",
    "\n",
    "import os\n",
    "\n",
    "from ms_stim_analysis.Analysis.utils import filter_opto_data, smooth\n",
    "from ms_stim_analysis.AnalysisTables.ms_opto_stim_protocol import OptoStimProtocol\n",
    "\n",
    "from ms_stim_analysisAnalysisTables.decoding_tables import (\n",
    "    ContinuousRippleTraversal,\n",
    "    ContinuousRippleTraversalSelection,\n",
    "    ContinuousRippleTraversalParams,\n",
    ")\n",
    "from spyglass.decoding.v1.clusterless import ClusterlessDecodingV1\n",
    "from spyglass.ripple.v1 import RippleTimesV1\n",
    "from spyglass.position.position_merge import PositionOutput\n",
    "\n"
   ]
  },
  {
   "cell_type": "markdown",
   "id": "c2d71e34",
   "metadata": {},
   "source": [
    "# Populate"
   ]
  },
  {
   "cell_type": "code",
   "execution_count": null,
   "id": "76679c36",
   "metadata": {},
   "outputs": [],
   "source": [
    "params = {\n",
    "    \"ripple_traversal_params_name\": \"default acausal\",\n",
    "    \"continuous_distance_threshold\": 3,\n",
    "    \"acausal\": True,\n",
    "}\n",
    "ContinuousRippleTraversalParams().insert1(params, skip_duplicates=True)\n",
    "ContinuousRippleTraversalParams()"
   ]
  },
  {
   "cell_type": "code",
   "execution_count": null,
   "id": "bdfe98db",
   "metadata": {},
   "outputs": [],
   "source": [
    "from ms_stim_analysis.Analysis.utils import filter_opto_data\n",
    "\n",
    "artifact_detection = \"ms_lfp_artifact_times\"\n",
    "dataset_key = {\"track_type\": \"early_wtrack\"}\n",
    "dataset = filter_opto_data(dataset_key)\n",
    "dataset = dataset - \"nwb_file_name LIKE 'banner%'\"\n",
    "pos_key = (PositionOutput.DLCPosV1()).proj(pos_merge_id=\"merge_id\")\n",
    "for key in dataset.fetch(\"KEY\"):\n",
    "    clusterless_query = ClusterlessDecodingV1() & {\n",
    "        \"nwb_file_name\": key[\"nwb_file_name\"],\n",
    "        \"position_group_name\": \"DLC \" + key[\"interval_list_name\"],\n",
    "        \"encoding_interval\": key[\"interval_list_name\"],\n",
    "    }\n",
    "    if not clusterless_query:\n",
    "        continue\n",
    "        # raise ValueError(\"No clusterless decoding found\")\n",
    "    clusterless_key = clusterless_query.fetch1(\"KEY\")\n",
    "    clusterless_key\n",
    "    ripple_key = {\n",
    "        \"nwb_file_name\": key[\"nwb_file_name\"],\n",
    "    }\n",
    "    ripple_query = (\n",
    "        RippleTimesV1\n",
    "        & ripple_key\n",
    "        # & f\"target_interval_list_name LIKE '%{key['interval_list_name']}%'\"\n",
    "        & f\"target_interval_list_name LIKE '%{key['interval_list_name']}_{artifact_detection}%'\"\n",
    "        & pos_key\n",
    "    )\n",
    "    if not ripple_query:\n",
    "        continue\n",
    "        raise ValueError(\"No ripples found\")\n",
    "    ripple_key = ripple_query.fetch1(\"KEY\")\n",
    "\n",
    "    insert_key = {\n",
    "        **ripple_key,\n",
    "        **clusterless_key,\n",
    "        \"ripple_traversal_params_name\": \"default acausal\",\n",
    "    }\n",
    "    ContinuousRippleTraversalSelection().insert1(insert_key, skip_duplicates=True)\n",
    "\n",
    "    ContinuousRippleTraversalSelection()\n",
    "ContinuousRippleTraversal().populate(processes=32)"
   ]
  }
 ],
 "metadata": {
  "language_info": {
   "name": "python"
  }
 },
 "nbformat": 4,
 "nbformat_minor": 5
}
