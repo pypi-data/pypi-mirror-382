{
 "cells": [
  {
   "cell_type": "code",
   "execution_count": null,
   "id": "b23d2cf7",
   "metadata": {},
   "outputs": [],
   "source": [
    "%reload_ext autoreload\n",
    "%autoreload 2\n",
    "import copy\n",
    "import os\n",
    "import numpy as np\n",
    "import pandas as pd\n",
    "import pandas as pd\n",
    "import matplotlib.pyplot as plt\n",
    "\n",
    "from ms_stim_analysis.AnalysisTables.ms_dio_event import DioEvents, ProcessedDioEvents\n",
    "from ms_stim_analysis.AnalysisTables.ms_task_identification import TaskIdentification\n",
    "from ms_stim_analysis.AnalysisTables.ms_interval import EpochIntervalListName\n",
    "from ms_stim_analysis.AnalysisTables.Utils.df_helpers import df_pop, df_from_data_list\n",
    "from ms_stim_analysis.AnalysisTables.Utils.plot_helpers import format_ax\n",
    "from ms_stim_analysis.AnalysisTables.Utils.stats_helpers import (\n",
    "    average_confidence_interval,\n",
    ")\n",
    "from ms_stim_analysis.AnalysisTables.ms_task_performance import *\n",
    "from ms_stim_analysis.Analysis.EM_fitting.AS_EM_module import EM_main\n",
    "from ms_stim_analysis.AnalysisTables.ms_opto_stim_protocol import OptoStimProtocol\n",
    "from ms_stim_analysis.Style.style_guide import animal_style"
   ]
  },
  {
   "cell_type": "markdown",
   "id": "a7b52d00",
   "metadata": {},
   "source": [
    "## Populate behavior analysis tables"
   ]
  },
  {
   "cell_type": "code",
   "execution_count": null,
   "id": "4d2433f0",
   "metadata": {},
   "outputs": [],
   "source": [
    "import warnings\n",
    "\n",
    "warnings.filterwarnings(\"ignore\")\n",
    "\n",
    "# Populate tables for behavioral analysis of W track sessions\n",
    "# TODO: get list of nwbf names used in MS analysis\n",
    "nwb_file_names = [\"Frodo20230815_.nwb\"]\n",
    "\n",
    "for nwb_file_name in nwb_file_names:\n",
    "    print(f\"on {nwb_file_name}...\")\n",
    "    key = {\"nwb_file_name\": nwb_file_name}\n",
    "    TaskIdentification.populate(key)\n",
    "    epochs = []\n",
    "    for contingency in [\n",
    "        \"lineartrack\",\n",
    "        \"Lineartrack\",\n",
    "        \"wtrack\",\n",
    "        \"Wtrack\",\n",
    "        \"w-track\",\n",
    "        \"W-Track\",\n",
    "    ]:\n",
    "        epochs.extend(\n",
    "            (TaskIdentification & {**key, **{\"contingency\": contingency}}).fetch(\n",
    "                \"epoch\"\n",
    "            )\n",
    "        )\n",
    "    # epochs = np.append((TaskIdentification & {**key, **{\"contingency\": \"wtrack\"}}).fetch(\"epoch\"),(TaskIdentification & {**key, **{\"contingency\": \"lineartrack\"}}).fetch(\"epoch\"))\n",
    "    for epoch in epochs:\n",
    "        print(f\"on epoch {epoch}...\")\n",
    "        key.update({\"epoch\": epoch})\n",
    "        if not EpochIntervalListName & key:\n",
    "            print(\"populating epochIntervalListName...\")\n",
    "            EpochIntervalListName.populate(key)\n",
    "        if not DioEvents & key:\n",
    "            print(\"populating DioEvents...\")\n",
    "            DioEvents.populate(key)\n",
    "        if not ProcessedDioEvents & key:\n",
    "            print(\"populating ProcessedDioEvents...\")\n",
    "            ProcessedDioEvents.populate(key)\n",
    "        if not AlternationTaskPerformance & key:\n",
    "            print(\"populating AlternationTaskPerformance...\")\n",
    "            AlternationTaskPerformanceSel().insert1(key, skip_duplicates=True)\n",
    "            AlternationTaskPerformance.populate(key)"
   ]
  },
  {
   "cell_type": "code",
   "execution_count": null,
   "id": "d4ab9a08",
   "metadata": {},
   "outputs": [],
   "source": [
    "x = (ProcessedDioEvents & key).fetch(\"KEY\")[0]\n",
    "(TaskIdentification & x).fetch1(\"contingency\") in [\n",
    "    \"wtrack\",\n",
    "    \"W-Track\",\n",
    "    \"W-track\",\n",
    "    \"wtrack\",\n",
    "    \"w-track\",\n",
    "]\n",
    "# ProcessedDioEvents & key\n",
    "AlternationTaskPerformanceSel.insert1(x, skip_duplicates=True)\n",
    "\n",
    "AlternationTaskPerformanceSel & x  # & key\n",
    "\n",
    "AlternationTaskPerformance.populate(x)\n",
    "# key"
   ]
  }
 ],
 "metadata": {
  "language_info": {
   "name": "python"
  }
 },
 "nbformat": 4,
 "nbformat_minor": 5
}
