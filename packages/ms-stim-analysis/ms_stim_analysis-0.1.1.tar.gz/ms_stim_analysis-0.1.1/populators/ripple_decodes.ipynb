{
 "cells": [
  {
   "cell_type": "code",
   "execution_count": null,
   "id": "b93f1805",
   "metadata": {},
   "outputs": [],
   "source": [
    "%load_ext autoreload\n",
    "%autoreload 2\n",
    "from spyglass.ripple.v1 import RippleTimesV1, RippleParameters\n",
    "from spyglass.common import interval_list_intersect\n",
    "from spyglass.decoding.v1.clusterless import ClusterlessDecodingV1\n",
    "from spyglass.lfp import LFPOutput\n",
    "\n",
    "import numpy as np\n",
    "from scipy.stats import ttest_rel\n",
    "import statsmodels.stats as sm\n",
    "from statsmodels.stats import proportion\n",
    "\n",
    "import os\n",
    "import matplotlib.pyplot as plt\n",
    "\n",
    "from ms_stim_analysis.AnalysisTables.ms_opto_stim_protocol import OptoStimProtocol\n",
    "from ms_stim_analysis.Analysis.utils import filter_opto_data, violin_scatter\n",
    "from ms_stim_analysis.Style.style_guide import animal_style, interval_style\n",
    "from ms_stim_analysis.AnalysisTables.decoding_tables import ClusterlessAheadBehindDistance, BadDecodes\n",
    "from ms_stim_analysis.AnalysisTables.place_fields import DecodesToCoveredTrack\n",
    "\n",
    "from ms_stim_analysis.AnalysisTables.decoding_tables import RippleClusterlessDecodeAnalysisSelection, RippleClusterlessDecodeAnalysis\n",
    "\n",
    "\n",
    "from spyglass.position.v1 import TrodesPosV1\n",
    "from spyglass.position.position_merge import PositionOutput\n",
    "from spyglass.lfp.analysis.v1 import LFPBandV1"
   ]
  },
  {
   "cell_type": "markdown",
   "id": "b8551c45",
   "metadata": {},
   "source": [
    "# Populate"
   ]
  },
  {
   "cell_type": "code",
   "execution_count": null,
   "id": "9b06e649",
   "metadata": {},
   "outputs": [],
   "source": [
    "dlc_pos = True\n",
    "acausal = False\n",
    "\n",
    "for animal in animal_style.index:\n",
    "    dataset_key = {\"animal\": animal, \"track_type\": \"early_wtrack\"}\n",
    "    dataset = filter_opto_data(dataset_key)\n",
    "\n",
    "    ripple_class = []\n",
    "    for key in dataset.fetch(\"KEY\"):\n",
    "        clusterless_key = {\n",
    "            \"nwb_file_name\": key[\"nwb_file_name\"],\n",
    "            \"encoding_interval\": key[\"interval_list_name\"],\n",
    "        }\n",
    "        query = ClusterlessDecodingV1() & clusterless_key\n",
    "        if dlc_pos:\n",
    "            query = query & \"position_group_name LIKE 'dlc%'\"\n",
    "        else:\n",
    "            query = query - \"position_group_name LIKE 'dlc%'\"\n",
    "        if not query:\n",
    "            continue\n",
    "        clusterless_key = query.fetch1(\"KEY\")\n",
    "        if not ClusterlessAheadBehindDistance() & clusterless_key:\n",
    "            continue\n",
    "        query = (\n",
    "            RippleTimesV1()\n",
    "            & {\n",
    "                \"nwb_file_name\": key[\"nwb_file_name\"],\n",
    "            }\n",
    "            & \"target_interval_list_name LIKE '%{}%'\".format(key[\"interval_list_name\"])\n",
    "        )\n",
    "        if dlc_pos:\n",
    "            query = query & PositionOutput.DLCPosV1().proj(pos_merge_id=\"merge_id\")\n",
    "        else:\n",
    "            query & PositionOutput.TrodesPosV1().proj(pos_merge_id=\"merge_id\")\n",
    "\n",
    "        ripple_key = query.fetch1(\"KEY\")\n",
    "        analysis_key = {**ripple_key, **clusterless_key, \"acausal\": acausal}\n",
    "        RippleClusterlessDecodeAnalysisSelection().insert1(\n",
    "            analysis_key, skip_duplicates=True\n",
    "        )"
   ]
  },
  {
   "cell_type": "code",
   "execution_count": null,
   "id": "dd9cd932",
   "metadata": {},
   "outputs": [],
   "source": [
    "RippleClusterlessDecodeAnalysis().populate(processes=16, suppress_errors=True)"
   ]
  }
 ],
 "metadata": {
  "language_info": {
   "name": "python"
  }
 },
 "nbformat": 4,
 "nbformat_minor": 5
}
