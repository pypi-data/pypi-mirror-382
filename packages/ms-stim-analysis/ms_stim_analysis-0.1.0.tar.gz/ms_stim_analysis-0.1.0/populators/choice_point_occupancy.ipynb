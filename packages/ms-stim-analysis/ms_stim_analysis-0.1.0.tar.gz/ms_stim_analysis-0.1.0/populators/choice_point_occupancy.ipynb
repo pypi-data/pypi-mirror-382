{
 "cells": [
  {
   "cell_type": "code",
   "execution_count": null,
   "id": "58eafadc",
   "metadata": {},
   "outputs": [],
   "source": [
    "%load_ext autoreload\n",
    "%autoreload 2\n",
    "\n",
    "from ms_stim_analysis.AnalysisTables.location_times import LocationTimesParams, LocationTimesSelection, LocationTimes\n",
    "import numpy as np\n",
    "from spyglass.position.position_merge import PositionOutput"
   ]
  },
  {
   "cell_type": "markdown",
   "id": "dd411e60",
   "metadata": {},
   "source": [
    "# Populate"
   ]
  },
  {
   "cell_type": "markdown",
   "id": "f3e57bce",
   "metadata": {},
   "source": [
    "LocationTimesParams()\n",
    "\n",
    "params_name = \"ms_wtrack_2023_choice_point\"\n",
    "centers = [np.array([68, 125])]\n",
    "radii = [20]\n",
    "params_key = {\"location_params_name\": params_name, \"centers\": centers, \"radii\": radii}\n",
    "LocationTimesParams().insert1(params_key, skip_duplicates=True)\n",
    "\n",
    "params_name = \"ms_wtrack_choice_point\"\n",
    "centers = [np.array([85, 120])]\n",
    "radii = [20]\n",
    "params_key = {\"location_params_name\": params_name, \"centers\": centers, \"radii\": radii}\n",
    "LocationTimesParams().insert1(params_key, skip_duplicates=True)"
   ]
  },
  {
   "cell_type": "code",
   "execution_count": null,
   "id": "2587a19b",
   "metadata": {},
   "outputs": [],
   "source": [
    "# dlc_key = {'dlc_si_cohort_centroid': 'WhiteLED', 'nwb_file_name': 'Bilbo20230802_.nwb', 'epoch': 2, 'video_file_num': 1, 'project_name': 'Wtrack_WhiteLED_FB', 'dlc_model_name': 'Wtrack_WhiteLED_FB_wtrack_whiteled_FB_01', 'dlc_model_params_name': 'default', 'dlc_centroid_params_name': 'whiteLED_centroid_smooth_interp_fixed2', 'dlc_si_cohort_orientation': 'WhiteLED', 'dlc_orientation_params_name': 'none'}\n",
    "PositionOutput().DLCPosV1() & {\"project_name\": \"Wtrack_WhiteLED_FB\"}\n",
    "for merge_key in (\n",
    "    PositionOutput().DLCPosV1() & {\"project_name\": \"Wtrack_WhiteLED_FB\"}\n",
    ").fetch(\"KEY\"):\n",
    "    insert_key = {**merge_key, \"location_params_name\": \"ms_wtrack_2023_choice_point\"}\n",
    "    LocationTimesSelection.insert1(insert_key, skip_duplicates=True)\n",
    "\n",
    "PositionOutput().DLCPosV1() & {\"project_name\": \"Wtrack_WhiteLED\"}\n",
    "for merge_key in (\n",
    "    PositionOutput().DLCPosV1() & {\"project_name\": \"Wtrack_WhiteLED\"}\n",
    ").fetch(\"KEY\"):\n",
    "    insert_key = {**merge_key, \"location_params_name\": \"ms_wtrack_choice_point\"}\n",
    "    LocationTimesSelection.insert1(insert_key, skip_duplicates=True)\n",
    "\n",
    "# merge_key = (PositionOutput().DLCPosV1() & dlc_key).fetch1(\"KEY\")\n",
    "# insert_key = {**merge_key,\"location_params_name\": params_name}\n",
    "# LocationTimesSelection.insert1(insert_key, skip_duplicates=True)"
   ]
  },
  {
   "cell_type": "code",
   "execution_count": null,
   "id": "4b476e79",
   "metadata": {},
   "outputs": [],
   "source": [
    "LocationTimes().populate()"
   ]
  },
  {
   "cell_type": "code",
   "execution_count": null,
   "id": "30b7b757",
   "metadata": {},
   "outputs": [],
   "source": [
    "LocationTimes().validate_location(insert_key)\n",
    "\n",
    "intervals = (LocationTimes() & insert_key).fetch1(\"intervals\")\n",
    "[[en - st] for st, en in intervals]"
   ]
  }
 ],
 "metadata": {
  "language_info": {
   "name": "python"
  }
 },
 "nbformat": 4,
 "nbformat_minor": 5
}
