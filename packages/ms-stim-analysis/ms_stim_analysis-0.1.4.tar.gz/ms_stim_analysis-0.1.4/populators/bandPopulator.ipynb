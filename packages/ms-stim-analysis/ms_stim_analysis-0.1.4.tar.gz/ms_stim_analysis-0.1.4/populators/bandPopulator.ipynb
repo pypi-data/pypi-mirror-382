{
 "cells": [
  {
   "cell_type": "code",
   "execution_count": 1,
   "id": "063a6fdd-0625-4d2a-b759-cf7b6c9eef21",
   "metadata": {},
   "outputs": [
    {
     "name": "stderr",
     "output_type": "stream",
     "text": [
      "[2023-10-26 13:10:57,434][INFO]: Connecting sambray@lmf-db.cin.ucsf.edu:3306\n",
      "[2023-10-26 13:10:57,483][INFO]: Connected sambray@lmf-db.cin.ucsf.edu:3306\n"
     ]
    }
   ],
   "source": [
    "%load_ext autoreload\n",
    "%autoreload 2\n",
    "import pynwb\n",
    "import os\n",
    "import numpy as np\n",
    "\n",
    "# DataJoint and DataJoint schema\n",
    "import datajoint as dj\n",
    "\n",
    "dj.config[\"filepath_checksum_size_limit\"] = 1 * 1024**2\n",
    "\n",
    "## We also import a bunch of tables so that we can call them easily\n",
    "from spyglass.common import (\n",
    "    ElectrodeGroup,\n",
    "    Electrode,\n",
    "    FirFilterParameters,\n",
    "    IntervalList,\n",
    "    Session,\n",
    "    Task,\n",
    "    TaskEpoch,\n",
    "    Nwbfile,\n",
    "    AnalysisNwbfile,\n",
    "    NwbfileKachery,\n",
    "    AnalysisNwbfileKachery,\n",
    "    interval_list_contains,\n",
    "    interval_list_contains_ind,\n",
    "    interval_list_excludes,\n",
    "    interval_list_excludes_ind,\n",
    "    interval_list_intersect,\n",
    "    get_electrode_indices,\n",
    ")\n",
    "\n",
    "from spyglass.lfp.v1 import (\n",
    "    LFPElectrodeGroup,\n",
    "    LFPSelection,\n",
    "    LFPV1,\n",
    ")\n",
    "from spyglass.lfp.lfp_merge import LFPOutput\n",
    "\n",
    "\n",
    "from spyglass.lfp.analysis.v1.lfp_band import LFPBandSelection,LFPBandV1\n",
    "# from spyglass.lfp_band.lfp_band_merge import LFPBandOutput\n",
    "import os\n",
    "import warnings\n",
    "from tqdm import tqdm\n",
    "warnings.simplefilter(\"ignore\", category=DeprecationWarning)\n",
    "warnings.simplefilter(\"ignore\", category=ResourceWarning)\n",
    "warnings.simplefilter(\"ignore\", category=UserWarning)"
   ]
  },
  {
   "cell_type": "markdown",
   "id": "cb132610-c932-4a35-be88-577c96261cc0",
   "metadata": {},
   "source": [
    "## Define Animal Sessions"
   ]
  },
  {
   "cell_type": "code",
   "execution_count": 2,
   "id": "0ee04af0-d14c-486b-9ef7-ab34fbdf226e",
   "metadata": {},
   "outputs": [],
   "source": [
    "nwb_file_names = [\n",
    "    #Olive\n",
    "    \"Olive20220624_.nwb\",\n",
    "    \"Olive20220627_.nwb\",\n",
    "    \"Olive20220628_.nwb\",\n",
    "    \"Olive20220629_.nwb\",\n",
    "    \"Olive20220630_.nwb\",\n",
    "    \"Olive20220701_.nwb\",\n",
    "    \"Olive20220702_.nwb\",\n",
    "    \"Olive20220705_.nwb\",\n",
    "    \"Olive20220706_.nwb\",\n",
    "    #Yoshi\n",
    "    \"Yoshi20220509_.nwb\",\n",
    "    \"Yoshi20220510_.nwb\",\n",
    "    \"Yoshi20220511_.nwb\",\n",
    "    \"Yoshi20220519_.nwb\",\n",
    "    \"Yoshi20220525_.nwb\",\n",
    "    #Winnie\n",
    "    \"Winnie20220712_.nwb\",\n",
    "    \"Winnie20220713_.nwb\",\n",
    "    \"Winnie20220714_.nwb\",\n",
    "    \"Winnie20220715_.nwb\",\n",
    "    \"Winnie20220716_.nwb\",\n",
    "    #Wallie\n",
    "    \"Wallie20220911_.nwb\",\n",
    "    \"Wallie20220912_.nwb\",\n",
    "    \"Wallie20220913_.nwb\",\n",
    "    \"Wallie20220916_.nwb\",\n",
    "    #Totoro\n",
    "    \"Totoro20220524_.nwb\",\n",
    "    \"Totoro20220525_.nwb\",\n",
    "    \"Totoro20220526_.nwb\",\n",
    "    \"Totoro20220527_.nwb\",\n",
    "    \"Totoro20220530_.nwb\",\n",
    "    \"Totoro20220531_.nwb\",\n",
    "    \"Totoro20220602_.nwb\",\n",
    "    \"Totoro20220603_.nwb\",\n",
    "    \"Totoro20220606_.nwb\",\n",
    "    \"Totoro20220621_.nwb\",\n",
    "    #Odins\n",
    "    \"Odins20220107_.nwb\",\n",
    "    \"Odins20220110_.nwb\",\n",
    "    \"Odins20220111_.nwb\",\n",
    "    \"Odins20220113_.nwb\",\n",
    "    \"Odins20220118_.nwb\",\n",
    "    \"Odins20220119_.nwb\",\n",
    "    \"Odins20220123_.nwb\",\n",
    "    \"Odins20220124_.nwb\",\n",
    "    # \"Odins20220126_.nwb\", ???\n",
    "    #Banner\n",
    "    \"Banner20211221_.nwb\",\n",
    "    \"Banner20211222_.nwb\",\n",
    "    \"Banner20211227_.nwb\",\n",
    "    \"Banner20211228_.nwb\",\n",
    "    \"Banner20211230_.nwb\",\n",
    "    \"Banner20211231_.nwb\",\n",
    "    \"Banner20220103_.nwb\",\n",
    "    \"Banner20220105_.nwb\",\n",
    "    \"Banner20220123_.nwb\",\n",
    "    \"Banner20220124_.nwb\",\n",
    "    \"Banner20220126_.nwb\",\n",
    "]\n",
    "\n",
    "nwb_file_names.extend([\n",
    "    #Olive\n",
    "    \"Olive20220707_.nwb\",\n",
    "    \"Olive20220708_.nwb\",\n",
    "    \"Olive20220711_.nwb\",\n",
    "    #Yoshi\n",
    "    \"Yoshi20220513_.nwb\",\n",
    "    \"Yoshi20220516_.nwb\",\n",
    "    \"Yoshi20220517_.nwb\",\n",
    "    \"Yoshi20220518_.nwb\",\n",
    "    #Winnie\n",
    "    \"Winnie20220717_.nwb\",\n",
    "    \"Winnie20220718_.nwb\",\n",
    "    \"Winnie20220719_.nwb\",\n",
    "    \"Winnie20220720_.nwb\",\n",
    "    \"Winnie20220722_.nwb\",\n",
    "    #Wallie\n",
    "    \"Wallie20220914_.nwb\",\n",
    "    \"Wallie20220915_.nwb\",\n",
    "    \"Wallie20220922_.nwb\",\n",
    "    #Totoro\n",
    "    \"Totoro20220607_.nwb\",\n",
    "    \"Totoro20220610_.nwb\",\n",
    "    \"Totoro20220613_.nwb\",\n",
    "    \"Totoro20220614_.nwb\",\n",
    "    \"Totoro20220615_.nwb\",\n",
    "    \"Totoro20220616_.nwb\",\n",
    "    \"Totoro20220617_.nwb\",\n",
    "    #Odins\n",
    "    \"Odins20220226_.nwb\",\n",
    "    #Banner\n",
    "    \"Banner20220215_.nwb\",\n",
    "    \"Banner20220216_.nwb\",\n",
    "    \"Banner20220223_.nwb\",\n",
    "    \"Banner20220224_.nwb\",\n",
    "    \"Banner20220225_.nwb\",\n",
    "])\n",
    "    \n",
    "# np.isnan(np.mean([]))\n",
    "animal_names = [\"Wallie\",\"Winnie\",\"Olive\",\"Totoro\",\"Yoshi\",\"Dan\"]\n",
    "animal_names = [\"Bilbo\",\"Winnie\",\"Frodo\"]\n",
    "from spyglass.common import Session\n",
    "nwb_file_names = []\n",
    "[nwb_file_names.extend((Session() & {\"subject_id\":animal}).fetch(\"nwb_file_name\")) for animal in animal_names]\n",
    "\n",
    "nwb_file_names = ['Winnie20220714_.nwb']\n",
    "\n",
    "#write permission?\n",
    "analysis_path = \"/stelmo/nwb/analysis/\"\n",
    "for nwb_file in nwb_file_names:\n",
    "    if not os.path.isdir(analysis_path+nwb_file.split('_')[0]):\n",
    "        print(f'No analysis yet for: {nwb_file}')\n",
    "    elif not os.access(analysis_path+nwb_file.split('_')[0],os.W_OK):\n",
    "        print(f'No write permissions for: {nwb_file}nwb_file')\n"
   ]
  },
  {
   "cell_type": "markdown",
   "id": "6f9309a3-1774-4192-91e5-acb346a6e1f9",
   "metadata": {},
   "source": [
    "## Populate"
   ]
  },
  {
   "cell_type": "code",
   "execution_count": 3,
   "id": "9c181360-c520-4218-9aa6-858bafa79a7d",
   "metadata": {},
   "outputs": [
    {
     "name": "stderr",
     "output_type": "stream",
     "text": [
      "[2023-10-26 13:11:58,353][WARNING]: Skipped checksum for file with hash: 8c73b162-70f2-aecb-1425-2e1f83e2a1c6, and path: /stelmo/nwb/analysis/Winnie20220714/Winnie20220714_ISXEFBV66J.nwb\n",
      "WARNING:datajoint:Skipped checksum for file with hash: 8c73b162-70f2-aecb-1425-2e1f83e2a1c6, and path: /stelmo/nwb/analysis/Winnie20220714/Winnie20220714_ISXEFBV66J.nwb\n",
      "[2023-10-26 13:11:59,362][WARNING]: Skipped checksum for file with hash: 8c73b162-70f2-aecb-1425-2e1f83e2a1c6, and path: /stelmo/nwb/analysis/Winnie20220714/Winnie20220714_ISXEFBV66J.nwb\n",
      "WARNING:datajoint:Skipped checksum for file with hash: 8c73b162-70f2-aecb-1425-2e1f83e2a1c6, and path: /stelmo/nwb/analysis/Winnie20220714/Winnie20220714_ISXEFBV66J.nwb\n"
     ]
    },
    {
     "name": "stdout",
     "output_type": "stream",
     "text": [
      "Writing new NWB file Winnie20220714_7LE95FJS9X.nwb\n"
     ]
    },
    {
     "data": {
      "application/javascript": "(function(root) {\n  function now() {\n    return new Date();\n  }\n\n  var force = true;\n  var py_version = '3.1.1'.replace('rc', '-rc.');\n  var is_dev = py_version.indexOf(\"+\") !== -1 || py_version.indexOf(\"-\") !== -1;\n  var reloading = false;\n  var Bokeh = root.Bokeh;\n  var bokeh_loaded = Bokeh != null && (Bokeh.version === py_version || (Bokeh.versions !== undefined && Bokeh.versions.has(py_version)));\n\n  if (typeof (root._bokeh_timeout) === \"undefined\" || force) {\n    root._bokeh_timeout = Date.now() + 5000;\n    root._bokeh_failed_load = false;\n  }\n\n  function run_callbacks() {\n    try {\n      root._bokeh_onload_callbacks.forEach(function(callback) {\n        if (callback != null)\n          callback();\n      });\n    } finally {\n      delete root._bokeh_onload_callbacks;\n    }\n    console.debug(\"Bokeh: all callbacks have finished\");\n  }\n\n  function load_libs(css_urls, js_urls, js_modules, js_exports, callback) {\n    if (css_urls == null) css_urls = [];\n    if (js_urls == null) js_urls = [];\n    if (js_modules == null) js_modules = [];\n    if (js_exports == null) js_exports = {};\n\n    root._bokeh_onload_callbacks.push(callback);\n\n    if (root._bokeh_is_loading > 0) {\n      console.debug(\"Bokeh: BokehJS is being loaded, scheduling callback at\", now());\n      return null;\n    }\n    if (js_urls.length === 0 && js_modules.length === 0 && Object.keys(js_exports).length === 0) {\n      run_callbacks();\n      return null;\n    }\n    if (!reloading) {\n      console.debug(\"Bokeh: BokehJS not loaded, scheduling load and callback at\", now());\n    }\n\n    function on_load() {\n      root._bokeh_is_loading--;\n      if (root._bokeh_is_loading === 0) {\n        console.debug(\"Bokeh: all BokehJS libraries/stylesheets loaded\");\n        run_callbacks()\n      }\n    }\n    window._bokeh_on_load = on_load\n\n    function on_error() {\n      console.error(\"failed to load \" + url);\n    }\n\n    var skip = [];\n    if (window.requirejs) {\n      window.requirejs.config({'packages': {}, 'paths': {'jspanel': 'https://cdn.jsdelivr.net/npm/jspanel4@4.12.0/dist/jspanel', 'jspanel-modal': 'https://cdn.jsdelivr.net/npm/jspanel4@4.12.0/dist/extensions/modal/jspanel.modal', 'jspanel-tooltip': 'https://cdn.jsdelivr.net/npm/jspanel4@4.12.0/dist/extensions/tooltip/jspanel.tooltip', 'jspanel-hint': 'https://cdn.jsdelivr.net/npm/jspanel4@4.12.0/dist/extensions/hint/jspanel.hint', 'jspanel-layout': 'https://cdn.jsdelivr.net/npm/jspanel4@4.12.0/dist/extensions/layout/jspanel.layout', 'jspanel-contextmenu': 'https://cdn.jsdelivr.net/npm/jspanel4@4.12.0/dist/extensions/contextmenu/jspanel.contextmenu', 'jspanel-dock': 'https://cdn.jsdelivr.net/npm/jspanel4@4.12.0/dist/extensions/dock/jspanel.dock', 'gridstack': 'https://cdn.jsdelivr.net/npm/gridstack@7.2.3/dist/gridstack-all', 'notyf': 'https://cdn.jsdelivr.net/npm/notyf@3/notyf.min'}, 'shim': {'jspanel': {'exports': 'jsPanel'}, 'gridstack': {'exports': 'GridStack'}}});\n      require([\"jspanel\"], function(jsPanel) {\n\twindow.jsPanel = jsPanel\n\ton_load()\n      })\n      require([\"jspanel-modal\"], function() {\n\ton_load()\n      })\n      require([\"jspanel-tooltip\"], function() {\n\ton_load()\n      })\n      require([\"jspanel-hint\"], function() {\n\ton_load()\n      })\n      require([\"jspanel-layout\"], function() {\n\ton_load()\n      })\n      require([\"jspanel-contextmenu\"], function() {\n\ton_load()\n      })\n      require([\"jspanel-dock\"], function() {\n\ton_load()\n      })\n      require([\"gridstack\"], function(GridStack) {\n\twindow.GridStack = GridStack\n\ton_load()\n      })\n      require([\"notyf\"], function() {\n\ton_load()\n      })\n      root._bokeh_is_loading = css_urls.length + 9;\n    } else {\n      root._bokeh_is_loading = css_urls.length + js_urls.length + js_modules.length + Object.keys(js_exports).length;\n    }\n\n    var existing_stylesheets = []\n    var links = document.getElementsByTagName('link')\n    for (var i = 0; i < links.length; i++) {\n      var link = links[i]\n      if (link.href != null) {\n\texisting_stylesheets.push(link.href)\n      }\n    }\n    for (var i = 0; i < css_urls.length; i++) {\n      var url = css_urls[i];\n      if (existing_stylesheets.indexOf(url) !== -1) {\n\ton_load()\n\tcontinue;\n      }\n      const element = document.createElement(\"link\");\n      element.onload = on_load;\n      element.onerror = on_error;\n      element.rel = \"stylesheet\";\n      element.type = \"text/css\";\n      element.href = url;\n      console.debug(\"Bokeh: injecting link tag for BokehJS stylesheet: \", url);\n      document.body.appendChild(element);\n    }    if (((window['jsPanel'] !== undefined) && (!(window['jsPanel'] instanceof HTMLElement))) || window.requirejs) {\n      var urls = ['https://cdn.holoviz.org/panel/1.1.0/dist/bundled/floatpanel/jspanel4@4.12.0/dist/jspanel.js', 'https://cdn.holoviz.org/panel/1.1.0/dist/bundled/floatpanel/jspanel4@4.12.0/dist/extensions/modal/jspanel.modal.js', 'https://cdn.holoviz.org/panel/1.1.0/dist/bundled/floatpanel/jspanel4@4.12.0/dist/extensions/tooltip/jspanel.tooltip.js', 'https://cdn.holoviz.org/panel/1.1.0/dist/bundled/floatpanel/jspanel4@4.12.0/dist/extensions/hint/jspanel.hint.js', 'https://cdn.holoviz.org/panel/1.1.0/dist/bundled/floatpanel/jspanel4@4.12.0/dist/extensions/layout/jspanel.layout.js', 'https://cdn.holoviz.org/panel/1.1.0/dist/bundled/floatpanel/jspanel4@4.12.0/dist/extensions/contextmenu/jspanel.contextmenu.js', 'https://cdn.holoviz.org/panel/1.1.0/dist/bundled/floatpanel/jspanel4@4.12.0/dist/extensions/dock/jspanel.dock.js'];\n      for (var i = 0; i < urls.length; i++) {\n        skip.push(urls[i])\n      }\n    }    if (((window['GridStack'] !== undefined) && (!(window['GridStack'] instanceof HTMLElement))) || window.requirejs) {\n      var urls = ['https://cdn.holoviz.org/panel/1.1.0/dist/bundled/gridstack/gridstack@7.2.3/dist/gridstack-all.js'];\n      for (var i = 0; i < urls.length; i++) {\n        skip.push(urls[i])\n      }\n    }    if (((window['Notyf'] !== undefined) && (!(window['Notyf'] instanceof HTMLElement))) || window.requirejs) {\n      var urls = ['https://cdn.holoviz.org/panel/1.1.0/dist/bundled/notificationarea/notyf@3/notyf.min.js'];\n      for (var i = 0; i < urls.length; i++) {\n        skip.push(urls[i])\n      }\n    }    var existing_scripts = []\n    var scripts = document.getElementsByTagName('script')\n    for (var i = 0; i < scripts.length; i++) {\n      var script = scripts[i]\n      if (script.src != null) {\n\texisting_scripts.push(script.src)\n      }\n    }\n    for (var i = 0; i < js_urls.length; i++) {\n      var url = js_urls[i];\n      if (skip.indexOf(url) !== -1 || existing_scripts.indexOf(url) !== -1) {\n\tif (!window.requirejs) {\n\t  on_load();\n\t}\n\tcontinue;\n      }\n      var element = document.createElement('script');\n      element.onload = on_load;\n      element.onerror = on_error;\n      element.async = false;\n      element.src = url;\n      console.debug(\"Bokeh: injecting script tag for BokehJS library: \", url);\n      document.head.appendChild(element);\n    }\n    for (var i = 0; i < js_modules.length; i++) {\n      var url = js_modules[i];\n      if (skip.indexOf(url) !== -1 || existing_scripts.indexOf(url) !== -1) {\n\tif (!window.requirejs) {\n\t  on_load();\n\t}\n\tcontinue;\n      }\n      var element = document.createElement('script');\n      element.onload = on_load;\n      element.onerror = on_error;\n      element.async = false;\n      element.src = url;\n      element.type = \"module\";\n      console.debug(\"Bokeh: injecting script tag for BokehJS library: \", url);\n      document.head.appendChild(element);\n    }\n    for (const name in js_exports) {\n      var url = js_exports[name];\n      if (skip.indexOf(url) >= 0 || root[name] != null) {\n\tif (!window.requirejs) {\n\t  on_load();\n\t}\n\tcontinue;\n      }\n      var element = document.createElement('script');\n      element.onerror = on_error;\n      element.async = false;\n      element.type = \"module\";\n      console.debug(\"Bokeh: injecting script tag for BokehJS library: \", url);\n      element.textContent = `\n      import ${name} from \"${url}\"\n      window.${name} = ${name}\n      window._bokeh_on_load()\n      `\n      document.head.appendChild(element);\n    }\n    if (!js_urls.length && !js_modules.length) {\n      on_load()\n    }\n  };\n\n  function inject_raw_css(css) {\n    const element = document.createElement(\"style\");\n    element.appendChild(document.createTextNode(css));\n    document.body.appendChild(element);\n  }\n\n  var js_urls = [\"https://cdn.bokeh.org/bokeh/release/bokeh-3.1.1.min.js\", \"https://cdn.bokeh.org/bokeh/release/bokeh-gl-3.1.1.min.js\", \"https://cdn.bokeh.org/bokeh/release/bokeh-widgets-3.1.1.min.js\", \"https://cdn.bokeh.org/bokeh/release/bokeh-tables-3.1.1.min.js\", \"https://cdn.holoviz.org/panel/1.1.0/dist/panel.min.js\"];\n  var js_modules = [];\n  var js_exports = {};\n  var css_urls = [];\n  var inline_js = [    function(Bokeh) {\n      Bokeh.set_log_level(\"info\");\n    },\nfunction(Bokeh) {} // ensure no trailing comma for IE\n  ];\n\n  function run_inline_js() {\n    if ((root.Bokeh !== undefined) || (force === true)) {\n      for (var i = 0; i < inline_js.length; i++) {\n        inline_js[i].call(root, root.Bokeh);\n      }\n      // Cache old bokeh versions\n      if (Bokeh != undefined && !reloading) {\n\tvar NewBokeh = root.Bokeh;\n\tif (Bokeh.versions === undefined) {\n\t  Bokeh.versions = new Map();\n\t}\n\tif (NewBokeh.version !== Bokeh.version) {\n\t  Bokeh.versions.set(NewBokeh.version, NewBokeh)\n\t}\n\troot.Bokeh = Bokeh;\n      }} else if (Date.now() < root._bokeh_timeout) {\n      setTimeout(run_inline_js, 100);\n    } else if (!root._bokeh_failed_load) {\n      console.log(\"Bokeh: BokehJS failed to load within specified timeout.\");\n      root._bokeh_failed_load = true;\n    }\n    root._bokeh_is_initializing = false\n  }\n\n  function load_or_wait() {\n    // Implement a backoff loop that tries to ensure we do not load multiple\n    // versions of Bokeh and its dependencies at the same time.\n    // In recent versions we use the root._bokeh_is_initializing flag\n    // to determine whether there is an ongoing attempt to initialize\n    // bokeh, however for backward compatibility we also try to ensure\n    // that we do not start loading a newer (Panel>=1.0 and Bokeh>3) version\n    // before older versions are fully initialized.\n    if (root._bokeh_is_initializing && Date.now() > root._bokeh_timeout) {\n      root._bokeh_is_initializing = false;\n      root._bokeh_onload_callbacks = undefined;\n      console.log(\"Bokeh: BokehJS was loaded multiple times but one version failed to initialize.\");\n      load_or_wait();\n    } else if (root._bokeh_is_initializing || (typeof root._bokeh_is_initializing === \"undefined\" && root._bokeh_onload_callbacks !== undefined)) {\n      setTimeout(load_or_wait, 100);\n    } else {\n      Bokeh = root.Bokeh;\n      bokeh_loaded = Bokeh != null && (Bokeh.version === py_version || (Bokeh.versions !== undefined && Bokeh.versions.has(py_version)));\n      root._bokeh_is_initializing = true\n      root._bokeh_onload_callbacks = []\n      if (!reloading && (!bokeh_loaded || is_dev)) {\n\troot.Bokeh = undefined;\n      }\n      load_libs(css_urls, js_urls, js_modules, js_exports, function() {\n\tconsole.debug(\"Bokeh: BokehJS plotting callback run at\", now());\n\trun_inline_js();\n      });\n    }\n  }\n  // Give older versions of the autoload script a head-start to ensure\n  // they initialize before we start loading newer version.\n  setTimeout(load_or_wait, 100)\n}(window));",
      "application/vnd.holoviews_load.v0+json": ""
     },
     "metadata": {},
     "output_type": "display_data"
    },
    {
     "data": {
      "application/javascript": "\nif ((window.PyViz === undefined) || (window.PyViz instanceof HTMLElement)) {\n  window.PyViz = {comms: {}, comm_status:{}, kernels:{}, receivers: {}, plot_index: []}\n}\n\n\n    function JupyterCommManager() {\n    }\n\n    JupyterCommManager.prototype.register_target = function(plot_id, comm_id, msg_handler) {\n      if (window.comm_manager || ((window.Jupyter !== undefined) && (Jupyter.notebook.kernel != null))) {\n        var comm_manager = window.comm_manager || Jupyter.notebook.kernel.comm_manager;\n        comm_manager.register_target(comm_id, function(comm) {\n          comm.on_msg(msg_handler);\n        });\n      } else if ((plot_id in window.PyViz.kernels) && (window.PyViz.kernels[plot_id])) {\n        window.PyViz.kernels[plot_id].registerCommTarget(comm_id, function(comm) {\n          comm.onMsg = msg_handler;\n        });\n      } else if (typeof google != 'undefined' && google.colab.kernel != null) {\n        google.colab.kernel.comms.registerTarget(comm_id, (comm) => {\n          var messages = comm.messages[Symbol.asyncIterator]();\n          function processIteratorResult(result) {\n            var message = result.value;\n            console.log(message)\n            var content = {data: message.data, comm_id};\n            var buffers = []\n            for (var buffer of message.buffers || []) {\n              buffers.push(new DataView(buffer))\n            }\n            var metadata = message.metadata || {};\n            var msg = {content, buffers, metadata}\n            msg_handler(msg);\n            return messages.next().then(processIteratorResult);\n          }\n          return messages.next().then(processIteratorResult);\n        })\n      }\n    }\n\n    JupyterCommManager.prototype.get_client_comm = function(plot_id, comm_id, msg_handler) {\n      if (comm_id in window.PyViz.comms) {\n        return window.PyViz.comms[comm_id];\n      } else if (window.comm_manager || ((window.Jupyter !== undefined) && (Jupyter.notebook.kernel != null))) {\n        var comm_manager = window.comm_manager || Jupyter.notebook.kernel.comm_manager;\n        var comm = comm_manager.new_comm(comm_id, {}, {}, {}, comm_id);\n        if (msg_handler) {\n          comm.on_msg(msg_handler);\n        }\n      } else if ((plot_id in window.PyViz.kernels) && (window.PyViz.kernels[plot_id])) {\n        var comm = window.PyViz.kernels[plot_id].connectToComm(comm_id);\n        comm.open();\n        if (msg_handler) {\n          comm.onMsg = msg_handler;\n        }\n      } else if (typeof google != 'undefined' && google.colab.kernel != null) {\n        var comm_promise = google.colab.kernel.comms.open(comm_id)\n        comm_promise.then((comm) => {\n          window.PyViz.comms[comm_id] = comm;\n          if (msg_handler) {\n            var messages = comm.messages[Symbol.asyncIterator]();\n            function processIteratorResult(result) {\n              var message = result.value;\n              var content = {data: message.data};\n              var metadata = message.metadata || {comm_id};\n              var msg = {content, metadata}\n              msg_handler(msg);\n              return messages.next().then(processIteratorResult);\n            }\n            return messages.next().then(processIteratorResult);\n          }\n        }) \n        var sendClosure = (data, metadata, buffers, disposeOnDone) => {\n          return comm_promise.then((comm) => {\n            comm.send(data, metadata, buffers, disposeOnDone);\n          });\n        };\n        var comm = {\n          send: sendClosure\n        };\n      }\n      window.PyViz.comms[comm_id] = comm;\n      return comm;\n    }\n    window.PyViz.comm_manager = new JupyterCommManager();\n    \n\n\nvar JS_MIME_TYPE = 'application/javascript';\nvar HTML_MIME_TYPE = 'text/html';\nvar EXEC_MIME_TYPE = 'application/vnd.holoviews_exec.v0+json';\nvar CLASS_NAME = 'output';\n\n/**\n * Render data to the DOM node\n */\nfunction render(props, node) {\n  var div = document.createElement(\"div\");\n  var script = document.createElement(\"script\");\n  node.appendChild(div);\n  node.appendChild(script);\n}\n\n/**\n * Handle when a new output is added\n */\nfunction handle_add_output(event, handle) {\n  var output_area = handle.output_area;\n  var output = handle.output;\n  if ((output.data == undefined) || (!output.data.hasOwnProperty(EXEC_MIME_TYPE))) {\n    return\n  }\n  var id = output.metadata[EXEC_MIME_TYPE][\"id\"];\n  var toinsert = output_area.element.find(\".\" + CLASS_NAME.split(' ')[0]);\n  if (id !== undefined) {\n    var nchildren = toinsert.length;\n    var html_node = toinsert[nchildren-1].children[0];\n    html_node.innerHTML = output.data[HTML_MIME_TYPE];\n    var scripts = [];\n    var nodelist = html_node.querySelectorAll(\"script\");\n    for (var i in nodelist) {\n      if (nodelist.hasOwnProperty(i)) {\n        scripts.push(nodelist[i])\n      }\n    }\n\n    scripts.forEach( function (oldScript) {\n      var newScript = document.createElement(\"script\");\n      var attrs = [];\n      var nodemap = oldScript.attributes;\n      for (var j in nodemap) {\n        if (nodemap.hasOwnProperty(j)) {\n          attrs.push(nodemap[j])\n        }\n      }\n      attrs.forEach(function(attr) { newScript.setAttribute(attr.name, attr.value) });\n      newScript.appendChild(document.createTextNode(oldScript.innerHTML));\n      oldScript.parentNode.replaceChild(newScript, oldScript);\n    });\n    if (JS_MIME_TYPE in output.data) {\n      toinsert[nchildren-1].children[1].textContent = output.data[JS_MIME_TYPE];\n    }\n    output_area._hv_plot_id = id;\n    if ((window.Bokeh !== undefined) && (id in Bokeh.index)) {\n      window.PyViz.plot_index[id] = Bokeh.index[id];\n    } else {\n      window.PyViz.plot_index[id] = null;\n    }\n  } else if (output.metadata[EXEC_MIME_TYPE][\"server_id\"] !== undefined) {\n    var bk_div = document.createElement(\"div\");\n    bk_div.innerHTML = output.data[HTML_MIME_TYPE];\n    var script_attrs = bk_div.children[0].attributes;\n    for (var i = 0; i < script_attrs.length; i++) {\n      toinsert[toinsert.length - 1].childNodes[1].setAttribute(script_attrs[i].name, script_attrs[i].value);\n    }\n    // store reference to server id on output_area\n    output_area._bokeh_server_id = output.metadata[EXEC_MIME_TYPE][\"server_id\"];\n  }\n}\n\n/**\n * Handle when an output is cleared or removed\n */\nfunction handle_clear_output(event, handle) {\n  var id = handle.cell.output_area._hv_plot_id;\n  var server_id = handle.cell.output_area._bokeh_server_id;\n  if (((id === undefined) || !(id in PyViz.plot_index)) && (server_id !== undefined)) { return; }\n  var comm = window.PyViz.comm_manager.get_client_comm(\"hv-extension-comm\", \"hv-extension-comm\", function () {});\n  if (server_id !== null) {\n    comm.send({event_type: 'server_delete', 'id': server_id});\n    return;\n  } else if (comm !== null) {\n    comm.send({event_type: 'delete', 'id': id});\n  }\n  delete PyViz.plot_index[id];\n  if ((window.Bokeh !== undefined) & (id in window.Bokeh.index)) {\n    var doc = window.Bokeh.index[id].model.document\n    doc.clear();\n    const i = window.Bokeh.documents.indexOf(doc);\n    if (i > -1) {\n      window.Bokeh.documents.splice(i, 1);\n    }\n  }\n}\n\n/**\n * Handle kernel restart event\n */\nfunction handle_kernel_cleanup(event, handle) {\n  delete PyViz.comms[\"hv-extension-comm\"];\n  window.PyViz.plot_index = {}\n}\n\n/**\n * Handle update_display_data messages\n */\nfunction handle_update_output(event, handle) {\n  handle_clear_output(event, {cell: {output_area: handle.output_area}})\n  handle_add_output(event, handle)\n}\n\nfunction register_renderer(events, OutputArea) {\n  function append_mime(data, metadata, element) {\n    // create a DOM node to render to\n    var toinsert = this.create_output_subarea(\n    metadata,\n    CLASS_NAME,\n    EXEC_MIME_TYPE\n    );\n    this.keyboard_manager.register_events(toinsert);\n    // Render to node\n    var props = {data: data, metadata: metadata[EXEC_MIME_TYPE]};\n    render(props, toinsert[0]);\n    element.append(toinsert);\n    return toinsert\n  }\n\n  events.on('output_added.OutputArea', handle_add_output);\n  events.on('output_updated.OutputArea', handle_update_output);\n  events.on('clear_output.CodeCell', handle_clear_output);\n  events.on('delete.Cell', handle_clear_output);\n  events.on('kernel_ready.Kernel', handle_kernel_cleanup);\n\n  OutputArea.prototype.register_mime_type(EXEC_MIME_TYPE, append_mime, {\n    safe: true,\n    index: 0\n  });\n}\n\nif (window.Jupyter !== undefined) {\n  try {\n    var events = require('base/js/events');\n    var OutputArea = require('notebook/js/outputarea').OutputArea;\n    if (OutputArea.prototype.mime_types().indexOf(EXEC_MIME_TYPE) == -1) {\n      register_renderer(events, OutputArea);\n    }\n  } catch(err) {\n  }\n}\n",
      "application/vnd.holoviews_load.v0+json": ""
     },
     "metadata": {},
     "output_type": "display_data"
    },
    {
     "data": {
      "text/html": [
       "<style>*[data-root-id],\n",
       "*[data-root-id] > * {\n",
       "  box-sizing: border-box;\n",
       "  font-family: var(--jp-ui-font-family);\n",
       "  font-size: var(--jp-ui-font-size1);\n",
       "  color: var(--vscode-editor-foreground, var(--jp-ui-font-color1));\n",
       "}\n",
       "\n",
       "/* Override VSCode background color */\n",
       ".cell-output-ipywidget-background:has(> .cell-output-ipywidget-background\n",
       "    > .lm-Widget\n",
       "    > *[data-root-id]),\n",
       ".cell-output-ipywidget-background:has(> .lm-Widget > *[data-root-id]) {\n",
       "  background-color: transparent !important;\n",
       "}\n",
       "</style>"
      ]
     },
     "metadata": {},
     "output_type": "display_data"
    },
    {
     "name": "stderr",
     "output_type": "stream",
     "text": [
      "[2023-10-26 13:12:23,874][WARNING]: Skipped checksum for file with hash: 58683a68-d1e8-9038-7c1c-0628a03129d4, and path: /stelmo/nwb/analysis/Winnie20220714/Winnie20220714_RKYT1QGOV3.nwb\n",
      "WARNING:datajoint:Skipped checksum for file with hash: 58683a68-d1e8-9038-7c1c-0628a03129d4, and path: /stelmo/nwb/analysis/Winnie20220714/Winnie20220714_RKYT1QGOV3.nwb\n",
      "[2023-10-26 13:12:24,713][WARNING]: Skipped checksum for file with hash: 58683a68-d1e8-9038-7c1c-0628a03129d4, and path: /stelmo/nwb/analysis/Winnie20220714/Winnie20220714_RKYT1QGOV3.nwb\n",
      "WARNING:datajoint:Skipped checksum for file with hash: 58683a68-d1e8-9038-7c1c-0628a03129d4, and path: /stelmo/nwb/analysis/Winnie20220714/Winnie20220714_RKYT1QGOV3.nwb\n"
     ]
    },
    {
     "name": "stdout",
     "output_type": "stream",
     "text": [
      "Writing new NWB file Winnie20220714_VB30QZNJDR.nwb\n"
     ]
    },
    {
     "name": "stderr",
     "output_type": "stream",
     "text": [
      "[2023-10-26 13:12:34,037][WARNING]: Skipped checksum for file with hash: 5ece8129-70a7-a01d-9af8-fe9a1dc89f8e, and path: /stelmo/nwb/analysis/Winnie20220714/Winnie20220714_LWTP99D94J.nwb\n",
      "WARNING:datajoint:Skipped checksum for file with hash: 5ece8129-70a7-a01d-9af8-fe9a1dc89f8e, and path: /stelmo/nwb/analysis/Winnie20220714/Winnie20220714_LWTP99D94J.nwb\n",
      "[2023-10-26 13:12:34,728][WARNING]: Skipped checksum for file with hash: 5ece8129-70a7-a01d-9af8-fe9a1dc89f8e, and path: /stelmo/nwb/analysis/Winnie20220714/Winnie20220714_LWTP99D94J.nwb\n",
      "WARNING:datajoint:Skipped checksum for file with hash: 5ece8129-70a7-a01d-9af8-fe9a1dc89f8e, and path: /stelmo/nwb/analysis/Winnie20220714/Winnie20220714_LWTP99D94J.nwb\n"
     ]
    },
    {
     "name": "stdout",
     "output_type": "stream",
     "text": [
      "Writing new NWB file Winnie20220714_AX2PNT5LE5.nwb\n"
     ]
    },
    {
     "name": "stderr",
     "output_type": "stream",
     "text": [
      "[2023-10-26 13:12:47,822][WARNING]: Skipped checksum for file with hash: a1b162bb-c917-6c4e-95f8-f9ef82c59316, and path: /stelmo/nwb/analysis/Winnie20220714/Winnie20220714_IVE135OJO8.nwb\n",
      "WARNING:datajoint:Skipped checksum for file with hash: a1b162bb-c917-6c4e-95f8-f9ef82c59316, and path: /stelmo/nwb/analysis/Winnie20220714/Winnie20220714_IVE135OJO8.nwb\n",
      "[2023-10-26 13:12:48,572][WARNING]: Skipped checksum for file with hash: a1b162bb-c917-6c4e-95f8-f9ef82c59316, and path: /stelmo/nwb/analysis/Winnie20220714/Winnie20220714_IVE135OJO8.nwb\n",
      "WARNING:datajoint:Skipped checksum for file with hash: a1b162bb-c917-6c4e-95f8-f9ef82c59316, and path: /stelmo/nwb/analysis/Winnie20220714/Winnie20220714_IVE135OJO8.nwb\n"
     ]
    },
    {
     "name": "stdout",
     "output_type": "stream",
     "text": [
      "Writing new NWB file Winnie20220714_RUIP931DV8.nwb\n"
     ]
    },
    {
     "name": "stderr",
     "output_type": "stream",
     "text": [
      "[2023-10-26 13:13:06,692][WARNING]: Skipped checksum for file with hash: 06ad3a54-0814-34e5-dfae-4403b182e01b, and path: /stelmo/nwb/analysis/Winnie20220714/Winnie20220714_QU78NE5M47.nwb\n",
      "WARNING:datajoint:Skipped checksum for file with hash: 06ad3a54-0814-34e5-dfae-4403b182e01b, and path: /stelmo/nwb/analysis/Winnie20220714/Winnie20220714_QU78NE5M47.nwb\n",
      "[2023-10-26 13:13:07,378][WARNING]: Skipped checksum for file with hash: 06ad3a54-0814-34e5-dfae-4403b182e01b, and path: /stelmo/nwb/analysis/Winnie20220714/Winnie20220714_QU78NE5M47.nwb\n",
      "WARNING:datajoint:Skipped checksum for file with hash: 06ad3a54-0814-34e5-dfae-4403b182e01b, and path: /stelmo/nwb/analysis/Winnie20220714/Winnie20220714_QU78NE5M47.nwb\n"
     ]
    },
    {
     "name": "stdout",
     "output_type": "stream",
     "text": [
      "Writing new NWB file Winnie20220714_ZSFK9ZWPMT.nwb\n"
     ]
    },
    {
     "name": "stderr",
     "output_type": "stream",
     "text": [
      "[2023-10-26 13:13:16,577][WARNING]: Skipped checksum for file with hash: 8a73f283-cf98-14ba-7a44-0a01e6cf0003, and path: /stelmo/nwb/analysis/Winnie20220714/Winnie20220714_QFNM95HQ8A.nwb\n",
      "WARNING:datajoint:Skipped checksum for file with hash: 8a73f283-cf98-14ba-7a44-0a01e6cf0003, and path: /stelmo/nwb/analysis/Winnie20220714/Winnie20220714_QFNM95HQ8A.nwb\n",
      "[2023-10-26 13:13:17,231][WARNING]: Skipped checksum for file with hash: 8a73f283-cf98-14ba-7a44-0a01e6cf0003, and path: /stelmo/nwb/analysis/Winnie20220714/Winnie20220714_QFNM95HQ8A.nwb\n",
      "WARNING:datajoint:Skipped checksum for file with hash: 8a73f283-cf98-14ba-7a44-0a01e6cf0003, and path: /stelmo/nwb/analysis/Winnie20220714/Winnie20220714_QFNM95HQ8A.nwb\n"
     ]
    },
    {
     "name": "stdout",
     "output_type": "stream",
     "text": [
      "Writing new NWB file Winnie20220714_515MNUFYSU.nwb\n"
     ]
    },
    {
     "name": "stderr",
     "output_type": "stream",
     "text": [
      "[2023-10-26 13:13:33,465][WARNING]: Skipped checksum for file with hash: 0d00f2b7-63af-7b60-3478-b174aafcbed1, and path: /stelmo/nwb/analysis/Winnie20220714/Winnie20220714_H0SA4HF9KU.nwb\n",
      "WARNING:datajoint:Skipped checksum for file with hash: 0d00f2b7-63af-7b60-3478-b174aafcbed1, and path: /stelmo/nwb/analysis/Winnie20220714/Winnie20220714_H0SA4HF9KU.nwb\n",
      "[2023-10-26 13:13:34,154][WARNING]: Skipped checksum for file with hash: 0d00f2b7-63af-7b60-3478-b174aafcbed1, and path: /stelmo/nwb/analysis/Winnie20220714/Winnie20220714_H0SA4HF9KU.nwb\n",
      "WARNING:datajoint:Skipped checksum for file with hash: 0d00f2b7-63af-7b60-3478-b174aafcbed1, and path: /stelmo/nwb/analysis/Winnie20220714/Winnie20220714_H0SA4HF9KU.nwb\n"
     ]
    },
    {
     "name": "stdout",
     "output_type": "stream",
     "text": [
      "Writing new NWB file Winnie20220714_5LJ6EKD5LS.nwb\n"
     ]
    },
    {
     "name": "stderr",
     "output_type": "stream",
     "text": [
      "[2023-10-26 13:13:38,035][WARNING]: Skipped checksum for file with hash: 6872550f-b55b-b196-9f1d-90379f37b399, and path: /stelmo/nwb/analysis/Winnie20220714/Winnie20220714_C1PHSY3BB4.nwb\n",
      "WARNING:datajoint:Skipped checksum for file with hash: 6872550f-b55b-b196-9f1d-90379f37b399, and path: /stelmo/nwb/analysis/Winnie20220714/Winnie20220714_C1PHSY3BB4.nwb\n",
      "[2023-10-26 13:13:38,729][WARNING]: Skipped checksum for file with hash: 6872550f-b55b-b196-9f1d-90379f37b399, and path: /stelmo/nwb/analysis/Winnie20220714/Winnie20220714_C1PHSY3BB4.nwb\n",
      "WARNING:datajoint:Skipped checksum for file with hash: 6872550f-b55b-b196-9f1d-90379f37b399, and path: /stelmo/nwb/analysis/Winnie20220714/Winnie20220714_C1PHSY3BB4.nwb\n"
     ]
    },
    {
     "name": "stdout",
     "output_type": "stream",
     "text": [
      "Writing new NWB file Winnie20220714_RC5XK68UCJ.nwb\n"
     ]
    },
    {
     "name": "stderr",
     "output_type": "stream",
     "text": [
      "[2023-10-26 13:13:47,663][WARNING]: Skipped checksum for file with hash: 5cf5f302-f2f9-c998-45da-7d84b2ade83f, and path: /stelmo/nwb/analysis/Winnie20220714/Winnie20220714_0JLJY5M9VN.nwb\n",
      "WARNING:datajoint:Skipped checksum for file with hash: 5cf5f302-f2f9-c998-45da-7d84b2ade83f, and path: /stelmo/nwb/analysis/Winnie20220714/Winnie20220714_0JLJY5M9VN.nwb\n",
      "[2023-10-26 13:13:48,812][WARNING]: Skipped checksum for file with hash: 5cf5f302-f2f9-c998-45da-7d84b2ade83f, and path: /stelmo/nwb/analysis/Winnie20220714/Winnie20220714_0JLJY5M9VN.nwb\n",
      "WARNING:datajoint:Skipped checksum for file with hash: 5cf5f302-f2f9-c998-45da-7d84b2ade83f, and path: /stelmo/nwb/analysis/Winnie20220714/Winnie20220714_0JLJY5M9VN.nwb\n"
     ]
    },
    {
     "name": "stdout",
     "output_type": "stream",
     "text": [
      "Writing new NWB file Winnie20220714_RIWACQC89H.nwb\n"
     ]
    },
    {
     "name": "stderr",
     "output_type": "stream",
     "text": [
      "[2023-10-26 13:13:58,109][WARNING]: Skipped checksum for file with hash: 8b0634d2-5849-cc7e-c842-9201ef0632da, and path: /stelmo/nwb/analysis/Winnie20220714/Winnie20220714_2NR4WTB0TU.nwb\n",
      "WARNING:datajoint:Skipped checksum for file with hash: 8b0634d2-5849-cc7e-c842-9201ef0632da, and path: /stelmo/nwb/analysis/Winnie20220714/Winnie20220714_2NR4WTB0TU.nwb\n",
      "[2023-10-26 13:13:58,744][WARNING]: Skipped checksum for file with hash: 8b0634d2-5849-cc7e-c842-9201ef0632da, and path: /stelmo/nwb/analysis/Winnie20220714/Winnie20220714_2NR4WTB0TU.nwb\n",
      "WARNING:datajoint:Skipped checksum for file with hash: 8b0634d2-5849-cc7e-c842-9201ef0632da, and path: /stelmo/nwb/analysis/Winnie20220714/Winnie20220714_2NR4WTB0TU.nwb\n"
     ]
    },
    {
     "name": "stdout",
     "output_type": "stream",
     "text": [
      "Writing new NWB file Winnie20220714_JXWKAOUJSW.nwb\n"
     ]
    },
    {
     "name": "stderr",
     "output_type": "stream",
     "text": [
      "[2023-10-26 13:14:08,362][WARNING]: Skipped checksum for file with hash: 4ccfd355-75fe-18a8-4b14-c52fced75075, and path: /stelmo/nwb/analysis/Winnie20220714/Winnie20220714_GW6DVTK51X.nwb\n",
      "WARNING:datajoint:Skipped checksum for file with hash: 4ccfd355-75fe-18a8-4b14-c52fced75075, and path: /stelmo/nwb/analysis/Winnie20220714/Winnie20220714_GW6DVTK51X.nwb\n",
      "[2023-10-26 13:14:08,995][WARNING]: Skipped checksum for file with hash: 4ccfd355-75fe-18a8-4b14-c52fced75075, and path: /stelmo/nwb/analysis/Winnie20220714/Winnie20220714_GW6DVTK51X.nwb\n",
      "WARNING:datajoint:Skipped checksum for file with hash: 4ccfd355-75fe-18a8-4b14-c52fced75075, and path: /stelmo/nwb/analysis/Winnie20220714/Winnie20220714_GW6DVTK51X.nwb\n"
     ]
    },
    {
     "name": "stdout",
     "output_type": "stream",
     "text": [
      "Writing new NWB file Winnie20220714_E8MDYBDAYK.nwb\n"
     ]
    },
    {
     "name": "stderr",
     "output_type": "stream",
     "text": [
      "[2023-10-26 13:14:18,556][WARNING]: Skipped checksum for file with hash: b1f9a07a-37c4-2970-a497-778c36da560a, and path: /stelmo/nwb/analysis/Winnie20220714/Winnie20220714_K6EHH9ZMYY.nwb\n",
      "WARNING:datajoint:Skipped checksum for file with hash: b1f9a07a-37c4-2970-a497-778c36da560a, and path: /stelmo/nwb/analysis/Winnie20220714/Winnie20220714_K6EHH9ZMYY.nwb\n",
      "[2023-10-26 13:14:19,473][WARNING]: Skipped checksum for file with hash: b1f9a07a-37c4-2970-a497-778c36da560a, and path: /stelmo/nwb/analysis/Winnie20220714/Winnie20220714_K6EHH9ZMYY.nwb\n",
      "WARNING:datajoint:Skipped checksum for file with hash: b1f9a07a-37c4-2970-a497-778c36da560a, and path: /stelmo/nwb/analysis/Winnie20220714/Winnie20220714_K6EHH9ZMYY.nwb\n"
     ]
    },
    {
     "name": "stdout",
     "output_type": "stream",
     "text": [
      "Writing new NWB file Winnie20220714_3ECA1PW5SA.nwb\n"
     ]
    },
    {
     "name": "stderr",
     "output_type": "stream",
     "text": [
      "[2023-10-26 13:14:30,094][WARNING]: Skipped checksum for file with hash: a9766e76-ace9-e6a4-db63-143a5ba2ce3f, and path: /stelmo/nwb/analysis/Winnie20220714/Winnie20220714_12ABV28HAV.nwb\n",
      "WARNING:datajoint:Skipped checksum for file with hash: a9766e76-ace9-e6a4-db63-143a5ba2ce3f, and path: /stelmo/nwb/analysis/Winnie20220714/Winnie20220714_12ABV28HAV.nwb\n",
      "[2023-10-26 13:14:31,119][WARNING]: Skipped checksum for file with hash: a9766e76-ace9-e6a4-db63-143a5ba2ce3f, and path: /stelmo/nwb/analysis/Winnie20220714/Winnie20220714_12ABV28HAV.nwb\n",
      "WARNING:datajoint:Skipped checksum for file with hash: a9766e76-ace9-e6a4-db63-143a5ba2ce3f, and path: /stelmo/nwb/analysis/Winnie20220714/Winnie20220714_12ABV28HAV.nwb\n"
     ]
    },
    {
     "name": "stdout",
     "output_type": "stream",
     "text": [
      "Writing new NWB file Winnie20220714_GF68XT1DQ0.nwb\n"
     ]
    },
    {
     "name": "stderr",
     "output_type": "stream",
     "text": [
      "[2023-10-26 13:14:48,023][WARNING]: Skipped checksum for file with hash: a62d5fcb-4edc-58a4-9c92-d5c517e2ac6c, and path: /stelmo/nwb/analysis/Winnie20220714/Winnie20220714_YN6HXN35Y3.nwb\n",
      "WARNING:datajoint:Skipped checksum for file with hash: a62d5fcb-4edc-58a4-9c92-d5c517e2ac6c, and path: /stelmo/nwb/analysis/Winnie20220714/Winnie20220714_YN6HXN35Y3.nwb\n",
      "[2023-10-26 13:14:49,276][WARNING]: Skipped checksum for file with hash: a62d5fcb-4edc-58a4-9c92-d5c517e2ac6c, and path: /stelmo/nwb/analysis/Winnie20220714/Winnie20220714_YN6HXN35Y3.nwb\n",
      "WARNING:datajoint:Skipped checksum for file with hash: a62d5fcb-4edc-58a4-9c92-d5c517e2ac6c, and path: /stelmo/nwb/analysis/Winnie20220714/Winnie20220714_YN6HXN35Y3.nwb\n"
     ]
    },
    {
     "name": "stdout",
     "output_type": "stream",
     "text": [
      "Writing new NWB file Winnie20220714_VG4L8W3HRE.nwb\n"
     ]
    },
    {
     "name": "stderr",
     "output_type": "stream",
     "text": [
      "[2023-10-26 13:15:29,533][WARNING]: Skipped checksum for file with hash: d4b3e20d-61b4-6786-a0f3-5054422aa702, and path: /stelmo/nwb/analysis/Winnie20220714/Winnie20220714_8S8864K2DZ.nwb\n",
      "WARNING:datajoint:Skipped checksum for file with hash: d4b3e20d-61b4-6786-a0f3-5054422aa702, and path: /stelmo/nwb/analysis/Winnie20220714/Winnie20220714_8S8864K2DZ.nwb\n",
      "[2023-10-26 13:15:30,950][WARNING]: Skipped checksum for file with hash: d4b3e20d-61b4-6786-a0f3-5054422aa702, and path: /stelmo/nwb/analysis/Winnie20220714/Winnie20220714_8S8864K2DZ.nwb\n",
      "WARNING:datajoint:Skipped checksum for file with hash: d4b3e20d-61b4-6786-a0f3-5054422aa702, and path: /stelmo/nwb/analysis/Winnie20220714/Winnie20220714_8S8864K2DZ.nwb\n"
     ]
    },
    {
     "name": "stdout",
     "output_type": "stream",
     "text": [
      "Writing new NWB file Winnie20220714_CO26H9H3PZ.nwb\n"
     ]
    }
   ],
   "source": [
    "# nwb_file_names = [\"Totoro20220602_.nwb\",]\n",
    "# interval_list_name = \"pos 3 valid times\"\n",
    "filter_name = \"Theta 5-11 Hz\"\n",
    "# desired sampling rate\n",
    "lfp_band_sampling_rate = 100\n",
    "missing_lfp = []\n",
    "\n",
    "\n",
    "\n",
    "############################################\n",
    "for nwb_file_name in nwb_file_names:\n",
    "    for interval_list_name in (IntervalList()& {\"nwb_file_name\":nwb_file_name}).fetch('interval_list_name'): #[\"pos 7 valid times\"]:#\n",
    "        if ('pos' == interval_list_name[:3]) and (\"valid times\" == interval_list_name[-11:]):\n",
    "            \n",
    "            basic_key = {\"nwb_file_name\": nwb_file_name,'target_interval_list_name':interval_list_name}\n",
    "            #check that lfp exists for this animal\n",
    "            if len(LFPV1() & basic_key)==0:\n",
    "                missing_lfp.append(basic_key)\n",
    "                continue\n",
    "            if len(LFPV1 & basic_key)>1:\n",
    "                electrode_group_names = (LFPV1() & basic_key).fetch(\"lfp_electrode_group_name\")\n",
    "                electrode_group_name =[x for x in electrode_group_names if nwb_file_name.split('202')[0] in x][0]\n",
    "                basic_key[\"lfp_electrode_group_name\"] = electrode_group_name\n",
    "                \n",
    "            #get lfp's sampling rate\n",
    "            lfp_sampling_rate = (LFPV1() & basic_key ).fetch1(\n",
    "                \"lfp_sampling_rate\"\n",
    "            )\n",
    "            \n",
    "            #get lfp filter sampling_rate\n",
    "            lfp_filter_sampling_rate = (LFPV1() & basic_key).fetch1(\n",
    "                \"filter_sampling_rate\"\n",
    "            )\n",
    "            \n",
    "            #get lfp filter name\n",
    "            lfp_filter_name = (LFPV1() & basic_key).fetch1(\n",
    "                \"filter_name\"\n",
    "            )\n",
    "            \n",
    "            # make lfp selection key\n",
    "            lfp_s_key = basic_key.copy()\n",
    "            lfp_s_key[\"target_interval_list_name\"] = interval_list_name\n",
    "            lfp_s_key[\"filter_name\"] = lfp_filter_name\n",
    "            lfp_s_key[\"filter_sampling_rate\"] = lfp_filter_sampling_rate\n",
    "            \n",
    "            # get the electrodes the lfp was run on\n",
    "            lfp_electrode_group_name = (LFPV1 & lfp_s_key).fetch1('lfp_electrode_group_name')\n",
    "            lfp_eg_key = {\n",
    "                    \"nwb_file_name\": nwb_file_name,\n",
    "                    \"lfp_electrode_group_name\": lfp_electrode_group_name,\n",
    "                    }\n",
    "            electrode_list = list(np.asarray((LFPV1 & basic_key).fetch_nwb()[0]['lfp'].electrodes.to_dataframe().index))\n",
    "            \n",
    "            # remake lfp selection key\n",
    "            lfp_s_key = basic_key.copy()\n",
    "            lfp_s_key[\"target_interval_list_name\"] = interval_list_name\n",
    "            lfp_s_key[\"filter_name\"] = lfp_filter_name\n",
    "            lfp_s_key[\"filter_sampling_rate\"] = lfp_filter_sampling_rate\n",
    "            \n",
    "            # set the reference to -1 to indicate no reference for all channels\n",
    "            ref_elect = [-1]\n",
    "            \n",
    "            # we also need the uuid for the LFP object\n",
    "            lfp_merge_id = (LFPOutput.LFPV1 & lfp_s_key).fetch1('merge_id')\n",
    "            \n",
    "            \n",
    "            # #make Band selection table entry\n",
    "            LFPBandSelection().set_lfp_band_electrodes(\n",
    "                    nwb_file_name=nwb_file_name,\n",
    "                    lfp_merge_id=lfp_merge_id,\n",
    "                    electrode_list=electrode_list,\n",
    "                    filter_name=filter_name,\n",
    "                    interval_list_name=interval_list_name,\n",
    "                    reference_electrode_list=ref_elect,\n",
    "                    lfp_band_sampling_rate=lfp_band_sampling_rate,\n",
    "                )\n",
    "            \n",
    "            lfp_band_key = (\n",
    "                LFPBandSelection\n",
    "                & {\n",
    "                    \"lfp_merge_id\": lfp_merge_id,\n",
    "                    \"filter_name\": filter_name,\n",
    "                    \"lfp_band_sampling_rate\": lfp_band_sampling_rate,\n",
    "                    \"target_interval_list_name\":interval_list_name,\n",
    "                }\n",
    "            ).fetch1(\"KEY\")\n",
    "            if LFPBandV1() & lfp_band_key:\n",
    "                continue #already populated\n",
    "            # lfp_band_key['lfp_electrode_group_name']=\"full_probe\"\n",
    "            LFPBandV1().populate(LFPBandSelection()&lfp_band_key)"
   ]
  },
  {
   "cell_type": "code",
   "execution_count": null,
   "id": "2714ae3d",
   "metadata": {},
   "outputs": [],
   "source": []
  },
  {
   "cell_type": "code",
   "execution_count": 10,
   "id": "4a0ff770",
   "metadata": {},
   "outputs": [
    {
     "name": "stderr",
     "output_type": "stream",
     "text": [
      "[2023-10-20 08:18:10,755][WARNING]: Skipped checksum for file with hash: 1f41ed1f-df73-533d-6c95-5cb459607516, and path: /stelmo/nwb/analysis/Bilbo20230725/Bilbo20230725_JRH9I6411O.nwb\n",
      "WARNING:datajoint:Skipped checksum for file with hash: 1f41ed1f-df73-533d-6c95-5cb459607516, and path: /stelmo/nwb/analysis/Bilbo20230725/Bilbo20230725_JRH9I6411O.nwb\n"
     ]
    },
    {
     "data": {
      "text/plain": [
       "filtered data pynwb.ecephys.ElectricalSeries at 0x140401433184672\n",
       "Fields:\n",
       "  comments: no comments\n",
       "  conversion: 1.0\n",
       "  data: <HDF5 dataset \"data\": shape (2016507, 14), type \"<i2\">\n",
       "  description: filtered data\n",
       "  electrodes: electrodes <class 'hdmf.common.table.DynamicTableRegion'>\n",
       "  interval: 1\n",
       "  offset: 0.0\n",
       "  resolution: -1.0\n",
       "  timestamps: <HDF5 dataset \"timestamps\": shape (2016507,), type \"<f8\">\n",
       "  timestamps_unit: seconds\n",
       "  unit: volts"
      ]
     },
     "execution_count": 10,
     "metadata": {},
     "output_type": "execute_result"
    }
   ],
   "source": [
    "lfp_band_key\n",
    "\n",
    "(LFPV1 & basic_key).fetch_nwb()[0]['lfp']"
   ]
  },
  {
   "cell_type": "markdown",
   "id": "1e3d7cf8-7f26-4f55-832e-506a5aa551d8",
   "metadata": {},
   "source": [
    "## Check missing LFP's"
   ]
  },
  {
   "cell_type": "code",
   "execution_count": 13,
   "id": "b44704f6-b5b9-4416-8fd2-6c538734ad3f",
   "metadata": {},
   "outputs": [
    {
     "data": {
      "text/plain": [
       "'Banner20220225_.nwb'"
      ]
     },
     "execution_count": 13,
     "metadata": {},
     "output_type": "execute_result"
    }
   ],
   "source": [
    "print(missing_lfp)"
   ]
  },
  {
   "cell_type": "code",
   "execution_count": null,
   "id": "c4e31406-9c3b-4449-833a-eaa6e877b25c",
   "metadata": {},
   "outputs": [],
   "source": []
  }
 ],
 "metadata": {
  "kernelspec": {
   "display_name": "spyglass",
   "language": "python",
   "name": "python3"
  },
  "language_info": {
   "codemirror_mode": {
    "name": "ipython",
    "version": 3
   },
   "file_extension": ".py",
   "mimetype": "text/x-python",
   "name": "python",
   "nbconvert_exporter": "python",
   "pygments_lexer": "ipython3",
   "version": "3.9.16"
  }
 },
 "nbformat": 4,
 "nbformat_minor": 5
}
