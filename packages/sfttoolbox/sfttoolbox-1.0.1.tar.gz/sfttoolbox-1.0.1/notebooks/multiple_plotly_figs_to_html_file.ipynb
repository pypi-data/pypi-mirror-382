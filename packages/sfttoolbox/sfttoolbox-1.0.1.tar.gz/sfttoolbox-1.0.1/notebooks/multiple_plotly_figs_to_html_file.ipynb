{
 "cells": [
  {
   "cell_type": "code",
   "execution_count": 20,
   "metadata": {},
   "outputs": [],
   "source": [
    "import pandas as pd\n",
    "import plotly.express as px\n",
    "import plotly.graph_objects as go\n",
    "import plotly.io as pio\n",
    "import base64"
   ]
  },
  {
   "cell_type": "code",
   "execution_count": 9,
   "metadata": {},
   "outputs": [],
   "source": [
    "df = px.data.stocks()"
   ]
  },
  {
   "cell_type": "code",
   "execution_count": 10,
   "metadata": {},
   "outputs": [],
   "source": [
    "fig1 = px.bar(df,\n",
    "                x='date',\n",
    "                y=\"GOOG\",\n",
    "                title='Figure1')"
   ]
  },
  {
   "cell_type": "code",
   "execution_count": 11,
   "metadata": {},
   "outputs": [],
   "source": [
    "fig2 = px.bar(df,\n",
    "                x='date',\n",
    "                y=\"GOOG\",\n",
    "                title='Figure2')"
   ]
  },
  {
   "cell_type": "code",
   "execution_count": 12,
   "metadata": {},
   "outputs": [],
   "source": [
    "fig3 = px.bar(df,\n",
    "                x='date',\n",
    "                y=\"GOOG\",\n",
    "                title='Figure3')"
   ]
  },
  {
   "cell_type": "markdown",
   "metadata": {},
   "source": [
    "## Three Functions\n",
    "- combine_plotly_figs_to_html()\n",
    "- convert_logo()\n",
    "- add_html_header()\n",
    "### Example:\n",
    "```python\n",
    "combine_plotly_figs_to_html([fig1,fig2,fig3],\"combined.html\",heights=[400, 200, 500], separator=\"<hr>\", auto_open=False)\n",
    "logo = convert_logo(\"yhat.png\")\n",
    "add_html_header(\"combined.html\",logo,\"Combined Plotly Figures\")\n",
    "```"
   ]
  },
  {
   "cell_type": "code",
   "execution_count": 14,
   "metadata": {},
   "outputs": [],
   "source": [
    "def combine_plotly_figs_to_html(plotly_figs, html_fname, include_plotlyjs='cdn', \n",
    "                                separator=None, auto_open=False, heights=None):\n",
    "    '''\n",
    "    plotly_figs: A list of Plotly figure objects (go.Figure or px.Figure).\n",
    "                html_fname: The name of the output HTML file.\n",
    "    include_plotlyjs: Controls how Plotly's JavaScript library is included:\n",
    "            'cdn' (default) → Uses Plotly’s online CDN.\n",
    "            'directory' → Saves a local copy of Plotly.js.\n",
    "            'inline' → Embeds Plotly.js directly into the file.\n",
    "    separator: A string (e.g., '<hr>' for a horizontal line) to separate figures in the HTML file.\n",
    "    auto_open: If True, the function opens the generated HTML file in a web browser.\n",
    "    '''\n",
    "    with open(html_fname, 'w') as f:\n",
    "        for i, fig in enumerate(plotly_figs):\n",
    "            if heights and i < len(heights): \n",
    "                fig.update_layout(height=heights[i])\n",
    "\n",
    "            if i == 0:\n",
    "                f.write(fig.to_html(include_plotlyjs=include_plotlyjs))\n",
    "            else:\n",
    "                if separator:\n",
    "                    f.write(separator)\n",
    "                f.write(fig.to_html(full_html=False, include_plotlyjs=False))\n",
    "\n",
    "    if auto_open:\n",
    "        import pathlib, webbrowser\n",
    "        uri = pathlib.Path(html_fname).absolute().as_uri()\n",
    "        webbrowser.open(uri)"
   ]
  },
  {
   "cell_type": "code",
   "execution_count": 15,
   "metadata": {},
   "outputs": [],
   "source": [
    "def convert_logo(file_location: str):\n",
    "    logo_path = file_location\n",
    "\n",
    "    with open(logo_path, \"rb\") as image_file:\n",
    "        base64_logo = base64.b64encode(image_file.read()).decode(\"utf-8\")\n",
    "    logo_data = f\"data:image/png;base64,{base64_logo}\"\n",
    "\n",
    "    return logo_data"
   ]
  },
  {
   "cell_type": "code",
   "execution_count": 18,
   "metadata": {},
   "outputs": [],
   "source": [
    "def add_html_header(html_file: str, logo, title: str):\n",
    "    # Custom HTML Header with Base64-encoded Logo\n",
    "    html_content = f\"\"\"\n",
    "    <html>\n",
    "        <head>\n",
    "            <meta name=\"viewport\" content=\"width=device-width, initial-scale=1\">\n",
    "            <style>\n",
    "                * {{\n",
    "                box-sizing: border-box;\n",
    "                }}\n",
    "\n",
    "                .column {{\n",
    "                float: left;\n",
    "                padding: 10px;\n",
    "                }}\n",
    "\n",
    "                .left, .right {{\n",
    "                width: 25%;\n",
    "                }}\n",
    "\n",
    "                .middle {{\n",
    "                width: 50%;\n",
    "                }}\n",
    "\n",
    "                .row:after {{\n",
    "                content: \"\";\n",
    "                display: table;\n",
    "                clear: both;\n",
    "                }}\n",
    "\n",
    "                body {{\n",
    "                    font-family: Calibri, sans-serif;\n",
    "                }}\n",
    "\n",
    "                .header {{\n",
    "                    background-color: #f8f9fa;\n",
    "                    padding: 10px 20px;\n",
    "                    display: flex;\n",
    "                    align-items: center;\n",
    "                    border-bottom: 1px solid #ddd;\n",
    "                }}\n",
    "\n",
    "                .header img {{\n",
    "                    height: 40px;\n",
    "                    margin-right: 20px;\n",
    "                }}\n",
    "\n",
    "                .header h1 {{\n",
    "                    margin: 0;\n",
    "                    font-size: 24px;\n",
    "                }}\n",
    "\n",
    "                .content {{\n",
    "                    padding: 20px;\n",
    "                }}\n",
    "\n",
    "                .result {{\n",
    "                    margin-bottom: 40px;\n",
    "                }}\n",
    "\n",
    "                .result h2 {{\n",
    "                    font-size: 20px;\n",
    "                    margin-bottom: 10px;\n",
    "                }}\n",
    "\n",
    "                .result img {{\n",
    "                    max-width: 100%;\n",
    "                    height: auto;\n",
    "                    display: block;\n",
    "                    margin-bottom: 10px;\n",
    "                }}\n",
    "\n",
    "                hr {{\n",
    "                    border: none;\n",
    "                    border-top: 1px solid #ddd;\n",
    "                    margin: 20px 0;\n",
    "                }}\n",
    "            </style>\n",
    "        </head>\n",
    "        <body>\n",
    "            <div class=\"header\">\n",
    "                <img src=\"{logo}\" alt=\"Logo\">\n",
    "                <h1>{title}</h1>\n",
    "            </div>\n",
    "            <div class=\"content\">\n",
    "    \"\"\"\n",
    "\n",
    "\n",
    "    # Read the existing Plotly HTML and append it to the custom HTML\n",
    "    with open(html_file, \"r\", errors=\"ignore\") as f:\n",
    "        plotly_html = f.read()\n",
    "\n",
    "    with open(html_file, \"w\") as f:\n",
    "        f.write(html_content + plotly_html )#+ \"</body></html>\")"
   ]
  },
  {
   "cell_type": "code",
   "execution_count": 19,
   "metadata": {},
   "outputs": [],
   "source": [
    "combine_plotly_figs_to_html([fig1,fig2,fig3],\"combined.html\",heights=[400, 300, 500], separator=\"<hr>\", auto_open=False)\n",
    "logo = convert_logo(\"yhat.png\")\n",
    "add_html_header(\"combined.html\",logo,\"Combined Plotly Figures\")"
   ]
  },
  {
   "cell_type": "code",
   "execution_count": null,
   "metadata": {},
   "outputs": [],
   "source": []
  }
 ],
 "metadata": {
  "kernelspec": {
   "display_name": "base",
   "language": "python",
   "name": "python3"
  },
  "language_info": {
   "codemirror_mode": {
    "name": "ipython",
    "version": 3
   },
   "file_extension": ".py",
   "mimetype": "text/x-python",
   "name": "python",
   "nbconvert_exporter": "python",
   "pygments_lexer": "ipython3",
   "version": "3.11.5"
  }
 },
 "nbformat": 4,
 "nbformat_minor": 2
}
