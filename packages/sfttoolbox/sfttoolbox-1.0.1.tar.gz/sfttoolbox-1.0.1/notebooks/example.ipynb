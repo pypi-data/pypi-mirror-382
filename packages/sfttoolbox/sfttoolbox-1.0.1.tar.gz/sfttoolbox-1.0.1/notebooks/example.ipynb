{
 "cells": [
  {
   "cell_type": "code",
   "execution_count": 2,
   "id": "initial_id",
   "metadata": {
    "collapsed": true,
    "ExecuteTime": {
     "end_time": "2024-02-06T20:35:21.784929300Z",
     "start_time": "2024-02-06T20:35:20.804739100Z"
    }
   },
   "outputs": [],
   "source": [
    "# imports in the first box \n",
    "# any version specific any version specific information should be mentioned here\n",
    "\n",
    "import numpy as np\n",
    "from typing import Tuple"
   ]
  },
  {
   "cell_type": "code",
   "execution_count": 3,
   "outputs": [],
   "source": [
    "# Functions have docstrings with type hints\n",
    "def generate_random_numbers(shape: Tuple[int]) -> np.ndarray:\n",
    "    \"\"\"\n",
    "    Generate random numbers from a uniform distribution between 0 and 1.\n",
    "\n",
    "    Parameters:\n",
    "        shape (Tuple[int]): The shape of the output array.\n",
    "\n",
    "    Returns:\n",
    "        np.ndarray: An array of random numbers with the specified shape.\n",
    "    \"\"\"\n",
    "    return np.random.rand(*shape)\n"
   ],
   "metadata": {
    "collapsed": false,
    "ExecuteTime": {
     "end_time": "2024-02-06T20:35:23.284420600Z",
     "start_time": "2024-02-06T20:35:23.249167300Z"
    }
   },
   "id": "acab6bbefa352db7"
  },
  {
   "cell_type": "code",
   "execution_count": 4,
   "outputs": [
    {
     "data": {
      "text/plain": "array([[0.34483299, 0.67548749, 0.83901636, 0.26561202],\n       [0.18685533, 0.86610243, 0.11788609, 0.07949412],\n       [0.1544303 , 0.18662324, 0.25481559, 0.10545143]])"
     },
     "execution_count": 4,
     "metadata": {},
     "output_type": "execute_result"
    }
   ],
   "source": [
    "# The notebook should contain example usage:\n",
    "generate_random_numbers((3, 4))"
   ],
   "metadata": {
    "collapsed": false,
    "ExecuteTime": {
     "end_time": "2024-02-06T20:35:45.110091400Z",
     "start_time": "2024-02-06T20:35:43.937126600Z"
    }
   },
   "id": "3d589f63f6bb4d97"
  },
  {
   "cell_type": "markdown",
   "source": [
    "Add some comments or markdown explaining why this would be a useful tool.\n"
   ],
   "metadata": {
    "collapsed": false
   },
   "id": "e1bbe9aa4edb0f71"
  }
 ],
 "metadata": {
  "kernelspec": {
   "display_name": "Python 3",
   "language": "python",
   "name": "python3"
  },
  "language_info": {
   "codemirror_mode": {
    "name": "ipython",
    "version": 2
   },
   "file_extension": ".py",
   "mimetype": "text/x-python",
   "name": "python",
   "nbconvert_exporter": "python",
   "pygments_lexer": "ipython2",
   "version": "2.7.6"
  }
 },
 "nbformat": 4,
 "nbformat_minor": 5
}
