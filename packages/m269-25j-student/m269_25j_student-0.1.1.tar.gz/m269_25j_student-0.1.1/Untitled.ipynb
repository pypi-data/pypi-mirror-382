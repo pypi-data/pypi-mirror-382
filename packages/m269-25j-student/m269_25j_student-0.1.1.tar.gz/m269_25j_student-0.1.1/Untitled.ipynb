{
 "cells": [
  {
   "cell_type": "code",
   "execution_count": 2,
   "id": "580cafa3-69ee-40ef-82a3-0a5d165f593e",
   "metadata": {
    "CELLTYPE": "FEEDBACK"
   },
   "outputs": [
    {
     "name": "stdout",
     "output_type": "stream",
     "text": [
      "yo\n"
     ]
    }
   ],
   "source": [
    "print('yo')"
   ]
  },
  {
   "cell_type": "code",
   "execution_count": 1,
   "id": "5ee7413c-34f0-4287-a63b-831d4d6fb8bb",
   "metadata": {
    "CELLTYPE": "ANSWER",
    "editable": true,
    "slideshow": {
     "slide_type": ""
    },
    "tags": []
   },
   "outputs": [
    {
     "name": "stdout",
     "output_type": "stream",
     "text": [
      "hi\n"
     ]
    }
   ],
   "source": [
    "print('hi')"
   ]
  },
  {
   "cell_type": "code",
   "execution_count": 1,
   "id": "8c2112e0-64e5-448f-a1cf-df19bc4a00a3",
   "metadata": {
    "CELLTYPE": "SOLUTION"
   },
   "outputs": [
    {
     "name": "stdout",
     "output_type": "stream",
     "text": [
      "potatoes\n"
     ]
    }
   ],
   "source": [
    "print('potatoes')"
   ]
  },
  {
   "cell_type": "code",
   "execution_count": 3,
   "id": "cd6e36ba-adfa-43eb-92c9-7a64b5ac98d0",
   "metadata": {},
   "outputs": [
    {
     "name": "stdout",
     "output_type": "stream",
     "text": [
      "nada\n"
     ]
    }
   ],
   "source": [
    "print('nada')"
   ]
  }
 ],
 "metadata": {
  "kernelspec": {
   "display_name": "Python 3 (ipykernel)",
   "language": "python",
   "name": "python3"
  },
  "language_info": {
   "codemirror_mode": {
    "name": "ipython",
    "version": 3
   },
   "file_extension": ".py",
   "mimetype": "text/x-python",
   "name": "python",
   "nbconvert_exporter": "python",
   "pygments_lexer": "ipython3",
   "version": "3.11.9"
  }
 },
 "nbformat": 4,
 "nbformat_minor": 5
}
