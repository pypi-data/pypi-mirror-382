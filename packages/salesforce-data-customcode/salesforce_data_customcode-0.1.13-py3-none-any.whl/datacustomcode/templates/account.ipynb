{
 "cells": [
  {
   "cell_type": "code",
   "execution_count": null,
   "id": "0",
   "metadata": {},
   "outputs": [],
   "source": [
    "from datacustomcode.client import Client\n",
    "from datacustomcode.io.writer.base import WriteMode\n",
    "from pyspark.sql.functions import col, upper"
   ]
  },
  {
   "cell_type": "code",
   "execution_count": null,
   "id": "1",
   "metadata": {},
   "outputs": [],
   "source": [
    "client = Client()\n",
    "\n",
    "df = client.read_dlo(\"Account_Home__dll\")"
   ]
  },
  {
   "cell_type": "code",
   "execution_count": null,
   "id": "2",
   "metadata": {},
   "outputs": [],
   "source": [
    "# Perform transformations on the DataFrame\n",
    "df_upper1 = df.withColumn(\"Description__c\", upper(col(\"Description__c\")))\n",
    "\n",
    "# Drop specific columns related to relationships\n",
    "df_upper1 = df_upper1.drop(\"KQ_ParentId__c\")\n",
    "df_upper1 = df_upper1.drop(\"KQ_Id__c\")\n",
    "\n",
    "df_upper1.show()"
   ]
  },
  {
   "cell_type": "code",
   "execution_count": null,
   "id": "3",
   "metadata": {},
   "outputs": [],
   "source": [
    "# Save the transformed DataFrame\n",
    "dlo_name = \"Account_Home_copy__dll\"\n",
    "client.write_to_dlo(dlo_name, df_upper1, write_mode=WriteMode.APPEND)"
   ]
  },
  {
   "cell_type": "code",
   "execution_count": null,
   "id": "4",
   "metadata": {},
   "outputs": [],
   "source": []
  }
 ],
 "metadata": {
  "kernelspec": {
   "display_name": "Python 3 (ipykernel)",
   "language": "python",
   "name": "python3"
  },
  "language_info": {
   "codemirror_mode": {
    "name": "ipython",
    "version": 3
   },
   "file_extension": ".py",
   "mimetype": "text/x-python",
   "name": "python",
   "nbconvert_exporter": "python",
   "pygments_lexer": "ipython3",
   "version": "3.11.11"
  }
 },
 "nbformat": 4,
 "nbformat_minor": 5
}
