{
 "cells": [
  {
   "cell_type": "markdown",
   "id": "9629f8e8-86e7-4a6d-85a6-a6b34d548545",
   "metadata": {},
   "source": [
    "# Initialize: remove border cells + tracking all movies in a folder\n",
    "\n",
    "Notebook to automatically do initial steps of EpiCure:\n",
    "* **removing the border cells** (optionnaly, cells that are partly outside of the image)\n",
    "* **performs the tracking** (with the default parameters)\n",
    "* **save** the results\n",
    "\n",
    "These 3 steps will be done on all the movies in a given folder (in all sub-folders), provided that there is an associated segmentation file with the same name as the input image + given extension string (for example `_imagename_epyseg.tif`).\n",
    "\n",
    "*This notebook is part of EpiCure release, see https://gitlab.pasteur.fr/gletort/epicure for more informations*"
   ]
  },
  {
   "cell_type": "code",
   "execution_count": 1,
   "id": "47dd0f63-87ef-4dce-8034-413b45e77992",
   "metadata": {},
   "outputs": [],
   "source": [
    "#### Parent directory to process. It will go through all the sub-folders\n",
    "main_path = \"../data/small/\"\n",
    "#### Name of the associated segmentation file for each image. It must have the same name as the image, with the additional segmentation_extension\n",
    "segmentation_extension = \"_epyseg\"\n",
    "#### Option clear border of EpiCure: ON (True) or OFF (False)\n",
    "remove_border_cells = True"
   ]
  },
  {
   "cell_type": "code",
   "execution_count": null,
   "id": "48bf6960-5798-45e9-8271-de1ece6897a4",
   "metadata": {},
   "outputs": [],
   "source": [
    "import epicure.epicuring as epicure\n",
    "import os\n",
    "\n",
    "def doOneMovie( imgname ):\n",
    "    \"\"\" Process one movie: clear (or not) the border cells and performs tracking \"\"\"\n",
    "    print( \"EpiCuring movie \"+imgname+\".tif\" )\n",
    "    epic = epicure.EpiCure()\n",
    "    epic.verbose = 0         ## Choose the level of printing infos during process (0: minimal to 3: debug informations)\n",
    "    epic.load_movie( imgname+\".tif\" )\n",
    "    epic.go_epicure( \"epics\", imgname+segmentation_extension+\".tif\" )  ## start EpiCure, load the segmentation, prepare everything\n",
    "    if remove_border_cells:\n",
    "        epic.editing.border_size.setText(\"1\") ## Choose the border size parameter to remove the cells that are within the given distance of the image border\n",
    "        epic.editing.remove_border()  ## EpiCure option to remove all cells that are touching the image border\n",
    "    epic.tracking.do_tracking()       ## Performs tracking with the default parameters. If you have saved preferences, it will use it.\n",
    "    epic.save_epicures()              ## save the results in the ouput \"epics\" folder(s)\n",
    "    \n",
    "    \n",
    "### Main loop, go through all subdirectories and process movies for which the associated segmentation file correspond to the segmentation_extension name\n",
    "for root, dirs, files in os.walk( main_path ):\n",
    "    for file in files:\n",
    "        if file.endswith( segmentation_extension+\".tif\" ):\n",
    "            imgname = file[:len(file)-4-len(segmentation_extension)]\n",
    "            imgname = os.path.join( root, imgname ) \n",
    "            doOneMovie( imgname )"
   ]
  },
  {
   "cell_type": "code",
   "execution_count": null,
   "id": "9e374937-76fe-4f14-94dc-92562bedf397",
   "metadata": {},
   "outputs": [],
   "source": []
  }
 ],
 "metadata": {
  "kernelspec": {
   "display_name": "epic",
   "language": "python",
   "name": "epic"
  },
  "language_info": {
   "codemirror_mode": {
    "name": "ipython",
    "version": 3
   },
   "file_extension": ".py",
   "mimetype": "text/x-python",
   "name": "python",
   "nbconvert_exporter": "python",
   "pygments_lexer": "ipython3",
   "version": "3.10.12"
  }
 },
 "nbformat": 4,
 "nbformat_minor": 5
}
