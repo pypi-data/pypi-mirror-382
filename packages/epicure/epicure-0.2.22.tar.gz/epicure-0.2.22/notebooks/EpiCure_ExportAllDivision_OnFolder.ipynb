{
 "cells": [
  {
   "cell_type": "markdown",
   "id": "9629f8e8-86e7-4a6d-85a6-a6b34d548545",
   "metadata": {},
   "source": [
    "# Export division/other events for all movies in a folder\n",
    "\n",
    "Notebook to automatically do an export step of EpiCure:\n",
    "* **export all division events** (optionnaly, can export other events)\n",
    "\n",
    "This step correspond to the selection of `Export events` in the `Output` panel of EpiCure. \n",
    "It will be done on all the movies in a given folder (in all sub-folders), provided that there is saved EpiCure files in the ouput `epics` folder(s).\n",
    "All division (for all cells) will be exported as Fiji ROI. \n",
    "\n",
    "You can modify this notebook to change it to export only the division corresponding to a EpiCure Group or export other events.\n",
    "\n",
    "*This notebook is part of EpiCure release, see https://gitlab.pasteur.fr/gletort/epicure for more informations*"
   ]
  },
  {
   "cell_type": "code",
   "execution_count": 1,
   "id": "47dd0f63-87ef-4dce-8034-413b45e77992",
   "metadata": {},
   "outputs": [],
   "source": [
    "#### Parent directory to process. It will go through all the sub-folders\n",
    "main_path = \"../data/small/\""
   ]
  },
  {
   "cell_type": "code",
   "execution_count": null,
   "id": "48bf6960-5798-45e9-8271-de1ece6897a4",
   "metadata": {},
   "outputs": [],
   "source": [
    "import epicure.epicuring as epicure\n",
    "import os\n",
    "\n",
    "def doOneMovie( imgname ):\n",
    "    \"\"\" Process one movie: clear (or not) the border cells and performs tracking \"\"\"\n",
    "    print( \"EpiCuring movie \"+imgname+\".tif\" )\n",
    "    epic = epicure.EpiCure()\n",
    "    epic.verbose = 0         ## Choose the level of printing infos during process (0: minimal to 3: debug informations)\n",
    "    epic.load_movie( imgname+\".tif\" )\n",
    "    epic.go_epicure()  ## start EpiCure, load the segmentation, prepare everything\n",
    "    \n",
    "    ## choose export division parameters\n",
    "    epic.outputing.output_mode.setCurrentText( \"All cells\" )  ## save division concerning all cells (change it to the group name to save only the one linked to a given group)\n",
    "    epic.outputing.events_select( \"division\", True )   ## output division\n",
    "    epic.outputing.events_select( \"suspect\", False )   ## dont output suspects\n",
    "    \n",
    "    ## do the export\n",
    "    epic.outputing.export_events()\n",
    "    \n",
    "### Main loop, go through all subdirectories and process movies for which the associated segmentation file correspond to the segmentation_extension name\n",
    "for root, dirs, files in os.walk( main_path ):\n",
    "    for file in files:\n",
    "        if (os.path.basename( root ) == \"epics\") and file.endswith( \"labels.tif\" ):\n",
    "            imgname = file[:len(file)-len(\"_labels.tif\")]\n",
    "            cdir = os.path.dirname( root )\n",
    "            imgname = os.path.join( cdir, imgname )\n",
    "            doOneMovie( imgname )"
   ]
  },
  {
   "cell_type": "code",
   "execution_count": null,
   "id": "9e374937-76fe-4f14-94dc-92562bedf397",
   "metadata": {},
   "outputs": [],
   "source": []
  }
 ],
 "metadata": {
  "kernelspec": {
   "display_name": "epic",
   "language": "python",
   "name": "epic"
  },
  "language_info": {
   "codemirror_mode": {
    "name": "ipython",
    "version": 3
   },
   "file_extension": ".py",
   "mimetype": "text/x-python",
   "name": "python",
   "nbconvert_exporter": "python",
   "pygments_lexer": "ipython3",
   "version": "3.10.12"
  }
 },
 "nbformat": 4,
 "nbformat_minor": 5
}
