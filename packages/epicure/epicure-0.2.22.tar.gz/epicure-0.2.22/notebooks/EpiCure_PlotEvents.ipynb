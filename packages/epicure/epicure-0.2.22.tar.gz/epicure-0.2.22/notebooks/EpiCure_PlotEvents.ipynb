{
 "cells": [
  {
   "cell_type": "markdown",
   "id": "390c70e5-04f0-4d53-818b-a97b37ec2165",
   "metadata": {},
   "source": [
    "# Plot number of events (division, extrusion) in time\n",
    "\n",
    "Open an EpiCured movie, track it and inspect it for events if not done yet, and directly opens up the temporal plot of the number of events\n",
    "\n",
    "Except for the parameters that are set-up in this notebook, it will uses the parameters saved in the preferences, loaded by default when you open the interface.\n",
    "\n",
    "*This notebook is part of EpiCure release, see https://gitlab.pasteur.fr/gletort/epicure for more informations*"
   ]
  },
  {
   "cell_type": "code",
   "execution_count": null,
   "id": "d942aae3-8441-4cde-b7b7-621b48b4ee64",
   "metadata": {},
   "outputs": [],
   "source": [
    "import epicure.epicuring as epicure\n",
    "import os\n",
    "import numpy as np\n",
    "import napari"
   ]
  },
  {
   "cell_type": "code",
   "execution_count": null,
   "id": "c0b46ed0-a094-41c7-97a0-2b7b157b83a0",
   "metadata": {},
   "outputs": [],
   "source": [
    "## path to input data, and names of the movie and EpiCured segmentation\n",
    "data_dir = os.path.join(\"..\", \"data\", \"small\")\n",
    "data_img = \"013_crop.tif\"\n",
    "data_seg = \"013_crop_labels.tif\"\n",
    "\n",
    "infile = os.path.join(data_dir, data_img)\n",
    "segfile = os.path.join(data_dir, \"epics\", data_seg)"
   ]
  },
  {
   "cell_type": "code",
   "execution_count": null,
   "id": "9656fb1e-ee44-4d30-9f00-b9fd7bd0d449",
   "metadata": {},
   "outputs": [],
   "source": [
    "## Load the EpiCure files and movies\n",
    "epic = epicure.EpiCure()\n",
    "napari_viewer = napari.Viewer(show=False)\n",
    "epic.viewer = napari_viewer\n",
    "epic.load_movie(infile)\n",
    "epic.verbose = 0  ## minimal printing of information messages\n",
    "epic.go_epicure(\"epics\", segfile)"
   ]
  },
  {
   "cell_type": "markdown",
   "id": "4c15f3dc-a0d4-4862-aa32-6978f4437f61",
   "metadata": {},
   "source": [
    "### Do tracking if it not had been done yet"
   ]
  },
  {
   "cell_type": "code",
   "execution_count": null,
   "id": "c58a131b-aaf1-48ee-aae7-1061efc6fc15",
   "metadata": {},
   "outputs": [],
   "source": [
    "if epic.tracked == 0:\n",
    "    epic.tracking.do_tracking()       ## Performs tracking with the default parameters. If you have saved preferences, it will use it.\n",
    "    epic.save_epicures()              ## save the results in the ouput \"epics\" folder(s)"
   ]
  },
  {
   "cell_type": "markdown",
   "id": "1de8c8d6-fb14-4837-b8d5-da8c2346a4d9",
   "metadata": {},
   "source": [
    "### Search for extrusions with `Inspect track` option.\n",
    "\n",
    "It uses all the default parameters except the ones redefined here. So if other inspect options were selected in the preferences, they will also be runned (eg if `flag track apparition` is selected by default, it will be runned here."
   ]
  },
  {
   "cell_type": "code",
   "execution_count": null,
   "id": "8996a394-d325-4e38-b773-b60b0a18b556",
   "metadata": {},
   "outputs": [],
   "source": [
    "get_extrusions = True  ## Whether to inspect tracks now to search for extruions. Put to False if it has already been done\n",
    "\n",
    "if get_extrusions:\n",
    "    epic.inspecting.get_extrusions.setChecked( True )   ## Be sure to search for extrusions\n",
    "    epic.inspecting.threshold_disparition.setText( \"300\" ) ## set the threshold of cell area so that a cell disparition is considered extrusion vs potential error\n",
    "    epic.inspecting.inspect_tracks( subprogress=False)  ## go, look for extrusions (and other suspects if selected in the saved preferences)"
   ]
  },
  {
   "cell_type": "markdown",
   "id": "af698dfb-5df7-48b8-981e-c019e2a612a4",
   "metadata": {
    "tags": []
   },
   "source": [
    "### Opens up the temporal plot\n",
    "\n",
    "Select the events to measure (division and extrusion) by default, and opens up the temporal plot window"
   ]
  },
  {
   "cell_type": "code",
   "execution_count": null,
   "id": "d62f0202-e60e-44ff-9364-7298e438eb10",
   "metadata": {},
   "outputs": [],
   "source": [
    "## Choose measure events parameters\n",
    "epic.outputing.output_mode.setCurrentText( \"All cells\" )  ## save division concerning all cells (change it to the group name to save only the one linked to a given group)\n",
    "epic.outputing.events_select( \"division\", True )   ## output division\n",
    "epic.outputing.events_select( \"extrusion\", True )   ## output extrusion\n",
    "epic.outputing.events_select( \"suspect\", False )   ## dont output suspects\n",
    "    \n",
    "## Do the temporal plot and shows it\n",
    "epic.outputing.temporal_graphs_events()"
   ]
  }
 ],
 "metadata": {
  "kernelspec": {
   "display_name": "epic",
   "language": "python",
   "name": "epic"
  },
  "language_info": {
   "codemirror_mode": {
    "name": "ipython",
    "version": 3
   },
   "file_extension": ".py",
   "mimetype": "text/x-python",
   "name": "python",
   "nbconvert_exporter": "python",
   "pygments_lexer": "ipython3",
   "version": "3.10.12"
  }
 },
 "nbformat": 4,
 "nbformat_minor": 5
}
