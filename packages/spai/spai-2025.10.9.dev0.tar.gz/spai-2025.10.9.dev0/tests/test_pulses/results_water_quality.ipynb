{
  "cells": [
    {
      "cell_type": "code",
      "execution_count": 1419,
      "metadata": {},
      "outputs": [
        {
          "name": "stdout",
          "output_type": "stream",
          "text": [
            "The autoreload extension is already loaded. To reload it, use:\n",
            "  %reload_ext autoreload\n"
          ]
        }
      ],
      "source": [
        "%load_ext autoreload\n",
        "%autoreload 2"
      ]
    },
    {
      "cell_type": "code",
      "execution_count": 1420,
      "metadata": {},
      "outputs": [],
      "source": [
        "import numpy as np\n",
        "import matplotlib.pyplot as plt\n",
        "import rasterio\n",
        "from rasterio.transform import from_origin\n",
        "import os\n",
        "import geojson\n",
        "import pandas as pd\n",
        "import shutil"
      ]
    },
    {
      "cell_type": "code",
      "execution_count": 1421,
      "metadata": {},
      "outputs": [
        {
          "data": {
            "text/plain": [
              "True"
            ]
          },
          "execution_count": 1421,
          "metadata": {},
          "output_type": "execute_result"
        }
      ],
      "source": [
        "from dotenv import load_dotenv\n",
        "\n",
        "load_dotenv()"
      ]
    },
    {
      "cell_type": "markdown",
      "metadata": {},
      "source": [
        "# GENERATE RANDOM IMAGE 1"
      ]
    },
    {
      "cell_type": "code",
      "execution_count": 1422,
      "metadata": {},
      "outputs": [],
      "source": [
        "# Set a specific random seed for reproducibility\n",
        "np.random.seed(42)\n",
        "\n",
        "# Image dimensions\n",
        "width = 4\n",
        "height = 4\n",
        "num_bands = 8\n",
        "\n",
        "# Georeferencing information (coordinates for Verges)\n",
        "left = 3.0466    # Left coordinate\n",
        "top = 42.0533   # Top coordinate\n",
        "pixel_size = 0.0001  # Pixel size\n",
        "\n",
        "# Output file path\n",
        "# Get the current directory of the script\n",
        "current_directory = os.getcwd()\n",
        "if not os.path.exists(os.path.join(current_directory, \"data\")):\n",
        "    os.mkdir(os.path.join(current_directory, \"data\"))   \n",
        "# Combine the current directory with the relative path to the \"data\" directory\n",
        "data_directory = os.path.join(current_directory, \"data\")\n",
        "simulated_image_name = \"S2L2A_2019-06-02.tif\"\n",
        "output_filename = os.path.join(data_directory, simulated_image_name)\n",
        "\n",
        "# Generate random data for the image\n",
        "random_data = np.random.randint(0, 255, size=(num_bands, height, width), dtype=np.int16)\n",
        "\n",
        "transform = from_origin(left, top, pixel_size, pixel_size)\n",
        "\n",
        "with rasterio.open(output_filename, 'w', driver='GTiff', height=height, width=width, count=num_bands,\n",
        "                   dtype=random_data.dtype, crs='+proj=latlong', transform=transform) as dst:\n",
        "    for i in range(num_bands):\n",
        "        dst.write(random_data[i], i + 1)\n",
        "\n",
        "# Create a mask of type .geojson to mask simulated image\n",
        "def aoi_mask():\n",
        "    return {\n",
        "        \"type\": \"FeatureCollection\",\n",
        "        \"features\": [\n",
        "            {\n",
        "                \"type\": \"Feature\",\n",
        "                \"properties\": {},\n",
        "                \"geometry\": {\n",
        "                    \"type\": \"Polygon\",\n",
        "                    \"coordinates\": [\n",
        "                        [\n",
        "                            [3.0439, 42.076056],\n",
        "                            [3.017464, 42.052607],\n",
        "                            [3.0439, 42.032209],\n",
        "                            [3.079262, 42.055156],\n",
        "                            [3.0439, 42.076056],\n",
        "                        ]\n",
        "                    ],\n",
        "                },\n",
        "            }\n",
        "        ],\n",
        "    }\n",
        "\n",
        "aoi_mask = aoi_mask()"
      ]
    },
    {
      "cell_type": "code",
      "execution_count": 1423,
      "metadata": {},
      "outputs": [
        {
          "data": {
            "image/png": "[encoded data removed]",
            "text/plain": [
              "<Figure size 400x400 with 1 Axes>"
            ]
          },
          "metadata": {},
          "output_type": "display_data"
        }
      ],
      "source": [
        "# Display the image\n",
        "plt.figure(figsize=(4, 4))\n",
        "plt.imshow(random_data[0:3, :, :].transpose(1, 2, 0))\n",
        "plt.axis('off')\n",
        "plt.show()"
      ]
    },
    {
      "cell_type": "markdown",
      "metadata": {},
      "source": [
        "# GENERATE RANDOM IMAGE 2"
      ]
    },
    {
      "cell_type": "code",
      "execution_count": 1424,
      "metadata": {},
      "outputs": [],
      "source": [
        "# Set a specific random seed for reproducibility\n",
        "np.random.seed(42)\n",
        "\n",
        "# Output file path\n",
        "# Get the current directory of the script\n",
        "current_directory = os.getcwd()\n",
        "# Combine the current directory with the relative path to the \"data\" directory\n",
        "data_directory = os.path.join(current_directory, \"data\")\n",
        "simulated_image_name_2 = \"S2L2A_2019-05-23.tif\"\n",
        "output_filename = os.path.join(data_directory, simulated_image_name_2)\n",
        "\n",
        "# Generate random data for the image\n",
        "random_data_2 = np.random.randint(0, 255, size=(num_bands, height, width), dtype=np.int16)\n",
        "\n",
        "transform = from_origin(left, top, pixel_size, pixel_size)\n",
        "\n",
        "with rasterio.open(output_filename, 'w', driver='GTiff', height=height, width=width, count=num_bands,\n",
        "                   dtype=random_data_2.dtype, crs='+proj=latlong', transform=transform) as dst:\n",
        "    for i in range(num_bands):\n",
        "        dst.write(random_data_2[i], i + 1)"
      ]
    },
    {
      "cell_type": "code",
      "execution_count": 1425,
      "metadata": {},
      "outputs": [
        {
          "data": {
            "image/png": "[encoded data removed]",
            "text/plain": [
              "<Figure size 400x400 with 1 Axes>"
            ]
          },
          "metadata": {},
          "output_type": "display_data"
        }
      ],
      "source": [
        "# Display the image\n",
        "plt.figure(figsize=(4, 4))\n",
        "plt.imshow(random_data_2[0:3, :, :].transpose(1, 2, 0))\n",
        "plt.axis('off')\n",
        "plt.show()"
      ]
    },
    {
      "cell_type": "markdown",
      "metadata": {},
      "source": [
        "# GENERATE RANDOM IMAGE 2"
      ]
    },
    {
      "cell_type": "code",
      "execution_count": 1426,
      "metadata": {},
      "outputs": [
        {
          "data": {
            "text/plain": [
              "'2019-06-02'"
            ]
          },
          "execution_count": 1426,
          "metadata": {},
          "output_type": "execute_result"
        }
      ],
      "source": [
        "import matplotlib.pyplot as plt\n",
        "import sys\n",
        "sys.path.append('/Users/judith/Desktop/spai_new/spai')\n",
        "from spai.storage.Storage import Storage\n",
        "\n",
        "storage = Storage('data')\n",
        "image = storage.read(simulated_image_name)\n",
        "date=simulated_image_name.split('.')[0].split('_')[-1]\n",
        "date"
      ]
    },
    {
      "cell_type": "code",
      "execution_count": 1427,
      "metadata": {},
      "outputs": [],
      "source": [
        "from spai.analytics import water_quality\n",
        "\n",
        "water_quality(simulated_image_name, aoi_mask, storage)"
      ]
    },
    {
      "cell_type": "markdown",
      "metadata": {},
      "source": [
        "# NDWI"
      ]
    },
    {
      "cell_type": "code",
      "execution_count": 1428,
      "metadata": {},
      "outputs": [
        {
          "data": {
            "image/png": "[encoded data removed]",
            "text/plain": [
              "<Figure size 400x400 with 1 Axes>"
            ]
          },
          "metadata": {},
          "output_type": "display_data"
        }
      ],
      "source": [
        "ndwi = storage.read(f'ndwi_{date}.tif')\n",
        "plt.figure(figsize=(4, 4))  \n",
        "plt.imshow(ndwi.read(1))\n",
        "plt.axis('off')\n",
        "plt.show()"
      ]
    },
    {
      "cell_type": "code",
      "execution_count": 1429,
      "metadata": {},
      "outputs": [
        {
          "data": {
            "text/plain": [
              "(1, 4, 4)"
            ]
          },
          "execution_count": 1429,
          "metadata": {},
          "output_type": "execute_result"
        }
      ],
      "source": [
        "ndwi.read().shape"
      ]
    },
    {
      "cell_type": "code",
      "execution_count": 1430,
      "metadata": {},
      "outputs": [
        {
          "data": {
            "text/plain": [
              "array([[[-0.25842697, -0.0464135 , -0.09649123,  0.05797101],\n",
              "        [-0.20316623, -0.54054054,  0.55688623,  0.52380952],\n",
              "        [ 0.04561404, -0.32019704,  0.13043478,  0.6969697 ],\n",
              "        [-0.98809524,  0.02702703,  0.02352941,  0.12169312]]])"
            ]
          },
          "execution_count": 1430,
          "metadata": {},
          "output_type": "execute_result"
        }
      ],
      "source": [
        "ndwi.read()"
      ]
    },
    {
      "cell_type": "code",
      "execution_count": 1431,
      "metadata": {},
      "outputs": [
        {
          "data": {
            "text/plain": [
              "(0.6969696969168961, -0.9880952380364229)"
            ]
          },
          "execution_count": 1431,
          "metadata": {},
          "output_type": "execute_result"
        }
      ],
      "source": [
        "ndwi.read().max(), ndwi.read().min()"
      ]
    },
    {
      "cell_type": "markdown",
      "metadata": {},
      "source": [
        "# NDTI"
      ]
    },
    {
      "cell_type": "code",
      "execution_count": 1432,
      "metadata": {},
      "outputs": [
        {
          "data": {
            "image/png": "[encoded data removed]",
            "text/plain": [
              "<Figure size 400x400 with 1 Axes>"
            ]
          },
          "metadata": {},
          "output_type": "display_data"
        }
      ],
      "source": [
        "ndti = storage.read(f'ndti_{date}.tif')\n",
        "plt.figure(figsize=(4, 4))  \n",
        "plt.imshow(ndti.read(1))\n",
        "plt.axis('off')\n",
        "plt.show()"
      ]
    },
    {
      "cell_type": "code",
      "execution_count": 1433,
      "metadata": {},
      "outputs": [
        {
          "data": {
            "text/plain": [
              "(1, 4, 4)"
            ]
          },
          "execution_count": 1433,
          "metadata": {},
          "output_type": "execute_result"
        }
      ],
      "source": [
        "ndti.read().shape"
      ]
    },
    {
      "cell_type": "code",
      "execution_count": 1434,
      "metadata": {},
      "outputs": [
        {
          "data": {
            "text/plain": [
              "array([[[ 0.40718563, -0.79365079,  0.20769231, -0.36448598],\n",
              "        [-0.60638298,  0.14465409, -0.003861  , -0.51658768],\n",
              "        [ 0.12352941,  0.33971292,  0.56485356, -0.98230088],\n",
              "        [ 0.9047619 ,  0.52351097,  0.29554656, -0.83549784]]])"
            ]
          },
          "execution_count": 1434,
          "metadata": {},
          "output_type": "execute_result"
        }
      ],
      "source": [
        "ndti.read()"
      ]
    },
    {
      "cell_type": "code",
      "execution_count": 1435,
      "metadata": {},
      "outputs": [
        {
          "data": {
            "text/plain": [
              "(0.9047619043310657, -0.9823008848688229)"
            ]
          },
          "execution_count": 1435,
          "metadata": {},
          "output_type": "execute_result"
        }
      ],
      "source": [
        "ndti.read().max(), ndti.read().min()"
      ]
    },
    {
      "cell_type": "markdown",
      "metadata": {},
      "source": [
        "# NDCI"
      ]
    },
    {
      "cell_type": "code",
      "execution_count": 1436,
      "metadata": {},
      "outputs": [
        {
          "data": {
            "image/png": "[encoded data removed]",
            "text/plain": [
              "<Figure size 400x400 with 1 Axes>"
            ]
          },
          "metadata": {},
          "output_type": "display_data"
        }
      ],
      "source": [
        "ndci = storage.read(f'ndci_{date}.tif')\n",
        "plt.figure(figsize=(4, 4))  \n",
        "plt.imshow(ndci.read(1))\n",
        "plt.axis('off')\n",
        "plt.show()"
      ]
    },
    {
      "cell_type": "code",
      "execution_count": 1437,
      "metadata": {},
      "outputs": [
        {
          "data": {
            "text/plain": [
              "(4, 4)"
            ]
          },
          "execution_count": 1437,
          "metadata": {},
          "output_type": "execute_result"
        }
      ],
      "source": [
        "ndci.read(1).shape"
      ]
    },
    {
      "cell_type": "code",
      "execution_count": 1438,
      "metadata": {},
      "outputs": [
        {
          "data": {
            "text/plain": [
              "array([[0.29302481, 0.92488496, 0.0625    , 0.6875    ],\n",
              "       [0.1875    , 0.34704986, 0.625     , 0.78926622],\n",
              "       [0.4773443 , 0.42444013, 0.125     , 1.        ],\n",
              "       [0.73601327, 0.24329087, 0.5625    , 0.875     ]])"
            ]
          },
          "execution_count": 1438,
          "metadata": {},
          "output_type": "execute_result"
        }
      ],
      "source": [
        "ndci.read(1)"
      ]
    },
    {
      "cell_type": "code",
      "execution_count": 1439,
      "metadata": {},
      "outputs": [
        {
          "data": {
            "text/plain": [
              "(1.0, 0.0625)"
            ]
          },
          "execution_count": 1439,
          "metadata": {},
          "output_type": "execute_result"
        }
      ],
      "source": [
        "ndci.read(1).max(), ndci.read(1).min()"
      ]
    },
    {
      "cell_type": "markdown",
      "metadata": {},
      "source": [
        "# NDTI CATEGORIZED"
      ]
    },
    {
      "cell_type": "code",
      "execution_count": 1440,
      "metadata": {},
      "outputs": [
        {
          "data": {
            "text/plain": [
              "(1, 4, 4)"
            ]
          },
          "execution_count": 1440,
          "metadata": {},
          "output_type": "execute_result"
        }
      ],
      "source": [
        "ndti_categorized = storage.read(f'ndti_categorized_{date}.tif')\n",
        "ndti_categorized.read().shape"
      ]
    },
    {
      "cell_type": "code",
      "execution_count": 1441,
      "metadata": {},
      "outputs": [
        {
          "data": {
            "text/plain": [
              "array([[[4, 4, 4, 1],\n",
              "        [4, 4, 2, 1],\n",
              "        [4, 2, 3, 1],\n",
              "        [4, 3, 2, 1]]])"
            ]
          },
          "execution_count": 1441,
          "metadata": {},
          "output_type": "execute_result"
        }
      ],
      "source": [
        "ndti_categorized.read()"
      ]
    },
    {
      "cell_type": "code",
      "execution_count": 1442,
      "metadata": {},
      "outputs": [
        {
          "data": {
            "text/plain": [
              "array([1, 2, 3, 4])"
            ]
          },
          "execution_count": 1442,
          "metadata": {},
          "output_type": "execute_result"
        }
      ],
      "source": [
        "np.unique(ndti_categorized.read())"
      ]
    },
    {
      "cell_type": "code",
      "execution_count": 1443,
      "metadata": {},
      "outputs": [
        {
          "data": {
            "text/plain": [
              "2"
            ]
          },
          "execution_count": 1443,
          "metadata": {},
          "output_type": "execute_result"
        }
      ],
      "source": [
        "np.count_nonzero(ndti_categorized.read()==3)"
      ]
    },
    {
      "cell_type": "markdown",
      "metadata": {},
      "source": [
        "# NDCI CATEGORIZED"
      ]
    },
    {
      "cell_type": "code",
      "execution_count": 1444,
      "metadata": {},
      "outputs": [
        {
          "data": {
            "text/plain": [
              "(1, 4, 4)"
            ]
          },
          "execution_count": 1444,
          "metadata": {},
          "output_type": "execute_result"
        }
      ],
      "source": [
        "ndci_categorized = storage.read(f'ndci_categorized_{date}.tif')\n",
        "ndci_categorized.read().shape"
      ]
    },
    {
      "cell_type": "code",
      "execution_count": 1445,
      "metadata": {},
      "outputs": [
        {
          "data": {
            "text/plain": [
              "array([[[4, 4, 4, 3],\n",
              "        [4, 4, 3, 3],\n",
              "        [4, 2, 2, 3],\n",
              "        [4, 2, 3, 3]]])"
            ]
          },
          "execution_count": 1445,
          "metadata": {},
          "output_type": "execute_result"
        }
      ],
      "source": [
        "ndci_categorized.read()"
      ]
    },
    {
      "cell_type": "code",
      "execution_count": 1446,
      "metadata": {},
      "outputs": [
        {
          "data": {
            "text/plain": [
              "array([2, 3, 4])"
            ]
          },
          "execution_count": 1446,
          "metadata": {},
          "output_type": "execute_result"
        }
      ],
      "source": [
        "np.unique(ndci_categorized.read())"
      ]
    },
    {
      "cell_type": "code",
      "execution_count": 1447,
      "metadata": {},
      "outputs": [
        {
          "data": {
            "text/plain": [
              "3"
            ]
          },
          "execution_count": 1447,
          "metadata": {},
          "output_type": "execute_result"
        }
      ],
      "source": [
        "np.count_nonzero(ndci_categorized.read()==2)"
      ]
    },
    {
      "cell_type": "markdown",
      "metadata": {},
      "source": [
        "# DOC categorized"
      ]
    },
    {
      "cell_type": "code",
      "execution_count": 1448,
      "metadata": {},
      "outputs": [
        {
          "data": {
            "text/plain": [
              "(1, 4, 4)"
            ]
          },
          "execution_count": 1448,
          "metadata": {},
          "output_type": "execute_result"
        }
      ],
      "source": [
        "doc_categorized = storage.read(f'doc_categorized_{date}.tif')\n",
        "doc_categorized.read().shape"
      ]
    },
    {
      "cell_type": "code",
      "execution_count": 1449,
      "metadata": {},
      "outputs": [
        {
          "data": {
            "text/plain": [
              "array([[[5, 5, 5, 1],\n",
              "        [5, 5, 1, 1],\n",
              "        [5, 1, 1, 1],\n",
              "        [5, 1, 1, 1]]])"
            ]
          },
          "execution_count": 1449,
          "metadata": {},
          "output_type": "execute_result"
        }
      ],
      "source": [
        "doc_categorized.read()"
      ]
    },
    {
      "cell_type": "code",
      "execution_count": 1450,
      "metadata": {},
      "outputs": [
        {
          "data": {
            "text/plain": [
              "array([1, 5])"
            ]
          },
          "execution_count": 1450,
          "metadata": {},
          "output_type": "execute_result"
        }
      ],
      "source": [
        "np.unique(doc_categorized.read())"
      ]
    },
    {
      "cell_type": "code",
      "execution_count": 1451,
      "metadata": {},
      "outputs": [
        {
          "data": {
            "text/plain": [
              "9"
            ]
          },
          "execution_count": 1451,
          "metadata": {},
          "output_type": "execute_result"
        }
      ],
      "source": [
        "np.count_nonzero(doc_categorized.read()==1)"
      ]
    },
    {
      "cell_type": "markdown",
      "metadata": {},
      "source": [
        "# NDTI RGB"
      ]
    },
    {
      "cell_type": "code",
      "execution_count": 1452,
      "metadata": {},
      "outputs": [
        {
          "data": {
            "text/plain": [
              "(4, 4, 4)"
            ]
          },
          "execution_count": 1452,
          "metadata": {},
          "output_type": "execute_result"
        }
      ],
      "source": [
        "ndti_categorized_rgb = storage.read(f'ndti_categorized_rgb_{date}.tif')\n",
        "ndti_categorized_rgb.read().shape"
      ]
    },
    {
      "cell_type": "code",
      "execution_count": 1453,
      "metadata": {},
      "outputs": [
        {
          "data": {
            "text/plain": [
              "array([[[0.        , 0.        , 0.        , 0.        ],\n",
              "        [0.        , 0.        , 0.        , 0.        ],\n",
              "        [0.        , 0.        , 0.        , 0.        ],\n",
              "        [0.        , 0.50196078, 0.        , 1.        ]],\n",
              "\n",
              "       [[0.        , 0.        , 0.        , 0.        ],\n",
              "        [0.        , 0.        , 0.        , 0.        ],\n",
              "        [1.        , 1.        , 0.        , 1.        ],\n",
              "        [0.        , 0.50196078, 0.        , 1.        ]],\n",
              "\n",
              "       [[0.        , 0.        , 0.        , 0.        ],\n",
              "        [1.        , 1.        , 0.        , 1.        ],\n",
              "        [1.        , 0.        , 0.        , 1.        ],\n",
              "        [0.        , 0.50196078, 0.        , 1.        ]],\n",
              "\n",
              "       [[0.        , 0.        , 0.        , 0.        ],\n",
              "        [1.        , 0.        , 0.        , 1.        ],\n",
              "        [1.        , 1.        , 0.        , 1.        ],\n",
              "        [0.        , 0.50196078, 0.        , 1.        ]]])"
            ]
          },
          "execution_count": 1453,
          "metadata": {},
          "output_type": "execute_result"
        }
      ],
      "source": [
        "ndti_categorized_rgb.read()"
      ]
    },
    {
      "cell_type": "code",
      "execution_count": 1454,
      "metadata": {},
      "outputs": [
        {
          "data": {
            "text/plain": [
              "array([0.        , 0.50196078, 1.        ])"
            ]
          },
          "execution_count": 1454,
          "metadata": {},
          "output_type": "execute_result"
        }
      ],
      "source": [
        "np.unique(ndti_categorized_rgb.read())"
      ]
    },
    {
      "cell_type": "code",
      "execution_count": 1455,
      "metadata": {},
      "outputs": [
        {
          "data": {
            "text/plain": [
              "43"
            ]
          },
          "execution_count": 1455,
          "metadata": {},
          "output_type": "execute_result"
        }
      ],
      "source": [
        "np.count_nonzero(ndti_categorized_rgb.read()==0)"
      ]
    },
    {
      "cell_type": "code",
      "execution_count": 1456,
      "metadata": {},
      "outputs": [
        {
          "data": {
            "text/plain": [
              "4"
            ]
          },
          "execution_count": 1456,
          "metadata": {},
          "output_type": "execute_result"
        }
      ],
      "source": [
        "np.count_nonzero(ndti_categorized_rgb.read()==0.5019607843137255)"
      ]
    },
    {
      "cell_type": "code",
      "execution_count": 1457,
      "metadata": {},
      "outputs": [
        {
          "data": {
            "text/plain": [
              "17"
            ]
          },
          "execution_count": 1457,
          "metadata": {},
          "output_type": "execute_result"
        }
      ],
      "source": [
        "np.count_nonzero(ndti_categorized_rgb.read()==1)"
      ]
    },
    {
      "cell_type": "markdown",
      "metadata": {},
      "source": [
        "# NDCI RGB"
      ]
    },
    {
      "cell_type": "code",
      "execution_count": 1458,
      "metadata": {},
      "outputs": [
        {
          "data": {
            "text/plain": [
              "(4, 4, 4)"
            ]
          },
          "execution_count": 1458,
          "metadata": {},
          "output_type": "execute_result"
        }
      ],
      "source": [
        "ndci_categorized_rgb = storage.read(f'ndci_categorized_rgb_{date}.tif')\n",
        "ndci_categorized_rgb.read().shape"
      ]
    },
    {
      "cell_type": "code",
      "execution_count": 1459,
      "metadata": {},
      "outputs": [
        {
          "data": {
            "text/plain": [
              "array([[[0., 0., 0., 0.],\n",
              "        [0., 0., 0., 0.],\n",
              "        [0., 0., 0., 0.],\n",
              "        [1., 0., 0., 1.]],\n",
              "\n",
              "       [[0., 0., 0., 0.],\n",
              "        [0., 0., 0., 0.],\n",
              "        [1., 0., 0., 1.],\n",
              "        [1., 0., 0., 1.]],\n",
              "\n",
              "       [[0., 0., 0., 0.],\n",
              "        [1., 1., 0., 1.],\n",
              "        [1., 1., 0., 1.],\n",
              "        [1., 0., 0., 1.]],\n",
              "\n",
              "       [[0., 0., 0., 0.],\n",
              "        [1., 1., 0., 1.],\n",
              "        [1., 0., 0., 1.],\n",
              "        [1., 0., 0., 1.]]])"
            ]
          },
          "execution_count": 1459,
          "metadata": {},
          "output_type": "execute_result"
        }
      ],
      "source": [
        "ndci_categorized_rgb.read()"
      ]
    },
    {
      "cell_type": "code",
      "execution_count": 1460,
      "metadata": {},
      "outputs": [
        {
          "data": {
            "text/plain": [
              "array([0., 1.])"
            ]
          },
          "execution_count": 1460,
          "metadata": {},
          "output_type": "execute_result"
        }
      ],
      "source": [
        "np.unique(ndci_categorized_rgb.read())"
      ]
    },
    {
      "cell_type": "code",
      "execution_count": 1461,
      "metadata": {},
      "outputs": [
        {
          "data": {
            "text/plain": [
              "43"
            ]
          },
          "execution_count": 1461,
          "metadata": {},
          "output_type": "execute_result"
        }
      ],
      "source": [
        "np.count_nonzero(ndci_categorized_rgb.read()==0)"
      ]
    },
    {
      "cell_type": "code",
      "execution_count": 1462,
      "metadata": {},
      "outputs": [
        {
          "data": {
            "text/plain": [
              "21"
            ]
          },
          "execution_count": 1462,
          "metadata": {},
          "output_type": "execute_result"
        }
      ],
      "source": [
        "np.count_nonzero(ndci_categorized_rgb.read()==1)"
      ]
    },
    {
      "cell_type": "markdown",
      "metadata": {},
      "source": [
        "# DOC RGB"
      ]
    },
    {
      "cell_type": "code",
      "execution_count": 1463,
      "metadata": {},
      "outputs": [
        {
          "data": {
            "text/plain": [
              "(4, 4, 4)"
            ]
          },
          "execution_count": 1463,
          "metadata": {},
          "output_type": "execute_result"
        }
      ],
      "source": [
        "doc_categorized_rgb = storage.read(f'doc_categorized_rgb_{date}.tif')\n",
        "doc_categorized_rgb.read().shape"
      ]
    },
    {
      "cell_type": "code",
      "execution_count": 1464,
      "metadata": {},
      "outputs": [
        {
          "data": {
            "text/plain": [
              "array([[[0.        , 0.        , 0.        , 0.        ],\n",
              "        [0.        , 0.        , 0.        , 0.        ],\n",
              "        [0.        , 0.        , 0.        , 0.        ],\n",
              "        [0.        , 0.50196078, 0.        , 1.        ]],\n",
              "\n",
              "       [[0.        , 0.        , 0.        , 0.        ],\n",
              "        [0.        , 0.        , 0.        , 0.        ],\n",
              "        [0.        , 0.50196078, 0.        , 1.        ],\n",
              "        [0.        , 0.50196078, 0.        , 1.        ]],\n",
              "\n",
              "       [[0.        , 0.        , 0.        , 0.        ],\n",
              "        [0.        , 0.50196078, 0.        , 1.        ],\n",
              "        [0.        , 0.50196078, 0.        , 1.        ],\n",
              "        [0.        , 0.50196078, 0.        , 1.        ]],\n",
              "\n",
              "       [[0.        , 0.        , 0.        , 0.        ],\n",
              "        [0.        , 0.50196078, 0.        , 1.        ],\n",
              "        [0.        , 0.50196078, 0.        , 1.        ],\n",
              "        [0.        , 0.50196078, 0.        , 1.        ]]])"
            ]
          },
          "execution_count": 1464,
          "metadata": {},
          "output_type": "execute_result"
        }
      ],
      "source": [
        "doc_categorized_rgb.read()"
      ]
    },
    {
      "cell_type": "code",
      "execution_count": 1465,
      "metadata": {},
      "outputs": [
        {
          "data": {
            "text/plain": [
              "array([0.        , 0.50196078, 1.        ])"
            ]
          },
          "execution_count": 1465,
          "metadata": {},
          "output_type": "execute_result"
        }
      ],
      "source": [
        "np.unique(doc_categorized_rgb.read())"
      ]
    },
    {
      "cell_type": "code",
      "execution_count": 1466,
      "metadata": {},
      "outputs": [
        {
          "data": {
            "text/plain": [
              "46"
            ]
          },
          "execution_count": 1466,
          "metadata": {},
          "output_type": "execute_result"
        }
      ],
      "source": [
        "np.count_nonzero(doc_categorized_rgb.read()==0)"
      ]
    },
    {
      "cell_type": "code",
      "execution_count": 1467,
      "metadata": {},
      "outputs": [
        {
          "data": {
            "text/plain": [
              "9"
            ]
          },
          "execution_count": 1467,
          "metadata": {},
          "output_type": "execute_result"
        }
      ],
      "source": [
        "np.count_nonzero(doc_categorized_rgb.read()==0.5019607843137255)"
      ]
    },
    {
      "cell_type": "code",
      "execution_count": 1468,
      "metadata": {},
      "outputs": [
        {
          "data": {
            "text/plain": [
              "9"
            ]
          },
          "execution_count": 1468,
          "metadata": {},
          "output_type": "execute_result"
        }
      ],
      "source": [
        "np.count_nonzero(doc_categorized_rgb.read()==1)"
      ]
    },
    {
      "cell_type": "markdown",
      "metadata": {},
      "source": [
        "# Median Water Mask"
      ]
    },
    {
      "cell_type": "code",
      "execution_count": 1469,
      "metadata": {},
      "outputs": [
        {
          "data": {
            "text/plain": [
              "(2, 4, 4)"
            ]
          },
          "execution_count": 1469,
          "metadata": {},
          "output_type": "execute_result"
        }
      ],
      "source": [
        "median_water_mask = storage.read(f'median_water_mask_{date}.tif')\n",
        "median_water_mask.read().shape"
      ]
    },
    {
      "cell_type": "code",
      "execution_count": 1470,
      "metadata": {},
      "outputs": [
        {
          "data": {
            "text/plain": [
              "array([[[0, 0, 0, 1],\n",
              "        [0, 0, 1, 1],\n",
              "        [0, 1, 1, 1],\n",
              "        [0, 1, 1, 1]],\n",
              "\n",
              "       [[0, 0, 0, 1],\n",
              "        [0, 0, 1, 1],\n",
              "        [0, 1, 1, 1],\n",
              "        [0, 1, 1, 1]]], dtype=uint8)"
            ]
          },
          "execution_count": 1470,
          "metadata": {},
          "output_type": "execute_result"
        }
      ],
      "source": [
        "median_water_mask.read()"
      ]
    },
    {
      "cell_type": "markdown",
      "metadata": {},
      "source": [
        "# Table Trubidity Ha"
      ]
    },
    {
      "cell_type": "code",
      "execution_count": 1471,
      "metadata": {},
      "outputs": [
        {
          "data": {
            "text/html": [
              "<div>\n",
              "<style scoped>\n",
              "    .dataframe tbody tr th:only-of-type {\n",
              "        vertical-align: middle;\n",
              "    }\n",
              "\n",
              "    .dataframe tbody tr th {\n",
              "        vertical-align: top;\n",
              "    }\n",
              "\n",
              "    .dataframe thead th {\n",
              "        text-align: right;\n",
              "    }\n",
              "</style>\n",
              "<table border=\"1\" class=\"dataframe\">\n",
              "  <thead>\n",
              "    <tr style=\"text-align: right;\">\n",
              "      <th></th>\n",
              "      <th>Good [Has]</th>\n",
              "      <th>Careful [Has]</th>\n",
              "      <th>Bad [Has]</th>\n",
              "      <th>Total [Has]</th>\n",
              "    </tr>\n",
              "  </thead>\n",
              "  <tbody>\n",
              "    <tr>\n",
              "      <th>2019-06-02</th>\n",
              "      <td>0</td>\n",
              "      <td>0.03</td>\n",
              "      <td>0.06</td>\n",
              "      <td>0.09</td>\n",
              "    </tr>\n",
              "  </tbody>\n",
              "</table>\n",
              "</div>"
            ],
            "text/plain": [
              "            Good [Has]  Careful [Has]  Bad [Has]  Total [Has]\n",
              "2019-06-02           0           0.03       0.06         0.09"
            ]
          },
          "execution_count": 1471,
          "metadata": {},
          "output_type": "execute_result"
        }
      ],
      "source": [
        "table_turbidity_ha = pd.read_json('data/table_chlorophyll_Ha.json')\n",
        "table_turbidity_ha"
      ]
    },
    {
      "cell_type": "code",
      "execution_count": 1472,
      "metadata": {},
      "outputs": [
        {
          "data": {
            "text/plain": [
              "0"
            ]
          },
          "execution_count": 1472,
          "metadata": {},
          "output_type": "execute_result"
        }
      ],
      "source": [
        "table_turbidity_ha[\"Good [Has]\"].values[0]"
      ]
    },
    {
      "cell_type": "code",
      "execution_count": 1473,
      "metadata": {},
      "outputs": [
        {
          "data": {
            "text/plain": [
              "0.03"
            ]
          },
          "execution_count": 1473,
          "metadata": {},
          "output_type": "execute_result"
        }
      ],
      "source": [
        "table_turbidity_ha[\"Careful [Has]\"].values[0]"
      ]
    },
    {
      "cell_type": "code",
      "execution_count": 1474,
      "metadata": {},
      "outputs": [
        {
          "data": {
            "text/plain": [
              "0.06"
            ]
          },
          "execution_count": 1474,
          "metadata": {},
          "output_type": "execute_result"
        }
      ],
      "source": [
        "table_turbidity_ha[\"Bad [Has]\"].values[0]"
      ]
    },
    {
      "cell_type": "markdown",
      "metadata": {},
      "source": [
        "# Table Turbidity %"
      ]
    },
    {
      "cell_type": "code",
      "execution_count": 1475,
      "metadata": {},
      "outputs": [
        {
          "data": {
            "text/html": [
              "<div>\n",
              "<style scoped>\n",
              "    .dataframe tbody tr th:only-of-type {\n",
              "        vertical-align: middle;\n",
              "    }\n",
              "\n",
              "    .dataframe tbody tr th {\n",
              "        vertical-align: top;\n",
              "    }\n",
              "\n",
              "    .dataframe thead th {\n",
              "        text-align: right;\n",
              "    }\n",
              "</style>\n",
              "<table border=\"1\" class=\"dataframe\">\n",
              "  <thead>\n",
              "    <tr style=\"text-align: right;\">\n",
              "      <th></th>\n",
              "      <th>Good [%]</th>\n",
              "      <th>Careful [%]</th>\n",
              "      <th>Bad [%]</th>\n",
              "    </tr>\n",
              "  </thead>\n",
              "  <tbody>\n",
              "    <tr>\n",
              "      <th>2019-06-02</th>\n",
              "      <td>44.444444</td>\n",
              "      <td>33.333333</td>\n",
              "      <td>22.222222</td>\n",
              "    </tr>\n",
              "  </tbody>\n",
              "</table>\n",
              "</div>"
            ],
            "text/plain": [
              "             Good [%]  Careful [%]    Bad [%]\n",
              "2019-06-02  44.444444    33.333333  22.222222"
            ]
          },
          "execution_count": 1475,
          "metadata": {},
          "output_type": "execute_result"
        }
      ],
      "source": [
        "table_turbidity_percent = pd.read_json('data/table_turbidity_percent.json')\n",
        "table_turbidity_percent"
      ]
    },
    {
      "cell_type": "markdown",
      "metadata": {},
      "source": [
        "# Table Chlorophyll Ha"
      ]
    },
    {
      "cell_type": "code",
      "execution_count": 1476,
      "metadata": {},
      "outputs": [
        {
          "data": {
            "text/html": [
              "<div>\n",
              "<style scoped>\n",
              "    .dataframe tbody tr th:only-of-type {\n",
              "        vertical-align: middle;\n",
              "    }\n",
              "\n",
              "    .dataframe tbody tr th {\n",
              "        vertical-align: top;\n",
              "    }\n",
              "\n",
              "    .dataframe thead th {\n",
              "        text-align: right;\n",
              "    }\n",
              "</style>\n",
              "<table border=\"1\" class=\"dataframe\">\n",
              "  <thead>\n",
              "    <tr style=\"text-align: right;\">\n",
              "      <th></th>\n",
              "      <th>Good [Has]</th>\n",
              "      <th>Careful [Has]</th>\n",
              "      <th>Bad [Has]</th>\n",
              "      <th>Total [Has]</th>\n",
              "    </tr>\n",
              "  </thead>\n",
              "  <tbody>\n",
              "    <tr>\n",
              "      <th>2019-06-02</th>\n",
              "      <td>0</td>\n",
              "      <td>0.03</td>\n",
              "      <td>0.06</td>\n",
              "      <td>0.09</td>\n",
              "    </tr>\n",
              "  </tbody>\n",
              "</table>\n",
              "</div>"
            ],
            "text/plain": [
              "            Good [Has]  Careful [Has]  Bad [Has]  Total [Has]\n",
              "2019-06-02           0           0.03       0.06         0.09"
            ]
          },
          "execution_count": 1476,
          "metadata": {},
          "output_type": "execute_result"
        }
      ],
      "source": [
        "table_chloro_ha = pd.read_json('data/table_chlorophyll_Ha.json')\n",
        "table_chloro_ha"
      ]
    },
    {
      "cell_type": "markdown",
      "metadata": {},
      "source": [
        "# Table Chlorophyll %"
      ]
    },
    {
      "cell_type": "code",
      "execution_count": 1477,
      "metadata": {},
      "outputs": [
        {
          "data": {
            "text/html": [
              "<div>\n",
              "<style scoped>\n",
              "    .dataframe tbody tr th:only-of-type {\n",
              "        vertical-align: middle;\n",
              "    }\n",
              "\n",
              "    .dataframe tbody tr th {\n",
              "        vertical-align: top;\n",
              "    }\n",
              "\n",
              "    .dataframe thead th {\n",
              "        text-align: right;\n",
              "    }\n",
              "</style>\n",
              "<table border=\"1\" class=\"dataframe\">\n",
              "  <thead>\n",
              "    <tr style=\"text-align: right;\">\n",
              "      <th></th>\n",
              "      <th>Good [%]</th>\n",
              "      <th>Careful [%]</th>\n",
              "      <th>Bad [%]</th>\n",
              "    </tr>\n",
              "  </thead>\n",
              "  <tbody>\n",
              "    <tr>\n",
              "      <th>2019-06-02</th>\n",
              "      <td>0</td>\n",
              "      <td>33.333333</td>\n",
              "      <td>66.666667</td>\n",
              "    </tr>\n",
              "  </tbody>\n",
              "</table>\n",
              "</div>"
            ],
            "text/plain": [
              "            Good [%]  Careful [%]    Bad [%]\n",
              "2019-06-02         0    33.333333  66.666667"
            ]
          },
          "execution_count": 1477,
          "metadata": {},
          "output_type": "execute_result"
        }
      ],
      "source": [
        "table_chloro_percent = pd.read_json('data/table_chlorophyll_percent.json')\n",
        "table_chloro_percent"
      ]
    },
    {
      "cell_type": "markdown",
      "metadata": {},
      "source": [
        "# Table DOC Ha"
      ]
    },
    {
      "cell_type": "code",
      "execution_count": 1478,
      "metadata": {},
      "outputs": [
        {
          "data": {
            "text/html": [
              "<div>\n",
              "<style scoped>\n",
              "    .dataframe tbody tr th:only-of-type {\n",
              "        vertical-align: middle;\n",
              "    }\n",
              "\n",
              "    .dataframe tbody tr th {\n",
              "        vertical-align: top;\n",
              "    }\n",
              "\n",
              "    .dataframe thead th {\n",
              "        text-align: right;\n",
              "    }\n",
              "</style>\n",
              "<table border=\"1\" class=\"dataframe\">\n",
              "  <thead>\n",
              "    <tr style=\"text-align: right;\">\n",
              "      <th></th>\n",
              "      <th>N0 [Has]</th>\n",
              "      <th>N1 [Has]</th>\n",
              "      <th>N2 [Has]</th>\n",
              "      <th>N3 [Has]</th>\n",
              "      <th>Total [Has]</th>\n",
              "    </tr>\n",
              "  </thead>\n",
              "  <tbody>\n",
              "    <tr>\n",
              "      <th>2019-06-02</th>\n",
              "      <td>0.09</td>\n",
              "      <td>0</td>\n",
              "      <td>0</td>\n",
              "      <td>0</td>\n",
              "      <td>0.09</td>\n",
              "    </tr>\n",
              "  </tbody>\n",
              "</table>\n",
              "</div>"
            ],
            "text/plain": [
              "            N0 [Has]  N1 [Has]  N2 [Has]  N3 [Has]  Total [Has]\n",
              "2019-06-02      0.09         0         0         0         0.09"
            ]
          },
          "execution_count": 1478,
          "metadata": {},
          "output_type": "execute_result"
        }
      ],
      "source": [
        "table_doc_ha = pd.read_json('data/table_doc_Ha.json')\n",
        "table_doc_ha"
      ]
    },
    {
      "cell_type": "markdown",
      "metadata": {},
      "source": [
        "# Table DOC Percent"
      ]
    },
    {
      "cell_type": "code",
      "execution_count": 1479,
      "metadata": {},
      "outputs": [
        {
          "data": {
            "text/html": [
              "<div>\n",
              "<style scoped>\n",
              "    .dataframe tbody tr th:only-of-type {\n",
              "        vertical-align: middle;\n",
              "    }\n",
              "\n",
              "    .dataframe tbody tr th {\n",
              "        vertical-align: top;\n",
              "    }\n",
              "\n",
              "    .dataframe thead th {\n",
              "        text-align: right;\n",
              "    }\n",
              "</style>\n",
              "<table border=\"1\" class=\"dataframe\">\n",
              "  <thead>\n",
              "    <tr style=\"text-align: right;\">\n",
              "      <th></th>\n",
              "      <th>N0 [%]</th>\n",
              "      <th>N1 [%]</th>\n",
              "      <th>N2 [%]</th>\n",
              "      <th>N3 [%]</th>\n",
              "    </tr>\n",
              "  </thead>\n",
              "  <tbody>\n",
              "    <tr>\n",
              "      <th>2019-06-02</th>\n",
              "      <td>100</td>\n",
              "      <td>0</td>\n",
              "      <td>0</td>\n",
              "      <td>0</td>\n",
              "    </tr>\n",
              "  </tbody>\n",
              "</table>\n",
              "</div>"
            ],
            "text/plain": [
              "            N0 [%]  N1 [%]  N2 [%]  N3 [%]\n",
              "2019-06-02     100       0       0       0"
            ]
          },
          "execution_count": 1479,
          "metadata": {},
          "output_type": "execute_result"
        }
      ],
      "source": [
        "table_doc_percent = pd.read_json('data/table_doc_percent.json')\n",
        "table_doc_percent"
      ]
    },
    {
      "cell_type": "markdown",
      "metadata": {},
      "source": [
        "# Table Water Extent"
      ]
    },
    {
      "cell_type": "code",
      "execution_count": 1480,
      "metadata": {},
      "outputs": [
        {
          "data": {
            "text/html": [
              "<div>\n",
              "<style scoped>\n",
              "    .dataframe tbody tr th:only-of-type {\n",
              "        vertical-align: middle;\n",
              "    }\n",
              "\n",
              "    .dataframe tbody tr th {\n",
              "        vertical-align: top;\n",
              "    }\n",
              "\n",
              "    .dataframe thead th {\n",
              "        text-align: right;\n",
              "    }\n",
              "</style>\n",
              "<table border=\"1\" class=\"dataframe\">\n",
              "  <thead>\n",
              "    <tr style=\"text-align: right;\">\n",
              "      <th></th>\n",
              "      <th>Water [Has]</th>\n",
              "      <th>Not Water [Has]</th>\n",
              "      <th>Total [Has]</th>\n",
              "      <th>Percentage [%]</th>\n",
              "    </tr>\n",
              "  </thead>\n",
              "  <tbody>\n",
              "    <tr>\n",
              "      <th>2019-06-02</th>\n",
              "      <td>0.09</td>\n",
              "      <td>0</td>\n",
              "      <td>0.09</td>\n",
              "      <td>100</td>\n",
              "    </tr>\n",
              "  </tbody>\n",
              "</table>\n",
              "</div>"
            ],
            "text/plain": [
              "            Water [Has]  Not Water [Has]  Total [Has]  Percentage [%]\n",
              "2019-06-02         0.09                0         0.09             100"
            ]
          },
          "execution_count": 1480,
          "metadata": {},
          "output_type": "execute_result"
        }
      ],
      "source": [
        "table_water_extent = pd.read_json('data/table_water_extent.json')\n",
        "table_water_extent"
      ]
    },
    {
      "cell_type": "code",
      "execution_count": 1481,
      "metadata": {},
      "outputs": [],
      "source": [
        "shutil.rmtree(data_directory) "
      ]
    }
  ],
  "metadata": {
    "kernelspec": {
      "display_name": "base",
      "language": "python",
      "name": "python3"
    },
    "language_info": {
      "codemirror_mode": {
        "name": "ipython",
        "version": 3
      },
      "file_extension": ".py",
      "mimetype": "text/x-python",
      "name": "python",
      "nbconvert_exporter": "python",
      "pygments_lexer": "ipython3",
      "version": "3.10.12"
    }
  },
  "nbformat": 4,
  "nbformat_minor": 2
}
