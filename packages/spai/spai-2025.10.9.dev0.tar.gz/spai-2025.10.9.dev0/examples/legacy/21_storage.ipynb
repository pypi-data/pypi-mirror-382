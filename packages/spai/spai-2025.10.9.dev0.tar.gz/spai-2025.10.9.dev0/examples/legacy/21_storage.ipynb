{
 "cells": [
  {
   "cell_type": "code",
   "execution_count": 26,
   "metadata": {},
   "outputs": [
    {
     "name": "stdout",
     "output_type": "stream",
     "text": [
      "The autoreload extension is already loaded. To reload it, use:\n",
      "  %reload_ext autoreload\n"
     ]
    }
   ],
   "source": [
    "%load_ext autoreload\n",
    "%autoreload 2"
   ]
  },
  {
   "cell_type": "code",
   "execution_count": 69,
   "metadata": {},
   "outputs": [],
   "source": [
    "import os\n",
    "import json\n",
    "import io\n",
    "import pandas as pd"
   ]
  },
  {
   "cell_type": "code",
   "execution_count": 67,
   "metadata": {},
   "outputs": [
    {
     "data": {
      "text/plain": [
       "['/Users/judith/micromamba/envs/parquet/lib/python38.zip',\n",
       " '/Users/judith/micromamba/envs/parquet/lib/python3.8',\n",
       " '/Users/judith/micromamba/envs/parquet/lib/python3.8/lib-dynload',\n",
       " '/Users/judith/micromamba/envs/parquet/lib/python3.8/site-packages',\n",
       " '~/ep-backend/spai-new/spai']"
      ]
     },
     "execution_count": 67,
     "metadata": {},
     "output_type": "execute_result"
    }
   ],
   "source": [
    "import sys\n",
    "\n",
    "sys.path.append(\"~/ep-backend/spai-new/spai\")\n",
    "sys.path"
   ]
  },
  {
   "cell_type": "code",
   "execution_count": 192,
   "metadata": {},
   "outputs": [],
   "source": [
    "from spai.spai.storage import Storage"
   ]
  },
  {
   "cell_type": "code",
   "execution_count": 193,
   "metadata": {},
   "outputs": [],
   "source": [
    "os.environ[\"SPAI_STORAGE_NAMES\"] = \"local_data,s3_minio\"\n",
    "os.environ[\"SPAI_STORAGE_LOCAL_DATA_PATH\"] = \"data\"\n",
    "os.environ[\"SPAI_STORAGE_S3_MINIO_URL\"] = \"localhost:9000\"\n",
    "os.environ[\"SPAI_STORAGE_S3_MINIO_ACCESS\"] = \"spai\"\n",
    "os.environ[\"SPAI_STORAGE_S3_MINIO_SECRET\"] = \"12345678\"\n",
    "os.environ[\"SPAI_STORAGE_S3_MINIO_BUCKET\"] = \"devbucket\""
   ]
  },
  {
   "cell_type": "code",
   "execution_count": 194,
   "metadata": {},
   "outputs": [
    {
     "name": "stdout",
     "output_type": "stream",
     "text": [
      "SPAI_STORAGE_NAMES=local_data,s3_minio\n",
      "SPAI_STORAGE_LOCAL_DATA_PATH=data\n",
      "SPAI_STORAGE_S3_MINIO_URL=localhost:9000\n",
      "SPAI_STORAGE_S3_MINIO_ACCESS=spai\n",
      "SPAI_STORAGE_S3_MINIO_SECRET=12345678\n",
      "SPAI_STORAGE_S3_MINIO_BUCKET=devbucket\n"
     ]
    }
   ],
   "source": [
    "# list env variables\n",
    "!env | grep SPAI"
   ]
  },
  {
   "cell_type": "code",
   "execution_count": 195,
   "metadata": {},
   "outputs": [
    {
     "name": "stdout",
     "output_type": "stream",
     "text": [
      "'data' folder ready to use\n",
      "'devbucket' bucket ready to use\n"
     ]
    }
   ],
   "source": [
    "storage = Storage()"
   ]
  },
  {
   "cell_type": "code",
   "execution_count": 216,
   "metadata": {},
   "outputs": [
    {
     "data": {
      "text/plain": [
       "['Weather.parquet', 'Weather2.parquet', 'growth.json']"
      ]
     },
     "execution_count": 216,
     "metadata": {},
     "output_type": "execute_result"
    }
   ],
   "source": [
    "data, minio = storage[\"data\"], storage[\"minio\"]\n",
    "data.list()"
   ]
  },
  {
   "cell_type": "code",
   "execution_count": 217,
   "metadata": {},
   "outputs": [
    {
     "data": {
      "text/plain": [
       "['tif/S2L2A_2024-01-20.tif']"
      ]
     },
     "execution_count": 217,
     "metadata": {},
     "output_type": "execute_result"
    }
   ],
   "source": [
    "minio.list()"
   ]
  },
  {
   "cell_type": "markdown",
   "metadata": {},
   "source": [
    "### Read & Save .parquet files in Local\n"
   ]
  },
  {
   "cell_type": "code",
   "execution_count": 209,
   "metadata": {},
   "outputs": [
    {
     "data": {
      "text/html": [
       "<div>\n",
       "<style scoped>\n",
       "    .dataframe tbody tr th:only-of-type {\n",
       "        vertical-align: middle;\n",
       "    }\n",
       "\n",
       "    .dataframe tbody tr th {\n",
       "        vertical-align: top;\n",
       "    }\n",
       "\n",
       "    .dataframe thead th {\n",
       "        text-align: right;\n",
       "    }\n",
       "</style>\n",
       "<table border=\"1\" class=\"dataframe\">\n",
       "  <thead>\n",
       "    <tr style=\"text-align: right;\">\n",
       "      <th></th>\n",
       "      <th>MinTemp</th>\n",
       "      <th>MaxTemp</th>\n",
       "      <th>Rainfall</th>\n",
       "      <th>Evaporation</th>\n",
       "      <th>Sunshine</th>\n",
       "      <th>WindGustDir</th>\n",
       "      <th>WindGustSpeed</th>\n",
       "      <th>WindDir9am</th>\n",
       "      <th>WindDir3pm</th>\n",
       "      <th>WindSpeed9am</th>\n",
       "      <th>...</th>\n",
       "      <th>Humidity3pm</th>\n",
       "      <th>Pressure9am</th>\n",
       "      <th>Pressure3pm</th>\n",
       "      <th>Cloud9am</th>\n",
       "      <th>Cloud3pm</th>\n",
       "      <th>Temp9am</th>\n",
       "      <th>Temp3pm</th>\n",
       "      <th>RainToday</th>\n",
       "      <th>RISK_MM</th>\n",
       "      <th>RainTomorrow</th>\n",
       "    </tr>\n",
       "  </thead>\n",
       "  <tbody>\n",
       "    <tr>\n",
       "      <th>0</th>\n",
       "      <td>8.0</td>\n",
       "      <td>24.3</td>\n",
       "      <td>0.0</td>\n",
       "      <td>3.4</td>\n",
       "      <td>6.3</td>\n",
       "      <td>NW</td>\n",
       "      <td>30</td>\n",
       "      <td>SW</td>\n",
       "      <td>NW</td>\n",
       "      <td>6</td>\n",
       "      <td>...</td>\n",
       "      <td>29</td>\n",
       "      <td>1019.7</td>\n",
       "      <td>1015.0</td>\n",
       "      <td>7</td>\n",
       "      <td>7</td>\n",
       "      <td>14.4</td>\n",
       "      <td>23.6</td>\n",
       "      <td>No</td>\n",
       "      <td>3.6</td>\n",
       "      <td>Yes</td>\n",
       "    </tr>\n",
       "    <tr>\n",
       "      <th>1</th>\n",
       "      <td>14.0</td>\n",
       "      <td>26.9</td>\n",
       "      <td>3.6</td>\n",
       "      <td>4.4</td>\n",
       "      <td>9.7</td>\n",
       "      <td>ENE</td>\n",
       "      <td>39</td>\n",
       "      <td>E</td>\n",
       "      <td>W</td>\n",
       "      <td>4</td>\n",
       "      <td>...</td>\n",
       "      <td>36</td>\n",
       "      <td>1012.4</td>\n",
       "      <td>1008.4</td>\n",
       "      <td>5</td>\n",
       "      <td>3</td>\n",
       "      <td>17.5</td>\n",
       "      <td>25.7</td>\n",
       "      <td>Yes</td>\n",
       "      <td>3.6</td>\n",
       "      <td>Yes</td>\n",
       "    </tr>\n",
       "    <tr>\n",
       "      <th>2</th>\n",
       "      <td>13.7</td>\n",
       "      <td>23.4</td>\n",
       "      <td>3.6</td>\n",
       "      <td>5.8</td>\n",
       "      <td>3.3</td>\n",
       "      <td>NW</td>\n",
       "      <td>85</td>\n",
       "      <td>N</td>\n",
       "      <td>NNE</td>\n",
       "      <td>6</td>\n",
       "      <td>...</td>\n",
       "      <td>69</td>\n",
       "      <td>1009.5</td>\n",
       "      <td>1007.2</td>\n",
       "      <td>8</td>\n",
       "      <td>7</td>\n",
       "      <td>15.4</td>\n",
       "      <td>20.2</td>\n",
       "      <td>Yes</td>\n",
       "      <td>39.8</td>\n",
       "      <td>Yes</td>\n",
       "    </tr>\n",
       "    <tr>\n",
       "      <th>3</th>\n",
       "      <td>13.3</td>\n",
       "      <td>15.5</td>\n",
       "      <td>39.8</td>\n",
       "      <td>7.2</td>\n",
       "      <td>9.1</td>\n",
       "      <td>NW</td>\n",
       "      <td>54</td>\n",
       "      <td>WNW</td>\n",
       "      <td>W</td>\n",
       "      <td>30</td>\n",
       "      <td>...</td>\n",
       "      <td>56</td>\n",
       "      <td>1005.5</td>\n",
       "      <td>1007.0</td>\n",
       "      <td>2</td>\n",
       "      <td>7</td>\n",
       "      <td>13.5</td>\n",
       "      <td>14.1</td>\n",
       "      <td>Yes</td>\n",
       "      <td>2.8</td>\n",
       "      <td>Yes</td>\n",
       "    </tr>\n",
       "    <tr>\n",
       "      <th>4</th>\n",
       "      <td>7.6</td>\n",
       "      <td>16.1</td>\n",
       "      <td>2.8</td>\n",
       "      <td>5.6</td>\n",
       "      <td>10.6</td>\n",
       "      <td>SSE</td>\n",
       "      <td>50</td>\n",
       "      <td>SSE</td>\n",
       "      <td>ESE</td>\n",
       "      <td>20</td>\n",
       "      <td>...</td>\n",
       "      <td>49</td>\n",
       "      <td>1018.3</td>\n",
       "      <td>1018.5</td>\n",
       "      <td>7</td>\n",
       "      <td>7</td>\n",
       "      <td>11.1</td>\n",
       "      <td>15.4</td>\n",
       "      <td>Yes</td>\n",
       "      <td>0.0</td>\n",
       "      <td>No</td>\n",
       "    </tr>\n",
       "    <tr>\n",
       "      <th>...</th>\n",
       "      <td>...</td>\n",
       "      <td>...</td>\n",
       "      <td>...</td>\n",
       "      <td>...</td>\n",
       "      <td>...</td>\n",
       "      <td>...</td>\n",
       "      <td>...</td>\n",
       "      <td>...</td>\n",
       "      <td>...</td>\n",
       "      <td>...</td>\n",
       "      <td>...</td>\n",
       "      <td>...</td>\n",
       "      <td>...</td>\n",
       "      <td>...</td>\n",
       "      <td>...</td>\n",
       "      <td>...</td>\n",
       "      <td>...</td>\n",
       "      <td>...</td>\n",
       "      <td>...</td>\n",
       "      <td>...</td>\n",
       "      <td>...</td>\n",
       "    </tr>\n",
       "    <tr>\n",
       "      <th>361</th>\n",
       "      <td>9.0</td>\n",
       "      <td>30.7</td>\n",
       "      <td>0.0</td>\n",
       "      <td>7.6</td>\n",
       "      <td>12.1</td>\n",
       "      <td>NNW</td>\n",
       "      <td>76</td>\n",
       "      <td>SSE</td>\n",
       "      <td>NW</td>\n",
       "      <td>7</td>\n",
       "      <td>...</td>\n",
       "      <td>15</td>\n",
       "      <td>1016.1</td>\n",
       "      <td>1010.8</td>\n",
       "      <td>1</td>\n",
       "      <td>3</td>\n",
       "      <td>20.4</td>\n",
       "      <td>30.0</td>\n",
       "      <td>No</td>\n",
       "      <td>0.0</td>\n",
       "      <td>No</td>\n",
       "    </tr>\n",
       "    <tr>\n",
       "      <th>362</th>\n",
       "      <td>7.1</td>\n",
       "      <td>28.4</td>\n",
       "      <td>0.0</td>\n",
       "      <td>11.6</td>\n",
       "      <td>12.7</td>\n",
       "      <td>N</td>\n",
       "      <td>48</td>\n",
       "      <td>NNW</td>\n",
       "      <td>NNW</td>\n",
       "      <td>2</td>\n",
       "      <td>...</td>\n",
       "      <td>22</td>\n",
       "      <td>1020.0</td>\n",
       "      <td>1016.9</td>\n",
       "      <td>0</td>\n",
       "      <td>1</td>\n",
       "      <td>17.2</td>\n",
       "      <td>28.2</td>\n",
       "      <td>No</td>\n",
       "      <td>0.0</td>\n",
       "      <td>No</td>\n",
       "    </tr>\n",
       "    <tr>\n",
       "      <th>363</th>\n",
       "      <td>12.5</td>\n",
       "      <td>19.9</td>\n",
       "      <td>0.0</td>\n",
       "      <td>8.4</td>\n",
       "      <td>5.3</td>\n",
       "      <td>ESE</td>\n",
       "      <td>43</td>\n",
       "      <td>ENE</td>\n",
       "      <td>ENE</td>\n",
       "      <td>11</td>\n",
       "      <td>...</td>\n",
       "      <td>47</td>\n",
       "      <td>1024.0</td>\n",
       "      <td>1022.8</td>\n",
       "      <td>3</td>\n",
       "      <td>2</td>\n",
       "      <td>14.5</td>\n",
       "      <td>18.3</td>\n",
       "      <td>No</td>\n",
       "      <td>0.0</td>\n",
       "      <td>No</td>\n",
       "    </tr>\n",
       "    <tr>\n",
       "      <th>364</th>\n",
       "      <td>12.5</td>\n",
       "      <td>26.9</td>\n",
       "      <td>0.0</td>\n",
       "      <td>5.0</td>\n",
       "      <td>7.1</td>\n",
       "      <td>NW</td>\n",
       "      <td>46</td>\n",
       "      <td>SSW</td>\n",
       "      <td>WNW</td>\n",
       "      <td>6</td>\n",
       "      <td>...</td>\n",
       "      <td>39</td>\n",
       "      <td>1021.0</td>\n",
       "      <td>1016.2</td>\n",
       "      <td>6</td>\n",
       "      <td>7</td>\n",
       "      <td>15.8</td>\n",
       "      <td>25.9</td>\n",
       "      <td>No</td>\n",
       "      <td>0.0</td>\n",
       "      <td>No</td>\n",
       "    </tr>\n",
       "    <tr>\n",
       "      <th>365</th>\n",
       "      <td>12.3</td>\n",
       "      <td>30.2</td>\n",
       "      <td>0.0</td>\n",
       "      <td>6.0</td>\n",
       "      <td>12.6</td>\n",
       "      <td>NW</td>\n",
       "      <td>78</td>\n",
       "      <td>NW</td>\n",
       "      <td>WNW</td>\n",
       "      <td>31</td>\n",
       "      <td>...</td>\n",
       "      <td>13</td>\n",
       "      <td>1009.6</td>\n",
       "      <td>1009.2</td>\n",
       "      <td>1</td>\n",
       "      <td>1</td>\n",
       "      <td>23.8</td>\n",
       "      <td>28.6</td>\n",
       "      <td>No</td>\n",
       "      <td>0.0</td>\n",
       "      <td>No</td>\n",
       "    </tr>\n",
       "  </tbody>\n",
       "</table>\n",
       "<p>366 rows × 22 columns</p>\n",
       "</div>"
      ],
      "text/plain": [
       "     MinTemp  MaxTemp  Rainfall  Evaporation Sunshine WindGustDir  \\\n",
       "0        8.0     24.3       0.0          3.4      6.3          NW   \n",
       "1       14.0     26.9       3.6          4.4      9.7         ENE   \n",
       "2       13.7     23.4       3.6          5.8      3.3          NW   \n",
       "3       13.3     15.5      39.8          7.2      9.1          NW   \n",
       "4        7.6     16.1       2.8          5.6     10.6         SSE   \n",
       "..       ...      ...       ...          ...      ...         ...   \n",
       "361      9.0     30.7       0.0          7.6     12.1         NNW   \n",
       "362      7.1     28.4       0.0         11.6     12.7           N   \n",
       "363     12.5     19.9       0.0          8.4      5.3         ESE   \n",
       "364     12.5     26.9       0.0          5.0      7.1          NW   \n",
       "365     12.3     30.2       0.0          6.0     12.6          NW   \n",
       "\n",
       "    WindGustSpeed WindDir9am WindDir3pm WindSpeed9am  ...  Humidity3pm  \\\n",
       "0              30         SW         NW            6  ...           29   \n",
       "1              39          E          W            4  ...           36   \n",
       "2              85          N        NNE            6  ...           69   \n",
       "3              54        WNW          W           30  ...           56   \n",
       "4              50        SSE        ESE           20  ...           49   \n",
       "..            ...        ...        ...          ...  ...          ...   \n",
       "361            76        SSE         NW            7  ...           15   \n",
       "362            48        NNW        NNW            2  ...           22   \n",
       "363            43        ENE        ENE           11  ...           47   \n",
       "364            46        SSW        WNW            6  ...           39   \n",
       "365            78         NW        WNW           31  ...           13   \n",
       "\n",
       "     Pressure9am  Pressure3pm  Cloud9am  Cloud3pm  Temp9am  Temp3pm  \\\n",
       "0         1019.7       1015.0         7         7     14.4     23.6   \n",
       "1         1012.4       1008.4         5         3     17.5     25.7   \n",
       "2         1009.5       1007.2         8         7     15.4     20.2   \n",
       "3         1005.5       1007.0         2         7     13.5     14.1   \n",
       "4         1018.3       1018.5         7         7     11.1     15.4   \n",
       "..           ...          ...       ...       ...      ...      ...   \n",
       "361       1016.1       1010.8         1         3     20.4     30.0   \n",
       "362       1020.0       1016.9         0         1     17.2     28.2   \n",
       "363       1024.0       1022.8         3         2     14.5     18.3   \n",
       "364       1021.0       1016.2         6         7     15.8     25.9   \n",
       "365       1009.6       1009.2         1         1     23.8     28.6   \n",
       "\n",
       "     RainToday  RISK_MM RainTomorrow  \n",
       "0           No      3.6          Yes  \n",
       "1          Yes      3.6          Yes  \n",
       "2          Yes     39.8          Yes  \n",
       "3          Yes      2.8          Yes  \n",
       "4          Yes      0.0           No  \n",
       "..         ...      ...          ...  \n",
       "361         No      0.0           No  \n",
       "362         No      0.0           No  \n",
       "363         No      0.0           No  \n",
       "364         No      0.0           No  \n",
       "365         No      0.0           No  \n",
       "\n",
       "[366 rows x 22 columns]"
      ]
     },
     "execution_count": 209,
     "metadata": {},
     "output_type": "execute_result"
    }
   ],
   "source": [
    "df = data.read(\"Weather.parquet\")\n",
    "df"
   ]
  },
  {
   "cell_type": "code",
   "execution_count": 210,
   "metadata": {},
   "outputs": [
    {
     "data": {
      "text/plain": [
       "'data/Weather2.parquet'"
      ]
     },
     "execution_count": 210,
     "metadata": {},
     "output_type": "execute_result"
    }
   ],
   "source": [
    "data.create(df, \"Weather2.parquet\")"
   ]
  },
  {
   "cell_type": "code",
   "execution_count": 211,
   "metadata": {},
   "outputs": [
    {
     "data": {
      "text/plain": [
       "['Weather.parquet', 'Weather2.parquet', 'growth.json']"
      ]
     },
     "execution_count": 211,
     "metadata": {},
     "output_type": "execute_result"
    }
   ],
   "source": [
    "data.list()"
   ]
  },
  {
   "cell_type": "markdown",
   "metadata": {},
   "source": [
    "## Read & Save .parquet files in Cloud\n"
   ]
  },
  {
   "cell_type": "code",
   "execution_count": 219,
   "metadata": {},
   "outputs": [
    {
     "data": {
      "text/plain": [
       "[Bucket('devbucket')]"
      ]
     },
     "execution_count": 219,
     "metadata": {},
     "output_type": "execute_result"
    }
   ],
   "source": [
    "s3_client = minio.client\n",
    "s3_client.list_buckets()"
   ]
  },
  {
   "cell_type": "code",
   "execution_count": 224,
   "metadata": {},
   "outputs": [],
   "source": [
    "import s3fs\n",
    "from pyarrow import Table, parquet as pq\n",
    "\n",
    "fs = s3fs.S3FileSystem(\n",
    "    anon=False,\n",
    "    # key=s3fs_config.aws_access_key_id,\n",
    "    # secret=s3fs_config.aws_secret_access_key,\n",
    "    use_ssl=False,\n",
    "    client_kwargs={\n",
    "        \"region_name\": \"us-east-1\",\n",
    "        \"endpoint_url\": \"http://localhost:9000\",\n",
    "        \"aws_access_key_id\": \"spai\",\n",
    "        \"aws_secret_access_key\": \"12345678\",\n",
    "        \"verify\": False,\n",
    "    },\n",
    ")\n",
    "\n",
    "path_to_s3_object = \"s3://devbucket/Weather.parquet\"\n",
    "\n",
    "pq.write_to_dataset(\n",
    "    Table.from_pandas(df),\n",
    "    path_to_s3_object,\n",
    "    filesystem=fs,\n",
    "    use_dictionary=True,\n",
    "    compression=\"snappy\",\n",
    "    version=\"2.4\",\n",
    ")"
   ]
  },
  {
   "cell_type": "code",
   "execution_count": 251,
   "metadata": {},
   "outputs": [
    {
     "data": {
      "text/plain": [
       "['devbucket/Weather.parquet/9f64d8fc366f401ea96329f5e43ada6a-0.parquet',\n",
       " 'devbucket/Weather.parquet/e6dd9d243e7b4d29832b514d58e8ba40-0.parquet']"
      ]
     },
     "execution_count": 251,
     "metadata": {},
     "output_type": "execute_result"
    }
   ],
   "source": [
    "# list bucket content\n",
    "fs.ls(\"devbucket\")\n",
    "# list prefix content\n",
    "fs.ls(\"devbucket/Weather.parquet\")"
   ]
  },
  {
   "cell_type": "code",
   "execution_count": 255,
   "metadata": {},
   "outputs": [
    {
     "data": {
      "text/html": [
       "<div>\n",
       "<style scoped>\n",
       "    .dataframe tbody tr th:only-of-type {\n",
       "        vertical-align: middle;\n",
       "    }\n",
       "\n",
       "    .dataframe tbody tr th {\n",
       "        vertical-align: top;\n",
       "    }\n",
       "\n",
       "    .dataframe thead th {\n",
       "        text-align: right;\n",
       "    }\n",
       "</style>\n",
       "<table border=\"1\" class=\"dataframe\">\n",
       "  <thead>\n",
       "    <tr style=\"text-align: right;\">\n",
       "      <th></th>\n",
       "      <th>MinTemp</th>\n",
       "      <th>MaxTemp</th>\n",
       "      <th>Rainfall</th>\n",
       "      <th>Evaporation</th>\n",
       "      <th>Sunshine</th>\n",
       "      <th>WindGustDir</th>\n",
       "      <th>WindGustSpeed</th>\n",
       "      <th>WindDir9am</th>\n",
       "      <th>WindDir3pm</th>\n",
       "      <th>WindSpeed9am</th>\n",
       "      <th>...</th>\n",
       "      <th>Humidity3pm</th>\n",
       "      <th>Pressure9am</th>\n",
       "      <th>Pressure3pm</th>\n",
       "      <th>Cloud9am</th>\n",
       "      <th>Cloud3pm</th>\n",
       "      <th>Temp9am</th>\n",
       "      <th>Temp3pm</th>\n",
       "      <th>RainToday</th>\n",
       "      <th>RISK_MM</th>\n",
       "      <th>RainTomorrow</th>\n",
       "    </tr>\n",
       "  </thead>\n",
       "  <tbody>\n",
       "    <tr>\n",
       "      <th>0</th>\n",
       "      <td>8.0</td>\n",
       "      <td>24.3</td>\n",
       "      <td>0.0</td>\n",
       "      <td>3.4</td>\n",
       "      <td>6.3</td>\n",
       "      <td>NW</td>\n",
       "      <td>30</td>\n",
       "      <td>SW</td>\n",
       "      <td>NW</td>\n",
       "      <td>6</td>\n",
       "      <td>...</td>\n",
       "      <td>29</td>\n",
       "      <td>1019.7</td>\n",
       "      <td>1015.0</td>\n",
       "      <td>7</td>\n",
       "      <td>7</td>\n",
       "      <td>14.4</td>\n",
       "      <td>23.6</td>\n",
       "      <td>No</td>\n",
       "      <td>3.6</td>\n",
       "      <td>Yes</td>\n",
       "    </tr>\n",
       "    <tr>\n",
       "      <th>1</th>\n",
       "      <td>14.0</td>\n",
       "      <td>26.9</td>\n",
       "      <td>3.6</td>\n",
       "      <td>4.4</td>\n",
       "      <td>9.7</td>\n",
       "      <td>ENE</td>\n",
       "      <td>39</td>\n",
       "      <td>E</td>\n",
       "      <td>W</td>\n",
       "      <td>4</td>\n",
       "      <td>...</td>\n",
       "      <td>36</td>\n",
       "      <td>1012.4</td>\n",
       "      <td>1008.4</td>\n",
       "      <td>5</td>\n",
       "      <td>3</td>\n",
       "      <td>17.5</td>\n",
       "      <td>25.7</td>\n",
       "      <td>Yes</td>\n",
       "      <td>3.6</td>\n",
       "      <td>Yes</td>\n",
       "    </tr>\n",
       "    <tr>\n",
       "      <th>2</th>\n",
       "      <td>13.7</td>\n",
       "      <td>23.4</td>\n",
       "      <td>3.6</td>\n",
       "      <td>5.8</td>\n",
       "      <td>3.3</td>\n",
       "      <td>NW</td>\n",
       "      <td>85</td>\n",
       "      <td>N</td>\n",
       "      <td>NNE</td>\n",
       "      <td>6</td>\n",
       "      <td>...</td>\n",
       "      <td>69</td>\n",
       "      <td>1009.5</td>\n",
       "      <td>1007.2</td>\n",
       "      <td>8</td>\n",
       "      <td>7</td>\n",
       "      <td>15.4</td>\n",
       "      <td>20.2</td>\n",
       "      <td>Yes</td>\n",
       "      <td>39.8</td>\n",
       "      <td>Yes</td>\n",
       "    </tr>\n",
       "    <tr>\n",
       "      <th>3</th>\n",
       "      <td>13.3</td>\n",
       "      <td>15.5</td>\n",
       "      <td>39.8</td>\n",
       "      <td>7.2</td>\n",
       "      <td>9.1</td>\n",
       "      <td>NW</td>\n",
       "      <td>54</td>\n",
       "      <td>WNW</td>\n",
       "      <td>W</td>\n",
       "      <td>30</td>\n",
       "      <td>...</td>\n",
       "      <td>56</td>\n",
       "      <td>1005.5</td>\n",
       "      <td>1007.0</td>\n",
       "      <td>2</td>\n",
       "      <td>7</td>\n",
       "      <td>13.5</td>\n",
       "      <td>14.1</td>\n",
       "      <td>Yes</td>\n",
       "      <td>2.8</td>\n",
       "      <td>Yes</td>\n",
       "    </tr>\n",
       "    <tr>\n",
       "      <th>4</th>\n",
       "      <td>7.6</td>\n",
       "      <td>16.1</td>\n",
       "      <td>2.8</td>\n",
       "      <td>5.6</td>\n",
       "      <td>10.6</td>\n",
       "      <td>SSE</td>\n",
       "      <td>50</td>\n",
       "      <td>SSE</td>\n",
       "      <td>ESE</td>\n",
       "      <td>20</td>\n",
       "      <td>...</td>\n",
       "      <td>49</td>\n",
       "      <td>1018.3</td>\n",
       "      <td>1018.5</td>\n",
       "      <td>7</td>\n",
       "      <td>7</td>\n",
       "      <td>11.1</td>\n",
       "      <td>15.4</td>\n",
       "      <td>Yes</td>\n",
       "      <td>0.0</td>\n",
       "      <td>No</td>\n",
       "    </tr>\n",
       "  </tbody>\n",
       "</table>\n",
       "<p>5 rows × 22 columns</p>\n",
       "</div>"
      ],
      "text/plain": [
       "   MinTemp  MaxTemp  Rainfall  Evaporation Sunshine WindGustDir WindGustSpeed  \\\n",
       "0      8.0     24.3       0.0          3.4      6.3          NW            30   \n",
       "1     14.0     26.9       3.6          4.4      9.7         ENE            39   \n",
       "2     13.7     23.4       3.6          5.8      3.3          NW            85   \n",
       "3     13.3     15.5      39.8          7.2      9.1          NW            54   \n",
       "4      7.6     16.1       2.8          5.6     10.6         SSE            50   \n",
       "\n",
       "  WindDir9am WindDir3pm WindSpeed9am  ...  Humidity3pm  Pressure9am  \\\n",
       "0         SW         NW            6  ...           29       1019.7   \n",
       "1          E          W            4  ...           36       1012.4   \n",
       "2          N        NNE            6  ...           69       1009.5   \n",
       "3        WNW          W           30  ...           56       1005.5   \n",
       "4        SSE        ESE           20  ...           49       1018.3   \n",
       "\n",
       "   Pressure3pm  Cloud9am  Cloud3pm  Temp9am  Temp3pm  RainToday  RISK_MM  \\\n",
       "0       1015.0         7         7     14.4     23.6         No      3.6   \n",
       "1       1008.4         5         3     17.5     25.7        Yes      3.6   \n",
       "2       1007.2         8         7     15.4     20.2        Yes     39.8   \n",
       "3       1007.0         2         7     13.5     14.1        Yes      2.8   \n",
       "4       1018.5         7         7     11.1     15.4        Yes      0.0   \n",
       "\n",
       "  RainTomorrow  \n",
       "0          Yes  \n",
       "1          Yes  \n",
       "2          Yes  \n",
       "3          Yes  \n",
       "4           No  \n",
       "\n",
       "[5 rows x 22 columns]"
      ]
     },
     "execution_count": 255,
     "metadata": {},
     "output_type": "execute_result"
    }
   ],
   "source": [
    "import s3fs\n",
    "import pyarrow.parquet as pq\n",
    "\n",
    "fs = s3fs.S3FileSystem(\n",
    "    anon=False,\n",
    "    # key=s3fs_config.aws_access_key_id,\n",
    "    # secret=s3fs_config.aws_secret_access_key,\n",
    "    use_ssl=False,\n",
    "    client_kwargs={\n",
    "        \"region_name\": \"us-east-1\",\n",
    "        \"endpoint_url\": \"http://localhost:9000\",\n",
    "        \"aws_access_key_id\": \"spai\",\n",
    "        \"aws_secret_access_key\": \"12345678\",\n",
    "        \"verify\": False,\n",
    "    },\n",
    ")\n",
    "\n",
    "content = fs.ls(\"devbucket/Weather.parquet\")[-1]\n",
    "\n",
    "path_to_s3_object = f\"s3://{content}\"\n",
    "dataset = pq.ParquetDataset(path_to_s3_object, filesystem=fs)\n",
    "table = dataset.read()\n",
    "df = table.to_pandas()\n",
    "df.head()"
   ]
  },
  {
   "cell_type": "code",
   "execution_count": 256,
   "metadata": {},
   "outputs": [
    {
     "data": {
      "text/html": [
       "<div>\n",
       "<style scoped>\n",
       "    .dataframe tbody tr th:only-of-type {\n",
       "        vertical-align: middle;\n",
       "    }\n",
       "\n",
       "    .dataframe tbody tr th {\n",
       "        vertical-align: top;\n",
       "    }\n",
       "\n",
       "    .dataframe thead th {\n",
       "        text-align: right;\n",
       "    }\n",
       "</style>\n",
       "<table border=\"1\" class=\"dataframe\">\n",
       "  <thead>\n",
       "    <tr style=\"text-align: right;\">\n",
       "      <th></th>\n",
       "      <th>MinTemp</th>\n",
       "      <th>MaxTemp</th>\n",
       "      <th>Rainfall</th>\n",
       "      <th>Evaporation</th>\n",
       "      <th>Sunshine</th>\n",
       "      <th>WindGustDir</th>\n",
       "      <th>WindGustSpeed</th>\n",
       "      <th>WindDir9am</th>\n",
       "      <th>WindDir3pm</th>\n",
       "      <th>WindSpeed9am</th>\n",
       "      <th>...</th>\n",
       "      <th>Humidity3pm</th>\n",
       "      <th>Pressure9am</th>\n",
       "      <th>Pressure3pm</th>\n",
       "      <th>Cloud9am</th>\n",
       "      <th>Cloud3pm</th>\n",
       "      <th>Temp9am</th>\n",
       "      <th>Temp3pm</th>\n",
       "      <th>RainToday</th>\n",
       "      <th>RISK_MM</th>\n",
       "      <th>RainTomorrow</th>\n",
       "    </tr>\n",
       "  </thead>\n",
       "  <tbody>\n",
       "    <tr>\n",
       "      <th>0</th>\n",
       "      <td>8.0</td>\n",
       "      <td>24.3</td>\n",
       "      <td>0.0</td>\n",
       "      <td>3.4</td>\n",
       "      <td>6.3</td>\n",
       "      <td>NW</td>\n",
       "      <td>30</td>\n",
       "      <td>SW</td>\n",
       "      <td>NW</td>\n",
       "      <td>6</td>\n",
       "      <td>...</td>\n",
       "      <td>29</td>\n",
       "      <td>1019.7</td>\n",
       "      <td>1015.0</td>\n",
       "      <td>7</td>\n",
       "      <td>7</td>\n",
       "      <td>14.4</td>\n",
       "      <td>23.6</td>\n",
       "      <td>No</td>\n",
       "      <td>3.6</td>\n",
       "      <td>Yes</td>\n",
       "    </tr>\n",
       "    <tr>\n",
       "      <th>1</th>\n",
       "      <td>14.0</td>\n",
       "      <td>26.9</td>\n",
       "      <td>3.6</td>\n",
       "      <td>4.4</td>\n",
       "      <td>9.7</td>\n",
       "      <td>ENE</td>\n",
       "      <td>39</td>\n",
       "      <td>E</td>\n",
       "      <td>W</td>\n",
       "      <td>4</td>\n",
       "      <td>...</td>\n",
       "      <td>36</td>\n",
       "      <td>1012.4</td>\n",
       "      <td>1008.4</td>\n",
       "      <td>5</td>\n",
       "      <td>3</td>\n",
       "      <td>17.5</td>\n",
       "      <td>25.7</td>\n",
       "      <td>Yes</td>\n",
       "      <td>3.6</td>\n",
       "      <td>Yes</td>\n",
       "    </tr>\n",
       "    <tr>\n",
       "      <th>2</th>\n",
       "      <td>13.7</td>\n",
       "      <td>23.4</td>\n",
       "      <td>3.6</td>\n",
       "      <td>5.8</td>\n",
       "      <td>3.3</td>\n",
       "      <td>NW</td>\n",
       "      <td>85</td>\n",
       "      <td>N</td>\n",
       "      <td>NNE</td>\n",
       "      <td>6</td>\n",
       "      <td>...</td>\n",
       "      <td>69</td>\n",
       "      <td>1009.5</td>\n",
       "      <td>1007.2</td>\n",
       "      <td>8</td>\n",
       "      <td>7</td>\n",
       "      <td>15.4</td>\n",
       "      <td>20.2</td>\n",
       "      <td>Yes</td>\n",
       "      <td>39.8</td>\n",
       "      <td>Yes</td>\n",
       "    </tr>\n",
       "    <tr>\n",
       "      <th>3</th>\n",
       "      <td>13.3</td>\n",
       "      <td>15.5</td>\n",
       "      <td>39.8</td>\n",
       "      <td>7.2</td>\n",
       "      <td>9.1</td>\n",
       "      <td>NW</td>\n",
       "      <td>54</td>\n",
       "      <td>WNW</td>\n",
       "      <td>W</td>\n",
       "      <td>30</td>\n",
       "      <td>...</td>\n",
       "      <td>56</td>\n",
       "      <td>1005.5</td>\n",
       "      <td>1007.0</td>\n",
       "      <td>2</td>\n",
       "      <td>7</td>\n",
       "      <td>13.5</td>\n",
       "      <td>14.1</td>\n",
       "      <td>Yes</td>\n",
       "      <td>2.8</td>\n",
       "      <td>Yes</td>\n",
       "    </tr>\n",
       "    <tr>\n",
       "      <th>4</th>\n",
       "      <td>7.6</td>\n",
       "      <td>16.1</td>\n",
       "      <td>2.8</td>\n",
       "      <td>5.6</td>\n",
       "      <td>10.6</td>\n",
       "      <td>SSE</td>\n",
       "      <td>50</td>\n",
       "      <td>SSE</td>\n",
       "      <td>ESE</td>\n",
       "      <td>20</td>\n",
       "      <td>...</td>\n",
       "      <td>49</td>\n",
       "      <td>1018.3</td>\n",
       "      <td>1018.5</td>\n",
       "      <td>7</td>\n",
       "      <td>7</td>\n",
       "      <td>11.1</td>\n",
       "      <td>15.4</td>\n",
       "      <td>Yes</td>\n",
       "      <td>0.0</td>\n",
       "      <td>No</td>\n",
       "    </tr>\n",
       "    <tr>\n",
       "      <th>...</th>\n",
       "      <td>...</td>\n",
       "      <td>...</td>\n",
       "      <td>...</td>\n",
       "      <td>...</td>\n",
       "      <td>...</td>\n",
       "      <td>...</td>\n",
       "      <td>...</td>\n",
       "      <td>...</td>\n",
       "      <td>...</td>\n",
       "      <td>...</td>\n",
       "      <td>...</td>\n",
       "      <td>...</td>\n",
       "      <td>...</td>\n",
       "      <td>...</td>\n",
       "      <td>...</td>\n",
       "      <td>...</td>\n",
       "      <td>...</td>\n",
       "      <td>...</td>\n",
       "      <td>...</td>\n",
       "      <td>...</td>\n",
       "      <td>...</td>\n",
       "    </tr>\n",
       "    <tr>\n",
       "      <th>361</th>\n",
       "      <td>9.0</td>\n",
       "      <td>30.7</td>\n",
       "      <td>0.0</td>\n",
       "      <td>7.6</td>\n",
       "      <td>12.1</td>\n",
       "      <td>NNW</td>\n",
       "      <td>76</td>\n",
       "      <td>SSE</td>\n",
       "      <td>NW</td>\n",
       "      <td>7</td>\n",
       "      <td>...</td>\n",
       "      <td>15</td>\n",
       "      <td>1016.1</td>\n",
       "      <td>1010.8</td>\n",
       "      <td>1</td>\n",
       "      <td>3</td>\n",
       "      <td>20.4</td>\n",
       "      <td>30.0</td>\n",
       "      <td>No</td>\n",
       "      <td>0.0</td>\n",
       "      <td>No</td>\n",
       "    </tr>\n",
       "    <tr>\n",
       "      <th>362</th>\n",
       "      <td>7.1</td>\n",
       "      <td>28.4</td>\n",
       "      <td>0.0</td>\n",
       "      <td>11.6</td>\n",
       "      <td>12.7</td>\n",
       "      <td>N</td>\n",
       "      <td>48</td>\n",
       "      <td>NNW</td>\n",
       "      <td>NNW</td>\n",
       "      <td>2</td>\n",
       "      <td>...</td>\n",
       "      <td>22</td>\n",
       "      <td>1020.0</td>\n",
       "      <td>1016.9</td>\n",
       "      <td>0</td>\n",
       "      <td>1</td>\n",
       "      <td>17.2</td>\n",
       "      <td>28.2</td>\n",
       "      <td>No</td>\n",
       "      <td>0.0</td>\n",
       "      <td>No</td>\n",
       "    </tr>\n",
       "    <tr>\n",
       "      <th>363</th>\n",
       "      <td>12.5</td>\n",
       "      <td>19.9</td>\n",
       "      <td>0.0</td>\n",
       "      <td>8.4</td>\n",
       "      <td>5.3</td>\n",
       "      <td>ESE</td>\n",
       "      <td>43</td>\n",
       "      <td>ENE</td>\n",
       "      <td>ENE</td>\n",
       "      <td>11</td>\n",
       "      <td>...</td>\n",
       "      <td>47</td>\n",
       "      <td>1024.0</td>\n",
       "      <td>1022.8</td>\n",
       "      <td>3</td>\n",
       "      <td>2</td>\n",
       "      <td>14.5</td>\n",
       "      <td>18.3</td>\n",
       "      <td>No</td>\n",
       "      <td>0.0</td>\n",
       "      <td>No</td>\n",
       "    </tr>\n",
       "    <tr>\n",
       "      <th>364</th>\n",
       "      <td>12.5</td>\n",
       "      <td>26.9</td>\n",
       "      <td>0.0</td>\n",
       "      <td>5.0</td>\n",
       "      <td>7.1</td>\n",
       "      <td>NW</td>\n",
       "      <td>46</td>\n",
       "      <td>SSW</td>\n",
       "      <td>WNW</td>\n",
       "      <td>6</td>\n",
       "      <td>...</td>\n",
       "      <td>39</td>\n",
       "      <td>1021.0</td>\n",
       "      <td>1016.2</td>\n",
       "      <td>6</td>\n",
       "      <td>7</td>\n",
       "      <td>15.8</td>\n",
       "      <td>25.9</td>\n",
       "      <td>No</td>\n",
       "      <td>0.0</td>\n",
       "      <td>No</td>\n",
       "    </tr>\n",
       "    <tr>\n",
       "      <th>365</th>\n",
       "      <td>12.3</td>\n",
       "      <td>30.2</td>\n",
       "      <td>0.0</td>\n",
       "      <td>6.0</td>\n",
       "      <td>12.6</td>\n",
       "      <td>NW</td>\n",
       "      <td>78</td>\n",
       "      <td>NW</td>\n",
       "      <td>WNW</td>\n",
       "      <td>31</td>\n",
       "      <td>...</td>\n",
       "      <td>13</td>\n",
       "      <td>1009.6</td>\n",
       "      <td>1009.2</td>\n",
       "      <td>1</td>\n",
       "      <td>1</td>\n",
       "      <td>23.8</td>\n",
       "      <td>28.6</td>\n",
       "      <td>No</td>\n",
       "      <td>0.0</td>\n",
       "      <td>No</td>\n",
       "    </tr>\n",
       "  </tbody>\n",
       "</table>\n",
       "<p>366 rows × 22 columns</p>\n",
       "</div>"
      ],
      "text/plain": [
       "     MinTemp  MaxTemp  Rainfall  Evaporation Sunshine WindGustDir  \\\n",
       "0        8.0     24.3       0.0          3.4      6.3          NW   \n",
       "1       14.0     26.9       3.6          4.4      9.7         ENE   \n",
       "2       13.7     23.4       3.6          5.8      3.3          NW   \n",
       "3       13.3     15.5      39.8          7.2      9.1          NW   \n",
       "4        7.6     16.1       2.8          5.6     10.6         SSE   \n",
       "..       ...      ...       ...          ...      ...         ...   \n",
       "361      9.0     30.7       0.0          7.6     12.1         NNW   \n",
       "362      7.1     28.4       0.0         11.6     12.7           N   \n",
       "363     12.5     19.9       0.0          8.4      5.3         ESE   \n",
       "364     12.5     26.9       0.0          5.0      7.1          NW   \n",
       "365     12.3     30.2       0.0          6.0     12.6          NW   \n",
       "\n",
       "    WindGustSpeed WindDir9am WindDir3pm WindSpeed9am  ...  Humidity3pm  \\\n",
       "0              30         SW         NW            6  ...           29   \n",
       "1              39          E          W            4  ...           36   \n",
       "2              85          N        NNE            6  ...           69   \n",
       "3              54        WNW          W           30  ...           56   \n",
       "4              50        SSE        ESE           20  ...           49   \n",
       "..            ...        ...        ...          ...  ...          ...   \n",
       "361            76        SSE         NW            7  ...           15   \n",
       "362            48        NNW        NNW            2  ...           22   \n",
       "363            43        ENE        ENE           11  ...           47   \n",
       "364            46        SSW        WNW            6  ...           39   \n",
       "365            78         NW        WNW           31  ...           13   \n",
       "\n",
       "     Pressure9am  Pressure3pm  Cloud9am  Cloud3pm  Temp9am  Temp3pm  \\\n",
       "0         1019.7       1015.0         7         7     14.4     23.6   \n",
       "1         1012.4       1008.4         5         3     17.5     25.7   \n",
       "2         1009.5       1007.2         8         7     15.4     20.2   \n",
       "3         1005.5       1007.0         2         7     13.5     14.1   \n",
       "4         1018.3       1018.5         7         7     11.1     15.4   \n",
       "..           ...          ...       ...       ...      ...      ...   \n",
       "361       1016.1       1010.8         1         3     20.4     30.0   \n",
       "362       1020.0       1016.9         0         1     17.2     28.2   \n",
       "363       1024.0       1022.8         3         2     14.5     18.3   \n",
       "364       1021.0       1016.2         6         7     15.8     25.9   \n",
       "365       1009.6       1009.2         1         1     23.8     28.6   \n",
       "\n",
       "     RainToday  RISK_MM RainTomorrow  \n",
       "0           No      3.6          Yes  \n",
       "1          Yes      3.6          Yes  \n",
       "2          Yes     39.8          Yes  \n",
       "3          Yes      2.8          Yes  \n",
       "4          Yes      0.0           No  \n",
       "..         ...      ...          ...  \n",
       "361         No      0.0           No  \n",
       "362         No      0.0           No  \n",
       "363         No      0.0           No  \n",
       "364         No      0.0           No  \n",
       "365         No      0.0           No  \n",
       "\n",
       "[366 rows x 22 columns]"
      ]
     },
     "execution_count": 256,
     "metadata": {},
     "output_type": "execute_result"
    }
   ],
   "source": [
    "minio.read(\"Weather.parquet\")"
   ]
  },
  {
   "cell_type": "markdown",
   "metadata": {},
   "source": [
    "# Storage CRUD Operations\n"
   ]
  },
  {
   "cell_type": "code",
   "execution_count": 218,
   "metadata": {},
   "outputs": [
    {
     "data": {
      "text/plain": [
       "[Bucket('devbucket')]"
      ]
     },
     "execution_count": 218,
     "metadata": {},
     "output_type": "execute_result"
    }
   ],
   "source": [
    "s3_client = minio.client\n",
    "s3_client.list_buckets()"
   ]
  },
  {
   "cell_type": "code",
   "execution_count": null,
   "metadata": {},
   "outputs": [],
   "source": [
    "import rasterio as rio\n",
    "\n",
    "# Assuming s3_client is already configured and connected\n",
    "try:\n",
    "    # Get the object from devbucket\n",
    "    response = s3_client.get_object(\"devbucket\", \"tif/S2L2A_2019-06-02.tif\")\n",
    "\n",
    "    # Write the file data to a local file\n",
    "    with open(\"local_filename.tif\", \"wb\") as file:\n",
    "        for d in response.stream(32 * 1024):\n",
    "            file.write(d)\n",
    "\n",
    "    print(\"File downloaded successfully.\")\n",
    "finally:\n",
    "    response.close()\n",
    "    response.release_conn()\n",
    "\n",
    "# Now, try to open the image with rasterio\n",
    "try:\n",
    "    with rio.open(\"local_filename.tif\") as dataset:\n",
    "        print(dataset.meta)\n",
    "except rio.errors.RasterioIOError as e:\n",
    "    print(e)"
   ]
  },
  {
   "cell_type": "code",
   "execution_count": null,
   "metadata": {},
   "outputs": [],
   "source": [
    "try:\n",
    "    with rio.open(\"data/S2L2A_2019-06-02.tif\") as dataset:\n",
    "        print(dataset.meta)\n",
    "except rio.errors.RasterioIOError as e:\n",
    "    print(e)"
   ]
  },
  {
   "cell_type": "code",
   "execution_count": null,
   "metadata": {},
   "outputs": [],
   "source": [
    "s3_client.fput_object(\n",
    "    \"devbucket\", \"tif/S2L2A_2019-06-02.tif\", \"data/S2L2A_2019-06-02.tif\"\n",
    ")"
   ]
  },
  {
   "cell_type": "code",
   "execution_count": null,
   "metadata": {},
   "outputs": [],
   "source": [
    "content_type = \"image/tiff\"\n",
    "prefix = \"tif/\"\n",
    "name = \"S2L2A_2019-06-02.tif\"\n",
    "dst_path = f\"{prefix}{name}\"\n",
    "image_path = \"data/S2L2A_2019-06-02.tif\"\n",
    "\n",
    "# Open the TIFF file in binary mode and upload it to the MinIO bucket\n",
    "with open(image_path, \"rb\") as image_file:\n",
    "    file_stat = os.stat(image_path)\n",
    "    # Upload the file using put_object\n",
    "    s3_client.put_object(\n",
    "        bucket_name=\"devbucket\",\n",
    "        object_name=dst_path,\n",
    "        data=image_file,\n",
    "        length=file_stat.st_size,  # size of the file to upload\n",
    "        content_type=content_type,\n",
    "    )\n",
    "\n",
    "print(f\"Uploaded TIFF image to {dst_path}\")"
   ]
  },
  {
   "cell_type": "markdown",
   "metadata": {},
   "source": [
    "## List Objects\n"
   ]
  },
  {
   "cell_type": "code",
   "execution_count": 6,
   "metadata": {},
   "outputs": [
    {
     "data": {
      "text/plain": [
       "['verges.geojson',\n",
       " 'verges_3.geojson',\n",
       " 'growth.json',\n",
       " 'S2L2A_2019-06-02.tif',\n",
       " 'growth_2.json',\n",
       " 'growth_3.json']"
      ]
     },
     "execution_count": 6,
     "metadata": {},
     "output_type": "execute_result"
    }
   ],
   "source": [
    "data.list()"
   ]
  },
  {
   "cell_type": "code",
   "execution_count": 7,
   "metadata": {},
   "outputs": [
    {
     "data": {
      "text/plain": [
       "['geojson/verges.geojson',\n",
       " 'geojson/verges_2.geojson',\n",
       " 'geojson/verges_3.geojson',\n",
       " 'geojson/verges_4.geojson',\n",
       " 'image-object-name.tif',\n",
       " 'json/config.json',\n",
       " 'json/growth_2.json',\n",
       " 'json/growth_3.json',\n",
       " 'json/growth_4.json',\n",
       " 'png/logo.png',\n",
       " 'tif/S2L2A_2019-06-02.tif',\n",
       " 'tif/S2L2A_2019-06-02_copy.tif',\n",
       " 'tif/S2L2A_2024-01-07.tif']"
      ]
     },
     "execution_count": 7,
     "metadata": {},
     "output_type": "execute_result"
    }
   ],
   "source": [
    "minio.list()"
   ]
  },
  {
   "cell_type": "markdown",
   "metadata": {},
   "source": [
    "## Create and Update Objects\n"
   ]
  },
  {
   "cell_type": "markdown",
   "metadata": {},
   "source": [
    "JSON FROM PATH\n"
   ]
  },
  {
   "cell_type": "code",
   "execution_count": 8,
   "metadata": {},
   "outputs": [
    {
     "data": {
      "text/plain": [
       "'data/growth.json'"
      ]
     },
     "execution_count": 8,
     "metadata": {},
     "output_type": "execute_result"
    }
   ],
   "source": [
    "data.create(data=\"source/growth.json\", name=\"growth.json\")"
   ]
  },
  {
   "cell_type": "code",
   "execution_count": 9,
   "metadata": {},
   "outputs": [
    {
     "data": {
      "text/plain": [
       "'json/growth.json'"
      ]
     },
     "execution_count": 9,
     "metadata": {},
     "output_type": "execute_result"
    }
   ],
   "source": [
    "minio.create(data=\"data/growth.json\", name=\"growth.json\")"
   ]
  },
  {
   "cell_type": "markdown",
   "metadata": {},
   "source": [
    "JSON FROM DICT\n"
   ]
  },
  {
   "cell_type": "code",
   "execution_count": 10,
   "metadata": {},
   "outputs": [],
   "source": [
    "growth = {\n",
    "    \"Not Vegetation Ha\": {\n",
    "        \"1686873600000\": 2172.52,\n",
    "        \"1686873600000\": 2172.52,\n",
    "        \"1687737600000\": 2095.39,\n",
    "    },\n",
    "    \"Vegetation Ha\": {\n",
    "        \"1686873600000\": 316.05,\n",
    "        \"1686873600000\": 316.05,\n",
    "        \"1687737600000\": 393.18,\n",
    "    },\n",
    "    \"Total\": {\n",
    "        \"1686873600000\": 2488.57,\n",
    "        \"1686873600000\": 2488.57,\n",
    "        \"1687737600000\": 2488.57,\n",
    "    },\n",
    "}"
   ]
  },
  {
   "cell_type": "code",
   "execution_count": 11,
   "metadata": {},
   "outputs": [
    {
     "data": {
      "text/plain": [
       "'data/growth_2.json'"
      ]
     },
     "execution_count": 11,
     "metadata": {},
     "output_type": "execute_result"
    }
   ],
   "source": [
    "data.create(data=growth, name=\"growth_2.json\")"
   ]
  },
  {
   "cell_type": "code",
   "execution_count": 12,
   "metadata": {},
   "outputs": [
    {
     "data": {
      "text/plain": [
       "'json/growth_2.json'"
      ]
     },
     "execution_count": 12,
     "metadata": {},
     "output_type": "execute_result"
    }
   ],
   "source": [
    "minio.create(data=growth, name=\"growth_2.json\")"
   ]
  },
  {
   "cell_type": "markdown",
   "metadata": {},
   "source": [
    "JSON FROM DATAFRAME\n"
   ]
  },
  {
   "cell_type": "code",
   "execution_count": 13,
   "metadata": {},
   "outputs": [],
   "source": [
    "df = pd.DataFrame(growth)"
   ]
  },
  {
   "cell_type": "code",
   "execution_count": 14,
   "metadata": {},
   "outputs": [
    {
     "data": {
      "text/plain": [
       "'data/growth_3.json'"
      ]
     },
     "execution_count": 14,
     "metadata": {},
     "output_type": "execute_result"
    }
   ],
   "source": [
    "data.create(data=df, name=\"growth_3.json\")"
   ]
  },
  {
   "cell_type": "code",
   "execution_count": 15,
   "metadata": {},
   "outputs": [
    {
     "data": {
      "text/plain": [
       "'json/growth_3.json'"
      ]
     },
     "execution_count": 15,
     "metadata": {},
     "output_type": "execute_result"
    }
   ],
   "source": [
    "minio.create(data=df, name=\"growth_3.json\")"
   ]
  },
  {
   "cell_type": "markdown",
   "metadata": {},
   "source": [
    "GEOJSON FROM PATH\n"
   ]
  },
  {
   "cell_type": "code",
   "execution_count": 17,
   "metadata": {},
   "outputs": [
    {
     "data": {
      "text/plain": [
       "'data/verges.geojson'"
      ]
     },
     "execution_count": 17,
     "metadata": {},
     "output_type": "execute_result"
    }
   ],
   "source": [
    "data.create(data=\"source/verges.geojson\", name=\"verges.geojson\")"
   ]
  },
  {
   "cell_type": "code",
   "execution_count": 18,
   "metadata": {},
   "outputs": [
    {
     "data": {
      "text/plain": [
       "'geojson/verges.geojson'"
      ]
     },
     "execution_count": 18,
     "metadata": {},
     "output_type": "execute_result"
    }
   ],
   "source": [
    "minio.create(data=\"data/verges.geojson\", name=\"verges.geojson\")"
   ]
  },
  {
   "cell_type": "markdown",
   "metadata": {},
   "source": [
    "GEOJSON FROM DICT\n"
   ]
  },
  {
   "cell_type": "code",
   "execution_count": 19,
   "metadata": {},
   "outputs": [],
   "source": [
    "verges = {\n",
    "    \"type\": \"FeatureCollection\",\n",
    "    \"features\": [\n",
    "        {\n",
    "            \"type\": \"Feature\",\n",
    "            \"properties\": {},\n",
    "            \"geometry\": {\n",
    "                \"type\": \"Polygon\",\n",
    "                \"coordinates\": [\n",
    "                    [\n",
    "                        [3.0439, 42.076056],\n",
    "                        [3.017464, 42.052607],\n",
    "                        [3.0439, 42.032209],\n",
    "                        [3.079262, 42.055156],\n",
    "                        [3.0439, 42.076056],\n",
    "                    ]\n",
    "                ],\n",
    "            },\n",
    "        }\n",
    "    ],\n",
    "}"
   ]
  },
  {
   "cell_type": "code",
   "execution_count": 20,
   "metadata": {},
   "outputs": [
    {
     "data": {
      "text/plain": [
       "'data/verges_2.geojson'"
      ]
     },
     "execution_count": 20,
     "metadata": {},
     "output_type": "execute_result"
    }
   ],
   "source": [
    "data.create(data=verges, name=\"verges_2.geojson\")"
   ]
  },
  {
   "cell_type": "code",
   "execution_count": 21,
   "metadata": {},
   "outputs": [
    {
     "data": {
      "text/plain": [
       "'geojson/verges_2.geojson'"
      ]
     },
     "execution_count": 21,
     "metadata": {},
     "output_type": "execute_result"
    }
   ],
   "source": [
    "minio.create(data=verges, name=\"verges_2.geojson\")"
   ]
  },
  {
   "cell_type": "markdown",
   "metadata": {},
   "source": [
    "TIF FROM PATH\n"
   ]
  },
  {
   "cell_type": "code",
   "execution_count": 22,
   "metadata": {},
   "outputs": [
    {
     "data": {
      "text/plain": [
       "'data/S2L2A_2019-06-02.tif'"
      ]
     },
     "execution_count": 22,
     "metadata": {},
     "output_type": "execute_result"
    }
   ],
   "source": [
    "data.create(data=\"source/S2L2A_2019-06-02.tif\", name=\"S2L2A_2019-06-02.tif\")"
   ]
  },
  {
   "cell_type": "code",
   "execution_count": null,
   "metadata": {},
   "outputs": [],
   "source": [
    "minio.create(data=\"data/S2L2A_2019-06-02.tif\", name=\"S2L2A_2019-06-02_copy.tif\")"
   ]
  },
  {
   "cell_type": "markdown",
   "metadata": {},
   "source": [
    "## Retrieve Objects\n"
   ]
  },
  {
   "cell_type": "markdown",
   "metadata": {},
   "source": [
    "READ JSON\n"
   ]
  },
  {
   "cell_type": "code",
   "execution_count": 24,
   "metadata": {},
   "outputs": [
    {
     "data": {
      "text/html": [
       "<div>\n",
       "<style scoped>\n",
       "    .dataframe tbody tr th:only-of-type {\n",
       "        vertical-align: middle;\n",
       "    }\n",
       "\n",
       "    .dataframe tbody tr th {\n",
       "        vertical-align: top;\n",
       "    }\n",
       "\n",
       "    .dataframe thead th {\n",
       "        text-align: right;\n",
       "    }\n",
       "</style>\n",
       "<table border=\"1\" class=\"dataframe\">\n",
       "  <thead>\n",
       "    <tr style=\"text-align: right;\">\n",
       "      <th></th>\n",
       "      <th>Not Vegetation Ha</th>\n",
       "      <th>Vegetation Ha</th>\n",
       "      <th>Total</th>\n",
       "    </tr>\n",
       "  </thead>\n",
       "  <tbody>\n",
       "    <tr>\n",
       "      <th>2023-06-16</th>\n",
       "      <td>2172.52</td>\n",
       "      <td>316.05</td>\n",
       "      <td>2488.57</td>\n",
       "    </tr>\n",
       "    <tr>\n",
       "      <th>2023-06-26</th>\n",
       "      <td>2095.39</td>\n",
       "      <td>393.18</td>\n",
       "      <td>2488.57</td>\n",
       "    </tr>\n",
       "  </tbody>\n",
       "</table>\n",
       "</div>"
      ],
      "text/plain": [
       "            Not Vegetation Ha  Vegetation Ha    Total\n",
       "2023-06-16            2172.52         316.05  2488.57\n",
       "2023-06-26            2095.39         393.18  2488.57"
      ]
     },
     "execution_count": 24,
     "metadata": {},
     "output_type": "execute_result"
    }
   ],
   "source": [
    "data.read(\"growth.json\")"
   ]
  },
  {
   "cell_type": "code",
   "execution_count": 25,
   "metadata": {},
   "outputs": [
    {
     "data": {
      "text/html": [
       "<div>\n",
       "<style scoped>\n",
       "    .dataframe tbody tr th:only-of-type {\n",
       "        vertical-align: middle;\n",
       "    }\n",
       "\n",
       "    .dataframe tbody tr th {\n",
       "        vertical-align: top;\n",
       "    }\n",
       "\n",
       "    .dataframe thead th {\n",
       "        text-align: right;\n",
       "    }\n",
       "</style>\n",
       "<table border=\"1\" class=\"dataframe\">\n",
       "  <thead>\n",
       "    <tr style=\"text-align: right;\">\n",
       "      <th></th>\n",
       "      <th>Not Vegetation Ha</th>\n",
       "      <th>Vegetation Ha</th>\n",
       "      <th>Total</th>\n",
       "    </tr>\n",
       "  </thead>\n",
       "  <tbody>\n",
       "    <tr>\n",
       "      <th>2023-06-16</th>\n",
       "      <td>2172.52</td>\n",
       "      <td>316.05</td>\n",
       "      <td>2488.57</td>\n",
       "    </tr>\n",
       "    <tr>\n",
       "      <th>2023-06-26</th>\n",
       "      <td>2095.39</td>\n",
       "      <td>393.18</td>\n",
       "      <td>2488.57</td>\n",
       "    </tr>\n",
       "  </tbody>\n",
       "</table>\n",
       "</div>"
      ],
      "text/plain": [
       "            Not Vegetation Ha  Vegetation Ha    Total\n",
       "2023-06-16            2172.52         316.05  2488.57\n",
       "2023-06-26            2095.39         393.18  2488.57"
      ]
     },
     "execution_count": 25,
     "metadata": {},
     "output_type": "execute_result"
    }
   ],
   "source": [
    "minio.read(\"growth.json\")"
   ]
  },
  {
   "cell_type": "markdown",
   "metadata": {},
   "source": [
    "READ GEOJSON\n"
   ]
  },
  {
   "cell_type": "code",
   "execution_count": 26,
   "metadata": {},
   "outputs": [
    {
     "data": {
      "text/html": [
       "<div>\n",
       "<style scoped>\n",
       "    .dataframe tbody tr th:only-of-type {\n",
       "        vertical-align: middle;\n",
       "    }\n",
       "\n",
       "    .dataframe tbody tr th {\n",
       "        vertical-align: top;\n",
       "    }\n",
       "\n",
       "    .dataframe thead th {\n",
       "        text-align: right;\n",
       "    }\n",
       "</style>\n",
       "<table border=\"1\" class=\"dataframe\">\n",
       "  <thead>\n",
       "    <tr style=\"text-align: right;\">\n",
       "      <th></th>\n",
       "      <th>geometry</th>\n",
       "    </tr>\n",
       "  </thead>\n",
       "  <tbody>\n",
       "    <tr>\n",
       "      <th>0</th>\n",
       "      <td>POLYGON ((3.04390 42.07606, 3.01746 42.05261, ...</td>\n",
       "    </tr>\n",
       "  </tbody>\n",
       "</table>\n",
       "</div>"
      ],
      "text/plain": [
       "                                            geometry\n",
       "0  POLYGON ((3.04390 42.07606, 3.01746 42.05261, ..."
      ]
     },
     "execution_count": 26,
     "metadata": {},
     "output_type": "execute_result"
    }
   ],
   "source": [
    "data.read(\"verges.geojson\")"
   ]
  },
  {
   "cell_type": "code",
   "execution_count": 27,
   "metadata": {},
   "outputs": [
    {
     "data": {
      "text/html": [
       "<div>\n",
       "<style scoped>\n",
       "    .dataframe tbody tr th:only-of-type {\n",
       "        vertical-align: middle;\n",
       "    }\n",
       "\n",
       "    .dataframe tbody tr th {\n",
       "        vertical-align: top;\n",
       "    }\n",
       "\n",
       "    .dataframe thead th {\n",
       "        text-align: right;\n",
       "    }\n",
       "</style>\n",
       "<table border=\"1\" class=\"dataframe\">\n",
       "  <thead>\n",
       "    <tr style=\"text-align: right;\">\n",
       "      <th></th>\n",
       "      <th>geometry</th>\n",
       "    </tr>\n",
       "  </thead>\n",
       "  <tbody>\n",
       "    <tr>\n",
       "      <th>0</th>\n",
       "      <td>POLYGON ((3.04390 42.07606, 3.01746 42.05261, ...</td>\n",
       "    </tr>\n",
       "  </tbody>\n",
       "</table>\n",
       "</div>"
      ],
      "text/plain": [
       "                                            geometry\n",
       "0  POLYGON ((3.04390 42.07606, 3.01746 42.05261, ..."
      ]
     },
     "execution_count": 27,
     "metadata": {},
     "output_type": "execute_result"
    }
   ],
   "source": [
    "minio.read(\"verges.geojson\")"
   ]
  },
  {
   "cell_type": "markdown",
   "metadata": {},
   "source": [
    "READ TIF\n"
   ]
  },
  {
   "cell_type": "code",
   "execution_count": 28,
   "metadata": {},
   "outputs": [
    {
     "data": {
      "text/plain": [
       "<open DatasetReader name='data/S2L2A_2019-06-02.tif' mode='r'>"
      ]
     },
     "execution_count": 28,
     "metadata": {},
     "output_type": "execute_result"
    }
   ],
   "source": [
    "data.read(\"S2L2A_2019-06-02.tif\")"
   ]
  },
  {
   "cell_type": "code",
   "execution_count": null,
   "metadata": {},
   "outputs": [],
   "source": [
    "minio.read(\"S2L2A_2019-06-02.tif\")"
   ]
  }
 ],
 "metadata": {
  "kernelspec": {
   "display_name": "spai",
   "language": "python",
   "name": "python3"
  },
  "language_info": {
   "codemirror_mode": {
    "name": "ipython",
    "version": 3
   },
   "file_extension": ".py",
   "mimetype": "text/x-python",
   "name": "python",
   "nbconvert_exporter": "python",
   "pygments_lexer": "ipython3",
   "version": "3.8.20"
  }
 },
 "nbformat": 4,
 "nbformat_minor": 2
}
