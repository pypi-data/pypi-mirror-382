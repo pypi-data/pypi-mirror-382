{
 "cells": [
  {
   "cell_type": "code",
   "execution_count": 1,
   "metadata": {},
   "outputs": [],
   "source": [
    "%load_ext autoreload\n",
    "%autoreload 2"
   ]
  },
  {
   "cell_type": "code",
   "execution_count": 2,
   "metadata": {},
   "outputs": [
    {
     "data": {
      "text/plain": [
       "True"
      ]
     },
     "execution_count": 2,
     "metadata": {},
     "output_type": "execute_result"
    }
   ],
   "source": [
    "from dotenv import load_dotenv\n",
    "\n",
    "load_dotenv()"
   ]
  },
  {
   "cell_type": "code",
   "execution_count": 3,
   "metadata": {},
   "outputs": [
    {
     "data": {
      "text/plain": [
       "array([ 2.0052191 , 41.38238988,  2.17002873, 41.48530451])"
      ]
     },
     "execution_count": 3,
     "metadata": {},
     "output_type": "execute_result"
    }
   ],
   "source": [
    "import geopandas as gpd\n",
    "\n",
    "aoi = {\n",
    "  \"type\": \"FeatureCollection\",\n",
    "  \"features\": [\n",
    "    {\n",
    "      \"type\": \"Feature\",\n",
    "      \"properties\": {},\n",
    "      \"geometry\": {\n",
    "        \"coordinates\": [\n",
    "          [\n",
    "            [\n",
    "              2.005219103610955,\n",
    "              41.48530450682617\n",
    "            ],\n",
    "            [\n",
    "              2.005219103610955,\n",
    "              41.38238988441918\n",
    "            ],\n",
    "            [\n",
    "              2.170028728650209,\n",
    "              41.38238988441918\n",
    "            ],\n",
    "            [\n",
    "              2.170028728650209,\n",
    "              41.48530450682617\n",
    "            ],\n",
    "            [\n",
    "              2.005219103610955,\n",
    "              41.48530450682617\n",
    "            ]\n",
    "          ]\n",
    "        ],\n",
    "        \"type\": \"Polygon\"\n",
    "      }\n",
    "    }\n",
    "  ]\n",
    "}\n",
    "\n",
    "gdf = gpd.GeoDataFrame.from_features(aoi, crs=\"EPSG:4326\")\n",
    "gdf.total_bounds"
   ]
  },
  {
   "cell_type": "markdown",
   "metadata": {},
   "source": [
    "TODO: change download to explore, faster and less cost"
   ]
  },
  {
   "cell_type": "code",
   "execution_count": 9,
   "metadata": {},
   "outputs": [
    {
     "data": {
      "text/html": [
       "<div>\n",
       "<style scoped>\n",
       "    .dataframe tbody tr th:only-of-type {\n",
       "        vertical-align: middle;\n",
       "    }\n",
       "\n",
       "    .dataframe tbody tr th {\n",
       "        vertical-align: top;\n",
       "    }\n",
       "\n",
       "    .dataframe thead th {\n",
       "        text-align: right;\n",
       "    }\n",
       "</style>\n",
       "<table border=\"1\" class=\"dataframe\">\n",
       "  <thead>\n",
       "    <tr style=\"text-align: right;\">\n",
       "      <th></th>\n",
       "      <th>geometry</th>\n",
       "    </tr>\n",
       "  </thead>\n",
       "  <tbody>\n",
       "    <tr>\n",
       "      <th>0</th>\n",
       "      <td>POLYGON ((-3.51792 40.31198, -3.51792 40.64373...</td>\n",
       "    </tr>\n",
       "  </tbody>\n",
       "</table>\n",
       "</div>"
      ],
      "text/plain": [
       "                                            geometry\n",
       "0  POLYGON ((-3.51792 40.31198, -3.51792 40.64373..."
      ]
     },
     "execution_count": 9,
     "metadata": {},
     "output_type": "execute_result"
    }
   ],
   "source": [
    "from spai.data.satellite import utils\n",
    "\n",
    "locations = utils.get_box_or_gdfs_by_place_name(\"Madrid\")  # returns a list of dicts like this: [ {'name': 'Fraga, Catalunya', 'gdf': <gpd.GeoDataFrame object>}, ...]\n",
    "locations[0]['gdf']"
   ]
  },
  {
   "cell_type": "code",
   "execution_count": 10,
   "metadata": {},
   "outputs": [
    {
     "data": {
      "application/vnd.jupyter.widget-view+json": {
       "model_id": "b7ed94294ed84ec8babb242123af3c60",
       "version_major": 2,
       "version_minor": 0
      },
      "text/plain": [
       "Map(center=[41.46183613708533, 2.058000718868186], controls=(ZoomControl(options=['position', 'zoom_in_text', …"
      ]
     },
     "metadata": {},
     "output_type": "display_data"
    },
    {
     "name": "stdout",
     "output_type": "stream",
     "text": [
      "{'id': '0', 'type': 'Feature', 'properties': {}, 'geometry': {'type': 'Polygon', 'coordinates': [[[-3.5179163, 40.3119774], [-3.5179163, 40.6437293], [-3.8889539, 40.6437293], [-3.8889539, 40.3119774], [-3.5179163, 40.3119774]]]}}\n"
     ]
    }
   ],
   "source": [
    "import ipywidgets\n",
    "import ipyleaflet\n",
    "from ipyleaflet import Map, basemaps, basemap_to_tiles\n",
    "from geopandas import GeoSeries\n",
    "\n",
    "m = Map(\n",
    "    basemap=basemap_to_tiles(basemaps.OpenStreetMap.Mapnik),\n",
    "    center=(41.46183613708533, 2.058000718868186),\n",
    "    zoom=3\n",
    "    )\n",
    "\n",
    "# Add a custom zoom slider\n",
    "zoom_slider = ipywidgets.IntSlider(description=\"Zoom level:\", min=1, max=10, value=6)\n",
    "ipywidgets.jslink((zoom_slider, \"value\"), (m, \"zoom\"))\n",
    "widget_control1 = ipyleaflet.WidgetControl(widget=zoom_slider, position=\"topright\")\n",
    "m.add_control(widget_control1)\n",
    "\n",
    "selected_geodata = None\n",
    "def handle_click(event, feature, id, properties):\n",
    "    global selected_geodata\n",
    "    selected_geodata = feature\n",
    "    print(feature)\n",
    "\n",
    "# Add gdfs to map\n",
    "geodata_mapping = {}\n",
    "for idx,location in enumerate(locations):\n",
    "    geodata = ipyleaflet.GeoData(\n",
    "        geo_dataframe=location[\"gdf\"],\n",
    "        style={\n",
    "            \"color\": \"blue\",\n",
    "            \"opacity\": 1,\n",
    "            \"weight\": 1.9,\n",
    "            \"fillOpacity\": 0.5,\n",
    "        },\n",
    "        hover_style={\"fillColor\": \"#b08a3e\", \"fillOpacity\": 0.9},\n",
    "\n",
    "    )\n",
    "    geodata.on_click(handle_click)\n",
    "    m.add_layer(geodata)\n",
    "    # add a marker with location name for each location\n",
    "    # centroid = location[\"gdf\"][\"geometry\"].centroid\n",
    "    # marker = ipyleaflet.Marker(location=(centroid.y[0], centroid.x[0]), title=location[\"name\"] if location[\"name\"] else \"Unknown\")\n",
    "    # m.add_layer(marker)\n",
    "\n",
    "# add a marker with location name for each location\n",
    "# for location in locations:\n",
    "#     centroid = location[\"gdf\"][\"geometry\"].centroid\n",
    "#     marker = ipyleaflet.Marker(location=(centroid.y[0], centroid.x[0]), title=location[\"name\"] if location[\"name\"] else \"Unknown\")\n",
    "#     m.add_layer(marker)\n",
    "\n",
    "# def handle_interaction(**kwargs):\n",
    "#     print(kwargs)\n",
    "#     if kwargs.get('type') == 'click':\n",
    "#         print(kwargs.get('coordinates'))\n",
    "#         selected_layer = kwargs.get('coordinates')\n",
    "#         # check if coordinates are inside any of the gdfs\n",
    "# m.on_interaction(handle_interaction)\n",
    "m"
   ]
  },
  {
   "cell_type": "code",
   "execution_count": 11,
   "metadata": {},
   "outputs": [
    {
     "data": {
      "text/plain": [
       "{'id': '0',\n",
       " 'type': 'Feature',\n",
       " 'properties': {},\n",
       " 'geometry': {'type': 'Polygon',\n",
       "  'coordinates': [[[-3.5179163, 40.3119774],\n",
       "    [-3.5179163, 40.6437293],\n",
       "    [-3.8889539, 40.6437293],\n",
       "    [-3.8889539, 40.3119774],\n",
       "    [-3.5179163, 40.3119774]]]}}"
      ]
     },
     "execution_count": 11,
     "metadata": {},
     "output_type": "execute_result"
    }
   ],
   "source": [
    "selected_geodata"
   ]
  },
  {
   "attachments": {},
   "cell_type": "markdown",
   "metadata": {},
   "source": [
    "### Explore available images"
   ]
  },
  {
   "cell_type": "code",
   "execution_count": 12,
   "metadata": {},
   "outputs": [],
   "source": [
    "# from spai.data.satellite.utils import get_bbox_from_location_name\n",
    "\n",
    "# bbox = get_bbox_from_location_name(\"Barcelona\")\n",
    "# bbox"
   ]
  },
  {
   "cell_type": "code",
   "execution_count": 13,
   "metadata": {},
   "outputs": [
    {
     "data": {
      "text/plain": [
       "[{'id': 'S2B_MSIL1C_20230420T104619_N0509_R051_T31TDF_20230420T125145',\n",
       "  'thumbnail': 'https://roda.sentinel-hub.com/sentinel-s2-l1c/tiles/31/T/DF/2023/4/20/0/preview.jpg',\n",
       "  'date': '2023-04-20T10:59:35Z',\n",
       "  'cloud_cover': 0.0},\n",
       " {'id': 'S2A_MSIL1C_20230412T103621_N0509_R008_T31TDF_20230412T155912',\n",
       "  'thumbnail': 'https://roda.sentinel-hub.com/sentinel-s2-l1c/tiles/31/T/DF/2023/4/12/0/preview.jpg',\n",
       "  'date': '2023-04-12T10:49:41Z',\n",
       "  'cloud_cover': 0.0},\n",
       " {'id': 'S2A_MSIL1C_20230402T103621_N0509_R008_T31TDF_20230402T160048',\n",
       "  'thumbnail': 'https://roda.sentinel-hub.com/sentinel-s2-l1c/tiles/31/T/DF/2023/4/2/0/preview.jpg',\n",
       "  'date': '2023-04-02T10:49:40Z',\n",
       "  'cloud_cover': 0.1}]"
      ]
     },
     "execution_count": 13,
     "metadata": {},
     "output_type": "execute_result"
    }
   ],
   "source": [
    "from spai.data.satellite import explore_satellite_images\n",
    "\n",
    "# images = explore_satellite_images(\"Barcelona\", (\"2023-04-01\", \"2023-05-01\"), cloud_cover=0.2)\n",
    "\n",
    "bbox = (2.02846789, 41.27036258,  2.27905924, 41.45938995)\n",
    "images = explore_satellite_images(bbox, (\"2023-04-01\", \"2023-05-01\"), cloud_cover=0.2)\n",
    "\n",
    "images"
   ]
  },
  {
   "attachments": {},
   "cell_type": "markdown",
   "metadata": {},
   "source": [
    "### Download image locally"
   ]
  },
  {
   "attachments": {},
   "cell_type": "markdown",
   "metadata": {},
   "source": [
    "- AOI is a path to GeoJSON"
   ]
  },
  {
   "cell_type": "code",
   "execution_count": null,
   "metadata": {},
   "outputs": [
    {
     "data": {
      "text/plain": [
       "'data/S2L2A_2023-04-12.tif'"
      ]
     },
     "execution_count": 22,
     "metadata": {},
     "output_type": "execute_result"
    }
   ],
   "source": [
    "\n",
    "from spai.storage import Storage\n",
    "from spai.data.satellite import download_satellite_image\n",
    "\n",
    "storage = Storage('data')\n",
    "sensor = 'S2L2A' # or 'S2L1C'\n",
    "geojson_path = 'aoi.geojson'\n",
    "path = download_satellite_image(geojson_path,'2023-04-12', sensor, storage)\n",
    "\n",
    "path"
   ]
  },
  {
   "attachments": {},
   "cell_type": "markdown",
   "metadata": {},
   "source": [
    "- AOI is a GeoJSON"
   ]
  },
  {
   "cell_type": "code",
   "execution_count": null,
   "metadata": {},
   "outputs": [
    {
     "data": {
      "text/plain": [
       "'data/S2L2A_2023-04-12.tif'"
      ]
     },
     "execution_count": 23,
     "metadata": {},
     "output_type": "execute_result"
    }
   ],
   "source": [
    "from spai.storage import Storage\n",
    "from spai.data.satellite import download_satellite_image\n",
    "\n",
    "storage = Storage('data')\n",
    "sensor = 'S2L2A' # or 'S2L1C'\n",
    "geojson_dict = {\n",
    "    \"type\": \"FeatureCollection\",\n",
    "    \"features\": [\n",
    "        {\n",
    "            \"type\": \"Feature\",\n",
    "            \"properties\": {},\n",
    "            \"geometry\": {\n",
    "                \"coordinates\": [\n",
    "                    [\n",
    "                        [2.058000718868186, 41.46183613708533],\n",
    "                        [2.058000718868186, 41.4318016264732],\n",
    "                        [2.097234913854237, 41.4318016264732],\n",
    "                        [2.097234913854237, 41.46183613708533],\n",
    "                        [2.058000718868186, 41.46183613708533]\n",
    "                    ]\n",
    "                ],\n",
    "                \"type\": \"Polygon\"\n",
    "            }\n",
    "        }\n",
    "    ]\n",
    "}\n",
    "path = download_satellite_image(geojson_dict,'2023-04-12', sensor, storage)\n",
    "\n",
    "path"
   ]
  },
  {
   "attachments": {},
   "cell_type": "markdown",
   "metadata": {},
   "source": [
    "- AOI is a GeoDataFrame"
   ]
  },
  {
   "cell_type": "code",
   "execution_count": null,
   "metadata": {},
   "outputs": [
    {
     "data": {
      "text/plain": [
       "'data/S2L2A_2023-04-12.tif'"
      ]
     },
     "execution_count": 24,
     "metadata": {},
     "output_type": "execute_result"
    }
   ],
   "source": [
    "from spai.storage import Storage\n",
    "from spai.data.satellite import download_satellite_image\n",
    "import geopandas as gpd\n",
    "\n",
    "storage = Storage('data')\n",
    "sensor = 'S2L2A' # or 'S2L1C'\n",
    "geojson_gdf = gpd.read_file(geojson_path)\n",
    "path = download_satellite_image(geojson_gdf,'2023-04-12', sensor, storage)\n",
    "\n",
    "path"
   ]
  },
  {
   "cell_type": "code",
   "execution_count": null,
   "metadata": {},
   "outputs": [
    {
     "data": {
      "text/plain": [
       "'data/S2L2A_2023-04-12.tif'"
      ]
     },
     "execution_count": 25,
     "metadata": {},
     "output_type": "execute_result"
    }
   ],
   "source": [
    "from shapely.geometry import box\n",
    "\n",
    "storage = Storage('data')\n",
    "sensor = 'S2L2A' # or 'S2L1C'\n",
    "x = box(2.058000718868186, 41.4318016264732, 2.097234913854237, 41.46183613708533)\n",
    "path = download_satellite_image(x,'2023-04-12', sensor, storage)\n",
    "\n",
    "path"
   ]
  },
  {
   "cell_type": "code",
   "execution_count": null,
   "metadata": {},
   "outputs": [
    {
     "data": {
      "text/html": [
       "<div>\n",
       "<style scoped>\n",
       "    .dataframe tbody tr th:only-of-type {\n",
       "        vertical-align: middle;\n",
       "    }\n",
       "\n",
       "    .dataframe tbody tr th {\n",
       "        vertical-align: top;\n",
       "    }\n",
       "\n",
       "    .dataframe thead th {\n",
       "        text-align: right;\n",
       "    }\n",
       "</style>\n",
       "<table border=\"1\" class=\"dataframe\">\n",
       "  <thead>\n",
       "    <tr style=\"text-align: right;\">\n",
       "      <th></th>\n",
       "      <th>geometry</th>\n",
       "    </tr>\n",
       "  </thead>\n",
       "  <tbody>\n",
       "    <tr>\n",
       "      <th>0</th>\n",
       "      <td>POLYGON ((1.00000 4.00000, 1.00000 3.00000, 2....</td>\n",
       "    </tr>\n",
       "  </tbody>\n",
       "</table>\n",
       "</div>"
      ],
      "text/plain": [
       "                                            geometry\n",
       "0  POLYGON ((1.00000 4.00000, 1.00000 3.00000, 2...."
      ]
     },
     "execution_count": 19,
     "metadata": {},
     "output_type": "execute_result"
    }
   ],
   "source": [
    "gdf = gpd.GeoDataFrame(geometry=[x])\n",
    "gdf"
   ]
  },
  {
   "attachments": {},
   "cell_type": "markdown",
   "metadata": {},
   "source": [
    "- AOI is a location name"
   ]
  },
  {
   "cell_type": "code",
   "execution_count": null,
   "metadata": {},
   "outputs": [],
   "source": [
    "from spai.storage import Storage\n",
    "from spai.data.satellite import download_satellite_image\n",
    "\n",
    "storage = Storage('data')\n",
    "sensor = 'S2L2A' # or 'S2L1C'\n",
    "path = download_satellite_image('Madrid','2023-04-12', sensor, storage)\n",
    "\n",
    "path"
   ]
  }
 ],
 "metadata": {
  "kernelspec": {
   "display_name": "base",
   "language": "python",
   "name": "python3"
  },
  "language_info": {
   "codemirror_mode": {
    "name": "ipython",
    "version": 3
   },
   "file_extension": ".py",
   "mimetype": "text/x-python",
   "name": "python",
   "nbconvert_exporter": "python",
   "pygments_lexer": "ipython3",
   "version": "3.8.10"
  },
  "orig_nbformat": 4
 },
 "nbformat": 4,
 "nbformat_minor": 2
}
