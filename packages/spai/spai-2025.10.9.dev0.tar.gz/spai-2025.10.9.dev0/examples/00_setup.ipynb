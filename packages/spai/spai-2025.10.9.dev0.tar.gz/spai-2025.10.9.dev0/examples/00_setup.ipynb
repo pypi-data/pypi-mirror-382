{
 "cells": [
  {
   "cell_type": "markdown",
   "metadata": {},
   "source": [
    "# SPAI\n"
   ]
  },
  {
   "cell_type": "markdown",
   "metadata": {},
   "source": [
    "Despite the immense amount of Earth observation data available today, the reality is that this data source remains largely unknown, untapped, and unrealized to its full potential. The essence of SPAI lies in breaking the barrier of data complexity and the need for expert knowledge, with the aim of empowering the user, whether expert or not, whether or not they have programming or AI knowledge, to extract value effortlessly. of Earth observation data through AI-powered satellite analysis.\n",
    "\n",
    "Check out the demo and discover everything you can do with SPAI!\n",
    "\n",
    "<center>\n",
    " <iframe width=\"700\" \n",
    "         height=\"400\" \n",
    "         src=\"https://www.youtube.com/embed/Int_J0NKCyQ\" \n",
    "         title=\"YouTube video player\" \n",
    "         frameborder=\"0\" \n",
    "         allow=\"accelerometer; autoplay; clipboard-write; encrypted-media; gyroscope; picture-in-picture\" \n",
    "         allowfullscreen>\n",
    " </iframe>\n",
    "</center>\n"
   ]
  },
  {
   "cell_type": "markdown",
   "metadata": {},
   "source": [
    "## What is SPAI?\n",
    "\n",
    "SPAI stands for Satellite Processing Application Interface and is a complete development framework that allows you to create and deploy applications based on Earth Observation data in the cloud. It is designed to be easy to use, so you can focus on writing your code and let us take care of the rest.\n",
    "\n",
    "With SPAI you can create SPAI projects, which can consist of storage, processing scripts, APIs, user interfaces, and Jupyter Notebooks. You can develop, test and run your projects locally and then deploy them to the cloud with a single command. We will take care of provisioning the necessary resources in the cloud and managing them for you. Once your project is deployed, you will have access to logs and get public URLs for your APIs, UIs, and notebooks.\n",
    "\n",
    "SPAI also provides a Python library that you can use in your applications. It will give you optimized access to a wide range of data sources, processing algorithms (including AI models) and analysis capabilities. All through a simple, unified interface that integrates the most popular third-party services and solutions.\n",
    "\n",
    "SPAI is compatible with existing solutions, so you can integrate it with other tools such as QGIS.\n"
   ]
  },
  {
   "cell_type": "markdown",
   "metadata": {},
   "source": [
    "## Why SPAI?\n",
    "\n",
    "Developing and deploying applications based on AI-powered Earth observation data can be challenging, both at the knowledge level and at the resource consumption level. The fragmentation of access to data and its different formats, the processing of said data – with high computational demands –, the integration of AI models or the deployment of said applications is a complex task that involves multiple independent tools. In response to this need, SPAI arises, a framework for the development of Earth observation applications that covers the entire development process of these applications, from obtaining the data, its storage and processing through easily accessible artificial intelligence models. until the deployment of these applications in the cloud.\n"
   ]
  },
  {
   "cell_type": "markdown",
   "metadata": {},
   "source": [
    "## How to start\n"
   ]
  },
  {
   "cell_type": "markdown",
   "metadata": {},
   "source": [
    "To start using SPAI, the first thing we are going to do is install its [Python](https://pypi.org/project/spai/) library. The same library already includes the CLI, so we don't have to worry about anything else.\n"
   ]
  },
  {
   "cell_type": "code",
   "execution_count": null,
   "metadata": {},
   "outputs": [],
   "source": [
    "!pip install spai"
   ]
  },
  {
   "cell_type": "markdown",
   "metadata": {},
   "source": [
    "Once the installation is complete, you can verify that SPAI is installed by running the following command:\n"
   ]
  },
  {
   "cell_type": "code",
   "execution_count": null,
   "metadata": {},
   "outputs": [],
   "source": [
    "!spai version"
   ]
  },
  {
   "cell_type": "markdown",
   "metadata": {},
   "source": [
    "And see all the different commands with:\n"
   ]
  },
  {
   "cell_type": "code",
   "execution_count": null,
   "metadata": {},
   "outputs": [],
   "source": [
    "!spai --help"
   ]
  },
  {
   "cell_type": "markdown",
   "metadata": {},
   "source": [
    "To take full advantage of SPAI, we must authenticate using the CLI. To do this, we must have previously registered on the EarthPulse or [SPAI](https://spai.earthpulse.ai/) page. With the command below, it will take us to a link where we can log in.\n"
   ]
  },
  {
   "cell_type": "code",
   "execution_count": null,
   "metadata": {},
   "outputs": [],
   "source": [
    "!spai auth login"
   ]
  },
  {
   "cell_type": "code",
   "execution_count": 1,
   "metadata": {},
   "outputs": [
    {
     "name": "stdout",
     "output_type": "stream",
     "text": [
      "\u001b[1m                                                                                \u001b[0m\n",
      "\u001b[1m \u001b[0m\u001b[1;33mUsage: \u001b[0m\u001b[1mspai [OPTIONS] COMMAND [ARGS]...\u001b[0m\u001b[1m                                       \u001b[0m\u001b[1m \u001b[0m\n",
      "\u001b[1m                                                                                \u001b[0m\n",
      " Welcome to SPAI                                                                \n",
      "                                                                                \n",
      "\u001b[2m╭─\u001b[0m\u001b[2m Options \u001b[0m\u001b[2m───────────────────────────────────────────────────────────────────\u001b[0m\u001b[2m─╮\u001b[0m\n",
      "\u001b[2m│\u001b[0m \u001b[1;36m-\u001b[0m\u001b[1;36m-install\u001b[0m\u001b[1;36m-completion\u001b[0m        \u001b[1;2;33m[\u001b[0m\u001b[1;33mbash\u001b[0m\u001b[1;2;33m|\u001b[0m\u001b[1;33mzsh\u001b[0m\u001b[1;2;33m|\u001b[0m\u001b[1;33mfish\u001b[0m\u001b[1;2;33m|\u001b[0m\u001b[1;33mpowershe\u001b[0m  Install completion for  \u001b[2m│\u001b[0m\n",
      "\u001b[2m│\u001b[0m                             \u001b[1;33mll\u001b[0m\u001b[1;2;33m|\u001b[0m\u001b[1;33mpwsh\u001b[0m\u001b[1;2;33m]\u001b[0m\u001b[1;33m               \u001b[0m  the specified shell.    \u001b[2m│\u001b[0m\n",
      "\u001b[2m│\u001b[0m                                                      \u001b[2m[default: None]        \u001b[0m \u001b[2m│\u001b[0m\n",
      "\u001b[2m│\u001b[0m \u001b[1;36m-\u001b[0m\u001b[1;36m-show\u001b[0m\u001b[1;36m-completion\u001b[0m           \u001b[1;2;33m[\u001b[0m\u001b[1;33mbash\u001b[0m\u001b[1;2;33m|\u001b[0m\u001b[1;33mzsh\u001b[0m\u001b[1;2;33m|\u001b[0m\u001b[1;33mfish\u001b[0m\u001b[1;2;33m|\u001b[0m\u001b[1;33mpowershe\u001b[0m  Show completion for the \u001b[2m│\u001b[0m\n",
      "\u001b[2m│\u001b[0m                             \u001b[1;33mll\u001b[0m\u001b[1;2;33m|\u001b[0m\u001b[1;33mpwsh\u001b[0m\u001b[1;2;33m]\u001b[0m\u001b[1;33m               \u001b[0m  specified shell, to     \u001b[2m│\u001b[0m\n",
      "\u001b[2m│\u001b[0m                                                      copy it or customize    \u001b[2m│\u001b[0m\n",
      "\u001b[2m│\u001b[0m                                                      the installation.       \u001b[2m│\u001b[0m\n",
      "\u001b[2m│\u001b[0m                                                      \u001b[2m[default: None]        \u001b[0m \u001b[2m│\u001b[0m\n",
      "\u001b[2m│\u001b[0m \u001b[1;36m-\u001b[0m\u001b[1;36m-help\u001b[0m                      \u001b[1;33m                       \u001b[0m  Show this message and   \u001b[2m│\u001b[0m\n",
      "\u001b[2m│\u001b[0m                                                      exit.                   \u001b[2m│\u001b[0m\n",
      "\u001b[2m╰──────────────────────────────────────────────────────────────────────────────╯\u001b[0m\n",
      "\u001b[2m╭─\u001b[0m\u001b[2m Commands \u001b[0m\u001b[2m──────────────────────────────────────────────────────────────────\u001b[0m\u001b[2m─╮\u001b[0m\n",
      "\u001b[2m│\u001b[0m \u001b[1;36mapi      \u001b[0m\u001b[1;36m \u001b[0m Get SPAI API url and status                                       \u001b[2m│\u001b[0m\n",
      "\u001b[2m│\u001b[0m \u001b[1;36mauth     \u001b[0m\u001b[1;36m \u001b[0m Authentication commands                                           \u001b[2m│\u001b[0m\n",
      "\u001b[2m│\u001b[0m \u001b[1;36mclone    \u001b[0m\u001b[1;36m \u001b[0m Clone a template                                                  \u001b[2m│\u001b[0m\n",
      "\u001b[2m│\u001b[0m \u001b[1;36mdelete   \u001b[0m\u001b[1;36m \u001b[0m Delete a project                                                  \u001b[2m│\u001b[0m\n",
      "\u001b[2m│\u001b[0m \u001b[1;36mdeploy   \u001b[0m\u001b[1;36m \u001b[0m Deploy a project to the cloud                                     \u001b[2m│\u001b[0m\n",
      "\u001b[2m│\u001b[0m \u001b[1;36minit     \u001b[0m\u001b[1;36m \u001b[0m Create a new project from starter template                        \u001b[2m│\u001b[0m\n",
      "\u001b[2m│\u001b[0m \u001b[1;36minstall  \u001b[0m\u001b[1;36m \u001b[0m Install requirements for a project                                \u001b[2m│\u001b[0m\n",
      "\u001b[2m│\u001b[0m \u001b[1;36mlist     \u001b[0m\u001b[1;36m \u001b[0m Retrive information about your projects and services              \u001b[2m│\u001b[0m\n",
      "\u001b[2m│\u001b[0m \u001b[1;36mlogs     \u001b[0m\u001b[1;36m \u001b[0m Retrieve the logs of a service                                    \u001b[2m│\u001b[0m\n",
      "\u001b[2m│\u001b[0m \u001b[1;36mrun      \u001b[0m\u001b[1;36m \u001b[0m Run a project locally                                             \u001b[2m│\u001b[0m\n",
      "\u001b[2m│\u001b[0m \u001b[1;36mstop     \u001b[0m\u001b[1;36m \u001b[0m Stop a project                                                    \u001b[2m│\u001b[0m\n",
      "\u001b[2m│\u001b[0m \u001b[1;36mversion  \u001b[0m\u001b[1;36m \u001b[0m Get SPAI version                                                  \u001b[2m│\u001b[0m\n",
      "\u001b[2m╰──────────────────────────────────────────────────────────────────────────────╯\u001b[0m\n",
      "\n"
     ]
    }
   ],
   "source": [
    "!spai --help"
   ]
  }
 ],
 "metadata": {
  "kernelspec": {
   "display_name": "spai",
   "language": "python",
   "name": "python3"
  },
  "language_info": {
   "codemirror_mode": {
    "name": "ipython",
    "version": 3
   },
   "file_extension": ".py",
   "mimetype": "text/x-python",
   "name": "python",
   "nbconvert_exporter": "python",
   "pygments_lexer": "ipython3",
   "version": "3.10.15"
  }
 },
 "nbformat": 4,
 "nbformat_minor": 2
}
