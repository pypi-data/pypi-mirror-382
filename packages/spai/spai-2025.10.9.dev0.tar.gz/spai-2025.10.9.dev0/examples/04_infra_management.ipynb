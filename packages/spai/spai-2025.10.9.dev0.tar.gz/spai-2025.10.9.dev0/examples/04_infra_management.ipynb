{
 "cells": [
  {
   "cell_type": "code",
   "execution_count": 26,
   "metadata": {},
   "outputs": [
    {
     "name": "stdout",
     "output_type": "stream",
     "text": [
      "The autoreload extension is already loaded. To reload it, use:\n",
      "  %reload_ext autoreload\n"
     ]
    }
   ],
   "source": [
    "%load_ext autoreload\n",
    "%autoreload 2"
   ]
  },
  {
   "cell_type": "markdown",
   "metadata": {},
   "source": [
    "# Infrastructure management\n"
   ]
  },
  {
   "cell_type": "markdown",
   "metadata": {},
   "source": [
    "With SPAI we can manage the infrastructure of the SPAI platform and SPAI projects, from managing the autoscaling of services to assigning custom urls or an specific hardware. All of this is done through the `spai.config.yaml` file.\n"
   ]
  },
  {
   "cell_type": "markdown",
   "metadata": {},
   "source": [
    "## Custom domain\n"
   ]
  },
  {
   "cell_type": "markdown",
   "metadata": {},
   "source": [
    "We can assign a custom url to our services, wether they are UIs, APIs or notebooks. For this, just add a `domain` parameter to the service in the `spai.config.yaml` file. It must end with `.earthpulse.ai`.\n"
   ]
  },
  {
   "cell_type": "markdown",
   "metadata": {},
   "source": [
    "```yaml\n",
    "uis:\n",
    "  - name: map\n",
    "    command: npm run deploy\n",
    "    domain: my-domain.earthpulse.ai\n",
    "    port: 5173\n",
    "    runtime: node\n",
    "```\n"
   ]
  },
  {
   "cell_type": "markdown",
   "metadata": {},
   "source": [
    "## Autoscaling\n"
   ]
  },
  {
   "cell_type": "markdown",
   "metadata": {},
   "source": [
    "We can define if we want our services to be autoscaled or not. For this, just add an `autoscaling` parameter to the service in the `spai.config.yaml` file. If `min` is set to 0, the service will be stopped when it's not being used for the seconds defined in `keep_alive`.\n"
   ]
  },
  {
   "cell_type": "markdown",
   "metadata": {},
   "source": [
    "```yaml\n",
    "apis:\n",
    "  - name: analytics\n",
    "    port: 8021\n",
    "    autoscaling:\n",
    "      min: 0\n",
    "      max: 1\n",
    "      keep_alive: 300 # 5 minutes\n",
    "```\n"
   ]
  },
  {
   "cell_type": "markdown",
   "metadata": {},
   "source": [
    "## Resources\n"
   ]
  },
  {
   "cell_type": "markdown",
   "metadata": {},
   "source": [
    "We can define the hardware of the services in the `spai.config.yaml` file. For this, just add a `resources` parameter to the service.\n"
   ]
  },
  {
   "cell_type": "markdown",
   "metadata": {},
   "source": [
    "```yaml\n",
    "notebooks:\n",
    "  - name: ipynbs\n",
    "    autoscaling:\n",
    "      min: 0\n",
    "      max: 1\n",
    "    resources:\n",
    "      gpu: 1\n",
    "      cpu: 0.5\n",
    "      memory: 512Mi\n",
    "```\n"
   ]
  }
 ],
 "metadata": {
  "kernelspec": {
   "display_name": "spai",
   "language": "python",
   "name": "python3"
  },
  "language_info": {
   "codemirror_mode": {
    "name": "ipython",
    "version": 3
   },
   "file_extension": ".py",
   "mimetype": "text/x-python",
   "name": "python",
   "nbconvert_exporter": "python",
   "pygments_lexer": "ipython3",
   "version": "3.8.20"
  }
 },
 "nbformat": 4,
 "nbformat_minor": 2
}
