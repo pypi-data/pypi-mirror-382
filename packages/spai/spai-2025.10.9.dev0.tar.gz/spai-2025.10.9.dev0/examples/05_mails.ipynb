{
 "cells": [
  {
   "cell_type": "markdown",
   "metadata": {},
   "source": [
    "# Mails\n"
   ]
  },
  {
   "cell_type": "markdown",
   "metadata": {},
   "source": [
    "With SPAI we can send mails with attachments using the function `send_mail` from the `spai.mails` module. Parameters are:\n",
    "\n",
    "- `to`: the email address of the recipient.\n",
    "- `subject`: the subject of the email.\n",
    "- `body`: the body of the email.\n",
    "- `attachment`: the attachments of the email.\n"
   ]
  },
  {
   "cell_type": "code",
   "execution_count": null,
   "metadata": {},
   "outputs": [],
   "source": [
    "from spai.mails import send_mail\n",
    "\n",
    "send_mail(\n",
    "    to=\"fmartinrivas2@gmail.com\",\n",
    "    subject=\"Test\",\n",
    "    body=\"This is a test\",\n",
    "    attachment=[\"llanca.geojson\", \"sample.pdf\"],\n",
    ")"
   ]
  }
 ],
 "metadata": {
  "kernelspec": {
   "display_name": "spai",
   "language": "python",
   "name": "python3"
  },
  "language_info": {
   "codemirror_mode": {
    "name": "ipython",
    "version": 3
   },
   "file_extension": ".py",
   "mimetype": "text/x-python",
   "name": "python",
   "nbconvert_exporter": "python",
   "pygments_lexer": "ipython3",
   "version": "3.8.20"
  }
 },
 "nbformat": 4,
 "nbformat_minor": 2
}
