{
 "cells": [
  {
   "cell_type": "code",
   "execution_count": 26,
   "metadata": {},
   "outputs": [
    {
     "name": "stdout",
     "output_type": "stream",
     "text": [
      "The autoreload extension is already loaded. To reload it, use:\n",
      "  %reload_ext autoreload\n"
     ]
    }
   ],
   "source": [
    "%load_ext autoreload\n",
    "%autoreload 2"
   ]
  },
  {
   "cell_type": "markdown",
   "metadata": {},
   "source": [
    "# SPAI storage\n"
   ]
  },
  {
   "cell_type": "markdown",
   "metadata": {},
   "source": [
    "The SPAI Library also has a module called storage containing a set of Storage object declarations in order to easily manage different type of storages. Very useful for EO Applications in order to manage cloud buckets for TIFF images, vector files and other type of analytics files such as .csv or Dataframes.\n",
    "\n",
    "The Storage class serves as an interface for accessing different storage backends. It inherits from the BaseStorage class and dynamically sets up access to various storage options such as local file systems and Amazon S3, based on the environment variables provided (If a spai project has been created, the environment variables for storage are created automatically from the spai.config.yaml file). The storage backends available to the Storage class are determined by the environment variables, allowing for flexible configuration and initialization of the storage solutions in use.\n"
   ]
  },
  {
   "cell_type": "markdown",
   "metadata": {},
   "source": [
    "First install the storage dependencies if you have not yet:"
   ]
  },
  {
   "cell_type": "code",
   "execution_count": null,
   "metadata": {},
   "outputs": [],
   "source": [
    "!pip install spai[storage]"
   ]
  },
  {
   "cell_type": "markdown",
   "metadata": {},
   "source": [
    "## Local Storage\n"
   ]
  },
  {
   "cell_type": "markdown",
   "metadata": {},
   "source": [
    "LocalStorage is a storage system that initializes a directory on the local filesystem. This storage class inherits from BaseStorage and is responsible for managing a local directory where data can be stored.\n"
   ]
  },
  {
   "cell_type": "markdown",
   "metadata": {},
   "source": [
    "The following code initializes a LocalStorage object that points to a directory called `data` in the local filesystem.\n"
   ]
  },
  {
   "cell_type": "code",
   "execution_count": null,
   "metadata": {},
   "outputs": [],
   "source": [
    "from spai.storage.LocalStorage import LocalStorage\n",
    "\n",
    "storage = LocalStorage(\"data\")"
   ]
  },
  {
   "cell_type": "markdown",
   "metadata": {},
   "source": [
    "## S3 Storage\n"
   ]
  },
  {
   "cell_type": "markdown",
   "metadata": {},
   "source": [
    "S3Storage is a storage system that initializes and interacts with an S3-compatible object storage service. This storage class inherits from BaseStorage and is meant for handling objects in remote buckets using the MinIO client. To work, we'll need to give the needed S3 credentials, such as:\n",
    "\n",
    "- url: the URL of the S3-compatible service. Default is `storage.googleapis.com`.\n",
    "- access: the access key for the S3-compatible service.\n",
    "- secret: the secret key for the S3-compatible service.\n",
    "- region: the region of the S3-compatible service. Default is `europe-west1`.\n",
    "- bucket: the bucket name of the S3-compatible service.\n",
    "\n",
    "The name of the bucket will be given for each storage in each project. It can be obtained by running in the CLI:\n"
   ]
  },
  {
   "cell_type": "code",
   "execution_count": null,
   "metadata": {},
   "outputs": [],
   "source": [
    "!spai list services <my_project_name>"
   ]
  },
  {
   "cell_type": "markdown",
   "metadata": {},
   "source": [
    "On the other hand, credentials, such as the access or secret key, can be obtained with the CLI as well:\n"
   ]
  },
  {
   "cell_type": "code",
   "execution_count": null,
   "metadata": {},
   "outputs": [],
   "source": [
    "!spai auth credentials"
   ]
  },
  {
   "cell_type": "markdown",
   "metadata": {},
   "source": [
    "With the following code we initialize a S3Storage object that points to a bucket called `spai-data` in the S3-compatible service.\n"
   ]
  },
  {
   "cell_type": "code",
   "execution_count": null,
   "metadata": {},
   "outputs": [],
   "source": [
    "from spai.storage.S3Storage import S3Storage\n",
    "\n",
    "storage = S3Storage(\n",
    "    url=\"storage.googleapis.com\",\n",
    "    access=\"your-access-key\",\n",
    "    secret=\"your-secret-key\",\n",
    "    region=\"europe-west1\",\n",
    "    bucket=\"spai-data\",\n",
    ")"
   ]
  },
  {
   "cell_type": "markdown",
   "metadata": {},
   "source": [
    "## CRUD operations\n"
   ]
  },
  {
   "cell_type": "markdown",
   "metadata": {},
   "source": [
    "Once local and/or S3 storages are initialized, you can interact with them in a unified way thanks to BaseStorage super class.\n"
   ]
  },
  {
   "cell_type": "markdown",
   "metadata": {},
   "source": [
    "### List\n"
   ]
  },
  {
   "cell_type": "markdown",
   "metadata": {},
   "source": [
    "Lists all entities in the storage that match the given pattern.\n"
   ]
  },
  {
   "cell_type": "code",
   "execution_count": null,
   "metadata": {},
   "outputs": [],
   "source": [
    "storage.list()  # List all files in the storage\n",
    "storage.list(\"*.tif\")  # List all TIFF files in the storage"
   ]
  },
  {
   "cell_type": "markdown",
   "metadata": {},
   "source": [
    "### Create\n"
   ]
  },
  {
   "cell_type": "markdown",
   "metadata": {},
   "source": [
    "Creates a new storage entity based on the data provided. It can also update an storage object.\n"
   ]
  },
  {
   "cell_type": "code",
   "execution_count": null,
   "metadata": {},
   "outputs": [],
   "source": [
    "storage.create(data, name=\"my_file.tif\")\n",
    "storage.create(gdf, name=\"my_vector_file.geojson\")"
   ]
  },
  {
   "cell_type": "markdown",
   "metadata": {},
   "source": [
    "### Read\n"
   ]
  },
  {
   "cell_type": "markdown",
   "metadata": {},
   "source": [
    "Read a file from the storage. It will directly return the data as `GeoDataFrame` or `DataFrame` in the case of a vector file or csv, or a `GeoTiff` object if the file is a raster. However, the best way to read a raster file is with the `read_raster` function, which we will see soon.\n"
   ]
  },
  {
   "cell_type": "code",
   "execution_count": null,
   "metadata": {},
   "outputs": [],
   "source": [
    "storage.read(\"my_file.tif\")\n",
    "storage.read(\"my_vector_file.geojson\")\n",
    "storage.read(\"my_csv_file.csv\")"
   ]
  }
 ],
 "metadata": {
  "kernelspec": {
   "display_name": "spai",
   "language": "python",
   "name": "python3"
  },
  "language_info": {
   "codemirror_mode": {
    "name": "ipython",
    "version": 3
   },
   "file_extension": ".py",
   "mimetype": "text/x-python",
   "name": "python",
   "nbconvert_exporter": "python",
   "pygments_lexer": "ipython3",
   "version": "3.8.20"
  }
 },
 "nbformat": 4,
 "nbformat_minor": 2
}
