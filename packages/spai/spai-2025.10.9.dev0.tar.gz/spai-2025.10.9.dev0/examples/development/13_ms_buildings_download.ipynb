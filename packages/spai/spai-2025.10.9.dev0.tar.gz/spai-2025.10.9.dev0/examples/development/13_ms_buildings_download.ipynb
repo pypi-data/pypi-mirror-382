{
 "cells": [
  {
   "cell_type": "code",
   "execution_count": 1,
   "metadata": {},
   "outputs": [
    {
     "name": "stderr",
     "output_type": "stream",
     "text": [
      "/Users/fran/Documents/Projects/EUSPA_Risk_scoring/risk-scoring/spai/examples/spai/data/vector/openstreetmap.py:48: UserWarning: The `geometries` module and `geometries_from_X` functions have been renamed the `features` module and `features_from_X` functions. Use these instead. The `geometries` module and function names are deprecated and will be removed in a future release.\n",
      "  buildings_gdf = ox.geometries_from_polygon(polygon, tags={'building': True})\n"
     ]
    }
   ],
   "source": [
    "from spai.data.vector import download_buildings_from_osm\n",
    "\n",
    "# Ruta al archivo GeoJSON\n",
    "geojson_path = \"llanca.geojson\"\n",
    "\n",
    "# Descargar edificios\n",
    "download_buildings_from_osm(geojson_path, 'buildings.geojson')"
   ]
  },
  {
   "cell_type": "code",
   "execution_count": 3,
   "metadata": {},
   "outputs": [
    {
     "name": "stderr",
     "output_type": "stream",
     "text": [
      "/Users/fran/Documents/Projects/EUSPA_Risk_scoring/risk-scoring/spai/examples/spai/data/vector/openstreetmap.py:22: UserWarning: The `geometries` module and `geometries_from_X` functions have been renamed the `features` module and `features_from_X` functions. Use these instead. The `geometries` module and function names are deprecated and will be removed in a future release.\n",
      "  waterway_gdf = ox.geometries_from_polygon(polygon, tags={key: value})\n",
      "/Users/fran/Documents/Projects/EUSPA_Risk_scoring/risk-scoring/spai/examples/spai/data/vector/openstreetmap.py:22: UserWarning: The `geometries` module and `geometries_from_X` functions have been renamed the `features` module and `features_from_X` functions. Use these instead. The `geometries` module and function names are deprecated and will be removed in a future release.\n",
      "  waterway_gdf = ox.geometries_from_polygon(polygon, tags={key: value})\n",
      "/Users/fran/Documents/Projects/EUSPA_Risk_scoring/risk-scoring/spai/examples/spai/data/vector/openstreetmap.py:22: UserWarning: The `geometries` module and `geometries_from_X` functions have been renamed the `features` module and `features_from_X` functions. Use these instead. The `geometries` module and function names are deprecated and will be removed in a future release.\n",
      "  waterway_gdf = ox.geometries_from_polygon(polygon, tags={key: value})\n",
      "/Users/fran/Documents/Projects/EUSPA_Risk_scoring/risk-scoring/spai/examples/spai/data/vector/openstreetmap.py:22: UserWarning: The `geometries` module and `geometries_from_X` functions have been renamed the `features` module and `features_from_X` functions. Use these instead. The `geometries` module and function names are deprecated and will be removed in a future release.\n",
      "  waterway_gdf = ox.geometries_from_polygon(polygon, tags={key: value})\n",
      "/Users/fran/Documents/Projects/EUSPA_Risk_scoring/risk-scoring/spai/examples/spai/data/vector/openstreetmap.py:22: UserWarning: The `geometries` module and `geometries_from_X` functions have been renamed the `features` module and `features_from_X` functions. Use these instead. The `geometries` module and function names are deprecated and will be removed in a future release.\n",
      "  waterway_gdf = ox.geometries_from_polygon(polygon, tags={key: value})\n",
      "/Users/fran/Documents/Projects/EUSPA_Risk_scoring/risk-scoring/spai/examples/spai/data/vector/openstreetmap.py:22: UserWarning: The `geometries` module and `geometries_from_X` functions have been renamed the `features` module and `features_from_X` functions. Use these instead. The `geometries` module and function names are deprecated and will be removed in a future release.\n",
      "  waterway_gdf = ox.geometries_from_polygon(polygon, tags={key: value})\n"
     ]
    }
   ],
   "source": [
    "from spai.data.vector import download_waterways_from_osm\n",
    "\n",
    "# Ruta al archivo GeoJSON\n",
    "geojson_path = \"llanca.geojson\"\n",
    "\n",
    "# Descargar edificios\n",
    "download_waterways_from_osm(geojson_path, 'waterways.geojson')"
   ]
  },
  {
   "cell_type": "code",
   "execution_count": 3,
   "metadata": {},
   "outputs": [],
   "source": [
    "import geopandas as gpd\n",
    "\n",
    "\n",
    "gdf = gpd.read_file('buildings.geojson')\n",
    "\n",
    "values = (('bien', '#00ff0d'), ('normal', '#fcba03'), ('mal', '#ff1500'))\n",
    "\n",
    "from random import choice\n",
    "\n",
    "for _, row in gdf.iterrows():\n",
    "    value = choice(values)\n",
    "    gdf.loc[_, 'color'] = value[1]\n",
    "    gdf.loc[_, 'estado'] = value[0]\n",
    "\n",
    "gdf.to_file('buildings.geojson', driver='GeoJSON')"
   ]
  },
  {
   "cell_type": "code",
   "execution_count": 5,
   "metadata": {},
   "outputs": [],
   "source": [
    "gdf = gpd.read_file('../../examples/risk-scoring/data/buildings.geojson')\n",
    "gdf.to_crs(epsg=4326, inplace=True)\n",
    "gdf.to_file('../../examples/risk-scoring/data/buildings.geojson', driver='GeoJSON')"
   ]
  }
 ],
 "metadata": {
  "kernelspec": {
   "display_name": "risk-scoring",
   "language": "python",
   "name": "python3"
  },
  "language_info": {
   "codemirror_mode": {
    "name": "ipython",
    "version": 3
   },
   "file_extension": ".py",
   "mimetype": "text/x-python",
   "name": "python",
   "nbconvert_exporter": "python",
   "pygments_lexer": "ipython3",
   "version": "3.8.18"
  },
  "orig_nbformat": 4
 },
 "nbformat": 4,
 "nbformat_minor": 2
}
