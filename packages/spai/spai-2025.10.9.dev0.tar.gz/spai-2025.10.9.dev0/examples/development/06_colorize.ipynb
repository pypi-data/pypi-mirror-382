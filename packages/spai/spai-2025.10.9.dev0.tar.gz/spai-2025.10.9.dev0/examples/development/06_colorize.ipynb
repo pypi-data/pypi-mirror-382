{
 "cells": [
  {
   "cell_type": "code",
   "execution_count": 69,
   "metadata": {},
   "outputs": [
    {
     "name": "stdout",
     "output_type": "stream",
     "text": [
      "The autoreload extension is already loaded. To reload it, use:\n",
      "  %reload_ext autoreload\n"
     ]
    }
   ],
   "source": [
    "%load_ext autoreload\n",
    "%autoreload 2"
   ]
  },
  {
   "cell_type": "code",
   "execution_count": 70,
   "metadata": {},
   "outputs": [],
   "source": [
    "import numpy as np\n",
    "import matplotlib"
   ]
  },
  {
   "cell_type": "code",
   "execution_count": 90,
   "metadata": {},
   "outputs": [],
   "source": [
    "label_to_color = {\n",
    "    1: [0,  255, 0],\n",
    "    2: [ 255,  255,  0],\n",
    "    3: [255, 0, 0],\n",
    "}\n",
    "\n",
    "img_classes = np.array([[3, 1, 2, np.nan], [1, 2, 2, np.nan], [2, 2, 3, np.nan], [3, 3, 2, np.nan]])\n",
    "h, w = img_classes.shape"
   ]
  },
  {
   "cell_type": "code",
   "execution_count": 91,
   "metadata": {},
   "outputs": [],
   "source": [
    "img_rgb = np.zeros((h, w, 3))"
   ]
  },
  {
   "cell_type": "code",
   "execution_count": 92,
   "metadata": {},
   "outputs": [],
   "source": [
    "for gray, rgb in label_to_color.items():\n",
    "    img_rgb[img_classes == gray] = rgb\n"
   ]
  },
  {
   "cell_type": "code",
   "execution_count": 93,
   "metadata": {},
   "outputs": [
    {
     "name": "stderr",
     "output_type": "stream",
     "text": [
      "Clipping input data to the valid range for imshow with RGB data ([0..1] for floats or [0..255] for integers).\n"
     ]
    },
    {
     "data": {
      "text/plain": [
       "<matplotlib.image.AxesImage at 0x1109d0250>"
      ]
     },
     "execution_count": 93,
     "metadata": {},
     "output_type": "execute_result"
    },
    {
     "data": {
      "image/png": "[encoded data removed]",
      "text/plain": [
       "<Figure size 640x480 with 1 Axes>"
      ]
     },
     "metadata": {},
     "output_type": "display_data"
    }
   ],
   "source": [
    "import matplotlib.pyplot as plt\n",
    "plt.imshow(img_rgb)"
   ]
  },
  {
   "cell_type": "code",
   "execution_count": null,
   "metadata": {},
   "outputs": [],
   "source": [
    "def colorize_raster(raster, colors=['darkgreen']):\n",
    "    raster = raster.squeeze(axis=0)\n",
    "    \n",
    "    # Define color mapping\n",
    "    color_mapping = {i: colors[i-1] for i in range(1, len(colors)+1)}\n",
    "    \n",
    "    # Create an array for colors\n",
    "    colored_image = np.zeros((raster.shape[0], raster.shape[1], 4), dtype=np.float64)\n",
    "    \n",
    "    for value, color in color_mapping.items():\n",
    "        mask = raster == value\n",
    "        colored_image[mask] = matplotlib.colors.to_rgba(color)\n",
    "    \n",
    "    # Create a mask where raster value is 0\n",
    "    mask = raster == 0\n",
    "    \n",
    "    # Set the alpha channel (transparency) based on the mask\n",
    "    alpha = np.ones_like(raster)  # Default is fully opaque\n",
    "    alpha[mask] = 0  # Set alpha to 0 where mask is True\n",
    "    \n",
    "    # Add the alpha channel to the colored image\n",
    "    colored_image[..., 3] = alpha  # Set the alpha channel\n",
    "    \n",
    "    return colored_image"
   ]
  },
  {
   "cell_type": "code",
   "execution_count": 101,
   "metadata": {},
   "outputs": [
    {
     "data": {
      "text/plain": [
       "<matplotlib.image.AxesImage at 0x1106855a0>"
      ]
     },
     "execution_count": 101,
     "metadata": {},
     "output_type": "execute_result"
    },
    {
     "data": {
      "image/png": "[encoded data removed]",
      "text/plain": [
       "<Figure size 640x480 with 1 Axes>"
      ]
     },
     "metadata": {},
     "output_type": "display_data"
    }
   ],
   "source": [
    "image = np.array([[3, 1, 2, np.nan], [1, 2, 2, np.nan], [2, 4, 3, np.nan], [3, 3, 2, np.nan]])\n",
    "colors = 'green', 'yellow', 'red', 'blue'\n",
    "# Define color mapping\n",
    "color_mapping = {i: colors[i-1] for i in range(1, len(colors)+1)}\n",
    "\n",
    "# Create an array for colors\n",
    "colored_image = np.zeros((image.shape[0], image.shape[1], 4))\n",
    "for value, color in color_mapping.items():\n",
    "    colored_image[image == value] = matplotlib.colors.to_rgba(color)\n",
    "\n",
    "plt.imshow(colored_image)"
   ]
  },
  {
   "cell_type": "code",
   "execution_count": 5,
   "metadata": {},
   "outputs": [
    {
     "data": {
      "text/plain": [
       "<matplotlib.image.AxesImage at 0x13062e5f0>"
      ]
     },
     "execution_count": 5,
     "metadata": {},
     "output_type": "execute_result"
    },
    {
     "data": {
      "image/png": "[encoded data removed]",
      "text/plain": [
       "<Figure size 640x480 with 1 Axes>"
      ]
     },
     "metadata": {},
     "output_type": "display_data"
    }
   ],
   "source": [
    "from spai.processing import colorize_raster\n",
    "import matplotlib.pyplot as plt\n",
    "import numpy as np\n",
    "colors = 'green', 'yellow', 'red'\n",
    "image = np.array([[[3, 1, 2, np.nan]]])\n",
    "colored_image = colorize_raster(image, colors=colors)\n",
    "plt.imshow(colored_image)"
   ]
  },
  {
   "cell_type": "code",
   "execution_count": 6,
   "metadata": {},
   "outputs": [
    {
     "data": {
      "text/plain": [
       "array([[[1.        , 0.        , 0.        , 1.        ],\n",
       "        [0.        , 0.50196078, 0.        , 1.        ],\n",
       "        [1.        , 1.        , 0.        , 1.        ],\n",
       "        [0.        , 0.        , 0.        , 0.        ]]])"
      ]
     },
     "execution_count": 6,
     "metadata": {},
     "output_type": "execute_result"
    }
   ],
   "source": [
    "colored_image"
   ]
  }
 ],
 "metadata": {
  "kernelspec": {
   "display_name": "base",
   "language": "python",
   "name": "python3"
  },
  "language_info": {
   "codemirror_mode": {
    "name": "ipython",
    "version": 3
   },
   "file_extension": ".py",
   "mimetype": "text/x-python",
   "name": "python",
   "nbconvert_exporter": "python",
   "pygments_lexer": "ipython3",
   "version": "3.10.12"
  }
 },
 "nbformat": 4,
 "nbformat_minor": 2
}
