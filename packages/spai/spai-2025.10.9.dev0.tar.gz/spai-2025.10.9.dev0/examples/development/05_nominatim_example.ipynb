{
 "cells": [
  {
   "cell_type": "code",
   "execution_count": 35,
   "metadata": {},
   "outputs": [
    {
     "name": "stdout",
     "output_type": "stream",
     "text": [
      "The autoreload extension is already loaded. To reload it, use:\n",
      "  %reload_ext autoreload\n"
     ]
    }
   ],
   "source": [
    "%load_ext autoreload\n",
    "%autoreload 2"
   ]
  },
  {
   "cell_type": "code",
   "execution_count": 4,
   "metadata": {},
   "outputs": [],
   "source": [
    "\n",
    "import requests\n",
    "from shapely.geometry import box\n",
    "\n",
    "\n",
    "def get_bb(place_name):\n",
    "    base_url = \"https://nominatim.openstreetmap.org\"\n",
    "    format_out = \"json\"\n",
    "    limit = 10\n",
    "\n",
    "    # Construct the API request URL\n",
    "    url = f\"{base_url}/search?city={place_name}&format={format_out}&limit={limit}\"\n",
    "\n",
    "    # Send the API request\n",
    "    response = requests.get(url).json()\n",
    "\n",
    "    results = []\n",
    "    for result in response:\n",
    "        if 'boundingbox' in result:\n",
    "            bounding_box = result['boundingbox']\n",
    "            if len(bounding_box) == 4:\n",
    "                min_lon, max_lon, min_lat, max_lat = map(float, bounding_box)\n",
    "                results.append({\"name\": f\"{result['display_name']}\", \"bbox\": box(min_lon, min_lat, max_lon, max_lat) })\n",
    "\n",
    "    return results"
   ]
  },
  {
   "cell_type": "code",
   "execution_count": 5,
   "metadata": {},
   "outputs": [
    {
     "name": "stdout",
     "output_type": "stream",
     "text": [
      "{'name': 'el Prat de Llobregat, Baix Llobregat, Barcelona, Catalunya, 08820, España', 'bbox': <POLYGON ((41.348 2.057, 41.348 2.168, 41.277 2.168, 41.277 2.057, 41.348 2....>}\n",
      "{'name': 'el Prat de Llobregat, Baix Llobregat, Barcelona, Catalunya, 08820, España', 'bbox': <POLYGON ((41.348 2.057, 41.348 2.168, 41.277 2.168, 41.277 2.057, 41.348 2....>}\n"
     ]
    }
   ],
   "source": [
    "place_name = \"el Prat de Llobregat\"\n",
    "results = get_bb(place_name)\n",
    "\n",
    "if len(results) == 1:\n",
    "    # Only one result, access the bounding box directly\n",
    "    print(results[0][\"bbox\"])\n",
    "else:\n",
    "    # Multiple results, iterate over the dictionary\n",
    "    for dict in results:\n",
    "        print(dict)\n",
    "        "
   ]
  },
  {
   "cell_type": "code",
   "execution_count": 122,
   "metadata": {},
   "outputs": [],
   "source": [
    "\n",
    "import geopandas as gpd\n",
    "\n",
    "def get_box_or_gdfs_by_place_name(place_name):\n",
    "    results = get_bb(place_name)\n",
    "    gdfs = []\n",
    "    if len(results) == 1:\n",
    "        # Only one result, access the bounding box directly\n",
    "        return results[0][\"bbox\"]\n",
    "    else:\n",
    "        # Multiple results, iterate over the dictionary\n",
    "        for dict in results:\n",
    "            gdf = gpd.GeoDataFrame(geometry=[dict[\"bbox\"]], crs=4326)\n",
    "            gdfs.append({\"name\": dict[\"name\"], \"gdf\": gdf})\n",
    "        return gdfs"
   ]
  },
  {
   "cell_type": "code",
   "execution_count": 123,
   "metadata": {},
   "outputs": [
    {
     "data": {
      "text/plain": [
       "[{'name': 'el Prat de Llobregat, Baix Llobregat, Barcelona, Catalunya, 08820, España',\n",
       "  'gdf':                                             geometry\n",
       "  0  POLYGON ((41.34834 2.05733, 41.34834 2.16762, ...},\n",
       " {'name': 'el Prat de Llobregat, Baix Llobregat, Barcelona, Catalunya, 08820, España',\n",
       "  'gdf':                                             geometry\n",
       "  0  POLYGON ((41.34834 2.05733, 41.34834 2.16762, ...},\n",
       " {'name': 'el Prat de Llobregat, Passatge de la Ribera, el Prat de Llobregat, Baix Llobregat, Barcelona, Catalunya, 08820, España',\n",
       "  'gdf':                                             geometry\n",
       "  0  POLYGON ((41.33589 2.08426, 41.33589 2.09426, ...},\n",
       " {'name': 'el Prat de Llobregat, Passatge de la Ribera, el Prat de Llobregat, Baix Llobregat, Barcelona, Catalunya, 08820, España',\n",
       "  'gdf':                                             geometry\n",
       "  0  POLYGON ((41.33098 2.08922, 41.33098 2.08932, ...},\n",
       " {'name': 'el Prat de Llobregat, Camí de la Ribera, Vinyets i Molí Vell, el Prat de Llobregat, Baix Llobregat, Barcelona, Catalunya, 08820, España',\n",
       "  'gdf':                                             geometry\n",
       "  0  POLYGON ((41.34059 2.08014, 41.34059 2.08024, ...},\n",
       " {'name': 'el Prat de Llobregat, Passatge de la Ribera, el Prat de Llobregat, Baix Llobregat, Barcelona, Catalunya, 08820, España',\n",
       "  'gdf':                                             geometry\n",
       "  0  POLYGON ((41.33106 2.08904, 41.33106 2.08958, ...},\n",
       " {'name': 'el Prat de Llobregat, Camí del Sorral, Vinyets i Molí Vell, el Prat de Llobregat, Baix Llobregat, Barcelona, Catalunya, 08820, España',\n",
       "  'gdf':                                             geometry\n",
       "  0  POLYGON ((41.34198 2.07880, 41.34198 2.07890, ...},\n",
       " {'name': 'el Prat de Llobregat, Camí del Sorral, el Prat de Llobregat, Baix Llobregat, Barcelona, Catalunya, 08820, España',\n",
       "  'gdf':                                             geometry\n",
       "  0  POLYGON ((41.33735 2.09586, 41.33735 2.09596, ...},\n",
       " {'name': 'el Prat de Llobregat, Passeig de la Platja, el Prat de Llobregat, Baix Llobregat, Barcelona, Catalunya, 08820, España',\n",
       "  'gdf':                                             geometry\n",
       "  0  POLYGON ((41.28101 2.08415, 41.28101 2.08425, ...},\n",
       " {'name': 'el Prat de Llobregat, Carretera de la Platja, el Prat de Llobregat, Baix Llobregat, Barcelona, Catalunya, 08820, España',\n",
       "  'gdf':                                             geometry\n",
       "  0  POLYGON ((41.28781 2.10417, 41.28781 2.10427, ...}]"
      ]
     },
     "execution_count": 123,
     "metadata": {},
     "output_type": "execute_result"
    }
   ],
   "source": [
    "get_box_or_gdfs_by_place_name(\"el Prat de Llobregat\")"
   ]
  }
 ],
 "metadata": {
  "kernelspec": {
   "display_name": "base",
   "language": "python",
   "name": "python3"
  },
  "language_info": {
   "codemirror_mode": {
    "name": "ipython",
    "version": 3
   },
   "file_extension": ".py",
   "mimetype": "text/x-python",
   "name": "python",
   "nbconvert_exporter": "python",
   "pygments_lexer": "ipython3",
   "version": "3.10.10"
  },
  "orig_nbformat": 4
 },
 "nbformat": 4,
 "nbformat_minor": 2
}
