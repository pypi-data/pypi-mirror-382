{
 "cells": [
  {
   "cell_type": "code",
   "execution_count": 37,
   "metadata": {},
   "outputs": [
    {
     "name": "stdout",
     "output_type": "stream",
     "text": [
      "The autoreload extension is already loaded. To reload it, use:\n",
      "  %reload_ext autoreload\n"
     ]
    }
   ],
   "source": [
    "%load_ext autoreload\n",
    "%autoreload 2"
   ]
  },
  {
   "cell_type": "code",
   "execution_count": 38,
   "metadata": {},
   "outputs": [
    {
     "data": {
      "text/plain": [
       "{'ndti': [-0.02790498223192541,\n",
       "  -0.016661699973141333,\n",
       "  -0.011586964235846795,\n",
       "  -0.008732425383618616,\n",
       "  -0.015575143095393804],\n",
       " 'ndwi': [-0.011335533813099,\n",
       "  0.013559669264651734,\n",
       "  0.023558918543832148,\n",
       "  0.02918349626337113,\n",
       "  0.015192809193684244],\n",
       " 'ndci': [0.008703268672375534,\n",
       "  0.010975902793140343,\n",
       "  0.0119403413064873,\n",
       "  0.012482837970244964,\n",
       "  0.011513991096771554],\n",
       " 'doc': [2.792285665067632,\n",
       "  4.028893156651285,\n",
       "  4.6024729422898645,\n",
       "  4.925111571711566,\n",
       "  4.200584734477447]}"
      ]
     },
     "execution_count": 38,
     "metadata": {},
     "output_type": "execute_result"
    }
   ],
   "source": [
    "import pandas as pd\n",
    "import rasterio as rio\n",
    "from glob import glob\n",
    "import numpy as np\n",
    "\n",
    "targets = [\"ndti\", \"ndwi\", \"ndci\", \"doc\"]\n",
    "dates = pd.date_range(\"2019-01-01\", \"2023-12-31\").astype(str).to_list()\n",
    "categories = {}\n",
    "stats = {}\n",
    "\n",
    "# calculate category thresholds\n",
    "for i, target in enumerate(targets):\n",
    "    means = []\n",
    "    mins = []\n",
    "    maxs = []\n",
    "\n",
    "    for date in sorted(dates):\n",
    "        p = glob(f\"data/{target}_masked_{date}.tif\")\n",
    "\n",
    "        assert not len(p) > 1, f\"More than one file found for {target} and {date}\"\n",
    "\n",
    "        if p:\n",
    "            p = p[0]\n",
    "            with rio.open(p) as src:\n",
    "                arr = src.read(1)\n",
    "\n",
    "            means.append(arr.mean())\n",
    "            mins.append(arr.min())\n",
    "            maxs.append(arr.max())\n",
    "    means = np.array(means)\n",
    "    stats[target] = {\n",
    "        \"mean\": means.mean(),\n",
    "        \"std\": means.std(),\n",
    "        \"min\": means.min(),\n",
    "        \"max\": means.max(),\n",
    "        \"means\": means,\n",
    "    }\n",
    "\n",
    "    categories.update( {target: [\n",
    "        stats[target][\"min\"],\n",
    "        stats[target][\"mean\"] + 1.00 * stats[target][\"std\"],\n",
    "        stats[target][\"mean\"] + 1.96 * stats[target][\"std\"],\n",
    "        stats[target][\"mean\"] + 2.50 * stats[target][\"std\"],\n",
    "        stats[target][\"max\"],\n",
    "        ]})\n",
    "    \n",
    "categories"
   ]
  },
  {
   "cell_type": "code",
   "execution_count": 39,
   "metadata": {},
   "outputs": [
    {
     "data": {
      "text/plain": [
       "{'ndti': {'mean': -0.021947883032823145,\n",
       "  'std': 0.005286183059681811,\n",
       "  'min': -0.02790498223192541,\n",
       "  'max': -0.015575143095393804,\n",
       "  'means': array([-0.0263741 , -0.01793731, -0.02790498, -0.01557514])},\n",
       " 'ndwi': {'mean': 0.003143784598838805,\n",
       "  'std': 0.01041588466581293,\n",
       "  'min': -0.011335533813099,\n",
       "  'max': 0.015192809193684244,\n",
       "  'means': array([ 0.01519281, -0.00181277,  0.01053063, -0.01133553])},\n",
       " 'ndci': {'mean': 0.009971279341737261,\n",
       "  'std': 0.0010046234514030808,\n",
       "  'min': 0.008703268672375534,\n",
       "  'max': 0.011513991096771554,\n",
       "  'means': array([0.00990986, 0.01151399, 0.00870327, 0.00975799])},\n",
       " 'doc': {'mean': 3.431414213277764,\n",
       "  'std': 0.5974789433735207,\n",
       "  'min': 2.792285665067632,\n",
       "  'max': 4.200584734477447,\n",
       "  'means': array([2.90848477, 3.82430168, 2.79228567, 4.20058473])}}"
      ]
     },
     "execution_count": 39,
     "metadata": {},
     "output_type": "execute_result"
    }
   ],
   "source": [
    "# relate categories thersholds with analytics labels\n",
    "analytics = {}\n",
    "for target in targets:\n",
    "    target_stats = stats[target]\n",
    "    analytics[target] = target_stats\n",
    "\n",
    "analytics"
   ]
  },
  {
   "cell_type": "code",
   "execution_count": 40,
   "metadata": {},
   "outputs": [
    {
     "data": {
      "text/plain": [
       "array([[0., 0., 0., ..., 0., 0., 0.],\n",
       "       [0., 0., 0., ..., 0., 0., 0.],\n",
       "       [0., 0., 0., ..., 0., 0., 0.],\n",
       "       ...,\n",
       "       [0., 0., 0., ..., 0., 0., 0.],\n",
       "       [0., 0., 0., ..., 0., 0., 0.],\n",
       "       [0., 0., 0., ..., 0., 0., 0.]])"
      ]
     },
     "execution_count": 40,
     "metadata": {},
     "output_type": "execute_result"
    }
   ],
   "source": [
    "# open an image and save it as nd.array:\n",
    "p = glob(\"data/ndti_masked_2019-06-02.tif\")[0]\n",
    "with rio.open(p) as src:\n",
    "    clip = src.read(1)\n",
    "clip"
   ]
  },
  {
   "cell_type": "code",
   "execution_count": 41,
   "metadata": {},
   "outputs": [
    {
     "data": {
      "text/plain": [
       "{'mean': -0.026374097739417544,\n",
       " 'N0': {'pixels': 270},\n",
       " 'N1': {'pixels': 97},\n",
       " 'N2': {'pixels': 48}}"
      ]
     },
     "execution_count": 41,
     "metadata": {},
     "output_type": "execute_result"
    }
   ],
   "source": [
    "\"Return stats per category.\"\n",
    "categories = categories.copy()\n",
    "stats = {}\n",
    "stats[\"mean\"] = np.nanmean(clip) if clip.size else None\n",
    "\n",
    "names = [\"N%d\" % i for i in range(len(categories) - 1)]\n",
    "\n",
    "clip_copy = clip.copy()\n",
    "\n",
    "for i in range(1, len(categories)):\n",
    "    mask: np.ndarray = (clip_copy >= categories['ndti'][i - 1]) & (\n",
    "        clip_copy <= categories['ndti'][i]\n",
    "    )\n",
    "\n",
    "    stats[names[i - 1]] = {\"pixels\": np.nansum(mask)}\n",
    "\n",
    "    \"Modify float raster to ordinal.\"\n",
    "    clip[mask] = i\n",
    "\n",
    "stats"
   ]
  },
  {
   "cell_type": "code",
   "execution_count": 42,
   "metadata": {},
   "outputs": [
    {
     "data": {
      "text/plain": [
       "array([[False, False, False, ..., False, False, False],\n",
       "       [False, False, False, ..., False, False, False],\n",
       "       [False, False, False, ..., False, False, False],\n",
       "       ...,\n",
       "       [False, False, False, ..., False, False, False],\n",
       "       [False, False, False, ..., False, False, False],\n",
       "       [False, False, False, ..., False, False, False]])"
      ]
     },
     "execution_count": 42,
     "metadata": {},
     "output_type": "execute_result"
    }
   ],
   "source": [
    "mask"
   ]
  },
  {
   "cell_type": "code",
   "execution_count": 43,
   "metadata": {},
   "outputs": [],
   "source": [
    "import os\n",
    "\n",
    "# Define the output directory\n",
    "output_dir = \"data\"\n",
    "os.makedirs(output_dir, exist_ok=True)\n",
    "\n",
    "# Iterate over the target layers\n",
    "for target in targets:\n",
    "    for date in sorted(dates):\n",
    "        # Load the raster\n",
    "        raster_path = f\"data/{target}_masked_{date}.tif\"\n",
    "        if not os.path.exists(raster_path):\n",
    "            continue\n",
    "        with rio.open(raster_path) as src:\n",
    "            arr = src.read(1)"
   ]
  }
 ],
 "metadata": {
  "kernelspec": {
   "display_name": "base",
   "language": "python",
   "name": "python3"
  },
  "language_info": {
   "codemirror_mode": {
    "name": "ipython",
    "version": 3
   },
   "file_extension": ".py",
   "mimetype": "text/x-python",
   "name": "python",
   "nbconvert_exporter": "python",
   "pygments_lexer": "ipython3",
   "version": "3.10.12"
  },
  "orig_nbformat": 4
 },
 "nbformat": 4,
 "nbformat_minor": 2
}
