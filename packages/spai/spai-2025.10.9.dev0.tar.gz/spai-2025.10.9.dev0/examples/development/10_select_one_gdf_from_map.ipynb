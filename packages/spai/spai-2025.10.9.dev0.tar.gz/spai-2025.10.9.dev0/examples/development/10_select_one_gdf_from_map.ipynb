{
 "cells": [
  {
   "cell_type": "code",
   "execution_count": 20,
   "metadata": {},
   "outputs": [
    {
     "name": "stdout",
     "output_type": "stream",
     "text": [
      "The autoreload extension is already loaded. To reload it, use:\n",
      "  %reload_ext autoreload\n"
     ]
    }
   ],
   "source": [
    "%load_ext autoreload\n",
    "%autoreload 2"
   ]
  },
  {
   "cell_type": "code",
   "execution_count": 9,
   "metadata": {},
   "outputs": [
    {
     "data": {
      "text/html": [
       "<div>\n",
       "<style scoped>\n",
       "    .dataframe tbody tr th:only-of-type {\n",
       "        vertical-align: middle;\n",
       "    }\n",
       "\n",
       "    .dataframe tbody tr th {\n",
       "        vertical-align: top;\n",
       "    }\n",
       "\n",
       "    .dataframe thead th {\n",
       "        text-align: right;\n",
       "    }\n",
       "</style>\n",
       "<table border=\"1\" class=\"dataframe\">\n",
       "  <thead>\n",
       "    <tr style=\"text-align: right;\">\n",
       "      <th></th>\n",
       "      <th>geometry</th>\n",
       "    </tr>\n",
       "  </thead>\n",
       "  <tbody>\n",
       "    <tr>\n",
       "      <th>0</th>\n",
       "      <td>POLYGON ((1.96131 41.27823, 1.96131 41.35582, ...</td>\n",
       "    </tr>\n",
       "  </tbody>\n",
       "</table>\n",
       "</div>"
      ],
      "text/plain": [
       "                                            geometry\n",
       "0  POLYGON ((1.96131 41.27823, 1.96131 41.35582, ..."
      ]
     },
     "execution_count": 9,
     "metadata": {},
     "output_type": "execute_result"
    }
   ],
   "source": [
    "from spai.data.satellite.utils import get_box_or_gdfs_by_place_name\n",
    "locations = get_box_or_gdfs_by_place_name(\"begues\")  # returns a list of dicts like this: [ {'name': 'Fraga, Catalunya', 'gdf': <gpd.GeoDataFrame object>}, ...]\n",
    "locations[0][\"gdf\"]  # returns a GeoDataFrame of the Bounding Box of the location"
   ]
  },
  {
   "cell_type": "code",
   "execution_count": 10,
   "metadata": {},
   "outputs": [
    {
     "data": {
      "application/vnd.jupyter.widget-view+json": {
       "model_id": "91526991c01546f08d30d89588b58854",
       "version_major": 2,
       "version_minor": 0
      },
      "text/plain": [
       "Map(center=[41.46183613708533, 2.058000718868186], controls=(ZoomControl(options=['position', 'zoom_in_text', …"
      ]
     },
     "execution_count": 10,
     "metadata": {},
     "output_type": "execute_result"
    }
   ],
   "source": [
    "import ipywidgets\n",
    "import ipyleaflet\n",
    "from ipyleaflet import Map, basemaps, basemap_to_tiles\n",
    "from geopandas import GeoSeries\n",
    "\n",
    "# Create map\n",
    "m = Map(\n",
    "    basemap=basemap_to_tiles(basemaps.OpenStreetMap.Mapnik),\n",
    "    center=(41.46183613708533, 2.058000718868186),\n",
    "    zoom=5\n",
    "    )\n",
    "\n",
    "# Handle click on map\n",
    "selected_geodata = None\n",
    "def handle_click(event, feature, id, properties):\n",
    "    global selected_geodata\n",
    "    selected_geodata = feature\n",
    "    print(feature)\n",
    "\n",
    "# Add gdfs to map\n",
    "for idx, location in enumerate(locations):\n",
    "    geodata = ipyleaflet.GeoData(\n",
    "        geo_dataframe=location[\"gdf\"],\n",
    "        style={\n",
    "            \"color\": \"blue\",\n",
    "            \"opacity\": 1,\n",
    "            \"weight\": 1.9,\n",
    "            \"fillOpacity\": 0.5,\n",
    "        },\n",
    "        hover_style={\"fillColor\": \"#b08a3e\", \"fillOpacity\": 0.9},\n",
    "    )\n",
    "    geodata.on_click(handle_click)\n",
    "    m.add_layer(geodata)\n",
    "    \n",
    "    # Reproject the geometries to a projected CRS\n",
    "    projected_gdf = location[\"gdf\"].to_crs(epsg=3857)  # '3857': Desired projected CRS\n",
    "\n",
    "    # Compute the centroid on the reprojected geometries\n",
    "    centroid = projected_gdf[\"geometry\"].centroid\n",
    "    \n",
    "    # Transform the centroid coordinates back to geographic CRS\n",
    "    centroid = centroid.to_crs(epsg=4326)  # '4326': original geographic CRS\n",
    "    \n",
    "    # Add a marker with location name for each location\n",
    "    marker = ipyleaflet.Marker(location=(centroid.y[0], centroid.x[0]), title=location[\"name\"] if location[\"name\"] else \"Unknown\")\n",
    "    m.add_layer(marker)\n",
    "m"
   ]
  },
  {
   "cell_type": "code",
   "execution_count": 32,
   "metadata": {},
   "outputs": [
    {
     "data": {
      "text/plain": [
       "{'id': '0',\n",
       " 'type': 'Feature',\n",
       " 'properties': {},\n",
       " 'geometry': {'type': 'Polygon',\n",
       "  'coordinates': [[[-3.0529852, 39.8846264],\n",
       "    [-3.0529852, 41.1657381],\n",
       "    [-4.5790058, 41.1657381],\n",
       "    [-4.5790058, 39.8846264],\n",
       "    [-3.0529852, 39.8846264]]]}}"
      ]
     },
     "execution_count": 32,
     "metadata": {},
     "output_type": "execute_result"
    }
   ],
   "source": [
    "selected_geodata"
   ]
  },
  {
   "cell_type": "code",
   "execution_count": null,
   "metadata": {},
   "outputs": [],
   "source": []
  }
 ],
 "metadata": {
  "kernelspec": {
   "display_name": "base",
   "language": "python",
   "name": "python3"
  },
  "language_info": {
   "codemirror_mode": {
    "name": "ipython",
    "version": 3
   },
   "file_extension": ".py",
   "mimetype": "text/x-python",
   "name": "python",
   "nbconvert_exporter": "python",
   "pygments_lexer": "ipython3",
   "version": "3.10.10"
  },
  "orig_nbformat": 4
 },
 "nbformat": 4,
 "nbformat_minor": 2
}
