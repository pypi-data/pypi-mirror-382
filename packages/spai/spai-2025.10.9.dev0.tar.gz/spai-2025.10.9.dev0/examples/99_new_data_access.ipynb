{
 "cells": [
  {
   "cell_type": "code",
   "execution_count": null,
   "metadata": {},
   "outputs": [],
   "source": [
    "%load_ext autoreload\n",
    "%autoreload 2"
   ]
  },
  {
   "cell_type": "code",
   "execution_count": null,
   "metadata": {},
   "outputs": [],
   "source": [
    "from dotenv import load_dotenv\n",
    "\n",
    "load_dotenv()"
   ]
  },
  {
   "attachments": {},
   "cell_type": "markdown",
   "metadata": {},
   "source": [
    "## Sentinel 2\n"
   ]
  },
  {
   "attachments": {},
   "cell_type": "markdown",
   "metadata": {},
   "source": [
    "### Explore available images\n"
   ]
  },
  {
   "attachments": {},
   "cell_type": "markdown",
   "metadata": {},
   "source": [
    "### Download image locally\n"
   ]
  },
  {
   "cell_type": "code",
   "execution_count": 1,
   "metadata": {},
   "outputs": [
    {
     "data": {
      "text/plain": [
       "['sentinel-1-grd',\n",
       " 'sentinel-1-rtc',\n",
       " 'sentinel-2-l1c',\n",
       " 'sentinel-2-l2a',\n",
       " 'sentinel-3-olci',\n",
       " 'sentinel-3-slstr',\n",
       " 'sentinel-5p',\n",
       " 'cop-dem-glo-30',\n",
       " 'cop-dem-glo-90',\n",
       " 'esa-worldcover',\n",
       " 'landsat-8-c2-l2',\n",
       " 'modis-burned-areas',\n",
       " 'modis-snow-cover-8',\n",
       " 'modis-snow-cover-daily',\n",
       " 'alos-palsar-mosaic']"
      ]
     },
     "execution_count": 1,
     "metadata": {},
     "output_type": "execute_result"
    }
   ],
   "source": [
    "from spai.data.satellite import AVAILABLE_COLLECTIONS\n",
    "\n",
    "AVAILABLE_COLLECTIONS"
   ]
  },
  {
   "cell_type": "code",
   "execution_count": 1,
   "metadata": {},
   "outputs": [
    {
     "name": "stdout",
     "output_type": "stream",
     "text": [
      "'data' folder ready to use\n"
     ]
    },
    {
     "name": "stderr",
     "output_type": "stream",
     "text": [
      "/Users/fran/miniconda3/envs/spai-dev/lib/python3.8/site-packages/tqdm/auto.py:21: TqdmWarning: IProgress not found. Please update jupyter and ipywidgets. See https://ipywidgets.readthedocs.io/en/stable/user_install.html\n",
      "  from .autonotebook import tqdm as notebook_tqdm\n"
     ]
    },
    {
     "data": {
      "text/plain": [
       "['data/sentinel-3-slstr_2021-01-01.tif',\n",
       " 'data/sentinel-3-slstr_2021-01-02.tif',\n",
       " 'data/sentinel-3-slstr_2021-01-03.tif',\n",
       " 'data/sentinel-3-slstr_2021-01-04.tif',\n",
       " 'data/sentinel-3-slstr_2021-01-05.tif']"
      ]
     },
     "execution_count": 1,
     "metadata": {},
     "output_type": "execute_result"
    }
   ],
   "source": [
    "from spai.data.satellite import download_satellite_imagery\n",
    "from spai.storage.LocalStorage import LocalStorage\n",
    "\n",
    "storage = LocalStorage(\"data\")\n",
    "\n",
    "download_satellite_imagery(\n",
    "    storage,\n",
    "    \"Barcelona\",\n",
    "    date=(\"2021-01-01\", \"2021-01-05\"),\n",
    "    collection=\"sentinel-3-slstr\",\n",
    ")"
   ]
  },
  {
   "cell_type": "code",
   "execution_count": null,
   "metadata": {},
   "outputs": [],
   "source": [
    "from spai.data.satellite import explore_satellite_imagery\n",
    "\n",
    "explore_satellite_imagery(\"Barcelona\", collection=\"sentinel-2-l2a\")"
   ]
  },
  {
   "cell_type": "code",
   "execution_count": null,
   "metadata": {},
   "outputs": [],
   "source": [
    "import pystac_client\n",
    "from odc.stac import load\n",
    "import geopandas as gpd\n",
    "from planetary_computer import sign_inplace\n",
    "from planetary_computer.settings import set_subscription_key\n",
    "\n",
    "set_subscription_key(\"bf441fc919b8416c93f705004ff38001\")\n",
    "import rioxarray\n",
    "\n",
    "\n",
    "URL = \"https://planetarycomputer.microsoft.com/api/stac/v1\"\n",
    "\n",
    "catalog = pystac_client.Client.open(URL, modifier=sign_inplace)\n",
    "# Get collections\n",
    "collections = catalog.get_collections()\n",
    "\n",
    "bbox = (2.050623, 41.350854, 2.249584, 41.449887)\n",
    "\n",
    "items = catalog.search(\n",
    "    collections=[\"sentinel-5p-l2-netcdf\"],\n",
    "    bbox=bbox,\n",
    "    datetime=(\"2020-01-01\", \"2020-01-05\"),\n",
    ").item_collection()\n",
    "\n",
    "data = load(\n",
    "    items,\n",
    "    chunks={\"time\": 5, \"x\": 512, \"y\": 512},\n",
    "    bands=[\"no2\"],\n",
    "    crs=\"epsg:4326\",\n",
    "    resolution=0.0045045,\n",
    "    groupby=\"solar_day\",\n",
    "    bbox=bbox,\n",
    ")\n",
    "# select so2 variable\n",
    "data.compute()"
   ]
  },
  {
   "cell_type": "code",
   "execution_count": null,
   "metadata": {},
   "outputs": [],
   "source": [
    "longitude = 79.109\n",
    "latitude = 22.746\n",
    "\n",
    "# Get the data for the given location\n",
    "data = data.sel(longitude=longitude, latitude=latitude, method=\"nearest\")"
   ]
  },
  {
   "cell_type": "code",
   "execution_count": null,
   "metadata": {},
   "outputs": [],
   "source": [
    "data.isel(time=0).rio.to_raster(\"modis-snow-day.tif\")"
   ]
  }
 ],
 "metadata": {
  "kernelspec": {
   "display_name": "base",
   "language": "python",
   "name": "python3"
  },
  "language_info": {
   "codemirror_mode": {
    "name": "ipython",
    "version": 3
   },
   "file_extension": ".py",
   "mimetype": "text/x-python",
   "name": "python",
   "nbconvert_exporter": "python",
   "pygments_lexer": "ipython3",
   "version": "3.8.-1"
  },
  "orig_nbformat": 4
 },
 "nbformat": 4,
 "nbformat_minor": 2
}
