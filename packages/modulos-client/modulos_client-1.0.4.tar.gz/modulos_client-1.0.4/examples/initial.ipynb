{
 "cells": [
  {
   "cell_type": "code",
   "execution_count": 2,
   "metadata": {},
   "outputs": [],
   "source": [
    "from modulos_client import Modulos\n",
    "\n",
    "client = Modulos(base_url='https://dev.modulos.ai/api', api_key=\"algo\")"
   ]
  },
  {
   "cell_type": "code",
   "execution_count": 5,
   "metadata": {},
   "outputs": [
    {
     "name": "stdout",
     "output_type": "stream",
     "text": [
      "Error code: 401 - {'detail': 'Not authenticated'}\n"
     ]
    }
   ],
   "source": [
    "from modulos_client import AuthenticationError\n",
    "try:\n",
    "\n",
    "    project_id = '6a4b948c-4959-49aa-90e0-1e47c2860a40'\n",
    "\n",
    "    metrics = client.testing.logs.get_metrics(project_id)\n",
    "\n",
    "    print(metrics)\n",
    "except AuthenticationError as e:\n",
    "    print(e)"
   ]
  },
  {
   "cell_type": "code",
   "execution_count": null,
   "metadata": {},
   "outputs": [
    {
     "name": "stdout",
     "output_type": "stream",
     "text": [
      "Upload successful\n"
     ]
    }
   ],
   "source": [
    "from modulos_client import Modulos\n",
    "import os\n",
    "\n",
    "client = Modulos(\n",
    "    # This is the default and can be omitted\n",
    "    api_key=os.environ.get(\"MODULOS_API_KEY\"),\n",
    ")\n",
    "# If file_name is an empty string, the file name will be the original one in\n",
    "# path_to_file.\n",
    "client.evidence.upload.artifact_file(\n",
    "    path_to_file=\"test.txt\",\n",
    "    project_id=\"6a4b948c-4959-49aa-90e0-1e47c2860a40\",\n",
    "    component_id=\"a681603a-61ec-4319-85c9-a74806e6cdef\",\n",
    "    file_name=\"\",\n",
    "    description=\"\",\n",
    ")"
   ]
  },
  {
   "cell_type": "code",
   "execution_count": null,
   "metadata": {},
   "outputs": [],
   "source": []
  }
 ],
 "metadata": {
  "kernelspec": {
   "display_name": ".venv",
   "language": "python",
   "name": "python3"
  },
  "language_info": {
   "codemirror_mode": {
    "name": "ipython",
    "version": 3
   },
   "file_extension": ".py",
   "mimetype": "text/x-python",
   "name": "python",
   "nbconvert_exporter": "python",
   "pygments_lexer": "ipython3",
   "version": "3.10.14"
  }
 },
 "nbformat": 4,
 "nbformat_minor": 2
}
