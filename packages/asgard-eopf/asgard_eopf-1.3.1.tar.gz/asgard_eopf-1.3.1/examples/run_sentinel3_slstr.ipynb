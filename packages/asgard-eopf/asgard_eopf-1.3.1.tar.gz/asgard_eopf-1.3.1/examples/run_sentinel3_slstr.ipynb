{
 "cells": [
  {
   "cell_type": "markdown",
   "metadata": {},
   "source": [
    "## Direct location with Sentinel-3 SLSTR sensor \n",
    "\n",
    "This notebook shows examples on direct location performed using SLSTR sensor and using DEM GETAS zarr format."
   ]
  },
  {
   "cell_type": "code",
   "execution_count": null,
   "metadata": {},
   "outputs": [],
   "source": [
    "import os\n",
    "import json\n",
    "\n",
    "import numpy as np\n",
    "\n",
    "from asgard.core.frame import FrameId\n",
    "from asgard.models.body import EarthBody\n",
    "from asgard.models.time import TimeReference\n",
    "from asgard.sensors.sentinel3 import S3SLSTRGeometry\n",
    "\n",
    "from asgard_legacy_drivers.drivers.geojson_util import to_points\n",
    "from asgard_legacy_drivers.drivers.sentinel_3_legacy import S3LegacyDriver, ExplorerDriver"
   ]
  },
  {
   "cell_type": "markdown",
   "metadata": {},
   "source": [
    "### Setup variables and configure S3SLSTRGeometry"
   ]
  },
  {
   "cell_type": "code",
   "execution_count": null,
   "metadata": {},
   "outputs": [],
   "source": [
    "# these directories are required and must be set beforehand\n",
    "TEST_DIR = os.environ.get(\"TEST_DIR\", \"../tests\")\n",
    "SLSTR_DIR = os.path.join(TEST_DIR, \"resources/S3/SLSTR\")\n",
    "ASGARD_DATA = os.environ.get(\"ASGARD_DATA\", \"/data/asgard\")\n",
    "GETAS_PATH = os.path.join(ASGARD_DATA, \"ADFstatic\", \"S0__ADF_GETAS_20000101T000000_21000101T000000_20240529T142617.zarr\")"
   ]
  },
  {
   "cell_type": "code",
   "execution_count": null,
   "metadata": {},
   "outputs": [],
   "source": [
    "# extracting FRO orbit from 2022-10-30\n",
    "orbit_file = os.path.join(\n",
    "        TEST_DIR,\n",
    "        \"resources/S3/FRO\",\n",
    "        \"S3A_OPER_MPL_ORBRES_20221030T000000_20221109T000000_0001.EOF\",)\n",
    "\n",
    "fro_20221030 = S3LegacyDriver.read_orbit_file(orbit_file)"
   ]
  },
  {
   "cell_type": "code",
   "execution_count": null,
   "metadata": {},
   "outputs": [],
   "source": [
    "# extracting thermoelastic model for SLSTR\n",
    "thermoelastic = S3LegacyDriver.s3_thermoelastic_tables(os.path.join(SLSTR_DIR, \"GEC/SL_1_GEC_AX.nc\"))"
   ]
  },
  {
   "cell_type": "code",
   "execution_count": null,
   "metadata": {},
   "outputs": [],
   "source": [
    "# extracting geometric model for SLSTR\n",
    "geom_model = S3LegacyDriver.slstr_geometry_model(os.path.join(SLSTR_DIR, \"GEO/SL_1_GEO_AX.nc\"))"
   ]
  },
  {
   "cell_type": "code",
   "execution_count": null,
   "metadata": {},
   "outputs": [],
   "source": [
    "# generating image coordinates for SLSTR nadir and oblique \n",
    "coord_nad = np.zeros((10, 10, 2), dtype=\"int32\")\n",
    "for row in range(10):\n",
    "    for col in range(10):\n",
    "        coord_nad[row, col, 0] = 110 * col\n",
    "        coord_nad[row, col, 1] = 70 * row\n",
    "\n",
    "coord_obl = np.zeros((10, 10, 2), dtype=\"int32\")\n",
    "for row in range(10):\n",
    "    for col in range(10):\n",
    "        coord_obl[row, col, 0] = 110 * col\n",
    "        coord_obl[row, col, 1] = 70 * row"
   ]
  },
  {
   "cell_type": "code",
   "execution_count": null,
   "metadata": {},
   "outputs": [],
   "source": [
    "# setting S3SLSTRProduct\n",
    "# creating all needed config variables \n",
    "navatt_orbit = S3LegacyDriver.read_orbit_file(\n",
    "        os.path.join(SLSTR_DIR, \"navatt/sample_orbit.xml\")\n",
    "    )\n",
    "\n",
    "if navatt_orbit[\"frame\"] != \"EME2000\":\n",
    "        iers_data = S3LegacyDriver.read_iers_file(os.path.join(TEST_DIR, \"resources\", \"207_BULLETIN_B207.txt\"))\n",
    "        time_model = TimeReference(iers_bulletin_b=iers_data)\n",
    "        body = EarthBody(time_reference=time_model)\n",
    "        navatt_orbit = body.transform_orbit(navatt_orbit, FrameId.EME2000)\n",
    "\n",
    "navatt_attitude = S3LegacyDriver.read_attitude_file(\n",
    "    os.path.join(SLSTR_DIR, \"navatt/sample_attitude.xml\")\n",
    ")\n",
    "navatt_times = np.load(os.path.join(SLSTR_DIR, \"navatt/sample_timestamps_gps.npy\"))\n",
    "navatt_oop = np.load(os.path.join(SLSTR_DIR, \"navatt/sample_oop.npy\"))\n",
    "\n",
    "slt_dir = os.path.join(SLSTR_DIR, \"SLT_20221101T204936\")\n",
    "first_scan = 300\n",
    "scan_timestamps = np.load(os.path.join(slt_dir, \"sample_frame_times.npy\"))\n",
    "nad_first_acq = np.load(os.path.join(slt_dir, \"sample_nad_first_acq.npy\"))\n",
    "nad_scan_angle_1km = np.load(os.path.join(slt_dir, \"sample_nad_scan_angle_1km.npy\"))\n",
    "nad_scan_angle_05km = np.load(os.path.join(slt_dir, \"sample_nad_scan_angle_05km.npy\"))\n",
    "obl_first_acq = np.load(os.path.join(slt_dir, \"sample_obl_first_acq.npy\"))\n",
    "obl_scan_angle_1km = np.load(os.path.join(slt_dir, \"sample_obl_scan_angle_1km.npy\"))\n",
    "obl_scan_angle_05km = np.load(os.path.join(slt_dir, \"sample_obl_scan_angle_05km.npy\"))\n",
    "\n",
    "nb_pixels_nad = nad_scan_angle_1km.shape[1]\n",
    "nb_pixels_obl = obl_scan_angle_1km.shape[1]\n",
    "\n",
    "\n",
    "sample_time_array = scan_timestamps[first_scan:]\n",
    "\n",
    "body = EarthBody()\n",
    "fro_20221030_eme = body.transform_orbit(fro_20221030.copy(), FrameId.EME2000)\n",
    "\n",
    "navatt_orbit[\"time_ref\"] = \"GPS\"\n",
    "navatt_attitude[\"times\"][\"GPS\"] = navatt_orbit[\"times\"][\"GPS\"]\n",
    "navatt_attitude[\"time_ref\"] = \"GPS\""
   ]
  },
  {
   "cell_type": "code",
   "execution_count": null,
   "metadata": {},
   "outputs": [],
   "source": [
    "# setting S3SLSTRProduct config dict\n",
    "config = {\n",
    "    \"sat\": \"SENTINEL_3\",\n",
    "    \"orbit_aux_info\": {\n",
    "      \"orbit_state_vectors\": [fro_20221030_eme],\n",
    "    },\n",
    "    \"resources\":\n",
    "    {\n",
    "        \"dem_path\": GETAS_PATH,\n",
    "        \"dem_type\": \"ZARR_GETAS\",\n",
    "    },\n",
    "    \"thermoelastic\": thermoelastic,\n",
    "    \"geometry_model\": geom_model,\n",
    "    \"sw_geocal\": 2,\n",
    "    \"acquisition_times\": {\n",
    "        \"NAD\": {\n",
    "            \"scan_times\": {\"offsets\": sample_time_array},\n",
    "            \"nb_pixels\": nb_pixels_nad,\n",
    "            \"first_acquisition\": nad_first_acq[first_scan:],\n",
    "        },\n",
    "        \"OBL\": {\n",
    "            \"scan_times\": {\"offsets\": sample_time_array},\n",
    "            \"nb_pixels\": nb_pixels_obl,\n",
    "            \"first_acquisition\": obl_first_acq[first_scan:],\n",
    "        },\n",
    "    },\n",
    "    \"navatt\": {\n",
    "        \"orbit\": navatt_orbit,\n",
    "        \"attitude\": navatt_attitude,\n",
    "        \"times\": {\"offsets\": navatt_times},\n",
    "        \"oop\": navatt_oop,\n",
    "    },\n",
    "    \"scan_encoder\": {\n",
    "        \"NAD\": {\n",
    "            \"1KM\": nad_scan_angle_1km[first_scan:, :],\n",
    "            \"05KM\": nad_scan_angle_05km[first_scan:, :],\n",
    "        },\n",
    "        \"OBL\": {\n",
    "            \"1KM\": obl_scan_angle_1km[first_scan:, :],\n",
    "            \"05KM\": obl_scan_angle_05km[first_scan:, :],\n",
    "        },\n",
    "    },\n",
    "}"
   ]
  },
  {
   "cell_type": "code",
   "execution_count": null,
   "metadata": {},
   "outputs": [],
   "source": [
    "# instantiating a S3SLSTRProduct\n",
    "slstr = S3SLSTRGeometry(**config)"
   ]
  },
  {
   "cell_type": "markdown",
   "metadata": {},
   "source": [
    "### Direct location with GETAS zarr"
   ]
  },
  {
   "cell_type": "code",
   "execution_count": null,
   "metadata": {},
   "outputs": [],
   "source": [
    "# running direct locations using nadir view geometry \n",
    "gnd_nad, _ = slstr.direct_loc(coord_nad, geometric_unit=\"NAD/1KM/0\")"
   ]
  },
  {
   "cell_type": "code",
   "execution_count": null,
   "metadata": {},
   "outputs": [],
   "source": [
    "# running direct locations using oblique view geometry \n",
    "gnd_obl, _ = slstr.direct_loc(coord_obl, geometric_unit=\"OBL/1KM/0\")"
   ]
  },
  {
   "cell_type": "markdown",
   "metadata": {},
   "source": [
    "### Visualize direct location on map "
   ]
  },
  {
   "cell_type": "code",
   "execution_count": null,
   "metadata": {},
   "outputs": [],
   "source": [
    "## Nadir data points case :\n",
    "# converting ground positions gnd_point to GEOJson MultiPoint at indicated path\n",
    "# create live directory if it doesn't exist\n",
    "live_dir = os.path.join(TEST_DIR, \"outputs/live\")\n",
    "if not os.path.exists(live_dir):\n",
    "    os.makedirs(live_dir)\n",
    "\n",
    "\n",
    "path_nad = os.path.join(TEST_DIR, \"outputs/live/slstr_nad_points.geojson\")\n",
    "# conversion to GeoJson foarmat\n",
    "to_points(gnd_nad, path_nad)"
   ]
  },
  {
   "cell_type": "code",
   "execution_count": null,
   "metadata": {},
   "outputs": [],
   "source": [
    "## Oblique data points case :\n",
    "# converting ground positions gnd_point to GEOJson MultiPoint at indicated path\n",
    "path_obl = os.path.join(TEST_DIR, \"outputs/live/slstr_obl_points.geojson\")\n",
    "# conversion to GeoJson foarmat\n",
    "to_points(gnd_obl, path_obl)"
   ]
  },
  {
   "cell_type": "code",
   "execution_count": null,
   "metadata": {},
   "outputs": [],
   "source": [
    "# opening file and extracting coordinates for Nadir case\n",
    "with open(path_nad, 'r') as f:\n",
    "    json_nad = json.load(f)\n",
    "coordinates_nad = json_nad['features'][0]['geometry']['coordinates']\n",
    "\n",
    "# opening file and extracting coordinates for Oblique case\n",
    "with open(path_obl, 'r') as f:\n",
    "    json_obl = json.load(f)\n",
    "coordinates_obl = json_obl['features'][0]['geometry']['coordinates']"
   ]
  },
  {
   "cell_type": "code",
   "execution_count": null,
   "metadata": {},
   "outputs": [],
   "source": [
    "import folium\n",
    "\n",
    "# initializing the locations map for Nadir case\n",
    "m = folium.Map(location=coordinates_nad[0], zoom_start=4)\n",
    "# iterate through the nadir coordinates and add them as circle-shaped markers to the map\n",
    "for feature in coordinates_nad:\n",
    "    coordinates = feature\n",
    "    marker = folium.CircleMarker(location=coordinates, radius=5, color='blue', fill=True, fill_color='blue')\n",
    "    marker.add_to(m)\n",
    "\n",
    "# iterate through the oblique coordinates and add them as circle-shaped markers to the map\n",
    "for feature in coordinates_obl:\n",
    "    coordinates = feature\n",
    "    marker = folium.CircleMarker(location=coordinates, radius=5, color='green', fill=True, fill_color='blue')\n",
    "    marker.add_to(m)\n",
    "\n",
    "\n",
    "# Create kw dict config in order to create rectangle to represent DEM tiles\n",
    "kw = {\n",
    "    \"color\": \"black\",\n",
    "    \"line_cap\": \"round\",\n",
    "    \"fill\": True,\n",
    "    \"fill_color\": \"blue\",\n",
    "    \"weight\": 5,\n",
    "    \"popup\" : \"tile90m_1\"\n",
    "}\n",
    "\n",
    "# bounds1 = np.rad2deg(np.array([[0.407243, 0.349065850], [0.552687596, 0.49450995]]))\n",
    "# bounds2 = np.rad2deg(np.array([[0.407243, 0.058177641], [0.552687596, 0.2036217]]))\n",
    "bounds1 = np.rad2deg(np.array([[0.407243, 0.2036217], [0.552687596, 0.349065850]]))\n",
    "bounds2 = np.rad2deg(np.array([[0.261799387799, 0.058177641], [0.407243, 0.2036217]]))\n",
    "bounds3 = np.rad2deg(np.array([[0.261799387799, 0.2036217], [0.407243, 0.349065850]]))\n",
    "bounds4 = np.rad2deg(np.array([[0.261799387799, 0.349065850], [0.407243, 0.49450995]]))\n",
    "bounds5 = np.rad2deg(np.array([[0.11635528, 0.058177641], [0.261799387799, 0.2036217]]))\n",
    "bounds6 = np.rad2deg(np.array([[0.11635528, 0.2036217], [0.261799387799, 0.349065850]]))\n",
    "bounds7 = np.rad2deg(np.array([[0.11635528, 0.349065850], [0.261799387799, 0.49450995]]))\n",
    "\n",
    "folium.Rectangle(\n",
    "    bounds=bounds1,\n",
    "    line_join=\"round\",\n",
    "    dash_array=\"1, 1\",\n",
    "    **kw,\n",
    ").add_to(m)\n",
    "\n",
    "kw[\"popup\"] = \"tile2\"\n",
    "folium.Rectangle(\n",
    "    bounds=bounds2,\n",
    "    line_join=\"round\",\n",
    "    dash_array=\"1, 1\",\n",
    "    **kw,\n",
    ").add_to(m)\n",
    "\n",
    "kw[\"popup\"] = \"tile3\"\n",
    "folium.Rectangle(\n",
    "    bounds=bounds3,\n",
    "    line_join=\"round\",\n",
    "    dash_array=\"1, 1\",\n",
    "\n",
    "    **kw,\n",
    ").add_to(m)\n",
    "\n",
    "kw[\"popup\"] = \"tile4\"\n",
    "folium.Rectangle(\n",
    "    bounds=bounds4,\n",
    "    line_join=\"round\",\n",
    "    dash_array=\"1, 1\",\n",
    "    **kw,\n",
    ").add_to(m)\n",
    "\n",
    "kw[\"popup\"] = \"tile5\"\n",
    "folium.Rectangle(\n",
    "    bounds=bounds5,\n",
    "    line_join=\"round\",\n",
    "    dash_array=\"1, 1\",\n",
    "    **kw,\n",
    ").add_to(m)\n",
    "\n",
    "kw[\"popup\"] = \"tile6\"\n",
    "folium.Rectangle(\n",
    "    bounds=bounds6,\n",
    "    line_join=\"round\",\n",
    "    dash_array=\"1, 1\",\n",
    "    **kw,\n",
    ").add_to(m)\n",
    "\n",
    "kw[\"popup\"] = \"tile7\"\n",
    "folium.Rectangle(\n",
    "    bounds=bounds7,\n",
    "    line_join=\"round\",\n",
    "    dash_array=\"1, 1\",\n",
    "    **kw,\n",
    ").add_to(m)\n",
    "\n",
    "\n",
    "# save map for Nadir case \n",
    "m.save('map_json_nad.html')"
   ]
  },
  {
   "cell_type": "code",
   "execution_count": null,
   "metadata": {},
   "outputs": [],
   "source": [
    "# plot resulting map\n",
    "m"
   ]
  }
 ],
 "metadata": {
  "kernelspec": {
   "display_name": ".venv",
   "language": "python",
   "name": "python3"
  },
  "language_info": {
   "codemirror_mode": {
    "name": "ipython",
    "version": 3
   },
   "file_extension": ".py",
   "mimetype": "text/x-python",
   "name": "python",
   "nbconvert_exporter": "python",
   "pygments_lexer": "ipython3",
   "version": "3.11.2"
  },
  "orig_nbformat": 4
 },
 "nbformat": 4,
 "nbformat_minor": 2
}
