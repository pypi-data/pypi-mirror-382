{
 "cells": [
  {
   "cell_type": "markdown",
   "metadata": {},
   "source": [
    "## Direct location with Sentinel-3 OLCI sensor \n",
    "\n",
    "This notebook shows examples on direct location performed using OLCI sensor and using DEM GETAS zarr format."
   ]
  },
  {
   "cell_type": "code",
   "execution_count": null,
   "metadata": {},
   "outputs": [],
   "source": [
    "import os\n",
    "import json\n",
    "\n",
    "import numpy as np\n",
    "\n",
    "from asgard.core.time import TimeRef\n",
    "from asgard.models.time import TimeReference\n",
    "from asgard.sensors.sentinel3 import S3OLCIGeometry\n",
    "\n",
    "from asgard_legacy_drivers.drivers.geojson_util import to_points\n",
    "from asgard_legacy_drivers.drivers.sentinel_3_legacy import S3LegacyDriver"
   ]
  },
  {
   "cell_type": "markdown",
   "metadata": {},
   "source": [
    "### Setup variables and configure S3OLCIGeometry"
   ]
  },
  {
   "cell_type": "code",
   "execution_count": null,
   "metadata": {},
   "outputs": [],
   "source": [
    "# these directories are required \n",
    "TEST_DIR = os.environ.get(\"TEST_DIR\", \"../tests\")\n",
    "ASGARD_DATA = os.environ.get(\"ASGARD_DATA\", \"/data/asgard\")\n",
    "GETAS_PATH = os.path.join(ASGARD_DATA, \"ADFstatic\", \"S0__ADF_GETAS_20000101T000000_21000101T000000_20240529T142617.zarr\")"
   ]
  },
  {
   "cell_type": "code",
   "execution_count": null,
   "metadata": {},
   "outputs": [],
   "source": [
    "# setting paths to the orbit and calibration files \n",
    "orbit_file = os.path.join(\n",
    "        TEST_DIR,\n",
    "        \"resources/S3/FRO\",\n",
    "        \"S3A_OPER_MPL_ORBRES_20220510T000000_20220520T000000_0001.EOF\",\n",
    "    )\n",
    "calibration_file = os.path.join(TEST_DIR, \"resources/S3/OLCI/CAL\", \"OL_1_CAL_AX.nc\")"
   ]
  },
  {
   "cell_type": "code",
   "execution_count": null,
   "metadata": {},
   "outputs": [],
   "source": [
    "# generating image coordinates\n",
    "img_coords = np.zeros((10, 74, 2), dtype=\"int32\")\n",
    "for row in range(10):\n",
    "    for col in range(74):\n",
    "        img_coords[row, col, 0] = col\n",
    "        img_coords[row, col, 1] = row"
   ]
  },
  {
   "cell_type": "code",
   "execution_count": null,
   "metadata": {},
   "outputs": [],
   "source": [
    "# extracting pointing vectors \n",
    "pointing_vectors = S3LegacyDriver.olci_pointing_angles(calibration_file)"
   ]
  },
  {
   "cell_type": "code",
   "execution_count": null,
   "metadata": {},
   "outputs": [],
   "source": [
    "# extracting thermoelastic grids\n",
    "thermoelastic = S3LegacyDriver.s3_thermoelastic_tables(calibration_file, group=\"thermoelastic_model_EO\")"
   ]
  },
  {
   "cell_type": "code",
   "execution_count": null,
   "metadata": {},
   "outputs": [],
   "source": [
    "# extarcting FRO orbit from 2022-05-10\n",
    "fro_20220510 =  S3LegacyDriver.read_orbit_file(orbit_file)"
   ]
  },
  {
   "cell_type": "code",
   "execution_count": null,
   "metadata": {},
   "outputs": [],
   "source": [
    "\n",
    "# setting frames\n",
    "frames = {\n",
    "    \"offsets\": np.array(\n",
    "        [8168.024560769051 + 0.000001 * k for k in range(100)], dtype=\"float64\"\n",
    "    ),\n",
    "}\n",
    "\n",
    "# instantiating a navatt \n",
    "navatt_gps = np.load(os.path.join(TEST_DIR, \"resources/sample_timestamps_gps.npy\"))\n",
    "navatt_oop = np.load(os.path.join(TEST_DIR, \"resources/sample_oop.npy\"))\n",
    "navatt_orb = S3LegacyDriver.read_orbit_file(\n",
    "    os.path.join(TEST_DIR, \"resources/sample_orbit.xml\")\n",
    ")\n",
    "navatt_att = S3LegacyDriver.read_attitude_file(\n",
    "    os.path.join(TEST_DIR, \"resources/sample_attitude.xml\")\n",
    ")\n",
    "time_model = TimeReference()\n",
    "navatt_att[\"times\"][\"GPS\"] = {}\n",
    "navatt_att[\"times\"][\"GPS\"][\"offsets\"] = np.array([time_model.convert(time, ref_in=TimeRef.UTC, ref_out=TimeRef.GPS) for time in navatt_att[\"times\"][\"UTC\"][\"offsets\"]])\n",
    "navatt_att[\"time_ref\"] = \"GPS\"\n",
    "\n",
    "# setting config for olci product\n",
    "config = {\n",
    "    \"sat\": \"SENTINEL_3\",\n",
    "    \"orbit_aux_info\": {\n",
    "      \"orbit_state_vectors\": [fro_20220510],\n",
    "    },\n",
    "    \"resources\" : \n",
    "    {\n",
    "        \"dem_path\": GETAS_PATH,\n",
    "        \"dem_type\": \"ZARR_GETAS\",\n",
    "    },\n",
    "    \"pointing_vectors\": pointing_vectors,\n",
    "    \"thermoelastic\": thermoelastic,\n",
    "    \"frame\": {\"times\": frames},\n",
    "    \"navatt\": {\n",
    "        \"orbit\": navatt_orb,\n",
    "        \"attitude\": navatt_att,\n",
    "        \"times\": {\n",
    "            \"offsets\": navatt_gps,\n",
    "        },\n",
    "        \"oop\": navatt_oop,\n",
    "    },\n",
    "}\n"
   ]
  },
  {
   "cell_type": "code",
   "execution_count": null,
   "metadata": {},
   "outputs": [],
   "source": [
    "# instantiation of the geometry\n",
    "olci =  S3OLCIGeometry(**config)"
   ]
  },
  {
   "cell_type": "markdown",
   "metadata": {},
   "source": [
    "### Direct location with GETAS zarr"
   ]
  },
  {
   "cell_type": "code",
   "execution_count": null,
   "metadata": {},
   "outputs": [],
   "source": [
    "# running direct locations using a pre-generated coordinates grid img_coords\n",
    "gnd_points, _ = olci.direct_loc(img_coords, geometric_unit=\"C2\")"
   ]
  },
  {
   "cell_type": "markdown",
   "metadata": {},
   "source": [
    "### Visualize direct location on map "
   ]
  },
  {
   "cell_type": "code",
   "execution_count": null,
   "metadata": {},
   "outputs": [],
   "source": [
    "# converting ground positions gnd_point to GEOJson MultiPoint at indicated path\n",
    "# create live directory if it doesn't exist\n",
    "live_dir = os.path.join(TEST_DIR, \"outputs/live\")\n",
    "if not os.path.exists(live_dir):\n",
    "    os.makedirs(live_dir)\n",
    "\n",
    "path_points = os.path.join(TEST_DIR, \"outputs/live/olci_points.geojson\")\n",
    "# conversion to GeoJson\n",
    "to_points(gnd_points, path_points)"
   ]
  },
  {
   "cell_type": "code",
   "execution_count": null,
   "metadata": {},
   "outputs": [],
   "source": [
    "# opening file and extracting coordinates\n",
    "with open(path_points, 'r') as f:\n",
    "    json_data_point = json.load(f)\n",
    "coordinates_points = json_data_point['features'][0]['geometry']['coordinates']"
   ]
  },
  {
   "cell_type": "code",
   "execution_count": null,
   "metadata": {},
   "outputs": [],
   "source": [
    "import folium\n",
    "\n",
    "# initializing the locations map\n",
    "m = folium.Map(location=coordinates_points[0], zoom_start=3)\n",
    "# iterate through the coordinates and add them as circle-shaped markers to the map\n",
    "for feature in coordinates_points:\n",
    "    coordinates = feature[::-1]\n",
    "    marker = folium.CircleMarker(location=coordinates, radius=5, color='blue', fill=True, fill_color='blue')\n",
    "    marker.add_to(m)"
   ]
  },
  {
   "cell_type": "code",
   "execution_count": null,
   "metadata": {},
   "outputs": [],
   "source": [
    "# saving the resulting map\n",
    "m.save('map_olci_points.html')"
   ]
  },
  {
   "cell_type": "code",
   "execution_count": null,
   "metadata": {},
   "outputs": [],
   "source": [
    "# plotting our GeoJSON locations \n",
    "m"
   ]
  }
 ],
 "metadata": {
  "kernelspec": {
   "display_name": ".venv",
   "language": "python",
   "name": "python3"
  },
  "language_info": {
   "codemirror_mode": {
    "name": "ipython",
    "version": 3
   },
   "file_extension": ".py",
   "mimetype": "text/x-python",
   "name": "python",
   "nbconvert_exporter": "python",
   "pygments_lexer": "ipython3",
   "version": "3.11.2"
  },
  "orig_nbformat": 4
 },
 "nbformat": 4,
 "nbformat_minor": 2
}
