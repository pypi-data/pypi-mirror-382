{
 "cells": [
  {
   "cell_type": "markdown",
   "metadata": {},
   "source": [
    "## Direct location with Sentinel-3 SRAL sensor \n",
    "\n",
    "This notebook shows examples on direct location performed using SRAL sensor."
   ]
  },
  {
   "cell_type": "code",
   "execution_count": null,
   "metadata": {},
   "outputs": [],
   "source": [
    "import os\n",
    "import json\n",
    "\n",
    "import numpy as np\n",
    "\n",
    "from asgard.core.frame import FrameId\n",
    "from asgard.models.body import EarthBody\n",
    "from asgard.models.time import TimeReference\n",
    "from asgard.sensors.sentinel3.sral import S3SRALGeometry\n",
    "\n",
    "from asgard_legacy_drivers.drivers.geojson_util import to_points\n",
    "from asgard_legacy_drivers.drivers.sentinel_3_legacy import S3LegacyDriver"
   ]
  },
  {
   "cell_type": "markdown",
   "metadata": {},
   "source": [
    "### Setup variables and configure S3SRALGeometry"
   ]
  },
  {
   "cell_type": "code",
   "execution_count": null,
   "metadata": {},
   "outputs": [],
   "source": [
    "# these directories are required and must be set beforehand\n",
    "TEST_DIR = os.environ.get(\"TEST_DIR\", \"../tests\")"
   ]
  },
  {
   "cell_type": "code",
   "execution_count": null,
   "metadata": {},
   "outputs": [],
   "source": [
    "# Read orbit data from FRO file\n",
    "orbit_file = os.path.join(\n",
    "    TEST_DIR,\n",
    "    \"resources/S3/FRO\",\n",
    "    \"S3A_OPER_MPL_ORBRES_20220510T000000_20220520T000000_0001.EOF\",\n",
    ")\n",
    "fro_20220510 = S3LegacyDriver.read_orbit_file(orbit_file)\n",
    "\n",
    "# Define times of acquisition\n",
    "frames = {\n",
    "    \"offsets\": np.array([8168.024560769051 + 0.000001 * k for k in range(10)], dtype=\"float64\"),\n",
    "}\n",
    "\n",
    "navatt_gps = np.load(os.path.join(TEST_DIR, \"resources/sample_timestamps_gps.npy\"))\n",
    "navatt_oop = np.load(os.path.join(TEST_DIR, \"resources/sample_oop.npy\"))\n",
    "\n",
    "# Note: here we use inertial coordinates for orbit PV\n",
    "navatt_orb = S3LegacyDriver.read_orbit_file(os.path.join(TEST_DIR, \"resources/sample_orbit_eme2000.xml\"))\n",
    "# Note: convertion to EOCFI convention not needed, already accounted in platform model\n",
    "navatt_att = S3LegacyDriver.read_attitude_file(os.path.join(TEST_DIR, \"resources/sample_attitude.xml\"))\n",
    "# We set a common time scale for orbit and attitude -> GPS\n",
    "navatt_orb[\"time_ref\"] = \"GPS\"\n",
    "navatt_att[\"times\"][\"GPS\"] = navatt_orb[\"times\"][\"GPS\"]\n",
    "navatt_att[\"time_ref\"] = \"GPS\"\n",
    "\n",
    "# Read EOP data\n",
    "iers_data = S3LegacyDriver.read_iers_file(os.path.join(TEST_DIR, \"resources/bulletinb-413.txt\"))\n",
    "time_model = TimeReference(iers_bulletin_b=iers_data)\n",
    "body = EarthBody(time_reference=time_model)\n",
    "\n",
    "# Change orbit frame from Earth Fixed to EME2000\n",
    "driver = S3LegacyDriver(body)\n",
    "fro_20220510_eme = driver.change_orbit_frame(orbit=fro_20220510, frame=FrameId.EME2000)\n",
    "\n",
    "config = {\n",
    "    \"eop\": {\n",
    "        \"iers_bulletin_b\": iers_data,\n",
    "    },\n",
    "    \"sat\": \"SENTINEL_3\",\n",
    "    \"orbit_aux_info\": {\n",
    "        \"orbit_state_vectors\": [fro_20220510_eme],\n",
    "    },\n",
    "    \"frame\": {\"times\": frames},\n",
    "    \"navatt\": {\n",
    "        \"orbit\": navatt_orb,\n",
    "        \"attitude\": navatt_att,\n",
    "        \"times\": {\n",
    "            \"offsets\": navatt_gps,\n",
    "            \"ref\": \"GPS\",\n",
    "        },\n",
    "        \"oop\": navatt_oop,\n",
    "    },\n",
    "}\n",
    "\n",
    "sral = S3SRALGeometry(**config)\n",
    "\n",
    "# Define image coordinates\n",
    "img_coord = np.column_stack((np.arange(10), np.arange(10)))\n",
    "\n",
    "# Compute direct location\n",
    "gnd = sral.direct_loc(img_coord)\n"
   ]
  },
  {
   "cell_type": "markdown",
   "metadata": {},
   "source": [
    "### Visualize direct location on map "
   ]
  },
  {
   "cell_type": "code",
   "execution_count": null,
   "metadata": {},
   "outputs": [],
   "source": [
    "# creating the GeoJSON file of data points\n",
    "live_dir = os.path.join(TEST_DIR, \"outputs/live\")\n",
    "if not os.path.exists(live_dir):\n",
    "    os.makedirs(live_dir)\n",
    "\n",
    "path_points = os.path.join(live_dir, \"sral_points.geojson\")\n",
    "\n",
    "to_points(gnd, path_points)"
   ]
  },
  {
   "cell_type": "code",
   "execution_count": null,
   "metadata": {},
   "outputs": [],
   "source": [
    "# opening file and extracting coordinates\n",
    "with open(path_points, 'r') as f:\n",
    "    json_data_point = json.load(f)\n",
    "\n",
    "coordinates = json_data_point['features'][0]['geometry']['coordinates']"
   ]
  },
  {
   "cell_type": "code",
   "execution_count": null,
   "metadata": {},
   "outputs": [],
   "source": [
    "import folium\n",
    "\n",
    "# initializing the locations map\n",
    "m = folium.Map(location=coordinates[0], zoom_start=3)\n",
    "# iterate through the coordinates and add them as circle-shaped markers to the map\n",
    "for feature in coordinates:\n",
    "    coord = feature[::-1]\n",
    "    marker = folium.CircleMarker(location=coord, radius=5, color='blue', fill=True, fill_color='blue')\n",
    "    marker.add_to(m)\n",
    "\n",
    "# saving the resulting map\n",
    "m.save('map_sral_points.html')"
   ]
  },
  {
   "cell_type": "code",
   "execution_count": null,
   "metadata": {},
   "outputs": [],
   "source": [
    "# plot resulting map\n",
    "m"
   ]
  }
 ],
 "metadata": {
  "kernelspec": {
   "display_name": ".venv",
   "language": "python",
   "name": "python3"
  },
  "language_info": {
   "codemirror_mode": {
    "name": "ipython",
    "version": 3
   },
   "file_extension": ".py",
   "mimetype": "text/x-python",
   "name": "python",
   "nbconvert_exporter": "python",
   "pygments_lexer": "ipython3",
   "version": "3.11.2"
  },
  "orig_nbformat": 4
 },
 "nbformat": 4,
 "nbformat_minor": 2
}
