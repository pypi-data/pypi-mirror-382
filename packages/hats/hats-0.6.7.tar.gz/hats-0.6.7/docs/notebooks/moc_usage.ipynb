{
 "cells": [
  {
   "cell_type": "markdown",
   "id": "9afd0fa8",
   "metadata": {},
   "source": [
    "# Using MOC with HATS\n",
    "\n",
    "A HATS catalog describes a particular set of HEALPix tiles on the sphere. These tiles can alternately be described by a MOC, or Multi-Order Coverage map.\n",
    "\n",
    "For a full introduction and reference to MOC, we suggest reading https://cds-astro.github.io/mocpy/. We use that library internally for speedy manipulation of MOCs.\n",
    "\n",
    "This notebook will introduce you to the utilities we have found most useful for building MOCs and using those to impose a filter on catalogs.\n",
    "\n",
    "## Imports"
   ]
  },
  {
   "cell_type": "code",
   "execution_count": null,
   "id": "2e127172",
   "metadata": {},
   "outputs": [],
   "source": [
    "import hats\n",
    "from hats.pixel_math import region_to_moc\n",
    "from hats.inspection.visualize_catalog import plot_moc"
   ]
  },
  {
   "cell_type": "markdown",
   "id": "7423bd48",
   "metadata": {},
   "source": [
    "We will set the `max_depth` value here to something fairly small (which translates into larger area tiles) for demonstration purposes.\n",
    "\n",
    "Later, we'll change this to a higher value, and you'll see finer-grained MOCs."
   ]
  },
  {
   "cell_type": "code",
   "execution_count": null,
   "id": "2243df03",
   "metadata": {},
   "outputs": [],
   "source": [
    "max_depth = 4"
   ]
  },
  {
   "cell_type": "markdown",
   "id": "3f0fbb21",
   "metadata": {},
   "source": [
    "## Basic shapes\n",
    "\n",
    "We've wrapped some of the basic shapes with validating methods in the `region_to_moc` module, and provide a simple plotting interface. \n",
    "\n",
    "In the plots, you might see light blue diamonds with darker blue borders. Each diamond represents a single HEALPix pixel, with larger area diamonds corresponding to higher order HEALPix pixels."
   ]
  },
  {
   "cell_type": "code",
   "execution_count": null,
   "id": "a9aa969c",
   "metadata": {},
   "outputs": [],
   "source": [
    "box_moc = region_to_moc.box_to_moc(ra=[10, 45], dec=[-30, -5], max_depth=max_depth)\n",
    "plot_moc(box_moc)"
   ]
  },
  {
   "cell_type": "code",
   "execution_count": null,
   "id": "289f4140",
   "metadata": {},
   "outputs": [],
   "source": [
    "cone_moc = region_to_moc.cone_to_moc(ra=-60.3, dec=20.5, radius_arcsec=15 * 3600, max_depth=max_depth)\n",
    "plot_moc(cone_moc)"
   ]
  },
  {
   "cell_type": "code",
   "execution_count": null,
   "id": "83abaff2",
   "metadata": {},
   "outputs": [],
   "source": [
    "polygon_moc = region_to_moc.polygon_to_moc([(10, 0), (45, 0), (30, 18)], max_depth=max_depth)\n",
    "plot_moc(polygon_moc)"
   ]
  },
  {
   "cell_type": "markdown",
   "id": "85237163",
   "metadata": {},
   "source": [
    "## Operations on MOCs\n",
    "\n",
    "The MOCPy library provides lots of additional operations on MOC objects. Below we show an addition (or union) of the three MOCs we generated above.\n",
    "\n",
    "Further, we take the inverse (or complement) of that union MOC, to see everything NOT represented in the first MOC."
   ]
  },
  {
   "cell_type": "code",
   "execution_count": null,
   "id": "b246111d",
   "metadata": {},
   "outputs": [],
   "source": [
    "union_moc = polygon_moc.union(cone_moc, box_moc)\n",
    "plot_moc(union_moc)"
   ]
  },
  {
   "cell_type": "code",
   "execution_count": null,
   "id": "20853e0a",
   "metadata": {},
   "outputs": [],
   "source": [
    "complement_union_moc = union_moc.complement()\n",
    "plot_moc(complement_union_moc)"
   ]
  },
  {
   "cell_type": "markdown",
   "id": "4e33486a",
   "metadata": {},
   "source": [
    "## Filtering a catalog with a MOC\n",
    "\n",
    "We'll use the `union_moc` we created above to perform a coarse spatial filter on the data partitions of an existing HATS catalog. This catalog is used for test and demonstration purposes, and so has a kind of silly set of partitions.\n",
    "\n",
    "The first plot is the set of partitions, as solid order 1 HEALPix pixels.\n",
    "\n",
    "The second plot shows the MOC of the catalog, with divisions at order 4.\n",
    "\n",
    "You will see in the third plot that only those pixels with *some* amount of overlap with the pixels of the `union_moc` remain in the filtered catalog."
   ]
  },
  {
   "cell_type": "code",
   "execution_count": null,
   "id": "22b3b357",
   "metadata": {},
   "outputs": [],
   "source": [
    "catalog = hats.read_hats(\"../../tests/data/square_map\")\n",
    "catalog.plot_pixels()"
   ]
  },
  {
   "cell_type": "code",
   "execution_count": null,
   "id": "0fa5b991",
   "metadata": {},
   "outputs": [],
   "source": [
    "catalog.plot_moc()"
   ]
  },
  {
   "cell_type": "code",
   "execution_count": null,
   "id": "b186442e",
   "metadata": {},
   "outputs": [],
   "source": [
    "filtered_catalog = catalog.filter_by_moc(union_moc)\n",
    "filtered_catalog.plot_pixels()"
   ]
  },
  {
   "cell_type": "markdown",
   "id": "81c93de2",
   "metadata": {},
   "source": [
    "## About\n",
    "\n",
    "**Author**: Melissa DeLucchi\n",
    "\n",
    "**Last updated on**: August 28, 2025"
   ]
  }
 ],
 "metadata": {
  "kernelspec": {
   "display_name": "july",
   "language": "python",
   "name": "python3"
  },
  "language_info": {
   "codemirror_mode": {
    "name": "ipython",
    "version": 3
   },
   "file_extension": ".py",
   "mimetype": "text/x-python",
   "name": "python",
   "nbconvert_exporter": "python",
   "pygments_lexer": "ipython3",
   "version": "3.12.3"
  }
 },
 "nbformat": 4,
 "nbformat_minor": 5
}
