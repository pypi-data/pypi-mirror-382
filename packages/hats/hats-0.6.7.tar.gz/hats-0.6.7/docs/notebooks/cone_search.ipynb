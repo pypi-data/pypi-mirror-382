{
 "cells": [
  {
   "attachments": {},
   "cell_type": "markdown",
   "metadata": {},
   "source": [
    "# Cone search demo\n",
    "\n",
    "This notebook walks through performing a cone search of the pixels in a HATS catalog. This shows strategies for visualizing a catalog's partitions, and using hats's spatial metadata to improve performance in targeted queries."
   ]
  },
  {
   "cell_type": "code",
   "execution_count": null,
   "metadata": {},
   "outputs": [],
   "source": [
    "import hats\n",
    "import numpy as np\n",
    "\n",
    "## Fill in these variables with what's relevant in your use case:\n",
    "\n",
    "### Change this path!!!\n",
    "catalog_path = \"../../tests/data/small_sky_o1_collection/small_sky_order1\"\n",
    "\n",
    "ra = 0  # degrees\n",
    "dec = -80  # degrees\n",
    "radius_degrees = 10  # degrees"
   ]
  },
  {
   "cell_type": "code",
   "execution_count": null,
   "metadata": {},
   "outputs": [],
   "source": [
    "## Load catalog\n",
    "\n",
    "catalog = hats.read_hats(catalog_path)"
   ]
  },
  {
   "cell_type": "code",
   "execution_count": null,
   "metadata": {},
   "outputs": [],
   "source": [
    "## Plot catalog pixels\n",
    "\n",
    "hats.inspection.plot_pixels(catalog)"
   ]
  },
  {
   "cell_type": "code",
   "execution_count": null,
   "metadata": {},
   "outputs": [],
   "source": [
    "import astropy.units as u\n",
    "from astropy.coordinates import SkyCoord\n",
    "from astropy.visualization.wcsaxes import SphericalCircle\n",
    "\n",
    "fig, ax = hats.inspection.plot_pixels(catalog)\n",
    "cone_center = SkyCoord(ra=ra * u.deg, dec=dec * u.deg)\n",
    "s = SphericalCircle(\n",
    "    cone_center,\n",
    "    radius_degrees * u.degree,\n",
    "    edgecolor=\"purple\",\n",
    "    facecolor=\"none\",\n",
    "    transform=ax.get_transform(\"icrs\"),\n",
    ")\n",
    "ax.add_patch(s)"
   ]
  },
  {
   "cell_type": "code",
   "execution_count": null,
   "metadata": {},
   "outputs": [],
   "source": [
    "## Filter catalog and plot filtered pixels\n",
    "\n",
    "radius_arcseconds = radius_degrees * 3600\n",
    "filtered_catalog = catalog.filter_by_cone(ra, dec, radius_arcseconds)\n",
    "\n",
    "hats.inspection.plot_pixels(filtered_catalog)"
   ]
  }
 ],
 "metadata": {
  "kernelspec": {
   "display_name": "may",
   "language": "python",
   "name": "python3"
  },
  "language_info": {
   "codemirror_mode": {
    "name": "ipython",
    "version": 3
   },
   "file_extension": ".py",
   "mimetype": "text/x-python",
   "name": "python",
   "nbconvert_exporter": "python",
   "pygments_lexer": "ipython3",
   "version": "3.12.3"
  }
 },
 "nbformat": 4,
 "nbformat_minor": 2
}
