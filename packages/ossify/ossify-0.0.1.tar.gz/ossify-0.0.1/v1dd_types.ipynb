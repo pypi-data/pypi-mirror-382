{
 "cells": [
  {
   "cell_type": "code",
   "execution_count": 4,
   "id": "2a607f84",
   "metadata": {},
   "outputs": [],
   "source": [
    "import ossify as osy\n",
    "import numpy as np\n",
    "import matplotlib.pyplot as plt\n",
    "import pandas as pd\n",
    "from cortical_tools.datasets.v1dd import client\n",
    "ts = client.now()\n",
    "ct_df = client.tables.cell_type_multifeature_v1_fine().get_all_live(timestamp=ts, split_positions=True, desired_resolution=[1,1,1])\n",
    "pf_df = client.tables.ariadne_axon_task().get_all_live(timestamp=ts, split_positions=True, desired_resolution=[1,1,1])\n",
    "more_pf_df = client.tables.ariadne_axon_proofreading_v1().get_all_live(timestamp=ts, split_positions=True, desired_resolution=[1,1,1])\n",
    "additional_pf_df = client.tables.ariadne_axon_task_bic().get_all_live(timestamp=ts, split_positions=True, desired_resolution=[1,1,1])\n",
    "cat_df = pd.concat((additional_pf_df.query('cell_type == \"done\"'), pf_df, more_pf_df), ignore_index=True).drop_duplicates(subset='pt_root_id', keep='first')\n",
    "good_outcomes = [\n",
    "    \"submitted\",\n",
    "    \"done\",\n",
    "    \"complete\",\n",
    "    \"clean\",\n",
    "]\n",
    "pf_good_df = cat_df.query('cell_type in @good_outcomes').reset_index(drop=True)\n",
    "pf_good_df.drop(columns=['id', 'created', 'valid', 'deleted', 'superceded_id'], inplace=True)\n",
    "root_id = pf_good_df.sample(1).pt_root_id.values[0]\n",
    "osy.load_cell_from_client?\n",
    "cell = osy.load_cell_from_client(\n",
    "    root_id,\n",
    "    client.cave,\n",
    "    synapses=True,\n",
    "    reference_tables=['synapse_target_predictions_ssa'],\n",
    "    re\n",
    ")"
   ]
  }
 ],
 "metadata": {
  "kernelspec": {
   "display_name": "ossify",
   "language": "python",
   "name": "python3"
  },
  "language_info": {
   "codemirror_mode": {
    "name": "ipython",
    "version": 3
   },
   "file_extension": ".py",
   "mimetype": "text/x-python",
   "name": "python",
   "nbconvert_exporter": "python",
   "pygments_lexer": "ipython3",
   "version": "3.12.7"
  }
 },
 "nbformat": 4,
 "nbformat_minor": 5
}
