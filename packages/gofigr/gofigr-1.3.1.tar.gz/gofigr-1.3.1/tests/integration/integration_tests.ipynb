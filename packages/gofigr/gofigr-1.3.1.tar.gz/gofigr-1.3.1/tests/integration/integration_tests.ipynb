{
 "cells": [
  {
   "cell_type": "markdown",
   "id": "d139eda2",
   "metadata": {},
   "source": [
    "# Integration tests for the GoFigr Python client"
   ]
  },
  {
   "cell_type": "code",
   "execution_count": null,
   "id": "328cdce6",
   "metadata": {
    "ExecuteTime": {
     "end_time": "2024-02-05T20:20:38.628870Z",
     "start_time": "2024-02-05T20:20:38.469952Z"
    }
   },
   "outputs": [],
   "source": [
    "import json\n",
    "from platform import platform\n",
    "from collections import defaultdict\n",
    "\n",
    "from gofigr.jupyter import *\n",
    "import seaborn as sns\n",
    "import matplotlib.pyplot as plt\n",
    "import os\n",
    "import sys\n",
    "\n",
    "from datetime import datetime\n",
    "\n",
    "from gofigr.widget import *\n",
    "\n",
    "try:\n",
    "    import py3Dmol\n",
    "except:\n",
    "    print(\"Warning: running without py3dmol\", file=sys.stderr)\n",
    "\n",
    "START_TIME = datetime.now()\n",
    "TEST_RESULTS = []\n",
    "\n",
    "def sync():\n",
    "    with open(\"integration_test.json\", \"w\") as f:\n",
    "        json.dump({\n",
    "            'platform': platform(),\n",
    "            'elapsed_seconds': (datetime.now() - START_TIME).total_seconds(),\n",
    "            'results': TEST_RESULTS\n",
    "            }, f, indent=4)\n",
    "\n",
    "def check_text(txt, min_len=10):\n",
    "    return txt is not None and txt.strip() not in [\"N/A\", \"NA\"] and len(txt.strip()) >= min_len\n",
    "\n",
    "def check_figure(test_name, fig_name, expected_revisions=1):   \n",
    "    res = defaultdict(lambda: True)\n",
    "    res[\"test_name\"] = test_name\n",
    "    res[\"error\"] = None\n",
    "\n",
    "    last_rev = None\n",
    "    try:    \n",
    "        ana = get_extension().publisher.analysis\n",
    "        fig = ana.get_figure(fig_name, create=False)\n",
    "        fig.fetch()\n",
    "\n",
    "        res[\"elapsed_seconds\"] = (datetime.now() - START_TIME).total_seconds()\n",
    "        res[\"number_of_revisions\"] = len(fig.revisions) == expected_revisions\n",
    "\n",
    "        for rev in fig.revisions:\n",
    "            rev.fetch()\n",
    "            last_rev = rev\n",
    "            res[\"notebook_name\"] = res[\"notebook_name\"] and \\\n",
    "                check_text(rev.metadata[\"notebook_name\"])\n",
    "            res[\"notebook_path\"] = res[\"notebook_path\"] and \\\n",
    "                check_text(rev.metadata[\"notebook_path\"]) and os.path.exists(rev.metadata[\"notebook_path\"])\n",
    "            res[\"backend\"] = res[\"backend\"] and check_text(rev.metadata[\"backend\"], min_len=5)\n",
    "            res[\"kernel\"] = res[\"kernel\"] and check_text(rev.metadata[\"kernel\"], min_len=5)\n",
    "            res[\"python_version\"] = res[\"python_version\"] and check_text(rev.metadata[\"python_version\"], min_len=4)\n",
    "            \n",
    "            for img in rev.image_data:\n",
    "                image_key = f\"image_{img.format}\" + (\"_watermark\" if img.is_watermarked else \"\")\n",
    "                res[image_key] = res[image_key] and len(img.data) > 1000\n",
    "\n",
    "            for file in rev.file_data:\n",
    "                if \".pickle\" in file.name:\n",
    "                    res[\"file_pickle\"] = True\n",
    "\n",
    "            for code in rev.code_data:\n",
    "                txt = code.contents.strip()\n",
    "                if 'history' not in code.metadata['format']:\n",
    "                    res[\"cell_code\"] = res[\"cell_code\"] and check_text(txt)\n",
    "                else:\n",
    "                    res[\"history\"] = res[\"history\"] and check_text(txt, 50)\n",
    "                \n",
    "            for td in rev.text_data:\n",
    "                txt = td.contents.strip()\n",
    "                res['text'] = res[\"text\"] and check_text(txt)\n",
    "\n",
    "            res[\"num_assets\"] = len(rev.assets) == 2\n",
    "            res[\"num_assets_detail\"] = len(rev.assets)\n",
    "            res[\"asset_figure\"] = all([ast.figure_revision.api_id == rev.api_id for ast in rev.assets])\n",
    "            res[\"asset_rev_not_null\"] = all([ast.asset_revision.api_id is not None for ast in rev.assets])\n",
    "            res[\"asset_name\"] = all([ast.asset_revision.fetch().asset.fetch().name in (\"config.json\", \"integration_tests.ipynb\") for ast in rev.assets])\n",
    "\n",
    "        print(res)\n",
    "                \n",
    "    except Exception as e:\n",
    "        print(e)\n",
    "        res[\"error\"] = str(e)\n",
    "        res[\"last_revision\"] = last_rev.to_json() if last_rev is not None else None\n",
    "            \n",
    "    return dict(res.items())"
   ]
  },
  {
   "cell_type": "markdown",
   "id": "a1464470",
   "metadata": {},
   "source": [
    "# MPL: load the extension and publish a figure from the same cell"
   ]
  },
  {
   "cell_type": "code",
   "execution_count": null,
   "id": "dd3612b1",
   "metadata": {
    "ExecuteTime": {
     "end_time": "2024-02-05T20:20:48.377073Z",
     "start_time": "2024-02-05T20:20:46.936247Z"
    }
   },
   "outputs": [],
   "source": [
    "%load_ext gofigr\n",
    "\n",
    "# Assets\n",
    "gf.sync(\"config.json\")\n",
    "\n",
    "sns.set_style(\"darkgrid\")\n",
    "sns.set_context(\"talk\") \n",
    "\n",
    "gf = get_gofigr()\n",
    "\n",
    "# Try plotting in the same cell as configure(). auto_publish will break, but we should at least\n",
    "# get a warning\n",
    "fig_title1 = str(uuid4())\n",
    "plt.figure()\n",
    "plt.scatter(range(10), range(10))\n",
    "plt.title(fig_title1)"
   ]
  },
  {
   "cell_type": "code",
   "execution_count": null,
   "id": "2952c602",
   "metadata": {},
   "outputs": [],
   "source": [
    "TEST_RESULTS.append(check_figure(\"MPL: Configure and publish in one cell\", fig_title1))\n",
    "sync()"
   ]
  },
  {
   "cell_type": "markdown",
   "id": "700c4b24",
   "metadata": {},
   "source": [
    "# MPL: Anonymous figure"
   ]
  },
  {
   "cell_type": "code",
   "execution_count": null,
   "id": "e4ca5c82",
   "metadata": {},
   "outputs": [],
   "source": [
    "plt.scatter(x=range(10), y=range(10))"
   ]
  },
  {
   "cell_type": "code",
   "execution_count": null,
   "id": "040389f5",
   "metadata": {},
   "outputs": [],
   "source": [
    "TEST_RESULTS.append(check_figure(\"MPL: Anonymous figure\", \"Anonymous Figure\"))\n",
    "sync()"
   ]
  },
  {
   "cell_type": "markdown",
   "id": "df5aa713",
   "metadata": {},
   "source": [
    "# MPL: Manual call to publish"
   ]
  },
  {
   "cell_type": "code",
   "execution_count": null,
   "id": "5d401c8e-d50e-40e7-8a70-a99f6db4e227",
   "metadata": {
    "tags": []
   },
   "outputs": [],
   "source": [
    "iris = sns.load_dataset(\"iris\")\n",
    "\n",
    "title2 = str(uuid4())\n",
    "\n",
    "plt.figure(figsize=(6, 6))\n",
    "sns.scatterplot(data=iris, \n",
    "                x=\"sepal_length\", \n",
    "                y=\"petal_length\", \n",
    "                hue=\"species\", \n",
    "                palette=\"tab10\")\n",
    "plt.title(title2)\n",
    "\n",
    "publish(target=FindByName(title2, create=True),\n",
    "        dataframes={\"IRIS\": iris})"
   ]
  },
  {
   "cell_type": "code",
   "execution_count": null,
   "id": "90a11eb6",
   "metadata": {},
   "outputs": [],
   "source": [
    "TEST_RESULTS.append(check_figure(\"MPL: Manual publish\", title2))\n",
    "sync()"
   ]
  },
  {
   "cell_type": "markdown",
   "id": "3fa3606e",
   "metadata": {},
   "source": [
    "# MPL: Auto publish"
   ]
  },
  {
   "cell_type": "code",
   "execution_count": null,
   "id": "45c579cb",
   "metadata": {},
   "outputs": [],
   "source": [
    "iris = sns.load_dataset(\"iris\")\n",
    "\n",
    "title3 = str(uuid4())\n",
    "plt.figure(figsize=(6, 6))\n",
    "sns.scatterplot(data=iris, \n",
    "                x=\"sepal_length\", \n",
    "                y=\"petal_length\", \n",
    "                hue=\"species\", \n",
    "                palette=\"tab10\")\n",
    "plt.title(title3)"
   ]
  },
  {
   "cell_type": "code",
   "execution_count": null,
   "id": "9c37a7fa",
   "metadata": {},
   "outputs": [],
   "source": [
    "TEST_RESULTS.append(check_figure(\"MPL: Auto publish\", title3))\n",
    "sync()"
   ]
  },
  {
   "cell_type": "markdown",
   "id": "a1ce67c4",
   "metadata": {},
   "source": [
    "# MPL: Add revision"
   ]
  },
  {
   "cell_type": "code",
   "execution_count": null,
   "id": "086cd47b",
   "metadata": {},
   "outputs": [],
   "source": [
    "# Add a new revision to the same figure\n",
    "plt.figure(figsize=(6, 6))\n",
    "sns.scatterplot(data=iris, \n",
    "                x=\"sepal_length\", \n",
    "                y=\"petal_length\", \n",
    "                hue=\"species\", \n",
    "                palette=\"tab10\")\n",
    "plt.title(title3)"
   ]
  },
  {
   "cell_type": "code",
   "execution_count": null,
   "id": "2f115331",
   "metadata": {},
   "outputs": [],
   "source": [
    "TEST_RESULTS.append(check_figure(\"MPL: Auto-publish second revision\", title3,\n",
    "                                expected_revisions=2))\n",
    "sync()"
   ]
  },
  {
   "cell_type": "markdown",
   "id": "a63fa87f",
   "metadata": {},
   "source": [
    "# MPL: Inline backend"
   ]
  },
  {
   "cell_type": "code",
   "execution_count": null,
   "id": "6077c968",
   "metadata": {},
   "outputs": [],
   "source": [
    "%matplotlib inline\n",
    "%config InlineBackend.figure_format=\"retina\"\n",
    "\n",
    "title4 = str(uuid4())\n",
    "plt.figure()\n",
    "plt.scatter(range(10), range(10))\n",
    "plt.title(title4)"
   ]
  },
  {
   "cell_type": "code",
   "execution_count": null,
   "id": "500c26f5",
   "metadata": {},
   "outputs": [],
   "source": [
    "TEST_RESULTS.append(check_figure(\"MPL: inline backend\", title4))\n",
    "sync()"
   ]
  },
  {
   "cell_type": "markdown",
   "id": "0c960bd7",
   "metadata": {},
   "source": [
    "# MPL: Mix-and-match manual and auto publish"
   ]
  },
  {
   "cell_type": "code",
   "execution_count": null,
   "id": "df59eaa1",
   "metadata": {},
   "outputs": [],
   "source": [
    "title5 = str(uuid4())\n",
    "plt.figure(figsize=(6, 6))\n",
    "sns.scatterplot(data=iris, \n",
    "                x=\"sepal_length\", \n",
    "                y=\"petal_length\", \n",
    "                hue=\"species\", \n",
    "                palette=\"tab10\")\n",
    "plt.title(title5)\n",
    "publish()\n",
    "\n",
    "plt.figure(figsize=(4, 4))\n",
    "sns.scatterplot(data=iris, \n",
    "                x=\"sepal_length\", \n",
    "                y=\"petal_length\", \n",
    "                hue=\"species\", \n",
    "                palette=\"Set1\")\n",
    "plt.title(title5)"
   ]
  },
  {
   "cell_type": "code",
   "execution_count": null,
   "id": "dea59a52",
   "metadata": {},
   "outputs": [],
   "source": [
    "TEST_RESULTS.append(check_figure(\"MPL: Mix manual and auto-publish\", title5, expected_revisions=2))\n",
    "sync()"
   ]
  },
  {
   "cell_type": "markdown",
   "id": "89c2c622",
   "metadata": {},
   "source": [
    "# MPL: Subplots"
   ]
  },
  {
   "cell_type": "code",
   "execution_count": null,
   "id": "256e11e8",
   "metadata": {},
   "outputs": [],
   "source": [
    "import numpy as np\n",
    "\n",
    "title6 = str(uuid4())\n",
    "fig, ax = plt.subplots(nrows=2, ncols=2)\n",
    "ax = np.ravel(ax)\n",
    "\n",
    "for idx, axis in enumerate(ax):\n",
    "    axis.scatter(x=np.random.normal(loc=idx, size=100), y=np.random.normal(loc=idx, size=100))\n",
    "\n",
    "fig.suptitle(title6)"
   ]
  },
  {
   "cell_type": "code",
   "execution_count": null,
   "id": "6fd68403",
   "metadata": {},
   "outputs": [],
   "source": [
    "TEST_RESULTS.append(check_figure(\"MPL: Subplots\", title6, expected_revisions=1))\n",
    "sync()"
   ]
  },
  {
   "cell_type": "markdown",
   "id": "5c92aed4",
   "metadata": {},
   "source": [
    "# Plotly"
   ]
  },
  {
   "cell_type": "markdown",
   "id": "9552e6a3",
   "metadata": {},
   "source": [
    "## Static figure"
   ]
  },
  {
   "cell_type": "code",
   "execution_count": null,
   "id": "923b486b",
   "metadata": {},
   "outputs": [],
   "source": [
    "import plotly\n",
    "plotly.io.kaleido.scope.default_width = 800\n",
    "plotly.io.kaleido.scope.default_height = 600"
   ]
  },
  {
   "cell_type": "code",
   "execution_count": null,
   "id": "d6b3bd68",
   "metadata": {},
   "outputs": [],
   "source": [
    "import plotly.graph_objects as go\n",
    "import numpy as np\n",
    "np.random.seed(1)\n",
    "\n",
    "title7 = str(uuid4())\n",
    "\n",
    "N = 100\n",
    "x = np.random.rand(N)\n",
    "y = np.random.rand(N)\n",
    "colors = np.random.rand(N)\n",
    "sz = np.random.rand(N) * 30\n",
    "\n",
    "fig = go.Figure()\n",
    "fig.add_trace(go.Scatter(\n",
    "    x=x,\n",
    "    y=y,\n",
    "    mode=\"markers\",\n",
    "    marker=go.scatter.Marker(\n",
    "        size=sz,\n",
    "        color=colors,\n",
    "        opacity=0.6,\n",
    "        colorscale=\"Viridis\"\n",
    "    )))\n",
    "fig.update_layout(title=title7)\n",
    "\n",
    "fig.show()\n",
    "\n",
    "publish(fig=fig, image_options={'width': 800, 'height': 600})\n",
    "publish(fig=fig, image_options={'width': 1000, 'height': 800})"
   ]
  },
  {
   "cell_type": "code",
   "execution_count": null,
   "id": "af8af0f8",
   "metadata": {},
   "outputs": [],
   "source": [
    "TEST_RESULTS.append(check_figure(\"Plotly - manual publish\", title7, expected_revisions=3))\n",
    "sync()"
   ]
  },
  {
   "cell_type": "markdown",
   "id": "83703b74",
   "metadata": {},
   "source": [
    "## Plotly -- autopublish"
   ]
  },
  {
   "cell_type": "code",
   "execution_count": null,
   "id": "655cf429",
   "metadata": {},
   "outputs": [],
   "source": [
    "import plotly.express as px\n",
    "\n",
    "title8 = str(uuid4())\n",
    "df = px.data.iris()\n",
    "fig = px.scatter(df, x=\"sepal_length\", y=\"sepal_width\", color=\"species\",\n",
    "                title=title8)\n",
    "fig.show()"
   ]
  },
  {
   "cell_type": "code",
   "execution_count": null,
   "id": "2bd6600c",
   "metadata": {},
   "outputs": [],
   "source": [
    "TEST_RESULTS.append(check_figure(\"Plotly - autopublish\", title8, expected_revisions=1))\n",
    "sync()"
   ]
  },
  {
   "cell_type": "markdown",
   "id": "a47bffa6-299f-452e-8143-1e573c497f28",
   "metadata": {},
   "source": [
    "# Py3Dmol"
   ]
  },
  {
   "cell_type": "code",
   "execution_count": null,
   "id": "9ab5c261-0455-49fe-94bc-91894647886e",
   "metadata": {
    "jp-MarkdownHeadingCollapsed": true,
    "scrolled": true
   },
   "outputs": [],
   "source": [
    "title10 = str(uuid4())\n",
    "p = None\n",
    "if sys.version_info >= (3, 8):\n",
    "    p = py3Dmol.view(query='mmtf:1ycr')\n",
    "    p.setStyle({'cartoon': {'color':'spectrum'}})\n",
    "    p.title = title10\n",
    "\n",
    "p"
   ]
  },
  {
   "cell_type": "code",
   "execution_count": null,
   "id": "8ede6aed-f679-412c-90ec-c791cbc6886a",
   "metadata": {},
   "outputs": [],
   "source": [
    "TEST_RESULTS.append(check_figure(\"Py3Dmol - autopublish\", title10, expected_revisions=1))\n",
    "sync()"
   ]
  },
  {
   "cell_type": "markdown",
   "id": "18c7b609-dec1-4c60-b9e6-bfa22cf6ca7a",
   "metadata": {},
   "source": [
    "# Py3DMol -- call to show"
   ]
  },
  {
   "cell_type": "code",
   "execution_count": null,
   "id": "8b8472ff-cacf-458f-b5ca-f0280ced51ce",
   "metadata": {},
   "outputs": [],
   "source": [
    "title10b = str(uuid4())\n",
    "if sys.version_info >= (3, 8):\n",
    "    p = py3Dmol.view(query='mmtf:1ycr', width=1920, height=200)\n",
    "    p.setStyle({'cartoon': {'color':'spectrum'}})\n",
    "    p.title = title10b\n",
    "    p.show()"
   ]
  },
  {
   "cell_type": "code",
   "execution_count": null,
   "id": "c2ad7a3a-fa52-49e3-a950-a43d7b6b8090",
   "metadata": {},
   "outputs": [],
   "source": [
    "TEST_RESULTS.append(check_figure(\"Py3Dmol - call to show()\", title10b, expected_revisions=1))\n",
    "sync()"
   ]
  },
  {
   "cell_type": "markdown",
   "id": "b68c42c1-0d34-4498-abe5-a989c389bf5b",
   "metadata": {},
   "source": [
    "# Py3Dmol -- manual publish"
   ]
  },
  {
   "cell_type": "code",
   "execution_count": null,
   "id": "c2093ac5-3daa-4ff6-8d59-99ebcd058e1b",
   "metadata": {},
   "outputs": [],
   "source": [
    "title11 = str(uuid4())\n",
    "if sys.version_info >= (3, 8):\n",
    "    p = py3Dmol.view(query='mmtf:1ycr')\n",
    "    p.setStyle({'cartoon': {'color':'spectrum'}})\n",
    "    p.title = title11\n",
    "    publish(p)"
   ]
  },
  {
   "cell_type": "code",
   "execution_count": null,
   "id": "4bc82397-168a-4104-923c-5235491919c4",
   "metadata": {},
   "outputs": [],
   "source": [
    "TEST_RESULTS.append(check_figure(\"Py3Dmol - manual publish\", title11, expected_revisions=1))\n",
    "sync()"
   ]
  },
  {
   "cell_type": "markdown",
   "id": "a3c02e65-f777-4ecc-83eb-0d24b53a9c20",
   "metadata": {},
   "source": [
    "# Py3Dmol -- call to show and return view from cell"
   ]
  },
  {
   "cell_type": "code",
   "execution_count": null,
   "id": "234b98cd-ed99-40c0-80ae-6bfd094f2b88",
   "metadata": {},
   "outputs": [],
   "source": [
    "title12 = str(uuid4())\n",
    "p = None\n",
    "if sys.version_info >= (3, 8):\n",
    "    p = py3Dmol.view(query='mmtf:1ycr')\n",
    "    p.setStyle({'cartoon': {'color':'spectrum'}})\n",
    "    p.title = title12\n",
    "    p.show()\n",
    "\n",
    "p"
   ]
  },
  {
   "cell_type": "code",
   "execution_count": null,
   "id": "ca391deb-60cf-47c1-9c2c-1bd4f555b8e5",
   "metadata": {},
   "outputs": [],
   "source": [
    "TEST_RESULTS.append(check_figure(\"Py3Dmol - call to show and return view from cell\", title12, expected_revisions=1))\n",
    "sync()"
   ]
  },
  {
   "cell_type": "markdown",
   "id": "e72f099b-10c7-470b-87e9-712b6a4eef96",
   "metadata": {},
   "source": [
    "# plotnine - basic plot"
   ]
  },
  {
   "cell_type": "code",
   "execution_count": null,
   "id": "dd8aa354-f2d2-4986-bad7-2fb255a8cdbb",
   "metadata": {},
   "outputs": [],
   "source": [
    "from plotnine import *\n",
    "from plotnine.data import *"
   ]
  },
  {
   "cell_type": "code",
   "execution_count": null,
   "id": "ebfa375f-11b0-4b95-b8e2-dd1f3ad5253e",
   "metadata": {
    "scrolled": true
   },
   "outputs": [],
   "source": [
    "title13 = str(uuid4())\n",
    "\n",
    "fig = (\n",
    "    ggplot(mtcars, aes(\"wt\", \"mpg\", color=\"factor(gear)\"))\n",
    "    + geom_point()\n",
    "    + stat_smooth(method=\"lm\")\n",
    "    + facet_wrap(\"gear\")\n",
    "    + ggtitle(title13)\n",
    ")\n",
    "\n",
    "fig"
   ]
  },
  {
   "cell_type": "code",
   "execution_count": null,
   "id": "38b174dd-0124-4895-bbf4-752e5afa3558",
   "metadata": {},
   "outputs": [],
   "source": [
    "TEST_RESULTS.append(check_figure(\"plotnine - basic figure\", title13, expected_revisions=1))\n",
    "sync()"
   ]
  },
  {
   "cell_type": "markdown",
   "id": "806f95af-8ae6-4dca-aa3e-fdf8c55f5a3b",
   "metadata": {},
   "source": [
    "# plotnine - facets"
   ]
  },
  {
   "cell_type": "code",
   "execution_count": null,
   "id": "279897d0-9d99-4f10-8cbe-91af9e790d63",
   "metadata": {},
   "outputs": [],
   "source": [
    "meat_long = meat.melt(\n",
    "    id_vars=\"date\",\n",
    "    value_vars=[\"beef\", \"veal\", \"pork\", \"lamb_and_mutton\", \"broilers\", \"turkey\"],\n",
    "    var_name=\"animal\",\n",
    "    value_name=\"weight\"\n",
    ").dropna()\n",
    "\n",
    "meat_long.head()"
   ]
  },
  {
   "cell_type": "code",
   "execution_count": null,
   "id": "0000988d-4363-4365-a6b9-13ce96ea40df",
   "metadata": {},
   "outputs": [],
   "source": [
    "title14 = str(uuid4())\n",
    "\n",
    "# Gallery, lines\n",
    "def titled(strip_title):\n",
    "    return \" \".join(s.title() if s != \"and\" else s for s in strip_title.split(\"_\"))\n",
    "\n",
    "(\n",
    "    ggplot(meat_long, aes(\"date\", \"weight\", color=\"animal\"))\n",
    "    + geom_line(size=.5, show_legend=False)\n",
    "    + facet_wrap(\"animal\", labeller=titled)\n",
    "    + scale_x_datetime(date_breaks=\"20 years\", date_labels=\"%Y\")\n",
    "    + labs(\n",
    "        x=\"Date\",\n",
    "        y=\"Weight (million pounds)\",\n",
    "        title=title14,\n",
    "    )\n",
    "    + theme_538(base_size=9)\n",
    ")"
   ]
  },
  {
   "cell_type": "code",
   "execution_count": null,
   "id": "f7502a19-87f2-476c-97b3-2797a915b77e",
   "metadata": {},
   "outputs": [],
   "source": [
    "TEST_RESULTS.append(check_figure(\"plotnine - facets\", title14, expected_revisions=1))\n",
    "sync()"
   ]
  },
  {
   "cell_type": "markdown",
   "id": "7dcc924f-f169-4baa-9316-fa95a450a903",
   "metadata": {},
   "source": [
    "# plotnine - manual publish"
   ]
  },
  {
   "cell_type": "code",
   "execution_count": null,
   "id": "0f22937b-5f08-440a-8c2a-c8301836548c",
   "metadata": {},
   "outputs": [],
   "source": [
    "title15 = str(uuid4())\n",
    "\n",
    "fig = (\n",
    "    ggplot(mtcars, aes(\"wt\", \"mpg\", color=\"factor(gear)\"))\n",
    "    + geom_point()\n",
    "    + stat_smooth(method=\"lm\")\n",
    "    + facet_wrap(\"gear\")\n",
    "    + ggtitle(title15)\n",
    ")"
   ]
  },
  {
   "cell_type": "code",
   "execution_count": null,
   "id": "fe44c0e8-4bcf-4350-a0c1-3b0e8470d3b7",
   "metadata": {},
   "outputs": [],
   "source": [
    "publish(fig)"
   ]
  },
  {
   "cell_type": "code",
   "execution_count": null,
   "id": "6e6bcba5-12c0-4f0d-8bdb-030e533d5531",
   "metadata": {},
   "outputs": [],
   "source": [
    "TEST_RESULTS.append(check_figure(\"plotnine - manual publish\", title15, expected_revisions=1))\n",
    "sync()"
   ]
  },
  {
   "cell_type": "markdown",
   "id": "45fa1d8a",
   "metadata": {},
   "source": [
    "# Save results"
   ]
  },
  {
   "cell_type": "code",
   "execution_count": null,
   "id": "99d6608a",
   "metadata": {},
   "outputs": [],
   "source": [
    "with open(\"integration_test.json.done\", \"w\") as f:\n",
    "    f.write(\"done\\n\")"
   ]
  },
  {
   "cell_type": "code",
   "execution_count": null,
   "id": "7b43c78b",
   "metadata": {},
   "outputs": [],
   "source": [
    "!pwd"
   ]
  },
  {
   "cell_type": "code",
   "execution_count": null,
   "id": "e0dadfb3-12a0-44b5-9bec-a6dde376fb9d",
   "metadata": {},
   "outputs": [],
   "source": [
    "print(f\"Finished in {datetime.now() - START_TIME}\")"
   ]
  }
 ],
 "metadata": {
  "kernelspec": {
   "display_name": "Python 3 (ipykernel)",
   "language": "python",
   "name": "python3"
  },
  "language_info": {
   "codemirror_mode": {
    "name": "ipython",
    "version": 3
   },
   "file_extension": ".py",
   "mimetype": "text/x-python",
   "name": "python",
   "nbconvert_exporter": "python",
   "pygments_lexer": "ipython3",
   "version": "3.11.12"
  }
 },
 "nbformat": 4,
 "nbformat_minor": 5
}
