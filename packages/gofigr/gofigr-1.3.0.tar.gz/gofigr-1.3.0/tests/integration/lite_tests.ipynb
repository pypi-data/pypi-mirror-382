{
 "cells": [
  {
   "cell_type": "markdown",
   "id": "d139eda2",
   "metadata": {},
   "source": [
    "# Integration tests for the GoFigr Python client"
   ]
  },
  {
   "cell_type": "markdown",
   "id": "cd37c65e-400c-48be-9668-2046709b3f8e",
   "metadata": {},
   "source": [
    "## Lite version"
   ]
  },
  {
   "cell_type": "code",
   "execution_count": null,
   "id": "328cdce6",
   "metadata": {
    "ExecuteTime": {
     "end_time": "2024-02-05T20:20:38.628870Z",
     "start_time": "2024-02-05T20:20:38.469952Z"
    }
   },
   "outputs": [],
   "source": [
    "import json\n",
    "from platform import platform\n",
    "from collections import defaultdict\n",
    "\n",
    "import seaborn as sns\n",
    "import matplotlib.pyplot as plt\n",
    "import os\n",
    "import sys\n",
    "from uuid import uuid4\n",
    "from gofigr._version import VERSION\n",
    "\n",
    "import plotly\n",
    "import plotly.graph_objects as go\n",
    "import PIL\n",
    "\n",
    "\n",
    "from datetime import datetime\n",
    "\n",
    "START_TIME = datetime.now()\n",
    "TEST_RESULTS = []\n",
    "LAST_FIGURE = None\n",
    "\n",
    "def sync():\n",
    "    with open(\"lite_tests.json\", \"w\") as f:\n",
    "        json.dump({\n",
    "            'platform': platform(),\n",
    "            'elapsed_seconds': (datetime.now() - START_TIME).total_seconds(),\n",
    "            'results': TEST_RESULTS\n",
    "            }, f, indent=4)\n",
    "\n",
    "def check_text(txt, min_len=10):\n",
    "    return txt is not None and txt.strip() not in [\"N/A\", \"NA\"] and len(txt.strip()) >= min_len\n",
    "\n",
    "def check_figure(test_name, fig_name, expected_revisions=1):  \n",
    "    global LAST_FIGURE\n",
    "    \n",
    "    res = defaultdict(lambda: True)\n",
    "    res[\"test_name\"] = test_name\n",
    "    res[\"error\"] = None\n",
    "    res[\"elapsed_seconds\"] = (datetime.now() - START_TIME).total_seconds()\n",
    "\n",
    "    try:\n",
    "        ext = get_extension()\n",
    "        if len(ext.publisher.revision_log) == 0:\n",
    "            res['figure_processed'] = False\n",
    "        else:\n",
    "            new_fig = ext.publisher.revision_log[-1]\n",
    "            res['figure_processed'] = new_fig is not LAST_FIGURE\n",
    "            LAST_FIGURE = new_fig\n",
    "\n",
    "            meta = new_fig.revision.metadata\n",
    "            res['comm'] = ext.comm_data is not None\n",
    "            res['extension_version'] = ext.comm_data['extension_version'] == VERSION\n",
    "            res['metadata'] = meta is not None\n",
    "            res['notebook_name'] = meta['notebook_name'] == \"lite_tests.ipynb\"\n",
    "            res['notebook_path'] = os.path.exists(meta['notebook_path'])\n",
    "            res['title'] = new_fig.title == fig_name\n",
    "            res['image_not_null'] = new_fig.displayed_image is not None\n",
    "            res['image_type'] = type(new_fig.displayed_image).__name__\n",
    "            if \"plotly\" in test_name.lower():\n",
    "                res['image_type_check'] = isinstance(new_fig.displayed_image, go.Figure)\n",
    "            else:\n",
    "                res['image_type_check'] = isinstance(new_fig.displayed_image, PIL.Image.Image)\n",
    "                \n",
    "    except Exception as e:\n",
    "        print(e)\n",
    "        res[\"error\"] = str(e)\n",
    "        \n",
    "            \n",
    "    return dict(res.items())"
   ]
  },
  {
   "cell_type": "markdown",
   "id": "a1464470",
   "metadata": {},
   "source": [
    "# MPL: load the extension and publish a figure from the same cell"
   ]
  },
  {
   "cell_type": "code",
   "execution_count": null,
   "id": "dd3612b1",
   "metadata": {
    "ExecuteTime": {
     "end_time": "2024-02-05T20:20:48.377073Z",
     "start_time": "2024-02-05T20:20:46.936247Z"
    }
   },
   "outputs": [],
   "source": [
    "%load_ext gofigr.lite\n",
    "\n",
    "get_extension().publisher.log_revisions = True  # store revisions\n",
    "\n",
    "sns.set_style(\"darkgrid\")\n",
    "sns.set_context(\"talk\") \n",
    "\n",
    "# Try plotting in the same cell as configure(). auto_publish will break, but we should at least\n",
    "# get a warning\n",
    "fig_title1 = str(uuid4())\n",
    "plt.figure()\n",
    "plt.scatter(range(10), range(10))\n",
    "plt.title(fig_title1)"
   ]
  },
  {
   "cell_type": "code",
   "execution_count": null,
   "id": "2952c602",
   "metadata": {},
   "outputs": [],
   "source": [
    "TEST_RESULTS.append(check_figure(\"MPL: Configure and publish in one cell\", fig_title1))\n",
    "sync()"
   ]
  },
  {
   "cell_type": "code",
   "execution_count": null,
   "id": "a5e68418-1779-466a-8b1a-1970c5d83426",
   "metadata": {},
   "outputs": [],
   "source": [
    "TEST_RESULTS"
   ]
  },
  {
   "cell_type": "markdown",
   "id": "700c4b24",
   "metadata": {},
   "source": [
    "# MPL: Anonymous figure"
   ]
  },
  {
   "cell_type": "code",
   "execution_count": null,
   "id": "e4ca5c82",
   "metadata": {},
   "outputs": [],
   "source": [
    "plt.scatter(x=range(10), y=range(10))"
   ]
  },
  {
   "cell_type": "code",
   "execution_count": null,
   "id": "040389f5",
   "metadata": {},
   "outputs": [],
   "source": [
    "TEST_RESULTS.append(check_figure(\"MPL: Anonymous figure\", None))\n",
    "sync()"
   ]
  },
  {
   "cell_type": "markdown",
   "id": "df5aa713",
   "metadata": {},
   "source": [
    "# MPL: Manual call to publish"
   ]
  },
  {
   "cell_type": "code",
   "execution_count": null,
   "id": "5d401c8e-d50e-40e7-8a70-a99f6db4e227",
   "metadata": {
    "tags": []
   },
   "outputs": [],
   "source": [
    "iris = sns.load_dataset(\"iris\")\n",
    "\n",
    "title2 = str(uuid4())\n",
    "\n",
    "plt.figure(figsize=(6, 6))\n",
    "sns.scatterplot(data=iris, \n",
    "                x=\"sepal_length\", \n",
    "                y=\"petal_length\", \n",
    "                hue=\"species\", \n",
    "                palette=\"tab10\")\n",
    "plt.title(title2)\n",
    "\n",
    "publish(dataframes={\"IRIS\": iris})"
   ]
  },
  {
   "cell_type": "code",
   "execution_count": null,
   "id": "90a11eb6",
   "metadata": {},
   "outputs": [],
   "source": [
    "TEST_RESULTS.append(check_figure(\"MPL: Manual publish\", title2))\n",
    "sync()"
   ]
  },
  {
   "cell_type": "markdown",
   "id": "3fa3606e",
   "metadata": {},
   "source": [
    "# MPL: Auto publish"
   ]
  },
  {
   "cell_type": "code",
   "execution_count": null,
   "id": "45c579cb",
   "metadata": {},
   "outputs": [],
   "source": [
    "iris = sns.load_dataset(\"iris\")\n",
    "\n",
    "title3 = str(uuid4())\n",
    "plt.figure(figsize=(6, 6))\n",
    "sns.scatterplot(data=iris, \n",
    "                x=\"sepal_length\", \n",
    "                y=\"petal_length\", \n",
    "                hue=\"species\", \n",
    "                palette=\"tab10\")\n",
    "plt.title(title3)"
   ]
  },
  {
   "cell_type": "code",
   "execution_count": null,
   "id": "9c37a7fa",
   "metadata": {},
   "outputs": [],
   "source": [
    "TEST_RESULTS.append(check_figure(\"MPL: Auto publish\", title3))\n",
    "sync()"
   ]
  },
  {
   "cell_type": "markdown",
   "id": "a1ce67c4",
   "metadata": {},
   "source": [
    "# MPL: Add revision"
   ]
  },
  {
   "cell_type": "code",
   "execution_count": null,
   "id": "086cd47b",
   "metadata": {},
   "outputs": [],
   "source": [
    "# Add a new revision to the same figure\n",
    "plt.figure(figsize=(6, 6))\n",
    "sns.scatterplot(data=iris, \n",
    "                x=\"sepal_length\", \n",
    "                y=\"petal_length\", \n",
    "                hue=\"species\", \n",
    "                palette=\"tab10\")\n",
    "plt.title(title3)"
   ]
  },
  {
   "cell_type": "code",
   "execution_count": null,
   "id": "2f115331",
   "metadata": {},
   "outputs": [],
   "source": [
    "TEST_RESULTS.append(check_figure(\"MPL: Auto-publish second revision\", title3,\n",
    "                                expected_revisions=2))\n",
    "sync()"
   ]
  },
  {
   "cell_type": "markdown",
   "id": "a63fa87f",
   "metadata": {},
   "source": [
    "# MPL: Inline backend"
   ]
  },
  {
   "cell_type": "code",
   "execution_count": null,
   "id": "6077c968",
   "metadata": {},
   "outputs": [],
   "source": [
    "%matplotlib inline\n",
    "%config InlineBackend.figure_format=\"retina\"\n",
    "\n",
    "title4 = str(uuid4())\n",
    "plt.figure()\n",
    "plt.scatter(range(10), range(10))\n",
    "plt.title(title4)"
   ]
  },
  {
   "cell_type": "code",
   "execution_count": null,
   "id": "500c26f5",
   "metadata": {},
   "outputs": [],
   "source": [
    "TEST_RESULTS.append(check_figure(\"MPL: inline backend\", title4))\n",
    "sync()"
   ]
  },
  {
   "cell_type": "markdown",
   "id": "0c960bd7",
   "metadata": {},
   "source": [
    "# MPL: Mix-and-match manual and auto publish"
   ]
  },
  {
   "cell_type": "code",
   "execution_count": null,
   "id": "df59eaa1",
   "metadata": {},
   "outputs": [],
   "source": [
    "title5 = str(uuid4())\n",
    "plt.figure(figsize=(6, 6))\n",
    "sns.scatterplot(data=iris, \n",
    "                x=\"sepal_length\", \n",
    "                y=\"petal_length\", \n",
    "                hue=\"species\", \n",
    "                palette=\"tab10\")\n",
    "plt.title(title5)\n",
    "publish()\n",
    "\n",
    "plt.figure(figsize=(4, 4))\n",
    "sns.scatterplot(data=iris, \n",
    "                x=\"sepal_length\", \n",
    "                y=\"petal_length\", \n",
    "                hue=\"species\", \n",
    "                palette=\"Set1\")\n",
    "plt.title(title5)"
   ]
  },
  {
   "cell_type": "code",
   "execution_count": null,
   "id": "dea59a52",
   "metadata": {},
   "outputs": [],
   "source": [
    "TEST_RESULTS.append(check_figure(\"MPL: Mix manual and auto-publish\", title5, expected_revisions=2))\n",
    "sync()"
   ]
  },
  {
   "cell_type": "markdown",
   "id": "89c2c622",
   "metadata": {},
   "source": [
    "# MPL: Subplots"
   ]
  },
  {
   "cell_type": "code",
   "execution_count": null,
   "id": "256e11e8",
   "metadata": {},
   "outputs": [],
   "source": [
    "import numpy as np\n",
    "\n",
    "title6 = str(uuid4())\n",
    "fig, ax = plt.subplots(nrows=2, ncols=2)\n",
    "ax = np.ravel(ax)\n",
    "\n",
    "for idx, axis in enumerate(ax):\n",
    "    axis.scatter(x=np.random.normal(loc=idx, size=100), y=np.random.normal(loc=idx, size=100))\n",
    "\n",
    "fig.suptitle(title6)"
   ]
  },
  {
   "cell_type": "code",
   "execution_count": null,
   "id": "6fd68403",
   "metadata": {},
   "outputs": [],
   "source": [
    "TEST_RESULTS.append(check_figure(\"MPL: Subplots\", title6, expected_revisions=1))\n",
    "sync()"
   ]
  },
  {
   "cell_type": "markdown",
   "id": "5c92aed4",
   "metadata": {},
   "source": [
    "# Plotly"
   ]
  },
  {
   "cell_type": "markdown",
   "id": "9552e6a3",
   "metadata": {},
   "source": [
    "## Static figure"
   ]
  },
  {
   "cell_type": "code",
   "execution_count": null,
   "id": "d6b3bd68",
   "metadata": {},
   "outputs": [],
   "source": [
    "import numpy as np\n",
    "np.random.seed(1)\n",
    "\n",
    "title7 = str(uuid4())\n",
    "\n",
    "N = 100\n",
    "x = np.random.rand(N)\n",
    "y = np.random.rand(N)\n",
    "colors = np.random.rand(N)\n",
    "sz = np.random.rand(N) * 30\n",
    "\n",
    "fig = go.Figure()\n",
    "fig.add_trace(go.Scatter(\n",
    "    x=x,\n",
    "    y=y,\n",
    "    mode=\"markers\",\n",
    "    marker=go.scatter.Marker(\n",
    "        size=sz,\n",
    "        color=colors,\n",
    "        opacity=0.6,\n",
    "        colorscale=\"Viridis\"\n",
    "    )))\n",
    "fig.update_layout(title=title7)\n",
    "\n",
    "fig.show()\n",
    "\n",
    "publish(fig=fig, image_options={'width': 800, 'height': 600})\n",
    "publish(fig=fig, image_options={'width': 1000, 'height': 800})"
   ]
  },
  {
   "cell_type": "code",
   "execution_count": null,
   "id": "af8af0f8",
   "metadata": {},
   "outputs": [],
   "source": [
    "TEST_RESULTS.append(check_figure(\"Plotly - manual publish\", title7, expected_revisions=3))\n",
    "sync()"
   ]
  },
  {
   "cell_type": "markdown",
   "id": "83703b74",
   "metadata": {},
   "source": [
    "## Plotly -- autopublish"
   ]
  },
  {
   "cell_type": "code",
   "execution_count": null,
   "id": "655cf429",
   "metadata": {},
   "outputs": [],
   "source": [
    "import plotly.express as px\n",
    "\n",
    "title8 = str(uuid4())\n",
    "df = px.data.iris()\n",
    "fig = px.scatter(df, x=\"sepal_length\", y=\"sepal_width\", color=\"species\",\n",
    "                title=title8)\n",
    "fig.show()"
   ]
  },
  {
   "cell_type": "code",
   "execution_count": null,
   "id": "2bd6600c",
   "metadata": {},
   "outputs": [],
   "source": [
    "TEST_RESULTS.append(check_figure(\"Plotly - autopublish\", title8, expected_revisions=1))\n",
    "sync()"
   ]
  },
  {
   "cell_type": "markdown",
   "id": "e72f099b-10c7-470b-87e9-712b6a4eef96",
   "metadata": {},
   "source": [
    "# plotnine - basic plot"
   ]
  },
  {
   "cell_type": "code",
   "execution_count": null,
   "id": "dd8aa354-f2d2-4986-bad7-2fb255a8cdbb",
   "metadata": {},
   "outputs": [],
   "source": [
    "from plotnine import *\n",
    "from plotnine.data import *"
   ]
  },
  {
   "cell_type": "code",
   "execution_count": null,
   "id": "ebfa375f-11b0-4b95-b8e2-dd1f3ad5253e",
   "metadata": {},
   "outputs": [],
   "source": [
    "title13 = str(uuid4())\n",
    "\n",
    "fig = (\n",
    "    ggplot(mtcars, aes(\"wt\", \"mpg\", color=\"factor(gear)\"))\n",
    "    + geom_point()\n",
    "    + stat_smooth(method=\"lm\")\n",
    "    + facet_wrap(\"gear\")\n",
    "    + ggtitle(title13)\n",
    ")\n",
    "\n",
    "fig"
   ]
  },
  {
   "cell_type": "code",
   "execution_count": null,
   "id": "38b174dd-0124-4895-bbf4-752e5afa3558",
   "metadata": {},
   "outputs": [],
   "source": [
    "TEST_RESULTS.append(check_figure(\"plotnine - basic figure\", title13, expected_revisions=1))\n",
    "sync()"
   ]
  },
  {
   "cell_type": "markdown",
   "id": "806f95af-8ae6-4dca-aa3e-fdf8c55f5a3b",
   "metadata": {},
   "source": [
    "# plotnine - facets"
   ]
  },
  {
   "cell_type": "code",
   "execution_count": null,
   "id": "279897d0-9d99-4f10-8cbe-91af9e790d63",
   "metadata": {},
   "outputs": [],
   "source": [
    "meat_long = meat.melt(\n",
    "    id_vars=\"date\",\n",
    "    value_vars=[\"beef\", \"veal\", \"pork\", \"lamb_and_mutton\", \"broilers\", \"turkey\"],\n",
    "    var_name=\"animal\",\n",
    "    value_name=\"weight\"\n",
    ").dropna()\n",
    "\n",
    "meat_long.head()"
   ]
  },
  {
   "cell_type": "code",
   "execution_count": null,
   "id": "0000988d-4363-4365-a6b9-13ce96ea40df",
   "metadata": {},
   "outputs": [],
   "source": [
    "title14 = str(uuid4())\n",
    "\n",
    "# Gallery, lines\n",
    "def titled(strip_title):\n",
    "    return \" \".join(s.title() if s != \"and\" else s for s in strip_title.split(\"_\"))\n",
    "\n",
    "(\n",
    "    ggplot(meat_long, aes(\"date\", \"weight\", color=\"animal\"))\n",
    "    + geom_line(size=.5, show_legend=False)\n",
    "    + facet_wrap(\"animal\", labeller=titled)\n",
    "    + scale_x_datetime(date_breaks=\"20 years\", date_labels=\"%Y\")\n",
    "    + labs(\n",
    "        x=\"Date\",\n",
    "        y=\"Weight (million pounds)\",\n",
    "        title=title14,\n",
    "    )\n",
    "    + theme_538(base_size=9)\n",
    ")"
   ]
  },
  {
   "cell_type": "code",
   "execution_count": null,
   "id": "f7502a19-87f2-476c-97b3-2797a915b77e",
   "metadata": {},
   "outputs": [],
   "source": [
    "TEST_RESULTS.append(check_figure(\"plotnine - facets\", title14, expected_revisions=1))\n",
    "sync()"
   ]
  },
  {
   "cell_type": "markdown",
   "id": "7dcc924f-f169-4baa-9316-fa95a450a903",
   "metadata": {},
   "source": [
    "# plotnine - manual publish"
   ]
  },
  {
   "cell_type": "code",
   "execution_count": null,
   "id": "0f22937b-5f08-440a-8c2a-c8301836548c",
   "metadata": {},
   "outputs": [],
   "source": [
    "title15 = str(uuid4())\n",
    "\n",
    "fig = (\n",
    "    ggplot(mtcars, aes(\"wt\", \"mpg\", color=\"factor(gear)\"))\n",
    "    + geom_point()\n",
    "    + stat_smooth(method=\"lm\")\n",
    "    + facet_wrap(\"gear\")\n",
    "    + ggtitle(title15)\n",
    ")"
   ]
  },
  {
   "cell_type": "code",
   "execution_count": null,
   "id": "fe44c0e8-4bcf-4350-a0c1-3b0e8470d3b7",
   "metadata": {},
   "outputs": [],
   "source": [
    "publish(fig)"
   ]
  },
  {
   "cell_type": "code",
   "execution_count": null,
   "id": "6e6bcba5-12c0-4f0d-8bdb-030e533d5531",
   "metadata": {},
   "outputs": [],
   "source": [
    "TEST_RESULTS.append(check_figure(\"plotnine - manual publish\", title15, expected_revisions=1))\n",
    "sync()"
   ]
  },
  {
   "cell_type": "markdown",
   "id": "81eafa60-a52e-4344-bdd7-584ebd60d9ea",
   "metadata": {},
   "source": [
    "# View results"
   ]
  },
  {
   "cell_type": "code",
   "execution_count": null,
   "id": "cdb2d7d3-d45b-42bb-b457-9a9cd98bb798",
   "metadata": {},
   "outputs": [],
   "source": [
    "import pandas as pd\n",
    "pd.DataFrame(TEST_RESULTS)"
   ]
  },
  {
   "cell_type": "markdown",
   "id": "45fa1d8a",
   "metadata": {},
   "source": [
    "# Save results"
   ]
  },
  {
   "cell_type": "code",
   "execution_count": null,
   "id": "99d6608a",
   "metadata": {},
   "outputs": [],
   "source": [
    "with open(\"integration_test.json.done\", \"w\") as f:\n",
    "    f.write(\"done\\n\")"
   ]
  },
  {
   "cell_type": "code",
   "execution_count": null,
   "id": "7b43c78b",
   "metadata": {},
   "outputs": [],
   "source": [
    "!pwd"
   ]
  },
  {
   "cell_type": "code",
   "execution_count": null,
   "id": "e0dadfb3-12a0-44b5-9bec-a6dde376fb9d",
   "metadata": {},
   "outputs": [],
   "source": [
    "print(f\"Finished in {datetime.now() - START_TIME}\")"
   ]
  },
  {
   "cell_type": "code",
   "execution_count": null,
   "id": "e829420e-d97d-4b4d-b454-6ab9aaaf648a",
   "metadata": {},
   "outputs": [],
   "source": [
    "get_extension"
   ]
  }
 ],
 "metadata": {
  "kernelspec": {
   "display_name": "Python 3 (ipykernel)",
   "language": "python",
   "name": "python3"
  },
  "language_info": {
   "codemirror_mode": {
    "name": "ipython",
    "version": 3
   },
   "file_extension": ".py",
   "mimetype": "text/x-python",
   "name": "python",
   "nbconvert_exporter": "python",
   "pygments_lexer": "ipython3",
   "version": "3.11.12"
  }
 },
 "nbformat": 4,
 "nbformat_minor": 5
}
