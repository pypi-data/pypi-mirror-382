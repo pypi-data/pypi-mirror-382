{
 "cells": [
  {
   "cell_type": "markdown",
   "id": "25cebcac-fa5e-4e15-af32-140da2518e42",
   "metadata": {},
   "source": [
    "# Jscatter\n",
    "\n",
    "#### The aim of Jscatter is the treatment of experimental data and models\n",
    "\n",
    "<img src=\"https://jscatter.readthedocs.io/en/latest/_static/Jscatter1.gif\" \n",
    "     align=\"right\" \n",
    "     width=\"250\" />\n",
    "\n",
    "* Reading and analyzing experimental data with associated attributes as temperature, wavevector, comment, ....\n",
    "* **Multidimensional fitting** taking attributes into account.\n",
    "* Providing useful models for **neutron and X-ray scattering** as form factors, structure factors\n",
    "  and dynamic models (quasi elastic neutron scattering) and other topics.\n",
    "* Simplified plotting with paper ready quality (preferred in xmgrace).\n",
    "* Easy model building for non programmers.\n",
    "* Python scripts to document data evaluation and modelling.\n",
    "\n",
    "\n",
    "Online Documentation:\n",
    "\n",
    "[Documentation](https://jscatter.readthedocs.io/en/latest/index.html), \n",
    "[Beginners Guide](https://jscatter.readthedocs.io/en/latest/BeginnersGuide.html)\n",
    "[Examples](https://jscatter.readthedocs.io/en/latest/examples.html)\n",
    "[formfactor](https://jscatter.readthedocs.io/en/latest/formfactor.html), \n",
    "[structurefactor](https://jscatter.readthedocs.io/en/latest/structurefactor.html)\n",
    "[dynamic](https://jscatter.readthedocs.io/en/latest/dynamic.html)\n",
    "\n",
    "The present notebook directory contains some introductory files similar to the \n",
    "BeginnersGuide in the HTML documentation.\n",
    "\n",
    "- [BeginnersGuide](Jscatter_BeginnersGuide.ipynb)\n",
    "- [ReadData](Jscatter_ReadData.ipynb)\n",
    "- [BuildModels](Jscatter_BuildModels.ipynb)\n",
    "- [Data Analysis (fitting)](Jscatter_DataAnalysis.ipynb)\n",
    "- [Lattices](Jscatter_Lattice.ipynb)\n",
    "- [Template](Jscatter_Template.ipynb)     \n",
    "- [Jupyter installation hints](Jscatter_JupyterInstallation.ipynb)\n",
    "\n",
    "additinal online notebooks for simple calculations\n",
    "- [PEG_matching](Jscatter_PEG_matching.ipynb)\n",
    "\n",
    "More advanced topics (these may take a bit longer, maybe not on Binder)\n",
    "\n",
    "- [Protein Normal Modes Scattering](Jscatter_proteinNormalModesScattering.ipynb)\n",
    "\n",
    "Jupyter is a nice tool for demonstration, first learning and fast running evaluations. \n",
    "For strong usage with models that may take some time for calculation \n",
    "and fitting it is easier to use a command shell on Linux/OSX or even Windows. \n",
    "The shell can be put into background or on a cluster you can \n",
    "detach a shell running screen to later reconnect (there should be no graphical output).\n",
    "\n",
    "For Jupyter the needed matplotlib is somehow slow that \n",
    "during the fit not updated output is possible (but it works).\n",
    "\n",
    "The [Jupyter installation hints](Jscatter_Jupyterinstallation.ipynb) contain a header section that installs Jscatter on a read only server.\n",
    "If you run the notebooks on your local computer Jscatter may be installed\n",
    "once as explained in one notebook. \n",
    "\n",
    "Then you need only to import Jscatter and if you like NumPy.\n"
   ]
  },
  {
   "cell_type": "code",
   "execution_count": null,
   "id": "7109841f-8785-481f-978f-c33e6f8ada69",
   "metadata": {},
   "outputs": [],
   "source": []
  }
 ],
 "metadata": {
  "kernelspec": {
   "display_name": "Python 3 (ipykernel)",
   "language": "python",
   "name": "python3"
  },
  "language_info": {
   "codemirror_mode": {
    "name": "ipython",
    "version": 3
   },
   "file_extension": ".py",
   "mimetype": "text/x-python",
   "name": "python",
   "nbconvert_exporter": "python",
   "pygments_lexer": "ipython3",
   "version": "3.11.5"
  }
 },
 "nbformat": 4,
 "nbformat_minor": 5
}
