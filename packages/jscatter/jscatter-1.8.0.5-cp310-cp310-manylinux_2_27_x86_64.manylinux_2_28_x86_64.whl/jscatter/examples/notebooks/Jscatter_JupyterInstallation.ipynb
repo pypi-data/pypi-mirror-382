{
 "cells": [
  {
   "cell_type": "markdown",
   "metadata": {},
   "source": [
    "# Jscatter Installation\n",
    "\n",
    "This Notebook aims to explain how to install and use Jscatter on a Jupyter Notebook on your personal computer or on a Jupyter server.\n",
    "\n",
    "### Content\n",
    "- Install Jscatter and prerequisites on readonly Jupyter server \n",
    "- Use Jupyter locally\n",
    " - Install Jupyter\n",
    " - Decide which plotting utility you use\n",
    " - Use Jscatter\n",
    "\n",
    "\n",
    "![Jscatter](https://jscatter.readthedocs.io/en/latest/_images/Jscatter.jpeg \"Jscatter\")"
   ]
  },
  {
   "cell_type": "markdown",
   "metadata": {},
   "source": [
    "\n",
    "### Install Jscatter and prerequisites on readonly Jupyter server\n",
    "Only neede if you cannot install jscatter before starting the server.\n",
    "\n",
    "Open a new notebook on the server. To install Jscatter and prerequisite use the following.\n",
    "After first install the prerequisites may be cached that installation is faster.\n",
    "\n",
    "This adds main prerequisites numpy, scipy, matplotlib and Pillow if they are not preinstalled. sys.executable knows the actual running kernel."
   ]
  },
  {
   "cell_type": "code",
   "execution_count": null,
   "metadata": {},
   "outputs": [],
   "source": [
    "import sys\n",
    "# !{sys.executable} -m pip install jscatter     # if jscatter is not installed do this   "
   ]
  },
  {
   "cell_type": "markdown",
   "metadata": {},
   "source": [
    "#### Select matplotlib interactive backend and start to use Jscatter\n",
    "Backend selection needs to be done before anything else to get interactive plots.\n",
    "'widget' result in interactive plots."
   ]
  },
  {
   "cell_type": "code",
   "execution_count": null,
   "metadata": {},
   "outputs": [],
   "source": [
    "%matplotlib widget\n",
    "\n",
    "import jscatter as js\n",
    "import numpy as np\n",
    "\n",
    "js.usempl(True)   # force matplotlib, not needed in Linux"
   ]
  },
  {
   "cell_type": "markdown",
   "metadata": {},
   "source": [
    "## Use Jupyter locally\n",
    "### Install Jupyter \n",
    "To use Jscatter please follow the specific [installation instructions](https://jscatter.readthedocs.io/en/latest/Installation.html).\n",
    "\n",
    "The Jupyter installation is explained at [Jupyter](https://jupyter.readthedocs.io/en/latest/install.html) which is mainly for python3:   \n",
    "\n",
    "    pip3 install jupyter\n",
    "\n",
    "After installing Jupyter start it by\n",
    "\n",
    "    jupyter-lab\n",
    "\n",
    "A browser window will open. Open a new notebook."
   ]
  },
  {
   "cell_type": "code",
   "execution_count": null,
   "metadata": {},
   "outputs": [],
   "source": [
    "%matplotlib widget"
   ]
  },
  {
   "cell_type": "markdown",
   "metadata": {},
   "source": [
    "### Use Jscatter"
   ]
  },
  {
   "cell_type": "code",
   "execution_count": null,
   "metadata": {
    "scrolled": true
   },
   "outputs": [],
   "source": [
    "import jscatter as js\n",
    "import numpy as np"
   ]
  },
  {
   "cell_type": "code",
   "execution_count": null,
   "metadata": {},
   "outputs": [],
   "source": [
    "js.usempl(True)   # force matplotlip output during fits"
   ]
  }
 ],
 "metadata": {
  "kernelspec": {
   "display_name": "Python 3 (ipykernel)",
   "language": "python",
   "name": "python3"
  },
  "language_info": {
   "codemirror_mode": {
    "name": "ipython",
    "version": 3
   },
   "file_extension": ".py",
   "mimetype": "text/x-python",
   "name": "python",
   "nbconvert_exporter": "python",
   "pygments_lexer": "ipython3",
   "version": "3.11.5"
  }
 },
 "nbformat": 4,
 "nbformat_minor": 4
}
