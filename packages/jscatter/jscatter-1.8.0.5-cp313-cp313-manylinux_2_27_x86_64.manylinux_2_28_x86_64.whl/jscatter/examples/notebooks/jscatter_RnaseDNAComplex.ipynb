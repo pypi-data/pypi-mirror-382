{
 "cells": [
  {
   "cell_type": "markdown",
   "metadata": {},
   "source": [
    "# Complex of Rnase with DNA: deuteration and matching\n",
    "\n"
   ]
  },
  {
   "cell_type": "markdown",
   "metadata": {},
   "source": [
    "#### Prerequisite "
   ]
  },
  {
   "cell_type": "code",
   "execution_count": null,
   "metadata": {},
   "outputs": [],
   "source": [
    "%matplotlib widget\n",
    "\n",
    "import jscatter as js\n",
    "import numpy as np\n",
    "js.usempl(True)   # force matplotlib, not needed in Linux\n",
    "import nglview as nv"
   ]
  },
  {
   "cell_type": "markdown",
   "metadata": {},
   "source": [
    "#### load a protein DNA complex"
   ]
  },
  {
   "cell_type": "code",
   "execution_count": null,
   "metadata": {},
   "outputs": [],
   "source": [
    "universe = js.bio.scatteringUniverse('2ez6',addHydrogen='pymol')\n",
    "print(universe.select_atoms('type H').n_atoms, ' hydrogens')\n"
   ]
  },
  {
   "cell_type": "markdown",
   "metadata": {},
   "source": [
    "#### look at the loaded structure"
   ]
  },
  {
   "cell_type": "code",
   "execution_count": null,
   "metadata": {},
   "outputs": [],
   "source": [
    "w = nv.show_mdanalysis(universe)\n",
    "w"
   ]
  },
  {
   "cell_type": "code",
   "execution_count": null,
   "metadata": {},
   "outputs": [],
   "source": [
    "protein = universe.select_atoms('protein')\n",
    "dna = universe.select_atoms('nucleic')"
   ]
  },
  {
   "cell_type": "code",
   "execution_count": null,
   "metadata": {},
   "outputs": [],
   "source": [
    "v = nv.show_mdanalysis(protein)\n",
    "v"
   ]
  },
  {
   "cell_type": "markdown",
   "metadata": {},
   "source": [
    "### Set universe parameters for scattering and calc scattering for the parts"
   ]
  },
  {
   "cell_type": "code",
   "execution_count": null,
   "metadata": {},
   "outputs": [],
   "source": [
    "universe.qlist = np.r_[0.1, 0.1:4:0.03]\n",
    "universe.setSolvent(['1D2O1', '0H2O1'])\n",
    "\n",
    "Icomplex = js.bio.nscatIntUniv(universe.atoms)\n",
    "Iprotein = js.bio.nscatIntUniv(protein.atoms)\n",
    "Idna = js.bio.nscatIntUniv(dna.atoms)"
   ]
  },
  {
   "cell_type": "code",
   "execution_count": null,
   "metadata": {},
   "outputs": [],
   "source": [
    "p = js.mplot()\n",
    "p.Xaxis(scale='log')\n",
    "p.Yaxis(scale='log')\n",
    "p.Plot(Icomplex,le='complex')\n",
    "p.Plot(Iprotein,le='protein')\n",
    "p.Plot(Idna,le='DNA')\n",
    "p.Legend()\n"
   ]
  },
  {
   "cell_type": "markdown",
   "metadata": {},
   "source": [
    "### Deuterate protein or DNA"
   ]
  },
  {
   "cell_type": "code",
   "execution_count": null,
   "metadata": {},
   "outputs": [],
   "source": [
    "universe.atoms.deuteration = 0\n",
    "# deuterate dna\n",
    "dna.atoms.deuteration = 1\n",
    "I_ddna = js.bio.nscatIntUniv(universe.atoms)\n",
    "p.Plot(I_ddna,le='d-dna');\n",
    "\n",
    "universe.atoms.deuteration = 0\n",
    "# deuterate dna\n",
    "protein.atoms.deuteration = 1\n",
    "I_dprotein = js.bio.nscatIntUniv(universe.atoms)\n",
    "p.Plot(I_dprotein,le='d-protein');\n",
    "p.Legend()"
   ]
  },
  {
   "cell_type": "markdown",
   "metadata": {},
   "source": [
    "### A matching experiment"
   ]
  },
  {
   "cell_type": "code",
   "execution_count": null,
   "metadata": {
    "scrolled": true
   },
   "outputs": [],
   "source": [
    "universe.atoms.deuteration = 0\n",
    "universe.qlist = np.r_[0.1:4:0.1]\n",
    "match = js.dL()\n",
    "\n",
    "for d2o in np.r_[0:1.1:0.1]:\n",
    "    universe.setSolvent([f'{d2o:.2f}D2O1', f'{1-d2o:.2f}H2O1'])\n",
    "    I = js.bio.nscatIntUniv(protein,refreshVolume=False)\n",
    "    match.append(I)\n"
   ]
  },
  {
   "cell_type": "code",
   "execution_count": null,
   "metadata": {},
   "outputs": [],
   "source": [
    "p1 = js.mplot()\n",
    "p1.Xaxis(label='$Q / nm^-1$',scale='log')\n",
    "p1.Yaxis(label='I(Q) / a.u.',scale='log')\n",
    "p1.Plot(match,le='$d2oFract')\n",
    "\n",
    "p1.Legend()"
   ]
  },
  {
   "cell_type": "code",
   "execution_count": null,
   "metadata": {},
   "outputs": [],
   "source": [
    "p2 = js.mplot()\n",
    "p2.Xaxis(label='d2o content')\n",
    "p2.Yaxis(label='I(0)',scale='log')\n",
    "p2.plot(match.d2oFract,match.I0)\n"
   ]
  },
  {
   "cell_type": "code",
   "execution_count": null,
   "metadata": {},
   "outputs": [],
   "source": []
  }
 ],
 "metadata": {
  "@webio": {
   "lastCommId": null,
   "lastKernelId": null
  },
  "kernelspec": {
   "display_name": "Python 3 (ipykernel)",
   "language": "python",
   "name": "python3"
  },
  "language_info": {
   "codemirror_mode": {
    "name": "ipython",
    "version": 3
   },
   "file_extension": ".py",
   "mimetype": "text/x-python",
   "name": "python",
   "nbconvert_exporter": "python",
   "pygments_lexer": "ipython3",
   "version": "3.11.5"
  }
 },
 "nbformat": 4,
 "nbformat_minor": 4
}
