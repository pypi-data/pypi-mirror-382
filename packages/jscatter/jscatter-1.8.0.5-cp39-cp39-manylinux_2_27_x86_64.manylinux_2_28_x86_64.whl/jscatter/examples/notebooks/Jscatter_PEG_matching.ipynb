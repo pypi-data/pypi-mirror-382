{
 "cells": [
  {
   "cell_type": "markdown",
   "metadata": {},
   "source": [
    "# Jscatter\n",
    "\n",
    "# Determining PEG matching point for synthesis \n",
    "\n",
    "PEG matching composition depends on molecular weight and temperature.\n",
    "\n",
    "We determine the matching point based on PEG partial specific volume and th density of the needed D2O/H2O scattering length density. "
   ]
  },
  {
   "cell_type": "code",
   "execution_count": null,
   "metadata": {},
   "outputs": [],
   "source": [
    "%matplotlib widget\n",
    "\n",
    "import jscatter as js\n",
    "import numpy as np\n",
    "js.usempl(True)   # force matplotlib, not needed in Linux"
   ]
  },
  {
   "cell_type": "markdown",
   "metadata": {},
   "source": [
    "### load specific volume data according to\n",
    " Volumetric Study of Aqueous Solutions of Polyethylene Glycol as a Function of the Polymer Molar Mass in the Temperature Range 283.15  to 313.15 K and 0.1 MPa\n",
    " Cruz, Raphael da C.;  Martins, Rosana J.;  Cardoso, Márcio J. E. de M.;  Barcia, Oswaldo E. (2009)\n",
    " Journal of Solution Chemistry   vol. 38 (8) p. 957-981"
   ]
  },
  {
   "cell_type": "code",
   "execution_count": null,
   "metadata": {},
   "outputs": [],
   "source": [
    "part=js.dL('./partialSpecificVolumePEG.dat')"
   ]
  },
  {
   "cell_type": "markdown",
   "metadata": {},
   "source": [
    "#### Plot it if you are curious"
   ]
  },
  {
   "cell_type": "code",
   "execution_count": null,
   "metadata": {},
   "outputs": [],
   "source": [
    "if 0:\n",
    "    p1=js.mplot()\n",
    "    for pp in part:\n",
    "        p1.plot(pp._T,pp._vsolute,li=1,legend='Mw=%g ' %pp.Mw)\n",
    "    p1.Legend()\n",
    "    p1.Yaxis(label='partial specific volume / ml/g')\n",
    "    p1.Xaxis(label='T / K')\n",
    "    p1.Title('PEG desnity')\n",
    "    p1.Subtitle('T and Mw dependent PEG density from DOI 10.1007/s10953-009-9388-1')"
   ]
  },
  {
   "cell_type": "markdown",
   "metadata": {},
   "source": [
    "## Set values describing PEG and solvent to calculate\n",
    " - Mw :           molecular weight\n",
    " - D2O_fractions: D2O/H2O mixing for explicit output \n",
    " - Temperatures : temperatures of the measurements "
   ]
  },
  {
   "cell_type": "code",
   "execution_count": null,
   "metadata": {},
   "outputs": [],
   "source": [
    "Mw = 2000\n",
    "D2O_fractions = [1,0.9,0.27]  \n",
    "Temperatures = [10,20,30]  "
   ]
  },
  {
   "cell_type": "code",
   "execution_count": null,
   "metadata": {},
   "outputs": [],
   "source": [
    "f =np.r_[0:1.05:0.05] # fraction D\n",
    "\n",
    "contrasts = js.dL()\n",
    "for D2O_fraction in D2O_fractions:\n",
    "    for TT in Temperatures:\n",
    "        T=273.15+TT\n",
    "      \n",
    "        # interpolate partial specific volume to Mw , above 10000 it does not change\n",
    "        densityhPEO=1/part.interpolate(Mw=Mw)[0].interp(T)\n",
    "\n",
    "        # scale dPEO density from hPEO with addition d mass\n",
    "        # assuming same specific volume\n",
    "        densitydPEO = densityhPEO/458.54*500.80\n",
    "        \n",
    "        # use correct density to determine coherent SLD (by mixing according to D fraction)\n",
    "        c=[js.formel.scatteringLengthDensityCalc([f'{1-ff:.2f}C2000H4200O1100',f'{ff:.2f}C2000D4200O1100'],densitydPEO*ff+densityhPEO*(1-ff))[2] for ff in f]\n",
    "        contrast = js.dA(np.c_[f,c].T)\n",
    "       \n",
    "        # scattering length density D2O/H2O mixture\n",
    "        # get water density and SLD with D2O fraction\n",
    "        density = js.formel.waterdensity([f'{D2O_fraction:.2f}D2O1',f'{1-D2O_fraction:.2f}H2O1'],T)\n",
    "        contrast.d2oh2o = js.formel.scatteringLengthDensityCalc([f'{D2O_fraction:.2f}D2O1',f'{1-D2O_fraction:.2f}H2O1'],density)[2]\n",
    "        \n",
    "        # determine exact matching condition\n",
    "        mix = js.dA(np.c_[c,f].T)\n",
    "        frac = mix.interp(contrast.d2oh2o)[0]\n",
    "        contrast.matchfraction = frac\n",
    "        contrast.D2O_fraction=D2O_fraction\n",
    "        contrast.temperatureC = TT\n",
    "        contrast.le = f'T={T:.1f} K; {D2O_fraction*100:.1f}% '\n",
    "        contrasts.append(contrast)\n",
    "        \n",
    "        "
   ]
  },
  {
   "cell_type": "code",
   "execution_count": null,
   "metadata": {},
   "outputs": [],
   "source": [
    "p=js.mplot()\n",
    "for c, contrast in enumerate(contrasts):\n",
    "    p.plot(contrast,li=c,sy=[1,0.3,c],legend='$le')\n",
    "    p.plot([0,1],[contrast.d2oh2o,contrast.d2oh2o],sy=0,li=[1,1,c])\n",
    "\n",
    "p.Yaxis(label=r'scattering length density / nm**-2')\n",
    "p.Xaxis(label='d fraction in hd-PEG')\n",
    "p.Text(y=0.00065,x=0.2,string=r'D\\s2\\NO scattering lenght density')\n",
    "p.Text(y=0.00065,x=0.2,string=r'')\n",
    "\n",
    "p.Legend(charsize=0.8)\n",
    "p.Title(r'PEG matching ' )"
   ]
  },
  {
   "cell_type": "code",
   "execution_count": null,
   "metadata": {},
   "outputs": [],
   "source": [
    "print('D2O_fraction  temperatureC matchfraction')\n",
    "for contrast in contrasts:\n",
    "    print(f'{contrast.D2O_fraction:3.2f}, {contrast.temperatureC:10.1f},{contrast.matchfraction:10.3f}')\n"
   ]
  },
  {
   "cell_type": "code",
   "execution_count": null,
   "metadata": {},
   "outputs": [],
   "source": []
  },
  {
   "cell_type": "code",
   "execution_count": null,
   "metadata": {},
   "outputs": [],
   "source": []
  }
 ],
 "metadata": {
  "kernelspec": {
   "display_name": "Python 3 (ipykernel)",
   "language": "python",
   "name": "python3"
  },
  "language_info": {
   "codemirror_mode": {
    "name": "ipython",
    "version": 3
   },
   "file_extension": ".py",
   "mimetype": "text/x-python",
   "name": "python",
   "nbconvert_exporter": "python",
   "pygments_lexer": "ipython3",
   "version": "3.11.5"
  }
 },
 "nbformat": 4,
 "nbformat_minor": 4
}
