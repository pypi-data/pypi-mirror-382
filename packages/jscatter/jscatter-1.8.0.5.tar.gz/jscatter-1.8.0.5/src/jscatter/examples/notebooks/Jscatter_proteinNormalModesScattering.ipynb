{
 "cells": [
  {
   "cell_type": "code",
   "execution_count": null,
   "id": "af0638f4",
   "metadata": {},
   "outputs": [],
   "source": [
    "%matplotlib widget\n",
    "\n",
    "import jscatter as js\n",
    "import numpy as np\n",
    "print(js.version)"
   ]
  },
  {
   "cell_type": "markdown",
   "id": "b501c157",
   "metadata": {},
   "source": [
    "# Alcohol dehydrogenase (yeast) example for normal mode analysis\n",
    "\n",
    "See Biehl et al. Direct Observation of Correlated Interdomain Motion in Alcohol Dehydrogenase (https://doi.org/10.1103/PhysRevLett.101.138102)\n"
   ]
  },
  {
   "cell_type": "markdown",
   "id": "01cd3f0b",
   "metadata": {},
   "source": [
    "### nglview for viewing universes"
   ]
  },
  {
   "cell_type": "code",
   "execution_count": null,
   "id": "5dcf78d3",
   "metadata": {},
   "outputs": [],
   "source": [
    "# nglview for viewing universes\n",
    "import nglview as nv\n",
    "\n",
    "# for additional MDAnalysis funtionality if needed\n",
    "# import MDAnalysis as mda"
   ]
  },
  {
   "cell_type": "markdown",
   "id": "72239f7c",
   "metadata": {},
   "source": [
    "### create universe with protein inside that adds hydrogens\n",
    " - load PDB structure\n",
    " - repair structure e.g. missing atoms \n",
    " - add hydrogens using pdb2pqr, saving this to 3cln_h.pdb\n",
    " - adds scattering amlitudes, volume determination\n",
    "Select what you needhere 'protein'"
   ]
  },
  {
   "cell_type": "code",
   "execution_count": null,
   "id": "ffc53ee2",
   "metadata": {
    "scrolled": true
   },
   "outputs": [],
   "source": [
    "adh = js.bio.fetch_pdb('4w6z.pdb1')\n",
    "# the 2 dimers in are in model 1 and 2 and need to be merged into one.\n",
    "adhmerged = js.bio.mergePDBModel(adh)\n",
    "u=js.bio.scatteringUniverse(adhmerged)\n",
    "\n",
    "# select protein atoms\n",
    "protein = u.select_atoms(\"protein\").residues"
   ]
  },
  {
   "cell_type": "markdown",
   "id": "c7909aac",
   "metadata": {},
   "source": [
    "### look at it"
   ]
  },
  {
   "cell_type": "code",
   "execution_count": null,
   "id": "8d586805",
   "metadata": {},
   "outputs": [],
   "source": [
    "# create viewer\n",
    "w = nv.show_mdanalysis(u.atoms)\n",
    "# show it\n",
    "w"
   ]
  },
  {
   "cell_type": "markdown",
   "id": "3399036b",
   "metadata": {},
   "source": [
    "### calc neutron scattering  of the protein\n",
    "- use protonated and deuterated protein\n",
    "\n",
    "coarse graining (cubesize=2) is only for speedup the example"
   ]
  },
  {
   "cell_type": "code",
   "execution_count": null,
   "id": "1cf04487",
   "metadata": {},
   "outputs": [],
   "source": [
    "u.qlist = js.loglist(0.1,5,100) \n",
    "u.setSolvent(['55.5d2o1','0h2o1','0.15Na1Cl1'],temperature=273+5)\n",
    "\n",
    "u.atoms.deuteration = 0\n",
    "# calc SANS scattering without surface\n",
    "S0 = js.bio.nscatIntUniv(protein,cubesize=2)\n",
    "\n",
    "u.atoms.deuteration = 1\n",
    "S1 = js.bio.nscatIntUniv(protein,cubesize=2)\n",
    "\n",
    "print(S0.columnname)\n",
    "\n",
    "S0"
   ]
  },
  {
   "cell_type": "code",
   "execution_count": null,
   "id": "e3b08c45",
   "metadata": {},
   "outputs": [],
   "source": [
    "# plot it\n",
    "p=js.mplot()\n",
    "p.Plot(S0)\n",
    "p.Plot(S1)\n",
    "p.Xaxis(label='$Q\\, /\\, nm^{-1}$',min=0.1,max=5)\n",
    "p.Yaxis(label='$F(Q)\\, /\\, nm^{2}/particle $',min=1e-7,max=0.004)"
   ]
  },
  {
   "cell_type": "code",
   "execution_count": null,
   "id": "e5f1dc81",
   "metadata": {},
   "outputs": [],
   "source": [
    "u.segments.segids\n",
    "u.atoms.deuteration = 0\n",
    "u.select_atoms('segid C').atoms.deuteration=1\n",
    "S2 = js.bio.nscatIntUniv(protein,cubesize=2)\n",
    "\n",
    "p.Plot(S2,le='partial deuteration')\n",
    "p.Xaxis(label='$Q\\, /\\, nm^{-1}$',min=0.1,max=5)\n",
    "p.Yaxis(label='$F(Q)\\, /\\, nm^{2}/particle $',min=1e-7,max=0.004)"
   ]
  },
  {
   "cell_type": "markdown",
   "id": "69f62de6",
   "metadata": {},
   "source": [
    "## Create normal modes for Ca atoms\n",
    "- create normal modes\n",
    "- make trajectory like a MD simulation\n",
    "- set embedding solvent \n",
    "- calc scattering"
   ]
  },
  {
   "cell_type": "code",
   "execution_count": null,
   "id": "8da2762e",
   "metadata": {
    "scrolled": true
   },
   "outputs": [],
   "source": [
    "u.atoms.deuteration = 0\n",
    "ca = u.residues\n",
    "nm = js.bio.vibNM(ca)\n"
   ]
  },
  {
   "cell_type": "markdown",
   "id": "9aada647",
   "metadata": {},
   "source": [
    "## Calc effective diffusion with trans/rot contributions\n",
    "- determine $D_{trans}$ and $D_{rot}$ using HULLRAD\n",
    "- calc Deff\n",
    "\n",
    "$\\begin{split}D_0(Q) = \\frac{1}{Q^2F(Q)} \\sum_{j,k}\n",
    "\\langle b_je^{-iQr_j} \\begin{pmatrix} Q \\\\ r_j \\times Q \\end{pmatrix} D_{6x6}\n",
    "\\begin{pmatrix} Q \\\\ r_j \\times Q \\end{pmatrix}  b_ke^{-iQr_k}\n",
    "\\rangle\\end{split}$"
   ]
  },
  {
   "cell_type": "code",
   "execution_count": null,
   "id": "cca55bbf",
   "metadata": {
    "scrolled": true
   },
   "outputs": [],
   "source": [
    "D_hr = js.bio.hullRad(u)\n",
    "Dt = D_hr['Dt'] * 1e2  # conversion to nm²/ps\n",
    "Dr = D_hr['Dr'] * 1e-12  # conversion to 1/ps\n",
    "u.qlist = np.r_[0.01, 0.1:3:0.2]\n",
    "Deff = js.bio.diffusionTRUnivTensor(u.residues, DTT=Dt, DRR=Dr,cubesize=2)\n"
   ]
  },
  {
   "cell_type": "code",
   "execution_count": null,
   "id": "4820ee40",
   "metadata": {},
   "outputs": [],
   "source": [
    "p=js.mplot()\n",
    "p.Plot(Deff.X,Deff.Y*1e5,li=1)\n",
    "p.Xaxis(label='$Q / nm^{-1}$')\n",
    "p.Yaxis(label='$D_{eff} /A^2/ns$')"
   ]
  },
  {
   "cell_type": "markdown",
   "id": "04f0aec3",
   "metadata": {},
   "source": [
    "### Normal mode relaxation in small displacement approximation\n",
    "\n",
    "## $I(Q,t) =F(Q) + \\sum_{\\alpha}e^{-\\lambda_{\\alpha} t}P_{\\alpha}(Q)$\n",
    "\n",
    "## $P_{\\alpha}(Q) = \\Big \\langle \\sum_{k,l} b_kb_l e^{iQ(r_k-r_l)}\n",
    "(\\vec{Q}*\\vec{d}_{\\alpha,k}) (\\vec{Q}*\\vec{d}_{\\alpha,l}) \\Big \\rangle$\n",
    "\n",
    " ### mode formfactors in small displacement approximation\n",
    "\n",
    "We use $\\vec{d}_{\\alpha,l} = a_{l,\\alpha} \\hat{v}_{\\alpha,l}$ \n",
    "with weighted modes $a_{l,\\alpha} =\\sqrt{\\frac{kT}{k_{\\alpha}}} = \\sqrt{\\frac{kT}{m_l\\omega^2_{\\alpha}}}$\n",
    "\n"
   ]
  },
  {
   "cell_type": "code",
   "execution_count": null,
   "id": "e563b182",
   "metadata": {
    "scrolled": true
   },
   "outputs": [],
   "source": [
    "Ph678 = js.dL()\n",
    "for NN in [6,7,8]:\n",
    "   Ph = js.bio.intScatFuncPMode(nm, NN,output=0,qlist=Deff.X)\n",
    "   Ph678.append(Ph)\n"
   ]
  },
  {
   "cell_type": "markdown",
   "id": "b4e1b422",
   "metadata": {},
   "source": [
    "## effective Diffusion in initial slope (cumulant fit)\n",
    "## $D(Q) = D_{t,r}(Q) + \\Delta D_{eff}(Q)$\n",
    "\n",
    "## $\\Delta D_{eff}(Q) =\n",
    "\\lambda_{\\alpha} a_{\\alpha}^2 P_{\\alpha}(Q) / ( Q^2[F(Q)+a_{\\alpha}^2 P_{\\alpha}(Q)])$"
   ]
  },
  {
   "cell_type": "code",
   "execution_count": null,
   "id": "db8c013b",
   "metadata": {},
   "outputs": [],
   "source": [
    "a=1000.\n",
    "rate = 1/30000 # 1/ps\n",
    "for Ph in Ph678:\n",
    "   d =  Deff.interp(Ph.X) + rate * a**2 * Ph._Pn / (Ph._Fq+a**2*Ph._Pn) / Ph.X**2\n",
    "   p.Plot(Ph.X,1e5*d ,li='', le=f'mode {Ph.modeNumber}  rmsd={Ph.kTrmsd*a:.2f} A')\n",
    "p.legend()"
   ]
  },
  {
   "cell_type": "markdown",
   "id": "1715c8fd",
   "metadata": {},
   "source": [
    "## Assume a common relaxation on top of diffusion\n",
    "\n",
    "### Diffusion in Rayleigh expansion with scalar $D_{trans}, D_{rot}$\n",
    "\n",
    "### $\\frac{I(Q,t)}{I(Q,0)}_{t,r} = e^{-D_{trans}Q^2t}\\sum_l S_l(Q)e^{-l(l+1)D_{rot}t} /  \\sum_l S_l(Q)$\n",
    "\n",
    "$S_l(Q) = \\sum_m \\bigg| \\sum_j b_j(Q)j_l(Qr_j) Y_{lm}(\\Omega_j)  \\bigg|^2$"
   ]
  },
  {
   "cell_type": "code",
   "execution_count": null,
   "id": "475d3236",
   "metadata": {},
   "outputs": [],
   "source": [
    "u.qlist = np.r_[0.2:2:0.2]      # [1/nm]\n",
    "u.tlist = np.r_[1,10:1e5:50]  # [ps]\n",
    "\n",
    "Iqt = js.bio.intScatFuncYlm(u.residues,Dtrans=Dt,Drot=Dr,cubesize=1,getVolume='once')\n",
    "\n",
    "p=js.mplot()\n",
    "p.Plot(Iqt,sy=0,li=1)\n",
    "p.Yaxis(min=0.01,max=1,label='I(Q,t)/I(Q,0)',scale='log')\n",
    "p.Xaxis(label='t / ps')\n"
   ]
  },
  {
   "cell_type": "markdown",
   "id": "16a5d67c",
   "metadata": {},
   "source": [
    "### Mode relaxation in small displacement approximation\n",
    "\n",
    "## $\\frac{I(Q,t)}{I(Q,0)}_{int} = \n",
    "\\frac{F(Q) + \\sum_{\\alpha}e^{-\\lambda_{\\alpha} t}P_{\\alpha}(Q)}{F(Q) + \\sum_{\\alpha}P_{\\alpha}(Q)} = \n",
    "\\frac{F(Q) + e^{-\\lambda_{\\alpha} t}a_{\\alpha}^2 \\hat{P}_{\\alpha}(Q)}{F(Q) + a_{\\alpha}^2 \\hat{P}_{\\alpha}(Q)}$\n",
    "\n",
    "## $= (1-A(Q))+A(Q)e^{-\\lambda t}$  with $A(Q) = \\frac{a_{\\alpha}^2 \\hat{P}_{\\alpha}(Q)}{F(Q) + a_{\\alpha}^2 \\hat{P}_{\\alpha}(Q)}$"
   ]
  },
  {
   "cell_type": "markdown",
   "id": "f8919f86",
   "metadata": {},
   "source": [
    "### together\n",
    "\n",
    "\n",
    "### $\\frac{I_1(Q,t)}{I_1(Q,t)} = \n",
    "e^{-D_{trans}Q^2t}\\frac{\\sum_l S_l(Q)e^{-l(l+1)D_{rot}t}}{\\sum_l S_l(Q)} [(1-A(Q) + A(Q)e^{-\\lambda t}] $"
   ]
  },
  {
   "cell_type": "code",
   "execution_count": null,
   "id": "2deb3a08",
   "metadata": {},
   "outputs": [],
   "source": [
    "sumP = Ph678.Y.array.sum(axis=0)\n",
    "\n",
    "def Aq(a):\n",
    "    # NM mode formfactor sum\n",
    "    aq = a**2*sumP / (Ph678[0]._Fq + a**2*sumP )\n",
    "    return js.dA(np.c_[Ph678[0].X, aq].T)\n",
    "\n",
    "\n",
    "p2=js.mplot()\n",
    "p2.Yaxis(min=0.01,max=1,label='I(Q,t)/I(Q,0)')\n",
    "p2.Xaxis(min=0,max=100000,label='t / ps')\n",
    "\n",
    "Iqt2 = Iqt.copy()\n",
    "l=1/10000  # 1/ps\n",
    "Aqa = Aq(a)\n",
    "for i,qt in enumerate(Iqt2):\n",
    "    diff = qt.Y *(1-Aqa.interp(qt.q))\n",
    "    qt.Y = qt.Y *((1-Aqa.interp(qt.q)) + Aqa.interp(qt.q)*np.exp(-l*qt.X))\n",
    "     \n",
    "    p2.Plot(qt.X,qt.Y * 0.8**i,sy=0,li=[3,2,i+1],le=f'{qt.q:.1f}')\n",
    "    p2.Plot(qt.X,diff* 0.8**i,sy=0,li=[1,2,i+1])\n",
    "    \n",
    "p2.Yaxis(min=0.001,max=1,label='I(Q,t)/I(Q,0)',scale='log')\n",
    "p2.Xaxis(min=0.1,max=100000,label='t / ps')\n",
    "p2.Legend()"
   ]
  },
  {
   "cell_type": "code",
   "execution_count": null,
   "id": "31ec76c7",
   "metadata": {},
   "outputs": [],
   "source": [
    "p1=js.mplot()\n",
    "Aqa = Aq(a)\n",
    "p1.Plot(Aqa,sy=0,li=1)\n",
    "p1.Yaxis(min=0,max=0.8)"
   ]
  },
  {
   "cell_type": "markdown",
   "id": "2d2952f8",
   "metadata": {},
   "source": [
    "# A first fit model\n",
    "## Include H(Q) and S(Q)"
   ]
  },
  {
   "cell_type": "code",
   "execution_count": null,
   "id": "4f43f070",
   "metadata": {},
   "outputs": [],
   "source": [
    "# structure factorfrom SAXS/SANS\n",
    "q = js.loglist(0.1,4,100)\n",
    "Sq = js.sf.PercusYevick(q,4,eta=0.05) # about 50mg/ml protein \n",
    "p3 = js.mplot()\n",
    "p3.plot(Sq)\n",
    "# correction ala Kotlarchyk\n",
    "Sq.Y = 1+S0.interp(Sq.X,col='beta')*(Sq.Y-1)  \n",
    "p3.plot(Sq)\n"
   ]
  },
  {
   "cell_type": "markdown",
   "id": "252ad8e5",
   "metadata": {},
   "source": [
    "## Include  $D_t = D_0 H(Q)/S(Q)$ correction"
   ]
  },
  {
   "cell_type": "code",
   "execution_count": null,
   "id": "01323b90",
   "metadata": {},
   "outputs": [],
   "source": [
    "sumP = Ph678.Y.array.sum(axis=0)\n",
    "def Aq(a):\n",
    "    aq = a**2*sumP / (Ph678[0]._Fq + a**2*sumP )\n",
    "    return js.dA(np.c_[Ph678[0].X, aq].T)\n",
    "\n",
    "\n",
    "def transRotModes(q,Dt,Dr,a=1000,H=1,l=10):\n",
    "    # trans rot diffusion including H/S(Q)\n",
    "    # assume H constant, 1-Hr =(1-Ht)/3 \n",
    "    Dth = Dt*H/Sq.interp(q)\n",
    "    Drh = Dr*(1-(1-H)/3)\n",
    "    Iqt = js.bio.intScatFuncYlm(u.residues,Dtrans=Dth,Drot=Drh,cubesize=1,qlist=np.r_[q],getVolume='once')[0]\n",
    "    \n",
    "    # add Pmode relaxation\n",
    "    Aqa = Aq(a)\n",
    "    diff = Iqt.Y *(1-Aqa.interp(q))\n",
    "    Iqt.Y = Iqt.Y *((1-Aqa.interp(q)) + Aqa.interp(q)*np.exp(-1/(l*1000)*Iqt.X))\n",
    "    Iqt2 = Iqt.addColumn(1,diff)\n",
    "    \n",
    "    # for reference in lastfit\n",
    "    Iqt2.Dt = Dt\n",
    "    Iqt2.Dr = Dr\n",
    "    Iqt2.H = H\n",
    "    return Iqt2"
   ]
  },
  {
   "cell_type": "code",
   "execution_count": null,
   "id": "06a321da",
   "metadata": {
    "scrolled": true
   },
   "outputs": [],
   "source": [
    "sim = js.dL()\n",
    "for q in np.r_[0.5,0.9,1.2]:\n",
    "    sim.append(transRotModes(q,Dt,Dr,a,1,10))"
   ]
  },
  {
   "cell_type": "code",
   "execution_count": null,
   "id": "bd16e462",
   "metadata": {},
   "outputs": [],
   "source": [
    "p4=js.mplot()\n",
    "for si in sim:\n",
    "    p4.plot(si,sy=0,li=1)\n",
    "    p4.plot(si.X,si[2],sy=0,li=[3,1,1])\n",
    "p4.Yaxis(min=0.01,max=1,label='I(Q,t)/I(Q,0)',scale='log')\n",
    "p4.Xaxis(min=0.1,max=100000,label='t / ps')"
   ]
  },
  {
   "cell_type": "code",
   "execution_count": null,
   "id": "5aacc1ab",
   "metadata": {},
   "outputs": [],
   "source": []
  }
 ],
 "metadata": {
  "@webio": {
   "lastCommId": null,
   "lastKernelId": null
  },
  "kernelspec": {
   "display_name": "Python 3 (ipykernel)",
   "language": "python",
   "name": "python3"
  },
  "language_info": {
   "codemirror_mode": {
    "name": "ipython",
    "version": 3
   },
   "file_extension": ".py",
   "mimetype": "text/x-python",
   "name": "python",
   "nbconvert_exporter": "python",
   "pygments_lexer": "ipython3",
   "version": "3.11.5"
  }
 },
 "nbformat": 4,
 "nbformat_minor": 5
}
