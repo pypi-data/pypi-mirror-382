{
  "cells": [
    {
      "cell_type": "markdown",
      "metadata": {},
      "source": [
        "# Poelis Python SDK Tutorial\n",
        "\n",
        "Welcome to the Poelis Python SDK tutorial! This notebook will guide you through setting up and using the SDK to interact with the Poelis API.\n",
        "\n",
        "## What is Poelis?\n",
        "\n",
        "Poelis is a GraphQL-first platform for managing hierarchical data structures, products, items, and their properties. The Python SDK provides a convenient way to interact with the Poelis API from your Python applications.\n",
        "\n",
        "## Table of Contents\n",
        "\n",
        "1. [Installation](#Installation)\n",
        "2. [Authentication Setup](#Authentication-Setup)\n",
        "3. [Basic Client Setup](#Basic-Client-Setup)\n",
        "4. [Exploring Workspaces](#Exploring-Workspaces)\n",
        "5. [Working with Products](#Working-with-Products)\n",
        "6. [Managing Items](#Managing-Items)\n",
        "7. [Search Functionality](#Search-Functionality)\n",
        "8. [Browser Interface](#Browser-Interface)\n",
        "9. [Error Handling](#Error-Handling)\n",
        "10. [Best Practices](#Best-Practices)\n"
      ]
    },
    {
      "cell_type": "markdown",
      "metadata": {},
      "source": [
        "## 1. Installation\n",
        "\n",
        "First, let's install the Poelis Python SDK. The SDK requires Python 3.11 or higher.\n",
        "\n",
        "```bash\n",
        "pip install poelis-sdk\n",
        "```\n",
        "\n",
        "### Requirements\n",
        "- Python >= 3.11\n",
        "- Access to a Poelis API endpoint\n",
        "- Valid API credentials (API key + organization ID)\n"
      ]
    },
    {
      "cell_type": "code",
      "execution_count": 2,
      "metadata": {},
      "outputs": [
        {
          "name": "stdout",
          "output_type": "stream",
          "text": [
            "The folder you are executing pip from can no longer be found.\n"
          ]
        }
      ],
      "source": [
        "!pip install poelis-sdk"
      ]
    },
    {
      "cell_type": "code",
      "execution_count": null,
      "metadata": {},
      "outputs": [],
      "source": [
        "# Import the SDK\n",
        "from poelis_sdk import PoelisClient\n",
        "\n",
        "# Check if the SDK is properly installed\n",
        "print(\"Poelis SDK imported successfully!\")\n",
        "print(f\"PoelisClient class: {PoelisClient}\")\n"
      ]
    },
    {
      "cell_type": "markdown",
      "metadata": {},
      "source": [
        "## 2. Authentication Setup\n",
        "\n",
        "Before you can use the SDK, you need to obtain your API credentials from the Poelis web interface.\n",
        "\n",
        "### Getting Your Credentials\n",
        "\n",
        "1. **Navigate to Organization Settings → API Keys** in the Poelis web interface\n",
        "2. **Create a new API key**:\n",
        "   - Choose a descriptive name\n",
        "   - Select appropriate scopes (read-only recommended for beginners)\n",
        "   - Copy the key immediately (it's only shown once!)\n",
        "3. **Note your Organization ID** (displayed in the same section)\n",
        "\n",
        "### Environment Variables (Recommended)\n",
        "\n",
        "For security, store your credentials as environment variables:\n",
        "\n",
        "```bash\n",
        "export POELIS_API_KEY=poelis_live_A1B2C3...\n",
        "export POELIS_ORG_ID=tenant_uci_001\n",
        "# POELIS_BASE_URL is optional - defaults to https://api.poelis.ai\n",
        "```\n",
        "\n",
        "### Base URLs\n",
        "\n",
        "The SDK defaults to the production API (`https://api.poelis.ai`). You can override this for different environments:\n",
        "\n",
        "- **Local development**: `base_url=\"http://localhost:8000\"`\n",
        "- **Staging**: `base_url=\"https://api.staging.poelis.ai\"` (example)\n",
        "- **Production**: No need to specify, uses `https://api.poelis.ai` by default\n",
        "\n",
        "Confirm the exact URLs for your specific deployment.\n"
      ]
    },
    {
      "cell_type": "markdown",
      "metadata": {},
      "source": [
        "## 3. Basic Client Setup\n",
        "\n",
        "There are two ways to initialize the Poelis client:\n",
        "\n",
        "### Method 1: Direct Initialization (Simplified)\n",
        "\n",
        "```python\n",
        "# Simple usage with defaults\n",
        "client = PoelisClient(\n",
        "    api_key=\"poelis_live_A1B2C3...\",\n",
        "    org_id=\"tenant_uci_001\"\n",
        "    # base_url defaults to https://api.poelis.ai\n",
        ")\n",
        "\n",
        "# Override for different environments\n",
        "client = PoelisClient(\n",
        "    api_key=\"poelis_live_A1B2C3...\",\n",
        "    org_id=\"tenant_uci_001\",\n",
        "    base_url=\"http://localhost:8000\"  # for local development\n",
        ")\n",
        "```\n",
        "\n",
        "### Method 2: From Environment Variables (Recommended)\n",
        "\n",
        "```python\n",
        "client = PoelisClient.from_env()\n",
        "```\n",
        "\n",
        "This method automatically reads the `POELIS_API_KEY` and `POELIS_ORG_ID` environment variables. The `POELIS_BASE_URL` environment variable is optional and defaults to the production API.\n"
      ]
    },
    {
      "cell_type": "code",
      "execution_count": null,
      "metadata": {},
      "outputs": [],
      "source": [
        "# Example: Initialize client (replace with your actual credentials)\n",
        "# For this demo, we'll use placeholder values\n",
        "# In practice, use environment variables or replace with your actual credentials\n",
        "\n",
        "try:\n",
        "    # Try to initialize from environment variables first\n",
        "    client = PoelisClient.from_env()\n",
        "    print(\"✅ Client initialized from environment variables\")\n",
        "    print(f\"Base URL: {client.base_url}\")\n",
        "    print(f\"Organization ID: {client.org_id}\")\n",
        "except ValueError as e:\n",
        "    print(f\"❌ Environment variables not set: {e}\")\n",
        "    print(\"Please set POELIS_API_KEY and POELIS_ORG_ID (POELIS_BASE_URL is optional)\")\n",
        "    \n",
        "    # Fallback to manual initialization (replace with your credentials)\n",
        "    # client = PoelisClient(\n",
        "    #     api_key=\"your_api_key_here\",\n",
        "    #     org_id=\"your_org_id_here\"\n",
        "    #     # base_url will default to https://api.poelis.ai\n",
        "    # )\n"
      ]
    },
    {
      "cell_type": "markdown",
      "metadata": {},
      "source": [
        "## 4. Exploring Workspaces\n",
        "\n",
        "Workspaces are the top-level organizational units in Poelis. Let's explore what workspaces are available in your organization.\n"
      ]
    },
    {
      "cell_type": "code",
      "execution_count": null,
      "metadata": {},
      "outputs": [],
      "source": [
        "# List all workspaces\n",
        "try:\n",
        "    workspaces = client.workspaces.list(limit=10, offset=0)\n",
        "    print(f\"Found {len(workspaces)} workspaces:\")\n",
        "    \n",
        "    for i, workspace in enumerate(workspaces, 1):\n",
        "        print(f\"{i}. ID: {workspace.get('id', 'N/A')}\")\n",
        "        print(f\"   Name: {workspace.get('name', 'N/A')}\")\n",
        "        print(f\"   Description: {workspace.get('description', 'N/A')}\")\n",
        "        print()\n",
        "        \n",
        "    # Get the first workspace for further examples\n",
        "    if workspaces:\n",
        "        first_workspace = workspaces[0]\n",
        "        workspace_id = first_workspace['id']\n",
        "        print(f\"Using workspace '{first_workspace.get('name', workspace_id)}' for examples\")\n",
        "    else:\n",
        "        print(\"No workspaces found. You may need to create one in the web interface.\")\n",
        "        \n",
        "except Exception as e:\n",
        "    print(f\"Error listing workspaces: {e}\")\n",
        "    print(\"Make sure your credentials are correct and you have access to workspaces.\")\n"
      ]
    },
    {
      "cell_type": "markdown",
      "metadata": {},
      "source": [
        "## 5. Working with Products\n",
        "\n",
        "Products are collections of items within a workspace. Let's explore how to work with products.\n"
      ]
    },
    {
      "cell_type": "code",
      "execution_count": null,
      "metadata": {},
      "outputs": [],
      "source": [
        "# List products in a workspace\n",
        "try:\n",
        "    # Use the workspace_id from the previous example, or replace with your workspace ID\n",
        "    if 'workspace_id' in locals():\n",
        "        products_page = client.products.list_by_workspace(\n",
        "            workspace_id=workspace_id, \n",
        "            limit=10, \n",
        "            offset=0\n",
        "        )\n",
        "        \n",
        "        print(f\"Found {len(products_page.data)} products in workspace '{workspace_id}':\")\n",
        "        \n",
        "        for i, product in enumerate(products_page.data, 1):\n",
        "            print(f\"{i}. ID: {product.id}\")\n",
        "            print(f\"   Name: {product.name}\")\n",
        "            print(f\"   Code: {getattr(product, 'code', 'N/A')}\")\n",
        "            print()\n",
        "            \n",
        "        # Get the first product for further examples\n",
        "        if products_page.data:\n",
        "            first_product = products_page.data[0]\n",
        "            product_id = first_product.id\n",
        "            print(f\"Using product '{first_product.name}' for examples\")\n",
        "        else:\n",
        "            print(\"No products found in this workspace.\")\n",
        "    else:\n",
        "        print(\"No workspace available. Please run the workspace exploration cell first.\")\n",
        "        \n",
        "except Exception as e:\n",
        "    print(f\"Error listing products: {e}\")\n",
        "    print(\"Make sure you have a valid workspace ID and appropriate permissions.\")\n"
      ]
    },
    {
      "cell_type": "code",
      "execution_count": null,
      "metadata": {},
      "outputs": [],
      "source": [
        "# Alternative: List all products across all workspaces\n",
        "try:\n",
        "    print(\"All products across all workspaces:\")\n",
        "    print(\"=\" * 50)\n",
        "    \n",
        "    # Use the iterator to get all products\n",
        "    product_count = 0\n",
        "    for product in client.products.iter_all(page_size=10):\n",
        "        product_count += 1\n",
        "        print(f\"{product_count}. {product.name} (ID: {product.id})\")\n",
        "        \n",
        "        # Limit output for demo purposes\n",
        "        if product_count >= 20:\n",
        "            print(\"... (showing first 20 products)\")\n",
        "            break\n",
        "            \n",
        "    print(f\"\\nTotal products found: {product_count}\")\n",
        "    \n",
        "except Exception as e:\n",
        "    print(f\"Error iterating through products: {e}\")\n"
      ]
    },
    {
      "cell_type": "markdown",
      "metadata": {},
      "source": [
        "## 6. Managing Items\n",
        "\n",
        "Items are the individual entities within products. Let's explore how to work with items.\n"
      ]
    },
    {
      "cell_type": "code",
      "execution_count": null,
      "metadata": {},
      "outputs": [],
      "source": [
        "# List items in a product\n",
        "try:\n",
        "    if 'product_id' in locals():\n",
        "        items_page = client.items.list_by_product(\n",
        "            product_id=product_id, \n",
        "            limit=10, \n",
        "            offset=0\n",
        "        )\n",
        "        \n",
        "        print(f\"Found {len(items_page['data'])} items in product '{product_id}':\")\n",
        "        \n",
        "        for i, item in enumerate(items_page['data'], 1):\n",
        "            print(f\"{i}. ID: {item.get('id', 'N/A')}\")\n",
        "            print(f\"   Name: {item.get('name', 'N/A')}\")\n",
        "            print(f\"   Code: {item.get('code', 'N/A')}\")\n",
        "            print()\n",
        "            \n",
        "        # Get the first item for further examples\n",
        "        if items_page['data']:\n",
        "            first_item = items_page['data'][0]\n",
        "            item_id = first_item['id']\n",
        "            print(f\"Using item '{first_item.get('name', item_id)}' for examples\")\n",
        "        else:\n",
        "            print(\"No items found in this product.\")\n",
        "    else:\n",
        "        print(\"No product available. Please run the product exploration cell first.\")\n",
        "        \n",
        "except Exception as e:\n",
        "    print(f\"Error listing items: {e}\")\n",
        "    print(\"Make sure you have a valid product ID and appropriate permissions.\")\n"
      ]
    },
    {
      "cell_type": "code",
      "execution_count": null,
      "metadata": {},
      "outputs": [],
      "source": [
        "# Get details of a specific item\n",
        "try:\n",
        "    if 'item_id' in locals():\n",
        "        item_details = client.items.get(item_id)\n",
        "        \n",
        "        print(f\"Item Details for '{item_id}':\")\n",
        "        print(\"=\" * 40)\n",
        "        \n",
        "        for key, value in item_details.items():\n",
        "            print(f\"{key}: {value}\")\n",
        "    else:\n",
        "        print(\"No item ID available. Please run the items listing cell first.\")\n",
        "        \n",
        "except Exception as e:\n",
        "    print(f\"Error getting item details: {e}\")\n"
      ]
    },
    {
      "cell_type": "markdown",
      "metadata": {},
      "source": [
        "## 7. Search Functionality\n",
        "\n",
        "The Poelis SDK provides powerful search capabilities across products, items, and properties.\n"
      ]
    },
    {
      "cell_type": "code",
      "execution_count": null,
      "metadata": {},
      "outputs": [],
      "source": [
        "# Search for products\n",
        "try:\n",
        "    print(\"Searching for products:\")\n",
        "    print(\"=\" * 30)\n",
        "    \n",
        "    # Search for products with a query\n",
        "    product_search_results = client.search.products(q=\"*\", limit=5, offset=0)\n",
        "    \n",
        "    print(f\"Total products found: {product_search_results.get('total', 0)}\")\n",
        "    print(f\"Showing {len(product_search_results.get('hits', []))} results:\")\n",
        "    \n",
        "    for i, product in enumerate(product_search_results.get('hits', []), 1):\n",
        "        print(f\"{i}. {product.get('name', 'N/A')} (ID: {product.get('id', 'N/A')})\")\n",
        "        \n",
        "except Exception as e:\n",
        "    print(f\"Error searching products: {e}\")\n"
      ]
    },
    {
      "cell_type": "code",
      "execution_count": null,
      "metadata": {},
      "outputs": [],
      "source": [
        "# Search for items\n",
        "try:\n",
        "    print(\"\\nSearching for items:\")\n",
        "    print(\"=\" * 30)\n",
        "    \n",
        "    # Search for items with a query\n",
        "    item_search_results = client.search.items(q=\"*\", limit=5, offset=0)\n",
        "    \n",
        "    print(f\"Total items found: {item_search_results.get('total', 0)}\")\n",
        "    print(f\"Showing {len(item_search_results.get('hits', []))} results:\")\n",
        "    \n",
        "    for i, item in enumerate(item_search_results.get('hits', []), 1):\n",
        "        print(f\"{i}. {item.get('name', 'N/A')} (ID: {item.get('id', 'N/A')})\")\n",
        "        \n",
        "except Exception as e:\n",
        "    print(f\"Error searching items: {e}\")\n"
      ]
    },
    {
      "cell_type": "code",
      "execution_count": null,
      "metadata": {},
      "outputs": [],
      "source": [
        "# Search for properties within a workspace\n",
        "try:\n",
        "    if 'workspace_id' in locals():\n",
        "        print(f\"\\nSearching for properties in workspace '{workspace_id}':\")\n",
        "        print(\"=\" * 50)\n",
        "        \n",
        "        # Search for properties with a query\n",
        "        property_search_results = client.search.properties(\n",
        "            q=\"*\", \n",
        "            workspace_id=workspace_id, \n",
        "            limit=5, \n",
        "            offset=0\n",
        "        )\n",
        "        \n",
        "        print(f\"Total properties found: {property_search_results.get('total', 0)}\")\n",
        "        print(f\"Showing {len(property_search_results.get('hits', []))} results:\")\n",
        "        \n",
        "        for i, prop in enumerate(property_search_results.get('hits', []), 1):\n",
        "            print(f\"{i}. {prop.get('name', 'N/A')} (ID: {prop.get('id', 'N/A')})\")\n",
        "    else:\n",
        "        print(\"No workspace available for property search.\")\n",
        "        \n",
        "except Exception as e:\n",
        "    print(f\"Error searching properties: {e}\")\n"
      ]
    },
    {
      "cell_type": "markdown",
      "metadata": {},
      "source": [
        "## 8. Browser Interface\n",
        "\n",
        "The SDK provides a convenient browser interface for interactive exploration of your data hierarchy.\n"
      ]
    },
    {
      "cell_type": "code",
      "execution_count": null,
      "metadata": {},
      "outputs": [],
      "source": [
        "# Explore the browser interface\n",
        "try:\n",
        "    print(\"Browser Interface Demo:\")\n",
        "    print(\"=\" * 30)\n",
        "    \n",
        "    # The browser provides dot-path navigation\n",
        "    print(\"Available browser attributes:\")\n",
        "    print(f\"- client.browser: {type(client.browser)}\")\n",
        "    \n",
        "    # You can explore the hierarchy interactively\n",
        "    print(\"\\nTo explore interactively:\")\n",
        "    print(\"1. Type 'client.browser.' and press TAB for autocomplete\")\n",
        "    print(\"2. Navigate through workspaces → products → items → properties\")\n",
        "    print(\"3. Example: client.browser.<workspace>.<product>.<item>.<child>.properties\")\n",
        "    \n",
        "    # Show what's available at the top level\n",
        "    print(f\"\\nBrowser object: {client.browser}\")\n",
        "    print(\"Use TAB completion in Jupyter/VSCode to explore the hierarchy!\")\n",
        "    \n",
        "except Exception as e:\n",
        "    print(f\"Error accessing browser interface: {e}\")\n"
      ]
    },
    {
      "cell_type": "markdown",
      "metadata": {},
      "source": [
        "## 9. Error Handling\n",
        "\n",
        "Proper error handling is essential when working with APIs. Let's explore common error scenarios and how to handle them.\n"
      ]
    },
    {
      "cell_type": "code",
      "execution_count": null,
      "metadata": {},
      "outputs": [],
      "source": [
        "# Example: Error handling patterns\n",
        "import time\n",
        "\n",
        "def safe_api_call(func, *args, **kwargs):\n",
        "    \"\"\"Safely call an API function with retry logic and error handling.\"\"\"\n",
        "    max_retries = 3\n",
        "    retry_delay = 1\n",
        "    \n",
        "    for attempt in range(max_retries):\n",
        "        try:\n",
        "            return func(*args, **kwargs)\n",
        "        except Exception as e:\n",
        "            print(f\"Attempt {attempt + 1} failed: {e}\")\n",
        "            if attempt < max_retries - 1:\n",
        "                print(f\"Retrying in {retry_delay} seconds...\")\n",
        "                time.sleep(retry_delay)\n",
        "                retry_delay *= 2  # Exponential backoff\n",
        "            else:\n",
        "                print(\"All retry attempts failed\")\n",
        "                raise\n",
        "\n",
        "# Example usage with error handling\n",
        "try:\n",
        "    print(\"Testing error handling patterns:\")\n",
        "    print(\"=\" * 40)\n",
        "    \n",
        "    # This will work if you have valid credentials\n",
        "    workspaces = safe_api_call(client.workspaces.list, limit=5, offset=0)\n",
        "    print(f\"✅ Successfully retrieved {len(workspaces)} workspaces\")\n",
        "    \n",
        "except Exception as e:\n",
        "    print(f\"❌ Error: {e}\")\n",
        "    print(\"This might be due to:\")\n",
        "    print(\"- Invalid API credentials\")\n",
        "    print(\"- Network connectivity issues\")\n",
        "    print(\"- API endpoint unavailability\")\n",
        "    print(\"- Insufficient permissions\")\n"
      ]
    },
    {
      "cell_type": "markdown",
      "metadata": {},
      "source": [
        "## 10. Best Practices\n",
        "\n",
        "Here are some best practices for using the Poelis Python SDK effectively:\n"
      ]
    },
    {
      "cell_type": "markdown",
      "metadata": {},
      "source": [
        "### Security Best Practices\n",
        "\n",
        "1. **Use Environment Variables**: Never hardcode API keys in your code\n",
        "2. **Rotate Keys Regularly**: Create new API keys and revoke old ones periodically\n",
        "3. **Use Read-Only Keys**: Start with read-only permissions and only add write permissions when needed\n",
        "4. **Store Keys Securely**: Use secure key management systems in production\n",
        "\n",
        "### Performance Best Practices\n",
        "\n",
        "1. **Use Iterators**: Use `iter_all()` methods for large datasets instead of manual pagination\n",
        "2. **Set Appropriate Limits**: Use reasonable page sizes (10-100 items) to balance performance and memory usage\n",
        "3. **Cache Results**: Cache frequently accessed data to reduce API calls\n",
        "4. **Handle Rate Limits**: Implement exponential backoff for retry logic\n",
        "\n",
        "### Code Organization Best Practices\n",
        "\n",
        "1. **Error Handling**: Always wrap API calls in try-catch blocks\n",
        "2. **Type Hints**: Use type hints for better code documentation and IDE support\n",
        "3. **Logging**: Add logging for debugging and monitoring\n",
        "4. **Configuration**: Use configuration files or environment variables for different environments\n"
      ]
    },
    {
      "cell_type": "code",
      "execution_count": null,
      "metadata": {},
      "outputs": [],
      "source": [
        "# Example: Production-ready client setup\n",
        "import os\n",
        "import logging\n",
        "from typing import Optional\n",
        "\n",
        "# Configure logging\n",
        "logging.basicConfig(level=logging.INFO)\n",
        "logger = logging.getLogger(__name__)\n",
        "\n",
        "class PoelisManager:\n",
        "    \"\"\"Production-ready wrapper for Poelis client with best practices.\"\"\"\n",
        "    \n",
        "    def __init__(self, base_url: Optional[str] = None, api_key: Optional[str] = None, org_id: Optional[str] = None):\n",
        "        \"\"\"Initialize with environment variables or explicit parameters.\"\"\"\n",
        "        self.base_url = base_url or os.getenv(\"POELIS_BASE_URL\")\n",
        "        self.api_key = api_key or os.getenv(\"POELIS_API_KEY\")\n",
        "        self.org_id = org_id or os.getenv(\"POELIS_ORG_ID\")\n",
        "        \n",
        "        if not all([self.base_url, self.api_key, self.org_id]):\n",
        "            raise ValueError(\"Missing required configuration. Set environment variables or provide parameters.\")\n",
        "        \n",
        "        self.client = PoelisClient(\n",
        "            base_url=self.base_url,\n",
        "            api_key=self.api_key,\n",
        "            org_id=self.org_id\n",
        "        )\n",
        "        \n",
        "        logger.info(f\"Poelis client initialized for org: {self.org_id}\")\n",
        "    \n",
        "    def get_workspaces(self, limit: int = 100) -> list:\n",
        "        \"\"\"Get all workspaces with error handling.\"\"\"\n",
        "        try:\n",
        "            return self.client.workspaces.list(limit=limit, offset=0)\n",
        "        except Exception as e:\n",
        "            logger.error(f\"Failed to get workspaces: {e}\")\n",
        "            raise\n",
        "    \n",
        "    def get_products_summary(self) -> dict:\n",
        "        \"\"\"Get a summary of all products across workspaces.\"\"\"\n",
        "        try:\n",
        "            workspaces = self.get_workspaces()\n",
        "            summary = {\n",
        "                \"total_workspaces\": len(workspaces),\n",
        "                \"workspaces\": []\n",
        "            }\n",
        "            \n",
        "            for workspace in workspaces:\n",
        "                ws_id = workspace['id']\n",
        "                products = self.client.products.list_by_workspace(workspace_id=ws_id, limit=100, offset=0)\n",
        "                \n",
        "                summary[\"workspaces\"].append({\n",
        "                    \"id\": ws_id,\n",
        "                    \"name\": workspace.get('name', 'N/A'),\n",
        "                    \"product_count\": len(products.data)\n",
        "                })\n",
        "            \n",
        "            return summary\n",
        "            \n",
        "        except Exception as e:\n",
        "            logger.error(f\"Failed to get products summary: {e}\")\n",
        "            raise\n",
        "\n",
        "# Example usage\n",
        "try:\n",
        "    manager = PoelisManager()\n",
        "    summary = manager.get_products_summary()\n",
        "    \n",
        "    print(\"Production-ready example:\")\n",
        "    print(\"=\" * 30)\n",
        "    print(f\"Total workspaces: {summary['total_workspaces']}\")\n",
        "    for ws in summary['workspaces']:\n",
        "        print(f\"- {ws['name']}: {ws['product_count']} products\")\n",
        "        \n",
        "except Exception as e:\n",
        "    print(f\"Error in production example: {e}\")\n",
        "    print(\"This is expected if you don't have valid credentials set up.\")\n"
      ]
    },
    {
      "cell_type": "markdown",
      "metadata": {},
      "source": [
        "## Next Steps\n",
        "\n",
        "Congratulations! You've completed the Poelis Python SDK tutorial. Here's what you can do next:\n",
        "\n",
        "### 1. Explore the Full API\n",
        "- Check out the [API Documentation](https://docs.poelis.ai) for complete endpoint details\n",
        "- Explore the GraphQL schema for advanced queries\n",
        "- Try the browser interface for interactive exploration\n",
        "\n",
        "### 2. Build Your Application\n",
        "- Start with read-only operations to understand your data structure\n",
        "- Implement error handling and retry logic\n",
        "- Add logging and monitoring\n",
        "- Consider caching strategies for better performance\n",
        "\n",
        "### 3. Advanced Features\n",
        "- Explore hierarchical search capabilities\n",
        "- Work with property types and dependencies\n",
        "- Implement batch operations for large datasets\n",
        "- Use the browser interface for interactive data exploration\n",
        "\n",
        "### 4. Get Help\n",
        "- Check the [SDK Documentation](https://github.com/poelis/poelis-python-sdk)\n",
        "- Join the community discussions\n",
        "- Report issues or request features\n",
        "\n",
        "### 5. Environment Setup Checklist\n",
        "Before running this notebook with real data, make sure you have:\n",
        "- [ ] Python 3.11+ installed\n",
        "- [ ] Poelis SDK installed (`pip install poelis-sdk`)\n",
        "- [ ] Valid API credentials from Organization Settings → API Keys\n",
        "- [ ] Environment variables set (`POELIS_BASE_URL`, `POELIS_API_KEY`, `POELIS_ORG_ID`)\n",
        "- [ ] Network access to your Poelis API endpoint\n",
        "\n",
        "Happy coding with Poelis! 🚀\n"
      ]
    },
    {
      "cell_type": "markdown",
      "metadata": {},
      "source": [
        "\n"
      ]
    },
    {
      "cell_type": "markdown",
      "metadata": {},
      "source": [
        "\n"
      ]
    },
    {
      "cell_type": "code",
      "execution_count": null,
      "metadata": {},
      "outputs": [],
      "source": [
        "\n"
      ]
    },
    {
      "cell_type": "markdown",
      "metadata": {},
      "source": [
        "\n"
      ]
    },
    {
      "cell_type": "code",
      "execution_count": null,
      "metadata": {},
      "outputs": [],
      "source": [
        "\n"
      ]
    },
    {
      "cell_type": "markdown",
      "metadata": {},
      "source": [
        "\n"
      ]
    },
    {
      "cell_type": "code",
      "execution_count": null,
      "metadata": {},
      "outputs": [],
      "source": [
        "\n"
      ]
    },
    {
      "cell_type": "code",
      "execution_count": null,
      "metadata": {},
      "outputs": [],
      "source": [
        "\n"
      ]
    },
    {
      "cell_type": "markdown",
      "metadata": {},
      "source": [
        "\n"
      ]
    },
    {
      "cell_type": "code",
      "execution_count": null,
      "metadata": {},
      "outputs": [],
      "source": [
        "\n"
      ]
    },
    {
      "cell_type": "markdown",
      "metadata": {},
      "source": [
        "\n"
      ]
    },
    {
      "cell_type": "code",
      "execution_count": null,
      "metadata": {},
      "outputs": [],
      "source": [
        "\n"
      ]
    },
    {
      "cell_type": "markdown",
      "metadata": {},
      "source": []
    },
    {
      "cell_type": "markdown",
      "metadata": {},
      "source": [
        "\n"
      ]
    },
    {
      "cell_type": "code",
      "execution_count": null,
      "metadata": {},
      "outputs": [],
      "source": [
        "\n"
      ]
    }
  ],
  "metadata": {
    "kernelspec": {
      "display_name": "Python 3",
      "language": "python",
      "name": "python3"
    },
    "language_info": {
      "codemirror_mode": {
        "name": "ipython",
        "version": 3
      },
      "file_extension": ".py",
      "mimetype": "text/x-python",
      "name": "python",
      "nbconvert_exporter": "python",
      "pygments_lexer": "ipython3",
      "version": "3.11.13"
    }
  },
  "nbformat": 4,
  "nbformat_minor": 2
}
