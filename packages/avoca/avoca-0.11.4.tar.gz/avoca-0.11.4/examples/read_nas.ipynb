{
 "cells": [
  {
   "cell_type": "code",
   "execution_count": null,
   "metadata": {},
   "outputs": [],
   "source": [
    "import logging\n",
    "from pathlib import Path\n",
    "\n",
    "import numpy as np\n",
    "import pandas as pd\n",
    "from ebas.io.file.nasa_ames import EbasNasaAmes\n",
    "\n",
    "import avoca\n",
    "from avoca.export_nas import flags_to_ebas\n",
    "from avoca.flags import QA_Flag"
   ]
  },
  {
   "cell_type": "code",
   "execution_count": null,
   "metadata": {},
   "outputs": [],
   "source": [
    "ebas_flag_to_avoca = {\n",
    "    ebas_flag: avoca_flag\n",
    "    for avoca_flag, ebas_flag in flags_to_ebas.items()\n",
    "}\n",
    "ebas_flag_to_avoca"
   ]
  },
  {
   "cell_type": "code",
   "execution_count": null,
   "metadata": {},
   "outputs": [],
   "source": [
    "# This allows us to check the nas file is correct\n",
    "new_nas = EbasNasaAmes()\n",
    "\n",
    "# Find the last submited files the format is:\n",
    "file = Path(*avoca.__path__, '..', 'data', 'CH0001G.20240219123300.20240307132229.online_gc.NMHC.air.16d.61mn.CH01L_Agilent_GC-MS-MEDUSA_Medusa-12_JFJ.CH01L_gc_ms.lev0.nas')\n",
    "new_nas.read(str(file), ignore_parameter=True  )"
   ]
  },
  {
   "cell_type": "code",
   "execution_count": null,
   "metadata": {},
   "outputs": [],
   "source": [
    "\"\"\"Read the ebas file into a pandas dataframe for @voc@.\n",
    "\n",
    "Doing this will remove some specific flag information.\n",
    "In particular, @voc@ only accepts flags per compound and not per variable as in ebas.\n",
    "\n",
    "This for each compound, the flag collects all the compounds of the variables.\n",
    "\n",
    "@voc@ also requires a runtype for each run.\n",
    "We use for that the calibration flag suggested by ebas.\n",
    "We have to assume that this flag is the same for all compounds.\n",
    "\"\"\"\n",
    "\n",
    "\n",
    "\n",
    "\n",
    "logger = logging.getLogger(__name__)\n",
    "clean_for_df = {}\n",
    "\n",
    "data_level = new_nas.metadata[\"datalevel\"]\n",
    "\n",
    "compounds = []\n",
    "\n",
    "\n",
    "for var in new_nas.variables:\n",
    "    if \"metadata\" not in var:\n",
    "        continue\n",
    "\n",
    "    metadata = var[\"metadata\"]\n",
    "    if \"comp_name\" not in metadata:\n",
    "        continue\n",
    "\n",
    "    values = var[\"values_\"]\n",
    "\n",
    "    title = metadata[\"title\"]\n",
    "\n",
    "    # Split the title on the _\n",
    "\n",
    "    title = title.split(\"_\")\n",
    "\n",
    "    if len(title) != 2:\n",
    "\n",
    "        print(\"passing\", title)\n",
    "        continue\n",
    "\n",
    "    compund, variable = title\n",
    "    if compund not in compounds:\n",
    "        compounds.append(compund)\n",
    "\n",
    "    clean_for_df[(compund, variable)] = values\n",
    "\n",
    "    flag_serie = pd.Series(\n",
    "        [\n",
    "            sum([ebas_flag_to_avoca[f].value for f in flag_row])\n",
    "            for flag_row in var[\"flags\"]\n",
    "        ]\n",
    "    )\n",
    "    flag_col = (compund, \"flag\")\n",
    "    if flag_col not in clean_for_df:\n",
    "        clean_for_df[flag_col] = flag_serie\n",
    "    else:\n",
    "        clean_for_df[flag_col] |= flag_serie\n",
    "\n",
    "\n",
    "# Use the start of the intervals as the datetime (use 1 for the end)\n",
    "clean_for_df[(\"-\", \"datetime\")] = [dt[0] for dt in new_nas.sample_times]\n",
    "\n",
    "is_calibration = {\n",
    "    compound: (QA_Flag.CALIBRATION.value & clean_for_df[(compound, \"flag\")]).astype(\n",
    "        bool\n",
    "    )\n",
    "    for compound in compounds\n",
    "}\n",
    "\n",
    "# Assert all the calibration flags are the same\n",
    "ref_calib = is_calibration[compounds[0]]\n",
    "for compound in compounds[1:]:\n",
    "    if not np.all(is_calibration[compounds[0]] == is_calibration[compound]):\n",
    "        logger.warning(\n",
    "            f\"Calibration flags are not the same for all compounds: {compound} \"\n",
    "            f\"is different from reference compound {compounds[0]}\"\n",
    "            f\"at rows {np.argwhere(mask_different).reshape(-1)}\"\n",
    "        )\n",
    "        # Show at which index the flags are different\n",
    "        mask_different = is_calibration[compounds[0]] != is_calibration[compound]\n",
    "        # Combine the calib in both samples\n",
    "        ref_calib = ref_calib | is_calibration[compound]\n",
    "\n",
    "runtype = pd.Series(is_calibration[compounds[0]].map({True: \"std\", False: \"air\"}))\n",
    "clean_for_df[(\"-\", \"runtype\")] = runtype\n",
    "\n",
    "\n",
    "# print(title)\n",
    "\n",
    "df_avoca = pd.DataFrame(clean_for_df).set_index((\"-\", \"datetime\"))\n",
    "df_avoca"
   ]
  },
  {
   "cell_type": "code",
   "execution_count": null,
   "metadata": {},
   "outputs": [],
   "source": [
    "\n",
    "\n",
    "data = AvocaCheckSetting(start=\"3d\", name=\"test\", assigner=\"test\")\n",
    "\n",
    "data"
   ]
  },
  {
   "cell_type": "code",
   "execution_count": null,
   "metadata": {},
   "outputs": [],
   "source": [
    "%load_ext autoreload\n",
    "%autoreload 2"
   ]
  },
  {
   "cell_type": "code",
   "execution_count": null,
   "metadata": {},
   "outputs": [],
   "source": [
    "from avoca.factory import AssignerFactory\n",
    "from avoca.settings import read_setting_file\n",
    "\n",
    "settings = read_setting_file(r\"C:\\Users\\coli\\Documents\\avoca\\data\\.avoca\\config.yaml\")\n",
    "\n",
    "assigners = [AssignerFactory.create(setting) for setting in settings]"
   ]
  },
  {
   "cell_type": "code",
   "execution_count": null,
   "metadata": {},
   "outputs": [],
   "source": [
    "assigners"
   ]
  }
 ],
 "metadata": {
  "kernelspec": {
   "display_name": "Python 3",
   "language": "python",
   "name": "python3"
  },
  "language_info": {
   "codemirror_mode": {
    "name": "ipython",
    "version": 3
   },
   "file_extension": ".py",
   "mimetype": "text/x-python",
   "name": "python",
   "nbconvert_exporter": "python",
   "pygments_lexer": "ipython3",
   "version": "3.11.2"
  }
 },
 "nbformat": 4,
 "nbformat_minor": 2
}
