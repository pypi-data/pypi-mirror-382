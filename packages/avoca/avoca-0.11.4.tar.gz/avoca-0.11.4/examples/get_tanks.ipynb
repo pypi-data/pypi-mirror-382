{
 "cells": [
  {
   "cell_type": "code",
   "execution_count": null,
   "id": "cbff1d1a",
   "metadata": {},
   "outputs": [],
   "source": [
    "%load_ext autoreload\n",
    "%autoreload 2"
   ]
  },
  {
   "cell_type": "code",
   "execution_count": null,
   "id": "5564964a",
   "metadata": {},
   "outputs": [],
   "source": [
    "import pandas as pd \n",
    "\n",
    "from avoca.bindings.gcwerks import read_gcwerks, export\n",
    "\n",
    "from pathlib import Path\n",
    "from datetime import datetime\n"
   ]
  },
  {
   "cell_type": "code",
   "execution_count": null,
   "id": "bba5e278",
   "metadata": {},
   "outputs": [],
   "source": [
    "\n",
    "\n",
    "workdir = Path('./KSJ_flask')\n",
    "workdir.mkdir(exist_ok=True)\n",
    "temp_file = workdir / 'sevoflurane.dat'\n",
    "export(\n",
    "    workdir=workdir,\n",
    "    gcdir=\"/agage/empa-medusa\", \n",
    "    compounds=['sevoflurane'], \n",
    "    out_file=temp_file, \n",
    "    date_start=datetime(2010, 1, 1),\n",
    "    variables=['C', 'RL.report' ]\n",
    "    \n",
    ")\n",
    "df_gcwerks = read_gcwerks(temp_file, runtypes=['tank'])\n",
    "df_gcwerks"
   ]
  },
  {
   "cell_type": "code",
   "execution_count": null,
   "id": "dcffbe3e",
   "metadata": {},
   "outputs": [],
   "source": [
    "mini_archive_file = \"/agage/empa-medusa/logs/hardware.log/MiniArchive2013\"\n",
    "lines = []\n",
    "\n",
    "columns = [\n",
    "    'measurement_time',\n",
    "    'sample_id',\n",
    "    'tank_id',\n",
    "    'tank_material',\n",
    "    'pressure',\n",
    "    'lon',\n",
    "    'lat',\n",
    "    'sampling_time',\n",
    "    'station', \n",
    "    'filling_method', \n",
    "    'sampling_volume',\n",
    "    'operator',\n",
    "]\n",
    "with open(mini_archive_file, 'r') as f:\n",
    "    for i, line in enumerate(f):\n",
    "        if line.startswith('#'):\n",
    "            continue\n",
    "        if line.strip() == '':\n",
    "            continue\n",
    "        values = line.strip().split()\n",
    "        if len(values) < len(columns):\n",
    "            print(f\"Skipping line {line} with insufficient values: {line.strip()}\")\n",
    "            continue\n",
    "        lines.append(values[:len(columns)])\n",
    "\n",
    "lines\n",
    "df = pd.DataFrame(lines, columns=columns)\n",
    "df"
   ]
  },
  {
   "cell_type": "code",
   "execution_count": null,
   "id": "1abc794d",
   "metadata": {},
   "outputs": [],
   "source": [
    "df['tank_material'].unique()\n",
    "df['sampling_time'] = pd.to_datetime(df['sampling_time'], format='%Y%m%d')\n",
    "df['measurement_time'] = pd.to_datetime(df['measurement_time'], format='%y%m%d.%H%M')\n",
    "df_ksg = df.loc[df['station'] == 'KSG']\n",
    "df_ksg"
   ]
  },
  {
   "cell_type": "code",
   "execution_count": null,
   "id": "8664c16a",
   "metadata": {},
   "outputs": [],
   "source": [
    "df_gcwerks_ksg = df_gcwerks.loc[df_gcwerks[('-', 'sample')].str.startswith('KSG')].copy()\n",
    "\n",
    "# access the string from 3:9 of the column \n",
    "df_gcwerks_ksg['sampling_time'] = pd.to_datetime(df_gcwerks_ksg[('-', 'sample')].str[3:9], format='%y%m%d')\n",
    "df_gcwerks_ksg"
   ]
  },
  {
   "cell_type": "code",
   "execution_count": null,
   "id": "dbc981ad",
   "metadata": {},
   "outputs": [],
   "source": [
    "df_gcwerks_ksg"
   ]
  },
  {
   "cell_type": "code",
   "execution_count": null,
   "id": "b5a49cd0",
   "metadata": {},
   "outputs": [],
   "source": [
    "plt.figure(figsize=(10, 6))\n",
    "df_gcwerks_ksg.plot(x='sampling_time', y=('sevoflurane', 'C'), kind='scatter', title='KSG Sevoflurane Concentration')\n",
    "plt.savefig(workdir / 'KSG_sevoflurane_concentration.png')\n",
    "plt.show()"
   ]
  }
 ],
 "metadata": {
  "kernelspec": {
   "display_name": "Python 3",
   "language": "python",
   "name": "python3"
  },
  "language_info": {
   "codemirror_mode": {
    "name": "ipython",
    "version": 3
   },
   "file_extension": ".py",
   "mimetype": "text/x-python",
   "name": "python",
   "nbconvert_exporter": "python",
   "pygments_lexer": "ipython3",
   "version": "3.12.4"
  }
 },
 "nbformat": 4,
 "nbformat_minor": 5
}
