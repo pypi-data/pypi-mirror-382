{
 "cells": [
  {
   "cell_type": "markdown",
   "metadata": {},
   "source": [
    "# Quality assessement of the data\n",
    "\n",
    "\n",
    "This notebook shows how the avoca can be applied to the data.\n",
    "\n",
    "\n",
    "We have different possible flags that we assign\n",
    "\n",
    "\n",
    "For the input data we use some test timeseries.\n",
    "\n"
   ]
  },
  {
   "cell_type": "code",
   "execution_count": null,
   "metadata": {},
   "outputs": [],
   "source": [
    "%load_ext autoreload\n",
    "%autoreload 2"
   ]
  },
  {
   "cell_type": "code",
   "execution_count": null,
   "metadata": {},
   "outputs": [],
   "source": [
    "from __future__ import annotations\n",
    "import logging\n",
    "# Different import required\n",
    "from datetime import datetime\n",
    "from os import PathLike\n",
    "from pathlib import Path\n",
    "import numpy as np\n",
    "import pandas as pd\n",
    "import matplotlib.pyplot as plt\n",
    "\n",
    "# Import the @voc@ module \n",
    "import avoca\n",
    "from avoca.utils import compounds_from_df\n",
    "\n",
    "plt.style.use('default')"
   ]
  },
  {
   "cell_type": "code",
   "execution_count": null,
   "metadata": {},
   "outputs": [],
   "source": [
    "# Set up logging\n",
    "logging.basicConfig(level=logging.INFO, format='%(asctime)s - %(name)s - %(levelname)s - %(message)s')"
   ]
  },
  {
   "cell_type": "markdown",
   "metadata": {},
   "source": [
    "## Data format\n",
    "\n",
    "The data is expected to be in a pandas dataframe with the 2 levels columns:\n",
    "\n",
    "The first coumn contains the compound names, \n",
    "the second the different variables. \n",
    "\n",
    "Some columns report measurement metadata and are shared among the compounds so the first line is `-`. \n",
    "\n",
    "Reserved names for compounds columns :\n",
    "\n",
    "* `area`: the chromatogram area \n",
    "* `C`: the concentration \n",
    "* `flag`: the flag assigned to the data point\n",
    "\n",
    "For shared columns (starting with `-`)\n",
    "\n",
    "* `datetime`: the date and time of the measurement\n",
    "* `type`: the type of measurement (calibration=`std`, sample=`air`, blank=`blank`, ...)"
   ]
  },
  {
   "cell_type": "code",
   "execution_count": null,
   "metadata": {},
   "outputs": [],
   "source": [
    "# File availabe in the repository\n",
    "data_file = Path(*avoca.__path__).parent / \"data\" / \"voc_jan2jun_2023.csv\"\n",
    "df = pd.read_csv(data_file, parse_dates=[('-','datetime')],  header=[0,1]).set_index([('-','datetime')])"
   ]
  },
  {
   "cell_type": "markdown",
   "metadata": {},
   "source": [
    "In our case the data contains already some compounds, the concentration values and some flags"
   ]
  },
  {
   "cell_type": "code",
   "execution_count": null,
   "metadata": {},
   "outputs": [],
   "source": [
    "print(f\"Lenght: {len(df)} measurements\")\n",
    "compounds = compounds_from_df(df)\n",
    "print(f\"Compounds: {compounds}\")\n",
    "df.head()"
   ]
  },
  {
   "cell_type": "markdown",
   "metadata": {},
   "source": [
    "### Creating an assigner of the data\n",
    "\n",
    "avoca works with assigner objects\n",
    "\n",
    "These objects are first trained on some 'valid' data and then used to assign flags to new data\n",
    "\n",
    "Note that you can also generete this using a config file. \n",
    "See example: `config.yaml`"
   ]
  },
  {
   "cell_type": "code",
   "execution_count": null,
   "metadata": {},
   "outputs": [],
   "source": [
    "from avoca.qa_class.concs import ExtremeConcentrations\n",
    "from avoca.qa_class.zscore import XY_Correlations, Multiple_XY_Correlations\n",
    "\n",
    "\n",
    "# Create assingers for each compound\n",
    "assigners = [\n",
    "    exteme_concs := ExtremeConcentrations(compounds=compounds),\n",
    "    XY_Correlations(\n",
    "        compounds=[\"ethane\", \"propane\", \"n-butane\"], variable=\"C\", threshold=4.0\n",
    "    ),\n",
    "    # xy_benzene_toluene := XY_Correlations(compounds=[\"benzene\", \"toluene\"], variable=\"C\"),\n",
    "    multiple_assigner := Multiple_XY_Correlations(\n",
    "        number_of_regression=3, compounds=[\"benzene\", \"toluene\"], variable=\"C\"\n",
    "    ),\n",
    "]"
   ]
  },
  {
   "cell_type": "code",
   "execution_count": null,
   "metadata": {},
   "outputs": [],
   "source": [
    "from avoca.manager import AssignerManager\n",
    "\n",
    "# Assume the data has not been checked since the first of April\n",
    "limit_date = datetime(2023, 4, 1)\n",
    "# Fit the assigners to the data\n",
    "df_train = df.loc[:limit_date]\n",
    "df_test = df.loc[limit_date:]\n",
    "for assigner in assigners:\n",
    "    # First we train the assigner on the training data\n",
    "    AssignerManager.train(assigner, df_train)\n",
    "    # Then we apply the assigner on the test data, this will add the flags to the dataframe\n",
    "    AssignerManager.apply(assigner, df_test)\n"
   ]
  },
  {
   "cell_type": "markdown",
   "metadata": {},
   "source": [
    "### Flags \n",
    "\n",
    "Each assigner will put flags on the data."
   ]
  },
  {
   "cell_type": "code",
   "execution_count": null,
   "metadata": {},
   "outputs": [],
   "source": [
    "from avoca.flags import QA_Flag\n",
    "\n",
    "for assigner in assigners:\n",
    "    print(type(assigner).__name__, '\\t', assigner.flag)"
   ]
  },
  {
   "cell_type": "code",
   "execution_count": null,
   "metadata": {},
   "outputs": [],
   "source": [
    "# Plot ethene vs propane\n",
    "fig, ax = plt.subplots(figsize=(4, 4))\n",
    "mask = df[(\"-\", \"type\")] == \"air\"\n",
    "\n",
    "x_sub = 'ethane'\n",
    "y_sub = 'propane'\n",
    "unit = 'pmol/mol'\n",
    "\n",
    "this_df = df_test.loc[mask]\n",
    "ax.scatter(\n",
    "    this_df[(x_sub, \"C\")],\n",
    "    this_df[(y_sub, \"C\")],\n",
    "    label=\"Test Data\",\n",
    "    color=\"darkblue\",\n",
    "    s=2,\n",
    ")\n",
    "# Get flagged data\n",
    "mask_uncorrelated = (\n",
    "    (this_df[(x_sub, \"flag\")] & QA_Flag.UNCORRELATED.value) != 0\n",
    ") | ((this_df[(y_sub, \"flag\")] & QA_Flag.UNCORRELATED.value) != 0)\n",
    "# Put crosses on uncorrelated data\n",
    "ax.scatter(\n",
    "    this_df.loc[mask_uncorrelated, (x_sub, \"C\")],\n",
    "    this_df.loc[mask_uncorrelated, (y_sub, \"C\")],\n",
    "    marker=\"x\",\n",
    "    label=\"Uncorrelated\",\n",
    "    s=20,\n",
    "    color=\"red\",\n",
    ")\n",
    "ax.legend()\n",
    "ax.set_xlabel(f\"{x_sub} [{unit}]\")\n",
    "ax.set_ylabel(f\"{y_sub} [{unit}]\")\n",
    "# Make the background transparent\n",
    "fig.patch.set_alpha(0)\n"
   ]
  },
  {
   "cell_type": "code",
   "execution_count": null,
   "metadata": {},
   "outputs": [],
   "source": [
    "# Plot the multiple correlation\n",
    "assigner = multiple_assigner\n",
    "fig, ax = plt.subplots(figsize=(5, 3))\n",
    "mask = np.isin(df[(\"-\", \"type\")], assigner.runtypes)\n",
    "\n",
    "x_sub = 'benzene'\n",
    "y_sub = 'toluene'\n",
    "slopes = [l.weight.item() for l in assigner._models[(x_sub, y_sub)].linears]\n",
    "stds = assigner._stds[(x_sub, y_sub)]\n",
    "\n",
    "this_df = df.loc[mask]\n",
    "ax.scatter(\n",
    "    this_df[(x_sub, \"C\")],\n",
    "    this_df[(y_sub, \"C\")],\n",
    "    label=\"Test Data\",\n",
    "    color=\"darkblue\",\n",
    "    s=2,\n",
    ")\n",
    "# Get flagged data\n",
    "mask_uncorrelated = (\n",
    "    (this_df[(x_sub, \"flag\")] & QA_Flag.UNCORRELATED.value) != 0\n",
    ") | ((this_df[(y_sub, \"flag\")] & QA_Flag.UNCORRELATED.value) != 0)\n",
    "\n",
    "ax.scatter(\n",
    "    this_df.loc[mask_uncorrelated, (x_sub, \"C\")],\n",
    "    this_df.loc[mask_uncorrelated, (y_sub, \"C\")],\n",
    "    marker=\"x\",\n",
    "    label=\"Uncorrelated\",\n",
    "    s=20,\n",
    "    color=\"red\",\n",
    ")\n",
    "x = np.linspace(np.nanmin(this_df[(x_sub, \"C\")]), np.nanmax(this_df[(x_sub, \"C\")]), 100)\n",
    "for slope, std in zip(slopes, stds):\n",
    "    ax.plot(x, slope * x, color=\"black\", linewidth=1, linestyle=\"--\")\n",
    "    # Fill the std area between the lines\n",
    "    print(std)\n",
    "    ax.fill_between(\n",
    "        x,\n",
    "        np.max(slope * x - std * assigner.threshold, 0),\n",
    "        slope * x + std * assigner.threshold,\n",
    "        color=\"black\",\n",
    "        alpha=0.1,\n",
    "        linewidth=0,\n",
    "    )"
   ]
  },
  {
   "cell_type": "code",
   "execution_count": null,
   "metadata": {},
   "outputs": [],
   "source": [
    "# Plot toluene benzene\n",
    "fig, ax = plt.subplots(figsize=(5, 3))\n",
    "mask = df[(\"-\", \"type\")] == \"air\"\n",
    "\n",
    "sub = 'n-butane'\n",
    "\n",
    "this_df = df_test.loc[mask].loc[limit_date:]\n",
    "ax.scatter(\n",
    "    this_df.index,\n",
    "    this_df[(sub, \"C\")],\n",
    "    label=\"Data\",\n",
    "    color=\"darkblue\",\n",
    "    s=1,\n",
    ")\n",
    "# Get flagged data\n",
    "mask_extreme = (\n",
    "    (this_df[(sub, \"flag\")] & QA_Flag.EXTREME_VALUE.value) != 0\n",
    ") \n",
    "# Put crosses on uncorrelated data\n",
    "ax.scatter(\n",
    "    this_df.loc[mask_extreme].index,\n",
    "    this_df.loc[mask_extreme, (sub, \"C\")],\n",
    "    marker=\"x\",\n",
    "    label=\"Extreme value\",\n",
    "    s=10,\n",
    "    color=\"red\",\n",
    ")\n",
    "ax.legend()\n",
    "ax.set_xlabel(\"Date\")\n",
    "ax.set_ylabel(sub)\n",
    "# Rotate the xticks\n",
    "ax.tick_params(axis='x', rotation=25)\n",
    "# Make the background transparent\n",
    "fig.patch.set_alpha(0)\n"
   ]
  },
  {
   "cell_type": "code",
   "execution_count": null,
   "metadata": {},
   "outputs": [],
   "source": [
    "exteme_concs.plot()"
   ]
  },
  {
   "cell_type": "code",
   "execution_count": null,
   "metadata": {},
   "outputs": [],
   "source": [
    "from avoca.bindings.qa_tool import export_EmpaQATool\n",
    "from datetime import  timedelta\n",
    "\n",
    "export_EmpaQATool(\n",
    "    df_test.copy(),\n",
    "    export_path=Path(r\"C:\\Users\\coli\\Documents\\avoca\\cases\\test_qa\"),\n",
    "    datetime_offsets=(timedelta(minutes=-12), timedelta(minutes=9)),\n",
    ")"
   ]
  },
  {
   "cell_type": "code",
   "execution_count": null,
   "metadata": {},
   "outputs": [],
   "source": [
    "import ipywidgets as widgets\n",
    "\n",
    "# Make a plot with plotly \n",
    "import plotly.express as px\n",
    "\n",
    "# Get the concentation data from all compounds (2nd row of the multiindex)\n",
    "df_concs = df_test.loc[:, (slice(None),'C')].droplevel(1, axis=1)\n",
    "df_flags = df_test.loc[:, (slice(None),'flag')].droplevel(1, axis=1)\n",
    "\n",
    "# Dropdown widget for compound selection\n",
    "compound_selector = widgets.Dropdown(\n",
    "    options=compounds,\n",
    "    value=compounds[0],\n",
    "    description='Compound:',\n",
    ")\n",
    "# Extract unique flag values from df_flags for the selected compound\n",
    "flag_values = np.sort(df_flags[compound_selector.options[0]].unique())\n",
    "# Assign a color to each flag value using a color palette\n",
    "color_map = px.colors.qualitative.Safe\n",
    "flag_color_dict = {flag: color_map[i % len(color_map)] for i, flag in enumerate(flag_values)}\n",
    "\n",
    "def plot_selected_compound(compound):\n",
    "    # Map flag values to colors for the selected compound\n",
    "    mask_valid = ~pd.isna(df_concs[compound])\n",
    "    df_this = df_concs.loc[mask_valid]\n",
    "    flag_series = df_flags.loc[mask_valid, compound]\n",
    "    color_list = flag_series.map(flag_color_dict)\n",
    "    # Format the datetime index as string for hover labels\n",
    "    time_labels = df_this.index.strftime('%y%m%d.%H%M')\n",
    "    fig = px.scatter(\n",
    "        x=df_this.index,\n",
    "        y=df_this[compound],\n",
    "        color=flag_series.astype(str),\n",
    "        color_discrete_map={str(flag): color for flag, color in flag_color_dict.items()},\n",
    "        labels={'x': 'Datetime', 'y': f'{compound} concentration', 'color': 'Flag'},\n",
    "        title=f'{compound} concentration over time',\n",
    "        hover_name=time_labels\n",
    "    )\n",
    "    fig.update_traces(marker=dict(size=5))\n",
    "    fig.show()\n",
    "\n",
    "widgets.interact(plot_selected_compound, compound=compound_selector)\n",
    "\n",
    "\n"
   ]
  }
 ],
 "metadata": {
  "kernelspec": {
   "display_name": "Python 3",
   "language": "python",
   "name": "python3"
  },
  "language_info": {
   "codemirror_mode": {
    "name": "ipython",
    "version": 3
   },
   "file_extension": ".py",
   "mimetype": "text/x-python",
   "name": "python",
   "nbconvert_exporter": "python",
   "pygments_lexer": "ipython3",
   "version": "3.12.2"
  },
  "orig_nbformat": 4
 },
 "nbformat": 4,
 "nbformat_minor": 2
}
