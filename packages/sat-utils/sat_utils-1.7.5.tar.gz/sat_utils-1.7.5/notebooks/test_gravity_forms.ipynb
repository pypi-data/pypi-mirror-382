{
 "cells": [
  {
   "cell_type": "code",
   "execution_count": 1,
   "id": "b1db26d3-9f3f-48b5-9880-1bf64c61bdac",
   "metadata": {
    "tags": []
   },
   "outputs": [],
   "source": [
    "import os, sys\n",
    "from pathlib import Path\n",
    "PROJECTPATH = Path(\".\").cwd().parent.absolute()\n",
    "sys.path.insert(0, PROJECTPATH)\n",
    "os.chdir(PROJECTPATH)"
   ]
  },
  {
   "cell_type": "code",
   "execution_count": 2,
   "id": "81212050-3259-4c17-9844-5d2230cfcce0",
   "metadata": {
    "tags": []
   },
   "outputs": [],
   "source": [
    "from urllib.parse import urlencode\n",
    "from sat import gravity_forms\n",
    "import json"
   ]
  },
  {
   "cell_type": "code",
   "execution_count": 3,
   "id": "1f4728d2-26b1-4cbb-b856-2e9b458b619d",
   "metadata": {
    "tags": []
   },
   "outputs": [],
   "source": [
    "gravity = gravity_forms.GravityForms()"
   ]
  },
  {
   "cell_type": "code",
   "execution_count": 4,
   "id": "fce9b5d2-d3ad-4f9e-b5ef-8ebc2743692f",
   "metadata": {
    "tags": []
   },
   "outputs": [
    {
     "data": {
      "text/plain": [
       "<sat.gravity_forms.Form at 0x7aec505370a0>"
      ]
     },
     "execution_count": 4,
     "metadata": {},
     "output_type": "execute_result"
    }
   ],
   "source": [
    "form = gravity.get_form(3)\n",
    "form"
   ]
  },
  {
   "cell_type": "code",
   "execution_count": 5,
   "id": "0b3e9de6-4170-4538-9e3b-d99d3ae2ceec",
   "metadata": {
    "tags": []
   },
   "outputs": [
    {
     "data": {
      "text/plain": [
       "[<sat.gravity_forms.Form at 0x7aec504b9720>,\n",
       " <sat.gravity_forms.Form at 0x7aec5055cb20>,\n",
       " <sat.gravity_forms.Form at 0x7aec5055d5d0>,\n",
       " <sat.gravity_forms.Form at 0x7aec5055c490>,\n",
       " <sat.gravity_forms.Form at 0x7aec5055c520>,\n",
       " <sat.gravity_forms.Form at 0x7aec5055e080>,\n",
       " <sat.gravity_forms.Form at 0x7aec5055d9f0>]"
      ]
     },
     "execution_count": 5,
     "metadata": {},
     "output_type": "execute_result"
    }
   ],
   "source": [
    "gravity.get_forms()"
   ]
  },
  {
   "cell_type": "code",
   "execution_count": 6,
   "id": "250b3874-8dcd-47d9-b321-41d767778bd9",
   "metadata": {
    "tags": []
   },
   "outputs": [],
   "source": [
    "sponsors = gravity.get_entries(form_id=2)\n",
    "cards = gravity.get_entries(form_id=3)"
   ]
  },
  {
   "cell_type": "code",
   "execution_count": 8,
   "id": "d6edf62e-0f57-4404-ba59-da841194bec1",
   "metadata": {
    "tags": []
   },
   "outputs": [
    {
     "data": {
      "text/plain": [
       "{'id': '20665',\n",
       " 'form_id': '2',\n",
       " 'created_by': '106',\n",
       " 'date_created': '2024-03-26 14:24:03',\n",
       " 'date_updated': '2024-03-26 14:24:03',\n",
       " 'is_starred': '0',\n",
       " 'is_read': '0',\n",
       " 'ip': '152.14.20.186',\n",
       " 'source_url': 'https://onecard.ncsu.edu/get-card/card-request-form/',\n",
       " 'post_id': None,\n",
       " 'user_agent': 'Mozilla/5.0 (Windows NT 10.0; Win64; x64) AppleWebKit/537.36 (KHTML, like Gecko) Chrome/122.0.0.0 Safari/537.36',\n",
       " 'status': 'active',\n",
       " 'is_fulfilled': None,\n",
       " 'details': {'date_updated': '2024-03-26 14:24:03',\n",
       "  'currency': 'USD',\n",
       "  'payment_status': None,\n",
       "  'payment_date': None,\n",
       "  'payment_amount': None,\n",
       "  'payment_method': None,\n",
       "  'transaction_id': None,\n",
       "  'transaction_type': None,\n",
       "  '22': 'Lisa Van Roekel',\n",
       "  '23': 'lnsmith',\n",
       "  '21': 'lnsmith@ncsu.edu',\n",
       "  '32': '20664',\n",
       "  '7': 'Corporate Partner',\n",
       "  '16': 'Lincoln Property Company',\n",
       "  '17': '(919) 418-4297',\n",
       "  '18': 'Heather.Beasley@lpc.com',\n",
       "  'gravityformsrecaptcha_score': '0.9',\n",
       "  '19': '',\n",
       "  '29': '',\n",
       "  '8': '',\n",
       "  '13': '',\n",
       "  '27': '',\n",
       "  '24': '',\n",
       "  '25': '',\n",
       "  '12': '',\n",
       "  '14': '',\n",
       "  '15': '',\n",
       "  '20': '',\n",
       "  '26': '',\n",
       "  '33': '',\n",
       "  '34': '',\n",
       "  '36': '',\n",
       "  'gpnf_entry_parent': False,\n",
       "  'gpnf_entry_parent_form': False,\n",
       "  'gpnf_entry_nested_form_field': False}}"
      ]
     },
     "execution_count": 8,
     "metadata": {},
     "output_type": "execute_result"
    }
   ],
   "source": [
    "sponsors[0].__dict__"
   ]
  },
  {
   "cell_type": "code",
   "execution_count": 12,
   "id": "2fb3dbe3-2bca-46d9-88e6-5bce48302d8a",
   "metadata": {
    "tags": []
   },
   "outputs": [
    {
     "data": {
      "text/plain": [
       "{'id': '20664',\n",
       " 'form_id': '3',\n",
       " 'created_by': '106',\n",
       " 'date_created': '2024-03-26 14:23:27',\n",
       " 'date_updated': '2024-03-26 14:23:27',\n",
       " 'is_starred': '0',\n",
       " 'is_read': '0',\n",
       " 'ip': '152.14.20.186',\n",
       " 'source_url': 'https://onecard.ncsu.edu/get-card/card-request-form/',\n",
       " 'post_id': None,\n",
       " 'user_agent': 'Mozilla/5.0 (Windows NT 10.0; Win64; x64) AppleWebKit/537.36 (KHTML, like Gecko) Chrome/122.0.0.0 Safari/537.36',\n",
       " 'status': 'active',\n",
       " 'is_fulfilled': None,\n",
       " 'details': {'date_updated': '2024-03-26 14:23:27',\n",
       "  'currency': 'USD',\n",
       "  'payment_status': None,\n",
       "  'payment_date': None,\n",
       "  'payment_amount': None,\n",
       "  'payment_method': None,\n",
       "  'transaction_id': None,\n",
       "  'transaction_type': None,\n",
       "  '2.3': 'Heather',\n",
       "  '2.6': 'Beasley',\n",
       "  '3': 'Heather.Beasley@lpc.com',\n",
       "  'gravityformsrecaptcha_score': 'disabled',\n",
       "  '4': '100038431',\n",
       "  'gpnf_entry_nested_form_field': '32',\n",
       "  'gpnf_entry_parent': '20665',\n",
       "  'gpnf_entry_parent_form': '2',\n",
       "  '2.2': '',\n",
       "  '2.4': '',\n",
       "  '2.8': '',\n",
       "  '5': ''}}"
      ]
     },
     "execution_count": 12,
     "metadata": {},
     "output_type": "execute_result"
    }
   ],
   "source": [
    "entry = gravity.get_entry('20664')\n",
    "entry.__dict__"
   ]
  },
  {
   "cell_type": "code",
   "execution_count": 19,
   "id": "a184a4f1-c213-4f66-92a5-0a05b158fbf4",
   "metadata": {
    "tags": []
   },
   "outputs": [
    {
     "data": {
      "text/plain": [
       "{'id': '20453',\n",
       " 'form_id': '3',\n",
       " 'created_by': '5757',\n",
       " 'date_created': '2024-02-28 13:13:19',\n",
       " 'date_updated': '2024-02-28 13:13:19',\n",
       " 'is_starred': '0',\n",
       " 'is_read': '0',\n",
       " 'ip': '152.1.166.139',\n",
       " 'source_url': 'https://onecard.ncsu.edu/get-card/card-request-form/',\n",
       " 'post_id': None,\n",
       " 'user_agent': 'Mozilla/5.0 (Windows NT 10.0; Win64; x64) AppleWebKit/537.36 (KHTML, like Gecko) Chrome/122.0.0.0 Safari/537.36',\n",
       " 'status': 'active',\n",
       " 'is_fulfilled': None,\n",
       " 'details': {'date_updated': '2024-02-28 13:13:19',\n",
       "  'currency': 'USD',\n",
       "  'payment_status': None,\n",
       "  'payment_date': None,\n",
       "  'payment_amount': None,\n",
       "  'payment_method': None,\n",
       "  'transaction_id': None,\n",
       "  'transaction_type': None,\n",
       "  '2.3': 'Christina',\n",
       "  '2.6': 'Harvey',\n",
       "  '3': 'cnharvey48@gmail.com',\n",
       "  '4': '100038329',\n",
       "  'gpnf_entry_parent': '20454',\n",
       "  'gpnf_entry_parent_form': '2',\n",
       "  'gpnf_entry_nested_form_field': '32',\n",
       "  '2.2': '',\n",
       "  '2.4': '',\n",
       "  '2.8': '',\n",
       "  '5': ''}}"
      ]
     },
     "execution_count": 19,
     "metadata": {},
     "output_type": "execute_result"
    }
   ],
   "source": [
    "cards[0].__dict__"
   ]
  },
  {
   "cell_type": "code",
   "execution_count": 9,
   "id": "58ab3076-2274-4fa8-9517-3baa3bc0053b",
   "metadata": {
    "tags": []
   },
   "outputs": [
    {
     "data": {
      "text/plain": [
       "'Kimberly Mahl'"
      ]
     },
     "execution_count": 9,
     "metadata": {},
     "output_type": "execute_result"
    }
   ],
   "source": [
    "sponsor = gravity.get_entry('20454')\n",
    "sponsor.details['22']"
   ]
  },
  {
   "cell_type": "code",
   "execution_count": 13,
   "id": "198abbfe-6d57-414c-b1cd-e1004a14f4d6",
   "metadata": {
    "tags": []
   },
   "outputs": [
    {
     "name": "stdout",
     "output_type": "stream",
     "text": [
      "On page 1\n",
      "{'date_updated': '2024-04-08 18:46:24', 'currency': 'USD', 'payment_status': None, 'payment_date': None, 'payment_amount': None, 'payment_method': None, 'transaction_id': None, 'transaction_type': None, '2.3': 'Jonathan', '2.6': 'Miner', '3': 'jonathan.miner@powern.ai', '5': '200424086', 'gravityformsrecaptcha_score': 'disabled', 'gpnf_entry_nested_form_field': '32', 'gpnf_entry_parent': '20755', 'gpnf_entry_parent_form': '2', '2.2': '', '2.4': '', '2.8': '', '4': ''}\n",
      "On page 2\n",
      "{'date_updated': '2024-02-19 14:48:55', 'currency': 'USD', 'payment_status': None, 'payment_date': None, 'payment_amount': None, 'payment_method': None, 'transaction_id': None, 'transaction_type': None, '2.3': 'Jessalyn', '2.6': 'Pedone', '3': 'zbadpichapteradvisor@gmail.com', '5': '001120239', 'gpnf_entry_parent': '20316', 'gpnf_entry_parent_form': '2', 'gpnf_entry_nested_form_field': '32', '2.2': '', '2.4': '', '2.8': '', '4': '', 'gravityformsrecaptcha_score': False}\n",
      "On page 3\n",
      "{'date_updated': '2024-01-22 15:04:31', 'currency': 'USD', 'payment_status': None, 'payment_date': None, 'payment_amount': None, 'payment_method': None, 'transaction_id': None, 'transaction_type': None, '2.3': 'Yash', '2.6': 'Bajoria', '3': 'yash.bajoria@hitachienergy.com', '5': '200205036', 'gpnf_entry_nested_form_field': '32', 'gpnf_entry_parent': '19852', 'gpnf_entry_parent_form': '2', '2.2': '', '2.4': '', '2.8': '', '4': '', 'gravityformsrecaptcha_score': False}\n",
      "On page 4\n",
      "{'date_updated': '2023-11-13 17:52:04', 'currency': 'USD', 'payment_status': None, 'payment_date': None, 'payment_amount': None, 'payment_method': None, 'transaction_id': None, 'transaction_type': None, '2.3': 'Madolyn', '2.6': 'Willms', '3': 'mfwillms@ncsu.edu', '5': '200252434', 'gpnf_entry_nested_form_field': '32', 'gpnf_entry_parent': '19237', 'gpnf_entry_parent_form': '2', '2.2': '', '2.4': '', '2.8': '', '4': '', 'gravityformsrecaptcha_score': False}\n",
      "On page 5\n",
      "{'date_updated': '2023-09-25 14:08:25', 'currency': 'USD', 'payment_status': None, 'payment_date': None, 'payment_amount': None, 'payment_method': None, 'transaction_id': None, 'transaction_type': None, '2.3': 'Agustin', '2.6': 'Menta', '3': 'amenta@fing.edu.uy', '5': '200555704', 'gpnf_entry_parent': '18847', 'gpnf_entry_parent_form': '2', 'gpnf_entry_nested_form_field': '32', '2.2': '', '2.4': '', '2.8': '', '4': '', 'gravityformsrecaptcha_score': False}\n",
      "On page 6\n",
      "{'date_updated': '2023-08-16 18:11:35', 'currency': 'USD', 'payment_status': None, 'payment_date': None, 'payment_amount': None, 'payment_method': None, 'transaction_id': None, 'transaction_type': None, '2.3': 'Jenna', '2.6': 'Clayton', '3': 'claytonj18@students.ecu.edu', '5': '200272176', 'gpnf_entry_parent': '18317', 'gpnf_entry_parent_form': '2', 'gpnf_entry_nested_form_field': '32', '2.2': '', '2.4': '', '2.8': '', '4': '', 'gravityformsrecaptcha_score': False}\n",
      "On page 7\n",
      "{'date_updated': '2023-07-24 23:20:35', 'currency': 'USD', 'payment_status': None, 'payment_date': None, 'payment_amount': None, 'payment_method': None, 'transaction_id': None, 'transaction_type': None, '2.3': 'Olivia', '2.6': 'Watson', '3': 'oannwatson@gmail.com', '5': '200051072', 'gpnf_entry_parent': '17824', 'gpnf_entry_parent_form': '2', 'gpnf_entry_nested_form_field': '32', '2.2': '', '2.4': '', '2.8': '', '4': '', 'gravityformsrecaptcha_score': False}\n",
      "On page 8\n",
      "{'date_updated': '2023-07-06 17:53:38', 'currency': 'USD', 'payment_status': None, 'payment_date': None, 'payment_amount': None, 'payment_method': None, 'transaction_id': None, 'transaction_type': None, '2.3': 'Anders', '2.6': 'Hjort', '3': 'adhjort@ncsu.edu', '5': '200532675', 'gpnf_entry_parent': '17595', 'gpnf_entry_parent_form': '2', 'gpnf_entry_nested_form_field': '32', '2.2': '', '2.4': '', '2.8': '', '4': '', 'gravityformsrecaptcha_score': False}\n",
      "On page 9\n",
      "{'date_updated': '2023-05-24 13:53:38', 'currency': 'USD', 'payment_status': None, 'payment_date': None, 'payment_amount': None, 'payment_method': None, 'transaction_id': None, 'transaction_type': None, '2.3': 'Taylor', '2.6': 'Stanton', '3': 'tmstanto@ncsu.edu', '5': '001134616', 'gpnf_entry_parent': '17029', 'gpnf_entry_parent_form': '2', 'gpnf_entry_nested_form_field': '32', '2.2': '', '2.4': '', '2.8': '', '4': '', 'gravityformsrecaptcha_score': False}\n",
      "On page 10\n",
      "{'date_updated': '2023-04-13 19:43:39', 'currency': 'USD', 'payment_status': None, 'payment_date': None, 'payment_amount': None, 'payment_method': None, 'transaction_id': None, 'transaction_type': None, '2.3': 'Dylan', '2.6': 'Lilley', '3': 'dylan_lilley@ncsu.edu', '5': '001020890', 'gpnf_entry_parent': '16497', 'gpnf_entry_parent_form': '2', 'gpnf_entry_nested_form_field': '32', '2.2': '', '2.4': '', '2.8': '', '4': '', 'gravityformsrecaptcha_score': False}\n",
      "On page 11\n",
      "{'date_updated': '2023-02-08 20:05:38', 'currency': 'USD', 'payment_status': None, 'payment_date': None, 'payment_amount': None, 'payment_method': None, 'transaction_id': None, 'transaction_type': None, '2.3': 'Erfan', '2.6': 'Kimiaei', '3': 'ekimiae@ncsu.edu', '5': '200497693', 'gpnf_entry_parent': '15940', 'gpnf_entry_parent_form': '2', 'gpnf_entry_nested_form_field': '32', '2.2': '', '2.4': '', '2.8': '', '4': '', 'gravityformsrecaptcha_score': False}\n",
      "On page 12\n",
      "{'date_updated': '2023-01-05 17:58:23', 'currency': 'USD', 'payment_status': None, 'payment_date': None, 'payment_amount': None, 'payment_method': None, 'transaction_id': None, 'transaction_type': None, '2.3': 'Joshua', '2.6': 'Myoung', '3': 'jmyoun23@ncsu.edu', '5': '001134184', 'gpnf_entry_parent': '15497', 'gpnf_entry_parent_form': '2', 'gpnf_entry_nested_form_field': '32', '2.2': '', '2.4': '', '2.8': '', '4': '', 'gravityformsrecaptcha_score': False}\n",
      "On page 13\n",
      "{'date_updated': '2022-11-07 17:03:57', 'currency': 'USD', 'payment_status': None, 'payment_date': None, 'payment_amount': None, 'payment_method': None, 'transaction_id': None, 'transaction_type': None, '2.3': 'Jennifer', '2.6': 'Shue', '3': 'jcdanie2@ncsu.edu', '5': '000768760', 'gpnf_entry_parent': '14927', 'gpnf_entry_parent_form': '2', 'gpnf_entry_nested_form_field': '32', '2.2': '', '2.4': '', '2.8': '', '4': '', 'gravityformsrecaptcha_score': False}\n",
      "On page 14\n",
      "{'date_updated': '2022-09-12 15:17:38', 'currency': 'USD', 'payment_status': None, 'payment_date': None, 'payment_amount': None, 'payment_method': None, 'transaction_id': None, 'transaction_type': None, '2.3': 'STACIE', '2.6': 'KUAMOO', '3': 'SKUAMOO@NCSU.EDU', '5': '001133533', 'gpnf_entry_parent': '14479', 'gpnf_entry_parent_form': '2', 'gpnf_entry_nested_form_field': '32', '2.2': '', '2.4': '', '2.8': '', '4': '', 'gravityformsrecaptcha_score': False}\n",
      "On page 15\n",
      "{'date_updated': '2022-08-04 18:56:21', 'currency': 'USD', 'payment_status': None, 'payment_date': None, 'payment_amount': None, 'payment_method': None, 'transaction_id': None, 'transaction_type': None, '2.3': 'Danielle', '2.6': 'Lowe', '3': 'dwlowe@nsu.edu', '5': '001133143', 'gpnf_entry_parent': '13988', 'gpnf_entry_parent_form': '2', 'gpnf_entry_nested_form_field': '32', '2.2': '', '2.4': '', '2.8': '', '4': '', 'gravityformsrecaptcha_score': False}\n",
      "On page 16\n",
      "{'date_updated': '2022-07-18 13:18:28', 'currency': 'USD', 'payment_status': None, 'payment_date': None, 'payment_amount': None, 'payment_method': None, 'transaction_id': None, 'transaction_type': None, '2.3': 'Taylor', '2.6': 'Sligh', '3': 'tsligh@ncsu.edu', '5': '001133044', 'gpnf_entry_parent': '13742', 'gpnf_entry_parent_form': '2', 'gpnf_entry_nested_form_field': '32', '2.2': '', '2.4': '', '2.8': '', '4': '', 'gravityformsrecaptcha_score': False}\n",
      "On page 17\n",
      "{'date_updated': '2022-06-10 20:05:55', 'currency': 'USD', 'payment_status': None, 'payment_date': None, 'payment_amount': None, 'payment_method': None, 'transaction_id': None, 'transaction_type': None, '2.3': 'Shunsen', '2.6': 'Ren', '3': 'shunsenr@email.unc.edu', '5': '001132779', 'gpnf_entry_parent': '13331', 'gpnf_entry_parent_form': '2', 'gpnf_entry_nested_form_field': '32', '2.2': '', '2.4': '', '2.8': '', '4': '', 'gravityformsrecaptcha_score': False}\n",
      "On page 18\n",
      "{'date_updated': '2022-05-04 13:35:41', 'currency': 'USD', 'payment_status': None, 'payment_date': None, 'payment_amount': None, 'payment_method': None, 'transaction_id': None, 'transaction_type': None, '2.3': 'Mariam', '2.6': 'Nakitto', '3': 'mnakit@ncsu.edu', '5': '200453904', 'gpnf_entry_parent': '12836', 'gpnf_entry_parent_form': '2', 'gpnf_entry_nested_form_field': '32', '2.2': '', '2.4': '', '2.8': '', '4': '', 'gravityformsrecaptcha_score': False}\n",
      "On page 19\n",
      "{'date_updated': '2022-03-25 13:24:26', 'currency': 'USD', 'payment_status': None, 'payment_date': None, 'payment_amount': None, 'payment_method': None, 'transaction_id': None, 'transaction_type': None, '2.3': 'Osvalda', '2.6': 'Guambe', '3': 'osvaldaguambe@gmail.com', '5': '200450898', 'gpnf_entry_parent': '12435', 'gpnf_entry_parent_form': '2', 'gpnf_entry_nested_form_field': '32', '2.2': '', '2.4': '', '2.8': '', '4': '', 'gravityformsrecaptcha_score': False}\n",
      "On page 20\n",
      "{'date_updated': '2022-02-05 01:13:54', 'currency': 'USD', 'payment_status': None, 'payment_date': None, 'payment_amount': None, 'payment_method': None, 'transaction_id': None, 'transaction_type': None, '2.3': 'Asokan', '2.6': 'Ram', '3': 'aram2@ncsu.edu', '5': '001126323', 'gpnf_entry_parent': '12045', 'gpnf_entry_parent_form': '2', 'gpnf_entry_nested_form_field': '32', '2.2': '', '2.4': '', '2.8': '', '4': '', 'gravityformsrecaptcha_score': False}\n",
      "On page 21\n",
      "{'date_updated': '2021-12-21 19:03:07', 'currency': 'USD', 'payment_status': None, 'payment_date': None, 'payment_amount': None, 'payment_method': None, 'transaction_id': None, 'transaction_type': None, '2.3': 'Malasia', '2.6': 'McClendon', '3': 'mmcclendon@ncforum.org', '5': '200146649', 'gpnf_entry_parent': '11630', 'gpnf_entry_parent_form': '2', 'gpnf_entry_nested_form_field': '32', '2.2': '', '2.4': '', '2.8': '', '4': '', 'gravityformsrecaptcha_score': False}\n",
      "On page 22\n",
      "{'date_updated': '2021-11-15 13:54:07', 'currency': 'USD', 'payment_status': None, 'payment_date': None, 'payment_amount': None, 'payment_method': None, 'transaction_id': None, 'transaction_type': None, '2.3': 'Pascal', '2.6': 'Kaienburg', '3': 'pkaienb@ncsu.edu', '5': '200444498', 'gpnf_entry_parent': '11286', 'gpnf_entry_parent_form': '2', 'gpnf_entry_nested_form_field': '32', '2.2': '', '2.4': '', '2.8': '', '4': '', 'gravityformsrecaptcha_score': False}\n",
      "On page 23\n",
      "{'date_updated': '2021-09-30 13:46:16', 'currency': 'USD', 'payment_status': None, 'payment_date': None, 'payment_amount': None, 'payment_method': None, 'transaction_id': None, 'transaction_type': None, '2.3': 'John', '2.6': 'McGeachy', '3': 'jam3@ncsu.edu', '4': '100034428', 'gpnf_entry_parent': '10853', 'gpnf_entry_parent_form': '2', 'gpnf_entry_nested_form_field': '32', '5': '000003073', '2.2': '', '2.4': '', '2.8': '', 'gravityformsrecaptcha_score': False}\n",
      "On page 24\n",
      "{'date_updated': '2021-08-24 17:10:14', 'currency': 'USD', 'payment_status': None, 'payment_date': None, 'payment_amount': None, 'payment_method': None, 'transaction_id': None, 'transaction_type': None, '2.3': 'Tiffany', '2.6': 'Monk', '3': 'tiffanymonk19@gmail.com', '5': '001130340', 'gpnf_entry_parent': '10224', 'gpnf_entry_parent_form': '2', 'gpnf_entry_nested_form_field': '32', '2.2': '', '2.4': '', '2.8': '', '4': '', 'gravityformsrecaptcha_score': False}\n",
      "On page 25\n",
      "{'date_updated': '2021-08-05 13:47:31', 'currency': 'USD', 'payment_status': None, 'payment_date': None, 'payment_amount': None, 'payment_method': None, 'transaction_id': None, 'transaction_type': None, '2.3': 'Maddy', '2.6': 'Smith', '3': 'mmsmit33@ncsu.edu', '5': '001130198', 'gpnf_entry_parent': '9873', 'gpnf_entry_parent_form': '2', 'gpnf_entry_nested_form_field': '32', '2.2': '', '2.4': '', '2.8': '', '4': '', 'gravityformsrecaptcha_score': False}\n",
      "On page 26\n",
      "{'date_updated': '2021-06-17 13:24:59', 'currency': 'USD', 'payment_status': None, 'payment_date': None, 'payment_amount': None, 'payment_method': None, 'transaction_id': None, 'transaction_type': None, '2.3': 'Vu', '2.6': 'Nguyen', '3': 'vnguyen8@ncsu.edu', '5': '200436825', 'gpnf_entry_parent': '9463', 'gpnf_entry_parent_form': '2', 'gpnf_entry_nested_form_field': '32', '2.2': '', '2.4': '', '2.8': '', '4': '', 'gravityformsrecaptcha_score': False}\n",
      "On page 27\n",
      "{'date_updated': '2021-04-06 18:15:12', 'currency': 'USD', 'payment_status': None, 'payment_date': None, 'payment_amount': None, 'payment_method': None, 'transaction_id': None, 'transaction_type': None, '2.3': 'HyoJong', '2.6': 'Lee', '3': 'hyojong.lee@hitachi-powergrids.com', '5': '100023614', 'gpnf_entry_parent': '8924', 'gpnf_entry_parent_form': '2', 'gpnf_entry_nested_form_field': '32', '2.2': '', '2.4': '', '2.8': '', '4': '', 'gravityformsrecaptcha_score': False}\n",
      "On page 28\n",
      "{'date_updated': '2021-03-02 16:12:44', 'currency': 'USD', 'payment_status': None, 'payment_date': None, 'payment_amount': None, 'payment_method': None, 'transaction_id': None, 'transaction_type': None, '2.3': 'William', '2.6': 'Reil', '3': 'breil8@aol.com', '5': '001129063', 'gpnf_entry_parent_form': '2', 'gpnf_entry_parent': '8688', 'gpnf_entry_nested_form_field': '32', '2.2': '', '2.4': '', '2.8': '', '4': '', 'gravityformsrecaptcha_score': False}\n",
      "On page 29\n",
      "{'date_updated': '2021-01-13 19:50:45', 'currency': 'USD', 'payment_status': None, 'payment_date': None, 'payment_amount': None, 'payment_method': None, 'transaction_id': None, 'transaction_type': None, '2.3': 'CVM Testing', '2.6': 'Visitor #3', '3': 'tjjohns7@ncsu.edu', '5': '000000000', '4': '100033310', 'gpnf_entry_parent_form': '2', 'gpnf_entry_parent': '8287', 'gpnf_entry_nested_form_field': '32', '2.2': '', '2.4': '', '2.8': '', 'gravityformsrecaptcha_score': False}\n",
      "On page 30\n",
      "{'date_updated': '2020-10-21 16:50:43', 'currency': 'USD', 'payment_status': None, 'payment_date': None, 'payment_amount': None, 'payment_method': None, 'transaction_id': None, 'transaction_type': None, '2.3': 'Idania', '2.6': 'Salinas', '3': 'irodri255@gmail.com', '5': '001128519', 'gpnf_entry_parent_form': '2', 'gpnf_entry_parent': '7785', 'gpnf_entry_nested_form_field': '32', '2.2': '', '2.4': '', '2.8': '', '4': '', 'gravityformsrecaptcha_score': False}\n",
      "On page 31\n",
      "{'date_updated': '2020-08-27 18:39:08', 'currency': 'USD', 'payment_status': None, 'payment_date': None, 'payment_amount': None, 'payment_method': None, 'transaction_id': None, 'transaction_type': None, '2.3': 'Julie', '2.6': 'Dixon', '3': 'jwdixon2@ncsu.edu', '5': '000537475', 'gpnf_entry_parent_form': '2', 'gpnf_entry_parent': '7444', 'gpnf_entry_nested_form_field': '32', '2.2': '', '2.4': '', '2.8': '', '4': '', 'gravityformsrecaptcha_score': False}\n",
      "On page 32\n",
      "{'date_updated': '2020-06-30 12:38:23', 'currency': 'USD', 'payment_status': None, 'payment_date': None, 'payment_amount': None, 'payment_method': None, 'transaction_id': None, 'transaction_type': None, '2.3': 'Chris', '2.6': 'Roberts', '3': 'chris.roberts@swisslog.com', '5': '100031023', 'gpnf_entry_parent_form': '2', 'gpnf_entry_parent': '6919', 'gpnf_entry_nested_form_field': '32', '2.2': '', '2.4': '', '2.8': '', '4': '', 'gravityformsrecaptcha_score': False}\n",
      "On page 33\n",
      "{'date_updated': '2020-03-11 16:15:30', 'currency': 'USD', 'payment_status': None, 'payment_date': None, 'payment_amount': None, 'payment_method': None, 'transaction_id': None, 'transaction_type': None, '2.3': 'Cesar de Jesus', '2.6': 'Cruz', '3': 'gina.wagner@aus.com', '5': '000000000', '4': '100032497', 'gpnf_entry_parent_form': '2', 'gpnf_entry_parent': '6487', 'gpnf_entry_nested_form_field': '32', '2.2': '', '2.4': '', '2.8': '', 'gravityformsrecaptcha_score': False}\n",
      "On page 34\n",
      "{'date_updated': '2020-01-29 13:57:50', 'currency': 'USD', 'payment_status': None, 'payment_date': None, 'payment_amount': None, 'payment_method': None, 'transaction_id': None, 'transaction_type': None, '2.3': 'Chaka', '2.6': 'McFail', '3': 'chefkai410@gmail.com', '5': '001126823', 'gpnf_entry_parent_form': '2', 'gpnf_entry_parent': '6237', 'gpnf_entry_nested_form_field': '32', '2.2': '', '2.4': '', '2.8': '', '4': '', 'gravityformsrecaptcha_score': False}\n",
      "On page 35\n",
      "{'date_updated': '2019-12-12 17:08:48', 'currency': 'USD', 'payment_status': None, 'payment_date': None, 'payment_amount': None, 'payment_method': None, 'transaction_id': None, 'transaction_type': None, '2.3': 'Yongsheng', '2.6': 'Yu', '3': 'yyu44@ncsu.edu', '5': '200333292', 'gpnf_entry_parent_form': '2', 'gpnf_entry_parent': '5907', 'gpnf_entry_nested_form_field': '32', '2.2': '', '2.4': '', '2.8': '', '4': '', 'gravityformsrecaptcha_score': False}\n",
      "On page 36\n",
      "{'date_updated': '2019-11-06 19:55:26', 'currency': 'USD', 'payment_status': None, 'payment_date': None, 'payment_amount': None, 'payment_method': None, 'transaction_id': None, 'transaction_type': None, '2.3': 'Jingzhou', '2.6': 'Yan', '3': 'yjyan@ncsu.edu', '5': '200338134', 'gpnf_entry_parent_form': '2', 'gpnf_entry_parent': '5613', 'gpnf_entry_nested_form_field': '32', '2.2': '', '2.4': '', '2.8': '', '4': '', 'gravityformsrecaptcha_score': False}\n",
      "On page 37\n",
      "{'date_updated': '2019-09-24 19:20:25', 'currency': 'USD', 'payment_status': None, 'payment_date': None, 'payment_amount': None, 'payment_method': None, 'transaction_id': None, 'transaction_type': None, '2.3': 'Darren', '2.6': 'Woodland Jr.', '3': 'dkwoodla@ncsu.edu', '5': '200265332', 'gpnf_entry_parent_form': '2', 'gpnf_entry_parent': '5282', 'gpnf_entry_nested_form_field': '32', '2.2': '', '2.4': '', '2.8': '', '4': '', 'gravityformsrecaptcha_score': False}\n",
      "On page 38\n",
      "{'date_updated': '2019-08-28 18:03:46', 'currency': 'USD', 'payment_status': None, 'payment_date': None, 'payment_amount': None, 'payment_method': None, 'transaction_id': None, 'transaction_type': None, '2.3': 'Timothy', '2.6': \"O'Connor\", '3': 'toconno@ncsu.edu', '5': '001125615', 'gpnf_entry_parent_form': '2', 'gpnf_entry_parent': '4984', 'gpnf_entry_nested_form_field': '32', '2.2': '', '2.4': '', '2.8': '', '4': '', 'gravityformsrecaptcha_score': False}\n",
      "On page 39\n",
      "{'date_updated': '2019-08-01 12:16:19', 'currency': 'USD', 'payment_status': None, 'payment_date': None, 'payment_amount': None, 'payment_method': None, 'transaction_id': None, 'transaction_type': None, '2.3': 'Catherine', '2.6': 'Wehman', '3': 'cwehman@ncsu.edu', '5': '001125307', 'gpnf_entry_parent_form': '2', 'gpnf_entry_parent': '4614', 'gpnf_entry_nested_form_field': '32', '2.2': '', '2.4': '', '2.8': '', '4': '', 'gravityformsrecaptcha_score': False}\n",
      "On page 40\n",
      "{'date_updated': '2019-07-24 16:49:20', 'currency': 'USD', 'payment_status': None, 'payment_date': None, 'payment_amount': None, 'payment_method': None, 'transaction_id': None, 'transaction_type': None, '2.3': 'Natalie', '2.6': 'Singleton', '3': 'nrsingle@ncsu.edu', '5': '001125265', 'gpnf_entry_parent_form': '2', 'gpnf_entry_parent': '4431', 'gpnf_entry_nested_form_field': '32', '2.2': '', '2.4': '', '2.8': '', '4': '', 'gravityformsrecaptcha_score': False}\n",
      "On page 41\n",
      "On page 42\n",
      "On page 43\n",
      "On page 44\n",
      "On page 45\n",
      "On page 46\n",
      "On page 47\n",
      "On page 48\n",
      "On page 49\n",
      "On page 50\n",
      "On page 51\n",
      "On page 52\n",
      "On page 53\n",
      "On page 54\n",
      "No more pages\n"
     ]
    }
   ],
   "source": [
    "count = 1\n",
    "while True:\n",
    "    ents = gravity.get_entries(page=count, page_size=200, form_id=3)\n",
    "    print(f\"On page {count}\")\n",
    "    for ent in ents:\n",
    "        if ent.details['2.2'] or ent.details['2.4'] or ent.details['2.8'] or ent.details['5']:\n",
    "            print(ent.details)\n",
    "            break\n",
    "    if not ents:\n",
    "        print(\"No more pages\")\n",
    "        break\n",
    "    count += 1"
   ]
  },
  {
   "cell_type": "code",
   "execution_count": 4,
   "id": "f693a3cf-1b5d-46b3-bd1c-46af24722d4f",
   "metadata": {
    "tags": []
   },
   "outputs": [],
   "source": [
    "keys = [('23', 'kkmahl', '=')]"
   ]
  },
  {
   "cell_type": "code",
   "execution_count": 6,
   "id": "a49d9930-2427-483b-8206-e1d84f683bcf",
   "metadata": {
    "tags": []
   },
   "outputs": [
    {
     "data": {
      "text/plain": [
       "{'id': '20150',\n",
       " 'form_id': '2',\n",
       " 'created_by': '5757',\n",
       " 'date_created': '2024-02-09 13:18:20',\n",
       " 'date_updated': '2024-02-09 13:18:20',\n",
       " 'is_starred': '0',\n",
       " 'is_read': '0',\n",
       " 'ip': '152.1.166.139',\n",
       " 'source_url': 'https://onecard.ncsu.edu/get-card/card-request-form/',\n",
       " 'post_id': None,\n",
       " 'user_agent': 'Mozilla/5.0 (Windows NT 10.0; Win64; x64) AppleWebKit/537.36 (KHTML, like Gecko) Chrome/121.0.0.0 Safari/537.36',\n",
       " 'status': 'active',\n",
       " 'is_fulfilled': None,\n",
       " 'details': {'date_updated': '2024-02-09 13:18:20',\n",
       "  'currency': 'USD',\n",
       "  'payment_status': None,\n",
       "  'payment_date': None,\n",
       "  'payment_amount': None,\n",
       "  'payment_method': None,\n",
       "  'transaction_id': None,\n",
       "  'transaction_type': None,\n",
       "  '22': 'Kimberly Mahl',\n",
       "  '23': 'kkmahl',\n",
       "  '21': 'kkmahl@ncsu.edu',\n",
       "  '32': '20149',\n",
       "  '7': 'Corporate Partner',\n",
       "  '16': 'Osher Lifelong Learning Institute',\n",
       "  '17': '(919) 515-5782',\n",
       "  '18': 'olli_info@ncsu.edu',\n",
       "  '19': '',\n",
       "  '29': '',\n",
       "  '8': '',\n",
       "  '13': '',\n",
       "  '27': '',\n",
       "  '24': '',\n",
       "  '25': '',\n",
       "  '12': '',\n",
       "  '14': '',\n",
       "  '15': '',\n",
       "  '20': '',\n",
       "  '26': '',\n",
       "  '33': '',\n",
       "  '34': '',\n",
       "  '36': '',\n",
       "  'gpnf_entry_parent': False,\n",
       "  'gpnf_entry_parent_form': False,\n",
       "  'gpnf_entry_nested_form_field': False}}"
      ]
     },
     "execution_count": 6,
     "metadata": {},
     "output_type": "execute_result"
    }
   ],
   "source": [
    "filters = gravity.field_filters(keys)\n",
    "res = gravity.search_entry(field_filters=filters, form_id='2')\n",
    "res[3].__dict__"
   ]
  },
  {
   "cell_type": "code",
   "execution_count": 17,
   "id": "4bc3461d-0f23-4a8a-a8ea-09add3c9c6c5",
   "metadata": {
    "tags": []
   },
   "outputs": [],
   "source": [
    "#res = 'https://onecard.ncsu.edu/wp-json/gf/v2/forms/2/entries?search={\"field_filters\": [{\"key\": \"23\", \"value\": \"kkmahl\", \"operator\": \"=\"}]}&'"
   ]
  },
  {
   "cell_type": "code",
   "execution_count": 18,
   "id": "b2c95d99-ffbb-4a61-9ab5-572f85f00683",
   "metadata": {
    "tags": []
   },
   "outputs": [],
   "source": [
    "resp = gravity.session.get(res)"
   ]
  },
  {
   "cell_type": "code",
   "execution_count": null,
   "id": "2cb60d9a-ed13-46af-8496-212bae49b18d",
   "metadata": {
    "tags": []
   },
   "outputs": [],
   "source": []
  },
  {
   "cell_type": "code",
   "execution_count": null,
   "id": "732f2ba0-556e-4933-b9b2-23d15b07ab13",
   "metadata": {},
   "outputs": [],
   "source": []
  }
 ],
 "metadata": {
  "kernelspec": {
   "display_name": "Python 3 (ipykernel)",
   "language": "python",
   "name": "python3"
  },
  "language_info": {
   "codemirror_mode": {
    "name": "ipython",
    "version": 3
   },
   "file_extension": ".py",
   "mimetype": "text/x-python",
   "name": "python",
   "nbconvert_exporter": "python",
   "pygments_lexer": "ipython3",
   "version": "3.10.4"
  }
 },
 "nbformat": 4,
 "nbformat_minor": 5
}
