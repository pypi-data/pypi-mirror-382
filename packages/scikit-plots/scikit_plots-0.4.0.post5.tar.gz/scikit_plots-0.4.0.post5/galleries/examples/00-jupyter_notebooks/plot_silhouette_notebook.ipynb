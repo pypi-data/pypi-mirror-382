{
 "cells": [
  {
   "cell_type": "markdown",
   "metadata": {},
   "source": [
    "### An example showing the plot_silhouette method used by a scikit-learn classifier\n",
    "\n",
    "In this example, we'll be plotting a `silhouette` to describe the classifier model performance\n",
    "using the **breast_cancer**, **iris** or **digits** dataset from scikit-learn.\n",
    "- `KMeans`\n",
    "\n",
    "Here, we'll be using the `scikitplot.metrics.plot_silhouette` method."
   ]
  },
  {
   "cell_type": "code",
   "execution_count": 1,
   "metadata": {},
   "outputs": [
    {
     "data": {
      "text/plain": [
       "'0.5.0.dev0+git.20250430.079ba10'"
      ]
     },
     "execution_count": 1,
     "metadata": {},
     "output_type": "execute_result"
    }
   ],
   "source": [
    "from sklearn.cluster import KMeans\n",
    "from sklearn.datasets import load_iris as data_3_classes\n",
    "from sklearn.model_selection import train_test_split\n",
    "\n",
    "import numpy as np\n",
    "np.random.seed(0)\n",
    "# importing pylab or pyplot\n",
    "import matplotlib.pyplot as plt\n",
    "\n",
    "%matplotlib inline\n",
    "plt.rcParams['figure.figsize'] = (12, 5)\n",
    "\n",
    "# Import scikit-plot\n",
    "import scikitplot as sp\n",
    "\n",
    "sp.__version__"
   ]
  },
  {
   "cell_type": "code",
   "execution_count": 2,
   "metadata": {},
   "outputs": [
    {
     "name": "stdout",
     "output_type": "stream",
     "text": [
      "\u001b[31mSignature:\u001b[39m\n",
      "sp.metrics.plot_silhouette(\n",
      "    X,\n",
      "    cluster_labels,\n",
      "    *,\n",
      "    metric=\u001b[33m'euclidean'\u001b[39m,\n",
      "    copy=\u001b[38;5;28;01mTrue\u001b[39;00m,\n",
      "    title=\u001b[33m'Silhouette Analysis'\u001b[39m,\n",
      "    title_fontsize=\u001b[33m'large'\u001b[39m,\n",
      "    text_fontsize=\u001b[33m'medium'\u001b[39m,\n",
      "    cmap=\u001b[38;5;28;01mNone\u001b[39;00m,\n",
      "    digits=\u001b[32m4\u001b[39m,\n",
      "    **kwargs,\n",
      ")\n",
      "\u001b[31mDocstring:\u001b[39m\n",
      "Plots silhouette analysis of clusters provided.\n",
      "\n",
      "Silhouette analysis is a method of interpreting and validating the consistency\n",
      "within clusters of data. It measures how similar an object is to its own\n",
      "cluster compared to other clusters.\n",
      "\n",
      "Parameters\n",
      "----------\n",
      "X : array-like, shape (n_samples, n_features)\n",
      "    Data to cluster, where `n_samples` is the number of samples and\n",
      "    `n_features` is the number of features.\n",
      "\n",
      "cluster_labels : array-like, shape (n_samples,)\n",
      "    Cluster label for each sample.\n",
      "\n",
      "metric : str or callable, optional, default='euclidean'\n",
      "    The metric to use when calculating distance between instances in a feature array.\n",
      "    If metric is a string, it must be one of the options allowed by\n",
      "    `sklearn.metrics.pairwise.pairwise_distances`. If `X` is the distance array itself,\n",
      "    use \"precomputed\" as the metric.\n",
      "\n",
      "copy : bool, optional, default=True\n",
      "    Determines whether `fit` is used on `clf` or on a copy of `clf`.\n",
      "\n",
      "title : str, optional, default='Silhouette Analysis'\n",
      "    Title of the generated plot.\n",
      "\n",
      "title_fontsize : str or int, optional, default='large'\n",
      "    Font size for the plot title.\n",
      "\n",
      "text_fontsize : str or int, optional, default='medium'\n",
      "    Font size for the text in the plot.\n",
      "\n",
      "cmap : None, str or matplotlib.colors.Colormap, optional, default=None\n",
      "    Colormap used for plotting.\n",
      "    Options include 'viridis', 'PiYG', 'plasma', 'inferno', 'nipy_spectral', etc.\n",
      "    See Matplotlib Colormap documentation for available choices.\n",
      "\n",
      "    - https://matplotlib.org/stable/users/explain/colors/index.html\n",
      "    - plt.colormaps()\n",
      "    - plt.get_cmap()  # None == 'viridis'\n",
      "\n",
      "digits : int, optional, default=4\n",
      "    Number of digits for formatting output floating point values.\n",
      "\n",
      "    .. versionadded:: 0.3.9\n",
      "\n",
      "**kwargs: dict\n",
      "    Generic keyword arguments.\n",
      "\n",
      "Other Parameters\n",
      "----------------\n",
      "ax : matplotlib.axes.Axes, optional, default=None\n",
      "    The axis to plot the figure on. If None is passed in the current axes\n",
      "    will be used (or generated if required).\n",
      "\n",
      "fig : matplotlib.pyplot.figure, optional, default: None\n",
      "    The figure to plot the Visualizer on. If None is passed in the current\n",
      "    plot will be used (or generated if required).\n",
      "\n",
      "figsize : tuple, optional, default=None\n",
      "    Width, height in inches.\n",
      "    Tuple denoting figure size of the plot e.g. (12, 5)\n",
      "\n",
      "nrows : int, optional, default=1\n",
      "    Number of rows in the subplot grid.\n",
      "\n",
      "ncols : int, optional, default=1\n",
      "    Number of columns in the subplot grid.\n",
      "\n",
      "index : int or tuple, optional, default=1\n",
      "    The position of the subplot on the grid. It can be:\n",
      "    - An integer specifying the position (1-based).\n",
      "\n",
      "show_fig : bool, default=True\n",
      "    Show the plot.\n",
      "\n",
      "save_fig : bool, default=False\n",
      "    Save the plot.\n",
      "\n",
      "save_fig_filename : str, optional, default=''\n",
      "    Specify the path and filetype to save the plot.\n",
      "    If nothing specified, the plot will be saved as png\n",
      "    inside ``result_images`` under to the current working directory.\n",
      "    Defaults to plot image named to used ``func.__name__``.\n",
      "\n",
      "verbose : bool, optional\n",
      "    If True, prints debugging informations.\n",
      "\n",
      "Returns\n",
      "-------\n",
      "ax : matplotlib.axes.Axes\n",
      "    The axes on which the plot was drawn.\n",
      "\n",
      "\n",
      ".. dropdown:: References\n",
      "\n",
      "  * `\"scikit-learn silhouette_score\"\n",
      "    <https://scikit-learn.org/stable/modules/generated/sklearn.metrics.silhouette_score.html#>`_.\n",
      "\n",
      "Examples\n",
      "--------\n",
      "\n",
      ".. plot::\n",
      "   :context: close-figs\n",
      "   :align: center\n",
      "   :alt: Silhouette Plot\n",
      "\n",
      "    >>> from sklearn.cluster import KMeans\n",
      "    >>> from sklearn.datasets import load_iris as data_3_classes\n",
      "    >>> import scikitplot as skplt\n",
      "    >>> X, y = data_3_classes(return_X_y=True, as_frame=False)\n",
      "    >>> kmeans = KMeans(n_clusters=3, random_state=0)\n",
      "    >>> cluster_labels = kmeans.fit_predict(X)\n",
      "    >>> skplt.metrics.plot_silhouette(\n",
      "    >>>     X,\n",
      "    >>>     cluster_labels,\n",
      "    >>> );\n",
      "\u001b[31mFile:\u001b[39m      ~/work/scikitplot/api/metrics/_clustering/_silhouette.py\n",
      "\u001b[31mType:\u001b[39m      function"
     ]
    }
   ],
   "source": [
    "sp.metrics.plot_silhouette?"
   ]
  },
  {
   "cell_type": "code",
   "execution_count": 3,
   "metadata": {},
   "outputs": [],
   "source": [
    "# Load the data\n",
    "X, y = data_3_classes(return_X_y=True, as_frame=False)\n",
    "X_train, X_val, y_train, y_val = train_test_split(\n",
    "    X, y, test_size=0.5, random_state=0\n",
    ")"
   ]
  },
  {
   "cell_type": "code",
   "execution_count": 4,
   "metadata": {},
   "outputs": [
    {
     "data": {
      "image/png": "[encoded data removed]",
      "text/plain": [
       "<Figure size 1200x500 with 1 Axes>"
      ]
     },
     "metadata": {},
     "output_type": "display_data"
    }
   ],
   "source": [
    "# Create an instance of the LogisticRegression\n",
    "model = KMeans(n_clusters=4, random_state=0)\n",
    "\n",
    "cluster_labels = model.fit_predict(X_train)\n",
    "\n",
    "# Plot!\n",
    "ax = sp.metrics.plot_silhouette(\n",
    "    X_train, cluster_labels\n",
    ")"
   ]
  },
  {
   "cell_type": "code",
   "execution_count": null,
   "metadata": {},
   "outputs": [],
   "source": []
  }
 ],
 "metadata": {
  "kernelspec": {
   "display_name": "py311",
   "language": "python",
   "name": "python3"
  },
  "language_info": {
   "codemirror_mode": {
    "name": "ipython",
    "version": 3
   },
   "file_extension": ".py",
   "mimetype": "text/x-python",
   "name": "python",
   "nbconvert_exporter": "python",
   "pygments_lexer": "ipython3",
   "version": "3.11.12"
  }
 },
 "nbformat": 4,
 "nbformat_minor": 4
}
