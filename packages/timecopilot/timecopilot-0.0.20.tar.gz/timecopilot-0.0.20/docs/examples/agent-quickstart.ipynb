{
 "cells": [
  {
   "cell_type": "markdown",
   "id": "767e2143",
   "metadata": {},
   "source": [
    "# TimeCopilot Agent"
   ]
  },
  {
   "cell_type": "code",
   "execution_count": 9,
   "id": "02826629",
   "metadata": {},
   "outputs": [],
   "source": [
    "import nest_asyncio\n",
    "nest_asyncio.apply()"
   ]
  },
  {
   "cell_type": "markdown",
   "id": "85e1ddbe",
   "metadata": {},
   "source": [
    "## Import libraries"
   ]
  },
  {
   "cell_type": "code",
   "execution_count": 10,
   "id": "5e2acc09",
   "metadata": {},
   "outputs": [],
   "source": [
    "import pandas as pd\n",
    "from timecopilot import TimeCopilot"
   ]
  },
  {
   "cell_type": "markdown",
   "id": "c2b4d0bb",
   "metadata": {},
   "source": [
    "\n",
    "## Load the dataset. \n",
    "\n",
    "The DataFrame must include at least the following columns:\n",
    "- unique_id: Unique identifier for each time series (string)\n",
    "- ds: Date column (datetime format)\n",
    "- y: Target variable for forecasting (float format)\n",
    "\n",
    "The pandas frequency will be inferred from the ds column, if not provided.\n",
    "If the seasonality is not provided, it will be inferred based on the frequency. \n",
    "If the horizon is not set, it will default to 2 times the inferred seasonality."
   ]
  },
  {
   "cell_type": "code",
   "execution_count": 11,
   "id": "5b690413",
   "metadata": {},
   "outputs": [
    {
     "data": {
      "text/html": [
       "<div>\n",
       "<style scoped>\n",
       "    .dataframe tbody tr th:only-of-type {\n",
       "        vertical-align: middle;\n",
       "    }\n",
       "\n",
       "    .dataframe tbody tr th {\n",
       "        vertical-align: top;\n",
       "    }\n",
       "\n",
       "    .dataframe thead th {\n",
       "        text-align: right;\n",
       "    }\n",
       "</style>\n",
       "<table border=\"1\" class=\"dataframe\">\n",
       "  <thead>\n",
       "    <tr style=\"text-align: right;\">\n",
       "      <th></th>\n",
       "      <th>unique_id</th>\n",
       "      <th>ds</th>\n",
       "      <th>y</th>\n",
       "    </tr>\n",
       "  </thead>\n",
       "  <tbody>\n",
       "    <tr>\n",
       "      <th>0</th>\n",
       "      <td>AirPassengers</td>\n",
       "      <td>1949-01-01</td>\n",
       "      <td>112</td>\n",
       "    </tr>\n",
       "    <tr>\n",
       "      <th>1</th>\n",
       "      <td>AirPassengers</td>\n",
       "      <td>1949-02-01</td>\n",
       "      <td>118</td>\n",
       "    </tr>\n",
       "    <tr>\n",
       "      <th>2</th>\n",
       "      <td>AirPassengers</td>\n",
       "      <td>1949-03-01</td>\n",
       "      <td>132</td>\n",
       "    </tr>\n",
       "    <tr>\n",
       "      <th>3</th>\n",
       "      <td>AirPassengers</td>\n",
       "      <td>1949-04-01</td>\n",
       "      <td>129</td>\n",
       "    </tr>\n",
       "    <tr>\n",
       "      <th>4</th>\n",
       "      <td>AirPassengers</td>\n",
       "      <td>1949-05-01</td>\n",
       "      <td>121</td>\n",
       "    </tr>\n",
       "  </tbody>\n",
       "</table>\n",
       "</div>"
      ],
      "text/plain": [
       "       unique_id          ds    y\n",
       "0  AirPassengers  1949-01-01  112\n",
       "1  AirPassengers  1949-02-01  118\n",
       "2  AirPassengers  1949-03-01  132\n",
       "3  AirPassengers  1949-04-01  129\n",
       "4  AirPassengers  1949-05-01  121"
      ]
     },
     "execution_count": 11,
     "metadata": {},
     "output_type": "execute_result"
    }
   ],
   "source": [
    "df = pd.read_csv(\"https://timecopilot.s3.amazonaws.com/public/data/air_passengers.csv\")\n",
    "df.head()"
   ]
  },
  {
   "cell_type": "markdown",
   "id": "59be5da5",
   "metadata": {},
   "source": [
    "Initialize the forecasting agent. You can use any LLM by specifying the llm parameter.\n"
   ]
  },
  {
   "cell_type": "code",
   "execution_count": 12,
   "id": "821101f6",
   "metadata": {},
   "outputs": [],
   "source": [
    "\n",
    "tc = TimeCopilot(\n",
    "    llm=\"openai:gpt-4o\",\n",
    "    retries=3,\n",
    ")\n"
   ]
  },
  {
   "cell_type": "markdown",
   "id": "b3bc3a45",
   "metadata": {},
   "source": [
    "\n",
    "## Generate forecast \n",
    "\n",
    "You can optionally specify the following parameters:\n",
    "- freq: The frequency of your data (e.g., 'D' for daily, 'M' for monthly)\n",
    "- h: The forecast horizon, which is the number of periods to predict\n",
    "- seasonality: The seasonal period of your data, which can be inferred if not provided\n"
   ]
  },
  {
   "cell_type": "code",
   "execution_count": 13,
   "id": "0ccf5f6f",
   "metadata": {},
   "outputs": [
    {
     "name": "stderr",
     "output_type": "stream",
     "text": [
      "1it [00:00,  8.31it/s]\n",
      "1it [00:00,  7.24it/s]\n",
      "1it [00:05,  5.77s/it]\n",
      "1it [00:00, 17.29it/s]\n",
      "1it [00:00, 188.78it/s]\n",
      "1it [00:00, 144.74it/s]\n",
      "1it [00:00, 201.90it/s]\n",
      "1it [00:00, 203.62it/s]\n",
      "1it [00:00, 144.84it/s]\n",
      "1it [00:00, 211.99it/s]\n",
      "0it [00:00, ?it/s]Importing plotly failed. Interactive plots will not work.\n",
      "16:33:10 - cmdstanpy - INFO - Chain [1] start processing\n",
      "16:33:10 - cmdstanpy - INFO - Chain [1] done processing\n",
      "1it [00:03,  3.86s/it]\n"
     ]
    }
   ],
   "source": [
    "result = tc.forecast(df=df)"
   ]
  },
  {
   "cell_type": "markdown",
   "id": "b7263888",
   "metadata": {},
   "source": [
    "## Ask a question about the future"
   ]
  },
  {
   "cell_type": "code",
   "execution_count": 14,
   "id": "4713d65c",
   "metadata": {},
   "outputs": [
    {
     "name": "stdout",
     "output_type": "stream",
     "text": [
      "The model that performed best is the one with the lowest MASE (Mean Absolute Scaled Error) score. According to the evaluation results:\n",
      "\n",
      "- AutoCES has the lowest MASE score of 0.6225634591577892.\n",
      "\n",
      "This indicates that the AutoCES model provided the most accurate forecasts relative to the other models tested, as a lower MASE score signifies better performance.\n"
     ]
    }
   ],
   "source": [
    "answer = tc.query(\"Which model performed best?\")\n",
    "print(answer.output)"
   ]
  },
  {
   "cell_type": "markdown",
   "id": "6a8ae523",
   "metadata": {},
   "source": []
  }
 ],
 "metadata": {
  "kernelspec": {
   "display_name": ".venv",
   "language": "python",
   "name": "python3"
  },
  "language_info": {
   "codemirror_mode": {
    "name": "ipython",
    "version": 3
   },
   "file_extension": ".py",
   "mimetype": "text/x-python",
   "name": "python",
   "nbconvert_exporter": "python",
   "pygments_lexer": "ipython3",
   "version": "3.11.12"
  }
 },
 "nbformat": 4,
 "nbformat_minor": 5
}
