{
 "cells": [
  {
   "cell_type": "markdown",
   "metadata": {},
   "source": [
    "# Simple 3-node model\n",
    "\n",
    "[![Open in GitHub Codespaces](https://github.com/codespaces/badge.svg)](https://codespaces.new/plugboard-dev/plugboard)\n",
    "\n",
    "This model demonstrates how to create different types of component and link them together. We use a built-in plugboard component to load timeseries data from a CSV file. A second node computes a rolling sum of these values. Finally another built-in component saves the output to a different CSV."
   ]
  },
  {
   "cell_type": "code",
   "execution_count": null,
   "metadata": {},
   "outputs": [],
   "source": [
    "import typing as _t\n",
    "\n",
    "from plugboard.connector import AsyncioConnector\n",
    "from plugboard.component import Component\n",
    "from plugboard.component import IOController as IO\n",
    "from plugboard.schemas import ComponentArgsDict, ConnectorSpec\n",
    "from plugboard.process import LocalProcess\n",
    "from plugboard.library import FileReader, FileWriter"
   ]
  },
  {
   "cell_type": "markdown",
   "metadata": {},
   "source": [
    "The `FileReader` component is provided by Plugboard. It takes the content of a CSV and emits the values row-by-row. Our CSV contains a single `value` column, so we configure the `field_names` argument to expect that."
   ]
  },
  {
   "cell_type": "code",
   "execution_count": null,
   "metadata": {},
   "outputs": [],
   "source": [
    "input_data = FileReader(name=\"input_data\", path=\"input.csv\", field_names=[\"value\"])"
   ]
  },
  {
   "cell_type": "markdown",
   "metadata": {},
   "source": [
    "Next, we implement a component to compute a running total using its internal state."
   ]
  },
  {
   "cell_type": "code",
   "execution_count": null,
   "metadata": {},
   "outputs": [],
   "source": [
    "class RunningTotal(Component):\n",
    "    # Define the inputs and outputs of the component\n",
    "    io = IO(inputs=[\"value\"], outputs=[\"total_value\"])\n",
    "\n",
    "    def __init__(self, **kwargs: _t.Unpack[ComponentArgsDict]) -> None:\n",
    "        super().__init__(**kwargs)\n",
    "        # Set the initial running total to 0\n",
    "        self._running_total = 0\n",
    "\n",
    "    async def step(self) -> None:\n",
    "        # The main logic of the component\n",
    "        self._running_total += self.value\n",
    "        self.total_value = self._running_total\n",
    "        await super().step()"
   ]
  },
  {
   "cell_type": "code",
   "execution_count": null,
   "metadata": {},
   "outputs": [],
   "source": [
    "total = RunningTotal(name=\"total\")"
   ]
  },
  {
   "cell_type": "markdown",
   "metadata": {},
   "source": [
    "At this point, it is possible to test the component in the notebook by initialising it, setting its input value, then calling `step()`."
   ]
  },
  {
   "cell_type": "code",
   "execution_count": null,
   "metadata": {},
   "outputs": [],
   "source": [
    "await total.init()\n",
    "total.value = 10  # Set the value input to 10\n",
    "await total.step()  # Run the component\n",
    "print(total.total_value)  # Print the total value output\n",
    "total.value = 20  # Set the value input to 20\n",
    "await total.step()  # Run the component\n",
    "print(total.total_value)  # Print the total value output"
   ]
  },
  {
   "cell_type": "markdown",
   "metadata": {},
   "source": [
    "Now re-instantiate `total` to reset its state."
   ]
  },
  {
   "cell_type": "code",
   "execution_count": null,
   "metadata": {},
   "outputs": [],
   "source": [
    "total = RunningTotal(name=\"total\")"
   ]
  },
  {
   "cell_type": "markdown",
   "metadata": {},
   "source": [
    "For the output we can use the built-in `FileWriter` component, configured to expect an input called `value_to_save`."
   ]
  },
  {
   "cell_type": "code",
   "execution_count": null,
   "metadata": {},
   "outputs": [],
   "source": [
    "output_data = FileWriter(name=\"output_data\", path=\"output.csv\", field_names=[\"value_to_save\"])"
   ]
  },
  {
   "cell_type": "markdown",
   "metadata": {},
   "source": [
    "Now connect the components together in a `LocalProcess`."
   ]
  },
  {
   "cell_type": "code",
   "execution_count": null,
   "metadata": {},
   "outputs": [],
   "source": [
    "process = LocalProcess(\n",
    "    components=[input_data, total, output_data],\n",
    "    connectors=[\n",
    "        # Connect input_data to total\n",
    "        AsyncioConnector(\n",
    "            spec=ConnectorSpec(source=\"input_data.value\", target=\"total.value\"),\n",
    "        ),\n",
    "        # Connect total to output_data\n",
    "        AsyncioConnector(\n",
    "            spec=ConnectorSpec(source=\"total.total_value\", target=\"output_data.value_to_save\"),\n",
    "        ),\n",
    "    ],\n",
    ")"
   ]
  },
  {
   "cell_type": "markdown",
   "metadata": {},
   "source": [
    "Now we can initialise and run the simulation."
   ]
  },
  {
   "cell_type": "code",
   "execution_count": null,
   "metadata": {},
   "outputs": [],
   "source": [
    "async with process:\n",
    "    await process.run()"
   ]
  },
  {
   "cell_type": "markdown",
   "metadata": {},
   "source": [
    "Finally check we have the output data saved in `output.csv`."
   ]
  },
  {
   "cell_type": "code",
   "execution_count": null,
   "metadata": {},
   "outputs": [],
   "source": [
    "!cat output.csv"
   ]
  }
 ],
 "metadata": {
  "kernelspec": {
   "display_name": ".venv",
   "language": "python",
   "name": "python3"
  },
  "language_info": {
   "codemirror_mode": {
    "name": "ipython",
    "version": 3
   },
   "file_extension": ".py",
   "mimetype": "text/x-python",
   "name": "python",
   "nbconvert_exporter": "python",
   "pygments_lexer": "ipython3",
   "version": "3.12.8"
  }
 },
 "nbformat": 4,
 "nbformat_minor": 2
}
