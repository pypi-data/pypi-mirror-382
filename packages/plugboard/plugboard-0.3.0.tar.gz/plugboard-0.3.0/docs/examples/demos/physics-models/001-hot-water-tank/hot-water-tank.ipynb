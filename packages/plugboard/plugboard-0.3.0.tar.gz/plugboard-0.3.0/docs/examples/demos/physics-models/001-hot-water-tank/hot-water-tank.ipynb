{
 "cells": [
  {
   "cell_type": "markdown",
   "metadata": {},
   "source": [
    "# Hot water tank model\n",
    "\n",
    "[![Open in GitHub Codespaces](https://github.com/codespaces/badge.svg)](https://codespaces.new/plugboard-dev/plugboard)\n",
    "\n",
    "This model demonstrates how Plugboard can be used to connect physics-based models. We'll build a component to simulate the temperature of an insulated hot-water tank, along with another to control the tank's heating element."
   ]
  },
  {
   "cell_type": "code",
   "execution_count": null,
   "metadata": {},
   "outputs": [],
   "source": [
    "import typing as _t\n",
    "\n",
    "from plugboard.connector import AsyncioConnector\n",
    "from plugboard.component import Component\n",
    "from plugboard.component import IOController as IO\n",
    "from plugboard.schemas import ComponentArgsDict, ConnectorSpec\n",
    "from plugboard.process import LocalProcess\n",
    "from plugboard.library import FileWriter"
   ]
  },
  {
   "cell_type": "code",
   "execution_count": null,
   "metadata": {},
   "outputs": [],
   "source": [
    "WATER_SPECIFIC_HEAT = 4186  # J/(kg°C)\n",
    "WATER_DENSITY = 1.0  # kg/L"
   ]
  },
  {
   "cell_type": "code",
   "execution_count": null,
   "metadata": {},
   "outputs": [],
   "source": [
    "class HotWaterTank(Component):\n",
    "    \"\"\"This component represents an insulated hot water tank with an on/off heating element.\"\"\"\n",
    "\n",
    "    io = IO(inputs=[\"heating_element\", \"prev_temperature\"], outputs=[\"temperature\"])\n",
    "\n",
    "    def __init__(\n",
    "        self,\n",
    "        volume: float,\n",
    "        heater_power: float,\n",
    "        insulation_r: float,\n",
    "        ambient_temp: float,\n",
    "        delta_t: float = 60,\n",
    "        **kwargs: _t.Unpack[ComponentArgsDict],\n",
    "    ) -> None:\n",
    "        super().__init__(**kwargs)\n",
    "        # Set the initial running total to 0\n",
    "        self._heater_power_watts = heater_power * 1000  # W\n",
    "        self._water_mass = volume * WATER_DENSITY  # kg\n",
    "        self._heat_capacity = self._water_mass * WATER_SPECIFIC_HEAT  # J/°C\n",
    "        self._delta_t = delta_t  # s\n",
    "        self._insulation_r = insulation_r  # °C/W\n",
    "        self._ambient_temp = ambient_temp  # °C\n",
    "\n",
    "    async def step(self) -> None:\n",
    "        # Apply heater power to the water\n",
    "        self.temperature = self.prev_temperature\n",
    "        if self.heating_element:\n",
    "            self.temperature += self._heater_power_watts * self._delta_t / self._heat_capacity\n",
    "        # Apply heat loss to the environment\n",
    "        heat_loss = (\n",
    "            (self.prev_temperature - self._ambient_temp) / self._insulation_r * self._delta_t\n",
    "        )\n",
    "        self.temperature -= heat_loss / self._heat_capacity"
   ]
  },
  {
   "cell_type": "code",
   "execution_count": null,
   "metadata": {},
   "outputs": [],
   "source": [
    "class ThermostatController(Component):\n",
    "    \"\"\"This component represents a thermostat with hysteresis.\"\"\"\n",
    "\n",
    "    io = IO(inputs=[\"setpoint\", \"temperature\"], outputs=[\"heating_element\"])\n",
    "\n",
    "    def __init__(self, hysteresis: float, **kwargs: _t.Unpack[ComponentArgsDict]) -> None:\n",
    "        super().__init__(**kwargs)\n",
    "        self._hysteresis = hysteresis\n",
    "\n",
    "    async def step(self) -> None:\n",
    "        if self.temperature < self.setpoint - self._hysteresis:\n",
    "            self.heating_element = True\n",
    "        elif self.temperature > self.setpoint + self._hysteresis:\n",
    "            self.heating_element = False"
   ]
  },
  {
   "cell_type": "markdown",
   "metadata": {},
   "source": [
    "We'll use a `Constant` value to represent the setpoint and trigger the rest of the model."
   ]
  },
  {
   "cell_type": "code",
   "execution_count": null,
   "metadata": {},
   "outputs": [],
   "source": [
    "class Constant(Component):\n",
    "    \"\"\"This component represents a constant value.\"\"\"\n",
    "\n",
    "    io = IO(outputs=[\"value\"])\n",
    "\n",
    "    def __init__(\n",
    "        self, value: float, n_iterations: int, **kwargs: _t.Unpack[ComponentArgsDict]\n",
    "    ) -> None:\n",
    "        super().__init__(**kwargs)\n",
    "        self.value = value\n",
    "        self._remaining_iterations = n_iterations\n",
    "\n",
    "    async def step(self) -> None:\n",
    "        self._remaining_iterations -= 1\n",
    "        if self._remaining_iterations <= 0:\n",
    "            await self.io.close()"
   ]
  },
  {
   "cell_type": "code",
   "execution_count": null,
   "metadata": {},
   "outputs": [],
   "source": [
    "setpoint = Constant(name=\"setpoint\", value=60, n_iterations=24 * 60)\n",
    "tank = HotWaterTank(\n",
    "    name=\"tank\",\n",
    "    initial_values={\"prev_temperature\": [58], \"heating_element\": [False]},\n",
    "    volume=150,\n",
    "    heater_power=1.1,\n",
    "    insulation_r=0.9,\n",
    "    ambient_temp=20,\n",
    ")\n",
    "thermostat = ThermostatController(name=\"controller\", hysteresis=1)\n",
    "save = FileWriter(\n",
    "    name=\"save\", path=\"temperature.csv\", field_names=[\"heater\", \"temperature\", \"setpoint\"]\n",
    ")"
   ]
  },
  {
   "cell_type": "markdown",
   "metadata": {},
   "source": [
    "Now connect the components together in a `LocalProcess`."
   ]
  },
  {
   "cell_type": "code",
   "execution_count": null,
   "metadata": {},
   "outputs": [],
   "source": [
    "process = LocalProcess(\n",
    "    components=[setpoint, tank, thermostat, save],\n",
    "    connectors=[\n",
    "        # Connect setpoint to controller\n",
    "        AsyncioConnector(\n",
    "            spec=ConnectorSpec(source=\"setpoint.value\", target=\"controller.setpoint\"),\n",
    "        ),\n",
    "        # Connect controller to tank\n",
    "        AsyncioConnector(\n",
    "            spec=ConnectorSpec(source=\"controller.heating_element\", target=\"tank.heating_element\"),\n",
    "        ),\n",
    "        # Connect tank to controller\n",
    "        AsyncioConnector(\n",
    "            spec=ConnectorSpec(source=\"tank.temperature\", target=\"controller.temperature\"),\n",
    "        ),\n",
    "        # Connect tank to itself to save the previous temperature\n",
    "        AsyncioConnector(\n",
    "            spec=ConnectorSpec(source=\"tank.temperature\", target=\"tank.prev_temperature\"),\n",
    "        ),\n",
    "        # Connect tank, controller and setpoint to save\n",
    "        AsyncioConnector(\n",
    "            spec=ConnectorSpec(source=\"tank.temperature\", target=\"save.temperature\"),\n",
    "        ),\n",
    "        AsyncioConnector(\n",
    "            spec=ConnectorSpec(source=\"controller.heating_element\", target=\"save.heater\"),\n",
    "        ),\n",
    "        AsyncioConnector(\n",
    "            spec=ConnectorSpec(source=\"setpoint.value\", target=\"save.setpoint\"),\n",
    "        ),\n",
    "    ],\n",
    ")"
   ]
  },
  {
   "cell_type": "markdown",
   "metadata": {},
   "source": [
    "Now we can initialise and run the simulation."
   ]
  },
  {
   "cell_type": "code",
   "execution_count": null,
   "metadata": {},
   "outputs": [],
   "source": [
    "async with process:\n",
    "    await process.run()"
   ]
  },
  {
   "cell_type": "markdown",
   "metadata": {},
   "source": [
    "Finally check we have the output data saved in `temperature.csv`."
   ]
  },
  {
   "cell_type": "code",
   "execution_count": null,
   "metadata": {},
   "outputs": [],
   "source": [
    "try:\n",
    "    import pandas as pd\n",
    "\n",
    "    fig = pd.read_csv(\"temperature.csv\").plot(\n",
    "        backend=\"plotly\",\n",
    "        y=[\"temperature\", \"setpoint\"],\n",
    "        title=\"Temperature vs. Setpoint\",\n",
    "        labels={\"index\": \"Time (min)\", \"value\": \"Temperature (°C)\"},\n",
    "    )\n",
    "except (ImportError, ValueError):\n",
    "    print(\"Please install plotly to run this cell.\")\n",
    "    fig = None\n",
    "fig"
   ]
  }
 ],
 "metadata": {
  "kernelspec": {
   "display_name": ".venv",
   "language": "python",
   "name": "python3"
  },
  "language_info": {
   "codemirror_mode": {
    "name": "ipython",
    "version": 3
   },
   "file_extension": ".py",
   "mimetype": "text/x-python",
   "name": "python",
   "nbconvert_exporter": "python",
   "pygments_lexer": "ipython3",
   "version": "3.12.8"
  }
 },
 "nbformat": 4,
 "nbformat_minor": 2
}
