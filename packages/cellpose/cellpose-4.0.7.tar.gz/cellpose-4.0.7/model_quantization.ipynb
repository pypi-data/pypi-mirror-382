{
 "cells": [
  {
   "cell_type": "code",
   "execution_count": 1,
   "id": "77bb9875",
   "metadata": {},
   "outputs": [
    {
     "name": "stdout",
     "output_type": "stream",
     "text": [
      "\n",
      "\n",
      "Welcome to CellposeSAM, cellpose v\n",
      "cellpose version: \t4.0.1 \n",
      "platform:       \tlinux \n",
      "python version: \t3.12.3 \n",
      "torch version:  \t2.8.0.dev20250505+cu128! The neural network component of\n",
      "CPSAM is much larger than in previous versions and CPU excution is slow. \n",
      "We encourage users to use GPU/MPS if available. \n",
      "\n",
      "\n",
      " number of images : 68\n"
     ]
    }
   ],
   "source": [
    "from pathlib import Path\n",
    "from cellpose import io\n",
    "\n",
    "\n",
    "data_root = Path().home() / 'projects/cellpose/test_train/'\n",
    "image_files = list((data_root / 'test').iterdir())\n",
    "image_files = [i for i in image_files if 'masks' not in i.name and 'flow' not in i.name and i.is_file()]\n",
    "image_files.sort()\n",
    "\n",
    "print(f\" number of images : {len(image_files)}\")\n",
    "\n",
    "img = io.imread_2D(image_files[0])"
   ]
  },
  {
   "cell_type": "markdown",
   "id": "2a13dddd",
   "metadata": {},
   "source": [
    "# Show model weight size, and dtype:"
   ]
  },
  {
   "cell_type": "code",
   "execution_count": 2,
   "id": "d867caf7",
   "metadata": {},
   "outputs": [],
   "source": [
    "def get_memory_footprint(model, return_buffers=True):\n",
    "    mem = sum([param.nelement() * param.element_size() for param in model.parameters()])\n",
    "    if return_buffers:\n",
    "        mem_bufs = sum([buf.nelement() * buf.element_size() for buf in model.buffers()])\n",
    "    mem += mem_bufs\n",
    "    return mem / 1024**2  # convert to MB\n",
    "\n",
    "def get_type_counts(model):\n",
    "    type_counts = {}\n",
    "    for param in model.parameters():\n",
    "        param_type = str(param.dtype)\n",
    "        if param_type not in type_counts:\n",
    "            type_counts[param_type] = 0\n",
    "        type_counts[param_type] += param.nelement() * param.element_size()\n",
    "    return type_counts"
   ]
  },
  {
   "cell_type": "code",
   "execution_count": 3,
   "id": "1d4ba935",
   "metadata": {},
   "outputs": [
    {
     "name": "stdout",
     "output_type": "stream",
     "text": [
      "{'torch.float32': 1218515720}\n",
      "Model size: 1162.07 MB\n"
     ]
    }
   ],
   "source": [
    "from cellpose import models\n",
    "\n",
    "model = models.CellposeModel(gpu=True)\n",
    "\n",
    "print(get_type_counts(model.net))\n",
    "print(f'Model size: {get_memory_footprint(model.net):.2f} MB')"
   ]
  },
  {
   "cell_type": "markdown",
   "id": "1718d12c",
   "metadata": {},
   "source": [
    "## Calculate the AP scores for masks with normal model weights:  "
   ]
  },
  {
   "cell_type": "code",
   "execution_count": 4,
   "id": "62c404d7",
   "metadata": {},
   "outputs": [
    {
     "name": "stdout",
     "output_type": "stream",
     "text": [
      "0.294391393661499\n",
      "0.10566282272338867\n",
      "0.10566210746765137\n",
      "0.1054537296295166\n",
      "0.1054391860961914\n",
      "0.1054220199584961\n",
      "0.10538077354431152\n",
      "0.10544037818908691\n",
      "0.1053924560546875\n",
      "0.10545110702514648\n",
      "0.10546135902404785\n",
      "0.10551738739013672\n",
      "0.14010334014892578\n",
      "0.03056049346923828\n",
      "0.13769793510437012\n",
      "0.01892995834350586\n",
      "0.13856029510498047\n",
      "0.01896953582763672\n",
      "0.0724632740020752\n",
      "0.07106661796569824\n",
      "0.07092642784118652\n",
      "0.10555696487426758\n",
      "0.10549330711364746\n",
      "0.13778305053710938\n",
      "0.018965721130371094\n",
      "0.10743331909179688\n",
      "0.10565423965454102\n",
      "0.10552358627319336\n",
      "0.13784480094909668\n",
      "0.02016282081604004\n",
      "0.13783907890319824\n",
      "0.020309925079345703\n",
      "0.07099795341491699\n",
      "0.10557174682617188\n",
      "0.10559439659118652\n",
      "0.07105278968811035\n",
      "0.10557770729064941\n",
      "0.07100772857666016\n",
      "0.07098531723022461\n",
      "0.07098126411437988\n",
      "0.10552239418029785\n",
      "0.10556793212890625\n",
      "0.13777732849121094\n",
      "0.01897907257080078\n",
      "0.07097315788269043\n",
      "0.10598492622375488\n",
      "0.07102131843566895\n",
      "0.10643315315246582\n",
      "0.10553717613220215\n",
      "0.13783693313598633\n",
      "0.07087469100952148\n",
      "0.137861967086792\n",
      "0.01903247833251953\n",
      "0.07105255126953125\n",
      "0.1378159523010254\n",
      "0.01899552345275879\n",
      "0.10564446449279785\n",
      "0.07107090950012207\n",
      "0.1055288314819336\n",
      "0.10568070411682129\n",
      "0.13799118995666504\n",
      "0.019019603729248047\n",
      "0.13792991638183594\n",
      "0.019294261932373047\n",
      "0.1056520938873291\n",
      "0.07103753089904785\n",
      "0.0709378719329834\n",
      "0.10561275482177734\n",
      "0.10563540458679199\n",
      "0.1058347225189209\n",
      "0.10560488700866699\n",
      "0.10566568374633789\n",
      "0.13782858848571777\n",
      "0.01899266242980957\n",
      "0.10626649856567383\n",
      "0.10564661026000977\n",
      "0.1378488540649414\n",
      "0.01894855499267578\n",
      "0.1056060791015625\n",
      "0.10567069053649902\n",
      "0.1056678295135498\n",
      "0.10565543174743652\n"
     ]
    }
   ],
   "source": [
    "import time\n",
    "from tqdm import tqdm\n",
    "\n",
    "masks = []\n",
    "times = []\n",
    "for img_f in image_files:\n",
    "    img = io.imread_2D(img_f)\n",
    "    tic = time.time()\n",
    "    masks_i, flows_i, _ = model.eval(img)\n",
    "    toc = time.time()\n",
    "\n",
    "    img_f_out = data_root / 'quantization/fp32' / img_f.name\n",
    "    img_f_out.parent.mkdir(parents=True, exist_ok=True)\n",
    "    io.imsave(img_f_out, masks_i)\n",
    "    times.append(toc-tic)\n",
    "    masks.append(masks_i.max())\n"
   ]
  },
  {
   "cell_type": "markdown",
   "id": "00a69c13",
   "metadata": {},
   "source": [
    "# Evaluate the model with lower precision data type: "
   ]
  },
  {
   "cell_type": "code",
   "execution_count": 5,
   "id": "a35c8779",
   "metadata": {},
   "outputs": [
    {
     "data": {
      "text/plain": [
       "Transformer(\n",
       "  (encoder): ImageEncoderViT(\n",
       "    (patch_embed): PatchEmbed(\n",
       "      (proj): Conv2d(3, 1024, kernel_size=(8, 8), stride=(8, 8))\n",
       "    )\n",
       "    (blocks): ModuleList(\n",
       "      (0-23): 24 x Block(\n",
       "        (norm1): LayerNorm((1024,), eps=1e-06, elementwise_affine=True)\n",
       "        (attn): Attention(\n",
       "          (qkv): Linear(in_features=1024, out_features=3072, bias=True)\n",
       "          (proj): Linear(in_features=1024, out_features=1024, bias=True)\n",
       "        )\n",
       "        (norm2): LayerNorm((1024,), eps=1e-06, elementwise_affine=True)\n",
       "        (mlp): MLPBlock(\n",
       "          (lin1): Linear(in_features=1024, out_features=4096, bias=True)\n",
       "          (lin2): Linear(in_features=4096, out_features=1024, bias=True)\n",
       "          (act): GELU(approximate='none')\n",
       "        )\n",
       "      )\n",
       "    )\n",
       "    (neck): Sequential(\n",
       "      (0): Conv2d(1024, 256, kernel_size=(1, 1), stride=(1, 1), bias=False)\n",
       "      (1): LayerNorm2d()\n",
       "      (2): Conv2d(256, 256, kernel_size=(3, 3), stride=(1, 1), padding=(1, 1), bias=False)\n",
       "      (3): LayerNorm2d()\n",
       "    )\n",
       "  )\n",
       "  (out): Conv2d(256, 192, kernel_size=(1, 1), stride=(1, 1))\n",
       ")"
      ]
     },
     "execution_count": 5,
     "metadata": {},
     "output_type": "execute_result"
    }
   ],
   "source": [
    "import torch \n",
    "import numpy as np\n",
    "\n",
    "model.net.dtype = torch.bfloat16\n",
    "model.net.to(model.net.dtype)\n"
   ]
  },
  {
   "cell_type": "code",
   "execution_count": 6,
   "id": "517507d4",
   "metadata": {},
   "outputs": [
    {
     "name": "stdout",
     "output_type": "stream",
     "text": [
      "{'torch.bfloat16': 609257860}\n",
      "Model size: 581.03 MB\n"
     ]
    }
   ],
   "source": [
    "print(get_type_counts(model.net))\n",
    "print(f'Model size: {get_memory_footprint(model.net):.2f} MB')\n"
   ]
  },
  {
   "cell_type": "code",
   "execution_count": 7,
   "id": "60fbfa1c",
   "metadata": {},
   "outputs": [
    {
     "name": "stdout",
     "output_type": "stream",
     "text": [
      "0.11516189575195312\n",
      "0.058031558990478516\n",
      "0.05804800987243652\n",
      "0.05808424949645996\n",
      "0.05808281898498535\n",
      "0.058046817779541016\n",
      "0.05802583694458008\n",
      "0.05847907066345215\n",
      "0.05806088447570801\n",
      "0.0584867000579834\n",
      "0.05828237533569336\n",
      "0.05893754959106445\n",
      "0.07747244834899902\n",
      "0.045305490493774414\n",
      "0.07477998733520508\n",
      "0.013552665710449219\n",
      "0.07479357719421387\n",
      "0.013551950454711914\n",
      "0.043792009353637695\n",
      "0.04104137420654297\n",
      "0.041014909744262695\n",
      "0.058069705963134766\n",
      "0.0580294132232666\n",
      "0.07482671737670898\n",
      "0.013544797897338867\n",
      "0.05800151824951172\n",
      "0.05847024917602539\n",
      "0.05807852745056152\n",
      "0.07517027854919434\n",
      "0.013546228408813477\n",
      "0.07479357719421387\n",
      "0.01348733901977539\n",
      "0.041010379791259766\n",
      "0.05801200866699219\n",
      "0.058434486389160156\n",
      "0.04100942611694336\n",
      "0.058017730712890625\n",
      "0.0410466194152832\n",
      "0.04103398323059082\n",
      "0.04092764854431152\n",
      "0.05802440643310547\n",
      "0.05807328224182129\n",
      "0.07480764389038086\n",
      "0.013559579849243164\n",
      "0.04101085662841797\n",
      "0.05935239791870117\n",
      "0.04103398323059082\n",
      "0.05810737609863281\n",
      "0.05816531181335449\n",
      "0.07482767105102539\n",
      "0.04098010063171387\n",
      "0.07501530647277832\n",
      "0.01353764533996582\n",
      "0.04108142852783203\n",
      "0.07491874694824219\n",
      "0.013569116592407227\n",
      "0.058103084564208984\n",
      "0.04150509834289551\n",
      "0.05811190605163574\n",
      "0.05801248550415039\n",
      "0.07481527328491211\n",
      "0.013541936874389648\n",
      "0.07481718063354492\n",
      "0.013478994369506836\n",
      "0.058016300201416016\n",
      "0.04112553596496582\n",
      "0.04111933708190918\n",
      "0.058096885681152344\n",
      "0.05807924270629883\n",
      "0.05885148048400879\n",
      "0.05804085731506348\n",
      "0.05811619758605957\n",
      "0.07520294189453125\n",
      "0.013704299926757812\n",
      "0.0581209659576416\n",
      "0.0581517219543457\n",
      "0.07493185997009277\n",
      "0.013637304306030273\n",
      "0.058087825775146484\n",
      "0.05855107307434082\n",
      "0.05815911293029785\n",
      "0.058122873306274414\n"
     ]
    }
   ],
   "source": [
    "import numpy as np\n",
    "from cellpose import core\n",
    "\n",
    "\n",
    "masks = []\n",
    "times_16 = []\n",
    "times_16_net = []\n",
    "for img_f in image_files:\n",
    "    img = io.imread_2D(img_f)\n",
    "    tic = time.time()\n",
    "    masks_i, flows_i, _ = model.eval(img)\n",
    "    toc = time.time()\n",
    "\n",
    "    img_f_out = data_root / 'quantization/bfp16' / img_f.name\n",
    "    img_f_out.parent.mkdir(parents=True, exist_ok=True)\n",
    "    io.imsave(img_f_out, masks_i)\n",
    "    times_16.append(toc-tic)\n",
    "    masks.append(masks_i.max())"
   ]
  },
  {
   "cell_type": "code",
   "execution_count": 8,
   "id": "e3d532bf",
   "metadata": {},
   "outputs": [],
   "source": [
    "from cellpose.metrics import average_precision\n",
    "\n",
    "ap_all = []\n",
    "for i in range(68):\n",
    "    true_mask = io.imread(data_root / f'test/{i:03}_masks.png')\n",
    "    mask_bf16 = io.imread(data_root / f'quantization/bfp16/{i:03}_img.png')\n",
    "    mask_fp32 = io.imread(data_root / f'quantization/fp32/{i:03}_img.png')\n",
    "\n",
    "    ap = average_precision([true_mask, true_mask],\n",
    "                             [mask_bf16, mask_fp32], \n",
    "                             threshold=[0.5])[0]\n",
    "    ap_all.append(ap)"
   ]
  },
  {
   "cell_type": "code",
   "execution_count": 9,
   "id": "24e1f6d0",
   "metadata": {},
   "outputs": [
    {
     "data": {
      "text/plain": [
       "array([0.85471886, 0.85487753], dtype=float32)"
      ]
     },
     "execution_count": 9,
     "metadata": {},
     "output_type": "execute_result"
    }
   ],
   "source": [
    "ap_arr = np.hstack(ap_all)\n",
    "np.mean(ap_arr, axis=1)"
   ]
  },
  {
   "cell_type": "code",
   "execution_count": 10,
   "id": "04412118",
   "metadata": {},
   "outputs": [
    {
     "data": {
      "text/html": [
       "<div>\n",
       "<style scoped>\n",
       "    .dataframe tbody tr th:only-of-type {\n",
       "        vertical-align: middle;\n",
       "    }\n",
       "\n",
       "    .dataframe tbody tr th {\n",
       "        vertical-align: top;\n",
       "    }\n",
       "\n",
       "    .dataframe thead th {\n",
       "        text-align: right;\n",
       "    }\n",
       "</style>\n",
       "<table border=\"1\" class=\"dataframe\">\n",
       "  <thead>\n",
       "    <tr style=\"text-align: right;\">\n",
       "      <th></th>\n",
       "      <th>dtype</th>\n",
       "      <th>AP@0.5</th>\n",
       "      <th>time</th>\n",
       "    </tr>\n",
       "  </thead>\n",
       "  <tbody>\n",
       "    <tr>\n",
       "      <th>0</th>\n",
       "      <td>bfloat16</td>\n",
       "      <td>0.920455</td>\n",
       "      <td>0.181792</td>\n",
       "    </tr>\n",
       "    <tr>\n",
       "      <th>0</th>\n",
       "      <td>bfloat16</td>\n",
       "      <td>0.845238</td>\n",
       "      <td>0.121006</td>\n",
       "    </tr>\n",
       "    <tr>\n",
       "      <th>0</th>\n",
       "      <td>bfloat16</td>\n",
       "      <td>0.909091</td>\n",
       "      <td>0.118715</td>\n",
       "    </tr>\n",
       "    <tr>\n",
       "      <th>0</th>\n",
       "      <td>bfloat16</td>\n",
       "      <td>0.978723</td>\n",
       "      <td>0.115539</td>\n",
       "    </tr>\n",
       "    <tr>\n",
       "      <th>0</th>\n",
       "      <td>bfloat16</td>\n",
       "      <td>0.866667</td>\n",
       "      <td>0.113421</td>\n",
       "    </tr>\n",
       "  </tbody>\n",
       "</table>\n",
       "</div>"
      ],
      "text/plain": [
       "      dtype    AP@0.5      time\n",
       "0  bfloat16  0.920455  0.181792\n",
       "0  bfloat16  0.845238  0.121006\n",
       "0  bfloat16  0.909091  0.118715\n",
       "0  bfloat16  0.978723  0.115539\n",
       "0  bfloat16  0.866667  0.113421"
      ]
     },
     "execution_count": 10,
     "metadata": {},
     "output_type": "execute_result"
    }
   ],
   "source": [
    "import seaborn as sns\n",
    "import pandas as pd\n",
    "\n",
    "\n",
    "df = pd.DataFrame({\n",
    "    'dtype': ['bfloat16', 'float32'],\n",
    "    'AP@0.5': [ap_arr[l, :] for l in range(2)],\n",
    "})\n",
    "df = df.explode('AP@0.5')\n",
    "df['time'] = np.hstack([times_16, times])\n",
    "df.head()"
   ]
  },
  {
   "cell_type": "code",
   "execution_count": 11,
   "id": "efc37013",
   "metadata": {},
   "outputs": [
    {
     "data": {
      "text/plain": [
       "<Axes: xlabel='dtype', ylabel='time'>"
      ]
     },
     "execution_count": 11,
     "metadata": {},
     "output_type": "execute_result"
    },
    {
     "name": "stderr",
     "output_type": "stream",
     "text": [
      "/home/michael/projects/cellpose/.venv/lib/python3.12/site-packages/seaborn/categorical.py:3399: UserWarning: 8.8% of the points cannot be placed; you may want to decrease the size of the markers or use stripplot.\n",
      "  warnings.warn(msg, UserWarning)\n",
      "/home/michael/projects/cellpose/.venv/lib/python3.12/site-packages/seaborn/categorical.py:3399: UserWarning: 7.4% of the points cannot be placed; you may want to decrease the size of the markers or use stripplot.\n",
      "  warnings.warn(msg, UserWarning)\n"
     ]
    },
    {
     "data": {
      "image/png": "[encoded data removed]",
      "text/plain": [
       "<Figure size 600x400 with 2 Axes>"
      ]
     },
     "metadata": {},
     "output_type": "display_data"
    }
   ],
   "source": [
    "import matplotlib.pyplot as plt\n",
    "\n",
    "fig, ax = plt.subplots(1, 2, figsize=(6, 4), tight_layout=True)\n",
    "\n",
    "sns.swarmplot(y='AP@0.5', x='dtype', data=df, alpha=0.5, ax=ax[0], )\n",
    "sns.pointplot(x='dtype', y='AP@0.5', data=df, errorbar='se', linestyle=\"none\", color='black', capsize=.1, ax=ax[0])\n",
    "\n",
    "sns.swarmplot(y='time', x='dtype', data=df, alpha=0.5, ax=ax[1], )\n",
    "sns.pointplot(x='dtype', y='time', data=df, errorbar='se', linestyle=\"none\", color='black', capsize=.1, ax=ax[1])"
   ]
  },
  {
   "cell_type": "code",
   "execution_count": 12,
   "id": "dc4dcda9",
   "metadata": {},
   "outputs": [
    {
     "data": {
      "text/html": [
       "<div>\n",
       "<style scoped>\n",
       "    .dataframe tbody tr th:only-of-type {\n",
       "        vertical-align: middle;\n",
       "    }\n",
       "\n",
       "    .dataframe tbody tr th {\n",
       "        vertical-align: top;\n",
       "    }\n",
       "\n",
       "    .dataframe thead th {\n",
       "        text-align: right;\n",
       "    }\n",
       "</style>\n",
       "<table border=\"1\" class=\"dataframe\">\n",
       "  <thead>\n",
       "    <tr style=\"text-align: right;\">\n",
       "      <th></th>\n",
       "      <th>AP@0.5</th>\n",
       "      <th>time</th>\n",
       "    </tr>\n",
       "    <tr>\n",
       "      <th>dtype</th>\n",
       "      <th></th>\n",
       "      <th></th>\n",
       "    </tr>\n",
       "  </thead>\n",
       "  <tbody>\n",
       "    <tr>\n",
       "      <th>bfloat16</th>\n",
       "      <td>0.854719</td>\n",
       "      <td>0.121736</td>\n",
       "    </tr>\n",
       "    <tr>\n",
       "      <th>float32</th>\n",
       "      <td>0.854877</td>\n",
       "      <td>0.171985</td>\n",
       "    </tr>\n",
       "  </tbody>\n",
       "</table>\n",
       "</div>"
      ],
      "text/plain": [
       "            AP@0.5      time\n",
       "dtype                       \n",
       "bfloat16  0.854719  0.121736\n",
       "float32   0.854877  0.171985"
      ]
     },
     "execution_count": 12,
     "metadata": {},
     "output_type": "execute_result"
    }
   ],
   "source": [
    "df.groupby('dtype').mean()"
   ]
  },
  {
   "cell_type": "code",
   "execution_count": 13,
   "id": "250fa8da",
   "metadata": {},
   "outputs": [
    {
     "data": {
      "text/plain": [
       "0.2858448968254887"
      ]
     },
     "execution_count": 13,
     "metadata": {},
     "output_type": "execute_result"
    }
   ],
   "source": [
    "(0.172814 - 0.123416) / 0.172814 "
   ]
  },
  {
   "cell_type": "code",
   "execution_count": 14,
   "id": "635b7714",
   "metadata": {},
   "outputs": [
    {
     "data": {
      "image/png": "[encoded data removed]",
      "text/plain": [
       "<Figure size 640x480 with 1 Axes>"
      ]
     },
     "metadata": {},
     "output_type": "display_data"
    }
   ],
   "source": [
    "sns.scatterplot(x=df[df['dtype'] == 'bfloat16']['AP@0.5'].values,\n",
    "                y=df[df['dtype'] == 'float32']['AP@0.5'].values, \n",
    "                alpha=0.8, s=60)\n",
    "plt.plot([0.4, 1], [0.4, 1], 'k--', alpha=0.5)\n",
    "\n",
    "plt.xlabel('bfloat16')\n",
    "plt.ylabel('float32')\n",
    "plt.title('AP@0.5')\n",
    "\n",
    "mean_16 = df[df[\"dtype\"] == \"bfloat16\"][\"AP@0.5\"].mean()\n",
    "sem_16 = df[df[\"dtype\"] == \"bfloat16\"][\"AP@0.5\"].sem()\n",
    "mean_fp32 = df[df[\"dtype\"] == \"float32\"][\"AP@0.5\"].mean()\n",
    "sem_fp32 = df[df[\"dtype\"] == \"float32\"][\"AP@0.5\"].sem()\n",
    "\n",
    "b16_text = f\"bfloat16: {mean_16:.2f} ± {sem_16:.2f}\"\n",
    "fp32_text = f\"float32: {mean_fp32:.2f} ± {sem_fp32:.2f}\"\n",
    "\n",
    "#put text in the top left corner inside plot\n",
    "plt.text(0.5, 0.9, fp32_text, )\n",
    "plt.text(0.5, 0.85, b16_text, )\n",
    "\n",
    "plt.show()"
   ]
  },
  {
   "cell_type": "markdown",
   "id": "2a132963",
   "metadata": {},
   "source": [
    "## Net runtimes: "
   ]
  },
  {
   "cell_type": "code",
   "execution_count": 35,
   "id": "3b4876c8",
   "metadata": {},
   "outputs": [],
   "source": [
    "s_32 = \"\"\"0.294391393661499\n",
    "0.10566282272338867\n",
    "0.10566210746765137\n",
    "0.1054537296295166\n",
    "0.1054391860961914\n",
    "0.1054220199584961\n",
    "0.10538077354431152\n",
    "0.10544037818908691\n",
    "0.1053924560546875\n",
    "0.10545110702514648\n",
    "0.10546135902404785\n",
    "0.10551738739013672\n",
    "0.14010334014892578\n",
    "0.03056049346923828\n",
    "0.13769793510437012\n",
    "0.01892995834350586\n",
    "0.13856029510498047\n",
    "0.01896953582763672\n",
    "0.0724632740020752\n",
    "0.07106661796569824\n",
    "0.07092642784118652\n",
    "0.10555696487426758\n",
    "0.10549330711364746\n",
    "0.13778305053710938\n",
    "0.018965721130371094\n",
    "0.10743331909179688\n",
    "0.10565423965454102\n",
    "0.10552358627319336\n",
    "0.13784480094909668\n",
    "0.02016282081604004\n",
    "0.13783907890319824\n",
    "0.020309925079345703\n",
    "0.07099795341491699\n",
    "0.10557174682617188\n",
    "0.10559439659118652\n",
    "0.07105278968811035\n",
    "0.10557770729064941\n",
    "0.07100772857666016\n",
    "0.07098531723022461\n",
    "0.07098126411437988\n",
    "0.10552239418029785\n",
    "0.10556793212890625\n",
    "0.13777732849121094\n",
    "0.01897907257080078\n",
    "0.07097315788269043\n",
    "0.10598492622375488\n",
    "0.07102131843566895\n",
    "0.10643315315246582\n",
    "0.10553717613220215\n",
    "0.13783693313598633\n",
    "0.07087469100952148\n",
    "0.137861967086792\n",
    "0.01903247833251953\n",
    "0.07105255126953125\n",
    "0.1378159523010254\n",
    "0.01899552345275879\n",
    "0.10564446449279785\n",
    "0.07107090950012207\n",
    "0.1055288314819336\n",
    "0.10568070411682129\n",
    "0.13799118995666504\n",
    "0.019019603729248047\n",
    "0.13792991638183594\n",
    "0.019294261932373047\n",
    "0.1056520938873291\n",
    "0.07103753089904785\n",
    "0.0709378719329834\n",
    "0.10561275482177734\n",
    "0.10563540458679199\n",
    "0.1058347225189209\n",
    "0.10560488700866699\n",
    "0.10566568374633789\n",
    "0.13782858848571777\n",
    "0.01899266242980957\n",
    "0.10626649856567383\n",
    "0.10564661026000977\n",
    "0.1378488540649414\n",
    "0.01894855499267578\n",
    "0.1056060791015625\n",
    "0.10567069053649902\n",
    "0.1056678295135498\n",
    "0.10565543174743652\"\"\""
   ]
  },
  {
   "cell_type": "code",
   "execution_count": 40,
   "id": "6f7cc415",
   "metadata": {},
   "outputs": [
    {
     "name": "stdout",
     "output_type": "stream",
     "text": [
      "number of images: 82\n"
     ]
    }
   ],
   "source": [
    "times_32_net = [float(i.strip()) for i in s_32.split('\\n') if not i.isspace() and i]\n",
    "print(f'number of images: {len(times_32_net)}')"
   ]
  },
  {
   "cell_type": "code",
   "execution_count": 41,
   "id": "2daf7881",
   "metadata": {},
   "outputs": [],
   "source": [
    "s_16 = \"\"\"0.11516189575195312\n",
    "0.058031558990478516\n",
    "0.05804800987243652\n",
    "0.05808424949645996\n",
    "0.05808281898498535\n",
    "0.058046817779541016\n",
    "0.05802583694458008\n",
    "0.05847907066345215\n",
    "0.05806088447570801\n",
    "0.0584867000579834\n",
    "0.05828237533569336\n",
    "0.05893754959106445\n",
    "0.07747244834899902\n",
    "0.045305490493774414\n",
    "0.07477998733520508\n",
    "0.013552665710449219\n",
    "0.07479357719421387\n",
    "0.013551950454711914\n",
    "0.043792009353637695\n",
    "0.04104137420654297\n",
    "0.041014909744262695\n",
    "0.058069705963134766\n",
    "0.0580294132232666\n",
    "0.07482671737670898\n",
    "0.013544797897338867\n",
    "0.05800151824951172\n",
    "0.05847024917602539\n",
    "0.05807852745056152\n",
    "0.07517027854919434\n",
    "0.013546228408813477\n",
    "0.07479357719421387\n",
    "0.01348733901977539\n",
    "0.041010379791259766\n",
    "0.05801200866699219\n",
    "0.058434486389160156\n",
    "0.04100942611694336\n",
    "0.058017730712890625\n",
    "0.0410466194152832\n",
    "0.04103398323059082\n",
    "0.04092764854431152\n",
    "0.05802440643310547\n",
    "0.05807328224182129\n",
    "0.07480764389038086\n",
    "0.013559579849243164\n",
    "0.04101085662841797\n",
    "0.05935239791870117\n",
    "0.04103398323059082\n",
    "0.05810737609863281\n",
    "0.05816531181335449\n",
    "0.07482767105102539\n",
    "0.04098010063171387\n",
    "0.07501530647277832\n",
    "0.01353764533996582\n",
    "0.04108142852783203\n",
    "0.07491874694824219\n",
    "0.013569116592407227\n",
    "0.058103084564208984\n",
    "0.04150509834289551\n",
    "0.05811190605163574\n",
    "0.05801248550415039\n",
    "0.07481527328491211\n",
    "0.013541936874389648\n",
    "0.07481718063354492\n",
    "0.013478994369506836\n",
    "0.058016300201416016\n",
    "0.04112553596496582\n",
    "0.04111933708190918\n",
    "0.058096885681152344\n",
    "0.05807924270629883\n",
    "0.05885148048400879\n",
    "0.05804085731506348\n",
    "0.05811619758605957\n",
    "0.07520294189453125\n",
    "0.013704299926757812\n",
    "0.0581209659576416\n",
    "0.0581517219543457\n",
    "0.07493185997009277\n",
    "0.013637304306030273\n",
    "0.058087825775146484\n",
    "0.05855107307434082\n",
    "0.05815911293029785\n",
    "0.058122873306274414\"\"\""
   ]
  },
  {
   "cell_type": "code",
   "execution_count": 42,
   "id": "b0b53281",
   "metadata": {},
   "outputs": [
    {
     "name": "stdout",
     "output_type": "stream",
     "text": [
      "number of images: 82\n"
     ]
    }
   ],
   "source": [
    "times_16_net = [float(i.strip()) for i in s_16.split('\\n') if not i.isspace() and i]\n",
    "print(f'number of images: {len(times_16_net)}')"
   ]
  },
  {
   "cell_type": "code",
   "execution_count": 43,
   "id": "7f3b9cfc",
   "metadata": {},
   "outputs": [
    {
     "name": "stdout",
     "output_type": "stream",
     "text": [
      "b16 : 0.05199 ± 0.00220\n",
      "fp32 : 0.09361 ± 0.00475\n"
     ]
    }
   ],
   "source": [
    "times_16_net = np.array(times_16_net)\n",
    "times_32_net = np.array(times_32_net)\n",
    "print(f'b16 : {times_16_net.mean():.5f} ± {times_16_net.std() / (len(times_16_net))**.5:.5f}')\n",
    "print(f'fp32 : {times_32_net.mean():.5f} ± {times_32_net.std() / (len(times_32_net))**.5:.5f}')"
   ]
  },
  {
   "cell_type": "code",
   "execution_count": null,
   "id": "a5d6b139",
   "metadata": {},
   "outputs": [],
   "source": []
  }
 ],
 "metadata": {
  "kernelspec": {
   "display_name": ".venv",
   "language": "python",
   "name": "python3"
  },
  "language_info": {
   "codemirror_mode": {
    "name": "ipython",
    "version": 3
   },
   "file_extension": ".py",
   "mimetype": "text/x-python",
   "name": "python",
   "nbconvert_exporter": "python",
   "pygments_lexer": "ipython3",
   "version": "3.12.3"
  }
 },
 "nbformat": 4,
 "nbformat_minor": 5
}
