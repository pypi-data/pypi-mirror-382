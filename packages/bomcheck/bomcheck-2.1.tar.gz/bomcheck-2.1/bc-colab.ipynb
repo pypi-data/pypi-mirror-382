{
 "cells": [
  {
   "cell_type": "markdown",
   "metadata": {
    "tags": []
   },
   "source": [
    "Install the bomcheck program from pypi.org (via pip).  Activate (import) bomcheck and assign to variable name \"bc\".  "
   ]
  },
  {
   "cell_type": "code",
   "execution_count": null,
   "metadata": {
    "tags": []
   },
   "outputs": [],
   "source": [
    "! pip install bomcheck\n",
    "import bomcheck as bc"
   ]
  },
  {
   "cell_type": "markdown",
   "metadata": {},
   "source": [
    "Create a folder named \"mydata\" (open filebrowser via folder icon at upper left). Upload your BOMs there. Run bomcheck.  Output will be to two variables: `dfs` and `df`.  The former contains BOMs having no corresponding SL BOM. The latter, SW to SL comparisons."
   ]
  },
  {
   "cell_type": "code",
   "execution_count": null,
   "metadata": {
    "tags": []
   },
   "outputs": [],
   "source": [
    "dfs, df = bc.bomcheck(\"mydata\", x=True, d=False)\n",
    "print(dfs, '\\n\\n', df)"
   ]
  }
 ],
 "metadata": {
  "interpreter": {
   "hash": "68decfe7d9055a1e6efc9f45c2202491bda368a53f60c5c5bc70e621a8cdbbbc"
  },
  "kernelspec": {
   "display_name": "Python 3 (ipykernel)",
   "language": "python",
   "name": "python3"
  },
  "language_info": {
   "codemirror_mode": {
    "name": "ipython",
    "version": 3
   },
   "file_extension": ".py",
   "mimetype": "text/x-python",
   "name": "python",
   "nbconvert_exporter": "python",
   "pygments_lexer": "ipython3",
   "version": "3.9.7"
  }
 },
 "nbformat": 4,
 "nbformat_minor": 4
}
