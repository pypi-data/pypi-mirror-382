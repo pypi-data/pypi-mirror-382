{
 "cells": [
  {
   "cell_type": "code",
   "execution_count": 1,
   "metadata": {},
   "outputs": [],
   "source": [
    "import bomcheck as bc  # loads bomcheck"
   ]
  },
  {
   "cell_type": "markdown",
   "metadata": {},
   "source": [
    "The function below will output data to two variables: `dfs` and `df`.  `dfs` contains SW BOMs for which no corresponding SL BOMs were found. &nbsp; `df` contains the comparison of SW to SL BOMs."
   ]
  },
  {
   "cell_type": "code",
   "execution_count": 2,
   "metadata": {
    "collapsed": true,
    "jupyter": {
     "outputs_hidden": true
    },
    "tags": []
   },
   "outputs": [
    {
     "name": "stdout",
     "output_type": "stream",
     "text": [
      "\n",
      "Created file: /media/sf_shared/projects/bomcheck/exampledata/bomcheck.xlsx\n",
      "\n",
      "calculation done\n",
      "                             i  q  d  u   Q_sw   Q_sl                            Description_sw                            Description_sl U_sw U_sl\n",
      "assy          Item                                                                                                                                 \n",
      "0300-2021-766 6600-0025-001  -  -  -  -   2.17   2.17             ANGLE 1/4\"X2\"X2\"X20FT A-36 CS       ANGLE 1/4\"X2\"X2\"X20FT A-36 CS         FT   FT\n",
      "              6602-0300-000  -  -  -  -   1.01   1.01          CHANNEL C3X4.1 20FT ASTM A36 CS        CHANNEL C3X4.1 20FT ASTM A36 CS       FT   FT\n",
      "              6602-0500-000  -  -  -  -   2.03   2.03           CHANNEL C5X6.7 20FT ASTM A36 CS       CHANNEL C5X6.7 20FT ASTM A36 CS       FT   FT\n",
      "              6602-0600-000  -  X  -  -  14.55  16.89           CHANNEL C6X8.2 20FT ASTM A36 CS       CHANNEL C6X8.2 20FT ASTM A36 CS       FT   FT\n",
      "              6652-0013-003  -  -  -  -   0.42   0.42                STOCK FLAT 1/8\"X6\"X20FT CS                STOCK FLAT 1/8\"X6\"X20FT CS   FT   FT\n",
      "              7215-0200-001  -  -  -  -  20.71  20.71          TUBING SQ. 2\"X2\"X1/4\"X24FT HR CS       TUBING SQ. 2\"X2\"X1/4\"X24FT HR CS      FT   FT\n",
      "6415-2021-769 2700-2006-629  -  -  -  -   2.00    2.0      BAFFLE ASSY LEVEL SWITCH 316SS 3\" LG      BAFFLE ASSY LEVEL SWITCH 316SS 3\" LG   EA   EA\n",
      "              2701-2002-458  -  -  -  -   1.00    1.0  COLLAR PLT. 13.75\"OD 10.81\"ID 3/8\" 316SS  COLLAR PLT. 13.75\"OD 10.81\"ID 3/8\" 316SS   EA   EA\n",
      "              2704-2000-490  -  -  -  -   1.00    1.0       COVER PLATE 13.75\"OD X .38\"THK. 316       COVER PLATE 13.75\"OD X .38\"THK. 316   EA   EA\n",
      "              2708-1035-251  -  -  -  -   1.00    1.0       ENDPLATE 10.35\" OD X .25\" THK 316SS       ENDPLATE 10.35\" OD X .25\" THK 316SS   EA   EA\n",
      "              2728-2003-491  -  -  -  -   1.00    1.0       BRACKET MOUNT SEPARATOR 6\"X4\"X2\" SS       BRACKET MOUNT SEPARATOR 6\"X4\"X2\" SS   EA   EA\n",
      "              2737-2008-589  -  -  X  -   2.00    2.0                                    HANDLE       SS SEPARATOR HANDLE                   EA   EA\n",
      "              3003-0050-001  -  -  -  -   2.00    2.0            CPLG .50\" FNPT FULL 150# 316SS       CPLG .50\" FNPT FULL 150# 316SS        EA   EA\n",
      "              3003-0075-001  -  -  -  -   1.00    1.0            CPLG .75\" FNPT FULL 150# 316SS       CPLG .75\" FNPT FULL 150# 316SS        EA   EA\n",
      "              3004-0050-001  -  -  -  -   2.00    2.0             CPLG .5\" FNPT HALF 150# 316SS       CPLG .5\" FNPT HALF 150# 316SS         EA   EA\n",
      "              3004-0075-001  X  X  X  X   1.00                   CPLG .75\" FNPT HALF 150# 316SS                                             EA     \n",
      "              3004-0100-001  -  -  -  -   2.00    2.0           CPLG 1.00\" FNPT HALF 150# 316SS       CPLG 1.00\" FNPT HALF 150# 316SS       EA   EA\n",
      "              3004-0150-001  -  -  -  -   1.00    1.0           CPLG 1.50\" FNPT HALF 150# 316SS       CPLG 1.50\" FNPT HALF 150# 316SS       EA   EA\n",
      "              3004-0200-001  -  -  -  -   1.00    1.0              CPLG 2\" FNPT HALF 150# 316SS       CPLG 2\" FNPT HALF 150# 316SS          EA   EA\n",
      "              3004-0250-001  -  -  -  -   1.00    1.0           CPLG 2.50\" FNPT HALF 150# 316SS       CPLG 2.50\" FNPT HALF 150# 316SS       EA   EA\n",
      "              3012-0300-001  -  -  -  -   1.00    1.0            ELBOW 3\" SR 90° BUTTWELD 316SS            ELBOW 3\" SR 90° BUTTWELD 316SS   EA   EA\n",
      "              3510-2017-270  -  -  -  -   1.00    1.0  GASKET TEF 13.75\"ODX10.75\" IDX.12\" W/HLS  GASKET TEF 13.75\"ODX10.75\" IDX.12\" W/HLS   EA   EA\n",
      "              5500-0200-001  -  -  -  -   0.50    0.5             PIPE 2\" NOM DIA X SCH40 316SS       PIPE 2\" NOM DIA X SCH40 316SS         FT   FT\n",
      "              5500-0250-001  -  -  -  -   1.25   1.25           PIPE 2.5\" NOM DIA X SCH40 316SS       PIPE 2.5\" NOM DIA X SCH40 316SS       FT   FT\n",
      "              5500-1000-001  -  -  -  -   3.00    3.0           PIPE 10\" NOM OD X SCH 10S 316SS       PIPE 10\" NOM OD X SCH 10S 316SS       FT   FT\n",
      "6890-099238-1 3002-1075-001  -  -  -  -   2.00    2.0         BUSHING 1.0\"MNPT X .75\"FNPT 316SS       BUSHING 1.0\"MNPT X .75\"FNPT 316SS     EA   EA\n",
      "              3002-7525-001  -  -  -  -   1.00    1.0         BUSHING .75\"MNPT X .25\"FNPT 316SS       BUSHING .75\"MNPT X .25\"FNPT 316SS     EA   EA\n",
      "              3002-7550-001  -  -  -  -   1.00    1.0         BUSHING .75\"MNPT X .50\"FNPT 316SS       BUSHING .75\"MNPT X .50\"FNPT 316SS     EA   EA\n",
      "              3005-0075-001  -  -  -  -   1.00    1.0                CROSS .75\" FNPT 150# 316SS       CROSS .75\" FNPT 150# 316SS            EA   EA\n",
      "              3012-0050-001  -  -  -  -   5.00    5.0         ELBOW .50\" SR 90° FNPT 150# 316SS       ELBOW .50\" SR 90° FNPT 150# 316SS     EA   EA\n",
      "              3012-0075-001  -  -  -  -   6.00    6.0         ELBOW .75\" SR 90° FNPT 150# 316SS       ELBOW .75\" SR 90° FNPT 150# 316SS     EA   EA\n",
      "              3012-0150-001  -  X  -  -   3.00    1.0         ELBOW 1.5\" SR 90° FNPT 150# 316SS       ELBOW 1.5\" SR 90° FNPT 150# 316SS     EA   EA\n",
      "              3025-0050-001  -  -  -  -   2.00    2.0                  TEE .50\" FNPT 150# 316SS       TEE .50\" FNPT 150# 316SS              EA   EA\n",
      "              3031-0050-001  -  -  -  -   4.00    4.0                UNION .50\" FNPT 150# 316SS       UNION .50\" FNPT 150# 316SS            EA   EA\n",
      "              3031-0075-001  -  -  -  -   4.00    4.0                UNION .75\" FNPT 150# 316SS                UNION .75\" FNPT 150# 316SS   EA   EA\n",
      "              3085-0050-001  -  -  -  -   2.00    2.0           SQ HD PLUG .50\" MNPT 150# 316SS           SQ HD PLUG .50\" MNPT 150# 316SS   EA   EA\n",
      "              3086-1500-001  -  -  -  -   1.00    1.0             NIPPLE 1.5\"MNPT X CLOSE 316SS             NIPPLE 1.5\"MNPT X CLOSE 316SS   EA   EA\n",
      "              3086-1545-001  -  -  -  -   1.00    1.0           NIPPLE 1.5\"MNPT X 4.5 LG. 316SS           NIPPLE 1.5\"MNPT X 4.5 LG. 316SS   EA   EA\n",
      "              3086-3800-001  -  -  -  -   1.00    1.0             NIPPLE .38\"MNPT X CLOSE 316SS       NIPPLE .38\"MNPT X CLOSE 316SS         EA   EA\n",
      "              3086-5015-001  -  -  -  -   8.00    8.0           NIPPLE .50\"MNPT X 1.5 LG. 316SS       NIPPLE .50\"MNPT X 1.5 LG. 316SS       EA   EA\n",
      "              3086-5035-001  -  -  -  -   1.00    1.0           NIPPLE .50\"MNPT X 3.5 LG. 316SS       NIPPLE .50\"MNPT X 3.5 LG. 316SS       EA   EA\n",
      "              3086-5040-001  -  -  -  -   2.00    2.0           NIPPLE .50\"MNPT X 4.0 LG. 316SS       NIPPLE .50\"MNPT X 4.0 LG. 316SS       EA   EA\n",
      "              3086-5050-001  -  -  -  -   2.00    2.0           NIPPLE .50\"MNPT X 5.0 LG. 316SS       NIPPLE .50\"MNPT X 5.0 LG. 316SS       EA   EA\n",
      "              3086-7500-001  -  -  -  -   2.00    2.0             NIPPLE .75\"MNPT X CLOSE 316SS       NIPPLE .75\"MNPT X CLOSE 316SS         EA   EA\n",
      "              3086-7515-001  -  -  -  -   7.00    7.0          NIPPLE .75\"MNPT X 1.5\" LG. 316SS       NIPPLE .75\"MNPT X 1.5\" LG. 316SS      EA   EA\n",
      "              3086-7520-001  -  -  -  -   1.00    1.0          NIPPLE .75\"MNPT X 2.0\" LG. 316SS       NIPPLE .75\"MNPT X 2.0\" LG. 316SS      EA   EA\n",
      "              3086-7530-001  -  -  -  -   1.00    1.0         NIPPLE .75\"MNPT X 3.0\" LG.  316SS       NIPPLE .75\"MNPT X 3.0\" LG.  316SS     EA   EA\n",
      "              3086-7540-001  -  -  -  -   4.00    4.0         NIPPLE .75\" MNPT X 4.0\" LG. 316SS       NIPPLE .75\" MNPT X 4.0\" LG. 316SS     EA   EA\n",
      "              3605-0025-001  -  -  -  -   1.00    1.0       GAUGE COMP 15/0/30\"PSI/HGV FILL 316       GAUGE COMP 15/0/30\"PSI/HGV FILL 316   EA   EA\n",
      "              3615-0050-019  -  -  -  -   1.00    1.0    GAUGE LVL .5\" MNPT 20.5\"LG 316SS/POL/T    GAUGE LVL .5\" MNPT 20.5\"LG 316SS/POL/T   EA   EA\n",
      "              3630-0050-000  -  -  -  -   1.00    1.0    GAUGE TMP .5\"  20-240°F 3\" DIAL 304 SS    GAUGE TMP .5\"  20-240°F 3\" DIAL 304 SS   EA   EA\n",
      "              5500-0050-001  -  -  -  -   0.67   0.67            PIPE .50\" NOM DIA XSCH40 316SS       PIPE .50\" NOM DIA XSCH40 316SS        FT   FT\n",
      "              5500-0075-001  -  -  -  -   2.00    2.0            PIPE .75\"NOM DIA X SCH40 316SS       PIPE .75\"NOM DIA X SCH40 316SS        FT   FT\n",
      "              6770-0075-001  -  -  -  -   1.00    1.0           STRAINER Y .75\" FNPT 316/316 SS           STRAINER Y .75\" FNPT 316/316 SS   EA   EA\n",
      "              6900-0075-006  -  -  -  -   1.00    1.0         SWITCH FLOW .75\" FNPT N7 SS 2 GPM         SWITCH FLOW .75\" FNPT N7 SS 2 GPM   EA   EA\n",
      "              7302-0038-001  -  -  -  -   1.00    1.0         VLV BALL .38\" FNPT FP 2-PC 316/TF         VLV BALL .38\" FNPT FP 2-PC 316/TF   EA   EA\n",
      "              7302-0075-001  -  -  -  -   1.00    1.0          VLV BALL .75\" FP 2-PC THD 316/TF       VLV BALL .75\" FP 2-PC THD 316/TF      EA   EA\n",
      "              7302-0150-001  -  -  -  -   1.00    1.0         VLV BALL 1.50\" FP 2-PC THD 316/TF       VLV BALL 1.50\" FP 2-PC THD 316/TF     EA   EA\n",
      "              7324-0075-001  -  -  -  -   1.00    1.0             VLV GATE .75\" FNPT 316SS 200#             VLV GATE .75\" FNPT 316SS 200#   EA   EA\n",
      "              7326-0050-001  -  -  -  -   1.00    1.0            VLV GLOBE .50\" FNPT 316SS 200#            VLV GLOBE .50\" FNPT 316SS 200#   EA   EA\n",
      "              7334-0050-010  -  -  -  -   1.00    1.0       VLV SOL 2WAY .5\" 1PSI SS/VT 120V N4       VLV SOL 2WAY .5\" 1PSI SS/VT 120V N4   EA   EA\n",
      "JZ099238      0300-2021-766  -  -  -  -   1.00    1.0              BASEPLATE  JZW0203KF1-01  CS                BASEPLATE JZW0203KF1-01 CS   EA   EA\n",
      "              2210-0992-380  -  -  -  -   1.00    1.0     CTRL PNL 15HP SMPL S/S FR-H20 208V N4     CTRL PNL 15HP SMPL S/S FR-H20 208V N4   EA   EA\n",
      "              2321-0800-000  -  -  -  -   1.00    1.0       DRIVE CPLG ASSY 8S 38MM/1.62\" CI/EP       DRIVE CPLG ASSY 8S 38MM/1.62\" CI/EP   EA   EA\n",
      "              3012-0250-001  -  -  -  -   1.00    1.0         ELBOW 2.5\" SR 90° FNPT 150# 316SS       ELBOW 2.5\" SR 90° FNPT 150# 316SS     EA   EA\n",
      "              3086-2025-025  X  X  X  X   1.00                           NIPPLE 2.0\"MNPT X 2.5\"                                             EA     \n",
      "              3086-2530-001  -  -  -  -   1.00    1.0         NIPPLE 2.50\"MNPT X 3.0\" LG. 316SS       NIPPLE 2.50\"MNPT X 3.0\" LG. 316SS     EA   EA\n",
      "              3180-UNV1-000  -  -  -  -   1.00    1.0                PIPING KIT #1 VACUUM GAUGE       PIPING KIT #1 VACUUM GAUGE            EA   EA\n",
      "              3230-0250-003  -  -  -  -   1.00    1.0          FLG ASY 2.5\" 150# THD SS/TF BOLT       FLG ASY 2.5\" 150# THD SS/TF BOLT      EA   EA\n",
      "              3230-2520-007  -  -  -  -   1.00    1.0        FLANGE ASSY 2.5\"150#X2\"NPT CS/TEFL       FLANGE ASSY 2.5\"150#X2\"NPT CS/TEFL    EA   EA\n",
      "              3635-0025-000  -  -  -  -   1.00    1.0       GAUGE VAC 0-30\"HGV 2.5\" DIAL FILLED       GAUGE VAC 0-30\"HGV 2.5\" DIAL FILLED   EA   EA\n",
      "              4038-0536-003  -  -  -  -   1.00    1.0            HT EX 0536 4PASS CS/SS/SS NARW       HT EX 0536 4PASS CS/SS/SS NARW        EA   EA\n",
      "              5010-0150-120  -  -  -  -   1.00    1.0             MOTOR 15HP 4P 200V 254TC PREM             MOTOR 15HP 4P 200V 254TC PREM   EA   EA\n",
      "              6415-2021-769  -  -  -  -   1.00    1.0            SEPARATOR FR 10.75\"OD 36\"LG SS            SEPARATOR FR 10.75\"OD 36\"LG SS   EA   EA\n",
      "              6890-099238-1  -  -  -  -   1.00    1.0                          SYSTEM PIPING SS                          SYSTEM PIPING SS   EA   EA\n",
      "              6910-0100-003  -  -  -  -   2.00    2.0           SWITCH LEVEL 1\" MNPT N7 SST/SST       SWITCH LEVEL 1\" MNPT N7 SST/SST       EA   EA\n",
      "              7302-0200-000  -  -  -  -   1.00    1.0         VLV BALL 2.0\" FNPT FP 2-PC BRZ/TF         VLV BALL 2.0\" FNPT FP 2-PC BRZ/TF   EA   EA\n",
      "              7321-0250-001  -  -  -  -   1.00    1.0     VLV CK PAN 2.5\" WAF SS/SS/T LT SPRING     VLV CK PAN 2.5\" WAF SS/SS/T LT SPRING   EA   EA\n",
      "              JZ0200D-KA3    -  -  -  -   1.00    1.0         PUMP LR 1 STG 200 CFM CI/SS/VITON         PUMP LR 1 STG 200 CFM CI/SS/VITON   EA   EA None\n"
     ]
    }
   ],
   "source": [
    "dfs, df = bc.bomcheck('mydata', x=True, d=False, c='docs/bomcheck.cfg')   # Shift-Tab to show arg descrips\n",
    "print(df, dfs)"
   ]
  }
 ],
 "metadata": {
  "interpreter": {
   "hash": "68decfe7d9055a1e6efc9f45c2202491bda368a53f60c5c5bc70e621a8cdbbbc"
  },
  "kernelspec": {
   "display_name": "Python 3 (ipykernel)",
   "language": "python",
   "name": "python3"
  },
  "language_info": {
   "codemirror_mode": {
    "name": "ipython",
    "version": 3
   },
   "file_extension": ".py",
   "mimetype": "text/x-python",
   "name": "python",
   "nbconvert_exporter": "python",
   "pygments_lexer": "ipython3",
   "version": "3.9.7"
  }
 },
 "nbformat": 4,
 "nbformat_minor": 4
}
