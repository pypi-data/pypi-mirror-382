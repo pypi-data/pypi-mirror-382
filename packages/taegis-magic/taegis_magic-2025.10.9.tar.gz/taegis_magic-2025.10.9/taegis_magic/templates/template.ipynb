{
 "cells": [
  {
   "cell_type": "code",
   "execution_count": null,
   "metadata": {
    "tags": [
     "parameters",
     "remove_cell"
    ]
   },
   "outputs": [],
   "source": [
    "# Parameters\n",
    "TENANT_ID = None\n",
    "REGION = None\n",
    "INVESTIGATION_TITLE = None\n",
    "TAEGIS_MAGIC_NOTEBOOK_FILENAME = None"
   ]
  },
  {
   "cell_type": "markdown",
   "metadata": {},
   "source": [
    "# Report Title\n",
    "\n",
    "Write your description of what you are looking for and why it would be an issue."
   ]
  },
  {
   "cell_type": "markdown",
   "metadata": {
    "vscode": {
     "languageId": "plaintext"
    }
   },
   "source": [
    "## Executive Summary\n",
    "\n",
    "1-2 sentences giving an overview of what happened to which resources."
   ]
  },
  {
   "cell_type": "code",
   "execution_count": null,
   "metadata": {
    "tags": [
     "remove_cell"
    ]
   },
   "outputs": [],
   "source": [
    "%load_ext taegis_magic\n",
    "\n",
    "from taegis_magic.pandas.alerts import (\n",
    "    inflate_raw_events,\n",
    "    convert_alert_timestamps,\n",
    "    severity_rounded_and_category,\n",
    "    normalize_creator_name,\n",
    ")\n",
    "from taegis_magic.pandas.events import convert_event_timestamps"
   ]
  },
  {
   "cell_type": "markdown",
   "metadata": {},
   "source": [
    "## Evidence and Analysis"
   ]
  },
  {
   "cell_type": "markdown",
   "metadata": {},
   "source": [
    "### Alerts\n",
    "\n",
    "State what the alerts search is looking for and what to do with the findings."
   ]
  },
  {
   "cell_type": "code",
   "execution_count": null,
   "metadata": {
    "tags": [
     "remove_cell"
    ]
   },
   "outputs": [],
   "source": [
    "# https://docs.ctpx.secureworks.com/search/querylanguage/advanced_search/"
   ]
  },
  {
   "cell_type": "code",
   "execution_count": null,
   "metadata": {},
   "outputs": [],
   "source": [
    "%%taegis alerts search --tenant $TENANT_ID --region $REGION --assign alerts --track\n",
    "FROM alert\n",
    "EARLIEST=-1d | head 10"
   ]
  },
  {
   "cell_type": "code",
   "execution_count": null,
   "metadata": {},
   "outputs": [],
   "source": [
    "# check for an empty DataFrame, otherwise the notebook may fail with null results\n",
    "if alerts.empty:\n",
    "    transformed_alerts = alerts\n",
    "else:\n",
    "    transformed_alerts = (\n",
    "        alerts.pipe(inflate_raw_events)\n",
    "        .pipe(convert_alert_timestamps)\n",
    "        .pipe(severity_rounded_and_category)\n",
    "        .pipe(normalize_creator_name, region=REGION)\n",
    "    )"
   ]
  },
  {
   "cell_type": "code",
   "execution_count": null,
   "metadata": {},
   "outputs": [],
   "source": [
    "# transformed_alerts.columns"
   ]
  },
  {
   "cell_type": "code",
   "execution_count": null,
   "metadata": {},
   "outputs": [],
   "source": [
    "# columns may differ from your data, please check the columns above to validate\n",
    "if not transformed_alerts.empty:\n",
    "    transformed_alerts[\n",
    "        [\n",
    "            \"taegis_magic.metadata.inserted_at.seconds\",\n",
    "            \"taegis_magic.creator.display_name\",\n",
    "            \"metadata.title\",\n",
    "            \"status\",\n",
    "            \"taegis_magic.severity_category\",\n",
    "            \"event_data.resource_id\",\n",
    "        ]\n",
    "    ].value_counts()"
   ]
  },
  {
   "cell_type": "code",
   "execution_count": null,
   "metadata": {},
   "outputs": [],
   "source": [
    "# alerts_filtered = transformed_alerts[transformed_alerts[\"metadata.severity\"] >= 0.8]"
   ]
  },
  {
   "cell_type": "code",
   "execution_count": null,
   "metadata": {
    "tags": [
     "remove_cell"
    ]
   },
   "outputs": [],
   "source": [
    "# %taegis investigations evidence stage alerts alerts_filtered"
   ]
  },
  {
   "cell_type": "markdown",
   "metadata": {},
   "source": [
    "### Events\n",
    "\n",
    "State what the events search is looking for and what do do with the findings."
   ]
  },
  {
   "cell_type": "code",
   "execution_count": null,
   "metadata": {},
   "outputs": [],
   "source": [
    "%%taegis events search --tenant $TENANT_ID --region $REGION --assign processes --track\n",
    "FROM process\n",
    "EARLIEST=-1d | head 10"
   ]
  },
  {
   "cell_type": "code",
   "execution_count": null,
   "metadata": {},
   "outputs": [],
   "source": [
    "# check for an empty DataFrame, otherwise the notebook may fail with null results\n",
    "if processes.empty:\n",
    "    transformed_processes = processes\n",
    "else:\n",
    "    transformed_processes = processes.pipe(convert_event_timestamps)"
   ]
  },
  {
   "cell_type": "code",
   "execution_count": null,
   "metadata": {},
   "outputs": [],
   "source": [
    "# transformed_processes.columns"
   ]
  },
  {
   "cell_type": "code",
   "execution_count": null,
   "metadata": {},
   "outputs": [],
   "source": [
    "# columns may differ from your data, please check the columns above to validate\n",
    "if not transformed_processes.empty:\n",
    "    transformed_processes[\n",
    "        [\n",
    "            \"hostname\",\n",
    "            \"host_id\",\n",
    "            \"event_time_usec\",\n",
    "            \"process_id\",\n",
    "            \"parent_process_id\",\n",
    "            \"commandline\",\n",
    "        ]\n",
    "    ]"
   ]
  },
  {
   "cell_type": "code",
   "execution_count": null,
   "metadata": {},
   "outputs": [],
   "source": [
    "# filter processes here\n",
    "if not transformed_processes.empty:\n",
    "    processes_filtered = transformed_processes[\n",
    "        transformed_processes[\"commandline\"].str.contains(\"cmd.exe\")\n",
    "    ]"
   ]
  },
  {
   "cell_type": "code",
   "execution_count": null,
   "metadata": {
    "tags": [
     "remove_cell"
    ]
   },
   "outputs": [],
   "source": [
    "# %taegis investigations evidence stage events processes_filtered"
   ]
  },
  {
   "cell_type": "markdown",
   "metadata": {
    "vscode": {
     "languageId": "plaintext"
    }
   },
   "source": [
    "# Report Findings\n",
    "\n",
    "Put your findings here."
   ]
  },
  {
   "cell_type": "code",
   "execution_count": null,
   "metadata": {
    "tags": [
     "remove_cell"
    ]
   },
   "outputs": [],
   "source": [
    "%save_notebook --delay 5"
   ]
  },
  {
   "cell_type": "code",
   "execution_count": null,
   "metadata": {
    "tags": [
     "remove_cell"
    ]
   },
   "outputs": [],
   "source": [
    "%generate_report"
   ]
  },
  {
   "cell_type": "code",
   "execution_count": null,
   "metadata": {
    "tags": [
     "remove_cell"
    ]
   },
   "outputs": [],
   "source": [
    "# %taegis investigations search-queries list"
   ]
  },
  {
   "cell_type": "code",
   "execution_count": null,
   "metadata": {
    "tags": [
     "remove_cell"
    ]
   },
   "outputs": [],
   "source": [
    "# %taegis investigations search-queries stage"
   ]
  },
  {
   "cell_type": "code",
   "execution_count": null,
   "metadata": {},
   "outputs": [],
   "source": [
    "# %taegis investigations create \\\n",
    "# --title \"$INVESTIGATION_TITLE\" \\\n",
    "# --key-findings \"$TAEGIS_MAGIC_REPORT_FILENAME\" \\\n",
    "# --priority MEDIUM \\\n",
    "# --type THREAT_HUNT \\\n",
    "# --status AWAITING_ACTION \\\n",
    "# --assignee-id \"@customer\" \\\n",
    "# --tenant $TENANT_ID \\\n",
    "# --region $REGION"
   ]
  },
  {
   "cell_type": "code",
   "execution_count": null,
   "metadata": {},
   "outputs": [],
   "source": []
  }
 ],
 "metadata": {
  "kernelspec": {
   "display_name": "Python 3",
   "language": "python",
   "name": "python3"
  },
  "language_info": {
   "codemirror_mode": {
    "name": "ipython",
    "version": 3
   },
   "file_extension": ".py",
   "mimetype": "text/x-python",
   "name": "python",
   "nbconvert_exporter": "python",
   "pygments_lexer": "ipython3",
   "version": "3.8.17"
  }
 },
 "nbformat": 4,
 "nbformat_minor": 2
}
