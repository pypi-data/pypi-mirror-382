{
 "cells": [
  {
   "cell_type": "code",
   "execution_count": 1,
   "metadata": {},
   "outputs": [],
   "source": [
    "import torch\n",
    "\n",
    "from chadhmm import MultinomialHMM\n",
    "from chadhmm.utilities import constraints\n",
    "\n",
    "# Initialize Multinomial HMM with 6 states and 4 emissions\n",
    "hmm = MultinomialHMM(\n",
    "    n_states=6, n_features=4, n_trials=2, transitions=constraints.Transitions.ERGODIC\n",
    ")\n",
    "\n",
    "# Mock the example data and one hot encode\n",
    "train_seq = torch.randint(0, hmm.n_features, (10000,))\n",
    "one_hot = hmm.n_trials * torch.nn.functional.one_hot(train_seq, 4)"
   ]
  },
  {
   "cell_type": "code",
   "execution_count": 2,
   "metadata": {},
   "outputs": [
    {
     "data": {
      "text/plain": [
       "MultinomialHMM(\n",
       "  (_params): ParameterDict(\n",
       "      (A): Object of type: Categorical\n",
       "      (emission_pdf): Object of type: Multinomial\n",
       "      (pi): Object of type: Categorical\n",
       "  )\n",
       ")"
      ]
     },
     "execution_count": 2,
     "metadata": {},
     "output_type": "execute_result"
    }
   ],
   "source": [
    "hmm.fit(X=one_hot, max_iter=5, lengths=[4000, 6000], n_init=1, verbose=False)"
   ]
  },
  {
   "cell_type": "code",
   "execution_count": 4,
   "metadata": {},
   "outputs": [
    {
     "name": "stdout",
     "output_type": "stream",
     "text": [
      "tensor([-5549.8136, -8314.6634], dtype=torch.float64)\n",
      "tensor([11205.6272, 16735.3268], dtype=torch.float64)\n"
     ]
    }
   ],
   "source": [
    "# Compute log likelihood of generated sequence (set by_sample=False for joint log likelihood)\n",
    "log_likes = hmm.score(one_hot, lengths=[4000, 6000], by_sample=True)\n",
    "print(log_likes)\n",
    "\n",
    "# Compute Akeike Information criteria for each sequence (AIC, BIC or HQC)\n",
    "ics = hmm.ic(one_hot, lengths=[4000, 6000], criterion=constraints.InformCriteria.AIC)\n",
    "print(ics)"
   ]
  },
  {
   "cell_type": "code",
   "execution_count": 8,
   "metadata": {},
   "outputs": [
    {
     "name": "stdout",
     "output_type": "stream",
     "text": [
      "[tensor([4, 4, 4,  ..., 3, 3, 3]), tensor([4, 0, 1,  ..., 5, 0, 3])]\n"
     ]
    }
   ],
   "source": [
    "# Get the most likely sequence using Viterbi algorithm (MAP also available)\n",
    "viterbi_path = hmm.predict(one_hot, lengths=[4000, 6000], algorithm=\"viterbi\")\n",
    "print(viterbi_path)"
   ]
  },
  {
   "cell_type": "code",
   "execution_count": 9,
   "metadata": {},
   "outputs": [
    {
     "data": {
      "text/plain": [
       "tensor([4, 0, 1,  ..., 5, 0, 3])"
      ]
     },
     "execution_count": 9,
     "metadata": {},
     "output_type": "execute_result"
    }
   ],
   "source": [
    "viterbi_path[1]"
   ]
  },
  {
   "cell_type": "code",
   "execution_count": null,
   "metadata": {},
   "outputs": [],
   "source": []
  }
 ],
 "metadata": {
  "kernelspec": {
   "display_name": "chadhmm",
   "language": "python",
   "name": "python3"
  },
  "language_info": {
   "codemirror_mode": {
    "name": "ipython",
    "version": 3
   },
   "file_extension": ".py",
   "mimetype": "text/x-python",
   "name": "python",
   "nbconvert_exporter": "python",
   "pygments_lexer": "ipython3",
   "version": "3.11.7"
  }
 },
 "nbformat": 4,
 "nbformat_minor": 2
}
