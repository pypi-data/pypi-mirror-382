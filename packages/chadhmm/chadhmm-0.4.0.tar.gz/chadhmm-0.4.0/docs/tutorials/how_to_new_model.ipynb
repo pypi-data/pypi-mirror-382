{
 "cells": [
  {
   "cell_type": "markdown",
   "metadata": {},
   "source": [
    "## Guide for adding new models to ChadHMM library\n",
    "\n",
    "In order to add new model to the library, create respective ´*.py´ module under hmm or hsmm directory depending on the implemented model.\n",
    "Example: I am trying to create new HMM where the underlying emission disribution follows Exponential distribution\n",
    "1. Create module ExponentialHMM.py where ExponentialHMM class sits and inherits from the abstract class BaseHMM\n",
    "2. Define specific implementations of required methods:\n",
    "    a. pdf - represents the underlying probability density/mass function from torch.distributions with params\n",
    "    b. estimate_emission_params - defines calls to other private methods that estimate emission distribution params from posteriors and data, return ParameterDict from torch.nn\n",
    "    c. sample_emission_params - how the sampling without data and with data should look like, return ParameterDict from torch.nn\n",
    "3. Define private methods that estimate each distribution parameter separetely\n",
    "4. Insert model inside __init__.py to be importable from the package\n",
    "5. Include specific tests under /tests if applicable \n",
    "6. Run tests"
   ]
  },
  {
   "cell_type": "markdown",
   "metadata": {},
   "source": [
    "Example below shows the step by step implementation of ExponentialHMM:"
   ]
  },
  {
   "cell_type": "code",
   "execution_count": null,
   "metadata": {},
   "outputs": [],
   "source": []
  },
  {
   "cell_type": "code",
   "execution_count": null,
   "metadata": {},
   "outputs": [],
   "source": []
  },
  {
   "cell_type": "code",
   "execution_count": null,
   "metadata": {},
   "outputs": [],
   "source": []
  },
  {
   "cell_type": "code",
   "execution_count": null,
   "metadata": {},
   "outputs": [],
   "source": []
  },
  {
   "cell_type": "code",
   "execution_count": null,
   "metadata": {},
   "outputs": [],
   "source": []
  },
  {
   "cell_type": "code",
   "execution_count": null,
   "metadata": {},
   "outputs": [],
   "source": []
  }
 ],
 "metadata": {
  "language_info": {
   "name": "python"
  }
 },
 "nbformat": 4,
 "nbformat_minor": 2
}
