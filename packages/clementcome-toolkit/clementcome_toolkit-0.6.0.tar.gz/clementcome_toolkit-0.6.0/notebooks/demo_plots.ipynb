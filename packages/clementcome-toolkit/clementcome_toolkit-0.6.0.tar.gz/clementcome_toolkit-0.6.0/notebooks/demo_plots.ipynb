{
 "cells": [
  {
   "cell_type": "code",
   "execution_count": null,
   "metadata": {},
   "outputs": [],
   "source": [
    "from cc_tk.plot.classification import plot_confusion\n",
    "import numpy as np\n",
    "import pandas as pd"
   ]
  },
  {
   "cell_type": "code",
   "execution_count": null,
   "metadata": {},
   "outputs": [],
   "source": [
    "np.random.seed(22)\n",
    "# Build a confusion matrix with 5 classes\n",
    "confusion_matrix = np.random.random((5, 5))\n",
    "\n",
    "# Build a DataFrame with the class names\n",
    "class_names = [\"class_1\", \"class_2\", \"class_3\", \"class_4\", \"class_5\"]\n",
    "confusion_matrix_df = pd.DataFrame(\n",
    "    confusion_matrix, index=class_names, columns=class_names\n",
    ")"
   ]
  },
  {
   "cell_type": "code",
   "execution_count": null,
   "metadata": {},
   "outputs": [],
   "source": [
    "plot_confusion(confusion_matrix, fmt=\".2f\", near_diag=2, vrange=\"global\")"
   ]
  },
  {
   "cell_type": "code",
   "execution_count": null,
   "metadata": {},
   "outputs": [],
   "source": [
    "plot_confusion(confusion_matrix_df, fmt=\".2f\", vrange=\"local\")"
   ]
  }
 ],
 "metadata": {
  "kernelspec": {
   "display_name": "clementcome-toolkit-mDAMwnsj-py3.10",
   "language": "python",
   "name": "python3"
  },
  "language_info": {
   "codemirror_mode": {
    "name": "ipython",
    "version": 3
   },
   "file_extension": ".py",
   "mimetype": "text/x-python",
   "name": "python",
   "nbconvert_exporter": "python",
   "pygments_lexer": "ipython3"
  }
 },
 "nbformat": 4,
 "nbformat_minor": 2
}
