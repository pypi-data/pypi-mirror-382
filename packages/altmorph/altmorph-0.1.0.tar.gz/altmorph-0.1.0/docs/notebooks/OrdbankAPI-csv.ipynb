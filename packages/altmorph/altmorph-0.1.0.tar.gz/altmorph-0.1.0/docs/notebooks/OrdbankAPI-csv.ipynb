{
 "cells": [
  {
   "cell_type": "code",
   "execution_count": 1,
   "id": "0bd214ff",
   "metadata": {},
   "outputs": [],
   "source": [
    "import requests\n",
    "import pandas as pd"
   ]
  },
  {
   "cell_type": "code",
   "execution_count": null,
   "id": "e14c7035",
   "metadata": {},
   "outputs": [],
   "source": [
    "headers = {'x-api-key': \"\"}"
   ]
  },
  {
   "cell_type": "code",
   "execution_count": 3,
   "id": "6070d075",
   "metadata": {},
   "outputs": [],
   "source": [
    "def parse_as_list(s):\n",
    "    # remove braces, split on comma, strip whitespace\n",
    "    return [x.strip() for x in s.strip(\"{}\").split(\",\")]"
   ]
  },
  {
   "cell_type": "code",
   "execution_count": null,
   "id": "897c1986",
   "metadata": {},
   "outputs": [],
   "source": [
    "# read lemma lists\n",
    "nno_lemmata = pd.read_csv(\"../../data/lemma-multi/nno.csv\", converters={\n",
    "    \"lemma_id\": lambda s: [int(x) for x in s.strip(\"{}\").split(\",\")],\n",
    "    \"lemma\": parse_as_list\n",
    "})\n",
    "nob_lemmata = pd.read_csv(\"../../data/lemma-multi/nob.csv\", converters={\n",
    "    \"lemma_id\": lambda s: [int(x) for x in s.strip(\"{}\").split(\",\")],\n",
    "    \"lemma\": parse_as_list\n",
    "})"
   ]
  },
  {
   "cell_type": "code",
   "execution_count": 5,
   "id": "bf7e60f2",
   "metadata": {},
   "outputs": [],
   "source": [
    "def query_ordbank_api(api_url):\n",
    "    r = requests.get(api_url, headers=headers)\n",
    "    if r.status_code == 200:\n",
    "        return r.json()\n",
    "    else:\n",
    "        return None"
   ]
  },
  {
   "cell_type": "code",
   "execution_count": 6,
   "id": "1cb03ec4",
   "metadata": {},
   "outputs": [],
   "source": [
    "def get_linked_lemmata(target_id, lang=\"nob\"):\n",
    "    if lang == \"nob\":\n",
    "        df = nob_lemmata\n",
    "    elif lang == \"nno\":\n",
    "        df = nno_lemmata\n",
    "        \n",
    "    # Find the row containing the target id, return None if it doesn't exist\n",
    "    try:\n",
    "        row = df[df[\"lemma_id\"].apply(lambda ids: target_id in ids)].iloc[0]\n",
    "    except:\n",
    "        return None\n",
    "\n",
    "    # Align lemma_id and lemma as pairs\n",
    "    pairs = list(zip(row[\"lemma_id\"], row[\"lemma\"]))\n",
    "\n",
    "    # Extract all pairs\n",
    "    all_lemma_pairs = [(i, l) for i, l in pairs]\n",
    "    \n",
    "    return all_lemma_pairs"
   ]
  },
  {
   "cell_type": "code",
   "execution_count": 7,
   "id": "977b231f",
   "metadata": {},
   "outputs": [],
   "source": [
    "def get_inflection_forms(lemma_id):\n",
    "    wordform_tag_set = set()\n",
    "    lemma_URL = f\"https://clarino.uib.no/ordbank-api-prod/lemmas?query={lemma_id}&stubs=false&include_dict_links=true&extended_vocabulary=true&language={lang}&search_inflection=false\"\n",
    "    lemma_response = requests.get(lemma_URL, headers=headers)\n",
    "    for paradigm in lemma_response.json()[0][\"paradigm_info\"]:\n",
    "        for entry in paradigm[\"inflection\"]:\n",
    "            word = entry[\"word_form\"]\n",
    "            tags = \"_\".join(entry[\"tags\"])\n",
    "            yield (word, tags)"
   ]
  },
  {
   "cell_type": "code",
   "execution_count": 8,
   "id": "3cd1f742",
   "metadata": {},
   "outputs": [],
   "source": [
    "def search(lang=\"nob\", word_form=None, word_class=None):\n",
    "    search_URL = f\"https://clarino.uib.no/ordbank-api-prod/lemmas?query={word_form}&stubs=false&include_dict_links=true&extended_vocabulary=true&language={lang}&search_inflection=true&word_class={word_class}\"\n",
    "    search_response = query_ordbank_api(search_URL)\n",
    "\n",
    "    wordform_tag_set = set()\n",
    "\n",
    "    if search_response:\n",
    "        for entry in search_response:\n",
    "            if entry[\"word_class\"] == word_class:\n",
    "                target_lemma_id = entry[\"id\"]\n",
    "                # we try to find linked lemmata\n",
    "                linked_lemmata = get_linked_lemmata(target_lemma_id, lang=lang)\n",
    "                if linked_lemmata == None:\n",
    "                    linked_lemmata = [(target_lemma_id,)]\n",
    "                for alternative in linked_lemmata:\n",
    "                    alternative_lemma_id = alternative[0]\n",
    "                    for x in get_inflection_forms(alternative_lemma_id):\n",
    "                        wordform_tag_set.add(x)\n",
    "    \n",
    "    return wordform_tag_set"
   ]
  },
  {
   "cell_type": "markdown",
   "id": "5f44ffa8",
   "metadata": {},
   "source": [
    "# First example: bru in bokmål"
   ]
  },
  {
   "cell_type": "code",
   "execution_count": 15,
   "id": "35e19401",
   "metadata": {},
   "outputs": [],
   "source": [
    "# choose a language and a word_form (may be any inflectional form) to start with\n",
    "lang = \"nob\"\n",
    "word_form = \"sykehus\"\n",
    "word_class=\"NOUN\""
   ]
  },
  {
   "cell_type": "code",
   "execution_count": 16,
   "id": "382264fb",
   "metadata": {},
   "outputs": [
    {
     "data": {
      "text/plain": [
       "{('sjukehus', 'Plur_Ind'),\n",
       " ('sjukehus', 'Sing_Ind'),\n",
       " ('sjukehusa', 'Plur_Def'),\n",
       " ('sjukehusene', 'Plur_Def'),\n",
       " ('sjukehuset', 'Sing_Def'),\n",
       " ('sykehus', 'Plur_Ind'),\n",
       " ('sykehus', 'Sing_Ind'),\n",
       " ('sykehusa', 'Plur_Def'),\n",
       " ('sykehusene', 'Plur_Def'),\n",
       " ('sykehuset', 'Sing_Def')}"
      ]
     },
     "execution_count": 16,
     "metadata": {},
     "output_type": "execute_result"
    }
   ],
   "source": [
    "search(lang=lang, word_form=word_form, word_class=word_class)"
   ]
  },
  {
   "cell_type": "markdown",
   "id": "e9367497",
   "metadata": {},
   "source": [
    "# Second example: kasta"
   ]
  },
  {
   "cell_type": "code",
   "execution_count": 11,
   "id": "148de038",
   "metadata": {},
   "outputs": [],
   "source": [
    "# choose a language and a word_form (may be any inflectional form) to start with\n",
    "lang = \"nob\"\n",
    "word_form = \"kaste\"\n",
    "word_class=\"VERB\""
   ]
  },
  {
   "cell_type": "code",
   "execution_count": 12,
   "id": "cad7fd6f",
   "metadata": {},
   "outputs": [
    {
     "data": {
      "text/plain": [
       "{('kast', 'Imp'),\n",
       " ('kasta', '<PerfPart>'),\n",
       " ('kasta', 'Adj_<PerfPart>_Def_Sing'),\n",
       " ('kasta', 'Adj_<PerfPart>_Masc/Fem_Ind_Sing'),\n",
       " ('kasta', 'Adj_<PerfPart>_Neuter_Ind_Sing'),\n",
       " ('kasta', 'Adj_<PerfPart>_Plur'),\n",
       " ('kasta', 'Past'),\n",
       " ('kaste', 'Inf'),\n",
       " ('kastede', 'Adj_<PerfPart>_Def_Sing'),\n",
       " ('kastede', 'Adj_<PerfPart>_Plur'),\n",
       " ('kastende', 'Adj_<PresPart>'),\n",
       " ('kaster', 'Pres'),\n",
       " ('kastes', 'Inf_Pass'),\n",
       " ('kastes', 'Pres_Pass'),\n",
       " ('kastet', '<PerfPart>'),\n",
       " ('kastet', 'Adj_<PerfPart>_Masc/Fem_Ind_Sing'),\n",
       " ('kastet', 'Adj_<PerfPart>_Neuter_Ind_Sing'),\n",
       " ('kastet', 'Past'),\n",
       " ('kastete', 'Adj_<PerfPart>_Def_Sing'),\n",
       " ('kastete', 'Adj_<PerfPart>_Plur'),\n",
       " (None, '')}"
      ]
     },
     "execution_count": 12,
     "metadata": {},
     "output_type": "execute_result"
    }
   ],
   "source": [
    "search(lang=lang, word_form=word_form, word_class=word_class)"
   ]
  },
  {
   "cell_type": "markdown",
   "id": "fe35396c",
   "metadata": {},
   "source": [
    "# Third example: vi/me"
   ]
  },
  {
   "cell_type": "code",
   "execution_count": 13,
   "id": "3ea379db",
   "metadata": {},
   "outputs": [],
   "source": [
    "# choose a language and a word_form (may be any inflectional form) to start with\n",
    "lang = \"nno\"\n",
    "word_form = \"me\"\n",
    "word_class=\"PRON\""
   ]
  },
  {
   "cell_type": "code",
   "execution_count": 14,
   "id": "a3941054",
   "metadata": {},
   "outputs": [
    {
     "data": {
      "text/plain": [
       "{('me', 'Nom'), ('oss', 'Acc'), ('vi', 'Nom')}"
      ]
     },
     "execution_count": 14,
     "metadata": {},
     "output_type": "execute_result"
    }
   ],
   "source": [
    "search(lang=lang, word_form=word_form, word_class=word_class)"
   ]
  }
 ],
 "metadata": {
  "kernelspec": {
   "display_name": "Python 3 (ipykernel)",
   "language": "python",
   "name": "python3"
  },
  "language_info": {
   "codemirror_mode": {
    "name": "ipython",
    "version": 3
   },
   "file_extension": ".py",
   "mimetype": "text/x-python",
   "name": "python",
   "nbconvert_exporter": "python",
   "pygments_lexer": "ipython3",
   "version": "3.12.3"
  }
 },
 "nbformat": 4,
 "nbformat_minor": 5
}
