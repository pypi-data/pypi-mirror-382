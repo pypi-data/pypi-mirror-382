{
 "cells": [
  {
   "cell_type": "markdown",
   "id": "2c714cdf",
   "metadata": {},
   "source": [
    "## Expectations from this notebook\n",
    "\n",
    "This notebook will read a KEP instance from a file, and then run a matching run on this instance using two different KEP schemas.\n",
    "\n",
    "The first thing we need to do is install kep_solver, and import the relevant items. If you don't know what all of these are immediately, that's fine, we will go through them later."
   ]
  },
  {
   "cell_type": "code",
   "execution_count": null,
   "id": "88b28482",
   "metadata": {},
   "outputs": [],
   "source": [
    "!pip install kep_solver\n",
    "from kep_solver.fileio import read_json\n",
    "from kep_solver.entities import BloodGroup\n",
    "from kep_solver.programme import Programme\n",
    "from kep_solver.model import TransplantCount, EffectiveTwoWay, BackArcs, ThreeWay, UKScore"
   ]
  },
  {
   "cell_type": "markdown",
   "id": "8fd9cbb1",
   "metadata": {},
   "source": [
    "We now read the given instance from a JSON file. File formats are described [online](https://kep-solver.readthedocs.io/en/latest/source/formats.html#input). Note that this sample input file is randomly generated. It is not representative of any particular population."
   ]
  },
  {
   "cell_type": "code",
   "execution_count": null,
   "id": "59e8ac48",
   "metadata": {},
   "outputs": [],
   "source": [
    "instance = read_json(\"../tests/test_instances/medium-1.json\")\n",
    "print(f\"This instance has {len(instance.recipients())} recipients with IDs: {', '.join(r.id for r in instance.recipients())}\")"
   ]
  },
  {
   "cell_type": "markdown",
   "id": "4d5f094d",
   "metadata": {},
   "source": [
    "You can extract individual recipients and their paired donors and access information about them. For complete documentation on these entities see the [online documentation](https://kep-solver.readthedocs.io/en/latest/source/kep_solver.entities.html)."
   ]
  },
  {
   "cell_type": "code",
   "execution_count": null,
   "id": "c2e45af0",
   "metadata": {},
   "outputs": [],
   "source": [
    "recipient = instance.recipient(\"4\")\n",
    "print(f\"Recipient {recipient.id} has {len(recipient.donors())} donor(s)\")\n",
    "first_donor = recipient.donors()[0]\n",
    "print(f\"Their first donor has blood group {first_donor.bloodGroup}\")"
   ]
  },
  {
   "cell_type": "markdown",
   "id": "19978935",
   "metadata": {},
   "source": [
    "You can also get all donors with `instance.donors()`, including non-directed donors."
   ]
  },
  {
   "cell_type": "code",
   "execution_count": null,
   "id": "79daa47c",
   "metadata": {},
   "outputs": [],
   "source": [
    "non_directed_donors = [donor for donor in instance.donors() if donor.NDD]\n",
    "print(f\"This instance has {len(non_directed_donors)} non-directed donors\")"
   ]
  },
  {
   "cell_type": "markdown",
   "id": "4a0b923f",
   "metadata": {},
   "source": [
    "Now we can create a KEP. Our first KEP will be simple, with just one objective to maximise: the transplant count. We also configure the maximum cycle and chain lengths for this KEP, and then solve our instance. We get returned both the solution, and the model used to find the solution. The solution contains the `selected` exchanges, which we can examine and print out. Printing an exchange will list the donor, recipient, and vertex ID for each vertex (pair) in the transplant. For instance, `V(D_13,R_12 (8))` is a pair containing donor 13, recipient 12, and the (internal) vertex ID is 8."
   ]
  },
  {
   "cell_type": "code",
   "execution_count": null,
   "id": "3360811e",
   "metadata": {},
   "outputs": [],
   "source": [
    "programme = Programme([TransplantCount()], description=\"My first KEP\", maxCycleLength=3, maxChainLength=3)\n",
    "solution, model = programme.solve_single(instance)\n",
    "num_transplants = sum(len(modelled.exchange) for modelled in solution.selected)\n",
    "print(f\"A total of {len(solution.selected)} exchanges were found representing {num_transplants} transplants\")\n",
    "for t in solution.selected:\n",
    "    print(str(t))"
   ]
  },
  {
   "cell_type": "markdown",
   "id": "45b519c1",
   "metadata": {},
   "source": [
    "We now create a more complex KEP with multiple objectives. In particular, we replicate the current UK objectives as follows:\n",
    "1. Maximise the number of effective two-way exchanges\n",
    "2. Maximise the number of transplants\n",
    "3. Maximise the number of back-arcs\n",
    "4. Minimise the number of three-way exchanges\n",
    "5. Maximise the score according to the UK calculations\n",
    "\n",
    "Note that we still find same number of transplants, but the actual selected exchanges are different."
   ]
  },
  {
   "cell_type": "code",
   "execution_count": null,
   "id": "a4c95903",
   "metadata": {},
   "outputs": [],
   "source": [
    "objectives = [EffectiveTwoWay(), TransplantCount(), BackArcs(), ThreeWay(), UKScore()]\n",
    "programme = Programme(objectives, description=\"UK KEP\", maxCycleLength=3, maxChainLength=3)\n",
    "solution, model = programme.solve_single(instance)\n",
    "num_transplants = sum(len(modelled.exchange) for modelled in solution.selected)\n",
    "print(f\"A total of {len(solution.selected)} exchanges were found representing {num_transplants} transplants\")\n",
    "for t in solution.selected:\n",
    "    print(str(t))"
   ]
  },
  {
   "cell_type": "markdown",
   "id": "990ba6ea",
   "metadata": {},
   "source": [
    "We can also examine the details of individual objectives, and also investigate how long it took to build and solve this model"
   ]
  },
  {
   "cell_type": "code",
   "execution_count": null,
   "id": "7cfd0156",
   "metadata": {},
   "outputs": [],
   "source": [
    "for objective, value in zip(objectives, solution.values):\n",
    "    print(f\"Calculated {objective.describe()} = {value}\")\n",
    "for description, time in solution.times:\n",
    "    print(f\"{description} took {time:.2f} seconds\")"
   ]
  }
 ],
 "metadata": {
  "language_info": {
   "name": "python"
  }
 },
 "nbformat": 4,
 "nbformat_minor": 5
}
