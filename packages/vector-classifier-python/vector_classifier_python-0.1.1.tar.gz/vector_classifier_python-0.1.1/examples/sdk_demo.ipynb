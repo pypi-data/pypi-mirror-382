{
  "cells": [
    {
      "cell_type": "markdown",
      "metadata": {},
      "source": [
        "# Vector Classifier + RAG SDK Demo\n",
        "\n",
        "This notebook shows how to:\n",
        "\n",
        "1. Index structured data (animals)\n",
        "2. Classify structured queries\n",
        "3. Index images (PlantNet-like)\n",
        "4. Classify images\n",
        "5. Index documents (URL/local file/GitHub)\n",
        "6. Query documents using Python AI SDK tools\n",
        "\n",
        "Each step includes a short explanation and concise code you can adapt.\n"
      ]
    },
    {
      "cell_type": "code",
      "execution_count": 1,
      "metadata": {},
      "outputs": [
        {
          "name": "stderr",
          "output_type": "stream",
          "text": [
            "c:\\Users\\sunco\\AppData\\Local\\Programs\\Python\\Python313\\Lib\\site-packages\\tqdm\\auto.py:21: TqdmWarning: IProgress not found. Please update jupyter and ipywidgets. See https://ipywidgets.readthedocs.io/en/stable/user_install.html\n",
            "  from .autonotebook import tqdm as notebook_tqdm\n"
          ]
        }
      ],
      "source": [
        "# Setup: install optional deps (uncomment if needed)\n",
        "# %pip install ai-sdk-python pinecone openai pydantic python-dotenv huggingface_hub requests pillow\n",
        "\n",
        "import os\n",
        "from vector_classifier import VectorClassifier\n",
        "\n",
        "# Load .env if present\n",
        "try:\n",
        "    from dotenv import load_dotenv  # type: ignore\n",
        "    load_dotenv()\n",
        "except Exception:\n",
        "    pass\n",
        "\n",
        "PINECONE_API_KEY = (os.getenv(\"PINECONE_API_KEY\") or \"\").strip().strip('\"').strip(\"'\")\n",
        "OPENAI_API_KEY = (os.getenv(\"OPENAI_API_KEY\") or \"\").strip().strip('\"').strip(\"'\")\n",
        "PINECONE_INDEX_NAME = (os.getenv(\"PINECONE_INDEX_NAME\") or \"\").strip().strip('\"').strip(\"'\") or \"vcp-1536-cosine\"\n",
        "\n",
        "assert PINECONE_API_KEY, \"Set PINECONE_API_KEY\"\n",
        "assert OPENAI_API_KEY, \"Set OPENAI_API_KEY\"\n",
        "\n"
      ]
    },
    {
      "cell_type": "markdown",
      "metadata": {},
      "source": [
        "## 1) Indexing data (animals)\n",
        "We convert simple labeled records into embeddings and upsert to Pinecone. The classifier stores metadata (e.g., label, description).\n"
      ]
    },
    {
      "cell_type": "code",
      "execution_count": null,
      "metadata": {},
      "outputs": [],
      "source": [
        "import asyncio\n",
        "\n",
        "classifier = VectorClassifier({\n",
        "    \"pinecone\": {\n",
        "        \"apiKey\": PINECONE_API_KEY,\n",
        "        \"indexName\": PINECONE_INDEX_NAME,\n",
        "        \"metric\": \"cosine\",\n",
        "        \"namespace\": \"demo-sdk\",\n",
        "    },\n",
        "    \"embedding\": {\n",
        "        \"provider\": \"openai\",\n",
        "        \"model\": \"text-embedding-3-small\",\n",
        "        \"apiKey\": OPENAI_API_KEY,\n",
        "    },\n",
        "    \"defaults\": {\"topK\": 5, \"threshold\": 0.1, \"vote\": \"weighted\"},\n",
        "})\n",
        "\n",
        "async def index_animals():\n",
        "    records = [\n",
        "        {\"id\": \"1\", \"label\": \"Cat\", \"description\": \"Small domestic cat\", \"metadata\": {\"color\": \"gray\"}},\n",
        "        {\"id\": \"2\", \"label\": \"Dog\", \"description\": \"Friendly domestic dog\", \"metadata\": {\"size\": \"medium\"}},\n",
        "        {\"id\": \"3\", \"label\": \"Rabbit\", \"description\": \"Small herbivorous mammal\", \"metadata\": {\"color\": \"white\"}},\n",
        "    ]\n",
        "    stats = await classifier.index_data(records)\n",
        "    return stats\n",
        "\n",
        "asyncio.run(index_animals())\n"
      ]
    },
    {
      "cell_type": "markdown",
      "metadata": {},
      "source": [
        "## 2) Classifying data (basic usage)\n",
        "We embed a query and retrieve the nearest labeled records. The predicted label is voted from the top matches.\n"
      ]
    },
    {
      "cell_type": "code",
      "execution_count": null,
      "metadata": {},
      "outputs": [],
      "source": [
        "async def classify_query():\n",
        "    result = await classifier.classify({\"description\": \"Playful feline\"}, {\"topK\": 3, \"threshold\": 0.1})\n",
        "    return result\n",
        "\n",
        "asyncio.run(classify_query())\n"
      ]
    },
    {
      "cell_type": "markdown",
      "metadata": {},
      "source": [
        "## 3) Indexing images (PlantNet-like)\n",
        "For image modality, provide an image URL and switch the embedder provider to `hf` (Hugging Face) with an image-capable model, or keep `openai` if you use an image-embedding model. We store vectors with image metadata.\n"
      ]
    },
    {
      "cell_type": "code",
      "execution_count": null,
      "metadata": {},
      "outputs": [],
      "source": [
        "from vector_classifier import VectorClassifier as ImageClassifier\n",
        "\n",
        "image_classifier = ImageClassifier({\n",
        "    \"pinecone\": {\n",
        "        \"apiKey\": PINECONE_API_KEY,\n",
        "        \"indexName\": PINECONE_INDEX_NAME,\n",
        "        \"metric\": \"cosine\",\n",
        "        \"namespace\": \"demo-images\",\n",
        "    },\n",
        "    \"embedding\": {\n",
        "        # Switch to HF image model if desired, e.g., \"openai_clip-vit-base-patch32\"\n",
        "        \"provider\": os.getenv(\"IMG_EMBED_PROVIDER\", \"hf\"),\n",
        "        \"model\": os.getenv(\"IMG_EMBED_MODEL\", \"sentence-transformers/clip-ViT-B-32\"),\n",
        "        \"apiKey\": os.getenv(\"HUGGINGFACEHUB_API_TOKEN\", \"\"),\n",
        "        \"inputType\": \"image\",\n",
        "    },\n",
        "    \"defaults\": {\"topK\": 5, \"threshold\": 0.1, \"vote\": \"weighted\"},\n",
        "})\n",
        "\n",
        "async def index_images():\n",
        "    records = [\n",
        "        {\"id\": \"img1\", \"label\": \"daisy\", \"imageUrl\": \"https://images.plantnet.org/1.jpg\"},\n",
        "        {\"id\": \"img2\", \"label\": \"dandelion\", \"imageUrl\": \"https://images.plantnet.org/2.jpg\"},\n",
        "    ]\n",
        "    stats = await image_classifier.index_data(records)\n",
        "    return stats\n",
        "\n",
        "asyncio.run(index_images())\n"
      ]
    },
    {
      "cell_type": "markdown",
      "metadata": {},
      "source": [
        "## 4) Classifying images\n",
        "We embed a query image and retrieve nearest labeled images. The top matches suggest the predicted label.\n"
      ]
    },
    {
      "cell_type": "code",
      "execution_count": null,
      "metadata": {},
      "outputs": [],
      "source": [
        "async def classify_image():\n",
        "    q = {\"imageUrl\": os.getenv(\"TEST_IMAGE_URL\", \"https://images.plantnet.org/2.jpg\")}\n",
        "    result = await image_classifier.classify(q, {\"topK\": 3, \"threshold\": 0.1})\n",
        "    return result\n",
        "\n",
        "asyncio.run(classify_image())\n"
      ]
    },
    {
      "cell_type": "markdown",
      "metadata": {},
      "source": [
        "## 5) Indexing documents\n",
        "Use `RAGClient` and helpers to index a URL, a local file, or a GitHub repository. The content is chunked, embedded, and upserted.\n"
      ]
    },
    {
      "cell_type": "code",
      "execution_count": null,
      "metadata": {},
      "outputs": [],
      "source": [
        "from vector_classifier import RAGClient\n",
        "from vector_classifier.rag.index import index_url, index_file, index_github\n",
        "\n",
        "rag = RAGClient(\n",
        "    pinecone_api_key=PINECONE_API_KEY,\n",
        "    pinecone_index=PINECONE_INDEX_NAME,\n",
        "    embedding_provider=\"openai\",\n",
        "    embedding_model=\"text-embedding-3-small\",\n",
        ")\n",
        "\n",
        "async def index_docs_demo():\n",
        "    # Choose one of the following methods:\n",
        "    res1 = await index_url(rag, \"https://example.com\", tokens_per_chunk=1024)\n",
        "    # res2 = await index_file(rag, \"./README.md\", tokens_per_chunk=1024)\n",
        "    # res3 = await index_github(rag, \"https://github.com/owner/repo\", tokens_per_chunk=1024)\n",
        "    return res1\n",
        "\n",
        "asyncio.run(index_docs_demo())\n"
      ]
    },
    {
      "cell_type": "markdown",
      "metadata": {},
      "source": [
        "## 6) Querying documents (ai-sdk-python tools)\n",
        "We define two tools: `search_documents` (nearest neighbors) and `extract_content` (fetch chunk content). Then we let the model decide when to call them.\n"
      ]
    },
    {
      "cell_type": "code",
      "execution_count": null,
      "metadata": {},
      "outputs": [],
      "source": [
        "from ai_sdk import generate_text, openai, tool, embed_many\n",
        "from pydantic import BaseModel, Field\n",
        "from pinecone import Pinecone, ServerlessSpec\n",
        "\n",
        "# Ensure Pinecone index exists (auto-create default if missing)\n",
        "pc = Pinecone(api_key=PINECONE_API_KEY)\n",
        "idx_name = PINECONE_INDEX_NAME or \"vcp-1536-cosine\"\n",
        "existing = pc.list_indexes()\n",
        "if not any(i.name == idx_name for i in (existing.indexes or [])):\n",
        "    pc.create_index(name=idx_name, dimension=1536, metric=\"cosine\", spec=ServerlessSpec(cloud=\"aws\", region=\"us-east-1\"))\n",
        "index = pc.Index(idx_name)\n",
        "\n",
        "embed_model = openai.embedding(\"text-embedding-3-small\")\n",
        "\n",
        "def _embed_query(text: str):\n",
        "    r = embed_many(model=embed_model, values=[text])\n",
        "    return list(r.embeddings[0])\n",
        "\n",
        "class SearchParams(BaseModel):\n",
        "    query: str\n",
        "    top_k: int = Field(8, ge=1, le=200)\n",
        "    sources: list[str] | None = None\n",
        "    threshold: float | None = Field(None, ge=0.0, le=1.0)\n",
        "\n",
        "def _exec_search_documents(query: str, top_k: int = 8, sources: list[str] | None = None, threshold: float | None = None) -> dict:\n",
        "    vec = _embed_query(query)\n",
        "    flt = {\"sourceUrl\": {\"$in\": sources}} if sources else None\n",
        "    res = index.query(top_k=top_k, vector=vec, include_metadata=True, include_values=False, filter=flt)\n",
        "    out = []\n",
        "    for m in (res.matches or []):\n",
        "        score = float(getattr(m, \"score\", 0.0) or 0.0)\n",
        "        if threshold is not None and score < threshold:\n",
        "            continue\n",
        "        md = getattr(m, \"metadata\", {}) or {}\n",
        "        out.append({\"id\": m.id, \"score\": score, \"chunk\": {\"id\": m.id, \"sourceUrl\": md.get(\"sourceUrl\"), \"sourcePath\": md.get(\"sourcePath\"), \"sourceTitle\": md.get(\"sourceTitle\")}})\n",
        "    return {\"results\": out, \"totalResults\": len(out)}\n",
        "\n",
        "class ExtractParams(BaseModel):\n",
        "    url: str\n",
        "    chunk_id: str | None = None\n",
        "    include_all_chunks: bool = False\n",
        "    chunk_ids: list[str] | None = None\n",
        "\n",
        "def _exec_extract_content(url: str, chunk_id: str | None = None, include_all_chunks: bool = False, chunk_ids: list[str] | None = None) -> dict:\n",
        "    ids: list[str] = []\n",
        "    if chunk_id:\n",
        "        ids = [chunk_id]\n",
        "    elif include_all_chunks and chunk_ids:\n",
        "        ids = list(chunk_ids)\n",
        "    if not ids:\n",
        "        vec = _embed_query(url)\n",
        "        qr = index.query(top_k=100, vector=vec, include_metadata=True, filter={\"sourceUrl\": url})\n",
        "        ids = [m.id for m in (qr.matches or [])]\n",
        "    if not ids:\n",
        "        return {\"chunks\": []}\n",
        "    fetched = index.fetch(ids=ids)\n",
        "    vectors = getattr(fetched, \"vectors\", {}) or {}\n",
        "    chunks = []\n",
        "    for cid in ids:\n",
        "        v = vectors.get(cid)\n",
        "        if not v:\n",
        "            continue\n",
        "        md = getattr(v, \"metadata\", None) or {}\n",
        "        chunks.append({\"id\": cid, \"content\": md.get(\"content\"), \"sourceUrl\": md.get(\"sourceUrl\"), \"sourcePath\": md.get(\"sourcePath\"), \"sourceTitle\": md.get(\"sourceTitle\")})\n",
        "    return {\"chunks\": chunks}\n",
        "\n",
        "# Convert Pydantic models to JSON schema for the tool helper\n",
        "try:\n",
        "    search_schema = SearchParams.model_json_schema()\n",
        "    extract_schema = ExtractParams.model_json_schema()\n",
        "except Exception:\n",
        "    search_schema = SearchParams.schema()\n",
        "    extract_schema = ExtractParams.schema()\n",
        "\n",
        "search_tool = tool(name=\"search_documents\", description=\"Search indexed documents\", parameters=search_schema, execute=_exec_search_documents)\n",
        "extract_tool = tool(name=\"extract_content\", description=\"Extract chunk content\", parameters=extract_schema, execute=_exec_extract_content)\n",
        "\n",
        "model = openai(\"gpt-4o-mini\")\n",
        "prompt = (\n",
        "    \"You can search a documentation corpus. \"\n",
        "    \"1) Use search_documents to find relevant chunks about 'Example'. \"\n",
        "    \"2) Call extract_content for the best chunk to cite exact text. Answer briefly.\"\n",
        ")\n",
        "res = generate_text(model=model, prompt=prompt, tools=[search_tool, extract_tool])\n",
        "print(res.text)\n"
      ]
    }
  ],
  "metadata": {
    "kernelspec": {
      "display_name": "Python 3",
      "language": "python",
      "name": "python3"
    },
    "language_info": {
      "codemirror_mode": {
        "name": "ipython",
        "version": 3
      },
      "file_extension": ".py",
      "mimetype": "text/x-python",
      "name": "python",
      "nbconvert_exporter": "python",
      "pygments_lexer": "ipython3",
      "version": "3.13.3"
    }
  },
  "nbformat": 4,
  "nbformat_minor": 2
}
