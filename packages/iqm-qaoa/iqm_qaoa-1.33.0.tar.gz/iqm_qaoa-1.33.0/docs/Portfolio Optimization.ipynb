{
 "cells": [
  {
   "cell_type": "markdown",
   "id": "2a9b1684-e814-4a04-ac3f-6013ad72f319",
   "metadata": {},
   "source": [
    "# Portfolio Optimization\n",
    "\n",
    "The purpose of this notebook is to showcase the QAOA library working from the problem definition all the way to execution on a real hardware.\n",
    "\n",
    "In particular, here we use QAOA to solve a particular instance of portfolio optimization."
   ]
  },
  {
   "cell_type": "markdown",
   "id": "02f90aed-089e-443f-a6f8-60def2b32c73",
   "metadata": {},
   "source": [
    "First, we describe the problem: we have `n_assets` assets, each with an `expected_return`. The variable containing the covariances and variances is called `cov_mat`. The goal is to choose a set of assets which maximize the yield, while minimizing the covariance, weighted by the investor's `risk_aversion` (the higher, the more likely the investor is to avoid risk). The `budget` says how many assets we can buy."
   ]
  },
  {
   "cell_type": "code",
   "execution_count": null,
   "id": "1296fae9-eba8-4e3c-97ad-31ea1f07ceb3",
   "metadata": {},
   "outputs": [],
   "source": [
    "import numpy as np\n",
    "\n",
    "n_assets = 7\n",
    "expected_return = [0.9, 1.1, 1.2, 0.7, 1.5, 1.8, 1.1]\n",
    "rng = np.random.default_rng()\n",
    "A = rng.standard_normal((n_assets, n_assets))\n",
    "cov_matrix = A @ A.T\n",
    "risk_aversion = 2.0\n",
    "budget = 3"
   ]
  },
  {
   "cell_type": "markdown",
   "id": "69ff2c15-ccad-48e7-ac2c-63f6981566f3",
   "metadata": {},
   "source": [
    "Within the QAOA library, quadratic binary optimization problems are represented as objects of `BinaryQuadraticModel` or `ConstrainedQuadraticModel` from the `dimod` package ([read more about the models here](https://docs.dwavequantum.com/en/latest/ocean/api_ref_dimod/models.html#)).\n",
    "\n",
    "In order to define a custom constrained problem in our QAOA library (`ConstrainedQuadraticInstance`), we need to create a custom object of `ConstrainedQuadraticModel`, by defining the objective and the constraint.\n",
    "\n",
    "The objective is the expected return minus the variance of the portfolio weighted by the risk aversion.\n",
    "\n",
    "The constraint has the identity matrix on the left-hand side (i.e., the number of selected assets) and the budget on the right-hand side."
   ]
  },
  {
   "cell_type": "code",
   "execution_count": null,
   "id": "d94df1fa-7fa0-42c6-96fc-c9503ebf5fd8",
   "metadata": {},
   "outputs": [],
   "source": [
    "from dimod import BinaryQuadraticModel, ConstrainedQuadraticModel\n",
    "\n",
    "my_cqm = ConstrainedQuadraticModel()\n",
    "objective = -np.diag(expected_return) + risk_aversion * cov_matrix\n",
    "my_cqm.set_objective(BinaryQuadraticModel(objective, \"BINARY\"))\n",
    "my_cqm.add_constraint_from_model(qm=BinaryQuadraticModel(np.eye(n_assets), \"BINARY\"), sense=\"==\", rhs=budget)\n",
    "\n",
    "from iqm.applications.qubo import ConstrainedQuadraticInstance\n",
    "\n",
    "# The penalty magnitude here is chosen arbitrarily.\n",
    "# There are rigorous way to find the \"best\" penalty, but we don't get into it here.\n",
    "my_problem = ConstrainedQuadraticInstance(my_cqm, penalty=1)"
   ]
  },
  {
   "cell_type": "markdown",
   "id": "eb6eb9b6-6097-4ee9-ad7e-1b0e9882bcb2",
   "metadata": {},
   "source": [
    "In the following, we set up the connection to Resonance and define a simulator backend of the Garnet QPU.\n",
    "\n",
    "Note: in general, you also need to specify the 'usage mode'. For running on a real machine (in pay-as-you-go usage mode), the url would change to https://cocos.resonance.meetiqm.com/garnet. For a specific timeslot the url would change to https://cocos.resonance.meetiqm.com/garnet:timeslot"
   ]
  },
  {
   "cell_type": "code",
   "execution_count": null,
   "id": "615aa00a-25d4-4972-9b46-0a55f9497155",
   "metadata": {},
   "outputs": [],
   "source": [
    "import os\n",
    "\n",
    "SERVER_URL = os.environ.get(\"IQM_RESONANCE_URL_CRYSTAL\", \"https://cocos.resonance.meetiqm.com/garnet:mock\")\n",
    "# If the token isn't saved in the environment, replace this by the token as a string.\n",
    "API_TOKEN = os.environ.get(\"IQM_RESONANCE_API_TOKEN\")\n",
    "\n",
    "from iqm.qaoa.backends import SamplerResonance\n",
    "\n",
    "backend = SamplerResonance(token=API_TOKEN, server_url=SERVER_URL, transpiler=\"HardwiredTranspiler\")"
   ]
  },
  {
   "cell_type": "markdown",
   "id": "215d5eb2-0efd-4567-98f3-40ce1b8d76ec",
   "metadata": {},
   "source": [
    "Create the QUBO QAOA instance from the problem instance and train it. The `train` method has several possible parameters, but here the default setting is used (which uses analytical formulas since the QAOA has one layer)."
   ]
  },
  {
   "cell_type": "code",
   "execution_count": null,
   "id": "1db33c01-039b-4938-a4eb-7535c55ddada",
   "metadata": {},
   "outputs": [],
   "source": [
    "from iqm.qaoa.qubo_qaoa import QUBOQAOA\n",
    "\n",
    "my_qaoa = QUBOQAOA(problem=my_problem, num_layers=1, initial_angles=[0.1, 0.2])\n",
    "my_qaoa.train()"
   ]
  },
  {
   "cell_type": "markdown",
   "id": "09c29a73-92ac-4965-bf65-c77f6780515a",
   "metadata": {},
   "source": [
    "Sample for a solution from the QAOA and post-process the result (removing the samples violating the constraint). The `sample` method of `my_qaoa` typically expects a number of shots. By omitting this parameter, it defaults to 20 000, the default maximum number on Resonance. The format of the samples is a dictionary whose keys are bitstrings (the individual samples that were taken) and whose values are integers (the number of times each sample was taken)."
   ]
  },
  {
   "cell_type": "code",
   "execution_count": null,
   "id": "174b7584-8e35-4d7f-9dad-4317d9c222a6",
   "metadata": {},
   "outputs": [],
   "source": [
    "my_samples = my_qaoa.sample(sampler=backend)\n",
    "my_samples_filtered = my_problem.satisfy_constraints(my_samples)\n",
    "print(\"Number of satisfying samples:\", sum(my_samples_filtered.values()))"
   ]
  },
  {
   "cell_type": "markdown",
   "id": "97d95bf1",
   "metadata": {},
   "source": [
    "We may now examine the found solutions."
   ]
  },
  {
   "cell_type": "code",
   "execution_count": null,
   "id": "2bb693ee",
   "metadata": {},
   "outputs": [],
   "source": [
    "# Calculate the objective function of all found solutions\n",
    "samples_objective = {sample: my_problem.quality(sample) for sample in my_samples_filtered}\n",
    "\n",
    "# Find the sample with the best quality\n",
    "best_sample = max(samples_objective, key=lambda x: samples_objective[x])\n",
    "\n",
    "# Find the best quality\n",
    "best_quality = samples_objective[best_sample]\n",
    "\n",
    "# Compute the weighted average quality\n",
    "average_quality = my_problem.average_quality_counts(my_samples_filtered)\n",
    "\n",
    "print(\"Best found sample:\", best_sample)\n",
    "print(\"Best sample quality:\", best_quality)\n",
    "print(\"Average feasible sample quality:\", average_quality)"
   ]
  }
 ],
 "metadata": {
  "kernelspec": {
   "display_name": "Python 3 (ipykernel)",
   "language": "python",
   "name": "python3"
  },
  "language_info": {
   "codemirror_mode": {
    "name": "ipython",
    "version": 3
   },
   "file_extension": ".py",
   "mimetype": "text/x-python",
   "name": "python",
   "nbconvert_exporter": "python",
   "pygments_lexer": "ipython3",
   "version": "3.11.9"
  }
 },
 "nbformat": 4,
 "nbformat_minor": 5
}
