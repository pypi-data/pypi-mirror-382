{
 "cells": [
  {
   "cell_type": "markdown",
   "id": "2a9b1684-e814-4a04-ac3f-6013ad72f319",
   "metadata": {},
   "source": [
    "# SK Model and Transpilation\n",
    "\n",
    "The purpose of this notebook is to showcase the QAOA library working from the problem definition all the way to execution on a real hardware.\n",
    "\n",
    "In particular, here we use QAOA to solve an instance of the Sherrington-Kirkpatrick (SK) model, a very densely connected problem, to illustrate the advantage of using our custom transpiler over the Qiskit default transpiler."
   ]
  },
  {
   "cell_type": "code",
   "execution_count": null,
   "id": "3d8b39d7-77ef-403d-854b-13d1cb36ff48",
   "metadata": {},
   "outputs": [],
   "source": [
    "from iqm.applications.sk import sk_generator\n",
    "from iqm.qaoa.circuits import qiskit_circuit, transpiled_circuit\n",
    "from iqm.qaoa.qubo_qaoa import QUBOQAOA\n",
    "from iqm.qiskit_iqm import IQMProvider\n",
    "from qiskit_aer import AerSimulator"
   ]
  },
  {
   "cell_type": "markdown",
   "id": "02f90aed-089e-443f-a6f8-60def2b32c73",
   "metadata": {},
   "source": [
    "The SK model describes a number of binary variables, every pair of which interacts with a random interaction strength. We will solve a problem of size `problem_size`, i.e., this will be the number of binary variables and also the number of qubits that we use. The number of `shots` is set to default maximum on Resonance."
   ]
  },
  {
   "cell_type": "code",
   "execution_count": null,
   "id": "1296fae9-eba8-4e3c-97ad-31ea1f07ceb3",
   "metadata": {},
   "outputs": [],
   "source": [
    "problem_size = 6\n",
    "shots = 20000"
   ]
  },
  {
   "cell_type": "markdown",
   "id": "69ff2c15-ccad-48e7-ac2c-63f6981566f3",
   "metadata": {},
   "source": [
    "We create an instance of the SK model of size `problem_size`. We specify the random distribution of the interactions between the variables to be \"gaussian\" (with mean 0 and variance 1). A few other distributions are possible (e.g., \"uniform\" or \"rademacher\").\n",
    "\n",
    "We print out the largest, lowest and average energy of the model, calculated by brute-forcing over all possible bitstrings of length `problem_size`. This may be slow if `problem_size` has been set higher than ~30."
   ]
  },
  {
   "cell_type": "code",
   "execution_count": null,
   "id": "d94df1fa-7fa0-42c6-96fc-c9503ebf5fd8",
   "metadata": {},
   "outputs": [],
   "source": [
    "my_sk_problem = next(sk_generator(n=problem_size, n_instances=1, distribution=\"gaussian\"))\n",
    "print(\"Problem upper bound: \", my_sk_problem.upper_bound)\n",
    "print(\"Problem lower bound: \", my_sk_problem.lower_bound)\n",
    "print(\"Problem average energy: \", my_sk_problem.average_quality)"
   ]
  },
  {
   "cell_type": "markdown",
   "id": "eb6eb9b6-6097-4ee9-ad7e-1b0e9882bcb2",
   "metadata": {},
   "source": [
    "In the following, we set up the connection to Resonance and define a simulator backend of the Garnet QPU.\n",
    "\n",
    "Note: in general, you also need to specify the 'usage mode'. For running on a real machine (in pay-as-you-go usage mode), the url would change to https://cocos.resonance.meetiqm.com/garnet. For a specific timeslot the url would change to https://cocos.resonance.meetiqm.com/garnet:timeslot"
   ]
  },
  {
   "cell_type": "code",
   "execution_count": null,
   "id": "615aa00a-25d4-4972-9b46-0a55f9497155",
   "metadata": {},
   "outputs": [],
   "source": [
    "import os\n",
    "\n",
    "SERVER_URL = os.environ.get(\"IQM_RESONANCE_URL_CRYSTAL\", \"https://cocos.resonance.meetiqm.com/garnet:mock\")\n",
    "# If the token isn't saved in the environment, replace this by the token as a string.\n",
    "API_TOKEN = os.environ.get(\"IQM_RESONANCE_API_TOKEN\")\n",
    "iqm_backend = IQMProvider(SERVER_URL, token=API_TOKEN).get_backend()\n",
    "simulator = AerSimulator(method=\"statevector\")"
   ]
  },
  {
   "cell_type": "markdown",
   "id": "215d5eb2-0efd-4567-98f3-40ce1b8d76ec",
   "metadata": {},
   "source": [
    "Create the QUBO QAOA instance from the problem instance, train it and then construct the QAOA circuits using 4 different methods:\n",
    "* The perfect circuit without any transpilation.\n",
    "* The circuit transpiled for IQM hardware, using Qiskit default transpilation function.\n",
    "* The circuit transpiled for IQM hardware, using our custom transpiler.\n",
    "* The circuit transpiled for IQM hardware, using the swap network strategy.\n",
    "\n",
    "The `train` method has several possible parameters, but here the default setting is used (which uses analytical formulas since the QAOA has one layer)."
   ]
  },
  {
   "cell_type": "code",
   "execution_count": null,
   "id": "1db33c01-039b-4938-a4eb-7535c55ddada",
   "metadata": {},
   "outputs": [],
   "source": [
    "my_qaoa = QUBOQAOA(problem=my_sk_problem, num_layers=1, initial_angles=[0.1, 0.2])\n",
    "my_qaoa.train()\n",
    "\n",
    "qc_perfect = qiskit_circuit(my_qaoa, measurements=True)\n",
    "\n",
    "qc_default = transpiled_circuit(my_qaoa, backend=iqm_backend, transpiler=\"Default\")\n",
    "\n",
    "qc_hw = transpiled_circuit(my_qaoa, backend=iqm_backend, transpiler=\"HardwiredTranspiler\")\n",
    "\n",
    "qc_sn = transpiled_circuit(my_qaoa, backend=iqm_backend, transpiler=\"SwapNetwork\")"
   ]
  },
  {
   "cell_type": "markdown",
   "id": "09c29a73-92ac-4965-bf65-c77f6780515a",
   "metadata": {},
   "source": [
    "Run the perfect circuit on perfect (noiseless simulator), print out the average energy of the samples."
   ]
  },
  {
   "cell_type": "code",
   "execution_count": null,
   "id": "fecba204-fb3f-41e6-80fd-4e3affa9801a",
   "metadata": {},
   "outputs": [],
   "source": [
    "job_perfect = simulator.run(qc_default, shots=shots)\n",
    "\n",
    "result_dict_perfect = job_perfect.result().get_counts()\n",
    "print(\"Energy of the samples: \", my_sk_problem.average_quality_counts(result_dict_perfect))"
   ]
  },
  {
   "cell_type": "markdown",
   "id": "7cfc166d-148a-40ea-9697-6b24f2f1fcb5",
   "metadata": {},
   "source": [
    "Run the Qiskit-transpiled circuit on our hardware, print out the average energy of the samples and the number of gates used."
   ]
  },
  {
   "cell_type": "code",
   "execution_count": null,
   "id": "feb7ef3f-9273-4266-b30e-8cc5e458d8f3",
   "metadata": {},
   "outputs": [],
   "source": [
    "job_default = iqm_backend.run(qc_default, shots=shots)\n",
    "\n",
    "result_dict_default = job_default.result().get_counts()\n",
    "print(\"Energy of the samples: \", my_sk_problem.average_quality_counts(result_dict_default))\n",
    "print(\"Gates in the circuit: \", qc_default.count_ops())"
   ]
  },
  {
   "cell_type": "markdown",
   "id": "cf1b170c-d2cf-4c42-ba27-b506060b4c17",
   "metadata": {},
   "source": [
    "Run the custom-transpiled circuit on our hardware, print out the average energy of the samples and the number of gates used."
   ]
  },
  {
   "cell_type": "code",
   "execution_count": null,
   "id": "cca0aff9-8541-4c36-98c8-d5fc14749a52",
   "metadata": {},
   "outputs": [],
   "source": [
    "job_hw = iqm_backend.run(qc_hw, shots=shots)\n",
    "\n",
    "result_dict_hw = job_hw.result().get_counts()\n",
    "print(\"Energy of the samples: \", my_sk_problem.average_quality_counts(result_dict_hw))\n",
    "print(\"Gates in the circuit: \", qc_hw.count_ops())"
   ]
  },
  {
   "cell_type": "markdown",
   "id": "60e0ee26-4f1e-4970-9171-dd23d3f06fe8",
   "metadata": {},
   "source": [
    "Run the swap-network-transpiled circuit on our hardware, print out the average energy of the samples and the number of gates used."
   ]
  },
  {
   "cell_type": "code",
   "execution_count": null,
   "id": "975c7334-3ced-412b-a655-cff161a24239",
   "metadata": {},
   "outputs": [],
   "source": [
    "job_sn = iqm_backend.run(qc_sn, shots=shots)\n",
    "\n",
    "result_dict_sn = job_sn.result().get_counts()\n",
    "print(\"Energy of the samples: \", my_sk_problem.average_quality_counts(result_dict_sn))\n",
    "print(\"Gates in the circuit: \", qc_sn.count_ops())"
   ]
  },
  {
   "cell_type": "markdown",
   "id": "17b1926b",
   "metadata": {},
   "source": [
    "If everything went as expected, the hardwired transpiler and the swap network transpiler should perform better than the `qiskit` default transpiler. The hardwired transpiler minimizes the number of 2QB gates used whereas the swap network transpiler minimizes the overall depth of the circuit. Based on the average energy obtained with the two approaches, we can judge which is better for our hardware (and this particular problem size)."
   ]
  }
 ],
 "metadata": {
  "kernelspec": {
   "display_name": "Python 3 (ipykernel)",
   "language": "python",
   "name": "python3"
  },
  "language_info": {
   "codemirror_mode": {
    "name": "ipython",
    "version": 3
   },
   "file_extension": ".py",
   "mimetype": "text/x-python",
   "name": "python",
   "nbconvert_exporter": "python",
   "pygments_lexer": "ipython3",
   "version": "3.11.9"
  }
 },
 "nbformat": 4,
 "nbformat_minor": 5
}
