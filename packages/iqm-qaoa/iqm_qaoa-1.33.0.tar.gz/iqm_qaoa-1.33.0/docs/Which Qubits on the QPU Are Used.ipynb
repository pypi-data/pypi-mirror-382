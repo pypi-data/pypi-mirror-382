{
 "cells": [
  {
   "cell_type": "markdown",
   "id": "26e3d208",
   "metadata": {},
   "source": [
    "# Which Qubits on the QPU Are Used?\n",
    "\n",
    "We start by defining the problem with `maxcut_generator`, the QAOA and training it. It's a simple 3-regular maxcut and single-layer QAOA, so the training is easy. The details are not important in this notebook."
   ]
  },
  {
   "cell_type": "code",
   "execution_count": null,
   "id": "8cb2a681",
   "metadata": {},
   "outputs": [],
   "source": [
    "from iqm.applications.maxcut import maxcut_generator\n",
    "from iqm.qaoa.qubo_qaoa import QUBOQAOA\n",
    "\n",
    "problem_size = 10\n",
    "my_maxcut_problem = next(maxcut_generator(n=problem_size, n_instances=1, graph_family=\"regular\", d=3, seed = 1))\n",
    "my_qaoa = QUBOQAOA(problem=my_maxcut_problem, num_layers=1, initial_angles=[0.1, 0.2])\n",
    "my_qaoa.train()"
   ]
  },
  {
   "cell_type": "markdown",
   "id": "81f2fcfb",
   "metadata": {},
   "source": [
    "Next, we define the backend we're going to use. This is important here because the backend contains information about the QPU topology."
   ]
  },
  {
   "cell_type": "code",
   "execution_count": null,
   "id": "e1209786",
   "metadata": {},
   "outputs": [],
   "source": [
    "import os\n",
    "\n",
    "from iqm.qiskit_iqm.iqm_provider import IQMProvider\n",
    "\n",
    "API_TOKEN = os.environ.get(\"IQM_RESONANCE_API_TOKEN\")\n",
    "# Real garnet is used here, but it's only used to get the QPU topology.\n",
    "SERVER_URL_CRYSTAL = \"https://cocos.resonance.meetiqm.com/garnet\"\n",
    "iqm_backend = IQMProvider(SERVER_URL_CRYSTAL, token=API_TOKEN).get_backend()"
   ]
  },
  {
   "cell_type": "markdown",
   "id": "e1cb2dba",
   "metadata": {},
   "source": [
    "Transpile the circuit using the `SparseTranspiler` and fit it roughly onto the QPU."
   ]
  },
  {
   "cell_type": "code",
   "execution_count": null,
   "id": "db2e1117",
   "metadata": {},
   "outputs": [],
   "source": [
    "from iqm.qaoa.circuits import transpiled_circuit\n",
    "\n",
    "qc1 = transpiled_circuit(qaoa = my_qaoa, backend = iqm_backend, transpiler = \"SparseTranspiler\", seed = 1337)"
   ]
  },
  {
   "cell_type": "markdown",
   "id": "c8a170bb",
   "metadata": {},
   "source": [
    "Now we inspect which physical qubits the circuit has been placed onto."
   ]
  },
  {
   "cell_type": "code",
   "execution_count": null,
   "id": "c77b6f86",
   "metadata": {},
   "outputs": [],
   "source": [
    "import matplotlib.pyplot as plt\n",
    "import networkx as nx\n",
    "\n",
    "log_to_phys_dict = qc1.layout.final_layout.get_virtual_bits()\n",
    "# \"ancilla\" is the default name of the quantum register added to increase the number of qubits to match the QPU\n",
    "active_qubits = [log_to_phys_dict[qb] for qb in log_to_phys_dict if qb._register.name != \"ancilla\"]\n",
    "\n",
    "# We import the function to change rustworkx graph to networkx graph\n",
    "from iqm.qaoa.transpiler.rx_to_nx import rustworkx_to_networkx\n",
    "\n",
    "coupling_map_nx = rustworkx_to_networkx(iqm_backend.coupling_map.graph).to_undirected()\n",
    "\n",
    "\n",
    "pos = nx.kamada_kawai_layout(coupling_map_nx)\n",
    "# Draw all nodes\n",
    "nx.draw_networkx_nodes(coupling_map_nx, pos, node_color=\"lightgray\", node_size=500)\n",
    "# Highlight specific nodes\n",
    "nx.draw_networkx_nodes(coupling_map_nx, pos, nodelist=active_qubits, node_color=\"orange\", node_size=500)\n",
    "# Draw edges and labels\n",
    "nx.draw_networkx_edges(coupling_map_nx, pos)\n",
    "nx.draw_networkx_labels(coupling_map_nx, pos)\n",
    "\n",
    "plt.title(\"Used qubits\")\n",
    "plt.axis(\"off\")\n",
    "plt.show()"
   ]
  },
  {
   "cell_type": "markdown",
   "id": "535b0772",
   "metadata": {},
   "source": [
    "We can also explicitly specify which qubits we want the circuit placed onto. We do this by providing the transpiler with `initial_layout`.\n",
    "\n",
    "The initial layout needs to correspond to the logical qubits in the routed circuit, so we start with that. For that we need to create the routed circuit (using our sparse / greedy router) and then construct its interaction graph."
   ]
  },
  {
   "cell_type": "code",
   "execution_count": null,
   "id": "d5e19b3c",
   "metadata": {},
   "outputs": [],
   "source": [
    "from iqm.qaoa.transpiler.quantum_hardware import CrystalQPUFromBackend\n",
    "from iqm.qaoa.transpiler.sparse.greedy_router import greedy_router\n",
    "\n",
    "qpu = CrystalQPUFromBackend(iqm_backend)  # Extract the QPU topology from the backend.\n",
    "routed = greedy_router(my_qaoa.bqm, qpu)  # Perform the greedy routing on the QPU topology.\n",
    "qc_sparse = routed.build_qiskit(my_qaoa.betas, my_qaoa.gammas)  # Build a circuit from the routing.\n",
    "\n",
    "int_graph = nx.Graph()\n",
    "\n",
    "for qubit in qc_sparse.qubits:\n",
    "    int_graph.add_node(qubit._index)  # We want nodes labelled by qubit indices (integers), not by qubits themselves.\n",
    "\n",
    "for instruction, qargs, _ in qc_sparse.data:\n",
    "    if instruction.name in {\"swap\", \"rzz\"}:  # Add all 2-qubit gates as edges in the graph\n",
    "        q1, q2 = qargs\n",
    "        int_graph.add_edge(q1._index, q2._index)\n",
    "\n",
    "\n",
    "nx.draw(int_graph, with_labels=True, node_color=\"lightblue\", node_size=1500, font_size=15)\n",
    "plt.show()"
   ]
  },
  {
   "cell_type": "markdown",
   "id": "82b0e01e",
   "metadata": {},
   "source": [
    "We use the interaction graph with the node indices to inform the `initial_layout` for the transpilation."
   ]
  },
  {
   "cell_type": "code",
   "execution_count": null,
   "id": "65c1b16c",
   "metadata": {},
   "outputs": [],
   "source": [
    "our_layout =  [10, 15, 4, 9, 14, 18, 3, 8, 13, 17]\n",
    "qc2 = transpiled_circuit(qaoa = my_qaoa,\n",
    "                         backend = iqm_backend,\n",
    "                         transpiler = \"SparseTranspiler\",\n",
    "                         seed = 1337,\n",
    "                         initial_layout = our_layout\n",
    "                         )\n",
    "\n",
    "log_to_phys_dict = qc2.layout.final_layout.get_virtual_bits()\n",
    "# \"ancilla\" is the default name of the quantum register added to increase the number of qubits to match the QPU\n",
    "active_qubits = [log_to_phys_dict[qb] for qb in log_to_phys_dict if qb._register.name != \"ancilla\"]\n",
    "\n",
    "# We import the function to change rustworkx graph to networkx graph\n",
    "from iqm.qaoa.transpiler.rx_to_nx import rustworkx_to_networkx\n",
    "\n",
    "coupling_map_nx = rustworkx_to_networkx(iqm_backend.coupling_map.graph).to_undirected()\n",
    "\n",
    "\n",
    "pos = nx.kamada_kawai_layout(coupling_map_nx)\n",
    "# Draw all nodes\n",
    "nx.draw_networkx_nodes(coupling_map_nx, pos, node_color=\"lightgray\", node_size=500)\n",
    "# Highlight specific nodes\n",
    "nx.draw_networkx_nodes(coupling_map_nx, pos, nodelist=active_qubits, node_color=\"orange\", node_size=500)\n",
    "# Draw edges and labels\n",
    "nx.draw_networkx_edges(coupling_map_nx, pos)\n",
    "nx.draw_networkx_labels(coupling_map_nx, pos)\n",
    "\n",
    "plt.title(\"Used qubits\")\n",
    "plt.axis(\"off\")\n",
    "plt.show()"
   ]
  },
  {
   "cell_type": "markdown",
   "id": "75397119",
   "metadata": {},
   "source": [
    "Providing an `initial_layout` that doesn't satisfy the topology of the interaction graph gives an error."
   ]
  },
  {
   "cell_type": "code",
   "execution_count": null,
   "id": "0dc16d11",
   "metadata": {},
   "outputs": [],
   "source": [
    "try:\n",
    "    # The first logical qubit is assigned to physical qubit 6. The rest is the same as above\n",
    "    wrong_layout =  [6, 15, 4, 9, 14, 18, 3, 8, 13, 17]\n",
    "    qc3 = transpiled_circuit(qaoa = my_qaoa,\n",
    "                             backend = iqm_backend,\n",
    "                             transpiler = \"SparseTranspiler\",\n",
    "                             seed = 1337,\n",
    "                             initial_layout = wrong_layout\n",
    "                             )\n",
    "except Exception as e:\n",
    "    print(f\"An error occurred: {type(e).__name__} - {e}\")"
   ]
  }
 ],
 "metadata": {
  "kernelspec": {
   "display_name": "Python 3 (ipykernel)",
   "language": "python",
   "name": "python3"
  },
  "language_info": {
   "codemirror_mode": {
    "name": "ipython",
    "version": 3
   },
   "file_extension": ".py",
   "mimetype": "text/x-python",
   "name": "python",
   "nbconvert_exporter": "python",
   "pygments_lexer": "ipython3",
   "version": "3.11.13"
  }
 },
 "nbformat": 4,
 "nbformat_minor": 5
}
