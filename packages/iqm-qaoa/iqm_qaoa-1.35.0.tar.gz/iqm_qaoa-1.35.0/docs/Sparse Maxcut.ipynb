{
 "cells": [
  {
   "cell_type": "markdown",
   "id": "2a9b1684-e814-4a04-ac3f-6013ad72f319",
   "metadata": {},
   "source": [
    "# Sparse Maxcut\n",
    "\n",
    "The purpose of this notebook is to showcase the QAOA library working from the problem definition all the way to execution on a real hardware.\n",
    "\n",
    "In particular, here we use QAOA to solve an instance of a random sparsely-connected max-cut problem."
   ]
  },
  {
   "cell_type": "code",
   "execution_count": null,
   "id": "3d8b39d7-77ef-403d-854b-13d1cb36ff48",
   "metadata": {},
   "outputs": [],
   "source": [
    "from iqm.applications.maxcut import maxcut_generator\n",
    "from iqm.qaoa.backends import EstimatorFromSampler, SamplerResonance\n",
    "from iqm.qaoa.qubo_qaoa import QUBOQAOA"
   ]
  },
  {
   "cell_type": "markdown",
   "id": "02f90aed-089e-443f-a6f8-60def2b32c73",
   "metadata": {},
   "source": [
    "Maxcut is a graph problem, but internally the QAOA library converts it to a quadratic binary optimization problem (QUBO). We will solve a problem of size `problem_size`, i.e., this will be the size of the graph, the number of binary variables and also the number of qubits that we use. The number of `shots` is set to default maximum on Resonance."
   ]
  },
  {
   "cell_type": "code",
   "execution_count": null,
   "id": "1296fae9-eba8-4e3c-97ad-31ea1f07ceb3",
   "metadata": {},
   "outputs": [],
   "source": [
    "problem_size = 14\n",
    "shots = 20000"
   ]
  },
  {
   "cell_type": "markdown",
   "id": "69ff2c15-ccad-48e7-ac2c-63f6981566f3",
   "metadata": {},
   "source": [
    "We create an instance of the max-cut problem of size `problem_size`, on a 3-regular random graph.\n",
    "We print out the largest, lowest and average energy of the model, calculated by brute-forcing over all possible bitstrings of length `problem_size`. This may be slow if `problem_size` has been set higher than ~30."
   ]
  },
  {
   "cell_type": "code",
   "execution_count": null,
   "id": "d94df1fa-7fa0-42c6-96fc-c9503ebf5fd8",
   "metadata": {},
   "outputs": [],
   "source": [
    "my_maxcut_problem = next(maxcut_generator(n=problem_size, n_instances=1, graph_family=\"regular\", d=3))\n",
    "print(\"Problem upper bound: \", my_maxcut_problem.upper_bound)\n",
    "print(\"Problem lower bound: \", my_maxcut_problem.lower_bound)\n",
    "print(\"Problem average energy: \", my_maxcut_problem.average_quality)"
   ]
  },
  {
   "cell_type": "markdown",
   "id": "eb6eb9b6-6097-4ee9-ad7e-1b0e9882bcb2",
   "metadata": {},
   "source": [
    "In the following, we set up the connection to Resonance and define a simulator backend of the Garnet and Sirius QPUs. We will run the QAOA on both and compare the results.\n",
    "\n",
    "Note: in general, you also need to specify the 'usage mode'. For running on a real machine (in pay-as-you-go usage mode), the url would change to https://cocos.resonance.meetiqm.com/garnet. For a specific timeslot the url would change to https://cocos.resonance.meetiqm.com/garnet:timeslot"
   ]
  },
  {
   "cell_type": "code",
   "execution_count": null,
   "id": "615aa00a-25d4-4972-9b46-0a55f9497155",
   "metadata": {},
   "outputs": [],
   "source": [
    "import os\n",
    "\n",
    "SERVER_URL_CRYSTAL = os.environ.get(\"IQM_RESONANCE_URL_CRYSTAL\", \"https://cocos.resonance.meetiqm.com/garnet:mock\")\n",
    "SERVER_URL_STAR = os.environ.get(\"IQM_RESONANCE_URL_STAR\", \"https://cocos.resonance.meetiqm.com/sirius:mock\")\n",
    "# If the token isn't saved in the environment, replace this by the token as a string.\n",
    "API_TOKEN = os.environ.get(\"IQM_RESONANCE_API_TOKEN\")"
   ]
  },
  {
   "cell_type": "markdown",
   "id": "215d5eb2-0efd-4567-98f3-40ce1b8d76ec",
   "metadata": {},
   "source": [
    "Create the QUBO QAOA instance from the problem instance and train it. The `train` method has several possible parameters, but here the default setting is used (which uses analytical formulas since the QAOA has one layer)."
   ]
  },
  {
   "cell_type": "code",
   "execution_count": null,
   "id": "1db33c01-039b-4938-a4eb-7535c55ddada",
   "metadata": {},
   "outputs": [],
   "source": [
    "my_qaoa = QUBOQAOA(problem=my_maxcut_problem, num_layers=1, initial_angles=[0.1, 0.2])\n",
    "my_qaoa.train()"
   ]
  },
  {
   "cell_type": "markdown",
   "id": "09c29a73-92ac-4965-bf65-c77f6780515a",
   "metadata": {},
   "source": [
    "Once the QAOA is trained, we can use the QPU to sample from it and to use the samples for estimating the expected value of the Hamiltonian.\n",
    "\n",
    "For that we need to define a *sampler* and an *estimator*. There are several other samplers and estimators available in the QAOA library. Here we use the sampler which samples from a given QPU (via Resonance) and the estimator which uses this sampler to provide samples from which the expected value of the Hamiltonian is calculated.\n",
    "\n",
    "We don't need the samples here for anything, so we'll discard them."
   ]
  },
  {
   "cell_type": "code",
   "execution_count": null,
   "id": "fecba204-fb3f-41e6-80fd-4e3affa9801a",
   "metadata": {},
   "outputs": [],
   "source": [
    "crystal_qpu_sampler = SamplerResonance(token=API_TOKEN, server_url=SERVER_URL_CRYSTAL, transpiler=\"SparseTranspiler\")\n",
    "crystal_qpu_estimator = EstimatorFromSampler(crystal_qpu_sampler, shots=shots)\n",
    "_ = my_qaoa.sample(crystal_qpu_sampler, shots=shots)  # This line is just to test if sampling works.\n",
    "energy_on_crystal = my_qaoa.estimate(crystal_qpu_estimator)\n",
    "print(\"Energy on crystal QPU:\", energy_on_crystal)"
   ]
  },
  {
   "cell_type": "markdown",
   "id": "7cfc166d-148a-40ea-9697-6b24f2f1fcb5",
   "metadata": {},
   "source": [
    "Same as the above, except on the star QPU."
   ]
  },
  {
   "cell_type": "code",
   "execution_count": null,
   "id": "feb7ef3f-9273-4266-b30e-8cc5e458d8f3",
   "metadata": {},
   "outputs": [],
   "source": [
    "star_qpu_sampler = SamplerResonance(token=API_TOKEN, server_url=SERVER_URL_STAR, transpiler=\"MinimumVertexCover\")\n",
    "star_qpu_estimator = EstimatorFromSampler(star_qpu_sampler, shots=shots)\n",
    "_ = my_qaoa.sample(star_qpu_sampler, shots=shots)  # This line is just to test if sampling works.\n",
    "energy_on_star = my_qaoa.estimate(star_qpu_estimator)\n",
    "print(\"Energy on star QPU:\", energy_on_star)"
   ]
  },
  {
   "cell_type": "markdown",
   "id": "0c35677a",
   "metadata": {},
   "source": [
    "Running circuits on the star uses fewer 2QB gates, but requires considerably larger circuit depth (because only one 2QB gate can be done at a time)."
   ]
  }
 ],
 "metadata": {
  "kernelspec": {
   "display_name": "Python 3 (ipykernel)",
   "language": "python",
   "name": "python3"
  },
  "language_info": {
   "codemirror_mode": {
    "name": "ipython",
    "version": 3
   },
   "file_extension": ".py",
   "mimetype": "text/x-python",
   "name": "python",
   "nbconvert_exporter": "python",
   "pygments_lexer": "ipython3",
   "version": "3.11.9"
  }
 },
 "nbformat": 4,
 "nbformat_minor": 5
}
