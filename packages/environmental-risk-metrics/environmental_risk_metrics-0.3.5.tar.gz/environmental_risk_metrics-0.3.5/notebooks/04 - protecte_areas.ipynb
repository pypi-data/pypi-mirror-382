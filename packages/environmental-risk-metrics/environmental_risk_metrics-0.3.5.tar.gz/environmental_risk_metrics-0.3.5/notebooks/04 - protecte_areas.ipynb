{
 "cells": [
  {
   "cell_type": "code",
   "execution_count": 2,
   "metadata": {},
   "outputs": [
    {
     "data": {
      "text/plain": [
       "[[{'name': 'Helmestausee Berga-Kelbra',\n",
       "   'distance_km': 84.66,\n",
       "   'description': \"Helmestausee Berga-Kelbra. 31/07/78; Thüringen, Sachsen-Anhalt; 1,453 ha; 51°26'N 011°00'E. Special Protection Area EC Directive; Landscape Protection Areas, Nature Protection Area, Protected Area for Waterfowl. Located in the Helme River floodplain, the site consists of a flood protection reservoir, associated reedbeds and frequently flooded wet meadows. The area includes saline springs and salt meadows surrounded by pasture and agricultural fields. The site is internationally important for wintering and staging several species of waterbirds. A few species of birds breed at the site and use the area for roosting. Human activities include intensive fish-farming, recreation and nature education. A bird observatory is located at the site. Ramsar site no. 176. Most recent RIS information: 2001.\",\n",
       "   'ramsar_id': 176},\n",
       "  {'name': 'Steinhuder Meer',\n",
       "   'distance_km': 214.35,\n",
       "   'description': \"Steinhuder Meer. 26/02/76; Niedersachsen; 5,730 ha; 52°28'N 009°20'E. Special Protection Area EC Directive, Nature Reserves. The largest inland lake in northern Germany, including remnants of raised bog and moorland. Situated in a glacial meltwater channel, the lake is thought to be fed by springs in its bed. Fringing vegetation consists of a broad reed belt. The site is internationally important for staging and wintering waterbirds, and is used by small numbers of various species of breeding birds. Human activities include peat extraction, water sports, and holiday home construction. Ramsar site no. 87.\",\n",
       "   'ramsar_id': 87},\n",
       "  {'name': 'Weser barrage',\n",
       "   'distance_km': 229.98,\n",
       "   'description': 'The Site extends along the River Weser from the Weser Barrage in the north to Windheim in the south west. It includes the riverbed and a floodplain area as well as adjacent farm land. The Site is one of the most important staging and wintering sites in the federal state of North Rhine-Westphalia for waterbirds such as whooper swan (Cygnus cygnus), greater white-fronted goose (Anser albifrons) and common goldeneye (Bucephala clangula). There have been changes in the farming of the land, with increased cultivation of maize and a general increase in farming intensity. Significant disturbance is also caused by recreational activities, hunting, fishing and military training, and intense shipping on the River Weser. The management plan that is being implemented includes some restoration measures.',\n",
       "   'ramsar_id': 278},\n",
       "  {'name': 'Diepholzer Moorniederung',\n",
       "   'distance_km': 262.12,\n",
       "   'description': \"Diepholzer Moorniederung. 26/02/76; Niedersachsen; 15,060 ha; 52°34'N 008°48'E. Special Protection Area EC Directive, Nature Reserves. A region of moor and peat bog on glacial sands. The raised bog areas are important for breeding and staging waterbirds. Human activities include peat extraction and drainage. Water-level management is being practiced to restore the natural raised bogs, and sheep grazing to aid the conservation of the moorlands. Ramsar site no. 86.\",\n",
       "   'ramsar_id': 86},\n",
       "  {'name': 'Dümmer',\n",
       "   'distance_km': 288.5,\n",
       "   'description': \"Dümmer. 26/02/76; Niedersachsen; 3,600 ha; 52°32'N 008°23'E. Special Protection Area EC Directive, Nature Reserve. A large lake in a glaciated valley, associated wetlands include peatbogs, inland dunes, dense reedbeds and sedge meadows. An internationally important area for breeding, passage and wintering waterbirds. Human activities have included drainage and cultivation of the peatlands. Currently the lake is used as a reservoir and experiences boat traffic, intensive fishing, and holiday home construction. Restoration measures consist of sediment removal, re-establishment of temporary flooding, and fishing and hunting restrictions. Ramsar site no. 85.\",\n",
       "   'ramsar_id': 85}],\n",
       " [{'name': 'Helmestausee Berga-Kelbra',\n",
       "   'distance_km': 84.66,\n",
       "   'description': \"Helmestausee Berga-Kelbra. 31/07/78; Thüringen, Sachsen-Anhalt; 1,453 ha; 51°26'N 011°00'E. Special Protection Area EC Directive; Landscape Protection Areas, Nature Protection Area, Protected Area for Waterfowl. Located in the Helme River floodplain, the site consists of a flood protection reservoir, associated reedbeds and frequently flooded wet meadows. The area includes saline springs and salt meadows surrounded by pasture and agricultural fields. The site is internationally important for wintering and staging several species of waterbirds. A few species of birds breed at the site and use the area for roosting. Human activities include intensive fish-farming, recreation and nature education. A bird observatory is located at the site. Ramsar site no. 176. Most recent RIS information: 2001.\",\n",
       "   'ramsar_id': 176},\n",
       "  {'name': 'Steinhuder Meer',\n",
       "   'distance_km': 214.35,\n",
       "   'description': \"Steinhuder Meer. 26/02/76; Niedersachsen; 5,730 ha; 52°28'N 009°20'E. Special Protection Area EC Directive, Nature Reserves. The largest inland lake in northern Germany, including remnants of raised bog and moorland. Situated in a glacial meltwater channel, the lake is thought to be fed by springs in its bed. Fringing vegetation consists of a broad reed belt. The site is internationally important for staging and wintering waterbirds, and is used by small numbers of various species of breeding birds. Human activities include peat extraction, water sports, and holiday home construction. Ramsar site no. 87.\",\n",
       "   'ramsar_id': 87},\n",
       "  {'name': 'Weser barrage',\n",
       "   'distance_km': 229.98,\n",
       "   'description': 'The Site extends along the River Weser from the Weser Barrage in the north to Windheim in the south west. It includes the riverbed and a floodplain area as well as adjacent farm land. The Site is one of the most important staging and wintering sites in the federal state of North Rhine-Westphalia for waterbirds such as whooper swan (Cygnus cygnus), greater white-fronted goose (Anser albifrons) and common goldeneye (Bucephala clangula). There have been changes in the farming of the land, with increased cultivation of maize and a general increase in farming intensity. Significant disturbance is also caused by recreational activities, hunting, fishing and military training, and intense shipping on the River Weser. The management plan that is being implemented includes some restoration measures.',\n",
       "   'ramsar_id': 278},\n",
       "  {'name': 'Diepholzer Moorniederung',\n",
       "   'distance_km': 262.12,\n",
       "   'description': \"Diepholzer Moorniederung. 26/02/76; Niedersachsen; 15,060 ha; 52°34'N 008°48'E. Special Protection Area EC Directive, Nature Reserves. A region of moor and peat bog on glacial sands. The raised bog areas are important for breeding and staging waterbirds. Human activities include peat extraction and drainage. Water-level management is being practiced to restore the natural raised bogs, and sheep grazing to aid the conservation of the moorlands. Ramsar site no. 86.\",\n",
       "   'ramsar_id': 86},\n",
       "  {'name': 'Dümmer',\n",
       "   'distance_km': 288.5,\n",
       "   'description': \"Dümmer. 26/02/76; Niedersachsen; 3,600 ha; 52°32'N 008°23'E. Special Protection Area EC Directive, Nature Reserve. A large lake in a glaciated valley, associated wetlands include peatbogs, inland dunes, dense reedbeds and sedge meadows. An internationally important area for breeding, passage and wintering waterbirds. Human activities have included drainage and cultivation of the peatlands. Currently the lake is used as a reservoir and experiences boat traffic, intensive fishing, and holiday home construction. Restoration measures consist of sediment removal, re-establishment of temporary flooding, and fishing and hunting restrictions. Ramsar site no. 85.\",\n",
       "   'ramsar_id': 85}]]"
      ]
     },
     "execution_count": 2,
     "metadata": {},
     "output_type": "execute_result"
    }
   ],
   "source": [
    "from environmental_risk_metrics import RamsarProtectedAreas\n",
    "import geopandas as gpd\n",
    "\n",
    "polygon = {\n",
    "    \"type\": \"Feature\",\n",
    "    \"properties\": {},\n",
    "    \"geometry\": {\n",
    "        \"coordinates\": [\n",
    "            [\n",
    "                [10.235198982658801, 51.42076009745068],\n",
    "                [10.236477278753114, 51.41697045550828],\n",
    "                [10.244461712820623, 51.41823370440062],\n",
    "                [10.242888425319222, 51.4220355049745],\n",
    "                [10.235198982658801, 51.42076009745068],\n",
    "            ]\n",
    "        ],\n",
    "        \"type\": \"Polygon\",\n",
    "    },\n",
    "}\n",
    "polygon_crs = \"EPSG:4326\"\n",
    "gdf = gpd.GeoDataFrame.from_features([polygon, polygon]).set_crs(\"EPSG:4326\")\n",
    "\n",
    "protected_areas = RamsarProtectedAreas(gdf=gdf)\n",
    "\n",
    "protected_areas.get_nearest_ramsar_sites(limit=5)"
   ]
  },
  {
   "cell_type": "code",
   "execution_count": 2,
   "metadata": {},
   "outputs": [
    {
     "data": {
      "application/vnd.jupyter.widget-view+json": {
       "model_id": "fee6e0ea484b41178efead209ec360c7",
       "version_major": 2,
       "version_minor": 0
      },
      "text/plain": [
       "Map(center=[51.41949046542482, 10.239770471704812], controls=(ZoomControl(options=['position', 'zoom_in_text',…"
      ]
     },
     "execution_count": 2,
     "metadata": {},
     "output_type": "execute_result"
    }
   ],
   "source": [
    "protected_areas.create_map(polygon, polygon_crs)"
   ]
  }
 ],
 "metadata": {
  "kernelspec": {
   "display_name": "farmon",
   "language": "python",
   "name": "python3"
  },
  "language_info": {
   "codemirror_mode": {
    "name": "ipython",
    "version": 3
   },
   "file_extension": ".py",
   "mimetype": "text/x-python",
   "name": "python",
   "nbconvert_exporter": "python",
   "pygments_lexer": "ipython3",
   "version": "3.10.15"
  }
 },
 "nbformat": 4,
 "nbformat_minor": 2
}
