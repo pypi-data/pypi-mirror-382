{
 "cells": [
  {
   "cell_type": "code",
   "execution_count": 2,
   "metadata": {},
   "outputs": [
    {
     "data": {
      "text/plain": [
       "[      kingdom            class               species iucnRedListCategory\n",
       " 0    Animalia         Mammalia      Sciurus vulgaris       Least Concern\n",
       " 1    Animalia             Aves           Buteo buteo       Least Concern\n",
       " 2       Fungi    Pezizomycetes    Morchella vulgaris       Not Evaluated\n",
       " 3    Animalia          Insecta         Osmia cornuta       Not Evaluated\n",
       " 4    Animalia             Aves         Picus viridis       Least Concern\n",
       " ..        ...              ...                   ...                 ...\n",
       " 287     Fungi  Sordariomycetes    Xylaria polymorpha       Not Evaluated\n",
       " 292   Plantae    Magnoliopsida  Campanula trachelium       Not Evaluated\n",
       " 294   Plantae    Magnoliopsida     Stachys palustris       Least Concern\n",
       " 295   Plantae    Magnoliopsida    Artemisia vulgaris       Not Evaluated\n",
       " 296   Plantae    Magnoliopsida      Mirabilis jalapa       Not Evaluated\n",
       " \n",
       " [197 rows x 4 columns],\n",
       "       kingdom            class               species iucnRedListCategory\n",
       " 0    Animalia         Mammalia      Sciurus vulgaris       Least Concern\n",
       " 1    Animalia             Aves           Buteo buteo       Least Concern\n",
       " 2       Fungi    Pezizomycetes    Morchella vulgaris       Not Evaluated\n",
       " 3    Animalia          Insecta         Osmia cornuta       Not Evaluated\n",
       " 4    Animalia             Aves         Picus viridis       Least Concern\n",
       " ..        ...              ...                   ...                 ...\n",
       " 287     Fungi  Sordariomycetes    Xylaria polymorpha       Not Evaluated\n",
       " 292   Plantae    Magnoliopsida  Campanula trachelium       Not Evaluated\n",
       " 294   Plantae    Magnoliopsida     Stachys palustris       Least Concern\n",
       " 295   Plantae    Magnoliopsida    Artemisia vulgaris       Not Evaluated\n",
       " 296   Plantae    Magnoliopsida      Mirabilis jalapa       Not Evaluated\n",
       " \n",
       " [197 rows x 4 columns]]"
      ]
     },
     "execution_count": 2,
     "metadata": {},
     "output_type": "execute_result"
    }
   ],
   "source": [
    "from environmental_risk_metrics import EndangeredSpecies\n",
    "import logging\n",
    "import geopandas as gpd\n",
    "\n",
    "# Configure logging to display in Jupyter\n",
    "logging.basicConfig(\n",
    "    level=logging.INFO,\n",
    "    format=\"%(asctime)s - %(name)s - %(levelname)s - %(message)s\",\n",
    "    force=True,  # This ensures the configuration is applied even if logging was previously configured\n",
    ")\n",
    "logger = logging.getLogger(__name__)\n",
    "\n",
    "\n",
    "polygon = {\n",
    "    \"type\": \"Feature\",\n",
    "    \"properties\": {},\n",
    "    \"geometry\": {\n",
    "        \"coordinates\": [\n",
    "            [\n",
    "                [10.235198982658801, 51.42076009745068],\n",
    "                [10.236477278753114, 51.41697045550828],\n",
    "                [10.244461712820623, 51.41823370440062],\n",
    "                [10.242888425319222, 51.4220355049745],\n",
    "                [10.235198982658801, 51.42076009745068],\n",
    "            ]\n",
    "        ],\n",
    "        \"type\": \"Polygon\",\n",
    "    },\n",
    "}\n",
    "\n",
    "crs = \"EPSG:4326\"\n",
    "gdf = gpd.GeoDataFrame.from_features([polygon, polygon], crs=crs)\n",
    "endangered_species = EndangeredSpecies(gdf)\n",
    "\n",
    "endangered_species.get_species_stats(buffer_meters=10000)\n"
   ]
  }
 ],
 "metadata": {
  "kernelspec": {
   "display_name": ".venv",
   "language": "python",
   "name": "python3"
  },
  "language_info": {
   "codemirror_mode": {
    "name": "ipython",
    "version": 3
   },
   "file_extension": ".py",
   "mimetype": "text/x-python",
   "name": "python",
   "nbconvert_exporter": "python",
   "pygments_lexer": "ipython3",
   "version": "3.10.15"
  }
 },
 "nbformat": 4,
 "nbformat_minor": 2
}
