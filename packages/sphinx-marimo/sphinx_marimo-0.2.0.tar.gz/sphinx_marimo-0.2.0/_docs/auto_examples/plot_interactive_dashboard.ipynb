{
  "cells": [
    {
      "cell_type": "markdown",
      "metadata": {},
      "source": [
        "\n# Interactive Data Dashboard\n\nThis example shows how to create an interactive data dashboard. The static\nversion shows the final result, while the Marimo version allows full interaction.\n"
      ]
    },
    {
      "cell_type": "code",
      "execution_count": null,
      "metadata": {
        "collapsed": false
      },
      "outputs": [],
      "source": [
        "import matplotlib.pyplot as plt\nimport numpy as np\n\n# Generate sample data\nnp.random.seed(42)\ndates = np.arange('2023-01', '2024-01', dtype='datetime64[M]')\nrevenue = np.random.normal(100000, 15000, len(dates)).cumsum()\nusers = np.random.normal(5000, 500, len(dates)).cumsum()\nconversion_rate = np.random.normal(0.05, 0.01, len(dates))\nconversion_rate = np.clip(conversion_rate, 0.01, 0.1)  # Keep realistic\n\n# Create dashboard layout\nfig, ((ax1, ax2), (ax3, ax4)) = plt.subplots(2, 2, figsize=(15, 10))\n\n# Revenue over time\nax1.plot(dates, revenue, 'b-', linewidth=3, marker='o')\nax1.set_title('Monthly Revenue ($)', fontsize=14, fontweight='bold')\nax1.set_ylabel('Revenue')\nax1.grid(True, alpha=0.3)\nax1.tick_params(axis='x', rotation=45)\n\n# User growth\nax2.plot(dates, users, 'g-', linewidth=3, marker='s')\nax2.set_title('User Growth', fontsize=14, fontweight='bold')\nax2.set_ylabel('Total Users')\nax2.grid(True, alpha=0.3)\nax2.tick_params(axis='x', rotation=45)\n\n# Conversion rate\nax3.bar(dates, conversion_rate * 100, color='orange', alpha=0.7)\nax3.set_title('Conversion Rate (%)', fontsize=14, fontweight='bold')\nax3.set_ylabel('Conversion %')\nax3.grid(True, alpha=0.3)\nax3.tick_params(axis='x', rotation=45)\n\n# Revenue per user\nrevenue_per_user = revenue / users\nax4.plot(dates, revenue_per_user, 'r-', linewidth=3, marker='^')\nax4.set_title('Revenue per User ($)', fontsize=14, fontweight='bold')\nax4.set_ylabel('$ per User')\nax4.grid(True, alpha=0.3)\nax4.tick_params(axis='x', rotation=45)\n\nplt.tight_layout()\nplt.show()\n\n# Summary statistics\nprint(\"=== Dashboard Summary ===\")\nprint(f\"Total Revenue: ${revenue[-1]:,.2f}\")\nprint(f\"Total Users: {users[-1]:,.0f}\")\nprint(f\"Current Conversion Rate: {conversion_rate[-1]*100:.1f}%\")\nprint(f\"Revenue per User: ${revenue_per_user[-1]:.2f}\")\nprint(\"\\n\ud83d\udca1 Launch in Marimo to add interactive filters, date ranges, and real-time updates!\")"
      ]
    }
  ],
  "metadata": {
    "kernelspec": {
      "display_name": "Python 3",
      "language": "python",
      "name": "python3"
    },
    "language_info": {
      "codemirror_mode": {
        "name": "ipython",
        "version": 3
      },
      "file_extension": ".py",
      "mimetype": "text/x-python",
      "name": "python",
      "nbconvert_exporter": "python",
      "pygments_lexer": "ipython3",
      "version": "3.12.9"
    }
  },
  "nbformat": 4,
  "nbformat_minor": 0
}