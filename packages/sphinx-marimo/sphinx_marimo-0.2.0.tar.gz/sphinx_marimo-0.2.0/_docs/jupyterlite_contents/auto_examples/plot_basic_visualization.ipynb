{
  "cells": [
    {
      "cell_type": "markdown",
      "metadata": {},
      "source": [
        "\n# Basic Data Visualization\n\nThis example demonstrates creating basic plots with interactive elements that will\nwork both in the static Gallery view and when launched in Marimo.\n"
      ]
    },
    {
      "cell_type": "code",
      "execution_count": null,
      "metadata": {
        "collapsed": false
      },
      "outputs": [],
      "source": [
        "import matplotlib.pyplot as plt\nimport numpy as np\n\n# Create data\nx = np.linspace(0, 4 * np.pi, 100)\ny1 = np.sin(x)\ny2 = np.cos(x)\ny3 = np.sin(x) * np.cos(x)\n\n# Create the plot\nfig, (ax1, ax2) = plt.subplots(2, 1, figsize=(10, 8))\n\n# First subplot - sine and cosine\nax1.plot(x, y1, 'b-', linewidth=2, label='sin(x)')\nax1.plot(x, y2, 'r-', linewidth=2, label='cos(x)')\nax1.set_title('Trigonometric Functions')\nax1.set_xlabel('x')\nax1.set_ylabel('y')\nax1.legend()\nax1.grid(True, alpha=0.3)\n\n# Second subplot - product\nax2.plot(x, y3, 'g-', linewidth=2, label='sin(x) \u00d7 cos(x)')\nax2.set_title('Product of Sine and Cosine')\nax2.set_xlabel('x')\nax2.set_ylabel('y')\nax2.legend()\nax2.grid(True, alpha=0.3)\n\nplt.tight_layout()\nplt.show()\n\n# When this runs in Marimo, users could add interactive sliders to control\n# frequency, amplitude, or phase of the waves\nprint(\"Interactive version available via 'launch marimo' button!\")"
      ]
    }
  ],
  "metadata": {
    "kernelspec": {
      "display_name": "Python 3",
      "language": "python",
      "name": "python3"
    },
    "language_info": {
      "codemirror_mode": {
        "name": "ipython",
        "version": 3
      },
      "file_extension": ".py",
      "mimetype": "text/x-python",
      "name": "python",
      "nbconvert_exporter": "python",
      "pygments_lexer": "ipython3",
      "version": "3.12.9"
    }
  },
  "nbformat": 4,
  "nbformat_minor": 0
}