{
  "cells": [
    {
      "cell_type": "markdown",
      "metadata": {},
      "source": [
        "\n# Machine Learning Visualization\n\nThis example demonstrates a simple machine learning workflow with visualization.\nThe Marimo version allows interactive parameter tuning and real-time updates.\n"
      ]
    },
    {
      "cell_type": "code",
      "execution_count": null,
      "metadata": {
        "collapsed": false
      },
      "outputs": [],
      "source": [
        "import matplotlib.pyplot as plt\nimport numpy as np\nfrom sklearn.datasets import make_classification\nfrom sklearn.model_selection import train_test_split\nfrom sklearn.ensemble import RandomForestClassifier\nfrom sklearn.metrics import accuracy_score, classification_report\n\n# Generate synthetic dataset\nprint(\"Generating synthetic classification dataset...\")\nX, y = make_classification(\n    n_samples=1000,\n    n_features=2,\n    n_redundant=0,\n    n_informative=2,\n    n_clusters_per_class=1,\n    n_classes=3,\n    random_state=42\n)\n\n# Split the data\nX_train, X_test, y_train, y_test = train_test_split(\n    X, y, test_size=0.3, random_state=42\n)\n\n# Train model\nprint(\"Training Random Forest classifier...\")\nmodel = RandomForestClassifier(n_estimators=100, random_state=42)\nmodel.fit(X_train, y_train)\n\n# Make predictions\ny_pred = model.predict(X_test)\naccuracy = accuracy_score(y_test, y_pred)\n\n# Create visualization\nfig, ((ax1, ax2), (ax3, ax4)) = plt.subplots(2, 2, figsize=(15, 12))\n\n# Original dataset\ncolors = ['red', 'blue', 'green']\nfor i, color in enumerate(colors):\n    mask = y == i\n    ax1.scatter(X[mask, 0], X[mask, 1], c=color, alpha=0.6, label=f'Class {i}')\nax1.set_title('Original Dataset', fontsize=14, fontweight='bold')\nax1.legend()\nax1.grid(True, alpha=0.3)\n\n# Training set\nfor i, color in enumerate(colors):\n    mask = y_train == i\n    ax2.scatter(X_train[mask, 0], X_train[mask, 1], c=color, alpha=0.6, label=f'Class {i}')\nax2.set_title('Training Set', fontsize=14, fontweight='bold')\nax2.legend()\nax2.grid(True, alpha=0.3)\n\n# Test set with predictions\nfor i, color in enumerate(colors):\n    mask = y_test == i\n    ax3.scatter(X_test[mask, 0], X_test[mask, 1], c=color, alpha=0.6,\n               marker='o', s=50, label=f'True Class {i}')\n\n    mask_pred = y_pred == i\n    ax3.scatter(X_test[mask_pred, 0], X_test[mask_pred, 1], c=color, alpha=0.3,\n               marker='x', s=100, label=f'Pred Class {i}')\n\nax3.set_title(f'Test Set: True vs Predicted (Accuracy: {accuracy:.2f})',\n              fontsize=14, fontweight='bold')\nax3.legend()\nax3.grid(True, alpha=0.3)\n\n# Feature importance\nfeature_names = ['Feature 1', 'Feature 2']\nimportances = model.feature_importances_\nax4.bar(feature_names, importances, color=['skyblue', 'lightcoral'])\nax4.set_title('Feature Importance', fontsize=14, fontweight='bold')\nax4.set_ylabel('Importance')\nax4.grid(True, alpha=0.3)\n\nplt.tight_layout()\nplt.show()\n\n# Print results\nprint(\"\\n=== Model Performance ===\")\nprint(f\"Accuracy: {accuracy:.3f}\")\nprint(f\"Feature Importances:\")\nfor name, importance in zip(feature_names, importances):\n    print(f\"  {name}: {importance:.3f}\")\n\nprint(f\"\\nDetailed Classification Report:\")\nprint(classification_report(y_test, y_pred))\n\nprint(\"\\n\ud83d\ude80 Launch in Marimo to:\")\nprint(\"   \u2022 Adjust model parameters interactively\")\nprint(\"   \u2022 Try different algorithms\")\nprint(\"   \u2022 Modify dataset parameters\")\nprint(\"   \u2022 See real-time performance updates\")"
      ]
    }
  ],
  "metadata": {
    "kernelspec": {
      "display_name": "Python 3",
      "language": "python",
      "name": "python3"
    },
    "language_info": {
      "codemirror_mode": {
        "name": "ipython",
        "version": 3
      },
      "file_extension": ".py",
      "mimetype": "text/x-python",
      "name": "python",
      "nbconvert_exporter": "python",
      "pygments_lexer": "ipython3",
      "version": "3.12.9"
    }
  },
  "nbformat": 4,
  "nbformat_minor": 0
}